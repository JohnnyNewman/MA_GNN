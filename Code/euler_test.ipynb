{
 "cells": [
  {
   "cell_type": "code",
   "execution_count": 1,
   "metadata": {},
   "outputs": [],
   "source": [
    "import torch\n",
    "import torch.nn.functional as F"
   ]
  },
  {
   "cell_type": "code",
   "execution_count": 2,
   "metadata": {},
   "outputs": [],
   "source": [
    "import matplotlib.pyplot as plt\n",
    "import numpy as np\n",
    "from scipy import sparse\n",
    "import scipy.sparse.linalg\n",
    "from scipy.spatial import Delaunay\n",
    "from scipy.interpolate import LinearNDInterpolator\n",
    "\n",
    "import os\n",
    "from itertools import chain, islice"
   ]
  },
  {
   "cell_type": "code",
   "execution_count": 3,
   "metadata": {},
   "outputs": [],
   "source": [
    "import pyvista"
   ]
  },
  {
   "cell_type": "code",
   "execution_count": 4,
   "metadata": {},
   "outputs": [],
   "source": [
    "sp = torch.nn.functional.softplus\n",
    "relu = torch.nn.functional.relu\n"
   ]
  },
  {
   "cell_type": "code",
   "execution_count": 5,
   "metadata": {},
   "outputs": [],
   "source": [
    "x = torch.randn((1000,100))"
   ]
  },
  {
   "cell_type": "code",
   "execution_count": 6,
   "metadata": {},
   "outputs": [],
   "source": [
    "x_gpu = x.cuda()"
   ]
  },
  {
   "cell_type": "code",
   "execution_count": 7,
   "metadata": {},
   "outputs": [
    {
     "name": "stdout",
     "output_type": "stream",
     "text": [
      "86.4 µs ± 5.02 µs per loop (mean ± std. dev. of 7 runs, 10,000 loops each)\n"
     ]
    }
   ],
   "source": [
    "%timeit y1 = sp(x)"
   ]
  },
  {
   "cell_type": "code",
   "execution_count": 8,
   "metadata": {},
   "outputs": [
    {
     "name": "stdout",
     "output_type": "stream",
     "text": [
      "8.18 µs ± 842 ns per loop (mean ± std. dev. of 7 runs, 100,000 loops each)\n"
     ]
    }
   ],
   "source": [
    "%timeit y2 = F.relu(x)"
   ]
  },
  {
   "cell_type": "code",
   "execution_count": 9,
   "metadata": {},
   "outputs": [
    {
     "name": "stderr",
     "output_type": "stream",
     "text": [
      "/home/nils/miniconda3/envs/ma_gnn_test/lib/python3.8/site-packages/torch/nn/functional.py:1933: UserWarning: nn.functional.tanh is deprecated. Use torch.tanh instead.\n",
      "  warnings.warn(\"nn.functional.tanh is deprecated. Use torch.tanh instead.\")\n"
     ]
    },
    {
     "name": "stdout",
     "output_type": "stream",
     "text": [
      "62.8 µs ± 2.11 µs per loop (mean ± std. dev. of 7 runs, 10,000 loops each)\n"
     ]
    }
   ],
   "source": [
    "%timeit y3 = F.tanh(x)"
   ]
  },
  {
   "cell_type": "code",
   "execution_count": 10,
   "metadata": {},
   "outputs": [
    {
     "name": "stderr",
     "output_type": "stream",
     "text": [
      "/home/nils/miniconda3/envs/ma_gnn_test/lib/python3.8/site-packages/torch/nn/functional.py:1944: UserWarning: nn.functional.sigmoid is deprecated. Use torch.sigmoid instead.\n",
      "  warnings.warn(\"nn.functional.sigmoid is deprecated. Use torch.sigmoid instead.\")\n"
     ]
    },
    {
     "name": "stdout",
     "output_type": "stream",
     "text": [
      "30.7 µs ± 1.81 µs per loop (mean ± std. dev. of 7 runs, 10,000 loops each)\n"
     ]
    }
   ],
   "source": [
    "%timeit y4 = F.sigmoid(x)"
   ]
  },
  {
   "cell_type": "code",
   "execution_count": 11,
   "metadata": {},
   "outputs": [
    {
     "name": "stdout",
     "output_type": "stream",
     "text": [
      "60.4 µs ± 2.47 µs per loop (mean ± std. dev. of 7 runs, 10,000 loops each)\n"
     ]
    }
   ],
   "source": [
    "%timeit y5 = torch.tanh(x)"
   ]
  },
  {
   "cell_type": "code",
   "execution_count": 12,
   "metadata": {},
   "outputs": [
    {
     "name": "stdout",
     "output_type": "stream",
     "text": [
      "9.32 µs ± 1.4 µs per loop (mean ± std. dev. of 7 runs, 100,000 loops each)\n"
     ]
    }
   ],
   "source": [
    "%timeit y5 = torch.tanh(x_gpu)"
   ]
  },
  {
   "cell_type": "code",
   "execution_count": 13,
   "metadata": {},
   "outputs": [],
   "source": [
    "y5 = torch.tanh(x)\n",
    "#plt.hist(y5.reshape(-1), bins=100)"
   ]
  },
  {
   "cell_type": "code",
   "execution_count": null,
   "metadata": {},
   "outputs": [],
   "source": []
  },
  {
   "cell_type": "code",
   "execution_count": null,
   "metadata": {},
   "outputs": [],
   "source": []
  },
  {
   "cell_type": "code",
   "execution_count": 14,
   "metadata": {},
   "outputs": [],
   "source": [
    "data_dir = \"../Data/Inc_Inviscid_Hydrofoil\""
   ]
  },
  {
   "cell_type": "code",
   "execution_count": 15,
   "metadata": {},
   "outputs": [],
   "source": [
    "mesh_filename = \"mesh_NACA0012_5deg_6814.su2\"\n",
    "#mesh = pyvista.read_meshio(os.path.join(data_dir, mesh_filename))"
   ]
  },
  {
   "cell_type": "code",
   "execution_count": 16,
   "metadata": {},
   "outputs": [
    {
     "data": {
      "text/plain": [
       "10674"
      ]
     },
     "execution_count": 16,
     "metadata": {},
     "output_type": "execute_result"
    }
   ],
   "source": [
    "3558*3"
   ]
  },
  {
   "cell_type": "code",
   "execution_count": 17,
   "metadata": {},
   "outputs": [],
   "source": [
    "result_filename = \"flow.vtu\"\n",
    "flow = pyvista.read(os.path.join(data_dir, result_filename))"
   ]
  },
  {
   "cell_type": "code",
   "execution_count": null,
   "metadata": {},
   "outputs": [],
   "source": []
  },
  {
   "cell_type": "code",
   "execution_count": 18,
   "metadata": {},
   "outputs": [
    {
     "data": {
      "text/plain": [
       "NoneType"
      ]
     },
     "execution_count": 18,
     "metadata": {},
     "output_type": "execute_result"
    }
   ],
   "source": [
    "pd = flow.GetPointData()\n",
    "ida=pd.GetGlobalIds()\n",
    "type(ida)"
   ]
  },
  {
   "cell_type": "code",
   "execution_count": 19,
   "metadata": {},
   "outputs": [
    {
     "data": {
      "text/plain": [
       "pyvista DataSetAttributes\n",
       "Association     : POINT\n",
       "Active Scalars  : None\n",
       "Active Vectors  : None\n",
       "Active Texture  : None\n",
       "Active Normals  : None\n",
       "Contains arrays :\n",
       "    Pressure                float32  (3559,)\n",
       "    Velocity                float32  (3559, 3)\n",
       "    Pressure_Coefficient    float32  (3559,)\n",
       "    Density                 float32  (3559,)"
      ]
     },
     "execution_count": 19,
     "metadata": {},
     "output_type": "execute_result"
    }
   ],
   "source": [
    "flow.point_data"
   ]
  },
  {
   "cell_type": "code",
   "execution_count": null,
   "metadata": {},
   "outputs": [],
   "source": []
  },
  {
   "cell_type": "code",
   "execution_count": 20,
   "metadata": {},
   "outputs": [
    {
     "data": {
      "text/html": [
       "<pre style=\"white-space:pre;overflow-x:auto;line-height:normal;font-family:Menlo,'DejaVu Sans Mono',consolas,'Courier New',monospace\"><span style=\"color: #808000; text-decoration-color: #808000; font-weight: bold\">Warning:</span><span style=\"color: #808000; text-decoration-color: #808000\"> meshio does not support tags of string type.</span>\n",
       "<span style=\"color: #808000; text-decoration-color: #808000\">    Surface tag  airfoil will be replaced by </span><span style=\"color: #808000; text-decoration-color: #808000; font-weight: bold\">1</span>\n",
       "</pre>\n"
      ],
      "text/plain": [
       "\u001b[1;33mWarning:\u001b[0m\u001b[33m meshio does not support tags of string type.\u001b[0m\n",
       "\u001b[33m    Surface tag  airfoil will be replaced by \u001b[0m\u001b[1;33m1\u001b[0m\n"
      ]
     },
     "metadata": {},
     "output_type": "display_data"
    },
    {
     "data": {
      "text/html": [
       "<pre style=\"white-space:pre;overflow-x:auto;line-height:normal;font-family:Menlo,'DejaVu Sans Mono',consolas,'Courier New',monospace\"><span style=\"color: #808000; text-decoration-color: #808000; font-weight: bold\">Warning:</span><span style=\"color: #808000; text-decoration-color: #808000\"> meshio does not support tags of string type.</span>\n",
       "<span style=\"color: #808000; text-decoration-color: #808000\">    Surface tag  lower_wall will be replaced by </span><span style=\"color: #808000; text-decoration-color: #808000; font-weight: bold\">2</span>\n",
       "</pre>\n"
      ],
      "text/plain": [
       "\u001b[1;33mWarning:\u001b[0m\u001b[33m meshio does not support tags of string type.\u001b[0m\n",
       "\u001b[33m    Surface tag  lower_wall will be replaced by \u001b[0m\u001b[1;33m2\u001b[0m\n"
      ]
     },
     "metadata": {},
     "output_type": "display_data"
    },
    {
     "data": {
      "text/html": [
       "<pre style=\"white-space:pre;overflow-x:auto;line-height:normal;font-family:Menlo,'DejaVu Sans Mono',consolas,'Courier New',monospace\"><span style=\"color: #808000; text-decoration-color: #808000; font-weight: bold\">Warning:</span><span style=\"color: #808000; text-decoration-color: #808000\"> meshio does not support tags of string type.</span>\n",
       "<span style=\"color: #808000; text-decoration-color: #808000\">    Surface tag  inlet will be replaced by </span><span style=\"color: #808000; text-decoration-color: #808000; font-weight: bold\">3</span>\n",
       "</pre>\n"
      ],
      "text/plain": [
       "\u001b[1;33mWarning:\u001b[0m\u001b[33m meshio does not support tags of string type.\u001b[0m\n",
       "\u001b[33m    Surface tag  inlet will be replaced by \u001b[0m\u001b[1;33m3\u001b[0m\n"
      ]
     },
     "metadata": {},
     "output_type": "display_data"
    },
    {
     "data": {
      "text/html": [
       "<pre style=\"white-space:pre;overflow-x:auto;line-height:normal;font-family:Menlo,'DejaVu Sans Mono',consolas,'Courier New',monospace\"><span style=\"color: #808000; text-decoration-color: #808000; font-weight: bold\">Warning:</span><span style=\"color: #808000; text-decoration-color: #808000\"> meshio does not support tags of string type.</span>\n",
       "<span style=\"color: #808000; text-decoration-color: #808000\">    Surface tag  outlet will be replaced by </span><span style=\"color: #808000; text-decoration-color: #808000; font-weight: bold\">4</span>\n",
       "</pre>\n"
      ],
      "text/plain": [
       "\u001b[1;33mWarning:\u001b[0m\u001b[33m meshio does not support tags of string type.\u001b[0m\n",
       "\u001b[33m    Surface tag  outlet will be replaced by \u001b[0m\u001b[1;33m4\u001b[0m\n"
      ]
     },
     "metadata": {},
     "output_type": "display_data"
    },
    {
     "data": {
      "text/html": [
       "<pre style=\"white-space:pre;overflow-x:auto;line-height:normal;font-family:Menlo,'DejaVu Sans Mono',consolas,'Courier New',monospace\"><span style=\"color: #808000; text-decoration-color: #808000; font-weight: bold\">Warning:</span><span style=\"color: #808000; text-decoration-color: #808000\"> meshio does not support tags of string type.</span>\n",
       "<span style=\"color: #808000; text-decoration-color: #808000\">    Surface tag  upper_wall will be replaced by </span><span style=\"color: #808000; text-decoration-color: #808000; font-weight: bold\">5</span>\n",
       "</pre>\n"
      ],
      "text/plain": [
       "\u001b[1;33mWarning:\u001b[0m\u001b[33m meshio does not support tags of string type.\u001b[0m\n",
       "\u001b[33m    Surface tag  upper_wall will be replaced by \u001b[0m\u001b[1;33m5\u001b[0m\n"
      ]
     },
     "metadata": {},
     "output_type": "display_data"
    }
   ],
   "source": [
    "from meshio._common import _pick_first_int_data, warn\n",
    "from meshio._exceptions import ReadError\n",
    "from meshio._files import open_file\n",
    "from meshio._helpers import register_format\n",
    "from meshio._mesh import CellBlock, Mesh\n",
    "\n",
    "su2_type_to_numnodes = {\n",
    "    3: 2,  # line\n",
    "    5: 3,  # triangle\n",
    "    9: 4,  # quad\n",
    "    10: 4,  # tetra\n",
    "    12: 8,  # hexahedron\n",
    "    13: 6,  # wedge\n",
    "    14: 5,  # pyramid\n",
    "}\n",
    "su2_to_meshio_type = {\n",
    "    3: \"line\",\n",
    "    5: \"triangle\",\n",
    "    9: \"quad\",\n",
    "    10: \"tetra\",\n",
    "    12: \"hexahedron\",\n",
    "    13: \"wedge\",\n",
    "    14: \"pyramid\",\n",
    "}\n",
    "meshio_to_su2_type = {\n",
    "    \"line\": 3,\n",
    "    \"triangle\": 5,\n",
    "    \"quad\": 9,\n",
    "    \"tetra\": 10,\n",
    "    \"hexahedron\": 12,\n",
    "    \"wedge\": 13,\n",
    "    \"pyramid\": 14,\n",
    "}\n",
    "\n",
    "def read_su2_mesh(filename):\n",
    "\n",
    "    with open_file(filename, \"r\") as f:\n",
    "        mesh = read_su2_mesh_buffer(f)\n",
    "    return mesh\n",
    "\n",
    "def read_su2_mesh_buffer(f):\n",
    "    cells = []\n",
    "    cell_data = {\"su2:tag\": []}\n",
    "\n",
    "    point_data = {\"PointID\": []}\n",
    "\n",
    "    itype = \"i8\"\n",
    "    ftype = \"f8\"\n",
    "    ftype = \"double\"\n",
    "    dim = 0\n",
    "\n",
    "    next_tag_id = 0\n",
    "    expected_nmarkers = 0\n",
    "    markers_found = 0\n",
    "    while True:\n",
    "        line = f.readline()\n",
    "        if not line:\n",
    "            # EOF\n",
    "            break\n",
    "\n",
    "        line = line.strip()\n",
    "        if len(line) == 0:\n",
    "            continue\n",
    "        if line[0] == \"%\":\n",
    "            continue\n",
    "\n",
    "        try:\n",
    "            name, rest_of_line = line.split(\"=\")\n",
    "        except ValueError:\n",
    "            print(f\"meshio could not parse line\\n {line}\\n skipping.....\")\n",
    "            continue\n",
    "\n",
    "        if name == \"NDIME\":\n",
    "            dim = int(rest_of_line)\n",
    "            if dim != 2 and dim != 3:\n",
    "                raise ValueError(f\"Invalid dimension value {line}\")\n",
    "\n",
    "        elif name == \"NPOIN\":\n",
    "            # according to documentation rest_of_line should just be a int,\n",
    "            # and the next block should be just the coordinates of the points\n",
    "            # However, some file have one or two extra indices not related to the\n",
    "            # actual coordinates.\n",
    "            # So lets read the next line to find its actual number of columns\n",
    "            #\n",
    "            first_line = f.readline()\n",
    "            first_line = first_line.split()\n",
    "            # print(first_line)\n",
    "            first_line = np.array(first_line, dtype=ftype)\n",
    "            # print(first_line)\n",
    "\n",
    "            extra_columns = first_line.shape[0] - dim\n",
    "\n",
    "            num_verts = int(rest_of_line.split()[0]) - 1\n",
    "            # print(num_verts, num_verts * (dim + extra_columns))\n",
    "            # # points = np.fromfile(\n",
    "            # #     f, count=num_verts * (dim + extra_columns), dtype=ftype, sep=\" \"\n",
    "            # # )\n",
    "            # points = np.fromfile(f, count=10671, sep=\" \")\n",
    "            # print(points[:150].reshape(-1, 3))\n",
    "            # print(points[-9:].reshape(-1, 3))\n",
    "            # print(points.shape)\n",
    "            \n",
    "            #return points\n",
    "\n",
    "            point_lines = \"\"\n",
    "            for i in range(num_verts):\n",
    "                point_lines += f.readline()\n",
    "            \n",
    "            points = np.fromstring(point_lines, dtype=ftype, sep=\" \")            \n",
    "\n",
    "\n",
    "            points = points.reshape(num_verts, dim + extra_columns)\n",
    "\n",
    "            # # save off any extra info\n",
    "            # if extra_columns > 0:\n",
    "            #     first_line = first_line[:-extra_columns]\n",
    "            #     points = points[:, :-extra_columns]\n",
    "\n",
    "            # add the first line we read separately\n",
    "            points = np.vstack([first_line, points])\n",
    "            \n",
    "            if extra_columns > 0:\n",
    "                point_ids = points[:,-1].copy().astype(int)\n",
    "                point_data[\"PointID\"] = point_ids\n",
    "                # for i in point_ids:\n",
    "                #     point_data[\"PointID\"].append(i)\n",
    "                points = points[:, :-extra_columns]\n",
    "\n",
    "        elif name == \"NELEM\" or name == \"MARKER_ELEMS\":\n",
    "            # we cannot? read at once using numpy because we do not know the\n",
    "            # total size. Read, instead next num_elems as is and re-use the\n",
    "            # translate_cells function from vtk reader\n",
    "\n",
    "            num_elems = int(rest_of_line)\n",
    "            gen = islice(f, num_elems)\n",
    "\n",
    "            # some files has an extra int column while other not\n",
    "            # We do not need it so make sure we will skip it\n",
    "            first_line_str = next(gen)\n",
    "            first_line = first_line_str.split()\n",
    "            nnodes = su2_type_to_numnodes[int(first_line[0])]\n",
    "            has_extra_column = False\n",
    "            if nnodes + 1 == len(first_line):\n",
    "                has_extra_column = False\n",
    "            elif nnodes + 2 == len(first_line):\n",
    "                has_extra_column = True\n",
    "            else:\n",
    "                raise ReadError(f\"Invalid number of columns for {name} field\")\n",
    "\n",
    "            # reset generator\n",
    "            gen = chain([first_line_str], gen)\n",
    "\n",
    "            cell_array = \" \".join([line.rstrip(\"\\n\") for line in gen])\n",
    "            cell_array = np.fromiter(cell_array.split(), dtype=itype)\n",
    "\n",
    "            # print(\"cell_array:\", cell_array)\n",
    "\n",
    "            cells_, _ = _translate_cells(cell_array, has_extra_column)\n",
    "\n",
    "            # print(\"cells:\", cells_)\n",
    "\n",
    "            for eltype, data in cells_.items():\n",
    "                cells.append(CellBlock(eltype, data))\n",
    "                num_block_elems = len(data)\n",
    "                if name == \"NELEM\":\n",
    "                    cell_data[\"su2:tag\"].append(\n",
    "                        np.full(num_block_elems, 0, dtype=np.int32)\n",
    "                    )\n",
    "                else:\n",
    "                    tags = np.full(num_block_elems, next_tag_id, dtype=np.int32)\n",
    "                    cell_data[\"su2:tag\"].append(tags)\n",
    "\n",
    "        elif name == \"NMARK\":\n",
    "            expected_nmarkers = int(rest_of_line)\n",
    "        elif name == \"MARKER_TAG\":\n",
    "            next_tag = rest_of_line\n",
    "            try:\n",
    "                next_tag_id = int(next_tag)\n",
    "            except ValueError:\n",
    "                next_tag_id += 1\n",
    "                warn(\n",
    "                    \"meshio does not support tags of string type.\\n\"\n",
    "                    f\"    Surface tag {rest_of_line} will be replaced by {next_tag_id}\"\n",
    "                )\n",
    "            markers_found += 1\n",
    "\n",
    "    if markers_found != expected_nmarkers:\n",
    "        warn(\n",
    "            f\"expected {expected_nmarkers} markers according to NMARK value \"\n",
    "            f\"but found only {markers_found}\"\n",
    "        )\n",
    "\n",
    "    # merge boundary elements in a single cellblock per cell type\n",
    "    if dim == 2:\n",
    "        types = [\"line\"]\n",
    "    else:\n",
    "        types = [\"triangle\", \"quad\"]\n",
    "\n",
    "    indices_to_merge = {}\n",
    "    for t in types:\n",
    "        indices_to_merge[t] = []\n",
    "\n",
    "    for index, cell_block in enumerate(cells):\n",
    "        if cell_block.type in types:\n",
    "            indices_to_merge[cell_block.type].append(index)\n",
    "\n",
    "    cdata = cell_data[\"su2:tag\"]\n",
    "    for type, indices in indices_to_merge.items():\n",
    "        if len(indices) > 1:\n",
    "            cells[indices[0]] = CellBlock(\n",
    "                type, np.concatenate([cells[i].data for i in indices])\n",
    "            )\n",
    "            cdata[indices[0]] = np.concatenate([cdata[i] for i in indices])\n",
    "\n",
    "    # delete merged blocks\n",
    "    idelete = []\n",
    "    for type, indices in indices_to_merge.items():\n",
    "        idelete += indices[1:]\n",
    "\n",
    "    for i in sorted(idelete, reverse=True):\n",
    "        del cells[i]\n",
    "        del cdata[i]\n",
    "\n",
    "    cell_data[\"su2:tag\"] = cdata\n",
    "    return Mesh(points, cells, cell_data=cell_data, point_data=point_data)\n",
    "\n",
    "def _translate_cells(data, has_extra_column=False):\n",
    "    # adapted from _vtk.py\n",
    "    # Translate input array  into the cells dictionary.\n",
    "    # `data` is a one-dimensional vector with\n",
    "    # (vtk cell type, p0, p1, ... ,pk, vtk cell type, p10, p11, ..., p1k, ...\n",
    "\n",
    "    entry_offset = 1\n",
    "    if has_extra_column:\n",
    "        entry_offset += 1\n",
    "\n",
    "    # Collect types into bins.\n",
    "    # See <https://stackoverflow.com/q/47310359/353337> for better\n",
    "    # alternatives.\n",
    "    types = []\n",
    "    i = 0\n",
    "    while i < len(data):\n",
    "        types.append(data[i])\n",
    "        i += su2_type_to_numnodes[data[i]] + entry_offset\n",
    "\n",
    "    types = np.array(types)\n",
    "    bins = {u: np.where(types == u)[0] for u in np.unique(types)}\n",
    "\n",
    "    # Deduct offsets from the cell types. This is much faster than manually\n",
    "    # going through the data array. Slight disadvantage: This doesn't work for\n",
    "    # cells with a custom number of points.\n",
    "    numnodes = np.empty(len(types), dtype=int)\n",
    "    for tpe, idx in bins.items():\n",
    "        numnodes[idx] = su2_type_to_numnodes[tpe]\n",
    "    offsets = np.cumsum(numnodes + entry_offset) - (numnodes + entry_offset)\n",
    "\n",
    "    cells = {}\n",
    "    cell_data = {}\n",
    "    #cell_data[\"CellID\"] = [None]*len(bins)\n",
    "    cell_ids = []\n",
    "    i = 0\n",
    "    for tpe, b in bins.items():\n",
    "        meshio_type = su2_to_meshio_type[tpe]\n",
    "        nnodes = su2_type_to_numnodes[tpe]\n",
    "        indices = np.add.outer(offsets[b], np.arange(1, nnodes + 1))\n",
    "        # print(indices)\n",
    "        # print(indices[:,-1] + 1)\n",
    "        # print(indices.shape)\n",
    "        cells[meshio_type] = data[indices]\n",
    "        if has_extra_column:\n",
    "            cell_id_indices = indices[:,-1] + 1\n",
    "            #cell_data[\"CellID\"] = cell_data[\"CellID\"].append(data[cell_id_indices])\n",
    "            #cell_data[\"CellID\"][i] = data[cell_id_indices]\n",
    "            cell_ids = data[cell_id_indices]\n",
    "        else:\n",
    "            #cell_data[\"CellID\"][i] = np.empty(len(offsets), dtype=int)\n",
    "            cell_ids = np.full(len(offsets), -1, dtype=int)\n",
    "            pass\n",
    "        i += 1\n",
    "    # print(cell_ids)\n",
    "    cell_data[\"CellID\"] = cell_ids\n",
    "    return cells, cell_data\n",
    "\n",
    "mesh = read_su2_mesh(os.path.join(data_dir, mesh_filename))"
   ]
  },
  {
   "cell_type": "code",
   "execution_count": 21,
   "metadata": {},
   "outputs": [
    {
     "data": {
      "text/plain": [
       "{'su2:tag': [array([0, 0, 0, ..., 0, 0, 0], dtype=int32),\n",
       "  array([1, 1, 1, 1, 1, 1, 1, 1, 1, 1, 1, 1, 1, 1, 1, 1, 1, 1, 1, 1, 1, 1,\n",
       "         1, 1, 1, 1, 1, 1, 1, 1, 1, 1, 1, 1, 1, 1, 1, 1, 1, 1, 1, 1, 1, 1,\n",
       "         1, 1, 1, 1, 1, 1, 1, 1, 1, 1, 1, 1, 1, 1, 1, 1, 1, 1, 1, 1, 1, 1,\n",
       "         1, 1, 1, 1, 1, 1, 1, 1, 1, 1, 1, 1, 1, 1, 1, 1, 1, 1, 1, 1, 1, 1,\n",
       "         1, 1, 1, 1, 1, 1, 1, 1, 1, 1, 1, 1, 1, 1, 1, 1, 1, 1, 1, 1, 1, 1,\n",
       "         1, 1, 1, 1, 1, 1, 1, 1, 1, 1, 1, 1, 1, 1, 1, 1, 1, 1, 2, 2, 2, 2,\n",
       "         2, 2, 2, 2, 2, 2, 2, 2, 2, 2, 2, 2, 2, 2, 2, 2, 2, 2, 2, 2, 2, 2,\n",
       "         2, 2, 2, 2, 2, 2, 2, 2, 2, 2, 2, 2, 2, 2, 2, 2, 2, 2, 2, 2, 2, 2,\n",
       "         2, 3, 3, 3, 3, 3, 3, 3, 3, 3, 3, 3, 3, 3, 3, 3, 3, 3, 3, 3, 3, 3,\n",
       "         3, 3, 3, 3, 3, 3, 3, 3, 3, 3, 3, 3, 3, 3, 3, 3, 3, 3, 4, 4, 4, 4,\n",
       "         4, 4, 4, 4, 4, 4, 4, 4, 4, 4, 4, 4, 4, 4, 4, 4, 4, 4, 4, 4, 4, 4,\n",
       "         4, 4, 4, 4, 4, 4, 4, 4, 4, 4, 4, 4, 4, 5, 5, 5, 5, 5, 5, 5, 5, 5,\n",
       "         5, 5, 5, 5, 5, 5, 5, 5, 5, 5, 5, 5, 5, 5, 5, 5, 5, 5, 5, 5, 5, 5,\n",
       "         5, 5, 5, 5, 5, 5, 5, 5, 5, 5, 5, 5, 5, 5, 5, 5, 5, 5], dtype=int32)]}"
      ]
     },
     "execution_count": 21,
     "metadata": {},
     "output_type": "execute_result"
    }
   ],
   "source": [
    "mesh.cell_data"
   ]
  },
  {
   "cell_type": "code",
   "execution_count": null,
   "metadata": {},
   "outputs": [],
   "source": []
  },
  {
   "cell_type": "code",
   "execution_count": 22,
   "metadata": {},
   "outputs": [
    {
     "data": {
      "text/plain": [
       "6814"
      ]
     },
     "execution_count": 22,
     "metadata": {},
     "output_type": "execute_result"
    }
   ],
   "source": [
    "len(flow.cells_dict[5])"
   ]
  },
  {
   "cell_type": "code",
   "execution_count": 23,
   "metadata": {},
   "outputs": [
    {
     "data": {
      "text/plain": [
       "array([[ 306,  305,  304],\n",
       "       [ 128,  127,  307],\n",
       "       [  40,   39,  308],\n",
       "       ...,\n",
       "       [ 302, 3471,  423],\n",
       "       [2811, 3053, 2625],\n",
       "       [2812, 2625,  237]])"
      ]
     },
     "execution_count": 23,
     "metadata": {},
     "output_type": "execute_result"
    }
   ],
   "source": [
    "flow.cells_dict[5]"
   ]
  },
  {
   "cell_type": "code",
   "execution_count": 24,
   "metadata": {},
   "outputs": [
    {
     "data": {
      "text/plain": [
       "dict_keys(['triangle', 'line'])"
      ]
     },
     "execution_count": 24,
     "metadata": {},
     "output_type": "execute_result"
    }
   ],
   "source": [
    "mesh.cells_dict.keys()"
   ]
  },
  {
   "cell_type": "code",
   "execution_count": 25,
   "metadata": {},
   "outputs": [],
   "source": [
    "cb = mesh.cells[1]"
   ]
  },
  {
   "cell_type": "code",
   "execution_count": 26,
   "metadata": {},
   "outputs": [
    {
     "data": {
      "text/plain": [
       "{'su2:tag': [array([0, 0, 0, ..., 0, 0, 0], dtype=int32),\n",
       "  array([1, 1, 1, 1, 1, 1, 1, 1, 1, 1, 1, 1, 1, 1, 1, 1, 1, 1, 1, 1, 1, 1,\n",
       "         1, 1, 1, 1, 1, 1, 1, 1, 1, 1, 1, 1, 1, 1, 1, 1, 1, 1, 1, 1, 1, 1,\n",
       "         1, 1, 1, 1, 1, 1, 1, 1, 1, 1, 1, 1, 1, 1, 1, 1, 1, 1, 1, 1, 1, 1,\n",
       "         1, 1, 1, 1, 1, 1, 1, 1, 1, 1, 1, 1, 1, 1, 1, 1, 1, 1, 1, 1, 1, 1,\n",
       "         1, 1, 1, 1, 1, 1, 1, 1, 1, 1, 1, 1, 1, 1, 1, 1, 1, 1, 1, 1, 1, 1,\n",
       "         1, 1, 1, 1, 1, 1, 1, 1, 1, 1, 1, 1, 1, 1, 1, 1, 1, 1, 2, 2, 2, 2,\n",
       "         2, 2, 2, 2, 2, 2, 2, 2, 2, 2, 2, 2, 2, 2, 2, 2, 2, 2, 2, 2, 2, 2,\n",
       "         2, 2, 2, 2, 2, 2, 2, 2, 2, 2, 2, 2, 2, 2, 2, 2, 2, 2, 2, 2, 2, 2,\n",
       "         2, 3, 3, 3, 3, 3, 3, 3, 3, 3, 3, 3, 3, 3, 3, 3, 3, 3, 3, 3, 3, 3,\n",
       "         3, 3, 3, 3, 3, 3, 3, 3, 3, 3, 3, 3, 3, 3, 3, 3, 3, 3, 4, 4, 4, 4,\n",
       "         4, 4, 4, 4, 4, 4, 4, 4, 4, 4, 4, 4, 4, 4, 4, 4, 4, 4, 4, 4, 4, 4,\n",
       "         4, 4, 4, 4, 4, 4, 4, 4, 4, 4, 4, 4, 4, 5, 5, 5, 5, 5, 5, 5, 5, 5,\n",
       "         5, 5, 5, 5, 5, 5, 5, 5, 5, 5, 5, 5, 5, 5, 5, 5, 5, 5, 5, 5, 5, 5,\n",
       "         5, 5, 5, 5, 5, 5, 5, 5, 5, 5, 5, 5, 5, 5, 5, 5, 5, 5], dtype=int32)]}"
      ]
     },
     "execution_count": 26,
     "metadata": {},
     "output_type": "execute_result"
    }
   ],
   "source": [
    "mesh.cell_data"
   ]
  },
  {
   "cell_type": "code",
   "execution_count": 27,
   "metadata": {},
   "outputs": [
    {
     "data": {
      "text/plain": [
       "['Pressure', 'Velocity', 'Pressure_Coefficient', 'Density']"
      ]
     },
     "execution_count": 27,
     "metadata": {},
     "output_type": "execute_result"
    }
   ],
   "source": [
    "flow.point_data.keys()"
   ]
  },
  {
   "cell_type": "code",
   "execution_count": 28,
   "metadata": {},
   "outputs": [
    {
     "data": {
      "text/plain": [
       "(3559,)"
      ]
     },
     "execution_count": 28,
     "metadata": {},
     "output_type": "execute_result"
    }
   ],
   "source": [
    "qoi = np.asarray(flow.point_data[\"Pressure_Coefficient\"])\n",
    "qoi.shape"
   ]
  },
  {
   "cell_type": "code",
   "execution_count": 29,
   "metadata": {},
   "outputs": [
    {
     "data": {
      "text/plain": [
       "array([ 0.00696905,  0.0069637 ,  0.0068815 , ..., -0.19919837,\n",
       "       -0.5334331 ,  0.2650062 ], dtype=float32)"
      ]
     },
     "execution_count": 29,
     "metadata": {},
     "output_type": "execute_result"
    }
   ],
   "source": [
    "qoi"
   ]
  },
  {
   "cell_type": "code",
   "execution_count": 30,
   "metadata": {},
   "outputs": [
    {
     "data": {
      "text/plain": [
       "<matplotlib.collections.PathCollection at 0x7fe290352460>"
      ]
     },
     "execution_count": 30,
     "metadata": {},
     "output_type": "execute_result"
    },
    {
     "data": {
      "image/png": "[encoded data removed]",
      "text/plain": [
       "<Figure size 432x288 with 1 Axes>"
      ]
     },
     "metadata": {
      "needs_background": "light"
     },
     "output_type": "display_data"
    }
   ],
   "source": [
    "plt.scatter(mesh.points[:,0], mesh.points[:,1])"
   ]
  },
  {
   "cell_type": "code",
   "execution_count": 31,
   "metadata": {},
   "outputs": [
    {
     "data": {
      "text/plain": [
       "(304,)"
      ]
     },
     "execution_count": 31,
     "metadata": {},
     "output_type": "execute_result"
    }
   ],
   "source": [
    "su2_tag = mesh.cell_data['su2:tag'][1]\n",
    "su2_tag.shape"
   ]
  },
  {
   "cell_type": "code",
   "execution_count": 32,
   "metadata": {},
   "outputs": [
    {
     "data": {
      "text/plain": [
       "(304, 2)"
      ]
     },
     "execution_count": 32,
     "metadata": {},
     "output_type": "execute_result"
    }
   ],
   "source": [
    "cells_line = mesh.cells_dict[\"line\"]\n",
    "cells_line.shape"
   ]
  },
  {
   "cell_type": "code",
   "execution_count": 33,
   "metadata": {},
   "outputs": [
    {
     "data": {
      "text/plain": [
       "(304, (304, 2))"
      ]
     },
     "execution_count": 33,
     "metadata": {},
     "output_type": "execute_result"
    }
   ],
   "source": [
    "boundary_node_indices = set()\n",
    "airfoil_node_indices = set()\n",
    "\n",
    "for i, tag in enumerate(su2_tag):\n",
    "    if tag == 1:\n",
    "        airfoil_node_indices.update(cells_line[i])\n",
    "    if tag >= 1:\n",
    "        boundary_node_indices.update(cells_line[i])\n",
    "\n",
    "airfoil_node_indices = sorted(airfoil_node_indices)\n",
    "boundary_node_indices = sorted(boundary_node_indices)\n",
    "#boundary_nodes = [mesh.points[i, :2] for i in boundary_node_indices]\n",
    "boundary_nodes = mesh.points[boundary_node_indices, :2]\n",
    "\n",
    "len(boundary_nodes), boundary_nodes.shape"
   ]
  },
  {
   "cell_type": "code",
   "execution_count": 34,
   "metadata": {},
   "outputs": [
    {
     "data": {
      "text/plain": [
       "[176,\n",
       " 177,\n",
       " 178,\n",
       " 179,\n",
       " 180,\n",
       " 181,\n",
       " 182,\n",
       " 183,\n",
       " 184,\n",
       " 185,\n",
       " 186,\n",
       " 187,\n",
       " 188,\n",
       " 189,\n",
       " 190,\n",
       " 191,\n",
       " 192,\n",
       " 193,\n",
       " 194,\n",
       " 195,\n",
       " 196,\n",
       " 197,\n",
       " 198,\n",
       " 199,\n",
       " 200,\n",
       " 201,\n",
       " 202,\n",
       " 203,\n",
       " 204,\n",
       " 205,\n",
       " 206,\n",
       " 207,\n",
       " 208,\n",
       " 209,\n",
       " 210,\n",
       " 211,\n",
       " 212,\n",
       " 213,\n",
       " 214,\n",
       " 215,\n",
       " 216,\n",
       " 217,\n",
       " 218,\n",
       " 219,\n",
       " 220,\n",
       " 221,\n",
       " 222,\n",
       " 223,\n",
       " 224,\n",
       " 225,\n",
       " 226,\n",
       " 227,\n",
       " 228,\n",
       " 229,\n",
       " 230,\n",
       " 231,\n",
       " 232,\n",
       " 233,\n",
       " 234,\n",
       " 235,\n",
       " 236,\n",
       " 237,\n",
       " 238,\n",
       " 239,\n",
       " 240,\n",
       " 241,\n",
       " 242,\n",
       " 243,\n",
       " 244,\n",
       " 245,\n",
       " 246,\n",
       " 247,\n",
       " 248,\n",
       " 249,\n",
       " 250,\n",
       " 251,\n",
       " 252,\n",
       " 253,\n",
       " 254,\n",
       " 255,\n",
       " 256,\n",
       " 257,\n",
       " 258,\n",
       " 259,\n",
       " 260,\n",
       " 261,\n",
       " 262,\n",
       " 263,\n",
       " 264,\n",
       " 265,\n",
       " 266,\n",
       " 267,\n",
       " 268,\n",
       " 269,\n",
       " 270,\n",
       " 271,\n",
       " 272,\n",
       " 273,\n",
       " 274,\n",
       " 275,\n",
       " 276,\n",
       " 277,\n",
       " 278,\n",
       " 279,\n",
       " 280,\n",
       " 281,\n",
       " 282,\n",
       " 283,\n",
       " 284,\n",
       " 285,\n",
       " 286,\n",
       " 287,\n",
       " 288,\n",
       " 289,\n",
       " 290,\n",
       " 291,\n",
       " 292,\n",
       " 293,\n",
       " 294,\n",
       " 295,\n",
       " 296,\n",
       " 297,\n",
       " 298,\n",
       " 299,\n",
       " 300,\n",
       " 301,\n",
       " 302,\n",
       " 303]"
      ]
     },
     "execution_count": 34,
     "metadata": {},
     "output_type": "execute_result"
    }
   ],
   "source": [
    "airfoil_node_indices"
   ]
  },
  {
   "cell_type": "code",
   "execution_count": 35,
   "metadata": {},
   "outputs": [],
   "source": [
    "n_points = len(mesh.points)"
   ]
  },
  {
   "cell_type": "code",
   "execution_count": 36,
   "metadata": {},
   "outputs": [],
   "source": [
    "bnode_indices = [\n",
    "    mesh.points[boundary_node_indices, 0].argmax(), \n",
    "    mesh.points[boundary_node_indices, 0].argmin(), \n",
    "    mesh.points[boundary_node_indices, 1].argmax(), \n",
    "    mesh.points[boundary_node_indices, 1].argmin(), \n",
    "]\n",
    "\n",
    "bnode_indices += np.random.choice(airfoil_node_indices, len(airfoil_node_indices) // 2).tolist()"
   ]
  },
  {
   "cell_type": "code",
   "execution_count": 37,
   "metadata": {},
   "outputs": [
    {
     "name": "stdout",
     "output_type": "stream",
     "text": [
      "0 3569 3501 68\n",
      "1 1818 1750 68\n",
      "2 943 875 68\n",
      "3 505 437 68\n",
      "4 286 218 68\n",
      "5 177 109 68\n",
      "6 122 54 68\n",
      "7 95 27 68\n",
      "8 81 13 68\n",
      "9 74 6 68\n"
     ]
    }
   ],
   "source": [
    "n_points = len(mesh.points)\n",
    "#bnode_indices = boundary_node_indices\n",
    "\n",
    "nodes_lvl = [i for i in range(n_points) if not i in bnode_indices]\n",
    "#nodes_lvl = [i for i in range(n_points)]\n",
    "n_nodes_lvl = len(nodes_lvl)\n",
    "\n",
    "graph_dict = {0: nodes_lvl + bnode_indices}\n",
    "#graph_dict = {0: nodes_lvl}\n",
    "\n",
    "print(0, len(graph_dict[0]), len(nodes_lvl), len(bnode_indices))\n",
    "\n",
    "for i in range(1, 10):\n",
    "    n_nodes_lvl = n_nodes_lvl // 2\n",
    "    #print(i, n_nodes_lvl)\n",
    "    nodes_lvl = sorted(np.random.choice(nodes_lvl, n_nodes_lvl, replace=False))\n",
    "    graph_dict[i] = nodes_lvl + bnode_indices\n",
    "    # graph_dict[i] = nodes_lvl\n",
    "    print(i, len(graph_dict[i]), len(nodes_lvl), len(bnode_indices))\n",
    "\n",
    "test_nodes = list(set(graph_dict[0]) - set(graph_dict[1]))"
   ]
  },
  {
   "cell_type": "code",
   "execution_count": 38,
   "metadata": {},
   "outputs": [
    {
     "data": {
      "text/plain": [
       "(-0.5333333333333333, 0.5333333333333333)"
      ]
     },
     "execution_count": 38,
     "metadata": {},
     "output_type": "execute_result"
    },
    {
     "data": {
      "image/png": "[encoded data removed]",
      "text/plain": [
       "<Figure size 864x576 with 1 Axes>"
      ]
     },
     "metadata": {
      "needs_background": "light"
     },
     "output_type": "display_data"
    }
   ],
   "source": [
    "i = 5\n",
    "nodes_lvl = graph_dict[i]\n",
    "\n",
    "tri = Delaunay(mesh.points[nodes_lvl,:2])\n",
    "\n",
    "fig_width = 12\n",
    "fig_height = 8\n",
    "center = [0.5, 0.]\n",
    "data_max = [10, 6]\n",
    "data_min = [-10, -6]\n",
    "data_width = 20\n",
    "data_hwidth = 12\n",
    "\n",
    "zoom = 15\n",
    "\n",
    "xmin = center[0] - data_hwidth/zoom\n",
    "xmax = center[0] + data_hwidth/zoom\n",
    "ymin = center[1] - data_hwidth/zoom*fig_height/fig_width\n",
    "ymax = center[1] + data_hwidth/zoom*fig_height/fig_width\n",
    "\n",
    "plt.figure(figsize=(fig_width, fig_height))\n",
    "plt.scatter(mesh.points[nodes_lvl,0], mesh.points[nodes_lvl,1], marker=\".\")\n",
    "plt.scatter(mesh.points[test_nodes,0], mesh.points[test_nodes,1], marker=\".\", c=\"red\")\n",
    "plt.triplot(mesh.points[nodes_lvl,0], mesh.points[nodes_lvl,1], tri.simplices, lw=1, linestyle=\":\")\n",
    "# airfoil = np.where(su2_tag == 1)[0]\n",
    "# print(airfoil)\n",
    "\n",
    "#plt.plot(mesh.points[airfoil_node_indices][:,0], mesh.points[airfoil_node_indices][:,1], linestyle=\"-\")\n",
    "plt.xlim([-2., 3.])\n",
    "plt.ylim([-1, 1])\n",
    "\n",
    "plt.xlim([xmin, xmax])\n",
    "plt.ylim([ymin, ymax])"
   ]
  },
  {
   "cell_type": "code",
   "execution_count": 39,
   "metadata": {},
   "outputs": [
    {
     "data": {
      "text/plain": [
       "array([[ 1.00805930e+00, -4.44494288e-02],\n",
       "       [ 1.00317187e+00, -4.33943894e-02],\n",
       "       [ 9.98324424e-01, -4.23479785e-02],\n",
       "       [ 9.93528303e-01, -4.12492952e-02],\n",
       "       [ 9.88769172e-01, -4.01527722e-02],\n",
       "       [ 9.82399052e-01, -3.87006000e-02],\n",
       "       [ 9.75462184e-01, -3.71245508e-02],\n",
       "       [ 9.68553499e-01, -3.55608680e-02],\n",
       "       [ 9.61668954e-01, -3.40180255e-02],\n",
       "       [ 9.53366399e-01, -3.21591900e-02],\n",
       "       [ 9.43433836e-01, -2.99549379e-02],\n",
       "       [ 9.33519939e-01, -2.77679698e-02],\n",
       "       [ 9.23621617e-01, -2.56029663e-02],\n",
       "       [ 9.12937388e-01, -2.32854674e-02],\n",
       "       [ 8.99065798e-01, -2.02971346e-02],\n",
       "       [ 8.85202913e-01, -1.73344021e-02],\n",
       "       [ 8.71344260e-01, -1.44088930e-02],\n",
       "       [ 8.57489644e-01, -1.15122346e-02],\n",
       "       [ 8.39271057e-01, -7.75416951e-03],\n",
       "       [ 8.20739129e-01, -3.96911935e-03],\n",
       "       [ 8.02201698e-01, -2.30902049e-04],\n",
       "       [ 7.83657015e-01,  3.46123361e-03],\n",
       "       [ 7.61987501e-01,  7.71606884e-03],\n",
       "       [ 7.38745089e-01,  1.22085450e-02],\n",
       "       [ 7.15484434e-01,  1.66270316e-02],\n",
       "       [ 6.92202737e-01,  2.09660722e-02],\n",
       "       [ 6.67471318e-01,  2.54951420e-02],\n",
       "       [ 6.40568757e-01,  3.03148269e-02],\n",
       "       [ 6.13633926e-01,  3.50207426e-02],\n",
       "       [ 5.86664859e-01,  3.96102224e-02],\n",
       "       [ 5.59478774e-01,  4.41082510e-02],\n",
       "       [ 5.31077953e-01,  4.86563596e-02],\n",
       "       [ 5.02630989e-01,  5.30397652e-02],\n",
       "       [ 4.74157445e-01,  5.72468658e-02],\n",
       "       [ 4.45674492e-01,  6.12484256e-02],\n",
       "       [ 4.18359007e-01,  6.48785024e-02],\n",
       "       [ 3.91213181e-01,  6.82689446e-02],\n",
       "       [ 3.64052597e-01,  7.14199303e-02],\n",
       "       [ 3.36874286e-01,  7.43029296e-02],\n",
       "       [ 3.11846366e-01,  7.67016236e-02],\n",
       "       [ 2.88248373e-01,  7.87000749e-02],\n",
       "       [ 2.64635258e-01,  8.04309671e-02],\n",
       "       [ 2.41005369e-01,  8.18492937e-02],\n",
       "       [ 2.18945386e-01,  8.28596950e-02],\n",
       "       [ 2.00046632e-01,  8.34672801e-02],\n",
       "       [ 1.81139253e-01,  8.38050890e-02],\n",
       "       [ 1.62224961e-01,  8.38205114e-02],\n",
       "       [ 1.43625903e-01,  8.34997343e-02],\n",
       "       [ 1.29481235e-01,  8.29850649e-02],\n",
       "       [ 1.15338155e-01,  8.22184628e-02],\n",
       "       [ 1.01203279e-01,  8.11442214e-02],\n",
       "       [ 8.70854816e-02,  7.97207108e-02],\n",
       "       [ 7.62417635e-02,  7.83311507e-02],\n",
       "       [ 6.62286422e-02,  7.67835200e-02],\n",
       "       [ 5.62476158e-02,  7.49294624e-02],\n",
       "       [ 4.63224366e-02,  7.26956267e-02],\n",
       "       [ 3.81138660e-02,  7.04609449e-02],\n",
       "       [ 3.14029269e-02,  6.82858295e-02],\n",
       "       [ 2.47962221e-02,  6.57344205e-02],\n",
       "       [ 1.83724422e-02,  6.26837723e-02],\n",
       "       [ 1.27893331e-02,  5.92975431e-02],\n",
       "       [ 8.96360895e-03,  5.62672265e-02],\n",
       "       [ 5.61341303e-03,  5.26724763e-02],\n",
       "       [ 3.10512329e-03,  4.84103249e-02],\n",
       "       [ 1.90265095e-03,  4.35778714e-02],\n",
       "       [ 2.24770829e-03,  3.86100266e-02],\n",
       "       [ 3.97777664e-03,  3.39770669e-02],\n",
       "       [ 6.65285373e-03,  2.98551736e-02],\n",
       "       [ 9.89424758e-03,  2.62065642e-02],\n",
       "       [ 1.48045242e-02,  2.19022828e-02],\n",
       "       [ 2.06009730e-02,  1.77825031e-02],\n",
       "       [ 2.66642595e-02,  1.41226135e-02],\n",
       "       [ 3.28955396e-02,  1.08152006e-02],\n",
       "       [ 4.05913551e-02,  7.18906537e-03],\n",
       "       [ 4.99778471e-02,  3.26567734e-03],\n",
       "       [ 5.94852855e-02, -2.93399953e-04],\n",
       "       [ 6.90775417e-02, -3.55627901e-03],\n",
       "       [ 7.95152249e-02, -6.80772048e-03],\n",
       "       [ 9.31713513e-02, -1.06611345e-02],\n",
       "       [ 1.06904947e-01, -1.41735512e-02],\n",
       "       [ 1.20700042e-01, -1.73844270e-02],\n",
       "       [ 1.34540450e-01, -2.03474732e-02],\n",
       "       [ 1.52801243e-01, -2.38930694e-02],\n",
       "       [ 1.71430863e-01, -2.71623137e-02],\n",
       "       [ 1.90109657e-01, -3.01128689e-02],\n",
       "       [ 2.08826802e-01, -3.27962484e-02],\n",
       "       [ 2.30727098e-01, -3.56318733e-02],\n",
       "       [ 2.54244287e-01, -3.83383815e-02],\n",
       "       [ 2.77799232e-01, -4.07341598e-02],\n",
       "       [ 3.01385745e-01, -4.28638179e-02],\n",
       "       [ 3.26449964e-01, -4.48476182e-02],\n",
       "       [ 3.53716003e-01, -4.67278822e-02],\n",
       "       [ 3.81011119e-01, -4.83411530e-02],\n",
       "       [ 4.08333283e-01, -4.97160425e-02],\n",
       "       [ 4.35864141e-01, -5.08843989e-02],\n",
       "       [ 4.64609238e-01, -5.18896447e-02],\n",
       "       [ 4.93380760e-01, -5.26908385e-02],\n",
       "       [ 5.22156721e-01, -5.33137900e-02],\n",
       "       [ 5.50915841e-01, -5.37665283e-02],\n",
       "       [ 5.78469982e-01, -5.40576489e-02],\n",
       "       [ 6.05826283e-01, -5.42210230e-02],\n",
       "       [ 6.33169087e-01, -5.42637850e-02],\n",
       "       [ 6.60499868e-01, -5.41889028e-02],\n",
       "       [ 6.85642025e-01, -5.40232054e-02],\n",
       "       [ 7.09323487e-01, -5.37929089e-02],\n",
       "       [ 7.32998023e-01, -5.34807194e-02],\n",
       "       [ 7.56667441e-01, -5.30924965e-02],\n",
       "       [ 7.78746591e-01, -5.26651735e-02],\n",
       "       [ 7.97650671e-01, -5.22493801e-02],\n",
       "       [ 8.16555611e-01, -5.17869457e-02],\n",
       "       [ 8.35463265e-01, -5.12774346e-02],\n",
       "       [ 8.54057652e-01, -5.07400874e-02],\n",
       "       [ 8.68204784e-01, -5.02932645e-02],\n",
       "       [ 8.82360903e-01, -4.98187303e-02],\n",
       "       [ 8.96527653e-01, -4.93082731e-02],\n",
       "       [ 9.10707420e-01, -4.87741161e-02],\n",
       "       [ 9.21631761e-01, -4.83471220e-02],\n",
       "       [ 9.31755654e-01, -4.79338354e-02],\n",
       "       [ 9.41898700e-01, -4.75016225e-02],\n",
       "       [ 9.52063129e-01, -4.70556293e-02],\n",
       "       [ 9.60562333e-01, -4.66667573e-02],\n",
       "       [ 9.67610198e-01, -4.63428427e-02],\n",
       "       [ 9.74685456e-01, -4.60025964e-02],\n",
       "       [ 9.81790615e-01, -4.56550653e-02],\n",
       "       [ 9.88316126e-01, -4.53311147e-02],\n",
       "       [ 9.93193364e-01, -4.50776646e-02],\n",
       "       [ 9.98107406e-01, -4.48285106e-02],\n",
       "       [ 1.00306292e+00, -4.46397479e-02]])"
      ]
     },
     "execution_count": 39,
     "metadata": {},
     "output_type": "execute_result"
    }
   ],
   "source": [
    "mesh.points[airfoil_node_indices]"
   ]
  },
  {
   "cell_type": "code",
   "execution_count": 40,
   "metadata": {},
   "outputs": [
    {
     "data": {
      "text/plain": [
       "array([[-1.00000000e+01, -6.00000000e+00],\n",
       "       [-1.00000000e+01, -5.69230769e+00],\n",
       "       [-1.00000000e+01, -5.38461538e+00],\n",
       "       [-1.00000000e+01, -5.07692308e+00],\n",
       "       [-1.00000000e+01, -4.76923077e+00],\n",
       "       [-1.00000000e+01, -4.46153846e+00],\n",
       "       [-1.00000000e+01, -4.15384615e+00],\n",
       "       [-1.00000000e+01, -3.84615385e+00],\n",
       "       [-1.00000000e+01, -3.53846154e+00],\n",
       "       [-1.00000000e+01, -3.23076923e+00],\n",
       "       [-1.00000000e+01, -2.92307692e+00],\n",
       "       [-1.00000000e+01, -2.61538462e+00],\n",
       "       [-1.00000000e+01, -2.30769231e+00],\n",
       "       [-1.00000000e+01, -2.00000000e+00],\n",
       "       [-1.00000000e+01, -1.69230769e+00],\n",
       "       [-1.00000000e+01, -1.38461538e+00],\n",
       "       [-1.00000000e+01, -1.07692308e+00],\n",
       "       [-1.00000000e+01, -7.69230769e-01],\n",
       "       [-1.00000000e+01, -4.61538462e-01],\n",
       "       [-1.00000000e+01, -1.53846154e-01],\n",
       "       [-1.00000000e+01,  1.53846154e-01],\n",
       "       [-1.00000000e+01,  4.61538462e-01],\n",
       "       [-1.00000000e+01,  7.69230769e-01],\n",
       "       [-1.00000000e+01,  1.07692308e+00],\n",
       "       [-1.00000000e+01,  1.38461538e+00],\n",
       "       [-1.00000000e+01,  1.69230769e+00],\n",
       "       [-1.00000000e+01,  2.00000000e+00],\n",
       "       [-1.00000000e+01,  2.30769231e+00],\n",
       "       [-1.00000000e+01,  2.61538462e+00],\n",
       "       [-1.00000000e+01,  2.92307692e+00],\n",
       "       [-1.00000000e+01,  3.23076923e+00],\n",
       "       [-1.00000000e+01,  3.53846154e+00],\n",
       "       [-1.00000000e+01,  3.84615385e+00],\n",
       "       [-1.00000000e+01,  4.15384615e+00],\n",
       "       [-1.00000000e+01,  4.46153846e+00],\n",
       "       [-1.00000000e+01,  4.76923077e+00],\n",
       "       [-1.00000000e+01,  5.07692308e+00],\n",
       "       [-1.00000000e+01,  5.38461538e+00],\n",
       "       [-1.00000000e+01,  5.69230769e+00],\n",
       "       [-1.00000000e+01,  6.00000000e+00],\n",
       "       [-9.59183673e+00,  6.00000000e+00],\n",
       "       [-9.18367347e+00,  6.00000000e+00],\n",
       "       [-8.77551020e+00,  6.00000000e+00],\n",
       "       [-8.36734694e+00,  6.00000000e+00],\n",
       "       [-7.95918367e+00,  6.00000000e+00],\n",
       "       [-7.55102041e+00,  6.00000000e+00],\n",
       "       [-7.14285714e+00,  6.00000000e+00],\n",
       "       [-6.73469388e+00,  6.00000000e+00],\n",
       "       [-6.32653061e+00,  6.00000000e+00],\n",
       "       [-5.91836735e+00,  6.00000000e+00],\n",
       "       [-5.51020408e+00,  6.00000000e+00],\n",
       "       [-5.10204082e+00,  6.00000000e+00],\n",
       "       [-4.69387755e+00,  6.00000000e+00],\n",
       "       [-4.28571429e+00,  6.00000000e+00],\n",
       "       [-3.87755102e+00,  6.00000000e+00],\n",
       "       [-3.46938776e+00,  6.00000000e+00],\n",
       "       [-3.06122449e+00,  6.00000000e+00],\n",
       "       [-2.65306122e+00,  6.00000000e+00],\n",
       "       [-2.24489796e+00,  6.00000000e+00],\n",
       "       [-1.83673469e+00,  6.00000000e+00],\n",
       "       [-1.42857143e+00,  6.00000000e+00],\n",
       "       [-1.02040816e+00,  6.00000000e+00],\n",
       "       [-6.12244898e-01,  6.00000000e+00],\n",
       "       [-2.04081633e-01,  6.00000000e+00],\n",
       "       [ 2.04081633e-01,  6.00000000e+00],\n",
       "       [ 6.12244898e-01,  6.00000000e+00],\n",
       "       [ 1.02040816e+00,  6.00000000e+00],\n",
       "       [ 1.42857143e+00,  6.00000000e+00],\n",
       "       [ 1.83673469e+00,  6.00000000e+00],\n",
       "       [ 2.24489796e+00,  6.00000000e+00],\n",
       "       [ 2.65306122e+00,  6.00000000e+00],\n",
       "       [ 3.06122449e+00,  6.00000000e+00],\n",
       "       [ 3.46938776e+00,  6.00000000e+00],\n",
       "       [ 3.87755102e+00,  6.00000000e+00],\n",
       "       [ 4.28571429e+00,  6.00000000e+00],\n",
       "       [ 4.69387755e+00,  6.00000000e+00],\n",
       "       [ 5.10204082e+00,  6.00000000e+00],\n",
       "       [ 5.51020408e+00,  6.00000000e+00],\n",
       "       [ 5.91836735e+00,  6.00000000e+00],\n",
       "       [ 6.32653061e+00,  6.00000000e+00],\n",
       "       [ 6.73469388e+00,  6.00000000e+00],\n",
       "       [ 7.14285714e+00,  6.00000000e+00],\n",
       "       [ 7.55102041e+00,  6.00000000e+00],\n",
       "       [ 7.95918367e+00,  6.00000000e+00],\n",
       "       [ 8.36734694e+00,  6.00000000e+00],\n",
       "       [ 8.77551020e+00,  6.00000000e+00],\n",
       "       [ 9.18367347e+00,  6.00000000e+00],\n",
       "       [ 9.59183673e+00,  6.00000000e+00],\n",
       "       [ 1.00000000e+01,  6.00000000e+00],\n",
       "       [ 1.00000000e+01,  5.69230769e+00],\n",
       "       [ 1.00000000e+01,  5.38461538e+00],\n",
       "       [ 1.00000000e+01,  5.07692308e+00],\n",
       "       [ 1.00000000e+01,  4.76923077e+00],\n",
       "       [ 1.00000000e+01,  4.46153846e+00],\n",
       "       [ 1.00000000e+01,  4.15384615e+00],\n",
       "       [ 1.00000000e+01,  3.84615385e+00],\n",
       "       [ 1.00000000e+01,  3.53846154e+00],\n",
       "       [ 1.00000000e+01,  3.23076923e+00],\n",
       "       [ 1.00000000e+01,  2.92307692e+00],\n",
       "       [ 1.00000000e+01,  2.61538462e+00],\n",
       "       [ 1.00000000e+01,  2.30769231e+00],\n",
       "       [ 1.00000000e+01,  2.00000000e+00],\n",
       "       [ 1.00000000e+01,  1.69230769e+00],\n",
       "       [ 1.00000000e+01,  1.38461538e+00],\n",
       "       [ 1.00000000e+01,  1.07692308e+00],\n",
       "       [ 1.00000000e+01,  7.69230769e-01],\n",
       "       [ 1.00000000e+01,  4.61538462e-01],\n",
       "       [ 1.00000000e+01,  1.53846154e-01],\n",
       "       [ 1.00000000e+01, -1.53846154e-01],\n",
       "       [ 1.00000000e+01, -4.61538462e-01],\n",
       "       [ 1.00000000e+01, -7.69230769e-01],\n",
       "       [ 1.00000000e+01, -1.07692308e+00],\n",
       "       [ 1.00000000e+01, -1.38461538e+00],\n",
       "       [ 1.00000000e+01, -1.69230769e+00],\n",
       "       [ 1.00000000e+01, -2.00000000e+00],\n",
       "       [ 1.00000000e+01, -2.30769231e+00],\n",
       "       [ 1.00000000e+01, -2.61538462e+00],\n",
       "       [ 1.00000000e+01, -2.92307692e+00],\n",
       "       [ 1.00000000e+01, -3.23076923e+00],\n",
       "       [ 1.00000000e+01, -3.53846154e+00],\n",
       "       [ 1.00000000e+01, -3.84615385e+00],\n",
       "       [ 1.00000000e+01, -4.15384615e+00],\n",
       "       [ 1.00000000e+01, -4.46153846e+00],\n",
       "       [ 1.00000000e+01, -4.76923077e+00],\n",
       "       [ 1.00000000e+01, -5.07692308e+00],\n",
       "       [ 1.00000000e+01, -5.38461538e+00],\n",
       "       [ 1.00000000e+01, -5.69230769e+00],\n",
       "       [ 1.00000000e+01, -6.00000000e+00],\n",
       "       [ 9.59183673e+00, -6.00000000e+00],\n",
       "       [ 9.18367347e+00, -6.00000000e+00],\n",
       "       [ 8.77551020e+00, -6.00000000e+00],\n",
       "       [ 8.36734694e+00, -6.00000000e+00],\n",
       "       [ 7.95918367e+00, -6.00000000e+00],\n",
       "       [ 7.55102041e+00, -6.00000000e+00],\n",
       "       [ 7.14285714e+00, -6.00000000e+00],\n",
       "       [ 6.73469388e+00, -6.00000000e+00],\n",
       "       [ 6.32653061e+00, -6.00000000e+00],\n",
       "       [ 5.91836735e+00, -6.00000000e+00],\n",
       "       [ 5.51020408e+00, -6.00000000e+00],\n",
       "       [ 5.10204082e+00, -6.00000000e+00],\n",
       "       [ 4.69387755e+00, -6.00000000e+00],\n",
       "       [ 4.28571429e+00, -6.00000000e+00],\n",
       "       [ 3.87755102e+00, -6.00000000e+00],\n",
       "       [ 3.46938776e+00, -6.00000000e+00],\n",
       "       [ 3.06122449e+00, -6.00000000e+00],\n",
       "       [ 2.65306122e+00, -6.00000000e+00],\n",
       "       [ 2.24489796e+00, -6.00000000e+00],\n",
       "       [ 1.83673469e+00, -6.00000000e+00],\n",
       "       [ 1.42857143e+00, -6.00000000e+00],\n",
       "       [ 1.02040816e+00, -6.00000000e+00],\n",
       "       [ 6.12244898e-01, -6.00000000e+00],\n",
       "       [ 2.04081633e-01, -6.00000000e+00],\n",
       "       [-2.04081633e-01, -6.00000000e+00],\n",
       "       [-6.12244898e-01, -6.00000000e+00],\n",
       "       [-1.02040816e+00, -6.00000000e+00],\n",
       "       [-1.42857143e+00, -6.00000000e+00],\n",
       "       [-1.83673469e+00, -6.00000000e+00],\n",
       "       [-2.24489796e+00, -6.00000000e+00],\n",
       "       [-2.65306122e+00, -6.00000000e+00],\n",
       "       [-3.06122449e+00, -6.00000000e+00],\n",
       "       [-3.46938776e+00, -6.00000000e+00],\n",
       "       [-3.87755102e+00, -6.00000000e+00],\n",
       "       [-4.28571429e+00, -6.00000000e+00],\n",
       "       [-4.69387755e+00, -6.00000000e+00],\n",
       "       [-5.10204082e+00, -6.00000000e+00],\n",
       "       [-5.51020408e+00, -6.00000000e+00],\n",
       "       [-5.91836735e+00, -6.00000000e+00],\n",
       "       [-6.32653061e+00, -6.00000000e+00],\n",
       "       [-6.73469388e+00, -6.00000000e+00],\n",
       "       [-7.14285714e+00, -6.00000000e+00],\n",
       "       [-7.55102041e+00, -6.00000000e+00],\n",
       "       [-7.95918367e+00, -6.00000000e+00],\n",
       "       [-8.36734694e+00, -6.00000000e+00],\n",
       "       [-8.77551020e+00, -6.00000000e+00],\n",
       "       [-9.18367347e+00, -6.00000000e+00],\n",
       "       [-9.59183673e+00, -6.00000000e+00],\n",
       "       [ 1.00805930e+00, -4.44494288e-02],\n",
       "       [ 1.00317187e+00, -4.33943894e-02],\n",
       "       [ 9.98324424e-01, -4.23479785e-02],\n",
       "       [ 9.93528303e-01, -4.12492952e-02],\n",
       "       [ 9.88769172e-01, -4.01527722e-02],\n",
       "       [ 9.82399052e-01, -3.87006000e-02],\n",
       "       [ 9.75462184e-01, -3.71245508e-02],\n",
       "       [ 9.68553499e-01, -3.55608680e-02],\n",
       "       [ 9.61668954e-01, -3.40180255e-02],\n",
       "       [ 9.53366399e-01, -3.21591900e-02],\n",
       "       [ 9.43433836e-01, -2.99549379e-02],\n",
       "       [ 9.33519939e-01, -2.77679698e-02],\n",
       "       [ 9.23621617e-01, -2.56029663e-02],\n",
       "       [ 9.12937388e-01, -2.32854674e-02],\n",
       "       [ 8.99065798e-01, -2.02971346e-02],\n",
       "       [ 8.85202913e-01, -1.73344021e-02],\n",
       "       [ 8.71344260e-01, -1.44088930e-02],\n",
       "       [ 8.57489644e-01, -1.15122346e-02],\n",
       "       [ 8.39271057e-01, -7.75416951e-03],\n",
       "       [ 8.20739129e-01, -3.96911935e-03],\n",
       "       [ 8.02201698e-01, -2.30902049e-04],\n",
       "       [ 7.83657015e-01,  3.46123361e-03],\n",
       "       [ 7.61987501e-01,  7.71606884e-03],\n",
       "       [ 7.38745089e-01,  1.22085450e-02],\n",
       "       [ 7.15484434e-01,  1.66270316e-02],\n",
       "       [ 6.92202737e-01,  2.09660722e-02],\n",
       "       [ 6.67471318e-01,  2.54951420e-02],\n",
       "       [ 6.40568757e-01,  3.03148269e-02],\n",
       "       [ 6.13633926e-01,  3.50207426e-02],\n",
       "       [ 5.86664859e-01,  3.96102224e-02],\n",
       "       [ 5.59478774e-01,  4.41082510e-02],\n",
       "       [ 5.31077953e-01,  4.86563596e-02],\n",
       "       [ 5.02630989e-01,  5.30397652e-02],\n",
       "       [ 4.74157445e-01,  5.72468658e-02],\n",
       "       [ 4.45674492e-01,  6.12484256e-02],\n",
       "       [ 4.18359007e-01,  6.48785024e-02],\n",
       "       [ 3.91213181e-01,  6.82689446e-02],\n",
       "       [ 3.64052597e-01,  7.14199303e-02],\n",
       "       [ 3.36874286e-01,  7.43029296e-02],\n",
       "       [ 3.11846366e-01,  7.67016236e-02],\n",
       "       [ 2.88248373e-01,  7.87000749e-02],\n",
       "       [ 2.64635258e-01,  8.04309671e-02],\n",
       "       [ 2.41005369e-01,  8.18492937e-02],\n",
       "       [ 2.18945386e-01,  8.28596950e-02],\n",
       "       [ 2.00046632e-01,  8.34672801e-02],\n",
       "       [ 1.81139253e-01,  8.38050890e-02],\n",
       "       [ 1.62224961e-01,  8.38205114e-02],\n",
       "       [ 1.43625903e-01,  8.34997343e-02],\n",
       "       [ 1.29481235e-01,  8.29850649e-02],\n",
       "       [ 1.15338155e-01,  8.22184628e-02],\n",
       "       [ 1.01203279e-01,  8.11442214e-02],\n",
       "       [ 8.70854816e-02,  7.97207108e-02],\n",
       "       [ 7.62417635e-02,  7.83311507e-02],\n",
       "       [ 6.62286422e-02,  7.67835200e-02],\n",
       "       [ 5.62476158e-02,  7.49294624e-02],\n",
       "       [ 4.63224366e-02,  7.26956267e-02],\n",
       "       [ 3.81138660e-02,  7.04609449e-02],\n",
       "       [ 3.14029269e-02,  6.82858295e-02],\n",
       "       [ 2.47962221e-02,  6.57344205e-02],\n",
       "       [ 1.83724422e-02,  6.26837723e-02],\n",
       "       [ 1.27893331e-02,  5.92975431e-02],\n",
       "       [ 8.96360895e-03,  5.62672265e-02],\n",
       "       [ 5.61341303e-03,  5.26724763e-02],\n",
       "       [ 3.10512329e-03,  4.84103249e-02],\n",
       "       [ 1.90265095e-03,  4.35778714e-02],\n",
       "       [ 2.24770829e-03,  3.86100266e-02],\n",
       "       [ 3.97777664e-03,  3.39770669e-02],\n",
       "       [ 6.65285373e-03,  2.98551736e-02],\n",
       "       [ 9.89424758e-03,  2.62065642e-02],\n",
       "       [ 1.48045242e-02,  2.19022828e-02],\n",
       "       [ 2.06009730e-02,  1.77825031e-02],\n",
       "       [ 2.66642595e-02,  1.41226135e-02],\n",
       "       [ 3.28955396e-02,  1.08152006e-02],\n",
       "       [ 4.05913551e-02,  7.18906537e-03],\n",
       "       [ 4.99778471e-02,  3.26567734e-03],\n",
       "       [ 5.94852855e-02, -2.93399953e-04],\n",
       "       [ 6.90775417e-02, -3.55627901e-03],\n",
       "       [ 7.95152249e-02, -6.80772048e-03],\n",
       "       [ 9.31713513e-02, -1.06611345e-02],\n",
       "       [ 1.06904947e-01, -1.41735512e-02],\n",
       "       [ 1.20700042e-01, -1.73844270e-02],\n",
       "       [ 1.34540450e-01, -2.03474732e-02],\n",
       "       [ 1.52801243e-01, -2.38930694e-02],\n",
       "       [ 1.71430863e-01, -2.71623137e-02],\n",
       "       [ 1.90109657e-01, -3.01128689e-02],\n",
       "       [ 2.08826802e-01, -3.27962484e-02],\n",
       "       [ 2.30727098e-01, -3.56318733e-02],\n",
       "       [ 2.54244287e-01, -3.83383815e-02],\n",
       "       [ 2.77799232e-01, -4.07341598e-02],\n",
       "       [ 3.01385745e-01, -4.28638179e-02],\n",
       "       [ 3.26449964e-01, -4.48476182e-02],\n",
       "       [ 3.53716003e-01, -4.67278822e-02],\n",
       "       [ 3.81011119e-01, -4.83411530e-02],\n",
       "       [ 4.08333283e-01, -4.97160425e-02],\n",
       "       [ 4.35864141e-01, -5.08843989e-02],\n",
       "       [ 4.64609238e-01, -5.18896447e-02],\n",
       "       [ 4.93380760e-01, -5.26908385e-02],\n",
       "       [ 5.22156721e-01, -5.33137900e-02],\n",
       "       [ 5.50915841e-01, -5.37665283e-02],\n",
       "       [ 5.78469982e-01, -5.40576489e-02],\n",
       "       [ 6.05826283e-01, -5.42210230e-02],\n",
       "       [ 6.33169087e-01, -5.42637850e-02],\n",
       "       [ 6.60499868e-01, -5.41889028e-02],\n",
       "       [ 6.85642025e-01, -5.40232054e-02],\n",
       "       [ 7.09323487e-01, -5.37929089e-02],\n",
       "       [ 7.32998023e-01, -5.34807194e-02],\n",
       "       [ 7.56667441e-01, -5.30924965e-02],\n",
       "       [ 7.78746591e-01, -5.26651735e-02],\n",
       "       [ 7.97650671e-01, -5.22493801e-02],\n",
       "       [ 8.16555611e-01, -5.17869457e-02],\n",
       "       [ 8.35463265e-01, -5.12774346e-02],\n",
       "       [ 8.54057652e-01, -5.07400874e-02],\n",
       "       [ 8.68204784e-01, -5.02932645e-02],\n",
       "       [ 8.82360903e-01, -4.98187303e-02],\n",
       "       [ 8.96527653e-01, -4.93082731e-02],\n",
       "       [ 9.10707420e-01, -4.87741161e-02],\n",
       "       [ 9.21631761e-01, -4.83471220e-02],\n",
       "       [ 9.31755654e-01, -4.79338354e-02],\n",
       "       [ 9.41898700e-01, -4.75016225e-02],\n",
       "       [ 9.52063129e-01, -4.70556293e-02],\n",
       "       [ 9.60562333e-01, -4.66667573e-02],\n",
       "       [ 9.67610198e-01, -4.63428427e-02],\n",
       "       [ 9.74685456e-01, -4.60025964e-02],\n",
       "       [ 9.81790615e-01, -4.56550653e-02],\n",
       "       [ 9.88316126e-01, -4.53311147e-02],\n",
       "       [ 9.93193364e-01, -4.50776646e-02],\n",
       "       [ 9.98107406e-01, -4.48285106e-02],\n",
       "       [ 1.00306292e+00, -4.46397479e-02]])"
      ]
     },
     "execution_count": 40,
     "metadata": {},
     "output_type": "execute_result"
    }
   ],
   "source": [
    "boundary_nodes"
   ]
  },
  {
   "cell_type": "code",
   "execution_count": null,
   "metadata": {},
   "outputs": [],
   "source": []
  }
 ],
 "metadata": {
  "interpreter": {
   "hash": "65e7f54a0a2b2236af6bfc633e61fb902e27b1563f453e91f6ea096ea70b0ef9"
  },
  "kernelspec": {
   "display_name": "Python 3.8.12 ('MA_GNN')",
   "language": "python",
   "name": "python3"
  },
  "language_info": {
   "codemirror_mode": {
    "name": "ipython",
    "version": 3
   },
   "file_extension": ".py",
   "mimetype": "text/x-python",
   "name": "python",
   "nbconvert_exporter": "python",
   "pygments_lexer": "ipython3",
   "version": "3.8.13"
  },
  "orig_nbformat": 4
 },
 "nbformat": 4,
 "nbformat_minor": 2
}
