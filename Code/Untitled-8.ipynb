{
 "cells": [
  {
   "cell_type": "code",
   "execution_count": 1,
   "metadata": {},
   "outputs": [],
   "source": [
    "%load_ext autoreload\n",
    "%autoreload 2"
   ]
  },
  {
   "cell_type": "code",
   "execution_count": 2,
   "metadata": {},
   "outputs": [],
   "source": [
    "from train_PIGNN_Model_v2 import *"
   ]
  },
  {
   "cell_type": "code",
   "execution_count": 3,
   "metadata": {},
   "outputs": [
    {
     "name": "stdout",
     "output_type": "stream",
     "text": [
      "Device: cuda\n"
     ]
    },
    {
     "data": {
      "text/html": [
       "<pre style=\"white-space:pre;overflow-x:auto;line-height:normal;font-family:Menlo,'DejaVu Sans Mono',consolas,'Courier New',monospace\"><span style=\"color: #808000; text-decoration-color: #808000; font-weight: bold\">Warning:</span><span style=\"color: #808000; text-decoration-color: #808000\"> meshio does not support tags of string type.</span>\n",
       "<span style=\"color: #808000; text-decoration-color: #808000\">    Surface tag  AIRFOIL will be replaced by </span><span style=\"color: #808000; text-decoration-color: #808000; font-weight: bold\">1</span>\n",
       "</pre>\n"
      ],
      "text/plain": [
       "\u001b[1;33mWarning:\u001b[0m\u001b[33m meshio does not support tags of string type.\u001b[0m\n",
       "\u001b[33m    Surface tag  AIRFOIL will be replaced by \u001b[0m\u001b[1;33m1\u001b[0m\n"
      ]
     },
     "metadata": {},
     "output_type": "display_data"
    },
    {
     "data": {
      "text/html": [
       "<pre style=\"white-space:pre;overflow-x:auto;line-height:normal;font-family:Menlo,'DejaVu Sans Mono',consolas,'Courier New',monospace\"><span style=\"color: #808000; text-decoration-color: #808000; font-weight: bold\">Warning:</span><span style=\"color: #808000; text-decoration-color: #808000\"> meshio does not support tags of string type.</span>\n",
       "<span style=\"color: #808000; text-decoration-color: #808000\">    Surface tag  FARFIELD will be replaced by </span><span style=\"color: #808000; text-decoration-color: #808000; font-weight: bold\">2</span>\n",
       "</pre>\n"
      ],
      "text/plain": [
       "\u001b[1;33mWarning:\u001b[0m\u001b[33m meshio does not support tags of string type.\u001b[0m\n",
       "\u001b[33m    Surface tag  FARFIELD will be replaced by \u001b[0m\u001b[1;33m2\u001b[0m\n"
      ]
     },
     "metadata": {},
     "output_type": "display_data"
    },
    {
     "name": "stdout",
     "output_type": "stream",
     "text": [
      "Reading ../Data/SOBOL_DESIGNS_RANS/DESIGNS/DSN_0012/DIRECT/../config_DSN.cfg\n"
     ]
    },
    {
     "name": "stderr",
     "output_type": "stream",
     "text": [
      "/home/nils/workspace/MA_GNN/Code/prepare_data_v2.py:1022: UserWarning: To copy construct from a tensor, it is recommended to use sourceTensor.clone().detach() or sourceTensor.clone().detach().requires_grad_(True), rather than torch.tensor(sourceTensor).\n",
      "  u_nodes=torch.tensor(u_nodes),\n",
      "/home/nils/workspace/MA_GNN/Code/prepare_data_v2.py:1033: UserWarning: To copy construct from a tensor, it is recommended to use sourceTensor.clone().detach() or sourceTensor.clone().detach().requires_grad_(True), rather than torch.tensor(sourceTensor).\n",
      "  x_res_simplex_indices=torch.tensor(x_res_simplex_indices),\n",
      "/home/nils/workspace/MA_GNN/Code/prepare_data_v2.py:1038: UserWarning: To copy construct from a tensor, it is recommended to use sourceTensor.clone().detach() or sourceTensor.clone().detach().requires_grad_(True), rather than torch.tensor(sourceTensor).\n",
      "  u_data=torch.tensor(u_data),\n",
      "/home/nils/workspace/MA_GNN/Code/prepare_data_v2.py:1041: UserWarning: To copy construct from a tensor, it is recommended to use sourceTensor.clone().detach() or sourceTensor.clone().detach().requires_grad_(True), rather than torch.tensor(sourceTensor).\n",
      "  x_data_simplex_indices=torch.tensor(x_data_simplex_indices),\n",
      "/home/nils/workspace/MA_GNN/Code/prepare_data_v2.py:1045: UserWarning: To copy construct from a tensor, it is recommended to use sourceTensor.clone().detach() or sourceTensor.clone().detach().requires_grad_(True), rather than torch.tensor(sourceTensor).\n",
      "  x_out_simplex_indices=torch.tensor(x_out_simplex_indices),\n",
      "/home/nils/workspace/MA_GNN/Code/prepare_data_v2.py:1050: UserWarning: To copy construct from a tensor, it is recommended to use sourceTensor.clone().detach() or sourceTensor.clone().detach().requires_grad_(True), rather than torch.tensor(sourceTensor).\n",
      "  u_out_validation=torch.tensor(u_out_validation),\n",
      "/home/nils/workspace/MA_GNN/Code/prepare_data_v2.py:1051: UserWarning: To copy construct from a tensor, it is recommended to use sourceTensor.clone().detach() or sourceTensor.clone().detach().requires_grad_(True), rather than torch.tensor(sourceTensor).\n",
      "  qois_mean=torch.tensor(qois_mean),\n",
      "/home/nils/workspace/MA_GNN/Code/prepare_data_v2.py:1052: UserWarning: To copy construct from a tensor, it is recommended to use sourceTensor.clone().detach() or sourceTensor.clone().detach().requires_grad_(True), rather than torch.tensor(sourceTensor).\n",
      "  qois_std=torch.tensor(qois_std),\n",
      "/home/nils/workspace/MA_GNN/Code/prepare_data_v2.py:1057: UserWarning: To copy construct from a tensor, it is recommended to use sourceTensor.clone().detach() or sourceTensor.clone().detach().requires_grad_(True), rather than torch.tensor(sourceTensor).\n",
      "  x_res_bc_simplex_indices=torch.tensor(x_res_bc_simplex_indices),\n"
     ]
    },
    {
     "data": {
      "text/html": [
       "<pre style=\"white-space:pre;overflow-x:auto;line-height:normal;font-family:Menlo,'DejaVu Sans Mono',consolas,'Courier New',monospace\"><span style=\"color: #808000; text-decoration-color: #808000; font-weight: bold\">Warning:</span><span style=\"color: #808000; text-decoration-color: #808000\"> meshio does not support tags of string type.</span>\n",
       "<span style=\"color: #808000; text-decoration-color: #808000\">    Surface tag  AIRFOIL will be replaced by </span><span style=\"color: #808000; text-decoration-color: #808000; font-weight: bold\">1</span>\n",
       "</pre>\n"
      ],
      "text/plain": [
       "\u001b[1;33mWarning:\u001b[0m\u001b[33m meshio does not support tags of string type.\u001b[0m\n",
       "\u001b[33m    Surface tag  AIRFOIL will be replaced by \u001b[0m\u001b[1;33m1\u001b[0m\n"
      ]
     },
     "metadata": {},
     "output_type": "display_data"
    },
    {
     "data": {
      "text/html": [
       "<pre style=\"white-space:pre;overflow-x:auto;line-height:normal;font-family:Menlo,'DejaVu Sans Mono',consolas,'Courier New',monospace\"><span style=\"color: #808000; text-decoration-color: #808000; font-weight: bold\">Warning:</span><span style=\"color: #808000; text-decoration-color: #808000\"> meshio does not support tags of string type.</span>\n",
       "<span style=\"color: #808000; text-decoration-color: #808000\">    Surface tag  FARFIELD will be replaced by </span><span style=\"color: #808000; text-decoration-color: #808000; font-weight: bold\">2</span>\n",
       "</pre>\n"
      ],
      "text/plain": [
       "\u001b[1;33mWarning:\u001b[0m\u001b[33m meshio does not support tags of string type.\u001b[0m\n",
       "\u001b[33m    Surface tag  FARFIELD will be replaced by \u001b[0m\u001b[1;33m2\u001b[0m\n"
      ]
     },
     "metadata": {},
     "output_type": "display_data"
    },
    {
     "name": "stdout",
     "output_type": "stream",
     "text": [
      "Reading ../Data/SOBOL_DESIGNS_RANS/DESIGNS/DSN_0013/DIRECT/../config_DSN.cfg\n"
     ]
    },
    {
     "data": {
      "text/html": [
       "<pre style=\"white-space:pre;overflow-x:auto;line-height:normal;font-family:Menlo,'DejaVu Sans Mono',consolas,'Courier New',monospace\"><span style=\"color: #808000; text-decoration-color: #808000; font-weight: bold\">Warning:</span><span style=\"color: #808000; text-decoration-color: #808000\"> meshio does not support tags of string type.</span>\n",
       "<span style=\"color: #808000; text-decoration-color: #808000\">    Surface tag  AIRFOIL will be replaced by </span><span style=\"color: #808000; text-decoration-color: #808000; font-weight: bold\">1</span>\n",
       "</pre>\n"
      ],
      "text/plain": [
       "\u001b[1;33mWarning:\u001b[0m\u001b[33m meshio does not support tags of string type.\u001b[0m\n",
       "\u001b[33m    Surface tag  AIRFOIL will be replaced by \u001b[0m\u001b[1;33m1\u001b[0m\n"
      ]
     },
     "metadata": {},
     "output_type": "display_data"
    },
    {
     "data": {
      "text/html": [
       "<pre style=\"white-space:pre;overflow-x:auto;line-height:normal;font-family:Menlo,'DejaVu Sans Mono',consolas,'Courier New',monospace\"><span style=\"color: #808000; text-decoration-color: #808000; font-weight: bold\">Warning:</span><span style=\"color: #808000; text-decoration-color: #808000\"> meshio does not support tags of string type.</span>\n",
       "<span style=\"color: #808000; text-decoration-color: #808000\">    Surface tag  FARFIELD will be replaced by </span><span style=\"color: #808000; text-decoration-color: #808000; font-weight: bold\">2</span>\n",
       "</pre>\n"
      ],
      "text/plain": [
       "\u001b[1;33mWarning:\u001b[0m\u001b[33m meshio does not support tags of string type.\u001b[0m\n",
       "\u001b[33m    Surface tag  FARFIELD will be replaced by \u001b[0m\u001b[1;33m2\u001b[0m\n"
      ]
     },
     "metadata": {},
     "output_type": "display_data"
    },
    {
     "name": "stdout",
     "output_type": "stream",
     "text": [
      "Reading ../Data/SOBOL_DESIGNS_RANS/DESIGNS/DSN_0014/DIRECT/../config_DSN.cfg\n"
     ]
    },
    {
     "data": {
      "text/html": [
       "<pre style=\"white-space:pre;overflow-x:auto;line-height:normal;font-family:Menlo,'DejaVu Sans Mono',consolas,'Courier New',monospace\"><span style=\"color: #808000; text-decoration-color: #808000; font-weight: bold\">Warning:</span><span style=\"color: #808000; text-decoration-color: #808000\"> meshio does not support tags of string type.</span>\n",
       "<span style=\"color: #808000; text-decoration-color: #808000\">    Surface tag  AIRFOIL will be replaced by </span><span style=\"color: #808000; text-decoration-color: #808000; font-weight: bold\">1</span>\n",
       "</pre>\n"
      ],
      "text/plain": [
       "\u001b[1;33mWarning:\u001b[0m\u001b[33m meshio does not support tags of string type.\u001b[0m\n",
       "\u001b[33m    Surface tag  AIRFOIL will be replaced by \u001b[0m\u001b[1;33m1\u001b[0m\n"
      ]
     },
     "metadata": {},
     "output_type": "display_data"
    },
    {
     "data": {
      "text/html": [
       "<pre style=\"white-space:pre;overflow-x:auto;line-height:normal;font-family:Menlo,'DejaVu Sans Mono',consolas,'Courier New',monospace\"><span style=\"color: #808000; text-decoration-color: #808000; font-weight: bold\">Warning:</span><span style=\"color: #808000; text-decoration-color: #808000\"> meshio does not support tags of string type.</span>\n",
       "<span style=\"color: #808000; text-decoration-color: #808000\">    Surface tag  FARFIELD will be replaced by </span><span style=\"color: #808000; text-decoration-color: #808000; font-weight: bold\">2</span>\n",
       "</pre>\n"
      ],
      "text/plain": [
       "\u001b[1;33mWarning:\u001b[0m\u001b[33m meshio does not support tags of string type.\u001b[0m\n",
       "\u001b[33m    Surface tag  FARFIELD will be replaced by \u001b[0m\u001b[1;33m2\u001b[0m\n"
      ]
     },
     "metadata": {},
     "output_type": "display_data"
    },
    {
     "name": "stdout",
     "output_type": "stream",
     "text": [
      "Reading ../Data/SOBOL_DESIGNS_RANS/DESIGNS/DSN_0015/DIRECT/../config_DSN.cfg\n"
     ]
    },
    {
     "data": {
      "text/html": [
       "<pre style=\"white-space:pre;overflow-x:auto;line-height:normal;font-family:Menlo,'DejaVu Sans Mono',consolas,'Courier New',monospace\"><span style=\"color: #808000; text-decoration-color: #808000; font-weight: bold\">Warning:</span><span style=\"color: #808000; text-decoration-color: #808000\"> meshio does not support tags of string type.</span>\n",
       "<span style=\"color: #808000; text-decoration-color: #808000\">    Surface tag  AIRFOIL will be replaced by </span><span style=\"color: #808000; text-decoration-color: #808000; font-weight: bold\">1</span>\n",
       "</pre>\n"
      ],
      "text/plain": [
       "\u001b[1;33mWarning:\u001b[0m\u001b[33m meshio does not support tags of string type.\u001b[0m\n",
       "\u001b[33m    Surface tag  AIRFOIL will be replaced by \u001b[0m\u001b[1;33m1\u001b[0m\n"
      ]
     },
     "metadata": {},
     "output_type": "display_data"
    },
    {
     "data": {
      "text/html": [
       "<pre style=\"white-space:pre;overflow-x:auto;line-height:normal;font-family:Menlo,'DejaVu Sans Mono',consolas,'Courier New',monospace\"><span style=\"color: #808000; text-decoration-color: #808000; font-weight: bold\">Warning:</span><span style=\"color: #808000; text-decoration-color: #808000\"> meshio does not support tags of string type.</span>\n",
       "<span style=\"color: #808000; text-decoration-color: #808000\">    Surface tag  FARFIELD will be replaced by </span><span style=\"color: #808000; text-decoration-color: #808000; font-weight: bold\">2</span>\n",
       "</pre>\n"
      ],
      "text/plain": [
       "\u001b[1;33mWarning:\u001b[0m\u001b[33m meshio does not support tags of string type.\u001b[0m\n",
       "\u001b[33m    Surface tag  FARFIELD will be replaced by \u001b[0m\u001b[1;33m2\u001b[0m\n"
      ]
     },
     "metadata": {},
     "output_type": "display_data"
    },
    {
     "name": "stdout",
     "output_type": "stream",
     "text": [
      "Reading ../Data/SOBOL_DESIGNS_RANS/DESIGNS/DSN_0016/DIRECT/../config_DSN.cfg\n"
     ]
    },
    {
     "data": {
      "text/html": [
       "<pre style=\"white-space:pre;overflow-x:auto;line-height:normal;font-family:Menlo,'DejaVu Sans Mono',consolas,'Courier New',monospace\"><span style=\"color: #808000; text-decoration-color: #808000; font-weight: bold\">Warning:</span><span style=\"color: #808000; text-decoration-color: #808000\"> meshio does not support tags of string type.</span>\n",
       "<span style=\"color: #808000; text-decoration-color: #808000\">    Surface tag  AIRFOIL will be replaced by </span><span style=\"color: #808000; text-decoration-color: #808000; font-weight: bold\">1</span>\n",
       "</pre>\n"
      ],
      "text/plain": [
       "\u001b[1;33mWarning:\u001b[0m\u001b[33m meshio does not support tags of string type.\u001b[0m\n",
       "\u001b[33m    Surface tag  AIRFOIL will be replaced by \u001b[0m\u001b[1;33m1\u001b[0m\n"
      ]
     },
     "metadata": {},
     "output_type": "display_data"
    },
    {
     "data": {
      "text/html": [
       "<pre style=\"white-space:pre;overflow-x:auto;line-height:normal;font-family:Menlo,'DejaVu Sans Mono',consolas,'Courier New',monospace\"><span style=\"color: #808000; text-decoration-color: #808000; font-weight: bold\">Warning:</span><span style=\"color: #808000; text-decoration-color: #808000\"> meshio does not support tags of string type.</span>\n",
       "<span style=\"color: #808000; text-decoration-color: #808000\">    Surface tag  FARFIELD will be replaced by </span><span style=\"color: #808000; text-decoration-color: #808000; font-weight: bold\">2</span>\n",
       "</pre>\n"
      ],
      "text/plain": [
       "\u001b[1;33mWarning:\u001b[0m\u001b[33m meshio does not support tags of string type.\u001b[0m\n",
       "\u001b[33m    Surface tag  FARFIELD will be replaced by \u001b[0m\u001b[1;33m2\u001b[0m\n"
      ]
     },
     "metadata": {},
     "output_type": "display_data"
    },
    {
     "name": "stdout",
     "output_type": "stream",
     "text": [
      "Reading ../Data/SOBOL_DESIGNS_RANS/DESIGNS/DSN_0017/DIRECT/../config_DSN.cfg\n"
     ]
    },
    {
     "data": {
      "text/html": [
       "<pre style=\"white-space:pre;overflow-x:auto;line-height:normal;font-family:Menlo,'DejaVu Sans Mono',consolas,'Courier New',monospace\"><span style=\"color: #808000; text-decoration-color: #808000; font-weight: bold\">Warning:</span><span style=\"color: #808000; text-decoration-color: #808000\"> meshio does not support tags of string type.</span>\n",
       "<span style=\"color: #808000; text-decoration-color: #808000\">    Surface tag  AIRFOIL will be replaced by </span><span style=\"color: #808000; text-decoration-color: #808000; font-weight: bold\">1</span>\n",
       "</pre>\n"
      ],
      "text/plain": [
       "\u001b[1;33mWarning:\u001b[0m\u001b[33m meshio does not support tags of string type.\u001b[0m\n",
       "\u001b[33m    Surface tag  AIRFOIL will be replaced by \u001b[0m\u001b[1;33m1\u001b[0m\n"
      ]
     },
     "metadata": {},
     "output_type": "display_data"
    },
    {
     "data": {
      "text/html": [
       "<pre style=\"white-space:pre;overflow-x:auto;line-height:normal;font-family:Menlo,'DejaVu Sans Mono',consolas,'Courier New',monospace\"><span style=\"color: #808000; text-decoration-color: #808000; font-weight: bold\">Warning:</span><span style=\"color: #808000; text-decoration-color: #808000\"> meshio does not support tags of string type.</span>\n",
       "<span style=\"color: #808000; text-decoration-color: #808000\">    Surface tag  FARFIELD will be replaced by </span><span style=\"color: #808000; text-decoration-color: #808000; font-weight: bold\">2</span>\n",
       "</pre>\n"
      ],
      "text/plain": [
       "\u001b[1;33mWarning:\u001b[0m\u001b[33m meshio does not support tags of string type.\u001b[0m\n",
       "\u001b[33m    Surface tag  FARFIELD will be replaced by \u001b[0m\u001b[1;33m2\u001b[0m\n"
      ]
     },
     "metadata": {},
     "output_type": "display_data"
    },
    {
     "name": "stdout",
     "output_type": "stream",
     "text": [
      "Reading ../Data/SOBOL_DESIGNS_RANS/DESIGNS/DSN_0018/DIRECT/../config_DSN.cfg\n"
     ]
    },
    {
     "data": {
      "text/html": [
       "<pre style=\"white-space:pre;overflow-x:auto;line-height:normal;font-family:Menlo,'DejaVu Sans Mono',consolas,'Courier New',monospace\"><span style=\"color: #808000; text-decoration-color: #808000; font-weight: bold\">Warning:</span><span style=\"color: #808000; text-decoration-color: #808000\"> meshio does not support tags of string type.</span>\n",
       "<span style=\"color: #808000; text-decoration-color: #808000\">    Surface tag  AIRFOIL will be replaced by </span><span style=\"color: #808000; text-decoration-color: #808000; font-weight: bold\">1</span>\n",
       "</pre>\n"
      ],
      "text/plain": [
       "\u001b[1;33mWarning:\u001b[0m\u001b[33m meshio does not support tags of string type.\u001b[0m\n",
       "\u001b[33m    Surface tag  AIRFOIL will be replaced by \u001b[0m\u001b[1;33m1\u001b[0m\n"
      ]
     },
     "metadata": {},
     "output_type": "display_data"
    },
    {
     "data": {
      "text/html": [
       "<pre style=\"white-space:pre;overflow-x:auto;line-height:normal;font-family:Menlo,'DejaVu Sans Mono',consolas,'Courier New',monospace\"><span style=\"color: #808000; text-decoration-color: #808000; font-weight: bold\">Warning:</span><span style=\"color: #808000; text-decoration-color: #808000\"> meshio does not support tags of string type.</span>\n",
       "<span style=\"color: #808000; text-decoration-color: #808000\">    Surface tag  FARFIELD will be replaced by </span><span style=\"color: #808000; text-decoration-color: #808000; font-weight: bold\">2</span>\n",
       "</pre>\n"
      ],
      "text/plain": [
       "\u001b[1;33mWarning:\u001b[0m\u001b[33m meshio does not support tags of string type.\u001b[0m\n",
       "\u001b[33m    Surface tag  FARFIELD will be replaced by \u001b[0m\u001b[1;33m2\u001b[0m\n"
      ]
     },
     "metadata": {},
     "output_type": "display_data"
    },
    {
     "name": "stdout",
     "output_type": "stream",
     "text": [
      "Reading ../Data/SOBOL_DESIGNS_RANS/DESIGNS/DSN_0019/DIRECT/../config_DSN.cfg\n"
     ]
    },
    {
     "data": {
      "text/html": [
       "<pre style=\"white-space:pre;overflow-x:auto;line-height:normal;font-family:Menlo,'DejaVu Sans Mono',consolas,'Courier New',monospace\"><span style=\"color: #808000; text-decoration-color: #808000; font-weight: bold\">Warning:</span><span style=\"color: #808000; text-decoration-color: #808000\"> meshio does not support tags of string type.</span>\n",
       "<span style=\"color: #808000; text-decoration-color: #808000\">    Surface tag  AIRFOIL will be replaced by </span><span style=\"color: #808000; text-decoration-color: #808000; font-weight: bold\">1</span>\n",
       "</pre>\n"
      ],
      "text/plain": [
       "\u001b[1;33mWarning:\u001b[0m\u001b[33m meshio does not support tags of string type.\u001b[0m\n",
       "\u001b[33m    Surface tag  AIRFOIL will be replaced by \u001b[0m\u001b[1;33m1\u001b[0m\n"
      ]
     },
     "metadata": {},
     "output_type": "display_data"
    },
    {
     "data": {
      "text/html": [
       "<pre style=\"white-space:pre;overflow-x:auto;line-height:normal;font-family:Menlo,'DejaVu Sans Mono',consolas,'Courier New',monospace\"><span style=\"color: #808000; text-decoration-color: #808000; font-weight: bold\">Warning:</span><span style=\"color: #808000; text-decoration-color: #808000\"> meshio does not support tags of string type.</span>\n",
       "<span style=\"color: #808000; text-decoration-color: #808000\">    Surface tag  FARFIELD will be replaced by </span><span style=\"color: #808000; text-decoration-color: #808000; font-weight: bold\">2</span>\n",
       "</pre>\n"
      ],
      "text/plain": [
       "\u001b[1;33mWarning:\u001b[0m\u001b[33m meshio does not support tags of string type.\u001b[0m\n",
       "\u001b[33m    Surface tag  FARFIELD will be replaced by \u001b[0m\u001b[1;33m2\u001b[0m\n"
      ]
     },
     "metadata": {},
     "output_type": "display_data"
    },
    {
     "name": "stdout",
     "output_type": "stream",
     "text": [
      "Reading ../Data/SOBOL_DESIGNS_RANS/DESIGNS/DSN_0020/DIRECT/../config_DSN.cfg\n"
     ]
    },
    {
     "data": {
      "text/html": [
       "<pre style=\"white-space:pre;overflow-x:auto;line-height:normal;font-family:Menlo,'DejaVu Sans Mono',consolas,'Courier New',monospace\"><span style=\"color: #808000; text-decoration-color: #808000; font-weight: bold\">Warning:</span><span style=\"color: #808000; text-decoration-color: #808000\"> meshio does not support tags of string type.</span>\n",
       "<span style=\"color: #808000; text-decoration-color: #808000\">    Surface tag  AIRFOIL will be replaced by </span><span style=\"color: #808000; text-decoration-color: #808000; font-weight: bold\">1</span>\n",
       "</pre>\n"
      ],
      "text/plain": [
       "\u001b[1;33mWarning:\u001b[0m\u001b[33m meshio does not support tags of string type.\u001b[0m\n",
       "\u001b[33m    Surface tag  AIRFOIL will be replaced by \u001b[0m\u001b[1;33m1\u001b[0m\n"
      ]
     },
     "metadata": {},
     "output_type": "display_data"
    },
    {
     "data": {
      "text/html": [
       "<pre style=\"white-space:pre;overflow-x:auto;line-height:normal;font-family:Menlo,'DejaVu Sans Mono',consolas,'Courier New',monospace\"><span style=\"color: #808000; text-decoration-color: #808000; font-weight: bold\">Warning:</span><span style=\"color: #808000; text-decoration-color: #808000\"> meshio does not support tags of string type.</span>\n",
       "<span style=\"color: #808000; text-decoration-color: #808000\">    Surface tag  FARFIELD will be replaced by </span><span style=\"color: #808000; text-decoration-color: #808000; font-weight: bold\">2</span>\n",
       "</pre>\n"
      ],
      "text/plain": [
       "\u001b[1;33mWarning:\u001b[0m\u001b[33m meshio does not support tags of string type.\u001b[0m\n",
       "\u001b[33m    Surface tag  FARFIELD will be replaced by \u001b[0m\u001b[1;33m2\u001b[0m\n"
      ]
     },
     "metadata": {},
     "output_type": "display_data"
    },
    {
     "name": "stdout",
     "output_type": "stream",
     "text": [
      "Reading ../Data/SOBOL_DESIGNS_RANS/DESIGNS/DSN_0021/DIRECT/../config_DSN.cfg\n"
     ]
    },
    {
     "data": {
      "text/html": [
       "<pre style=\"white-space:pre;overflow-x:auto;line-height:normal;font-family:Menlo,'DejaVu Sans Mono',consolas,'Courier New',monospace\"><span style=\"color: #808000; text-decoration-color: #808000; font-weight: bold\">Warning:</span><span style=\"color: #808000; text-decoration-color: #808000\"> meshio does not support tags of string type.</span>\n",
       "<span style=\"color: #808000; text-decoration-color: #808000\">    Surface tag  AIRFOIL will be replaced by </span><span style=\"color: #808000; text-decoration-color: #808000; font-weight: bold\">1</span>\n",
       "</pre>\n"
      ],
      "text/plain": [
       "\u001b[1;33mWarning:\u001b[0m\u001b[33m meshio does not support tags of string type.\u001b[0m\n",
       "\u001b[33m    Surface tag  AIRFOIL will be replaced by \u001b[0m\u001b[1;33m1\u001b[0m\n"
      ]
     },
     "metadata": {},
     "output_type": "display_data"
    },
    {
     "data": {
      "text/html": [
       "<pre style=\"white-space:pre;overflow-x:auto;line-height:normal;font-family:Menlo,'DejaVu Sans Mono',consolas,'Courier New',monospace\"><span style=\"color: #808000; text-decoration-color: #808000; font-weight: bold\">Warning:</span><span style=\"color: #808000; text-decoration-color: #808000\"> meshio does not support tags of string type.</span>\n",
       "<span style=\"color: #808000; text-decoration-color: #808000\">    Surface tag  FARFIELD will be replaced by </span><span style=\"color: #808000; text-decoration-color: #808000; font-weight: bold\">2</span>\n",
       "</pre>\n"
      ],
      "text/plain": [
       "\u001b[1;33mWarning:\u001b[0m\u001b[33m meshio does not support tags of string type.\u001b[0m\n",
       "\u001b[33m    Surface tag  FARFIELD will be replaced by \u001b[0m\u001b[1;33m2\u001b[0m\n"
      ]
     },
     "metadata": {},
     "output_type": "display_data"
    },
    {
     "name": "stdout",
     "output_type": "stream",
     "text": [
      "Reading ../Data/SOBOL_DESIGNS_RANS/DESIGNS/DSN_0022/DIRECT/../config_DSN.cfg\n"
     ]
    },
    {
     "data": {
      "text/html": [
       "<pre style=\"white-space:pre;overflow-x:auto;line-height:normal;font-family:Menlo,'DejaVu Sans Mono',consolas,'Courier New',monospace\"><span style=\"color: #808000; text-decoration-color: #808000; font-weight: bold\">Warning:</span><span style=\"color: #808000; text-decoration-color: #808000\"> meshio does not support tags of string type.</span>\n",
       "<span style=\"color: #808000; text-decoration-color: #808000\">    Surface tag  AIRFOIL will be replaced by </span><span style=\"color: #808000; text-decoration-color: #808000; font-weight: bold\">1</span>\n",
       "</pre>\n"
      ],
      "text/plain": [
       "\u001b[1;33mWarning:\u001b[0m\u001b[33m meshio does not support tags of string type.\u001b[0m\n",
       "\u001b[33m    Surface tag  AIRFOIL will be replaced by \u001b[0m\u001b[1;33m1\u001b[0m\n"
      ]
     },
     "metadata": {},
     "output_type": "display_data"
    },
    {
     "data": {
      "text/html": [
       "<pre style=\"white-space:pre;overflow-x:auto;line-height:normal;font-family:Menlo,'DejaVu Sans Mono',consolas,'Courier New',monospace\"><span style=\"color: #808000; text-decoration-color: #808000; font-weight: bold\">Warning:</span><span style=\"color: #808000; text-decoration-color: #808000\"> meshio does not support tags of string type.</span>\n",
       "<span style=\"color: #808000; text-decoration-color: #808000\">    Surface tag  FARFIELD will be replaced by </span><span style=\"color: #808000; text-decoration-color: #808000; font-weight: bold\">2</span>\n",
       "</pre>\n"
      ],
      "text/plain": [
       "\u001b[1;33mWarning:\u001b[0m\u001b[33m meshio does not support tags of string type.\u001b[0m\n",
       "\u001b[33m    Surface tag  FARFIELD will be replaced by \u001b[0m\u001b[1;33m2\u001b[0m\n"
      ]
     },
     "metadata": {},
     "output_type": "display_data"
    },
    {
     "name": "stdout",
     "output_type": "stream",
     "text": [
      "Reading ../Data/SOBOL_DESIGNS_RANS/DESIGNS/DSN_0023/DIRECT/../config_DSN.cfg\n"
     ]
    },
    {
     "data": {
      "text/html": [
       "<pre style=\"white-space:pre;overflow-x:auto;line-height:normal;font-family:Menlo,'DejaVu Sans Mono',consolas,'Courier New',monospace\"><span style=\"color: #808000; text-decoration-color: #808000; font-weight: bold\">Warning:</span><span style=\"color: #808000; text-decoration-color: #808000\"> meshio does not support tags of string type.</span>\n",
       "<span style=\"color: #808000; text-decoration-color: #808000\">    Surface tag  AIRFOIL will be replaced by </span><span style=\"color: #808000; text-decoration-color: #808000; font-weight: bold\">1</span>\n",
       "</pre>\n"
      ],
      "text/plain": [
       "\u001b[1;33mWarning:\u001b[0m\u001b[33m meshio does not support tags of string type.\u001b[0m\n",
       "\u001b[33m    Surface tag  AIRFOIL will be replaced by \u001b[0m\u001b[1;33m1\u001b[0m\n"
      ]
     },
     "metadata": {},
     "output_type": "display_data"
    },
    {
     "data": {
      "text/html": [
       "<pre style=\"white-space:pre;overflow-x:auto;line-height:normal;font-family:Menlo,'DejaVu Sans Mono',consolas,'Courier New',monospace\"><span style=\"color: #808000; text-decoration-color: #808000; font-weight: bold\">Warning:</span><span style=\"color: #808000; text-decoration-color: #808000\"> meshio does not support tags of string type.</span>\n",
       "<span style=\"color: #808000; text-decoration-color: #808000\">    Surface tag  FARFIELD will be replaced by </span><span style=\"color: #808000; text-decoration-color: #808000; font-weight: bold\">2</span>\n",
       "</pre>\n"
      ],
      "text/plain": [
       "\u001b[1;33mWarning:\u001b[0m\u001b[33m meshio does not support tags of string type.\u001b[0m\n",
       "\u001b[33m    Surface tag  FARFIELD will be replaced by \u001b[0m\u001b[1;33m2\u001b[0m\n"
      ]
     },
     "metadata": {},
     "output_type": "display_data"
    },
    {
     "name": "stdout",
     "output_type": "stream",
     "text": [
      "Reading ../Data/SOBOL_DESIGNS_RANS/DESIGNS/DSN_0024/DIRECT/../config_DSN.cfg\n"
     ]
    },
    {
     "data": {
      "text/html": [
       "<pre style=\"white-space:pre;overflow-x:auto;line-height:normal;font-family:Menlo,'DejaVu Sans Mono',consolas,'Courier New',monospace\"><span style=\"color: #808000; text-decoration-color: #808000; font-weight: bold\">Warning:</span><span style=\"color: #808000; text-decoration-color: #808000\"> meshio does not support tags of string type.</span>\n",
       "<span style=\"color: #808000; text-decoration-color: #808000\">    Surface tag  AIRFOIL will be replaced by </span><span style=\"color: #808000; text-decoration-color: #808000; font-weight: bold\">1</span>\n",
       "</pre>\n"
      ],
      "text/plain": [
       "\u001b[1;33mWarning:\u001b[0m\u001b[33m meshio does not support tags of string type.\u001b[0m\n",
       "\u001b[33m    Surface tag  AIRFOIL will be replaced by \u001b[0m\u001b[1;33m1\u001b[0m\n"
      ]
     },
     "metadata": {},
     "output_type": "display_data"
    },
    {
     "data": {
      "text/html": [
       "<pre style=\"white-space:pre;overflow-x:auto;line-height:normal;font-family:Menlo,'DejaVu Sans Mono',consolas,'Courier New',monospace\"><span style=\"color: #808000; text-decoration-color: #808000; font-weight: bold\">Warning:</span><span style=\"color: #808000; text-decoration-color: #808000\"> meshio does not support tags of string type.</span>\n",
       "<span style=\"color: #808000; text-decoration-color: #808000\">    Surface tag  FARFIELD will be replaced by </span><span style=\"color: #808000; text-decoration-color: #808000; font-weight: bold\">2</span>\n",
       "</pre>\n"
      ],
      "text/plain": [
       "\u001b[1;33mWarning:\u001b[0m\u001b[33m meshio does not support tags of string type.\u001b[0m\n",
       "\u001b[33m    Surface tag  FARFIELD will be replaced by \u001b[0m\u001b[1;33m2\u001b[0m\n"
      ]
     },
     "metadata": {},
     "output_type": "display_data"
    },
    {
     "name": "stdout",
     "output_type": "stream",
     "text": [
      "Reading ../Data/SOBOL_DESIGNS_RANS/DESIGNS/DSN_0025/DIRECT/../config_DSN.cfg\n"
     ]
    },
    {
     "data": {
      "text/html": [
       "<pre style=\"white-space:pre;overflow-x:auto;line-height:normal;font-family:Menlo,'DejaVu Sans Mono',consolas,'Courier New',monospace\"><span style=\"color: #808000; text-decoration-color: #808000; font-weight: bold\">Warning:</span><span style=\"color: #808000; text-decoration-color: #808000\"> meshio does not support tags of string type.</span>\n",
       "<span style=\"color: #808000; text-decoration-color: #808000\">    Surface tag  AIRFOIL will be replaced by </span><span style=\"color: #808000; text-decoration-color: #808000; font-weight: bold\">1</span>\n",
       "</pre>\n"
      ],
      "text/plain": [
       "\u001b[1;33mWarning:\u001b[0m\u001b[33m meshio does not support tags of string type.\u001b[0m\n",
       "\u001b[33m    Surface tag  AIRFOIL will be replaced by \u001b[0m\u001b[1;33m1\u001b[0m\n"
      ]
     },
     "metadata": {},
     "output_type": "display_data"
    },
    {
     "data": {
      "text/html": [
       "<pre style=\"white-space:pre;overflow-x:auto;line-height:normal;font-family:Menlo,'DejaVu Sans Mono',consolas,'Courier New',monospace\"><span style=\"color: #808000; text-decoration-color: #808000; font-weight: bold\">Warning:</span><span style=\"color: #808000; text-decoration-color: #808000\"> meshio does not support tags of string type.</span>\n",
       "<span style=\"color: #808000; text-decoration-color: #808000\">    Surface tag  FARFIELD will be replaced by </span><span style=\"color: #808000; text-decoration-color: #808000; font-weight: bold\">2</span>\n",
       "</pre>\n"
      ],
      "text/plain": [
       "\u001b[1;33mWarning:\u001b[0m\u001b[33m meshio does not support tags of string type.\u001b[0m\n",
       "\u001b[33m    Surface tag  FARFIELD will be replaced by \u001b[0m\u001b[1;33m2\u001b[0m\n"
      ]
     },
     "metadata": {},
     "output_type": "display_data"
    },
    {
     "name": "stdout",
     "output_type": "stream",
     "text": [
      "Reading ../Data/SOBOL_DESIGNS_RANS/DESIGNS/DSN_0026/DIRECT/../config_DSN.cfg\n"
     ]
    },
    {
     "data": {
      "text/html": [
       "<pre style=\"white-space:pre;overflow-x:auto;line-height:normal;font-family:Menlo,'DejaVu Sans Mono',consolas,'Courier New',monospace\"><span style=\"color: #808000; text-decoration-color: #808000; font-weight: bold\">Warning:</span><span style=\"color: #808000; text-decoration-color: #808000\"> meshio does not support tags of string type.</span>\n",
       "<span style=\"color: #808000; text-decoration-color: #808000\">    Surface tag  AIRFOIL will be replaced by </span><span style=\"color: #808000; text-decoration-color: #808000; font-weight: bold\">1</span>\n",
       "</pre>\n"
      ],
      "text/plain": [
       "\u001b[1;33mWarning:\u001b[0m\u001b[33m meshio does not support tags of string type.\u001b[0m\n",
       "\u001b[33m    Surface tag  AIRFOIL will be replaced by \u001b[0m\u001b[1;33m1\u001b[0m\n"
      ]
     },
     "metadata": {},
     "output_type": "display_data"
    },
    {
     "data": {
      "text/html": [
       "<pre style=\"white-space:pre;overflow-x:auto;line-height:normal;font-family:Menlo,'DejaVu Sans Mono',consolas,'Courier New',monospace\"><span style=\"color: #808000; text-decoration-color: #808000; font-weight: bold\">Warning:</span><span style=\"color: #808000; text-decoration-color: #808000\"> meshio does not support tags of string type.</span>\n",
       "<span style=\"color: #808000; text-decoration-color: #808000\">    Surface tag  FARFIELD will be replaced by </span><span style=\"color: #808000; text-decoration-color: #808000; font-weight: bold\">2</span>\n",
       "</pre>\n"
      ],
      "text/plain": [
       "\u001b[1;33mWarning:\u001b[0m\u001b[33m meshio does not support tags of string type.\u001b[0m\n",
       "\u001b[33m    Surface tag  FARFIELD will be replaced by \u001b[0m\u001b[1;33m2\u001b[0m\n"
      ]
     },
     "metadata": {},
     "output_type": "display_data"
    },
    {
     "name": "stdout",
     "output_type": "stream",
     "text": [
      "Reading ../Data/SOBOL_DESIGNS_RANS/DESIGNS/DSN_0027/DIRECT/../config_DSN.cfg\n"
     ]
    },
    {
     "data": {
      "text/html": [
       "<pre style=\"white-space:pre;overflow-x:auto;line-height:normal;font-family:Menlo,'DejaVu Sans Mono',consolas,'Courier New',monospace\"><span style=\"color: #808000; text-decoration-color: #808000; font-weight: bold\">Warning:</span><span style=\"color: #808000; text-decoration-color: #808000\"> meshio does not support tags of string type.</span>\n",
       "<span style=\"color: #808000; text-decoration-color: #808000\">    Surface tag  AIRFOIL will be replaced by </span><span style=\"color: #808000; text-decoration-color: #808000; font-weight: bold\">1</span>\n",
       "</pre>\n"
      ],
      "text/plain": [
       "\u001b[1;33mWarning:\u001b[0m\u001b[33m meshio does not support tags of string type.\u001b[0m\n",
       "\u001b[33m    Surface tag  AIRFOIL will be replaced by \u001b[0m\u001b[1;33m1\u001b[0m\n"
      ]
     },
     "metadata": {},
     "output_type": "display_data"
    },
    {
     "data": {
      "text/html": [
       "<pre style=\"white-space:pre;overflow-x:auto;line-height:normal;font-family:Menlo,'DejaVu Sans Mono',consolas,'Courier New',monospace\"><span style=\"color: #808000; text-decoration-color: #808000; font-weight: bold\">Warning:</span><span style=\"color: #808000; text-decoration-color: #808000\"> meshio does not support tags of string type.</span>\n",
       "<span style=\"color: #808000; text-decoration-color: #808000\">    Surface tag  FARFIELD will be replaced by </span><span style=\"color: #808000; text-decoration-color: #808000; font-weight: bold\">2</span>\n",
       "</pre>\n"
      ],
      "text/plain": [
       "\u001b[1;33mWarning:\u001b[0m\u001b[33m meshio does not support tags of string type.\u001b[0m\n",
       "\u001b[33m    Surface tag  FARFIELD will be replaced by \u001b[0m\u001b[1;33m2\u001b[0m\n"
      ]
     },
     "metadata": {},
     "output_type": "display_data"
    },
    {
     "name": "stdout",
     "output_type": "stream",
     "text": [
      "Reading ../Data/SOBOL_DESIGNS_RANS/DESIGNS/DSN_0028/DIRECT/../config_DSN.cfg\n"
     ]
    },
    {
     "data": {
      "text/html": [
       "<pre style=\"white-space:pre;overflow-x:auto;line-height:normal;font-family:Menlo,'DejaVu Sans Mono',consolas,'Courier New',monospace\"><span style=\"color: #808000; text-decoration-color: #808000; font-weight: bold\">Warning:</span><span style=\"color: #808000; text-decoration-color: #808000\"> meshio does not support tags of string type.</span>\n",
       "<span style=\"color: #808000; text-decoration-color: #808000\">    Surface tag  AIRFOIL will be replaced by </span><span style=\"color: #808000; text-decoration-color: #808000; font-weight: bold\">1</span>\n",
       "</pre>\n"
      ],
      "text/plain": [
       "\u001b[1;33mWarning:\u001b[0m\u001b[33m meshio does not support tags of string type.\u001b[0m\n",
       "\u001b[33m    Surface tag  AIRFOIL will be replaced by \u001b[0m\u001b[1;33m1\u001b[0m\n"
      ]
     },
     "metadata": {},
     "output_type": "display_data"
    },
    {
     "data": {
      "text/html": [
       "<pre style=\"white-space:pre;overflow-x:auto;line-height:normal;font-family:Menlo,'DejaVu Sans Mono',consolas,'Courier New',monospace\"><span style=\"color: #808000; text-decoration-color: #808000; font-weight: bold\">Warning:</span><span style=\"color: #808000; text-decoration-color: #808000\"> meshio does not support tags of string type.</span>\n",
       "<span style=\"color: #808000; text-decoration-color: #808000\">    Surface tag  FARFIELD will be replaced by </span><span style=\"color: #808000; text-decoration-color: #808000; font-weight: bold\">2</span>\n",
       "</pre>\n"
      ],
      "text/plain": [
       "\u001b[1;33mWarning:\u001b[0m\u001b[33m meshio does not support tags of string type.\u001b[0m\n",
       "\u001b[33m    Surface tag  FARFIELD will be replaced by \u001b[0m\u001b[1;33m2\u001b[0m\n"
      ]
     },
     "metadata": {},
     "output_type": "display_data"
    },
    {
     "name": "stdout",
     "output_type": "stream",
     "text": [
      "Reading ../Data/SOBOL_DESIGNS_RANS/DESIGNS/DSN_0029/DIRECT/../config_DSN.cfg\n"
     ]
    },
    {
     "data": {
      "text/html": [
       "<pre style=\"white-space:pre;overflow-x:auto;line-height:normal;font-family:Menlo,'DejaVu Sans Mono',consolas,'Courier New',monospace\"><span style=\"color: #808000; text-decoration-color: #808000; font-weight: bold\">Warning:</span><span style=\"color: #808000; text-decoration-color: #808000\"> meshio does not support tags of string type.</span>\n",
       "<span style=\"color: #808000; text-decoration-color: #808000\">    Surface tag  AIRFOIL will be replaced by </span><span style=\"color: #808000; text-decoration-color: #808000; font-weight: bold\">1</span>\n",
       "</pre>\n"
      ],
      "text/plain": [
       "\u001b[1;33mWarning:\u001b[0m\u001b[33m meshio does not support tags of string type.\u001b[0m\n",
       "\u001b[33m    Surface tag  AIRFOIL will be replaced by \u001b[0m\u001b[1;33m1\u001b[0m\n"
      ]
     },
     "metadata": {},
     "output_type": "display_data"
    },
    {
     "data": {
      "text/html": [
       "<pre style=\"white-space:pre;overflow-x:auto;line-height:normal;font-family:Menlo,'DejaVu Sans Mono',consolas,'Courier New',monospace\"><span style=\"color: #808000; text-decoration-color: #808000; font-weight: bold\">Warning:</span><span style=\"color: #808000; text-decoration-color: #808000\"> meshio does not support tags of string type.</span>\n",
       "<span style=\"color: #808000; text-decoration-color: #808000\">    Surface tag  FARFIELD will be replaced by </span><span style=\"color: #808000; text-decoration-color: #808000; font-weight: bold\">2</span>\n",
       "</pre>\n"
      ],
      "text/plain": [
       "\u001b[1;33mWarning:\u001b[0m\u001b[33m meshio does not support tags of string type.\u001b[0m\n",
       "\u001b[33m    Surface tag  FARFIELD will be replaced by \u001b[0m\u001b[1;33m2\u001b[0m\n"
      ]
     },
     "metadata": {},
     "output_type": "display_data"
    },
    {
     "name": "stdout",
     "output_type": "stream",
     "text": [
      "Reading ../Data/SOBOL_DESIGNS_RANS/DESIGNS/DSN_0030/DIRECT/../config_DSN.cfg\n"
     ]
    },
    {
     "data": {
      "text/html": [
       "<pre style=\"white-space:pre;overflow-x:auto;line-height:normal;font-family:Menlo,'DejaVu Sans Mono',consolas,'Courier New',monospace\"><span style=\"color: #808000; text-decoration-color: #808000; font-weight: bold\">Warning:</span><span style=\"color: #808000; text-decoration-color: #808000\"> meshio does not support tags of string type.</span>\n",
       "<span style=\"color: #808000; text-decoration-color: #808000\">    Surface tag  AIRFOIL will be replaced by </span><span style=\"color: #808000; text-decoration-color: #808000; font-weight: bold\">1</span>\n",
       "</pre>\n"
      ],
      "text/plain": [
       "\u001b[1;33mWarning:\u001b[0m\u001b[33m meshio does not support tags of string type.\u001b[0m\n",
       "\u001b[33m    Surface tag  AIRFOIL will be replaced by \u001b[0m\u001b[1;33m1\u001b[0m\n"
      ]
     },
     "metadata": {},
     "output_type": "display_data"
    },
    {
     "data": {
      "text/html": [
       "<pre style=\"white-space:pre;overflow-x:auto;line-height:normal;font-family:Menlo,'DejaVu Sans Mono',consolas,'Courier New',monospace\"><span style=\"color: #808000; text-decoration-color: #808000; font-weight: bold\">Warning:</span><span style=\"color: #808000; text-decoration-color: #808000\"> meshio does not support tags of string type.</span>\n",
       "<span style=\"color: #808000; text-decoration-color: #808000\">    Surface tag  FARFIELD will be replaced by </span><span style=\"color: #808000; text-decoration-color: #808000; font-weight: bold\">2</span>\n",
       "</pre>\n"
      ],
      "text/plain": [
       "\u001b[1;33mWarning:\u001b[0m\u001b[33m meshio does not support tags of string type.\u001b[0m\n",
       "\u001b[33m    Surface tag  FARFIELD will be replaced by \u001b[0m\u001b[1;33m2\u001b[0m\n"
      ]
     },
     "metadata": {},
     "output_type": "display_data"
    },
    {
     "name": "stdout",
     "output_type": "stream",
     "text": [
      "Reading ../Data/SOBOL_DESIGNS_RANS/DESIGNS/DSN_0031/DIRECT/../config_DSN.cfg\n"
     ]
    },
    {
     "data": {
      "text/html": [
       "<pre style=\"white-space:pre;overflow-x:auto;line-height:normal;font-family:Menlo,'DejaVu Sans Mono',consolas,'Courier New',monospace\"><span style=\"color: #808000; text-decoration-color: #808000; font-weight: bold\">Warning:</span><span style=\"color: #808000; text-decoration-color: #808000\"> meshio does not support tags of string type.</span>\n",
       "<span style=\"color: #808000; text-decoration-color: #808000\">    Surface tag  AIRFOIL will be replaced by </span><span style=\"color: #808000; text-decoration-color: #808000; font-weight: bold\">1</span>\n",
       "</pre>\n"
      ],
      "text/plain": [
       "\u001b[1;33mWarning:\u001b[0m\u001b[33m meshio does not support tags of string type.\u001b[0m\n",
       "\u001b[33m    Surface tag  AIRFOIL will be replaced by \u001b[0m\u001b[1;33m1\u001b[0m\n"
      ]
     },
     "metadata": {},
     "output_type": "display_data"
    },
    {
     "data": {
      "text/html": [
       "<pre style=\"white-space:pre;overflow-x:auto;line-height:normal;font-family:Menlo,'DejaVu Sans Mono',consolas,'Courier New',monospace\"><span style=\"color: #808000; text-decoration-color: #808000; font-weight: bold\">Warning:</span><span style=\"color: #808000; text-decoration-color: #808000\"> meshio does not support tags of string type.</span>\n",
       "<span style=\"color: #808000; text-decoration-color: #808000\">    Surface tag  FARFIELD will be replaced by </span><span style=\"color: #808000; text-decoration-color: #808000; font-weight: bold\">2</span>\n",
       "</pre>\n"
      ],
      "text/plain": [
       "\u001b[1;33mWarning:\u001b[0m\u001b[33m meshio does not support tags of string type.\u001b[0m\n",
       "\u001b[33m    Surface tag  FARFIELD will be replaced by \u001b[0m\u001b[1;33m2\u001b[0m\n"
      ]
     },
     "metadata": {},
     "output_type": "display_data"
    },
    {
     "name": "stdout",
     "output_type": "stream",
     "text": [
      "Reading ../Data/SOBOL_DESIGNS_RANS/DESIGNS/DSN_0032/DIRECT/../config_DSN.cfg\n"
     ]
    },
    {
     "data": {
      "text/html": [
       "<pre style=\"white-space:pre;overflow-x:auto;line-height:normal;font-family:Menlo,'DejaVu Sans Mono',consolas,'Courier New',monospace\"><span style=\"color: #808000; text-decoration-color: #808000; font-weight: bold\">Warning:</span><span style=\"color: #808000; text-decoration-color: #808000\"> meshio does not support tags of string type.</span>\n",
       "<span style=\"color: #808000; text-decoration-color: #808000\">    Surface tag  AIRFOIL will be replaced by </span><span style=\"color: #808000; text-decoration-color: #808000; font-weight: bold\">1</span>\n",
       "</pre>\n"
      ],
      "text/plain": [
       "\u001b[1;33mWarning:\u001b[0m\u001b[33m meshio does not support tags of string type.\u001b[0m\n",
       "\u001b[33m    Surface tag  AIRFOIL will be replaced by \u001b[0m\u001b[1;33m1\u001b[0m\n"
      ]
     },
     "metadata": {},
     "output_type": "display_data"
    },
    {
     "data": {
      "text/html": [
       "<pre style=\"white-space:pre;overflow-x:auto;line-height:normal;font-family:Menlo,'DejaVu Sans Mono',consolas,'Courier New',monospace\"><span style=\"color: #808000; text-decoration-color: #808000; font-weight: bold\">Warning:</span><span style=\"color: #808000; text-decoration-color: #808000\"> meshio does not support tags of string type.</span>\n",
       "<span style=\"color: #808000; text-decoration-color: #808000\">    Surface tag  FARFIELD will be replaced by </span><span style=\"color: #808000; text-decoration-color: #808000; font-weight: bold\">2</span>\n",
       "</pre>\n"
      ],
      "text/plain": [
       "\u001b[1;33mWarning:\u001b[0m\u001b[33m meshio does not support tags of string type.\u001b[0m\n",
       "\u001b[33m    Surface tag  FARFIELD will be replaced by \u001b[0m\u001b[1;33m2\u001b[0m\n"
      ]
     },
     "metadata": {},
     "output_type": "display_data"
    },
    {
     "name": "stdout",
     "output_type": "stream",
     "text": [
      "Reading ../Data/SOBOL_DESIGNS_RANS/DESIGNS/DSN_0033/DIRECT/../config_DSN.cfg\n"
     ]
    },
    {
     "data": {
      "text/html": [
       "<pre style=\"white-space:pre;overflow-x:auto;line-height:normal;font-family:Menlo,'DejaVu Sans Mono',consolas,'Courier New',monospace\"><span style=\"color: #808000; text-decoration-color: #808000; font-weight: bold\">Warning:</span><span style=\"color: #808000; text-decoration-color: #808000\"> meshio does not support tags of string type.</span>\n",
       "<span style=\"color: #808000; text-decoration-color: #808000\">    Surface tag  AIRFOIL will be replaced by </span><span style=\"color: #808000; text-decoration-color: #808000; font-weight: bold\">1</span>\n",
       "</pre>\n"
      ],
      "text/plain": [
       "\u001b[1;33mWarning:\u001b[0m\u001b[33m meshio does not support tags of string type.\u001b[0m\n",
       "\u001b[33m    Surface tag  AIRFOIL will be replaced by \u001b[0m\u001b[1;33m1\u001b[0m\n"
      ]
     },
     "metadata": {},
     "output_type": "display_data"
    },
    {
     "data": {
      "text/html": [
       "<pre style=\"white-space:pre;overflow-x:auto;line-height:normal;font-family:Menlo,'DejaVu Sans Mono',consolas,'Courier New',monospace\"><span style=\"color: #808000; text-decoration-color: #808000; font-weight: bold\">Warning:</span><span style=\"color: #808000; text-decoration-color: #808000\"> meshio does not support tags of string type.</span>\n",
       "<span style=\"color: #808000; text-decoration-color: #808000\">    Surface tag  FARFIELD will be replaced by </span><span style=\"color: #808000; text-decoration-color: #808000; font-weight: bold\">2</span>\n",
       "</pre>\n"
      ],
      "text/plain": [
       "\u001b[1;33mWarning:\u001b[0m\u001b[33m meshio does not support tags of string type.\u001b[0m\n",
       "\u001b[33m    Surface tag  FARFIELD will be replaced by \u001b[0m\u001b[1;33m2\u001b[0m\n"
      ]
     },
     "metadata": {},
     "output_type": "display_data"
    },
    {
     "name": "stdout",
     "output_type": "stream",
     "text": [
      "Reading ../Data/SOBOL_DESIGNS_RANS/DESIGNS/DSN_0034/DIRECT/../config_DSN.cfg\n"
     ]
    },
    {
     "data": {
      "text/html": [
       "<pre style=\"white-space:pre;overflow-x:auto;line-height:normal;font-family:Menlo,'DejaVu Sans Mono',consolas,'Courier New',monospace\"><span style=\"color: #808000; text-decoration-color: #808000; font-weight: bold\">Warning:</span><span style=\"color: #808000; text-decoration-color: #808000\"> meshio does not support tags of string type.</span>\n",
       "<span style=\"color: #808000; text-decoration-color: #808000\">    Surface tag  AIRFOIL will be replaced by </span><span style=\"color: #808000; text-decoration-color: #808000; font-weight: bold\">1</span>\n",
       "</pre>\n"
      ],
      "text/plain": [
       "\u001b[1;33mWarning:\u001b[0m\u001b[33m meshio does not support tags of string type.\u001b[0m\n",
       "\u001b[33m    Surface tag  AIRFOIL will be replaced by \u001b[0m\u001b[1;33m1\u001b[0m\n"
      ]
     },
     "metadata": {},
     "output_type": "display_data"
    },
    {
     "data": {
      "text/html": [
       "<pre style=\"white-space:pre;overflow-x:auto;line-height:normal;font-family:Menlo,'DejaVu Sans Mono',consolas,'Courier New',monospace\"><span style=\"color: #808000; text-decoration-color: #808000; font-weight: bold\">Warning:</span><span style=\"color: #808000; text-decoration-color: #808000\"> meshio does not support tags of string type.</span>\n",
       "<span style=\"color: #808000; text-decoration-color: #808000\">    Surface tag  FARFIELD will be replaced by </span><span style=\"color: #808000; text-decoration-color: #808000; font-weight: bold\">2</span>\n",
       "</pre>\n"
      ],
      "text/plain": [
       "\u001b[1;33mWarning:\u001b[0m\u001b[33m meshio does not support tags of string type.\u001b[0m\n",
       "\u001b[33m    Surface tag  FARFIELD will be replaced by \u001b[0m\u001b[1;33m2\u001b[0m\n"
      ]
     },
     "metadata": {},
     "output_type": "display_data"
    },
    {
     "name": "stdout",
     "output_type": "stream",
     "text": [
      "Reading ../Data/SOBOL_DESIGNS_RANS/DESIGNS/DSN_0035/DIRECT/../config_DSN.cfg\n"
     ]
    },
    {
     "data": {
      "text/html": [
       "<pre style=\"white-space:pre;overflow-x:auto;line-height:normal;font-family:Menlo,'DejaVu Sans Mono',consolas,'Courier New',monospace\"><span style=\"color: #808000; text-decoration-color: #808000; font-weight: bold\">Warning:</span><span style=\"color: #808000; text-decoration-color: #808000\"> meshio does not support tags of string type.</span>\n",
       "<span style=\"color: #808000; text-decoration-color: #808000\">    Surface tag  AIRFOIL will be replaced by </span><span style=\"color: #808000; text-decoration-color: #808000; font-weight: bold\">1</span>\n",
       "</pre>\n"
      ],
      "text/plain": [
       "\u001b[1;33mWarning:\u001b[0m\u001b[33m meshio does not support tags of string type.\u001b[0m\n",
       "\u001b[33m    Surface tag  AIRFOIL will be replaced by \u001b[0m\u001b[1;33m1\u001b[0m\n"
      ]
     },
     "metadata": {},
     "output_type": "display_data"
    },
    {
     "data": {
      "text/html": [
       "<pre style=\"white-space:pre;overflow-x:auto;line-height:normal;font-family:Menlo,'DejaVu Sans Mono',consolas,'Courier New',monospace\"><span style=\"color: #808000; text-decoration-color: #808000; font-weight: bold\">Warning:</span><span style=\"color: #808000; text-decoration-color: #808000\"> meshio does not support tags of string type.</span>\n",
       "<span style=\"color: #808000; text-decoration-color: #808000\">    Surface tag  FARFIELD will be replaced by </span><span style=\"color: #808000; text-decoration-color: #808000; font-weight: bold\">2</span>\n",
       "</pre>\n"
      ],
      "text/plain": [
       "\u001b[1;33mWarning:\u001b[0m\u001b[33m meshio does not support tags of string type.\u001b[0m\n",
       "\u001b[33m    Surface tag  FARFIELD will be replaced by \u001b[0m\u001b[1;33m2\u001b[0m\n"
      ]
     },
     "metadata": {},
     "output_type": "display_data"
    },
    {
     "name": "stdout",
     "output_type": "stream",
     "text": [
      "Reading ../Data/SOBOL_DESIGNS_RANS/DESIGNS/DSN_0036/DIRECT/../config_DSN.cfg\n"
     ]
    },
    {
     "data": {
      "text/html": [
       "<pre style=\"white-space:pre;overflow-x:auto;line-height:normal;font-family:Menlo,'DejaVu Sans Mono',consolas,'Courier New',monospace\"><span style=\"color: #808000; text-decoration-color: #808000; font-weight: bold\">Warning:</span><span style=\"color: #808000; text-decoration-color: #808000\"> meshio does not support tags of string type.</span>\n",
       "<span style=\"color: #808000; text-decoration-color: #808000\">    Surface tag  AIRFOIL will be replaced by </span><span style=\"color: #808000; text-decoration-color: #808000; font-weight: bold\">1</span>\n",
       "</pre>\n"
      ],
      "text/plain": [
       "\u001b[1;33mWarning:\u001b[0m\u001b[33m meshio does not support tags of string type.\u001b[0m\n",
       "\u001b[33m    Surface tag  AIRFOIL will be replaced by \u001b[0m\u001b[1;33m1\u001b[0m\n"
      ]
     },
     "metadata": {},
     "output_type": "display_data"
    },
    {
     "data": {
      "text/html": [
       "<pre style=\"white-space:pre;overflow-x:auto;line-height:normal;font-family:Menlo,'DejaVu Sans Mono',consolas,'Courier New',monospace\"><span style=\"color: #808000; text-decoration-color: #808000; font-weight: bold\">Warning:</span><span style=\"color: #808000; text-decoration-color: #808000\"> meshio does not support tags of string type.</span>\n",
       "<span style=\"color: #808000; text-decoration-color: #808000\">    Surface tag  FARFIELD will be replaced by </span><span style=\"color: #808000; text-decoration-color: #808000; font-weight: bold\">2</span>\n",
       "</pre>\n"
      ],
      "text/plain": [
       "\u001b[1;33mWarning:\u001b[0m\u001b[33m meshio does not support tags of string type.\u001b[0m\n",
       "\u001b[33m    Surface tag  FARFIELD will be replaced by \u001b[0m\u001b[1;33m2\u001b[0m\n"
      ]
     },
     "metadata": {},
     "output_type": "display_data"
    },
    {
     "name": "stdout",
     "output_type": "stream",
     "text": [
      "Reading ../Data/SOBOL_DESIGNS_RANS/DESIGNS/DSN_0037/DIRECT/../config_DSN.cfg\n"
     ]
    },
    {
     "data": {
      "text/html": [
       "<pre style=\"white-space:pre;overflow-x:auto;line-height:normal;font-family:Menlo,'DejaVu Sans Mono',consolas,'Courier New',monospace\"><span style=\"color: #808000; text-decoration-color: #808000; font-weight: bold\">Warning:</span><span style=\"color: #808000; text-decoration-color: #808000\"> meshio does not support tags of string type.</span>\n",
       "<span style=\"color: #808000; text-decoration-color: #808000\">    Surface tag  AIRFOIL will be replaced by </span><span style=\"color: #808000; text-decoration-color: #808000; font-weight: bold\">1</span>\n",
       "</pre>\n"
      ],
      "text/plain": [
       "\u001b[1;33mWarning:\u001b[0m\u001b[33m meshio does not support tags of string type.\u001b[0m\n",
       "\u001b[33m    Surface tag  AIRFOIL will be replaced by \u001b[0m\u001b[1;33m1\u001b[0m\n"
      ]
     },
     "metadata": {},
     "output_type": "display_data"
    },
    {
     "data": {
      "text/html": [
       "<pre style=\"white-space:pre;overflow-x:auto;line-height:normal;font-family:Menlo,'DejaVu Sans Mono',consolas,'Courier New',monospace\"><span style=\"color: #808000; text-decoration-color: #808000; font-weight: bold\">Warning:</span><span style=\"color: #808000; text-decoration-color: #808000\"> meshio does not support tags of string type.</span>\n",
       "<span style=\"color: #808000; text-decoration-color: #808000\">    Surface tag  FARFIELD will be replaced by </span><span style=\"color: #808000; text-decoration-color: #808000; font-weight: bold\">2</span>\n",
       "</pre>\n"
      ],
      "text/plain": [
       "\u001b[1;33mWarning:\u001b[0m\u001b[33m meshio does not support tags of string type.\u001b[0m\n",
       "\u001b[33m    Surface tag  FARFIELD will be replaced by \u001b[0m\u001b[1;33m2\u001b[0m\n"
      ]
     },
     "metadata": {},
     "output_type": "display_data"
    },
    {
     "name": "stdout",
     "output_type": "stream",
     "text": [
      "Reading ../Data/SOBOL_DESIGNS_RANS/DESIGNS/DSN_0038/DIRECT/../config_DSN.cfg\n"
     ]
    },
    {
     "data": {
      "text/html": [
       "<pre style=\"white-space:pre;overflow-x:auto;line-height:normal;font-family:Menlo,'DejaVu Sans Mono',consolas,'Courier New',monospace\"><span style=\"color: #808000; text-decoration-color: #808000; font-weight: bold\">Warning:</span><span style=\"color: #808000; text-decoration-color: #808000\"> meshio does not support tags of string type.</span>\n",
       "<span style=\"color: #808000; text-decoration-color: #808000\">    Surface tag  AIRFOIL will be replaced by </span><span style=\"color: #808000; text-decoration-color: #808000; font-weight: bold\">1</span>\n",
       "</pre>\n"
      ],
      "text/plain": [
       "\u001b[1;33mWarning:\u001b[0m\u001b[33m meshio does not support tags of string type.\u001b[0m\n",
       "\u001b[33m    Surface tag  AIRFOIL will be replaced by \u001b[0m\u001b[1;33m1\u001b[0m\n"
      ]
     },
     "metadata": {},
     "output_type": "display_data"
    },
    {
     "data": {
      "text/html": [
       "<pre style=\"white-space:pre;overflow-x:auto;line-height:normal;font-family:Menlo,'DejaVu Sans Mono',consolas,'Courier New',monospace\"><span style=\"color: #808000; text-decoration-color: #808000; font-weight: bold\">Warning:</span><span style=\"color: #808000; text-decoration-color: #808000\"> meshio does not support tags of string type.</span>\n",
       "<span style=\"color: #808000; text-decoration-color: #808000\">    Surface tag  FARFIELD will be replaced by </span><span style=\"color: #808000; text-decoration-color: #808000; font-weight: bold\">2</span>\n",
       "</pre>\n"
      ],
      "text/plain": [
       "\u001b[1;33mWarning:\u001b[0m\u001b[33m meshio does not support tags of string type.\u001b[0m\n",
       "\u001b[33m    Surface tag  FARFIELD will be replaced by \u001b[0m\u001b[1;33m2\u001b[0m\n"
      ]
     },
     "metadata": {},
     "output_type": "display_data"
    },
    {
     "name": "stdout",
     "output_type": "stream",
     "text": [
      "Reading ../Data/SOBOL_DESIGNS_RANS/DESIGNS/DSN_0039/DIRECT/../config_DSN.cfg\n"
     ]
    },
    {
     "data": {
      "text/html": [
       "<pre style=\"white-space:pre;overflow-x:auto;line-height:normal;font-family:Menlo,'DejaVu Sans Mono',consolas,'Courier New',monospace\"><span style=\"color: #808000; text-decoration-color: #808000; font-weight: bold\">Warning:</span><span style=\"color: #808000; text-decoration-color: #808000\"> meshio does not support tags of string type.</span>\n",
       "<span style=\"color: #808000; text-decoration-color: #808000\">    Surface tag  AIRFOIL will be replaced by </span><span style=\"color: #808000; text-decoration-color: #808000; font-weight: bold\">1</span>\n",
       "</pre>\n"
      ],
      "text/plain": [
       "\u001b[1;33mWarning:\u001b[0m\u001b[33m meshio does not support tags of string type.\u001b[0m\n",
       "\u001b[33m    Surface tag  AIRFOIL will be replaced by \u001b[0m\u001b[1;33m1\u001b[0m\n"
      ]
     },
     "metadata": {},
     "output_type": "display_data"
    },
    {
     "data": {
      "text/html": [
       "<pre style=\"white-space:pre;overflow-x:auto;line-height:normal;font-family:Menlo,'DejaVu Sans Mono',consolas,'Courier New',monospace\"><span style=\"color: #808000; text-decoration-color: #808000; font-weight: bold\">Warning:</span><span style=\"color: #808000; text-decoration-color: #808000\"> meshio does not support tags of string type.</span>\n",
       "<span style=\"color: #808000; text-decoration-color: #808000\">    Surface tag  FARFIELD will be replaced by </span><span style=\"color: #808000; text-decoration-color: #808000; font-weight: bold\">2</span>\n",
       "</pre>\n"
      ],
      "text/plain": [
       "\u001b[1;33mWarning:\u001b[0m\u001b[33m meshio does not support tags of string type.\u001b[0m\n",
       "\u001b[33m    Surface tag  FARFIELD will be replaced by \u001b[0m\u001b[1;33m2\u001b[0m\n"
      ]
     },
     "metadata": {},
     "output_type": "display_data"
    },
    {
     "name": "stdout",
     "output_type": "stream",
     "text": [
      "Reading ../Data/SOBOL_DESIGNS_RANS/DESIGNS/DSN_0040/DIRECT/../config_DSN.cfg\n"
     ]
    },
    {
     "data": {
      "text/html": [
       "<pre style=\"white-space:pre;overflow-x:auto;line-height:normal;font-family:Menlo,'DejaVu Sans Mono',consolas,'Courier New',monospace\"><span style=\"color: #808000; text-decoration-color: #808000; font-weight: bold\">Warning:</span><span style=\"color: #808000; text-decoration-color: #808000\"> meshio does not support tags of string type.</span>\n",
       "<span style=\"color: #808000; text-decoration-color: #808000\">    Surface tag  AIRFOIL will be replaced by </span><span style=\"color: #808000; text-decoration-color: #808000; font-weight: bold\">1</span>\n",
       "</pre>\n"
      ],
      "text/plain": [
       "\u001b[1;33mWarning:\u001b[0m\u001b[33m meshio does not support tags of string type.\u001b[0m\n",
       "\u001b[33m    Surface tag  AIRFOIL will be replaced by \u001b[0m\u001b[1;33m1\u001b[0m\n"
      ]
     },
     "metadata": {},
     "output_type": "display_data"
    },
    {
     "data": {
      "text/html": [
       "<pre style=\"white-space:pre;overflow-x:auto;line-height:normal;font-family:Menlo,'DejaVu Sans Mono',consolas,'Courier New',monospace\"><span style=\"color: #808000; text-decoration-color: #808000; font-weight: bold\">Warning:</span><span style=\"color: #808000; text-decoration-color: #808000\"> meshio does not support tags of string type.</span>\n",
       "<span style=\"color: #808000; text-decoration-color: #808000\">    Surface tag  FARFIELD will be replaced by </span><span style=\"color: #808000; text-decoration-color: #808000; font-weight: bold\">2</span>\n",
       "</pre>\n"
      ],
      "text/plain": [
       "\u001b[1;33mWarning:\u001b[0m\u001b[33m meshio does not support tags of string type.\u001b[0m\n",
       "\u001b[33m    Surface tag  FARFIELD will be replaced by \u001b[0m\u001b[1;33m2\u001b[0m\n"
      ]
     },
     "metadata": {},
     "output_type": "display_data"
    },
    {
     "name": "stdout",
     "output_type": "stream",
     "text": [
      "Reading ../Data/SOBOL_DESIGNS_RANS/DESIGNS/DSN_0041/DIRECT/../config_DSN.cfg\n"
     ]
    },
    {
     "data": {
      "text/html": [
       "<pre style=\"white-space:pre;overflow-x:auto;line-height:normal;font-family:Menlo,'DejaVu Sans Mono',consolas,'Courier New',monospace\"><span style=\"color: #808000; text-decoration-color: #808000; font-weight: bold\">Warning:</span><span style=\"color: #808000; text-decoration-color: #808000\"> meshio does not support tags of string type.</span>\n",
       "<span style=\"color: #808000; text-decoration-color: #808000\">    Surface tag  AIRFOIL will be replaced by </span><span style=\"color: #808000; text-decoration-color: #808000; font-weight: bold\">1</span>\n",
       "</pre>\n"
      ],
      "text/plain": [
       "\u001b[1;33mWarning:\u001b[0m\u001b[33m meshio does not support tags of string type.\u001b[0m\n",
       "\u001b[33m    Surface tag  AIRFOIL will be replaced by \u001b[0m\u001b[1;33m1\u001b[0m\n"
      ]
     },
     "metadata": {},
     "output_type": "display_data"
    },
    {
     "data": {
      "text/html": [
       "<pre style=\"white-space:pre;overflow-x:auto;line-height:normal;font-family:Menlo,'DejaVu Sans Mono',consolas,'Courier New',monospace\"><span style=\"color: #808000; text-decoration-color: #808000; font-weight: bold\">Warning:</span><span style=\"color: #808000; text-decoration-color: #808000\"> meshio does not support tags of string type.</span>\n",
       "<span style=\"color: #808000; text-decoration-color: #808000\">    Surface tag  FARFIELD will be replaced by </span><span style=\"color: #808000; text-decoration-color: #808000; font-weight: bold\">2</span>\n",
       "</pre>\n"
      ],
      "text/plain": [
       "\u001b[1;33mWarning:\u001b[0m\u001b[33m meshio does not support tags of string type.\u001b[0m\n",
       "\u001b[33m    Surface tag  FARFIELD will be replaced by \u001b[0m\u001b[1;33m2\u001b[0m\n"
      ]
     },
     "metadata": {},
     "output_type": "display_data"
    },
    {
     "name": "stdout",
     "output_type": "stream",
     "text": [
      "Reading ../Data/SOBOL_DESIGNS_RANS/DESIGNS/DSN_0042/DIRECT/../config_DSN.cfg\n"
     ]
    },
    {
     "data": {
      "text/html": [
       "<pre style=\"white-space:pre;overflow-x:auto;line-height:normal;font-family:Menlo,'DejaVu Sans Mono',consolas,'Courier New',monospace\"><span style=\"color: #808000; text-decoration-color: #808000; font-weight: bold\">Warning:</span><span style=\"color: #808000; text-decoration-color: #808000\"> meshio does not support tags of string type.</span>\n",
       "<span style=\"color: #808000; text-decoration-color: #808000\">    Surface tag  AIRFOIL will be replaced by </span><span style=\"color: #808000; text-decoration-color: #808000; font-weight: bold\">1</span>\n",
       "</pre>\n"
      ],
      "text/plain": [
       "\u001b[1;33mWarning:\u001b[0m\u001b[33m meshio does not support tags of string type.\u001b[0m\n",
       "\u001b[33m    Surface tag  AIRFOIL will be replaced by \u001b[0m\u001b[1;33m1\u001b[0m\n"
      ]
     },
     "metadata": {},
     "output_type": "display_data"
    },
    {
     "data": {
      "text/html": [
       "<pre style=\"white-space:pre;overflow-x:auto;line-height:normal;font-family:Menlo,'DejaVu Sans Mono',consolas,'Courier New',monospace\"><span style=\"color: #808000; text-decoration-color: #808000; font-weight: bold\">Warning:</span><span style=\"color: #808000; text-decoration-color: #808000\"> meshio does not support tags of string type.</span>\n",
       "<span style=\"color: #808000; text-decoration-color: #808000\">    Surface tag  FARFIELD will be replaced by </span><span style=\"color: #808000; text-decoration-color: #808000; font-weight: bold\">2</span>\n",
       "</pre>\n"
      ],
      "text/plain": [
       "\u001b[1;33mWarning:\u001b[0m\u001b[33m meshio does not support tags of string type.\u001b[0m\n",
       "\u001b[33m    Surface tag  FARFIELD will be replaced by \u001b[0m\u001b[1;33m2\u001b[0m\n"
      ]
     },
     "metadata": {},
     "output_type": "display_data"
    },
    {
     "name": "stdout",
     "output_type": "stream",
     "text": [
      "Reading ../Data/SOBOL_DESIGNS_RANS/DESIGNS/DSN_0043/DIRECT/../config_DSN.cfg\n"
     ]
    },
    {
     "data": {
      "text/html": [
       "<pre style=\"white-space:pre;overflow-x:auto;line-height:normal;font-family:Menlo,'DejaVu Sans Mono',consolas,'Courier New',monospace\"><span style=\"color: #808000; text-decoration-color: #808000; font-weight: bold\">Warning:</span><span style=\"color: #808000; text-decoration-color: #808000\"> meshio does not support tags of string type.</span>\n",
       "<span style=\"color: #808000; text-decoration-color: #808000\">    Surface tag  AIRFOIL will be replaced by </span><span style=\"color: #808000; text-decoration-color: #808000; font-weight: bold\">1</span>\n",
       "</pre>\n"
      ],
      "text/plain": [
       "\u001b[1;33mWarning:\u001b[0m\u001b[33m meshio does not support tags of string type.\u001b[0m\n",
       "\u001b[33m    Surface tag  AIRFOIL will be replaced by \u001b[0m\u001b[1;33m1\u001b[0m\n"
      ]
     },
     "metadata": {},
     "output_type": "display_data"
    },
    {
     "data": {
      "text/html": [
       "<pre style=\"white-space:pre;overflow-x:auto;line-height:normal;font-family:Menlo,'DejaVu Sans Mono',consolas,'Courier New',monospace\"><span style=\"color: #808000; text-decoration-color: #808000; font-weight: bold\">Warning:</span><span style=\"color: #808000; text-decoration-color: #808000\"> meshio does not support tags of string type.</span>\n",
       "<span style=\"color: #808000; text-decoration-color: #808000\">    Surface tag  FARFIELD will be replaced by </span><span style=\"color: #808000; text-decoration-color: #808000; font-weight: bold\">2</span>\n",
       "</pre>\n"
      ],
      "text/plain": [
       "\u001b[1;33mWarning:\u001b[0m\u001b[33m meshio does not support tags of string type.\u001b[0m\n",
       "\u001b[33m    Surface tag  FARFIELD will be replaced by \u001b[0m\u001b[1;33m2\u001b[0m\n"
      ]
     },
     "metadata": {},
     "output_type": "display_data"
    },
    {
     "name": "stdout",
     "output_type": "stream",
     "text": [
      "Reading ../Data/SOBOL_DESIGNS_RANS/DESIGNS/DSN_0044/DIRECT/../config_DSN.cfg\n"
     ]
    },
    {
     "data": {
      "text/html": [
       "<pre style=\"white-space:pre;overflow-x:auto;line-height:normal;font-family:Menlo,'DejaVu Sans Mono',consolas,'Courier New',monospace\"><span style=\"color: #808000; text-decoration-color: #808000; font-weight: bold\">Warning:</span><span style=\"color: #808000; text-decoration-color: #808000\"> meshio does not support tags of string type.</span>\n",
       "<span style=\"color: #808000; text-decoration-color: #808000\">    Surface tag  AIRFOIL will be replaced by </span><span style=\"color: #808000; text-decoration-color: #808000; font-weight: bold\">1</span>\n",
       "</pre>\n"
      ],
      "text/plain": [
       "\u001b[1;33mWarning:\u001b[0m\u001b[33m meshio does not support tags of string type.\u001b[0m\n",
       "\u001b[33m    Surface tag  AIRFOIL will be replaced by \u001b[0m\u001b[1;33m1\u001b[0m\n"
      ]
     },
     "metadata": {},
     "output_type": "display_data"
    },
    {
     "data": {
      "text/html": [
       "<pre style=\"white-space:pre;overflow-x:auto;line-height:normal;font-family:Menlo,'DejaVu Sans Mono',consolas,'Courier New',monospace\"><span style=\"color: #808000; text-decoration-color: #808000; font-weight: bold\">Warning:</span><span style=\"color: #808000; text-decoration-color: #808000\"> meshio does not support tags of string type.</span>\n",
       "<span style=\"color: #808000; text-decoration-color: #808000\">    Surface tag  FARFIELD will be replaced by </span><span style=\"color: #808000; text-decoration-color: #808000; font-weight: bold\">2</span>\n",
       "</pre>\n"
      ],
      "text/plain": [
       "\u001b[1;33mWarning:\u001b[0m\u001b[33m meshio does not support tags of string type.\u001b[0m\n",
       "\u001b[33m    Surface tag  FARFIELD will be replaced by \u001b[0m\u001b[1;33m2\u001b[0m\n"
      ]
     },
     "metadata": {},
     "output_type": "display_data"
    },
    {
     "name": "stdout",
     "output_type": "stream",
     "text": [
      "Reading ../Data/SOBOL_DESIGNS_RANS/DESIGNS/DSN_0045/DIRECT/../config_DSN.cfg\n"
     ]
    },
    {
     "data": {
      "text/html": [
       "<pre style=\"white-space:pre;overflow-x:auto;line-height:normal;font-family:Menlo,'DejaVu Sans Mono',consolas,'Courier New',monospace\"><span style=\"color: #808000; text-decoration-color: #808000; font-weight: bold\">Warning:</span><span style=\"color: #808000; text-decoration-color: #808000\"> meshio does not support tags of string type.</span>\n",
       "<span style=\"color: #808000; text-decoration-color: #808000\">    Surface tag  AIRFOIL will be replaced by </span><span style=\"color: #808000; text-decoration-color: #808000; font-weight: bold\">1</span>\n",
       "</pre>\n"
      ],
      "text/plain": [
       "\u001b[1;33mWarning:\u001b[0m\u001b[33m meshio does not support tags of string type.\u001b[0m\n",
       "\u001b[33m    Surface tag  AIRFOIL will be replaced by \u001b[0m\u001b[1;33m1\u001b[0m\n"
      ]
     },
     "metadata": {},
     "output_type": "display_data"
    },
    {
     "data": {
      "text/html": [
       "<pre style=\"white-space:pre;overflow-x:auto;line-height:normal;font-family:Menlo,'DejaVu Sans Mono',consolas,'Courier New',monospace\"><span style=\"color: #808000; text-decoration-color: #808000; font-weight: bold\">Warning:</span><span style=\"color: #808000; text-decoration-color: #808000\"> meshio does not support tags of string type.</span>\n",
       "<span style=\"color: #808000; text-decoration-color: #808000\">    Surface tag  FARFIELD will be replaced by </span><span style=\"color: #808000; text-decoration-color: #808000; font-weight: bold\">2</span>\n",
       "</pre>\n"
      ],
      "text/plain": [
       "\u001b[1;33mWarning:\u001b[0m\u001b[33m meshio does not support tags of string type.\u001b[0m\n",
       "\u001b[33m    Surface tag  FARFIELD will be replaced by \u001b[0m\u001b[1;33m2\u001b[0m\n"
      ]
     },
     "metadata": {},
     "output_type": "display_data"
    },
    {
     "name": "stdout",
     "output_type": "stream",
     "text": [
      "Reading ../Data/SOBOL_DESIGNS_RANS/DESIGNS/DSN_0046/DIRECT/../config_DSN.cfg\n"
     ]
    },
    {
     "data": {
      "text/html": [
       "<pre style=\"white-space:pre;overflow-x:auto;line-height:normal;font-family:Menlo,'DejaVu Sans Mono',consolas,'Courier New',monospace\"><span style=\"color: #808000; text-decoration-color: #808000; font-weight: bold\">Warning:</span><span style=\"color: #808000; text-decoration-color: #808000\"> meshio does not support tags of string type.</span>\n",
       "<span style=\"color: #808000; text-decoration-color: #808000\">    Surface tag  AIRFOIL will be replaced by </span><span style=\"color: #808000; text-decoration-color: #808000; font-weight: bold\">1</span>\n",
       "</pre>\n"
      ],
      "text/plain": [
       "\u001b[1;33mWarning:\u001b[0m\u001b[33m meshio does not support tags of string type.\u001b[0m\n",
       "\u001b[33m    Surface tag  AIRFOIL will be replaced by \u001b[0m\u001b[1;33m1\u001b[0m\n"
      ]
     },
     "metadata": {},
     "output_type": "display_data"
    },
    {
     "data": {
      "text/html": [
       "<pre style=\"white-space:pre;overflow-x:auto;line-height:normal;font-family:Menlo,'DejaVu Sans Mono',consolas,'Courier New',monospace\"><span style=\"color: #808000; text-decoration-color: #808000; font-weight: bold\">Warning:</span><span style=\"color: #808000; text-decoration-color: #808000\"> meshio does not support tags of string type.</span>\n",
       "<span style=\"color: #808000; text-decoration-color: #808000\">    Surface tag  FARFIELD will be replaced by </span><span style=\"color: #808000; text-decoration-color: #808000; font-weight: bold\">2</span>\n",
       "</pre>\n"
      ],
      "text/plain": [
       "\u001b[1;33mWarning:\u001b[0m\u001b[33m meshio does not support tags of string type.\u001b[0m\n",
       "\u001b[33m    Surface tag  FARFIELD will be replaced by \u001b[0m\u001b[1;33m2\u001b[0m\n"
      ]
     },
     "metadata": {},
     "output_type": "display_data"
    },
    {
     "name": "stdout",
     "output_type": "stream",
     "text": [
      "Reading ../Data/SOBOL_DESIGNS_RANS/DESIGNS/DSN_0047/DIRECT/../config_DSN.cfg\n"
     ]
    },
    {
     "data": {
      "text/html": [
       "<pre style=\"white-space:pre;overflow-x:auto;line-height:normal;font-family:Menlo,'DejaVu Sans Mono',consolas,'Courier New',monospace\"><span style=\"color: #808000; text-decoration-color: #808000; font-weight: bold\">Warning:</span><span style=\"color: #808000; text-decoration-color: #808000\"> meshio does not support tags of string type.</span>\n",
       "<span style=\"color: #808000; text-decoration-color: #808000\">    Surface tag  AIRFOIL will be replaced by </span><span style=\"color: #808000; text-decoration-color: #808000; font-weight: bold\">1</span>\n",
       "</pre>\n"
      ],
      "text/plain": [
       "\u001b[1;33mWarning:\u001b[0m\u001b[33m meshio does not support tags of string type.\u001b[0m\n",
       "\u001b[33m    Surface tag  AIRFOIL will be replaced by \u001b[0m\u001b[1;33m1\u001b[0m\n"
      ]
     },
     "metadata": {},
     "output_type": "display_data"
    },
    {
     "data": {
      "text/html": [
       "<pre style=\"white-space:pre;overflow-x:auto;line-height:normal;font-family:Menlo,'DejaVu Sans Mono',consolas,'Courier New',monospace\"><span style=\"color: #808000; text-decoration-color: #808000; font-weight: bold\">Warning:</span><span style=\"color: #808000; text-decoration-color: #808000\"> meshio does not support tags of string type.</span>\n",
       "<span style=\"color: #808000; text-decoration-color: #808000\">    Surface tag  FARFIELD will be replaced by </span><span style=\"color: #808000; text-decoration-color: #808000; font-weight: bold\">2</span>\n",
       "</pre>\n"
      ],
      "text/plain": [
       "\u001b[1;33mWarning:\u001b[0m\u001b[33m meshio does not support tags of string type.\u001b[0m\n",
       "\u001b[33m    Surface tag  FARFIELD will be replaced by \u001b[0m\u001b[1;33m2\u001b[0m\n"
      ]
     },
     "metadata": {},
     "output_type": "display_data"
    },
    {
     "name": "stdout",
     "output_type": "stream",
     "text": [
      "Reading ../Data/SOBOL_DESIGNS_RANS/DESIGNS/DSN_0048/DIRECT/../config_DSN.cfg\n"
     ]
    },
    {
     "data": {
      "text/html": [
       "<pre style=\"white-space:pre;overflow-x:auto;line-height:normal;font-family:Menlo,'DejaVu Sans Mono',consolas,'Courier New',monospace\"><span style=\"color: #808000; text-decoration-color: #808000; font-weight: bold\">Warning:</span><span style=\"color: #808000; text-decoration-color: #808000\"> meshio does not support tags of string type.</span>\n",
       "<span style=\"color: #808000; text-decoration-color: #808000\">    Surface tag  AIRFOIL will be replaced by </span><span style=\"color: #808000; text-decoration-color: #808000; font-weight: bold\">1</span>\n",
       "</pre>\n"
      ],
      "text/plain": [
       "\u001b[1;33mWarning:\u001b[0m\u001b[33m meshio does not support tags of string type.\u001b[0m\n",
       "\u001b[33m    Surface tag  AIRFOIL will be replaced by \u001b[0m\u001b[1;33m1\u001b[0m\n"
      ]
     },
     "metadata": {},
     "output_type": "display_data"
    },
    {
     "data": {
      "text/html": [
       "<pre style=\"white-space:pre;overflow-x:auto;line-height:normal;font-family:Menlo,'DejaVu Sans Mono',consolas,'Courier New',monospace\"><span style=\"color: #808000; text-decoration-color: #808000; font-weight: bold\">Warning:</span><span style=\"color: #808000; text-decoration-color: #808000\"> meshio does not support tags of string type.</span>\n",
       "<span style=\"color: #808000; text-decoration-color: #808000\">    Surface tag  FARFIELD will be replaced by </span><span style=\"color: #808000; text-decoration-color: #808000; font-weight: bold\">2</span>\n",
       "</pre>\n"
      ],
      "text/plain": [
       "\u001b[1;33mWarning:\u001b[0m\u001b[33m meshio does not support tags of string type.\u001b[0m\n",
       "\u001b[33m    Surface tag  FARFIELD will be replaced by \u001b[0m\u001b[1;33m2\u001b[0m\n"
      ]
     },
     "metadata": {},
     "output_type": "display_data"
    },
    {
     "name": "stdout",
     "output_type": "stream",
     "text": [
      "Reading ../Data/SOBOL_DESIGNS_RANS/DESIGNS/DSN_0049/DIRECT/../config_DSN.cfg\n"
     ]
    },
    {
     "data": {
      "text/html": [
       "<pre style=\"white-space:pre;overflow-x:auto;line-height:normal;font-family:Menlo,'DejaVu Sans Mono',consolas,'Courier New',monospace\"><span style=\"color: #808000; text-decoration-color: #808000; font-weight: bold\">Warning:</span><span style=\"color: #808000; text-decoration-color: #808000\"> meshio does not support tags of string type.</span>\n",
       "<span style=\"color: #808000; text-decoration-color: #808000\">    Surface tag  AIRFOIL will be replaced by </span><span style=\"color: #808000; text-decoration-color: #808000; font-weight: bold\">1</span>\n",
       "</pre>\n"
      ],
      "text/plain": [
       "\u001b[1;33mWarning:\u001b[0m\u001b[33m meshio does not support tags of string type.\u001b[0m\n",
       "\u001b[33m    Surface tag  AIRFOIL will be replaced by \u001b[0m\u001b[1;33m1\u001b[0m\n"
      ]
     },
     "metadata": {},
     "output_type": "display_data"
    },
    {
     "data": {
      "text/html": [
       "<pre style=\"white-space:pre;overflow-x:auto;line-height:normal;font-family:Menlo,'DejaVu Sans Mono',consolas,'Courier New',monospace\"><span style=\"color: #808000; text-decoration-color: #808000; font-weight: bold\">Warning:</span><span style=\"color: #808000; text-decoration-color: #808000\"> meshio does not support tags of string type.</span>\n",
       "<span style=\"color: #808000; text-decoration-color: #808000\">    Surface tag  FARFIELD will be replaced by </span><span style=\"color: #808000; text-decoration-color: #808000; font-weight: bold\">2</span>\n",
       "</pre>\n"
      ],
      "text/plain": [
       "\u001b[1;33mWarning:\u001b[0m\u001b[33m meshio does not support tags of string type.\u001b[0m\n",
       "\u001b[33m    Surface tag  FARFIELD will be replaced by \u001b[0m\u001b[1;33m2\u001b[0m\n"
      ]
     },
     "metadata": {},
     "output_type": "display_data"
    },
    {
     "name": "stdout",
     "output_type": "stream",
     "text": [
      "Reading ../Data/SOBOL_DESIGNS_RANS/DESIGNS/DSN_0050/DIRECT/../config_DSN.cfg\n"
     ]
    },
    {
     "data": {
      "text/html": [
       "<pre style=\"white-space:pre;overflow-x:auto;line-height:normal;font-family:Menlo,'DejaVu Sans Mono',consolas,'Courier New',monospace\"><span style=\"color: #808000; text-decoration-color: #808000; font-weight: bold\">Warning:</span><span style=\"color: #808000; text-decoration-color: #808000\"> meshio does not support tags of string type.</span>\n",
       "<span style=\"color: #808000; text-decoration-color: #808000\">    Surface tag  AIRFOIL will be replaced by </span><span style=\"color: #808000; text-decoration-color: #808000; font-weight: bold\">1</span>\n",
       "</pre>\n"
      ],
      "text/plain": [
       "\u001b[1;33mWarning:\u001b[0m\u001b[33m meshio does not support tags of string type.\u001b[0m\n",
       "\u001b[33m    Surface tag  AIRFOIL will be replaced by \u001b[0m\u001b[1;33m1\u001b[0m\n"
      ]
     },
     "metadata": {},
     "output_type": "display_data"
    },
    {
     "data": {
      "text/html": [
       "<pre style=\"white-space:pre;overflow-x:auto;line-height:normal;font-family:Menlo,'DejaVu Sans Mono',consolas,'Courier New',monospace\"><span style=\"color: #808000; text-decoration-color: #808000; font-weight: bold\">Warning:</span><span style=\"color: #808000; text-decoration-color: #808000\"> meshio does not support tags of string type.</span>\n",
       "<span style=\"color: #808000; text-decoration-color: #808000\">    Surface tag  FARFIELD will be replaced by </span><span style=\"color: #808000; text-decoration-color: #808000; font-weight: bold\">2</span>\n",
       "</pre>\n"
      ],
      "text/plain": [
       "\u001b[1;33mWarning:\u001b[0m\u001b[33m meshio does not support tags of string type.\u001b[0m\n",
       "\u001b[33m    Surface tag  FARFIELD will be replaced by \u001b[0m\u001b[1;33m2\u001b[0m\n"
      ]
     },
     "metadata": {},
     "output_type": "display_data"
    },
    {
     "name": "stdout",
     "output_type": "stream",
     "text": [
      "Reading ../Data/SOBOL_DESIGNS_RANS/DESIGNS/DSN_0051/DIRECT/../config_DSN.cfg\n"
     ]
    },
    {
     "data": {
      "text/html": [
       "<pre style=\"white-space:pre;overflow-x:auto;line-height:normal;font-family:Menlo,'DejaVu Sans Mono',consolas,'Courier New',monospace\"><span style=\"color: #808000; text-decoration-color: #808000; font-weight: bold\">Warning:</span><span style=\"color: #808000; text-decoration-color: #808000\"> meshio does not support tags of string type.</span>\n",
       "<span style=\"color: #808000; text-decoration-color: #808000\">    Surface tag  AIRFOIL will be replaced by </span><span style=\"color: #808000; text-decoration-color: #808000; font-weight: bold\">1</span>\n",
       "</pre>\n"
      ],
      "text/plain": [
       "\u001b[1;33mWarning:\u001b[0m\u001b[33m meshio does not support tags of string type.\u001b[0m\n",
       "\u001b[33m    Surface tag  AIRFOIL will be replaced by \u001b[0m\u001b[1;33m1\u001b[0m\n"
      ]
     },
     "metadata": {},
     "output_type": "display_data"
    },
    {
     "data": {
      "text/html": [
       "<pre style=\"white-space:pre;overflow-x:auto;line-height:normal;font-family:Menlo,'DejaVu Sans Mono',consolas,'Courier New',monospace\"><span style=\"color: #808000; text-decoration-color: #808000; font-weight: bold\">Warning:</span><span style=\"color: #808000; text-decoration-color: #808000\"> meshio does not support tags of string type.</span>\n",
       "<span style=\"color: #808000; text-decoration-color: #808000\">    Surface tag  FARFIELD will be replaced by </span><span style=\"color: #808000; text-decoration-color: #808000; font-weight: bold\">2</span>\n",
       "</pre>\n"
      ],
      "text/plain": [
       "\u001b[1;33mWarning:\u001b[0m\u001b[33m meshio does not support tags of string type.\u001b[0m\n",
       "\u001b[33m    Surface tag  FARFIELD will be replaced by \u001b[0m\u001b[1;33m2\u001b[0m\n"
      ]
     },
     "metadata": {},
     "output_type": "display_data"
    },
    {
     "name": "stdout",
     "output_type": "stream",
     "text": [
      "Reading ../Data/SOBOL_DESIGNS_RANS/DESIGNS/DSN_0052/DIRECT/../config_DSN.cfg\n"
     ]
    },
    {
     "data": {
      "text/html": [
       "<pre style=\"white-space:pre;overflow-x:auto;line-height:normal;font-family:Menlo,'DejaVu Sans Mono',consolas,'Courier New',monospace\"><span style=\"color: #808000; text-decoration-color: #808000; font-weight: bold\">Warning:</span><span style=\"color: #808000; text-decoration-color: #808000\"> meshio does not support tags of string type.</span>\n",
       "<span style=\"color: #808000; text-decoration-color: #808000\">    Surface tag  AIRFOIL will be replaced by </span><span style=\"color: #808000; text-decoration-color: #808000; font-weight: bold\">1</span>\n",
       "</pre>\n"
      ],
      "text/plain": [
       "\u001b[1;33mWarning:\u001b[0m\u001b[33m meshio does not support tags of string type.\u001b[0m\n",
       "\u001b[33m    Surface tag  AIRFOIL will be replaced by \u001b[0m\u001b[1;33m1\u001b[0m\n"
      ]
     },
     "metadata": {},
     "output_type": "display_data"
    },
    {
     "data": {
      "text/html": [
       "<pre style=\"white-space:pre;overflow-x:auto;line-height:normal;font-family:Menlo,'DejaVu Sans Mono',consolas,'Courier New',monospace\"><span style=\"color: #808000; text-decoration-color: #808000; font-weight: bold\">Warning:</span><span style=\"color: #808000; text-decoration-color: #808000\"> meshio does not support tags of string type.</span>\n",
       "<span style=\"color: #808000; text-decoration-color: #808000\">    Surface tag  FARFIELD will be replaced by </span><span style=\"color: #808000; text-decoration-color: #808000; font-weight: bold\">2</span>\n",
       "</pre>\n"
      ],
      "text/plain": [
       "\u001b[1;33mWarning:\u001b[0m\u001b[33m meshio does not support tags of string type.\u001b[0m\n",
       "\u001b[33m    Surface tag  FARFIELD will be replaced by \u001b[0m\u001b[1;33m2\u001b[0m\n"
      ]
     },
     "metadata": {},
     "output_type": "display_data"
    },
    {
     "name": "stdout",
     "output_type": "stream",
     "text": [
      "Reading ../Data/SOBOL_DESIGNS_RANS/DESIGNS/DSN_0053/DIRECT/../config_DSN.cfg\n"
     ]
    },
    {
     "data": {
      "text/html": [
       "<pre style=\"white-space:pre;overflow-x:auto;line-height:normal;font-family:Menlo,'DejaVu Sans Mono',consolas,'Courier New',monospace\"><span style=\"color: #808000; text-decoration-color: #808000; font-weight: bold\">Warning:</span><span style=\"color: #808000; text-decoration-color: #808000\"> meshio does not support tags of string type.</span>\n",
       "<span style=\"color: #808000; text-decoration-color: #808000\">    Surface tag  AIRFOIL will be replaced by </span><span style=\"color: #808000; text-decoration-color: #808000; font-weight: bold\">1</span>\n",
       "</pre>\n"
      ],
      "text/plain": [
       "\u001b[1;33mWarning:\u001b[0m\u001b[33m meshio does not support tags of string type.\u001b[0m\n",
       "\u001b[33m    Surface tag  AIRFOIL will be replaced by \u001b[0m\u001b[1;33m1\u001b[0m\n"
      ]
     },
     "metadata": {},
     "output_type": "display_data"
    },
    {
     "data": {
      "text/html": [
       "<pre style=\"white-space:pre;overflow-x:auto;line-height:normal;font-family:Menlo,'DejaVu Sans Mono',consolas,'Courier New',monospace\"><span style=\"color: #808000; text-decoration-color: #808000; font-weight: bold\">Warning:</span><span style=\"color: #808000; text-decoration-color: #808000\"> meshio does not support tags of string type.</span>\n",
       "<span style=\"color: #808000; text-decoration-color: #808000\">    Surface tag  FARFIELD will be replaced by </span><span style=\"color: #808000; text-decoration-color: #808000; font-weight: bold\">2</span>\n",
       "</pre>\n"
      ],
      "text/plain": [
       "\u001b[1;33mWarning:\u001b[0m\u001b[33m meshio does not support tags of string type.\u001b[0m\n",
       "\u001b[33m    Surface tag  FARFIELD will be replaced by \u001b[0m\u001b[1;33m2\u001b[0m\n"
      ]
     },
     "metadata": {},
     "output_type": "display_data"
    },
    {
     "name": "stdout",
     "output_type": "stream",
     "text": [
      "Reading ../Data/SOBOL_DESIGNS_RANS/DESIGNS/DSN_0054/DIRECT/../config_DSN.cfg\n"
     ]
    },
    {
     "data": {
      "text/html": [
       "<pre style=\"white-space:pre;overflow-x:auto;line-height:normal;font-family:Menlo,'DejaVu Sans Mono',consolas,'Courier New',monospace\"><span style=\"color: #808000; text-decoration-color: #808000; font-weight: bold\">Warning:</span><span style=\"color: #808000; text-decoration-color: #808000\"> meshio does not support tags of string type.</span>\n",
       "<span style=\"color: #808000; text-decoration-color: #808000\">    Surface tag  AIRFOIL will be replaced by </span><span style=\"color: #808000; text-decoration-color: #808000; font-weight: bold\">1</span>\n",
       "</pre>\n"
      ],
      "text/plain": [
       "\u001b[1;33mWarning:\u001b[0m\u001b[33m meshio does not support tags of string type.\u001b[0m\n",
       "\u001b[33m    Surface tag  AIRFOIL will be replaced by \u001b[0m\u001b[1;33m1\u001b[0m\n"
      ]
     },
     "metadata": {},
     "output_type": "display_data"
    },
    {
     "data": {
      "text/html": [
       "<pre style=\"white-space:pre;overflow-x:auto;line-height:normal;font-family:Menlo,'DejaVu Sans Mono',consolas,'Courier New',monospace\"><span style=\"color: #808000; text-decoration-color: #808000; font-weight: bold\">Warning:</span><span style=\"color: #808000; text-decoration-color: #808000\"> meshio does not support tags of string type.</span>\n",
       "<span style=\"color: #808000; text-decoration-color: #808000\">    Surface tag  FARFIELD will be replaced by </span><span style=\"color: #808000; text-decoration-color: #808000; font-weight: bold\">2</span>\n",
       "</pre>\n"
      ],
      "text/plain": [
       "\u001b[1;33mWarning:\u001b[0m\u001b[33m meshio does not support tags of string type.\u001b[0m\n",
       "\u001b[33m    Surface tag  FARFIELD will be replaced by \u001b[0m\u001b[1;33m2\u001b[0m\n"
      ]
     },
     "metadata": {},
     "output_type": "display_data"
    },
    {
     "name": "stdout",
     "output_type": "stream",
     "text": [
      "Reading ../Data/SOBOL_DESIGNS_RANS/DESIGNS/DSN_0055/DIRECT/../config_DSN.cfg\n"
     ]
    },
    {
     "data": {
      "text/html": [
       "<pre style=\"white-space:pre;overflow-x:auto;line-height:normal;font-family:Menlo,'DejaVu Sans Mono',consolas,'Courier New',monospace\"><span style=\"color: #808000; text-decoration-color: #808000; font-weight: bold\">Warning:</span><span style=\"color: #808000; text-decoration-color: #808000\"> meshio does not support tags of string type.</span>\n",
       "<span style=\"color: #808000; text-decoration-color: #808000\">    Surface tag  AIRFOIL will be replaced by </span><span style=\"color: #808000; text-decoration-color: #808000; font-weight: bold\">1</span>\n",
       "</pre>\n"
      ],
      "text/plain": [
       "\u001b[1;33mWarning:\u001b[0m\u001b[33m meshio does not support tags of string type.\u001b[0m\n",
       "\u001b[33m    Surface tag  AIRFOIL will be replaced by \u001b[0m\u001b[1;33m1\u001b[0m\n"
      ]
     },
     "metadata": {},
     "output_type": "display_data"
    },
    {
     "data": {
      "text/html": [
       "<pre style=\"white-space:pre;overflow-x:auto;line-height:normal;font-family:Menlo,'DejaVu Sans Mono',consolas,'Courier New',monospace\"><span style=\"color: #808000; text-decoration-color: #808000; font-weight: bold\">Warning:</span><span style=\"color: #808000; text-decoration-color: #808000\"> meshio does not support tags of string type.</span>\n",
       "<span style=\"color: #808000; text-decoration-color: #808000\">    Surface tag  FARFIELD will be replaced by </span><span style=\"color: #808000; text-decoration-color: #808000; font-weight: bold\">2</span>\n",
       "</pre>\n"
      ],
      "text/plain": [
       "\u001b[1;33mWarning:\u001b[0m\u001b[33m meshio does not support tags of string type.\u001b[0m\n",
       "\u001b[33m    Surface tag  FARFIELD will be replaced by \u001b[0m\u001b[1;33m2\u001b[0m\n"
      ]
     },
     "metadata": {},
     "output_type": "display_data"
    },
    {
     "name": "stdout",
     "output_type": "stream",
     "text": [
      "Reading ../Data/SOBOL_DESIGNS_RANS/DESIGNS/DSN_0056/DIRECT/../config_DSN.cfg\n"
     ]
    },
    {
     "data": {
      "text/html": [
       "<pre style=\"white-space:pre;overflow-x:auto;line-height:normal;font-family:Menlo,'DejaVu Sans Mono',consolas,'Courier New',monospace\"><span style=\"color: #808000; text-decoration-color: #808000; font-weight: bold\">Warning:</span><span style=\"color: #808000; text-decoration-color: #808000\"> meshio does not support tags of string type.</span>\n",
       "<span style=\"color: #808000; text-decoration-color: #808000\">    Surface tag  AIRFOIL will be replaced by </span><span style=\"color: #808000; text-decoration-color: #808000; font-weight: bold\">1</span>\n",
       "</pre>\n"
      ],
      "text/plain": [
       "\u001b[1;33mWarning:\u001b[0m\u001b[33m meshio does not support tags of string type.\u001b[0m\n",
       "\u001b[33m    Surface tag  AIRFOIL will be replaced by \u001b[0m\u001b[1;33m1\u001b[0m\n"
      ]
     },
     "metadata": {},
     "output_type": "display_data"
    },
    {
     "data": {
      "text/html": [
       "<pre style=\"white-space:pre;overflow-x:auto;line-height:normal;font-family:Menlo,'DejaVu Sans Mono',consolas,'Courier New',monospace\"><span style=\"color: #808000; text-decoration-color: #808000; font-weight: bold\">Warning:</span><span style=\"color: #808000; text-decoration-color: #808000\"> meshio does not support tags of string type.</span>\n",
       "<span style=\"color: #808000; text-decoration-color: #808000\">    Surface tag  FARFIELD will be replaced by </span><span style=\"color: #808000; text-decoration-color: #808000; font-weight: bold\">2</span>\n",
       "</pre>\n"
      ],
      "text/plain": [
       "\u001b[1;33mWarning:\u001b[0m\u001b[33m meshio does not support tags of string type.\u001b[0m\n",
       "\u001b[33m    Surface tag  FARFIELD will be replaced by \u001b[0m\u001b[1;33m2\u001b[0m\n"
      ]
     },
     "metadata": {},
     "output_type": "display_data"
    },
    {
     "name": "stdout",
     "output_type": "stream",
     "text": [
      "Reading ../Data/SOBOL_DESIGNS_RANS/DESIGNS/DSN_0057/DIRECT/../config_DSN.cfg\n"
     ]
    },
    {
     "data": {
      "text/html": [
       "<pre style=\"white-space:pre;overflow-x:auto;line-height:normal;font-family:Menlo,'DejaVu Sans Mono',consolas,'Courier New',monospace\"><span style=\"color: #808000; text-decoration-color: #808000; font-weight: bold\">Warning:</span><span style=\"color: #808000; text-decoration-color: #808000\"> meshio does not support tags of string type.</span>\n",
       "<span style=\"color: #808000; text-decoration-color: #808000\">    Surface tag  AIRFOIL will be replaced by </span><span style=\"color: #808000; text-decoration-color: #808000; font-weight: bold\">1</span>\n",
       "</pre>\n"
      ],
      "text/plain": [
       "\u001b[1;33mWarning:\u001b[0m\u001b[33m meshio does not support tags of string type.\u001b[0m\n",
       "\u001b[33m    Surface tag  AIRFOIL will be replaced by \u001b[0m\u001b[1;33m1\u001b[0m\n"
      ]
     },
     "metadata": {},
     "output_type": "display_data"
    },
    {
     "data": {
      "text/html": [
       "<pre style=\"white-space:pre;overflow-x:auto;line-height:normal;font-family:Menlo,'DejaVu Sans Mono',consolas,'Courier New',monospace\"><span style=\"color: #808000; text-decoration-color: #808000; font-weight: bold\">Warning:</span><span style=\"color: #808000; text-decoration-color: #808000\"> meshio does not support tags of string type.</span>\n",
       "<span style=\"color: #808000; text-decoration-color: #808000\">    Surface tag  FARFIELD will be replaced by </span><span style=\"color: #808000; text-decoration-color: #808000; font-weight: bold\">2</span>\n",
       "</pre>\n"
      ],
      "text/plain": [
       "\u001b[1;33mWarning:\u001b[0m\u001b[33m meshio does not support tags of string type.\u001b[0m\n",
       "\u001b[33m    Surface tag  FARFIELD will be replaced by \u001b[0m\u001b[1;33m2\u001b[0m\n"
      ]
     },
     "metadata": {},
     "output_type": "display_data"
    },
    {
     "name": "stdout",
     "output_type": "stream",
     "text": [
      "Reading ../Data/SOBOL_DESIGNS_RANS/DESIGNS/DSN_0058/DIRECT/../config_DSN.cfg\n"
     ]
    },
    {
     "data": {
      "text/html": [
       "<pre style=\"white-space:pre;overflow-x:auto;line-height:normal;font-family:Menlo,'DejaVu Sans Mono',consolas,'Courier New',monospace\"><span style=\"color: #808000; text-decoration-color: #808000; font-weight: bold\">Warning:</span><span style=\"color: #808000; text-decoration-color: #808000\"> meshio does not support tags of string type.</span>\n",
       "<span style=\"color: #808000; text-decoration-color: #808000\">    Surface tag  AIRFOIL will be replaced by </span><span style=\"color: #808000; text-decoration-color: #808000; font-weight: bold\">1</span>\n",
       "</pre>\n"
      ],
      "text/plain": [
       "\u001b[1;33mWarning:\u001b[0m\u001b[33m meshio does not support tags of string type.\u001b[0m\n",
       "\u001b[33m    Surface tag  AIRFOIL will be replaced by \u001b[0m\u001b[1;33m1\u001b[0m\n"
      ]
     },
     "metadata": {},
     "output_type": "display_data"
    },
    {
     "data": {
      "text/html": [
       "<pre style=\"white-space:pre;overflow-x:auto;line-height:normal;font-family:Menlo,'DejaVu Sans Mono',consolas,'Courier New',monospace\"><span style=\"color: #808000; text-decoration-color: #808000; font-weight: bold\">Warning:</span><span style=\"color: #808000; text-decoration-color: #808000\"> meshio does not support tags of string type.</span>\n",
       "<span style=\"color: #808000; text-decoration-color: #808000\">    Surface tag  FARFIELD will be replaced by </span><span style=\"color: #808000; text-decoration-color: #808000; font-weight: bold\">2</span>\n",
       "</pre>\n"
      ],
      "text/plain": [
       "\u001b[1;33mWarning:\u001b[0m\u001b[33m meshio does not support tags of string type.\u001b[0m\n",
       "\u001b[33m    Surface tag  FARFIELD will be replaced by \u001b[0m\u001b[1;33m2\u001b[0m\n"
      ]
     },
     "metadata": {},
     "output_type": "display_data"
    },
    {
     "name": "stdout",
     "output_type": "stream",
     "text": [
      "Reading ../Data/SOBOL_DESIGNS_RANS/DESIGNS/DSN_0059/DIRECT/../config_DSN.cfg\n"
     ]
    },
    {
     "data": {
      "text/html": [
       "<pre style=\"white-space:pre;overflow-x:auto;line-height:normal;font-family:Menlo,'DejaVu Sans Mono',consolas,'Courier New',monospace\"><span style=\"color: #808000; text-decoration-color: #808000; font-weight: bold\">Warning:</span><span style=\"color: #808000; text-decoration-color: #808000\"> meshio does not support tags of string type.</span>\n",
       "<span style=\"color: #808000; text-decoration-color: #808000\">    Surface tag  AIRFOIL will be replaced by </span><span style=\"color: #808000; text-decoration-color: #808000; font-weight: bold\">1</span>\n",
       "</pre>\n"
      ],
      "text/plain": [
       "\u001b[1;33mWarning:\u001b[0m\u001b[33m meshio does not support tags of string type.\u001b[0m\n",
       "\u001b[33m    Surface tag  AIRFOIL will be replaced by \u001b[0m\u001b[1;33m1\u001b[0m\n"
      ]
     },
     "metadata": {},
     "output_type": "display_data"
    },
    {
     "data": {
      "text/html": [
       "<pre style=\"white-space:pre;overflow-x:auto;line-height:normal;font-family:Menlo,'DejaVu Sans Mono',consolas,'Courier New',monospace\"><span style=\"color: #808000; text-decoration-color: #808000; font-weight: bold\">Warning:</span><span style=\"color: #808000; text-decoration-color: #808000\"> meshio does not support tags of string type.</span>\n",
       "<span style=\"color: #808000; text-decoration-color: #808000\">    Surface tag  FARFIELD will be replaced by </span><span style=\"color: #808000; text-decoration-color: #808000; font-weight: bold\">2</span>\n",
       "</pre>\n"
      ],
      "text/plain": [
       "\u001b[1;33mWarning:\u001b[0m\u001b[33m meshio does not support tags of string type.\u001b[0m\n",
       "\u001b[33m    Surface tag  FARFIELD will be replaced by \u001b[0m\u001b[1;33m2\u001b[0m\n"
      ]
     },
     "metadata": {},
     "output_type": "display_data"
    },
    {
     "name": "stdout",
     "output_type": "stream",
     "text": [
      "Reading ../Data/SOBOL_DESIGNS_RANS/DESIGNS/DSN_0060/DIRECT/../config_DSN.cfg\n"
     ]
    },
    {
     "data": {
      "text/html": [
       "<pre style=\"white-space:pre;overflow-x:auto;line-height:normal;font-family:Menlo,'DejaVu Sans Mono',consolas,'Courier New',monospace\"><span style=\"color: #808000; text-decoration-color: #808000; font-weight: bold\">Warning:</span><span style=\"color: #808000; text-decoration-color: #808000\"> meshio does not support tags of string type.</span>\n",
       "<span style=\"color: #808000; text-decoration-color: #808000\">    Surface tag  AIRFOIL will be replaced by </span><span style=\"color: #808000; text-decoration-color: #808000; font-weight: bold\">1</span>\n",
       "</pre>\n"
      ],
      "text/plain": [
       "\u001b[1;33mWarning:\u001b[0m\u001b[33m meshio does not support tags of string type.\u001b[0m\n",
       "\u001b[33m    Surface tag  AIRFOIL will be replaced by \u001b[0m\u001b[1;33m1\u001b[0m\n"
      ]
     },
     "metadata": {},
     "output_type": "display_data"
    },
    {
     "data": {
      "text/html": [
       "<pre style=\"white-space:pre;overflow-x:auto;line-height:normal;font-family:Menlo,'DejaVu Sans Mono',consolas,'Courier New',monospace\"><span style=\"color: #808000; text-decoration-color: #808000; font-weight: bold\">Warning:</span><span style=\"color: #808000; text-decoration-color: #808000\"> meshio does not support tags of string type.</span>\n",
       "<span style=\"color: #808000; text-decoration-color: #808000\">    Surface tag  FARFIELD will be replaced by </span><span style=\"color: #808000; text-decoration-color: #808000; font-weight: bold\">2</span>\n",
       "</pre>\n"
      ],
      "text/plain": [
       "\u001b[1;33mWarning:\u001b[0m\u001b[33m meshio does not support tags of string type.\u001b[0m\n",
       "\u001b[33m    Surface tag  FARFIELD will be replaced by \u001b[0m\u001b[1;33m2\u001b[0m\n"
      ]
     },
     "metadata": {},
     "output_type": "display_data"
    },
    {
     "name": "stdout",
     "output_type": "stream",
     "text": [
      "Reading ../Data/SOBOL_DESIGNS_RANS/DESIGNS/DSN_0061/DIRECT/../config_DSN.cfg\n"
     ]
    },
    {
     "data": {
      "text/html": [
       "<pre style=\"white-space:pre;overflow-x:auto;line-height:normal;font-family:Menlo,'DejaVu Sans Mono',consolas,'Courier New',monospace\"><span style=\"color: #808000; text-decoration-color: #808000; font-weight: bold\">Warning:</span><span style=\"color: #808000; text-decoration-color: #808000\"> meshio does not support tags of string type.</span>\n",
       "<span style=\"color: #808000; text-decoration-color: #808000\">    Surface tag  AIRFOIL will be replaced by </span><span style=\"color: #808000; text-decoration-color: #808000; font-weight: bold\">1</span>\n",
       "</pre>\n"
      ],
      "text/plain": [
       "\u001b[1;33mWarning:\u001b[0m\u001b[33m meshio does not support tags of string type.\u001b[0m\n",
       "\u001b[33m    Surface tag  AIRFOIL will be replaced by \u001b[0m\u001b[1;33m1\u001b[0m\n"
      ]
     },
     "metadata": {},
     "output_type": "display_data"
    },
    {
     "data": {
      "text/html": [
       "<pre style=\"white-space:pre;overflow-x:auto;line-height:normal;font-family:Menlo,'DejaVu Sans Mono',consolas,'Courier New',monospace\"><span style=\"color: #808000; text-decoration-color: #808000; font-weight: bold\">Warning:</span><span style=\"color: #808000; text-decoration-color: #808000\"> meshio does not support tags of string type.</span>\n",
       "<span style=\"color: #808000; text-decoration-color: #808000\">    Surface tag  FARFIELD will be replaced by </span><span style=\"color: #808000; text-decoration-color: #808000; font-weight: bold\">2</span>\n",
       "</pre>\n"
      ],
      "text/plain": [
       "\u001b[1;33mWarning:\u001b[0m\u001b[33m meshio does not support tags of string type.\u001b[0m\n",
       "\u001b[33m    Surface tag  FARFIELD will be replaced by \u001b[0m\u001b[1;33m2\u001b[0m\n"
      ]
     },
     "metadata": {},
     "output_type": "display_data"
    },
    {
     "name": "stdout",
     "output_type": "stream",
     "text": [
      "Reading ../Data/SOBOL_DESIGNS_RANS/DESIGNS/DSN_0062/DIRECT/../config_DSN.cfg\n"
     ]
    },
    {
     "data": {
      "text/html": [
       "<pre style=\"white-space:pre;overflow-x:auto;line-height:normal;font-family:Menlo,'DejaVu Sans Mono',consolas,'Courier New',monospace\"><span style=\"color: #808000; text-decoration-color: #808000; font-weight: bold\">Warning:</span><span style=\"color: #808000; text-decoration-color: #808000\"> meshio does not support tags of string type.</span>\n",
       "<span style=\"color: #808000; text-decoration-color: #808000\">    Surface tag  AIRFOIL will be replaced by </span><span style=\"color: #808000; text-decoration-color: #808000; font-weight: bold\">1</span>\n",
       "</pre>\n"
      ],
      "text/plain": [
       "\u001b[1;33mWarning:\u001b[0m\u001b[33m meshio does not support tags of string type.\u001b[0m\n",
       "\u001b[33m    Surface tag  AIRFOIL will be replaced by \u001b[0m\u001b[1;33m1\u001b[0m\n"
      ]
     },
     "metadata": {},
     "output_type": "display_data"
    },
    {
     "data": {
      "text/html": [
       "<pre style=\"white-space:pre;overflow-x:auto;line-height:normal;font-family:Menlo,'DejaVu Sans Mono',consolas,'Courier New',monospace\"><span style=\"color: #808000; text-decoration-color: #808000; font-weight: bold\">Warning:</span><span style=\"color: #808000; text-decoration-color: #808000\"> meshio does not support tags of string type.</span>\n",
       "<span style=\"color: #808000; text-decoration-color: #808000\">    Surface tag  FARFIELD will be replaced by </span><span style=\"color: #808000; text-decoration-color: #808000; font-weight: bold\">2</span>\n",
       "</pre>\n"
      ],
      "text/plain": [
       "\u001b[1;33mWarning:\u001b[0m\u001b[33m meshio does not support tags of string type.\u001b[0m\n",
       "\u001b[33m    Surface tag  FARFIELD will be replaced by \u001b[0m\u001b[1;33m2\u001b[0m\n"
      ]
     },
     "metadata": {},
     "output_type": "display_data"
    },
    {
     "name": "stdout",
     "output_type": "stream",
     "text": [
      "Reading ../Data/SOBOL_DESIGNS_RANS/DESIGNS/DSN_0063/DIRECT/../config_DSN.cfg\n"
     ]
    },
    {
     "data": {
      "text/html": [
       "<pre style=\"white-space:pre;overflow-x:auto;line-height:normal;font-family:Menlo,'DejaVu Sans Mono',consolas,'Courier New',monospace\"><span style=\"color: #808000; text-decoration-color: #808000; font-weight: bold\">Warning:</span><span style=\"color: #808000; text-decoration-color: #808000\"> meshio does not support tags of string type.</span>\n",
       "<span style=\"color: #808000; text-decoration-color: #808000\">    Surface tag  AIRFOIL will be replaced by </span><span style=\"color: #808000; text-decoration-color: #808000; font-weight: bold\">1</span>\n",
       "</pre>\n"
      ],
      "text/plain": [
       "\u001b[1;33mWarning:\u001b[0m\u001b[33m meshio does not support tags of string type.\u001b[0m\n",
       "\u001b[33m    Surface tag  AIRFOIL will be replaced by \u001b[0m\u001b[1;33m1\u001b[0m\n"
      ]
     },
     "metadata": {},
     "output_type": "display_data"
    },
    {
     "data": {
      "text/html": [
       "<pre style=\"white-space:pre;overflow-x:auto;line-height:normal;font-family:Menlo,'DejaVu Sans Mono',consolas,'Courier New',monospace\"><span style=\"color: #808000; text-decoration-color: #808000; font-weight: bold\">Warning:</span><span style=\"color: #808000; text-decoration-color: #808000\"> meshio does not support tags of string type.</span>\n",
       "<span style=\"color: #808000; text-decoration-color: #808000\">    Surface tag  FARFIELD will be replaced by </span><span style=\"color: #808000; text-decoration-color: #808000; font-weight: bold\">2</span>\n",
       "</pre>\n"
      ],
      "text/plain": [
       "\u001b[1;33mWarning:\u001b[0m\u001b[33m meshio does not support tags of string type.\u001b[0m\n",
       "\u001b[33m    Surface tag  FARFIELD will be replaced by \u001b[0m\u001b[1;33m2\u001b[0m\n"
      ]
     },
     "metadata": {},
     "output_type": "display_data"
    },
    {
     "name": "stdout",
     "output_type": "stream",
     "text": [
      "Reading ../Data/SOBOL_DESIGNS_RANS/DESIGNS/DSN_0064/DIRECT/../config_DSN.cfg\n"
     ]
    },
    {
     "data": {
      "text/html": [
       "<pre style=\"white-space:pre;overflow-x:auto;line-height:normal;font-family:Menlo,'DejaVu Sans Mono',consolas,'Courier New',monospace\"><span style=\"color: #808000; text-decoration-color: #808000; font-weight: bold\">Warning:</span><span style=\"color: #808000; text-decoration-color: #808000\"> meshio does not support tags of string type.</span>\n",
       "<span style=\"color: #808000; text-decoration-color: #808000\">    Surface tag  AIRFOIL will be replaced by </span><span style=\"color: #808000; text-decoration-color: #808000; font-weight: bold\">1</span>\n",
       "</pre>\n"
      ],
      "text/plain": [
       "\u001b[1;33mWarning:\u001b[0m\u001b[33m meshio does not support tags of string type.\u001b[0m\n",
       "\u001b[33m    Surface tag  AIRFOIL will be replaced by \u001b[0m\u001b[1;33m1\u001b[0m\n"
      ]
     },
     "metadata": {},
     "output_type": "display_data"
    },
    {
     "data": {
      "text/html": [
       "<pre style=\"white-space:pre;overflow-x:auto;line-height:normal;font-family:Menlo,'DejaVu Sans Mono',consolas,'Courier New',monospace\"><span style=\"color: #808000; text-decoration-color: #808000; font-weight: bold\">Warning:</span><span style=\"color: #808000; text-decoration-color: #808000\"> meshio does not support tags of string type.</span>\n",
       "<span style=\"color: #808000; text-decoration-color: #808000\">    Surface tag  FARFIELD will be replaced by </span><span style=\"color: #808000; text-decoration-color: #808000; font-weight: bold\">2</span>\n",
       "</pre>\n"
      ],
      "text/plain": [
       "\u001b[1;33mWarning:\u001b[0m\u001b[33m meshio does not support tags of string type.\u001b[0m\n",
       "\u001b[33m    Surface tag  FARFIELD will be replaced by \u001b[0m\u001b[1;33m2\u001b[0m\n"
      ]
     },
     "metadata": {},
     "output_type": "display_data"
    },
    {
     "name": "stdout",
     "output_type": "stream",
     "text": [
      "Reading ../Data/SOBOL_DESIGNS_RANS/DESIGNS/DSN_0065/DIRECT/../config_DSN.cfg\n"
     ]
    },
    {
     "data": {
      "text/html": [
       "<pre style=\"white-space:pre;overflow-x:auto;line-height:normal;font-family:Menlo,'DejaVu Sans Mono',consolas,'Courier New',monospace\"><span style=\"color: #808000; text-decoration-color: #808000; font-weight: bold\">Warning:</span><span style=\"color: #808000; text-decoration-color: #808000\"> meshio does not support tags of string type.</span>\n",
       "<span style=\"color: #808000; text-decoration-color: #808000\">    Surface tag  AIRFOIL will be replaced by </span><span style=\"color: #808000; text-decoration-color: #808000; font-weight: bold\">1</span>\n",
       "</pre>\n"
      ],
      "text/plain": [
       "\u001b[1;33mWarning:\u001b[0m\u001b[33m meshio does not support tags of string type.\u001b[0m\n",
       "\u001b[33m    Surface tag  AIRFOIL will be replaced by \u001b[0m\u001b[1;33m1\u001b[0m\n"
      ]
     },
     "metadata": {},
     "output_type": "display_data"
    },
    {
     "data": {
      "text/html": [
       "<pre style=\"white-space:pre;overflow-x:auto;line-height:normal;font-family:Menlo,'DejaVu Sans Mono',consolas,'Courier New',monospace\"><span style=\"color: #808000; text-decoration-color: #808000; font-weight: bold\">Warning:</span><span style=\"color: #808000; text-decoration-color: #808000\"> meshio does not support tags of string type.</span>\n",
       "<span style=\"color: #808000; text-decoration-color: #808000\">    Surface tag  FARFIELD will be replaced by </span><span style=\"color: #808000; text-decoration-color: #808000; font-weight: bold\">2</span>\n",
       "</pre>\n"
      ],
      "text/plain": [
       "\u001b[1;33mWarning:\u001b[0m\u001b[33m meshio does not support tags of string type.\u001b[0m\n",
       "\u001b[33m    Surface tag  FARFIELD will be replaced by \u001b[0m\u001b[1;33m2\u001b[0m\n"
      ]
     },
     "metadata": {},
     "output_type": "display_data"
    },
    {
     "name": "stdout",
     "output_type": "stream",
     "text": [
      "Reading ../Data/SOBOL_DESIGNS_RANS/DESIGNS/DSN_0066/DIRECT/../config_DSN.cfg\n"
     ]
    },
    {
     "data": {
      "text/html": [
       "<pre style=\"white-space:pre;overflow-x:auto;line-height:normal;font-family:Menlo,'DejaVu Sans Mono',consolas,'Courier New',monospace\"><span style=\"color: #808000; text-decoration-color: #808000; font-weight: bold\">Warning:</span><span style=\"color: #808000; text-decoration-color: #808000\"> meshio does not support tags of string type.</span>\n",
       "<span style=\"color: #808000; text-decoration-color: #808000\">    Surface tag  AIRFOIL will be replaced by </span><span style=\"color: #808000; text-decoration-color: #808000; font-weight: bold\">1</span>\n",
       "</pre>\n"
      ],
      "text/plain": [
       "\u001b[1;33mWarning:\u001b[0m\u001b[33m meshio does not support tags of string type.\u001b[0m\n",
       "\u001b[33m    Surface tag  AIRFOIL will be replaced by \u001b[0m\u001b[1;33m1\u001b[0m\n"
      ]
     },
     "metadata": {},
     "output_type": "display_data"
    },
    {
     "data": {
      "text/html": [
       "<pre style=\"white-space:pre;overflow-x:auto;line-height:normal;font-family:Menlo,'DejaVu Sans Mono',consolas,'Courier New',monospace\"><span style=\"color: #808000; text-decoration-color: #808000; font-weight: bold\">Warning:</span><span style=\"color: #808000; text-decoration-color: #808000\"> meshio does not support tags of string type.</span>\n",
       "<span style=\"color: #808000; text-decoration-color: #808000\">    Surface tag  FARFIELD will be replaced by </span><span style=\"color: #808000; text-decoration-color: #808000; font-weight: bold\">2</span>\n",
       "</pre>\n"
      ],
      "text/plain": [
       "\u001b[1;33mWarning:\u001b[0m\u001b[33m meshio does not support tags of string type.\u001b[0m\n",
       "\u001b[33m    Surface tag  FARFIELD will be replaced by \u001b[0m\u001b[1;33m2\u001b[0m\n"
      ]
     },
     "metadata": {},
     "output_type": "display_data"
    },
    {
     "name": "stdout",
     "output_type": "stream",
     "text": [
      "Reading ../Data/SOBOL_DESIGNS_RANS/DESIGNS/DSN_0067/DIRECT/../config_DSN.cfg\n"
     ]
    },
    {
     "data": {
      "text/html": [
       "<pre style=\"white-space:pre;overflow-x:auto;line-height:normal;font-family:Menlo,'DejaVu Sans Mono',consolas,'Courier New',monospace\"><span style=\"color: #808000; text-decoration-color: #808000; font-weight: bold\">Warning:</span><span style=\"color: #808000; text-decoration-color: #808000\"> meshio does not support tags of string type.</span>\n",
       "<span style=\"color: #808000; text-decoration-color: #808000\">    Surface tag  AIRFOIL will be replaced by </span><span style=\"color: #808000; text-decoration-color: #808000; font-weight: bold\">1</span>\n",
       "</pre>\n"
      ],
      "text/plain": [
       "\u001b[1;33mWarning:\u001b[0m\u001b[33m meshio does not support tags of string type.\u001b[0m\n",
       "\u001b[33m    Surface tag  AIRFOIL will be replaced by \u001b[0m\u001b[1;33m1\u001b[0m\n"
      ]
     },
     "metadata": {},
     "output_type": "display_data"
    },
    {
     "data": {
      "text/html": [
       "<pre style=\"white-space:pre;overflow-x:auto;line-height:normal;font-family:Menlo,'DejaVu Sans Mono',consolas,'Courier New',monospace\"><span style=\"color: #808000; text-decoration-color: #808000; font-weight: bold\">Warning:</span><span style=\"color: #808000; text-decoration-color: #808000\"> meshio does not support tags of string type.</span>\n",
       "<span style=\"color: #808000; text-decoration-color: #808000\">    Surface tag  FARFIELD will be replaced by </span><span style=\"color: #808000; text-decoration-color: #808000; font-weight: bold\">2</span>\n",
       "</pre>\n"
      ],
      "text/plain": [
       "\u001b[1;33mWarning:\u001b[0m\u001b[33m meshio does not support tags of string type.\u001b[0m\n",
       "\u001b[33m    Surface tag  FARFIELD will be replaced by \u001b[0m\u001b[1;33m2\u001b[0m\n"
      ]
     },
     "metadata": {},
     "output_type": "display_data"
    },
    {
     "name": "stdout",
     "output_type": "stream",
     "text": [
      "Reading ../Data/SOBOL_DESIGNS_RANS/DESIGNS/DSN_0068/DIRECT/../config_DSN.cfg\n"
     ]
    },
    {
     "data": {
      "text/html": [
       "<pre style=\"white-space:pre;overflow-x:auto;line-height:normal;font-family:Menlo,'DejaVu Sans Mono',consolas,'Courier New',monospace\"><span style=\"color: #808000; text-decoration-color: #808000; font-weight: bold\">Warning:</span><span style=\"color: #808000; text-decoration-color: #808000\"> meshio does not support tags of string type.</span>\n",
       "<span style=\"color: #808000; text-decoration-color: #808000\">    Surface tag  AIRFOIL will be replaced by </span><span style=\"color: #808000; text-decoration-color: #808000; font-weight: bold\">1</span>\n",
       "</pre>\n"
      ],
      "text/plain": [
       "\u001b[1;33mWarning:\u001b[0m\u001b[33m meshio does not support tags of string type.\u001b[0m\n",
       "\u001b[33m    Surface tag  AIRFOIL will be replaced by \u001b[0m\u001b[1;33m1\u001b[0m\n"
      ]
     },
     "metadata": {},
     "output_type": "display_data"
    },
    {
     "data": {
      "text/html": [
       "<pre style=\"white-space:pre;overflow-x:auto;line-height:normal;font-family:Menlo,'DejaVu Sans Mono',consolas,'Courier New',monospace\"><span style=\"color: #808000; text-decoration-color: #808000; font-weight: bold\">Warning:</span><span style=\"color: #808000; text-decoration-color: #808000\"> meshio does not support tags of string type.</span>\n",
       "<span style=\"color: #808000; text-decoration-color: #808000\">    Surface tag  FARFIELD will be replaced by </span><span style=\"color: #808000; text-decoration-color: #808000; font-weight: bold\">2</span>\n",
       "</pre>\n"
      ],
      "text/plain": [
       "\u001b[1;33mWarning:\u001b[0m\u001b[33m meshio does not support tags of string type.\u001b[0m\n",
       "\u001b[33m    Surface tag  FARFIELD will be replaced by \u001b[0m\u001b[1;33m2\u001b[0m\n"
      ]
     },
     "metadata": {},
     "output_type": "display_data"
    },
    {
     "name": "stdout",
     "output_type": "stream",
     "text": [
      "Reading ../Data/SOBOL_DESIGNS_RANS/DESIGNS/DSN_0069/DIRECT/../config_DSN.cfg\n"
     ]
    },
    {
     "data": {
      "text/html": [
       "<pre style=\"white-space:pre;overflow-x:auto;line-height:normal;font-family:Menlo,'DejaVu Sans Mono',consolas,'Courier New',monospace\"><span style=\"color: #808000; text-decoration-color: #808000; font-weight: bold\">Warning:</span><span style=\"color: #808000; text-decoration-color: #808000\"> meshio does not support tags of string type.</span>\n",
       "<span style=\"color: #808000; text-decoration-color: #808000\">    Surface tag  AIRFOIL will be replaced by </span><span style=\"color: #808000; text-decoration-color: #808000; font-weight: bold\">1</span>\n",
       "</pre>\n"
      ],
      "text/plain": [
       "\u001b[1;33mWarning:\u001b[0m\u001b[33m meshio does not support tags of string type.\u001b[0m\n",
       "\u001b[33m    Surface tag  AIRFOIL will be replaced by \u001b[0m\u001b[1;33m1\u001b[0m\n"
      ]
     },
     "metadata": {},
     "output_type": "display_data"
    },
    {
     "data": {
      "text/html": [
       "<pre style=\"white-space:pre;overflow-x:auto;line-height:normal;font-family:Menlo,'DejaVu Sans Mono',consolas,'Courier New',monospace\"><span style=\"color: #808000; text-decoration-color: #808000; font-weight: bold\">Warning:</span><span style=\"color: #808000; text-decoration-color: #808000\"> meshio does not support tags of string type.</span>\n",
       "<span style=\"color: #808000; text-decoration-color: #808000\">    Surface tag  FARFIELD will be replaced by </span><span style=\"color: #808000; text-decoration-color: #808000; font-weight: bold\">2</span>\n",
       "</pre>\n"
      ],
      "text/plain": [
       "\u001b[1;33mWarning:\u001b[0m\u001b[33m meshio does not support tags of string type.\u001b[0m\n",
       "\u001b[33m    Surface tag  FARFIELD will be replaced by \u001b[0m\u001b[1;33m2\u001b[0m\n"
      ]
     },
     "metadata": {},
     "output_type": "display_data"
    },
    {
     "name": "stdout",
     "output_type": "stream",
     "text": [
      "Reading ../Data/SOBOL_DESIGNS_RANS/DESIGNS/DSN_0070/DIRECT/../config_DSN.cfg\n"
     ]
    },
    {
     "data": {
      "text/html": [
       "<pre style=\"white-space:pre;overflow-x:auto;line-height:normal;font-family:Menlo,'DejaVu Sans Mono',consolas,'Courier New',monospace\"><span style=\"color: #808000; text-decoration-color: #808000; font-weight: bold\">Warning:</span><span style=\"color: #808000; text-decoration-color: #808000\"> meshio does not support tags of string type.</span>\n",
       "<span style=\"color: #808000; text-decoration-color: #808000\">    Surface tag  AIRFOIL will be replaced by </span><span style=\"color: #808000; text-decoration-color: #808000; font-weight: bold\">1</span>\n",
       "</pre>\n"
      ],
      "text/plain": [
       "\u001b[1;33mWarning:\u001b[0m\u001b[33m meshio does not support tags of string type.\u001b[0m\n",
       "\u001b[33m    Surface tag  AIRFOIL will be replaced by \u001b[0m\u001b[1;33m1\u001b[0m\n"
      ]
     },
     "metadata": {},
     "output_type": "display_data"
    },
    {
     "data": {
      "text/html": [
       "<pre style=\"white-space:pre;overflow-x:auto;line-height:normal;font-family:Menlo,'DejaVu Sans Mono',consolas,'Courier New',monospace\"><span style=\"color: #808000; text-decoration-color: #808000; font-weight: bold\">Warning:</span><span style=\"color: #808000; text-decoration-color: #808000\"> meshio does not support tags of string type.</span>\n",
       "<span style=\"color: #808000; text-decoration-color: #808000\">    Surface tag  FARFIELD will be replaced by </span><span style=\"color: #808000; text-decoration-color: #808000; font-weight: bold\">2</span>\n",
       "</pre>\n"
      ],
      "text/plain": [
       "\u001b[1;33mWarning:\u001b[0m\u001b[33m meshio does not support tags of string type.\u001b[0m\n",
       "\u001b[33m    Surface tag  FARFIELD will be replaced by \u001b[0m\u001b[1;33m2\u001b[0m\n"
      ]
     },
     "metadata": {},
     "output_type": "display_data"
    },
    {
     "name": "stdout",
     "output_type": "stream",
     "text": [
      "Reading ../Data/SOBOL_DESIGNS_RANS/DESIGNS/DSN_0071/DIRECT/../config_DSN.cfg\n"
     ]
    },
    {
     "data": {
      "text/html": [
       "<pre style=\"white-space:pre;overflow-x:auto;line-height:normal;font-family:Menlo,'DejaVu Sans Mono',consolas,'Courier New',monospace\"><span style=\"color: #808000; text-decoration-color: #808000; font-weight: bold\">Warning:</span><span style=\"color: #808000; text-decoration-color: #808000\"> meshio does not support tags of string type.</span>\n",
       "<span style=\"color: #808000; text-decoration-color: #808000\">    Surface tag  AIRFOIL will be replaced by </span><span style=\"color: #808000; text-decoration-color: #808000; font-weight: bold\">1</span>\n",
       "</pre>\n"
      ],
      "text/plain": [
       "\u001b[1;33mWarning:\u001b[0m\u001b[33m meshio does not support tags of string type.\u001b[0m\n",
       "\u001b[33m    Surface tag  AIRFOIL will be replaced by \u001b[0m\u001b[1;33m1\u001b[0m\n"
      ]
     },
     "metadata": {},
     "output_type": "display_data"
    },
    {
     "data": {
      "text/html": [
       "<pre style=\"white-space:pre;overflow-x:auto;line-height:normal;font-family:Menlo,'DejaVu Sans Mono',consolas,'Courier New',monospace\"><span style=\"color: #808000; text-decoration-color: #808000; font-weight: bold\">Warning:</span><span style=\"color: #808000; text-decoration-color: #808000\"> meshio does not support tags of string type.</span>\n",
       "<span style=\"color: #808000; text-decoration-color: #808000\">    Surface tag  FARFIELD will be replaced by </span><span style=\"color: #808000; text-decoration-color: #808000; font-weight: bold\">2</span>\n",
       "</pre>\n"
      ],
      "text/plain": [
       "\u001b[1;33mWarning:\u001b[0m\u001b[33m meshio does not support tags of string type.\u001b[0m\n",
       "\u001b[33m    Surface tag  FARFIELD will be replaced by \u001b[0m\u001b[1;33m2\u001b[0m\n"
      ]
     },
     "metadata": {},
     "output_type": "display_data"
    },
    {
     "name": "stdout",
     "output_type": "stream",
     "text": [
      "Reading ../Data/SOBOL_DESIGNS_RANS/DESIGNS/DSN_0072/DIRECT/../config_DSN.cfg\n"
     ]
    },
    {
     "data": {
      "text/html": [
       "<pre style=\"white-space:pre;overflow-x:auto;line-height:normal;font-family:Menlo,'DejaVu Sans Mono',consolas,'Courier New',monospace\"><span style=\"color: #808000; text-decoration-color: #808000; font-weight: bold\">Warning:</span><span style=\"color: #808000; text-decoration-color: #808000\"> meshio does not support tags of string type.</span>\n",
       "<span style=\"color: #808000; text-decoration-color: #808000\">    Surface tag  AIRFOIL will be replaced by </span><span style=\"color: #808000; text-decoration-color: #808000; font-weight: bold\">1</span>\n",
       "</pre>\n"
      ],
      "text/plain": [
       "\u001b[1;33mWarning:\u001b[0m\u001b[33m meshio does not support tags of string type.\u001b[0m\n",
       "\u001b[33m    Surface tag  AIRFOIL will be replaced by \u001b[0m\u001b[1;33m1\u001b[0m\n"
      ]
     },
     "metadata": {},
     "output_type": "display_data"
    },
    {
     "data": {
      "text/html": [
       "<pre style=\"white-space:pre;overflow-x:auto;line-height:normal;font-family:Menlo,'DejaVu Sans Mono',consolas,'Courier New',monospace\"><span style=\"color: #808000; text-decoration-color: #808000; font-weight: bold\">Warning:</span><span style=\"color: #808000; text-decoration-color: #808000\"> meshio does not support tags of string type.</span>\n",
       "<span style=\"color: #808000; text-decoration-color: #808000\">    Surface tag  FARFIELD will be replaced by </span><span style=\"color: #808000; text-decoration-color: #808000; font-weight: bold\">2</span>\n",
       "</pre>\n"
      ],
      "text/plain": [
       "\u001b[1;33mWarning:\u001b[0m\u001b[33m meshio does not support tags of string type.\u001b[0m\n",
       "\u001b[33m    Surface tag  FARFIELD will be replaced by \u001b[0m\u001b[1;33m2\u001b[0m\n"
      ]
     },
     "metadata": {},
     "output_type": "display_data"
    },
    {
     "name": "stdout",
     "output_type": "stream",
     "text": [
      "Reading ../Data/SOBOL_DESIGNS_RANS/DESIGNS/DSN_0073/DIRECT/../config_DSN.cfg\n"
     ]
    },
    {
     "data": {
      "text/html": [
       "<pre style=\"white-space:pre;overflow-x:auto;line-height:normal;font-family:Menlo,'DejaVu Sans Mono',consolas,'Courier New',monospace\"><span style=\"color: #808000; text-decoration-color: #808000; font-weight: bold\">Warning:</span><span style=\"color: #808000; text-decoration-color: #808000\"> meshio does not support tags of string type.</span>\n",
       "<span style=\"color: #808000; text-decoration-color: #808000\">    Surface tag  AIRFOIL will be replaced by </span><span style=\"color: #808000; text-decoration-color: #808000; font-weight: bold\">1</span>\n",
       "</pre>\n"
      ],
      "text/plain": [
       "\u001b[1;33mWarning:\u001b[0m\u001b[33m meshio does not support tags of string type.\u001b[0m\n",
       "\u001b[33m    Surface tag  AIRFOIL will be replaced by \u001b[0m\u001b[1;33m1\u001b[0m\n"
      ]
     },
     "metadata": {},
     "output_type": "display_data"
    },
    {
     "data": {
      "text/html": [
       "<pre style=\"white-space:pre;overflow-x:auto;line-height:normal;font-family:Menlo,'DejaVu Sans Mono',consolas,'Courier New',monospace\"><span style=\"color: #808000; text-decoration-color: #808000; font-weight: bold\">Warning:</span><span style=\"color: #808000; text-decoration-color: #808000\"> meshio does not support tags of string type.</span>\n",
       "<span style=\"color: #808000; text-decoration-color: #808000\">    Surface tag  FARFIELD will be replaced by </span><span style=\"color: #808000; text-decoration-color: #808000; font-weight: bold\">2</span>\n",
       "</pre>\n"
      ],
      "text/plain": [
       "\u001b[1;33mWarning:\u001b[0m\u001b[33m meshio does not support tags of string type.\u001b[0m\n",
       "\u001b[33m    Surface tag  FARFIELD will be replaced by \u001b[0m\u001b[1;33m2\u001b[0m\n"
      ]
     },
     "metadata": {},
     "output_type": "display_data"
    },
    {
     "name": "stdout",
     "output_type": "stream",
     "text": [
      "Reading ../Data/SOBOL_DESIGNS_RANS/DESIGNS/DSN_0074/DIRECT/../config_DSN.cfg\n"
     ]
    },
    {
     "data": {
      "text/html": [
       "<pre style=\"white-space:pre;overflow-x:auto;line-height:normal;font-family:Menlo,'DejaVu Sans Mono',consolas,'Courier New',monospace\"><span style=\"color: #808000; text-decoration-color: #808000; font-weight: bold\">Warning:</span><span style=\"color: #808000; text-decoration-color: #808000\"> meshio does not support tags of string type.</span>\n",
       "<span style=\"color: #808000; text-decoration-color: #808000\">    Surface tag  AIRFOIL will be replaced by </span><span style=\"color: #808000; text-decoration-color: #808000; font-weight: bold\">1</span>\n",
       "</pre>\n"
      ],
      "text/plain": [
       "\u001b[1;33mWarning:\u001b[0m\u001b[33m meshio does not support tags of string type.\u001b[0m\n",
       "\u001b[33m    Surface tag  AIRFOIL will be replaced by \u001b[0m\u001b[1;33m1\u001b[0m\n"
      ]
     },
     "metadata": {},
     "output_type": "display_data"
    },
    {
     "data": {
      "text/html": [
       "<pre style=\"white-space:pre;overflow-x:auto;line-height:normal;font-family:Menlo,'DejaVu Sans Mono',consolas,'Courier New',monospace\"><span style=\"color: #808000; text-decoration-color: #808000; font-weight: bold\">Warning:</span><span style=\"color: #808000; text-decoration-color: #808000\"> meshio does not support tags of string type.</span>\n",
       "<span style=\"color: #808000; text-decoration-color: #808000\">    Surface tag  FARFIELD will be replaced by </span><span style=\"color: #808000; text-decoration-color: #808000; font-weight: bold\">2</span>\n",
       "</pre>\n"
      ],
      "text/plain": [
       "\u001b[1;33mWarning:\u001b[0m\u001b[33m meshio does not support tags of string type.\u001b[0m\n",
       "\u001b[33m    Surface tag  FARFIELD will be replaced by \u001b[0m\u001b[1;33m2\u001b[0m\n"
      ]
     },
     "metadata": {},
     "output_type": "display_data"
    },
    {
     "name": "stdout",
     "output_type": "stream",
     "text": [
      "Reading ../Data/SOBOL_DESIGNS_RANS/DESIGNS/DSN_0075/DIRECT/../config_DSN.cfg\n"
     ]
    },
    {
     "data": {
      "text/html": [
       "<pre style=\"white-space:pre;overflow-x:auto;line-height:normal;font-family:Menlo,'DejaVu Sans Mono',consolas,'Courier New',monospace\"><span style=\"color: #808000; text-decoration-color: #808000; font-weight: bold\">Warning:</span><span style=\"color: #808000; text-decoration-color: #808000\"> meshio does not support tags of string type.</span>\n",
       "<span style=\"color: #808000; text-decoration-color: #808000\">    Surface tag  AIRFOIL will be replaced by </span><span style=\"color: #808000; text-decoration-color: #808000; font-weight: bold\">1</span>\n",
       "</pre>\n"
      ],
      "text/plain": [
       "\u001b[1;33mWarning:\u001b[0m\u001b[33m meshio does not support tags of string type.\u001b[0m\n",
       "\u001b[33m    Surface tag  AIRFOIL will be replaced by \u001b[0m\u001b[1;33m1\u001b[0m\n"
      ]
     },
     "metadata": {},
     "output_type": "display_data"
    },
    {
     "data": {
      "text/html": [
       "<pre style=\"white-space:pre;overflow-x:auto;line-height:normal;font-family:Menlo,'DejaVu Sans Mono',consolas,'Courier New',monospace\"><span style=\"color: #808000; text-decoration-color: #808000; font-weight: bold\">Warning:</span><span style=\"color: #808000; text-decoration-color: #808000\"> meshio does not support tags of string type.</span>\n",
       "<span style=\"color: #808000; text-decoration-color: #808000\">    Surface tag  FARFIELD will be replaced by </span><span style=\"color: #808000; text-decoration-color: #808000; font-weight: bold\">2</span>\n",
       "</pre>\n"
      ],
      "text/plain": [
       "\u001b[1;33mWarning:\u001b[0m\u001b[33m meshio does not support tags of string type.\u001b[0m\n",
       "\u001b[33m    Surface tag  FARFIELD will be replaced by \u001b[0m\u001b[1;33m2\u001b[0m\n"
      ]
     },
     "metadata": {},
     "output_type": "display_data"
    },
    {
     "name": "stdout",
     "output_type": "stream",
     "text": [
      "Reading ../Data/SOBOL_DESIGNS_RANS/DESIGNS/DSN_0076/DIRECT/../config_DSN.cfg\n"
     ]
    },
    {
     "data": {
      "text/html": [
       "<pre style=\"white-space:pre;overflow-x:auto;line-height:normal;font-family:Menlo,'DejaVu Sans Mono',consolas,'Courier New',monospace\"><span style=\"color: #808000; text-decoration-color: #808000; font-weight: bold\">Warning:</span><span style=\"color: #808000; text-decoration-color: #808000\"> meshio does not support tags of string type.</span>\n",
       "<span style=\"color: #808000; text-decoration-color: #808000\">    Surface tag  AIRFOIL will be replaced by </span><span style=\"color: #808000; text-decoration-color: #808000; font-weight: bold\">1</span>\n",
       "</pre>\n"
      ],
      "text/plain": [
       "\u001b[1;33mWarning:\u001b[0m\u001b[33m meshio does not support tags of string type.\u001b[0m\n",
       "\u001b[33m    Surface tag  AIRFOIL will be replaced by \u001b[0m\u001b[1;33m1\u001b[0m\n"
      ]
     },
     "metadata": {},
     "output_type": "display_data"
    },
    {
     "data": {
      "text/html": [
       "<pre style=\"white-space:pre;overflow-x:auto;line-height:normal;font-family:Menlo,'DejaVu Sans Mono',consolas,'Courier New',monospace\"><span style=\"color: #808000; text-decoration-color: #808000; font-weight: bold\">Warning:</span><span style=\"color: #808000; text-decoration-color: #808000\"> meshio does not support tags of string type.</span>\n",
       "<span style=\"color: #808000; text-decoration-color: #808000\">    Surface tag  FARFIELD will be replaced by </span><span style=\"color: #808000; text-decoration-color: #808000; font-weight: bold\">2</span>\n",
       "</pre>\n"
      ],
      "text/plain": [
       "\u001b[1;33mWarning:\u001b[0m\u001b[33m meshio does not support tags of string type.\u001b[0m\n",
       "\u001b[33m    Surface tag  FARFIELD will be replaced by \u001b[0m\u001b[1;33m2\u001b[0m\n"
      ]
     },
     "metadata": {},
     "output_type": "display_data"
    },
    {
     "name": "stdout",
     "output_type": "stream",
     "text": [
      "Reading ../Data/SOBOL_DESIGNS_RANS/DESIGNS/DSN_0077/DIRECT/../config_DSN.cfg\n"
     ]
    },
    {
     "data": {
      "text/html": [
       "<pre style=\"white-space:pre;overflow-x:auto;line-height:normal;font-family:Menlo,'DejaVu Sans Mono',consolas,'Courier New',monospace\"><span style=\"color: #808000; text-decoration-color: #808000; font-weight: bold\">Warning:</span><span style=\"color: #808000; text-decoration-color: #808000\"> meshio does not support tags of string type.</span>\n",
       "<span style=\"color: #808000; text-decoration-color: #808000\">    Surface tag  AIRFOIL will be replaced by </span><span style=\"color: #808000; text-decoration-color: #808000; font-weight: bold\">1</span>\n",
       "</pre>\n"
      ],
      "text/plain": [
       "\u001b[1;33mWarning:\u001b[0m\u001b[33m meshio does not support tags of string type.\u001b[0m\n",
       "\u001b[33m    Surface tag  AIRFOIL will be replaced by \u001b[0m\u001b[1;33m1\u001b[0m\n"
      ]
     },
     "metadata": {},
     "output_type": "display_data"
    },
    {
     "data": {
      "text/html": [
       "<pre style=\"white-space:pre;overflow-x:auto;line-height:normal;font-family:Menlo,'DejaVu Sans Mono',consolas,'Courier New',monospace\"><span style=\"color: #808000; text-decoration-color: #808000; font-weight: bold\">Warning:</span><span style=\"color: #808000; text-decoration-color: #808000\"> meshio does not support tags of string type.</span>\n",
       "<span style=\"color: #808000; text-decoration-color: #808000\">    Surface tag  FARFIELD will be replaced by </span><span style=\"color: #808000; text-decoration-color: #808000; font-weight: bold\">2</span>\n",
       "</pre>\n"
      ],
      "text/plain": [
       "\u001b[1;33mWarning:\u001b[0m\u001b[33m meshio does not support tags of string type.\u001b[0m\n",
       "\u001b[33m    Surface tag  FARFIELD will be replaced by \u001b[0m\u001b[1;33m2\u001b[0m\n"
      ]
     },
     "metadata": {},
     "output_type": "display_data"
    },
    {
     "name": "stdout",
     "output_type": "stream",
     "text": [
      "Reading ../Data/SOBOL_DESIGNS_RANS/DESIGNS/DSN_0078/DIRECT/../config_DSN.cfg\n"
     ]
    },
    {
     "data": {
      "text/html": [
       "<pre style=\"white-space:pre;overflow-x:auto;line-height:normal;font-family:Menlo,'DejaVu Sans Mono',consolas,'Courier New',monospace\"><span style=\"color: #808000; text-decoration-color: #808000; font-weight: bold\">Warning:</span><span style=\"color: #808000; text-decoration-color: #808000\"> meshio does not support tags of string type.</span>\n",
       "<span style=\"color: #808000; text-decoration-color: #808000\">    Surface tag  AIRFOIL will be replaced by </span><span style=\"color: #808000; text-decoration-color: #808000; font-weight: bold\">1</span>\n",
       "</pre>\n"
      ],
      "text/plain": [
       "\u001b[1;33mWarning:\u001b[0m\u001b[33m meshio does not support tags of string type.\u001b[0m\n",
       "\u001b[33m    Surface tag  AIRFOIL will be replaced by \u001b[0m\u001b[1;33m1\u001b[0m\n"
      ]
     },
     "metadata": {},
     "output_type": "display_data"
    },
    {
     "data": {
      "text/html": [
       "<pre style=\"white-space:pre;overflow-x:auto;line-height:normal;font-family:Menlo,'DejaVu Sans Mono',consolas,'Courier New',monospace\"><span style=\"color: #808000; text-decoration-color: #808000; font-weight: bold\">Warning:</span><span style=\"color: #808000; text-decoration-color: #808000\"> meshio does not support tags of string type.</span>\n",
       "<span style=\"color: #808000; text-decoration-color: #808000\">    Surface tag  FARFIELD will be replaced by </span><span style=\"color: #808000; text-decoration-color: #808000; font-weight: bold\">2</span>\n",
       "</pre>\n"
      ],
      "text/plain": [
       "\u001b[1;33mWarning:\u001b[0m\u001b[33m meshio does not support tags of string type.\u001b[0m\n",
       "\u001b[33m    Surface tag  FARFIELD will be replaced by \u001b[0m\u001b[1;33m2\u001b[0m\n"
      ]
     },
     "metadata": {},
     "output_type": "display_data"
    },
    {
     "name": "stdout",
     "output_type": "stream",
     "text": [
      "Reading ../Data/SOBOL_DESIGNS_RANS/DESIGNS/DSN_0079/DIRECT/../config_DSN.cfg\n"
     ]
    },
    {
     "data": {
      "text/html": [
       "<pre style=\"white-space:pre;overflow-x:auto;line-height:normal;font-family:Menlo,'DejaVu Sans Mono',consolas,'Courier New',monospace\"><span style=\"color: #808000; text-decoration-color: #808000; font-weight: bold\">Warning:</span><span style=\"color: #808000; text-decoration-color: #808000\"> meshio does not support tags of string type.</span>\n",
       "<span style=\"color: #808000; text-decoration-color: #808000\">    Surface tag  AIRFOIL will be replaced by </span><span style=\"color: #808000; text-decoration-color: #808000; font-weight: bold\">1</span>\n",
       "</pre>\n"
      ],
      "text/plain": [
       "\u001b[1;33mWarning:\u001b[0m\u001b[33m meshio does not support tags of string type.\u001b[0m\n",
       "\u001b[33m    Surface tag  AIRFOIL will be replaced by \u001b[0m\u001b[1;33m1\u001b[0m\n"
      ]
     },
     "metadata": {},
     "output_type": "display_data"
    },
    {
     "data": {
      "text/html": [
       "<pre style=\"white-space:pre;overflow-x:auto;line-height:normal;font-family:Menlo,'DejaVu Sans Mono',consolas,'Courier New',monospace\"><span style=\"color: #808000; text-decoration-color: #808000; font-weight: bold\">Warning:</span><span style=\"color: #808000; text-decoration-color: #808000\"> meshio does not support tags of string type.</span>\n",
       "<span style=\"color: #808000; text-decoration-color: #808000\">    Surface tag  FARFIELD will be replaced by </span><span style=\"color: #808000; text-decoration-color: #808000; font-weight: bold\">2</span>\n",
       "</pre>\n"
      ],
      "text/plain": [
       "\u001b[1;33mWarning:\u001b[0m\u001b[33m meshio does not support tags of string type.\u001b[0m\n",
       "\u001b[33m    Surface tag  FARFIELD will be replaced by \u001b[0m\u001b[1;33m2\u001b[0m\n"
      ]
     },
     "metadata": {},
     "output_type": "display_data"
    },
    {
     "name": "stdout",
     "output_type": "stream",
     "text": [
      "Reading ../Data/SOBOL_DESIGNS_RANS/DESIGNS/DSN_0080/DIRECT/../config_DSN.cfg\n"
     ]
    },
    {
     "data": {
      "text/html": [
       "<pre style=\"white-space:pre;overflow-x:auto;line-height:normal;font-family:Menlo,'DejaVu Sans Mono',consolas,'Courier New',monospace\"><span style=\"color: #808000; text-decoration-color: #808000; font-weight: bold\">Warning:</span><span style=\"color: #808000; text-decoration-color: #808000\"> meshio does not support tags of string type.</span>\n",
       "<span style=\"color: #808000; text-decoration-color: #808000\">    Surface tag  AIRFOIL will be replaced by </span><span style=\"color: #808000; text-decoration-color: #808000; font-weight: bold\">1</span>\n",
       "</pre>\n"
      ],
      "text/plain": [
       "\u001b[1;33mWarning:\u001b[0m\u001b[33m meshio does not support tags of string type.\u001b[0m\n",
       "\u001b[33m    Surface tag  AIRFOIL will be replaced by \u001b[0m\u001b[1;33m1\u001b[0m\n"
      ]
     },
     "metadata": {},
     "output_type": "display_data"
    },
    {
     "data": {
      "text/html": [
       "<pre style=\"white-space:pre;overflow-x:auto;line-height:normal;font-family:Menlo,'DejaVu Sans Mono',consolas,'Courier New',monospace\"><span style=\"color: #808000; text-decoration-color: #808000; font-weight: bold\">Warning:</span><span style=\"color: #808000; text-decoration-color: #808000\"> meshio does not support tags of string type.</span>\n",
       "<span style=\"color: #808000; text-decoration-color: #808000\">    Surface tag  FARFIELD will be replaced by </span><span style=\"color: #808000; text-decoration-color: #808000; font-weight: bold\">2</span>\n",
       "</pre>\n"
      ],
      "text/plain": [
       "\u001b[1;33mWarning:\u001b[0m\u001b[33m meshio does not support tags of string type.\u001b[0m\n",
       "\u001b[33m    Surface tag  FARFIELD will be replaced by \u001b[0m\u001b[1;33m2\u001b[0m\n"
      ]
     },
     "metadata": {},
     "output_type": "display_data"
    },
    {
     "name": "stdout",
     "output_type": "stream",
     "text": [
      "Reading ../Data/SOBOL_DESIGNS_RANS/DESIGNS/DSN_0081/DIRECT/../config_DSN.cfg\n"
     ]
    },
    {
     "data": {
      "text/html": [
       "<pre style=\"white-space:pre;overflow-x:auto;line-height:normal;font-family:Menlo,'DejaVu Sans Mono',consolas,'Courier New',monospace\"><span style=\"color: #808000; text-decoration-color: #808000; font-weight: bold\">Warning:</span><span style=\"color: #808000; text-decoration-color: #808000\"> meshio does not support tags of string type.</span>\n",
       "<span style=\"color: #808000; text-decoration-color: #808000\">    Surface tag  AIRFOIL will be replaced by </span><span style=\"color: #808000; text-decoration-color: #808000; font-weight: bold\">1</span>\n",
       "</pre>\n"
      ],
      "text/plain": [
       "\u001b[1;33mWarning:\u001b[0m\u001b[33m meshio does not support tags of string type.\u001b[0m\n",
       "\u001b[33m    Surface tag  AIRFOIL will be replaced by \u001b[0m\u001b[1;33m1\u001b[0m\n"
      ]
     },
     "metadata": {},
     "output_type": "display_data"
    },
    {
     "data": {
      "text/html": [
       "<pre style=\"white-space:pre;overflow-x:auto;line-height:normal;font-family:Menlo,'DejaVu Sans Mono',consolas,'Courier New',monospace\"><span style=\"color: #808000; text-decoration-color: #808000; font-weight: bold\">Warning:</span><span style=\"color: #808000; text-decoration-color: #808000\"> meshio does not support tags of string type.</span>\n",
       "<span style=\"color: #808000; text-decoration-color: #808000\">    Surface tag  FARFIELD will be replaced by </span><span style=\"color: #808000; text-decoration-color: #808000; font-weight: bold\">2</span>\n",
       "</pre>\n"
      ],
      "text/plain": [
       "\u001b[1;33mWarning:\u001b[0m\u001b[33m meshio does not support tags of string type.\u001b[0m\n",
       "\u001b[33m    Surface tag  FARFIELD will be replaced by \u001b[0m\u001b[1;33m2\u001b[0m\n"
      ]
     },
     "metadata": {},
     "output_type": "display_data"
    },
    {
     "name": "stdout",
     "output_type": "stream",
     "text": [
      "Reading ../Data/SOBOL_DESIGNS_RANS/DESIGNS/DSN_0082/DIRECT/../config_DSN.cfg\n"
     ]
    },
    {
     "data": {
      "text/html": [
       "<pre style=\"white-space:pre;overflow-x:auto;line-height:normal;font-family:Menlo,'DejaVu Sans Mono',consolas,'Courier New',monospace\"><span style=\"color: #808000; text-decoration-color: #808000; font-weight: bold\">Warning:</span><span style=\"color: #808000; text-decoration-color: #808000\"> meshio does not support tags of string type.</span>\n",
       "<span style=\"color: #808000; text-decoration-color: #808000\">    Surface tag  AIRFOIL will be replaced by </span><span style=\"color: #808000; text-decoration-color: #808000; font-weight: bold\">1</span>\n",
       "</pre>\n"
      ],
      "text/plain": [
       "\u001b[1;33mWarning:\u001b[0m\u001b[33m meshio does not support tags of string type.\u001b[0m\n",
       "\u001b[33m    Surface tag  AIRFOIL will be replaced by \u001b[0m\u001b[1;33m1\u001b[0m\n"
      ]
     },
     "metadata": {},
     "output_type": "display_data"
    },
    {
     "data": {
      "text/html": [
       "<pre style=\"white-space:pre;overflow-x:auto;line-height:normal;font-family:Menlo,'DejaVu Sans Mono',consolas,'Courier New',monospace\"><span style=\"color: #808000; text-decoration-color: #808000; font-weight: bold\">Warning:</span><span style=\"color: #808000; text-decoration-color: #808000\"> meshio does not support tags of string type.</span>\n",
       "<span style=\"color: #808000; text-decoration-color: #808000\">    Surface tag  FARFIELD will be replaced by </span><span style=\"color: #808000; text-decoration-color: #808000; font-weight: bold\">2</span>\n",
       "</pre>\n"
      ],
      "text/plain": [
       "\u001b[1;33mWarning:\u001b[0m\u001b[33m meshio does not support tags of string type.\u001b[0m\n",
       "\u001b[33m    Surface tag  FARFIELD will be replaced by \u001b[0m\u001b[1;33m2\u001b[0m\n"
      ]
     },
     "metadata": {},
     "output_type": "display_data"
    },
    {
     "name": "stdout",
     "output_type": "stream",
     "text": [
      "Reading ../Data/SOBOL_DESIGNS_RANS/DESIGNS/DSN_0083/DIRECT/../config_DSN.cfg\n"
     ]
    },
    {
     "data": {
      "text/html": [
       "<pre style=\"white-space:pre;overflow-x:auto;line-height:normal;font-family:Menlo,'DejaVu Sans Mono',consolas,'Courier New',monospace\"><span style=\"color: #808000; text-decoration-color: #808000; font-weight: bold\">Warning:</span><span style=\"color: #808000; text-decoration-color: #808000\"> meshio does not support tags of string type.</span>\n",
       "<span style=\"color: #808000; text-decoration-color: #808000\">    Surface tag  AIRFOIL will be replaced by </span><span style=\"color: #808000; text-decoration-color: #808000; font-weight: bold\">1</span>\n",
       "</pre>\n"
      ],
      "text/plain": [
       "\u001b[1;33mWarning:\u001b[0m\u001b[33m meshio does not support tags of string type.\u001b[0m\n",
       "\u001b[33m    Surface tag  AIRFOIL will be replaced by \u001b[0m\u001b[1;33m1\u001b[0m\n"
      ]
     },
     "metadata": {},
     "output_type": "display_data"
    },
    {
     "data": {
      "text/html": [
       "<pre style=\"white-space:pre;overflow-x:auto;line-height:normal;font-family:Menlo,'DejaVu Sans Mono',consolas,'Courier New',monospace\"><span style=\"color: #808000; text-decoration-color: #808000; font-weight: bold\">Warning:</span><span style=\"color: #808000; text-decoration-color: #808000\"> meshio does not support tags of string type.</span>\n",
       "<span style=\"color: #808000; text-decoration-color: #808000\">    Surface tag  FARFIELD will be replaced by </span><span style=\"color: #808000; text-decoration-color: #808000; font-weight: bold\">2</span>\n",
       "</pre>\n"
      ],
      "text/plain": [
       "\u001b[1;33mWarning:\u001b[0m\u001b[33m meshio does not support tags of string type.\u001b[0m\n",
       "\u001b[33m    Surface tag  FARFIELD will be replaced by \u001b[0m\u001b[1;33m2\u001b[0m\n"
      ]
     },
     "metadata": {},
     "output_type": "display_data"
    },
    {
     "name": "stdout",
     "output_type": "stream",
     "text": [
      "Reading ../Data/SOBOL_DESIGNS_RANS/DESIGNS/DSN_0084/DIRECT/../config_DSN.cfg\n"
     ]
    },
    {
     "data": {
      "text/html": [
       "<pre style=\"white-space:pre;overflow-x:auto;line-height:normal;font-family:Menlo,'DejaVu Sans Mono',consolas,'Courier New',monospace\"><span style=\"color: #808000; text-decoration-color: #808000; font-weight: bold\">Warning:</span><span style=\"color: #808000; text-decoration-color: #808000\"> meshio does not support tags of string type.</span>\n",
       "<span style=\"color: #808000; text-decoration-color: #808000\">    Surface tag  AIRFOIL will be replaced by </span><span style=\"color: #808000; text-decoration-color: #808000; font-weight: bold\">1</span>\n",
       "</pre>\n"
      ],
      "text/plain": [
       "\u001b[1;33mWarning:\u001b[0m\u001b[33m meshio does not support tags of string type.\u001b[0m\n",
       "\u001b[33m    Surface tag  AIRFOIL will be replaced by \u001b[0m\u001b[1;33m1\u001b[0m\n"
      ]
     },
     "metadata": {},
     "output_type": "display_data"
    },
    {
     "data": {
      "text/html": [
       "<pre style=\"white-space:pre;overflow-x:auto;line-height:normal;font-family:Menlo,'DejaVu Sans Mono',consolas,'Courier New',monospace\"><span style=\"color: #808000; text-decoration-color: #808000; font-weight: bold\">Warning:</span><span style=\"color: #808000; text-decoration-color: #808000\"> meshio does not support tags of string type.</span>\n",
       "<span style=\"color: #808000; text-decoration-color: #808000\">    Surface tag  FARFIELD will be replaced by </span><span style=\"color: #808000; text-decoration-color: #808000; font-weight: bold\">2</span>\n",
       "</pre>\n"
      ],
      "text/plain": [
       "\u001b[1;33mWarning:\u001b[0m\u001b[33m meshio does not support tags of string type.\u001b[0m\n",
       "\u001b[33m    Surface tag  FARFIELD will be replaced by \u001b[0m\u001b[1;33m2\u001b[0m\n"
      ]
     },
     "metadata": {},
     "output_type": "display_data"
    },
    {
     "name": "stdout",
     "output_type": "stream",
     "text": [
      "Reading ../Data/SOBOL_DESIGNS_RANS/DESIGNS/DSN_0085/DIRECT/../config_DSN.cfg\n"
     ]
    },
    {
     "data": {
      "text/html": [
       "<pre style=\"white-space:pre;overflow-x:auto;line-height:normal;font-family:Menlo,'DejaVu Sans Mono',consolas,'Courier New',monospace\"><span style=\"color: #808000; text-decoration-color: #808000; font-weight: bold\">Warning:</span><span style=\"color: #808000; text-decoration-color: #808000\"> meshio does not support tags of string type.</span>\n",
       "<span style=\"color: #808000; text-decoration-color: #808000\">    Surface tag  AIRFOIL will be replaced by </span><span style=\"color: #808000; text-decoration-color: #808000; font-weight: bold\">1</span>\n",
       "</pre>\n"
      ],
      "text/plain": [
       "\u001b[1;33mWarning:\u001b[0m\u001b[33m meshio does not support tags of string type.\u001b[0m\n",
       "\u001b[33m    Surface tag  AIRFOIL will be replaced by \u001b[0m\u001b[1;33m1\u001b[0m\n"
      ]
     },
     "metadata": {},
     "output_type": "display_data"
    },
    {
     "data": {
      "text/html": [
       "<pre style=\"white-space:pre;overflow-x:auto;line-height:normal;font-family:Menlo,'DejaVu Sans Mono',consolas,'Courier New',monospace\"><span style=\"color: #808000; text-decoration-color: #808000; font-weight: bold\">Warning:</span><span style=\"color: #808000; text-decoration-color: #808000\"> meshio does not support tags of string type.</span>\n",
       "<span style=\"color: #808000; text-decoration-color: #808000\">    Surface tag  FARFIELD will be replaced by </span><span style=\"color: #808000; text-decoration-color: #808000; font-weight: bold\">2</span>\n",
       "</pre>\n"
      ],
      "text/plain": [
       "\u001b[1;33mWarning:\u001b[0m\u001b[33m meshio does not support tags of string type.\u001b[0m\n",
       "\u001b[33m    Surface tag  FARFIELD will be replaced by \u001b[0m\u001b[1;33m2\u001b[0m\n"
      ]
     },
     "metadata": {},
     "output_type": "display_data"
    },
    {
     "name": "stdout",
     "output_type": "stream",
     "text": [
      "Reading ../Data/SOBOL_DESIGNS_RANS/DESIGNS/DSN_0086/DIRECT/../config_DSN.cfg\n"
     ]
    },
    {
     "data": {
      "text/html": [
       "<pre style=\"white-space:pre;overflow-x:auto;line-height:normal;font-family:Menlo,'DejaVu Sans Mono',consolas,'Courier New',monospace\"><span style=\"color: #808000; text-decoration-color: #808000; font-weight: bold\">Warning:</span><span style=\"color: #808000; text-decoration-color: #808000\"> meshio does not support tags of string type.</span>\n",
       "<span style=\"color: #808000; text-decoration-color: #808000\">    Surface tag  AIRFOIL will be replaced by </span><span style=\"color: #808000; text-decoration-color: #808000; font-weight: bold\">1</span>\n",
       "</pre>\n"
      ],
      "text/plain": [
       "\u001b[1;33mWarning:\u001b[0m\u001b[33m meshio does not support tags of string type.\u001b[0m\n",
       "\u001b[33m    Surface tag  AIRFOIL will be replaced by \u001b[0m\u001b[1;33m1\u001b[0m\n"
      ]
     },
     "metadata": {},
     "output_type": "display_data"
    },
    {
     "data": {
      "text/html": [
       "<pre style=\"white-space:pre;overflow-x:auto;line-height:normal;font-family:Menlo,'DejaVu Sans Mono',consolas,'Courier New',monospace\"><span style=\"color: #808000; text-decoration-color: #808000; font-weight: bold\">Warning:</span><span style=\"color: #808000; text-decoration-color: #808000\"> meshio does not support tags of string type.</span>\n",
       "<span style=\"color: #808000; text-decoration-color: #808000\">    Surface tag  FARFIELD will be replaced by </span><span style=\"color: #808000; text-decoration-color: #808000; font-weight: bold\">2</span>\n",
       "</pre>\n"
      ],
      "text/plain": [
       "\u001b[1;33mWarning:\u001b[0m\u001b[33m meshio does not support tags of string type.\u001b[0m\n",
       "\u001b[33m    Surface tag  FARFIELD will be replaced by \u001b[0m\u001b[1;33m2\u001b[0m\n"
      ]
     },
     "metadata": {},
     "output_type": "display_data"
    },
    {
     "name": "stdout",
     "output_type": "stream",
     "text": [
      "Reading ../Data/SOBOL_DESIGNS_RANS/DESIGNS/DSN_0087/DIRECT/../config_DSN.cfg\n"
     ]
    },
    {
     "data": {
      "text/html": [
       "<pre style=\"white-space:pre;overflow-x:auto;line-height:normal;font-family:Menlo,'DejaVu Sans Mono',consolas,'Courier New',monospace\"><span style=\"color: #808000; text-decoration-color: #808000; font-weight: bold\">Warning:</span><span style=\"color: #808000; text-decoration-color: #808000\"> meshio does not support tags of string type.</span>\n",
       "<span style=\"color: #808000; text-decoration-color: #808000\">    Surface tag  AIRFOIL will be replaced by </span><span style=\"color: #808000; text-decoration-color: #808000; font-weight: bold\">1</span>\n",
       "</pre>\n"
      ],
      "text/plain": [
       "\u001b[1;33mWarning:\u001b[0m\u001b[33m meshio does not support tags of string type.\u001b[0m\n",
       "\u001b[33m    Surface tag  AIRFOIL will be replaced by \u001b[0m\u001b[1;33m1\u001b[0m\n"
      ]
     },
     "metadata": {},
     "output_type": "display_data"
    },
    {
     "data": {
      "text/html": [
       "<pre style=\"white-space:pre;overflow-x:auto;line-height:normal;font-family:Menlo,'DejaVu Sans Mono',consolas,'Courier New',monospace\"><span style=\"color: #808000; text-decoration-color: #808000; font-weight: bold\">Warning:</span><span style=\"color: #808000; text-decoration-color: #808000\"> meshio does not support tags of string type.</span>\n",
       "<span style=\"color: #808000; text-decoration-color: #808000\">    Surface tag  FARFIELD will be replaced by </span><span style=\"color: #808000; text-decoration-color: #808000; font-weight: bold\">2</span>\n",
       "</pre>\n"
      ],
      "text/plain": [
       "\u001b[1;33mWarning:\u001b[0m\u001b[33m meshio does not support tags of string type.\u001b[0m\n",
       "\u001b[33m    Surface tag  FARFIELD will be replaced by \u001b[0m\u001b[1;33m2\u001b[0m\n"
      ]
     },
     "metadata": {},
     "output_type": "display_data"
    },
    {
     "name": "stdout",
     "output_type": "stream",
     "text": [
      "Reading ../Data/SOBOL_DESIGNS_RANS/DESIGNS/DSN_0088/DIRECT/../config_DSN.cfg\n"
     ]
    },
    {
     "data": {
      "text/html": [
       "<pre style=\"white-space:pre;overflow-x:auto;line-height:normal;font-family:Menlo,'DejaVu Sans Mono',consolas,'Courier New',monospace\"><span style=\"color: #808000; text-decoration-color: #808000; font-weight: bold\">Warning:</span><span style=\"color: #808000; text-decoration-color: #808000\"> meshio does not support tags of string type.</span>\n",
       "<span style=\"color: #808000; text-decoration-color: #808000\">    Surface tag  AIRFOIL will be replaced by </span><span style=\"color: #808000; text-decoration-color: #808000; font-weight: bold\">1</span>\n",
       "</pre>\n"
      ],
      "text/plain": [
       "\u001b[1;33mWarning:\u001b[0m\u001b[33m meshio does not support tags of string type.\u001b[0m\n",
       "\u001b[33m    Surface tag  AIRFOIL will be replaced by \u001b[0m\u001b[1;33m1\u001b[0m\n"
      ]
     },
     "metadata": {},
     "output_type": "display_data"
    },
    {
     "data": {
      "text/html": [
       "<pre style=\"white-space:pre;overflow-x:auto;line-height:normal;font-family:Menlo,'DejaVu Sans Mono',consolas,'Courier New',monospace\"><span style=\"color: #808000; text-decoration-color: #808000; font-weight: bold\">Warning:</span><span style=\"color: #808000; text-decoration-color: #808000\"> meshio does not support tags of string type.</span>\n",
       "<span style=\"color: #808000; text-decoration-color: #808000\">    Surface tag  FARFIELD will be replaced by </span><span style=\"color: #808000; text-decoration-color: #808000; font-weight: bold\">2</span>\n",
       "</pre>\n"
      ],
      "text/plain": [
       "\u001b[1;33mWarning:\u001b[0m\u001b[33m meshio does not support tags of string type.\u001b[0m\n",
       "\u001b[33m    Surface tag  FARFIELD will be replaced by \u001b[0m\u001b[1;33m2\u001b[0m\n"
      ]
     },
     "metadata": {},
     "output_type": "display_data"
    },
    {
     "name": "stdout",
     "output_type": "stream",
     "text": [
      "Reading ../Data/SOBOL_DESIGNS_RANS/DESIGNS/DSN_0089/DIRECT/../config_DSN.cfg\n"
     ]
    },
    {
     "data": {
      "text/html": [
       "<pre style=\"white-space:pre;overflow-x:auto;line-height:normal;font-family:Menlo,'DejaVu Sans Mono',consolas,'Courier New',monospace\"><span style=\"color: #808000; text-decoration-color: #808000; font-weight: bold\">Warning:</span><span style=\"color: #808000; text-decoration-color: #808000\"> meshio does not support tags of string type.</span>\n",
       "<span style=\"color: #808000; text-decoration-color: #808000\">    Surface tag  AIRFOIL will be replaced by </span><span style=\"color: #808000; text-decoration-color: #808000; font-weight: bold\">1</span>\n",
       "</pre>\n"
      ],
      "text/plain": [
       "\u001b[1;33mWarning:\u001b[0m\u001b[33m meshio does not support tags of string type.\u001b[0m\n",
       "\u001b[33m    Surface tag  AIRFOIL will be replaced by \u001b[0m\u001b[1;33m1\u001b[0m\n"
      ]
     },
     "metadata": {},
     "output_type": "display_data"
    },
    {
     "data": {
      "text/html": [
       "<pre style=\"white-space:pre;overflow-x:auto;line-height:normal;font-family:Menlo,'DejaVu Sans Mono',consolas,'Courier New',monospace\"><span style=\"color: #808000; text-decoration-color: #808000; font-weight: bold\">Warning:</span><span style=\"color: #808000; text-decoration-color: #808000\"> meshio does not support tags of string type.</span>\n",
       "<span style=\"color: #808000; text-decoration-color: #808000\">    Surface tag  FARFIELD will be replaced by </span><span style=\"color: #808000; text-decoration-color: #808000; font-weight: bold\">2</span>\n",
       "</pre>\n"
      ],
      "text/plain": [
       "\u001b[1;33mWarning:\u001b[0m\u001b[33m meshio does not support tags of string type.\u001b[0m\n",
       "\u001b[33m    Surface tag  FARFIELD will be replaced by \u001b[0m\u001b[1;33m2\u001b[0m\n"
      ]
     },
     "metadata": {},
     "output_type": "display_data"
    },
    {
     "name": "stdout",
     "output_type": "stream",
     "text": [
      "Reading ../Data/SOBOL_DESIGNS_RANS/DESIGNS/DSN_0090/DIRECT/../config_DSN.cfg\n"
     ]
    },
    {
     "data": {
      "text/html": [
       "<pre style=\"white-space:pre;overflow-x:auto;line-height:normal;font-family:Menlo,'DejaVu Sans Mono',consolas,'Courier New',monospace\"><span style=\"color: #808000; text-decoration-color: #808000; font-weight: bold\">Warning:</span><span style=\"color: #808000; text-decoration-color: #808000\"> meshio does not support tags of string type.</span>\n",
       "<span style=\"color: #808000; text-decoration-color: #808000\">    Surface tag  AIRFOIL will be replaced by </span><span style=\"color: #808000; text-decoration-color: #808000; font-weight: bold\">1</span>\n",
       "</pre>\n"
      ],
      "text/plain": [
       "\u001b[1;33mWarning:\u001b[0m\u001b[33m meshio does not support tags of string type.\u001b[0m\n",
       "\u001b[33m    Surface tag  AIRFOIL will be replaced by \u001b[0m\u001b[1;33m1\u001b[0m\n"
      ]
     },
     "metadata": {},
     "output_type": "display_data"
    },
    {
     "data": {
      "text/html": [
       "<pre style=\"white-space:pre;overflow-x:auto;line-height:normal;font-family:Menlo,'DejaVu Sans Mono',consolas,'Courier New',monospace\"><span style=\"color: #808000; text-decoration-color: #808000; font-weight: bold\">Warning:</span><span style=\"color: #808000; text-decoration-color: #808000\"> meshio does not support tags of string type.</span>\n",
       "<span style=\"color: #808000; text-decoration-color: #808000\">    Surface tag  FARFIELD will be replaced by </span><span style=\"color: #808000; text-decoration-color: #808000; font-weight: bold\">2</span>\n",
       "</pre>\n"
      ],
      "text/plain": [
       "\u001b[1;33mWarning:\u001b[0m\u001b[33m meshio does not support tags of string type.\u001b[0m\n",
       "\u001b[33m    Surface tag  FARFIELD will be replaced by \u001b[0m\u001b[1;33m2\u001b[0m\n"
      ]
     },
     "metadata": {},
     "output_type": "display_data"
    },
    {
     "name": "stdout",
     "output_type": "stream",
     "text": [
      "Reading ../Data/SOBOL_DESIGNS_RANS/DESIGNS/DSN_0091/DIRECT/../config_DSN.cfg\n"
     ]
    },
    {
     "data": {
      "text/html": [
       "<pre style=\"white-space:pre;overflow-x:auto;line-height:normal;font-family:Menlo,'DejaVu Sans Mono',consolas,'Courier New',monospace\"><span style=\"color: #808000; text-decoration-color: #808000; font-weight: bold\">Warning:</span><span style=\"color: #808000; text-decoration-color: #808000\"> meshio does not support tags of string type.</span>\n",
       "<span style=\"color: #808000; text-decoration-color: #808000\">    Surface tag  AIRFOIL will be replaced by </span><span style=\"color: #808000; text-decoration-color: #808000; font-weight: bold\">1</span>\n",
       "</pre>\n"
      ],
      "text/plain": [
       "\u001b[1;33mWarning:\u001b[0m\u001b[33m meshio does not support tags of string type.\u001b[0m\n",
       "\u001b[33m    Surface tag  AIRFOIL will be replaced by \u001b[0m\u001b[1;33m1\u001b[0m\n"
      ]
     },
     "metadata": {},
     "output_type": "display_data"
    },
    {
     "data": {
      "text/html": [
       "<pre style=\"white-space:pre;overflow-x:auto;line-height:normal;font-family:Menlo,'DejaVu Sans Mono',consolas,'Courier New',monospace\"><span style=\"color: #808000; text-decoration-color: #808000; font-weight: bold\">Warning:</span><span style=\"color: #808000; text-decoration-color: #808000\"> meshio does not support tags of string type.</span>\n",
       "<span style=\"color: #808000; text-decoration-color: #808000\">    Surface tag  FARFIELD will be replaced by </span><span style=\"color: #808000; text-decoration-color: #808000; font-weight: bold\">2</span>\n",
       "</pre>\n"
      ],
      "text/plain": [
       "\u001b[1;33mWarning:\u001b[0m\u001b[33m meshio does not support tags of string type.\u001b[0m\n",
       "\u001b[33m    Surface tag  FARFIELD will be replaced by \u001b[0m\u001b[1;33m2\u001b[0m\n"
      ]
     },
     "metadata": {},
     "output_type": "display_data"
    },
    {
     "name": "stdout",
     "output_type": "stream",
     "text": [
      "Reading ../Data/SOBOL_DESIGNS_RANS/DESIGNS/DSN_0092/DIRECT/../config_DSN.cfg\n"
     ]
    },
    {
     "data": {
      "text/html": [
       "<pre style=\"white-space:pre;overflow-x:auto;line-height:normal;font-family:Menlo,'DejaVu Sans Mono',consolas,'Courier New',monospace\"><span style=\"color: #808000; text-decoration-color: #808000; font-weight: bold\">Warning:</span><span style=\"color: #808000; text-decoration-color: #808000\"> meshio does not support tags of string type.</span>\n",
       "<span style=\"color: #808000; text-decoration-color: #808000\">    Surface tag  AIRFOIL will be replaced by </span><span style=\"color: #808000; text-decoration-color: #808000; font-weight: bold\">1</span>\n",
       "</pre>\n"
      ],
      "text/plain": [
       "\u001b[1;33mWarning:\u001b[0m\u001b[33m meshio does not support tags of string type.\u001b[0m\n",
       "\u001b[33m    Surface tag  AIRFOIL will be replaced by \u001b[0m\u001b[1;33m1\u001b[0m\n"
      ]
     },
     "metadata": {},
     "output_type": "display_data"
    },
    {
     "data": {
      "text/html": [
       "<pre style=\"white-space:pre;overflow-x:auto;line-height:normal;font-family:Menlo,'DejaVu Sans Mono',consolas,'Courier New',monospace\"><span style=\"color: #808000; text-decoration-color: #808000; font-weight: bold\">Warning:</span><span style=\"color: #808000; text-decoration-color: #808000\"> meshio does not support tags of string type.</span>\n",
       "<span style=\"color: #808000; text-decoration-color: #808000\">    Surface tag  FARFIELD will be replaced by </span><span style=\"color: #808000; text-decoration-color: #808000; font-weight: bold\">2</span>\n",
       "</pre>\n"
      ],
      "text/plain": [
       "\u001b[1;33mWarning:\u001b[0m\u001b[33m meshio does not support tags of string type.\u001b[0m\n",
       "\u001b[33m    Surface tag  FARFIELD will be replaced by \u001b[0m\u001b[1;33m2\u001b[0m\n"
      ]
     },
     "metadata": {},
     "output_type": "display_data"
    },
    {
     "name": "stdout",
     "output_type": "stream",
     "text": [
      "Reading ../Data/SOBOL_DESIGNS_RANS/DESIGNS/DSN_0093/DIRECT/../config_DSN.cfg\n"
     ]
    },
    {
     "data": {
      "text/html": [
       "<pre style=\"white-space:pre;overflow-x:auto;line-height:normal;font-family:Menlo,'DejaVu Sans Mono',consolas,'Courier New',monospace\"><span style=\"color: #808000; text-decoration-color: #808000; font-weight: bold\">Warning:</span><span style=\"color: #808000; text-decoration-color: #808000\"> meshio does not support tags of string type.</span>\n",
       "<span style=\"color: #808000; text-decoration-color: #808000\">    Surface tag  AIRFOIL will be replaced by </span><span style=\"color: #808000; text-decoration-color: #808000; font-weight: bold\">1</span>\n",
       "</pre>\n"
      ],
      "text/plain": [
       "\u001b[1;33mWarning:\u001b[0m\u001b[33m meshio does not support tags of string type.\u001b[0m\n",
       "\u001b[33m    Surface tag  AIRFOIL will be replaced by \u001b[0m\u001b[1;33m1\u001b[0m\n"
      ]
     },
     "metadata": {},
     "output_type": "display_data"
    },
    {
     "data": {
      "text/html": [
       "<pre style=\"white-space:pre;overflow-x:auto;line-height:normal;font-family:Menlo,'DejaVu Sans Mono',consolas,'Courier New',monospace\"><span style=\"color: #808000; text-decoration-color: #808000; font-weight: bold\">Warning:</span><span style=\"color: #808000; text-decoration-color: #808000\"> meshio does not support tags of string type.</span>\n",
       "<span style=\"color: #808000; text-decoration-color: #808000\">    Surface tag  FARFIELD will be replaced by </span><span style=\"color: #808000; text-decoration-color: #808000; font-weight: bold\">2</span>\n",
       "</pre>\n"
      ],
      "text/plain": [
       "\u001b[1;33mWarning:\u001b[0m\u001b[33m meshio does not support tags of string type.\u001b[0m\n",
       "\u001b[33m    Surface tag  FARFIELD will be replaced by \u001b[0m\u001b[1;33m2\u001b[0m\n"
      ]
     },
     "metadata": {},
     "output_type": "display_data"
    },
    {
     "name": "stdout",
     "output_type": "stream",
     "text": [
      "Reading ../Data/SOBOL_DESIGNS_RANS/DESIGNS/DSN_0094/DIRECT/../config_DSN.cfg\n"
     ]
    },
    {
     "data": {
      "text/html": [
       "<pre style=\"white-space:pre;overflow-x:auto;line-height:normal;font-family:Menlo,'DejaVu Sans Mono',consolas,'Courier New',monospace\"><span style=\"color: #808000; text-decoration-color: #808000; font-weight: bold\">Warning:</span><span style=\"color: #808000; text-decoration-color: #808000\"> meshio does not support tags of string type.</span>\n",
       "<span style=\"color: #808000; text-decoration-color: #808000\">    Surface tag  AIRFOIL will be replaced by </span><span style=\"color: #808000; text-decoration-color: #808000; font-weight: bold\">1</span>\n",
       "</pre>\n"
      ],
      "text/plain": [
       "\u001b[1;33mWarning:\u001b[0m\u001b[33m meshio does not support tags of string type.\u001b[0m\n",
       "\u001b[33m    Surface tag  AIRFOIL will be replaced by \u001b[0m\u001b[1;33m1\u001b[0m\n"
      ]
     },
     "metadata": {},
     "output_type": "display_data"
    },
    {
     "data": {
      "text/html": [
       "<pre style=\"white-space:pre;overflow-x:auto;line-height:normal;font-family:Menlo,'DejaVu Sans Mono',consolas,'Courier New',monospace\"><span style=\"color: #808000; text-decoration-color: #808000; font-weight: bold\">Warning:</span><span style=\"color: #808000; text-decoration-color: #808000\"> meshio does not support tags of string type.</span>\n",
       "<span style=\"color: #808000; text-decoration-color: #808000\">    Surface tag  FARFIELD will be replaced by </span><span style=\"color: #808000; text-decoration-color: #808000; font-weight: bold\">2</span>\n",
       "</pre>\n"
      ],
      "text/plain": [
       "\u001b[1;33mWarning:\u001b[0m\u001b[33m meshio does not support tags of string type.\u001b[0m\n",
       "\u001b[33m    Surface tag  FARFIELD will be replaced by \u001b[0m\u001b[1;33m2\u001b[0m\n"
      ]
     },
     "metadata": {},
     "output_type": "display_data"
    },
    {
     "name": "stdout",
     "output_type": "stream",
     "text": [
      "Reading ../Data/SOBOL_DESIGNS_RANS/DESIGNS/DSN_0095/DIRECT/../config_DSN.cfg\n"
     ]
    },
    {
     "data": {
      "text/html": [
       "<pre style=\"white-space:pre;overflow-x:auto;line-height:normal;font-family:Menlo,'DejaVu Sans Mono',consolas,'Courier New',monospace\"><span style=\"color: #808000; text-decoration-color: #808000; font-weight: bold\">Warning:</span><span style=\"color: #808000; text-decoration-color: #808000\"> meshio does not support tags of string type.</span>\n",
       "<span style=\"color: #808000; text-decoration-color: #808000\">    Surface tag  AIRFOIL will be replaced by </span><span style=\"color: #808000; text-decoration-color: #808000; font-weight: bold\">1</span>\n",
       "</pre>\n"
      ],
      "text/plain": [
       "\u001b[1;33mWarning:\u001b[0m\u001b[33m meshio does not support tags of string type.\u001b[0m\n",
       "\u001b[33m    Surface tag  AIRFOIL will be replaced by \u001b[0m\u001b[1;33m1\u001b[0m\n"
      ]
     },
     "metadata": {},
     "output_type": "display_data"
    },
    {
     "data": {
      "text/html": [
       "<pre style=\"white-space:pre;overflow-x:auto;line-height:normal;font-family:Menlo,'DejaVu Sans Mono',consolas,'Courier New',monospace\"><span style=\"color: #808000; text-decoration-color: #808000; font-weight: bold\">Warning:</span><span style=\"color: #808000; text-decoration-color: #808000\"> meshio does not support tags of string type.</span>\n",
       "<span style=\"color: #808000; text-decoration-color: #808000\">    Surface tag  FARFIELD will be replaced by </span><span style=\"color: #808000; text-decoration-color: #808000; font-weight: bold\">2</span>\n",
       "</pre>\n"
      ],
      "text/plain": [
       "\u001b[1;33mWarning:\u001b[0m\u001b[33m meshio does not support tags of string type.\u001b[0m\n",
       "\u001b[33m    Surface tag  FARFIELD will be replaced by \u001b[0m\u001b[1;33m2\u001b[0m\n"
      ]
     },
     "metadata": {},
     "output_type": "display_data"
    },
    {
     "name": "stdout",
     "output_type": "stream",
     "text": [
      "Reading ../Data/SOBOL_DESIGNS_RANS/DESIGNS/DSN_0096/DIRECT/../config_DSN.cfg\n"
     ]
    },
    {
     "data": {
      "text/html": [
       "<pre style=\"white-space:pre;overflow-x:auto;line-height:normal;font-family:Menlo,'DejaVu Sans Mono',consolas,'Courier New',monospace\"><span style=\"color: #808000; text-decoration-color: #808000; font-weight: bold\">Warning:</span><span style=\"color: #808000; text-decoration-color: #808000\"> meshio does not support tags of string type.</span>\n",
       "<span style=\"color: #808000; text-decoration-color: #808000\">    Surface tag  AIRFOIL will be replaced by </span><span style=\"color: #808000; text-decoration-color: #808000; font-weight: bold\">1</span>\n",
       "</pre>\n"
      ],
      "text/plain": [
       "\u001b[1;33mWarning:\u001b[0m\u001b[33m meshio does not support tags of string type.\u001b[0m\n",
       "\u001b[33m    Surface tag  AIRFOIL will be replaced by \u001b[0m\u001b[1;33m1\u001b[0m\n"
      ]
     },
     "metadata": {},
     "output_type": "display_data"
    },
    {
     "data": {
      "text/html": [
       "<pre style=\"white-space:pre;overflow-x:auto;line-height:normal;font-family:Menlo,'DejaVu Sans Mono',consolas,'Courier New',monospace\"><span style=\"color: #808000; text-decoration-color: #808000; font-weight: bold\">Warning:</span><span style=\"color: #808000; text-decoration-color: #808000\"> meshio does not support tags of string type.</span>\n",
       "<span style=\"color: #808000; text-decoration-color: #808000\">    Surface tag  FARFIELD will be replaced by </span><span style=\"color: #808000; text-decoration-color: #808000; font-weight: bold\">2</span>\n",
       "</pre>\n"
      ],
      "text/plain": [
       "\u001b[1;33mWarning:\u001b[0m\u001b[33m meshio does not support tags of string type.\u001b[0m\n",
       "\u001b[33m    Surface tag  FARFIELD will be replaced by \u001b[0m\u001b[1;33m2\u001b[0m\n"
      ]
     },
     "metadata": {},
     "output_type": "display_data"
    },
    {
     "name": "stdout",
     "output_type": "stream",
     "text": [
      "Reading ../Data/SOBOL_DESIGNS_RANS/DESIGNS/DSN_0097/DIRECT/../config_DSN.cfg\n"
     ]
    },
    {
     "data": {
      "text/html": [
       "<pre style=\"white-space:pre;overflow-x:auto;line-height:normal;font-family:Menlo,'DejaVu Sans Mono',consolas,'Courier New',monospace\"><span style=\"color: #808000; text-decoration-color: #808000; font-weight: bold\">Warning:</span><span style=\"color: #808000; text-decoration-color: #808000\"> meshio does not support tags of string type.</span>\n",
       "<span style=\"color: #808000; text-decoration-color: #808000\">    Surface tag  AIRFOIL will be replaced by </span><span style=\"color: #808000; text-decoration-color: #808000; font-weight: bold\">1</span>\n",
       "</pre>\n"
      ],
      "text/plain": [
       "\u001b[1;33mWarning:\u001b[0m\u001b[33m meshio does not support tags of string type.\u001b[0m\n",
       "\u001b[33m    Surface tag  AIRFOIL will be replaced by \u001b[0m\u001b[1;33m1\u001b[0m\n"
      ]
     },
     "metadata": {},
     "output_type": "display_data"
    },
    {
     "data": {
      "text/html": [
       "<pre style=\"white-space:pre;overflow-x:auto;line-height:normal;font-family:Menlo,'DejaVu Sans Mono',consolas,'Courier New',monospace\"><span style=\"color: #808000; text-decoration-color: #808000; font-weight: bold\">Warning:</span><span style=\"color: #808000; text-decoration-color: #808000\"> meshio does not support tags of string type.</span>\n",
       "<span style=\"color: #808000; text-decoration-color: #808000\">    Surface tag  FARFIELD will be replaced by </span><span style=\"color: #808000; text-decoration-color: #808000; font-weight: bold\">2</span>\n",
       "</pre>\n"
      ],
      "text/plain": [
       "\u001b[1;33mWarning:\u001b[0m\u001b[33m meshio does not support tags of string type.\u001b[0m\n",
       "\u001b[33m    Surface tag  FARFIELD will be replaced by \u001b[0m\u001b[1;33m2\u001b[0m\n"
      ]
     },
     "metadata": {},
     "output_type": "display_data"
    },
    {
     "name": "stdout",
     "output_type": "stream",
     "text": [
      "Reading ../Data/SOBOL_DESIGNS_RANS/DESIGNS/DSN_0098/DIRECT/../config_DSN.cfg\n"
     ]
    },
    {
     "data": {
      "text/html": [
       "<pre style=\"white-space:pre;overflow-x:auto;line-height:normal;font-family:Menlo,'DejaVu Sans Mono',consolas,'Courier New',monospace\"><span style=\"color: #808000; text-decoration-color: #808000; font-weight: bold\">Warning:</span><span style=\"color: #808000; text-decoration-color: #808000\"> meshio does not support tags of string type.</span>\n",
       "<span style=\"color: #808000; text-decoration-color: #808000\">    Surface tag  AIRFOIL will be replaced by </span><span style=\"color: #808000; text-decoration-color: #808000; font-weight: bold\">1</span>\n",
       "</pre>\n"
      ],
      "text/plain": [
       "\u001b[1;33mWarning:\u001b[0m\u001b[33m meshio does not support tags of string type.\u001b[0m\n",
       "\u001b[33m    Surface tag  AIRFOIL will be replaced by \u001b[0m\u001b[1;33m1\u001b[0m\n"
      ]
     },
     "metadata": {},
     "output_type": "display_data"
    },
    {
     "data": {
      "text/html": [
       "<pre style=\"white-space:pre;overflow-x:auto;line-height:normal;font-family:Menlo,'DejaVu Sans Mono',consolas,'Courier New',monospace\"><span style=\"color: #808000; text-decoration-color: #808000; font-weight: bold\">Warning:</span><span style=\"color: #808000; text-decoration-color: #808000\"> meshio does not support tags of string type.</span>\n",
       "<span style=\"color: #808000; text-decoration-color: #808000\">    Surface tag  FARFIELD will be replaced by </span><span style=\"color: #808000; text-decoration-color: #808000; font-weight: bold\">2</span>\n",
       "</pre>\n"
      ],
      "text/plain": [
       "\u001b[1;33mWarning:\u001b[0m\u001b[33m meshio does not support tags of string type.\u001b[0m\n",
       "\u001b[33m    Surface tag  FARFIELD will be replaced by \u001b[0m\u001b[1;33m2\u001b[0m\n"
      ]
     },
     "metadata": {},
     "output_type": "display_data"
    },
    {
     "name": "stdout",
     "output_type": "stream",
     "text": [
      "Reading ../Data/SOBOL_DESIGNS_RANS/DESIGNS/DSN_0099/DIRECT/../config_DSN.cfg\n"
     ]
    },
    {
     "data": {
      "text/html": [
       "<pre style=\"white-space:pre;overflow-x:auto;line-height:normal;font-family:Menlo,'DejaVu Sans Mono',consolas,'Courier New',monospace\"><span style=\"color: #808000; text-decoration-color: #808000; font-weight: bold\">Warning:</span><span style=\"color: #808000; text-decoration-color: #808000\"> meshio does not support tags of string type.</span>\n",
       "<span style=\"color: #808000; text-decoration-color: #808000\">    Surface tag  AIRFOIL will be replaced by </span><span style=\"color: #808000; text-decoration-color: #808000; font-weight: bold\">1</span>\n",
       "</pre>\n"
      ],
      "text/plain": [
       "\u001b[1;33mWarning:\u001b[0m\u001b[33m meshio does not support tags of string type.\u001b[0m\n",
       "\u001b[33m    Surface tag  AIRFOIL will be replaced by \u001b[0m\u001b[1;33m1\u001b[0m\n"
      ]
     },
     "metadata": {},
     "output_type": "display_data"
    },
    {
     "data": {
      "text/html": [
       "<pre style=\"white-space:pre;overflow-x:auto;line-height:normal;font-family:Menlo,'DejaVu Sans Mono',consolas,'Courier New',monospace\"><span style=\"color: #808000; text-decoration-color: #808000; font-weight: bold\">Warning:</span><span style=\"color: #808000; text-decoration-color: #808000\"> meshio does not support tags of string type.</span>\n",
       "<span style=\"color: #808000; text-decoration-color: #808000\">    Surface tag  FARFIELD will be replaced by </span><span style=\"color: #808000; text-decoration-color: #808000; font-weight: bold\">2</span>\n",
       "</pre>\n"
      ],
      "text/plain": [
       "\u001b[1;33mWarning:\u001b[0m\u001b[33m meshio does not support tags of string type.\u001b[0m\n",
       "\u001b[33m    Surface tag  FARFIELD will be replaced by \u001b[0m\u001b[1;33m2\u001b[0m\n"
      ]
     },
     "metadata": {},
     "output_type": "display_data"
    },
    {
     "name": "stdout",
     "output_type": "stream",
     "text": [
      "Reading ../Data/SOBOL_DESIGNS_RANS/DESIGNS/DSN_0100/DIRECT/../config_DSN.cfg\n"
     ]
    },
    {
     "data": {
      "text/html": [
       "<pre style=\"white-space:pre;overflow-x:auto;line-height:normal;font-family:Menlo,'DejaVu Sans Mono',consolas,'Courier New',monospace\"><span style=\"color: #808000; text-decoration-color: #808000; font-weight: bold\">Warning:</span><span style=\"color: #808000; text-decoration-color: #808000\"> meshio does not support tags of string type.</span>\n",
       "<span style=\"color: #808000; text-decoration-color: #808000\">    Surface tag  AIRFOIL will be replaced by </span><span style=\"color: #808000; text-decoration-color: #808000; font-weight: bold\">1</span>\n",
       "</pre>\n"
      ],
      "text/plain": [
       "\u001b[1;33mWarning:\u001b[0m\u001b[33m meshio does not support tags of string type.\u001b[0m\n",
       "\u001b[33m    Surface tag  AIRFOIL will be replaced by \u001b[0m\u001b[1;33m1\u001b[0m\n"
      ]
     },
     "metadata": {},
     "output_type": "display_data"
    },
    {
     "data": {
      "text/html": [
       "<pre style=\"white-space:pre;overflow-x:auto;line-height:normal;font-family:Menlo,'DejaVu Sans Mono',consolas,'Courier New',monospace\"><span style=\"color: #808000; text-decoration-color: #808000; font-weight: bold\">Warning:</span><span style=\"color: #808000; text-decoration-color: #808000\"> meshio does not support tags of string type.</span>\n",
       "<span style=\"color: #808000; text-decoration-color: #808000\">    Surface tag  FARFIELD will be replaced by </span><span style=\"color: #808000; text-decoration-color: #808000; font-weight: bold\">2</span>\n",
       "</pre>\n"
      ],
      "text/plain": [
       "\u001b[1;33mWarning:\u001b[0m\u001b[33m meshio does not support tags of string type.\u001b[0m\n",
       "\u001b[33m    Surface tag  FARFIELD will be replaced by \u001b[0m\u001b[1;33m2\u001b[0m\n"
      ]
     },
     "metadata": {},
     "output_type": "display_data"
    },
    {
     "name": "stdout",
     "output_type": "stream",
     "text": [
      "Reading ../Data/SOBOL_DESIGNS_RANS/DESIGNS/DSN_0101/DIRECT/../config_DSN.cfg\n"
     ]
    },
    {
     "data": {
      "text/html": [
       "<pre style=\"white-space:pre;overflow-x:auto;line-height:normal;font-family:Menlo,'DejaVu Sans Mono',consolas,'Courier New',monospace\"><span style=\"color: #808000; text-decoration-color: #808000; font-weight: bold\">Warning:</span><span style=\"color: #808000; text-decoration-color: #808000\"> meshio does not support tags of string type.</span>\n",
       "<span style=\"color: #808000; text-decoration-color: #808000\">    Surface tag  AIRFOIL will be replaced by </span><span style=\"color: #808000; text-decoration-color: #808000; font-weight: bold\">1</span>\n",
       "</pre>\n"
      ],
      "text/plain": [
       "\u001b[1;33mWarning:\u001b[0m\u001b[33m meshio does not support tags of string type.\u001b[0m\n",
       "\u001b[33m    Surface tag  AIRFOIL will be replaced by \u001b[0m\u001b[1;33m1\u001b[0m\n"
      ]
     },
     "metadata": {},
     "output_type": "display_data"
    },
    {
     "data": {
      "text/html": [
       "<pre style=\"white-space:pre;overflow-x:auto;line-height:normal;font-family:Menlo,'DejaVu Sans Mono',consolas,'Courier New',monospace\"><span style=\"color: #808000; text-decoration-color: #808000; font-weight: bold\">Warning:</span><span style=\"color: #808000; text-decoration-color: #808000\"> meshio does not support tags of string type.</span>\n",
       "<span style=\"color: #808000; text-decoration-color: #808000\">    Surface tag  FARFIELD will be replaced by </span><span style=\"color: #808000; text-decoration-color: #808000; font-weight: bold\">2</span>\n",
       "</pre>\n"
      ],
      "text/plain": [
       "\u001b[1;33mWarning:\u001b[0m\u001b[33m meshio does not support tags of string type.\u001b[0m\n",
       "\u001b[33m    Surface tag  FARFIELD will be replaced by \u001b[0m\u001b[1;33m2\u001b[0m\n"
      ]
     },
     "metadata": {},
     "output_type": "display_data"
    },
    {
     "name": "stdout",
     "output_type": "stream",
     "text": [
      "Reading ../Data/SOBOL_DESIGNS_RANS/DESIGNS/DSN_0102/DIRECT/../config_DSN.cfg\n"
     ]
    },
    {
     "data": {
      "text/html": [
       "<pre style=\"white-space:pre;overflow-x:auto;line-height:normal;font-family:Menlo,'DejaVu Sans Mono',consolas,'Courier New',monospace\"><span style=\"color: #808000; text-decoration-color: #808000; font-weight: bold\">Warning:</span><span style=\"color: #808000; text-decoration-color: #808000\"> meshio does not support tags of string type.</span>\n",
       "<span style=\"color: #808000; text-decoration-color: #808000\">    Surface tag  AIRFOIL will be replaced by </span><span style=\"color: #808000; text-decoration-color: #808000; font-weight: bold\">1</span>\n",
       "</pre>\n"
      ],
      "text/plain": [
       "\u001b[1;33mWarning:\u001b[0m\u001b[33m meshio does not support tags of string type.\u001b[0m\n",
       "\u001b[33m    Surface tag  AIRFOIL will be replaced by \u001b[0m\u001b[1;33m1\u001b[0m\n"
      ]
     },
     "metadata": {},
     "output_type": "display_data"
    },
    {
     "data": {
      "text/html": [
       "<pre style=\"white-space:pre;overflow-x:auto;line-height:normal;font-family:Menlo,'DejaVu Sans Mono',consolas,'Courier New',monospace\"><span style=\"color: #808000; text-decoration-color: #808000; font-weight: bold\">Warning:</span><span style=\"color: #808000; text-decoration-color: #808000\"> meshio does not support tags of string type.</span>\n",
       "<span style=\"color: #808000; text-decoration-color: #808000\">    Surface tag  FARFIELD will be replaced by </span><span style=\"color: #808000; text-decoration-color: #808000; font-weight: bold\">2</span>\n",
       "</pre>\n"
      ],
      "text/plain": [
       "\u001b[1;33mWarning:\u001b[0m\u001b[33m meshio does not support tags of string type.\u001b[0m\n",
       "\u001b[33m    Surface tag  FARFIELD will be replaced by \u001b[0m\u001b[1;33m2\u001b[0m\n"
      ]
     },
     "metadata": {},
     "output_type": "display_data"
    },
    {
     "name": "stdout",
     "output_type": "stream",
     "text": [
      "Reading ../Data/SOBOL_DESIGNS_RANS/DESIGNS/DSN_0103/DIRECT/../config_DSN.cfg\n"
     ]
    },
    {
     "data": {
      "text/html": [
       "<pre style=\"white-space:pre;overflow-x:auto;line-height:normal;font-family:Menlo,'DejaVu Sans Mono',consolas,'Courier New',monospace\"><span style=\"color: #808000; text-decoration-color: #808000; font-weight: bold\">Warning:</span><span style=\"color: #808000; text-decoration-color: #808000\"> meshio does not support tags of string type.</span>\n",
       "<span style=\"color: #808000; text-decoration-color: #808000\">    Surface tag  AIRFOIL will be replaced by </span><span style=\"color: #808000; text-decoration-color: #808000; font-weight: bold\">1</span>\n",
       "</pre>\n"
      ],
      "text/plain": [
       "\u001b[1;33mWarning:\u001b[0m\u001b[33m meshio does not support tags of string type.\u001b[0m\n",
       "\u001b[33m    Surface tag  AIRFOIL will be replaced by \u001b[0m\u001b[1;33m1\u001b[0m\n"
      ]
     },
     "metadata": {},
     "output_type": "display_data"
    },
    {
     "data": {
      "text/html": [
       "<pre style=\"white-space:pre;overflow-x:auto;line-height:normal;font-family:Menlo,'DejaVu Sans Mono',consolas,'Courier New',monospace\"><span style=\"color: #808000; text-decoration-color: #808000; font-weight: bold\">Warning:</span><span style=\"color: #808000; text-decoration-color: #808000\"> meshio does not support tags of string type.</span>\n",
       "<span style=\"color: #808000; text-decoration-color: #808000\">    Surface tag  FARFIELD will be replaced by </span><span style=\"color: #808000; text-decoration-color: #808000; font-weight: bold\">2</span>\n",
       "</pre>\n"
      ],
      "text/plain": [
       "\u001b[1;33mWarning:\u001b[0m\u001b[33m meshio does not support tags of string type.\u001b[0m\n",
       "\u001b[33m    Surface tag  FARFIELD will be replaced by \u001b[0m\u001b[1;33m2\u001b[0m\n"
      ]
     },
     "metadata": {},
     "output_type": "display_data"
    },
    {
     "name": "stdout",
     "output_type": "stream",
     "text": [
      "Reading ../Data/SOBOL_DESIGNS_RANS/DESIGNS/DSN_0104/DIRECT/../config_DSN.cfg\n"
     ]
    },
    {
     "data": {
      "text/html": [
       "<pre style=\"white-space:pre;overflow-x:auto;line-height:normal;font-family:Menlo,'DejaVu Sans Mono',consolas,'Courier New',monospace\"><span style=\"color: #808000; text-decoration-color: #808000; font-weight: bold\">Warning:</span><span style=\"color: #808000; text-decoration-color: #808000\"> meshio does not support tags of string type.</span>\n",
       "<span style=\"color: #808000; text-decoration-color: #808000\">    Surface tag  AIRFOIL will be replaced by </span><span style=\"color: #808000; text-decoration-color: #808000; font-weight: bold\">1</span>\n",
       "</pre>\n"
      ],
      "text/plain": [
       "\u001b[1;33mWarning:\u001b[0m\u001b[33m meshio does not support tags of string type.\u001b[0m\n",
       "\u001b[33m    Surface tag  AIRFOIL will be replaced by \u001b[0m\u001b[1;33m1\u001b[0m\n"
      ]
     },
     "metadata": {},
     "output_type": "display_data"
    },
    {
     "data": {
      "text/html": [
       "<pre style=\"white-space:pre;overflow-x:auto;line-height:normal;font-family:Menlo,'DejaVu Sans Mono',consolas,'Courier New',monospace\"><span style=\"color: #808000; text-decoration-color: #808000; font-weight: bold\">Warning:</span><span style=\"color: #808000; text-decoration-color: #808000\"> meshio does not support tags of string type.</span>\n",
       "<span style=\"color: #808000; text-decoration-color: #808000\">    Surface tag  FARFIELD will be replaced by </span><span style=\"color: #808000; text-decoration-color: #808000; font-weight: bold\">2</span>\n",
       "</pre>\n"
      ],
      "text/plain": [
       "\u001b[1;33mWarning:\u001b[0m\u001b[33m meshio does not support tags of string type.\u001b[0m\n",
       "\u001b[33m    Surface tag  FARFIELD will be replaced by \u001b[0m\u001b[1;33m2\u001b[0m\n"
      ]
     },
     "metadata": {},
     "output_type": "display_data"
    },
    {
     "name": "stdout",
     "output_type": "stream",
     "text": [
      "Reading ../Data/SOBOL_DESIGNS_RANS/DESIGNS/DSN_0105/DIRECT/../config_DSN.cfg\n"
     ]
    },
    {
     "data": {
      "text/html": [
       "<pre style=\"white-space:pre;overflow-x:auto;line-height:normal;font-family:Menlo,'DejaVu Sans Mono',consolas,'Courier New',monospace\"><span style=\"color: #808000; text-decoration-color: #808000; font-weight: bold\">Warning:</span><span style=\"color: #808000; text-decoration-color: #808000\"> meshio does not support tags of string type.</span>\n",
       "<span style=\"color: #808000; text-decoration-color: #808000\">    Surface tag  AIRFOIL will be replaced by </span><span style=\"color: #808000; text-decoration-color: #808000; font-weight: bold\">1</span>\n",
       "</pre>\n"
      ],
      "text/plain": [
       "\u001b[1;33mWarning:\u001b[0m\u001b[33m meshio does not support tags of string type.\u001b[0m\n",
       "\u001b[33m    Surface tag  AIRFOIL will be replaced by \u001b[0m\u001b[1;33m1\u001b[0m\n"
      ]
     },
     "metadata": {},
     "output_type": "display_data"
    },
    {
     "data": {
      "text/html": [
       "<pre style=\"white-space:pre;overflow-x:auto;line-height:normal;font-family:Menlo,'DejaVu Sans Mono',consolas,'Courier New',monospace\"><span style=\"color: #808000; text-decoration-color: #808000; font-weight: bold\">Warning:</span><span style=\"color: #808000; text-decoration-color: #808000\"> meshio does not support tags of string type.</span>\n",
       "<span style=\"color: #808000; text-decoration-color: #808000\">    Surface tag  FARFIELD will be replaced by </span><span style=\"color: #808000; text-decoration-color: #808000; font-weight: bold\">2</span>\n",
       "</pre>\n"
      ],
      "text/plain": [
       "\u001b[1;33mWarning:\u001b[0m\u001b[33m meshio does not support tags of string type.\u001b[0m\n",
       "\u001b[33m    Surface tag  FARFIELD will be replaced by \u001b[0m\u001b[1;33m2\u001b[0m\n"
      ]
     },
     "metadata": {},
     "output_type": "display_data"
    },
    {
     "name": "stdout",
     "output_type": "stream",
     "text": [
      "Reading ../Data/SOBOL_DESIGNS_RANS/DESIGNS/DSN_0106/DIRECT/../config_DSN.cfg\n"
     ]
    },
    {
     "data": {
      "text/html": [
       "<pre style=\"white-space:pre;overflow-x:auto;line-height:normal;font-family:Menlo,'DejaVu Sans Mono',consolas,'Courier New',monospace\"><span style=\"color: #808000; text-decoration-color: #808000; font-weight: bold\">Warning:</span><span style=\"color: #808000; text-decoration-color: #808000\"> meshio does not support tags of string type.</span>\n",
       "<span style=\"color: #808000; text-decoration-color: #808000\">    Surface tag  AIRFOIL will be replaced by </span><span style=\"color: #808000; text-decoration-color: #808000; font-weight: bold\">1</span>\n",
       "</pre>\n"
      ],
      "text/plain": [
       "\u001b[1;33mWarning:\u001b[0m\u001b[33m meshio does not support tags of string type.\u001b[0m\n",
       "\u001b[33m    Surface tag  AIRFOIL will be replaced by \u001b[0m\u001b[1;33m1\u001b[0m\n"
      ]
     },
     "metadata": {},
     "output_type": "display_data"
    },
    {
     "data": {
      "text/html": [
       "<pre style=\"white-space:pre;overflow-x:auto;line-height:normal;font-family:Menlo,'DejaVu Sans Mono',consolas,'Courier New',monospace\"><span style=\"color: #808000; text-decoration-color: #808000; font-weight: bold\">Warning:</span><span style=\"color: #808000; text-decoration-color: #808000\"> meshio does not support tags of string type.</span>\n",
       "<span style=\"color: #808000; text-decoration-color: #808000\">    Surface tag  FARFIELD will be replaced by </span><span style=\"color: #808000; text-decoration-color: #808000; font-weight: bold\">2</span>\n",
       "</pre>\n"
      ],
      "text/plain": [
       "\u001b[1;33mWarning:\u001b[0m\u001b[33m meshio does not support tags of string type.\u001b[0m\n",
       "\u001b[33m    Surface tag  FARFIELD will be replaced by \u001b[0m\u001b[1;33m2\u001b[0m\n"
      ]
     },
     "metadata": {},
     "output_type": "display_data"
    },
    {
     "name": "stdout",
     "output_type": "stream",
     "text": [
      "Reading ../Data/SOBOL_DESIGNS_RANS/DESIGNS/DSN_0107/DIRECT/../config_DSN.cfg\n"
     ]
    },
    {
     "data": {
      "text/html": [
       "<pre style=\"white-space:pre;overflow-x:auto;line-height:normal;font-family:Menlo,'DejaVu Sans Mono',consolas,'Courier New',monospace\"><span style=\"color: #808000; text-decoration-color: #808000; font-weight: bold\">Warning:</span><span style=\"color: #808000; text-decoration-color: #808000\"> meshio does not support tags of string type.</span>\n",
       "<span style=\"color: #808000; text-decoration-color: #808000\">    Surface tag  AIRFOIL will be replaced by </span><span style=\"color: #808000; text-decoration-color: #808000; font-weight: bold\">1</span>\n",
       "</pre>\n"
      ],
      "text/plain": [
       "\u001b[1;33mWarning:\u001b[0m\u001b[33m meshio does not support tags of string type.\u001b[0m\n",
       "\u001b[33m    Surface tag  AIRFOIL will be replaced by \u001b[0m\u001b[1;33m1\u001b[0m\n"
      ]
     },
     "metadata": {},
     "output_type": "display_data"
    },
    {
     "data": {
      "text/html": [
       "<pre style=\"white-space:pre;overflow-x:auto;line-height:normal;font-family:Menlo,'DejaVu Sans Mono',consolas,'Courier New',monospace\"><span style=\"color: #808000; text-decoration-color: #808000; font-weight: bold\">Warning:</span><span style=\"color: #808000; text-decoration-color: #808000\"> meshio does not support tags of string type.</span>\n",
       "<span style=\"color: #808000; text-decoration-color: #808000\">    Surface tag  FARFIELD will be replaced by </span><span style=\"color: #808000; text-decoration-color: #808000; font-weight: bold\">2</span>\n",
       "</pre>\n"
      ],
      "text/plain": [
       "\u001b[1;33mWarning:\u001b[0m\u001b[33m meshio does not support tags of string type.\u001b[0m\n",
       "\u001b[33m    Surface tag  FARFIELD will be replaced by \u001b[0m\u001b[1;33m2\u001b[0m\n"
      ]
     },
     "metadata": {},
     "output_type": "display_data"
    },
    {
     "name": "stdout",
     "output_type": "stream",
     "text": [
      "Reading ../Data/SOBOL_DESIGNS_RANS/DESIGNS/DSN_0108/DIRECT/../config_DSN.cfg\n"
     ]
    },
    {
     "data": {
      "text/html": [
       "<pre style=\"white-space:pre;overflow-x:auto;line-height:normal;font-family:Menlo,'DejaVu Sans Mono',consolas,'Courier New',monospace\"><span style=\"color: #808000; text-decoration-color: #808000; font-weight: bold\">Warning:</span><span style=\"color: #808000; text-decoration-color: #808000\"> meshio does not support tags of string type.</span>\n",
       "<span style=\"color: #808000; text-decoration-color: #808000\">    Surface tag  AIRFOIL will be replaced by </span><span style=\"color: #808000; text-decoration-color: #808000; font-weight: bold\">1</span>\n",
       "</pre>\n"
      ],
      "text/plain": [
       "\u001b[1;33mWarning:\u001b[0m\u001b[33m meshio does not support tags of string type.\u001b[0m\n",
       "\u001b[33m    Surface tag  AIRFOIL will be replaced by \u001b[0m\u001b[1;33m1\u001b[0m\n"
      ]
     },
     "metadata": {},
     "output_type": "display_data"
    },
    {
     "data": {
      "text/html": [
       "<pre style=\"white-space:pre;overflow-x:auto;line-height:normal;font-family:Menlo,'DejaVu Sans Mono',consolas,'Courier New',monospace\"><span style=\"color: #808000; text-decoration-color: #808000; font-weight: bold\">Warning:</span><span style=\"color: #808000; text-decoration-color: #808000\"> meshio does not support tags of string type.</span>\n",
       "<span style=\"color: #808000; text-decoration-color: #808000\">    Surface tag  FARFIELD will be replaced by </span><span style=\"color: #808000; text-decoration-color: #808000; font-weight: bold\">2</span>\n",
       "</pre>\n"
      ],
      "text/plain": [
       "\u001b[1;33mWarning:\u001b[0m\u001b[33m meshio does not support tags of string type.\u001b[0m\n",
       "\u001b[33m    Surface tag  FARFIELD will be replaced by \u001b[0m\u001b[1;33m2\u001b[0m\n"
      ]
     },
     "metadata": {},
     "output_type": "display_data"
    },
    {
     "name": "stdout",
     "output_type": "stream",
     "text": [
      "Reading ../Data/SOBOL_DESIGNS_RANS/DESIGNS/DSN_0109/DIRECT/../config_DSN.cfg\n"
     ]
    },
    {
     "data": {
      "text/html": [
       "<pre style=\"white-space:pre;overflow-x:auto;line-height:normal;font-family:Menlo,'DejaVu Sans Mono',consolas,'Courier New',monospace\"><span style=\"color: #808000; text-decoration-color: #808000; font-weight: bold\">Warning:</span><span style=\"color: #808000; text-decoration-color: #808000\"> meshio does not support tags of string type.</span>\n",
       "<span style=\"color: #808000; text-decoration-color: #808000\">    Surface tag  AIRFOIL will be replaced by </span><span style=\"color: #808000; text-decoration-color: #808000; font-weight: bold\">1</span>\n",
       "</pre>\n"
      ],
      "text/plain": [
       "\u001b[1;33mWarning:\u001b[0m\u001b[33m meshio does not support tags of string type.\u001b[0m\n",
       "\u001b[33m    Surface tag  AIRFOIL will be replaced by \u001b[0m\u001b[1;33m1\u001b[0m\n"
      ]
     },
     "metadata": {},
     "output_type": "display_data"
    },
    {
     "data": {
      "text/html": [
       "<pre style=\"white-space:pre;overflow-x:auto;line-height:normal;font-family:Menlo,'DejaVu Sans Mono',consolas,'Courier New',monospace\"><span style=\"color: #808000; text-decoration-color: #808000; font-weight: bold\">Warning:</span><span style=\"color: #808000; text-decoration-color: #808000\"> meshio does not support tags of string type.</span>\n",
       "<span style=\"color: #808000; text-decoration-color: #808000\">    Surface tag  FARFIELD will be replaced by </span><span style=\"color: #808000; text-decoration-color: #808000; font-weight: bold\">2</span>\n",
       "</pre>\n"
      ],
      "text/plain": [
       "\u001b[1;33mWarning:\u001b[0m\u001b[33m meshio does not support tags of string type.\u001b[0m\n",
       "\u001b[33m    Surface tag  FARFIELD will be replaced by \u001b[0m\u001b[1;33m2\u001b[0m\n"
      ]
     },
     "metadata": {},
     "output_type": "display_data"
    },
    {
     "name": "stdout",
     "output_type": "stream",
     "text": [
      "Reading ../Data/SOBOL_DESIGNS_RANS/DESIGNS/DSN_0110/DIRECT/../config_DSN.cfg\n"
     ]
    },
    {
     "data": {
      "text/html": [
       "<pre style=\"white-space:pre;overflow-x:auto;line-height:normal;font-family:Menlo,'DejaVu Sans Mono',consolas,'Courier New',monospace\"><span style=\"color: #808000; text-decoration-color: #808000; font-weight: bold\">Warning:</span><span style=\"color: #808000; text-decoration-color: #808000\"> meshio does not support tags of string type.</span>\n",
       "<span style=\"color: #808000; text-decoration-color: #808000\">    Surface tag  AIRFOIL will be replaced by </span><span style=\"color: #808000; text-decoration-color: #808000; font-weight: bold\">1</span>\n",
       "</pre>\n"
      ],
      "text/plain": [
       "\u001b[1;33mWarning:\u001b[0m\u001b[33m meshio does not support tags of string type.\u001b[0m\n",
       "\u001b[33m    Surface tag  AIRFOIL will be replaced by \u001b[0m\u001b[1;33m1\u001b[0m\n"
      ]
     },
     "metadata": {},
     "output_type": "display_data"
    },
    {
     "data": {
      "text/html": [
       "<pre style=\"white-space:pre;overflow-x:auto;line-height:normal;font-family:Menlo,'DejaVu Sans Mono',consolas,'Courier New',monospace\"><span style=\"color: #808000; text-decoration-color: #808000; font-weight: bold\">Warning:</span><span style=\"color: #808000; text-decoration-color: #808000\"> meshio does not support tags of string type.</span>\n",
       "<span style=\"color: #808000; text-decoration-color: #808000\">    Surface tag  FARFIELD will be replaced by </span><span style=\"color: #808000; text-decoration-color: #808000; font-weight: bold\">2</span>\n",
       "</pre>\n"
      ],
      "text/plain": [
       "\u001b[1;33mWarning:\u001b[0m\u001b[33m meshio does not support tags of string type.\u001b[0m\n",
       "\u001b[33m    Surface tag  FARFIELD will be replaced by \u001b[0m\u001b[1;33m2\u001b[0m\n"
      ]
     },
     "metadata": {},
     "output_type": "display_data"
    },
    {
     "name": "stdout",
     "output_type": "stream",
     "text": [
      "Reading ../Data/SOBOL_DESIGNS_RANS/DESIGNS/DSN_0111/DIRECT/../config_DSN.cfg\n"
     ]
    },
    {
     "data": {
      "text/html": [
       "<pre style=\"white-space:pre;overflow-x:auto;line-height:normal;font-family:Menlo,'DejaVu Sans Mono',consolas,'Courier New',monospace\"><span style=\"color: #808000; text-decoration-color: #808000; font-weight: bold\">Warning:</span><span style=\"color: #808000; text-decoration-color: #808000\"> meshio does not support tags of string type.</span>\n",
       "<span style=\"color: #808000; text-decoration-color: #808000\">    Surface tag  AIRFOIL will be replaced by </span><span style=\"color: #808000; text-decoration-color: #808000; font-weight: bold\">1</span>\n",
       "</pre>\n"
      ],
      "text/plain": [
       "\u001b[1;33mWarning:\u001b[0m\u001b[33m meshio does not support tags of string type.\u001b[0m\n",
       "\u001b[33m    Surface tag  AIRFOIL will be replaced by \u001b[0m\u001b[1;33m1\u001b[0m\n"
      ]
     },
     "metadata": {},
     "output_type": "display_data"
    },
    {
     "data": {
      "text/html": [
       "<pre style=\"white-space:pre;overflow-x:auto;line-height:normal;font-family:Menlo,'DejaVu Sans Mono',consolas,'Courier New',monospace\"><span style=\"color: #808000; text-decoration-color: #808000; font-weight: bold\">Warning:</span><span style=\"color: #808000; text-decoration-color: #808000\"> meshio does not support tags of string type.</span>\n",
       "<span style=\"color: #808000; text-decoration-color: #808000\">    Surface tag  FARFIELD will be replaced by </span><span style=\"color: #808000; text-decoration-color: #808000; font-weight: bold\">2</span>\n",
       "</pre>\n"
      ],
      "text/plain": [
       "\u001b[1;33mWarning:\u001b[0m\u001b[33m meshio does not support tags of string type.\u001b[0m\n",
       "\u001b[33m    Surface tag  FARFIELD will be replaced by \u001b[0m\u001b[1;33m2\u001b[0m\n"
      ]
     },
     "metadata": {},
     "output_type": "display_data"
    },
    {
     "name": "stdout",
     "output_type": "stream",
     "text": [
      "Reading ../Data/SOBOL_DESIGNS_RANS/DESIGNS/DSN_0112/DIRECT/../config_DSN.cfg\n"
     ]
    },
    {
     "data": {
      "text/html": [
       "<pre style=\"white-space:pre;overflow-x:auto;line-height:normal;font-family:Menlo,'DejaVu Sans Mono',consolas,'Courier New',monospace\"><span style=\"color: #808000; text-decoration-color: #808000; font-weight: bold\">Warning:</span><span style=\"color: #808000; text-decoration-color: #808000\"> meshio does not support tags of string type.</span>\n",
       "<span style=\"color: #808000; text-decoration-color: #808000\">    Surface tag  AIRFOIL will be replaced by </span><span style=\"color: #808000; text-decoration-color: #808000; font-weight: bold\">1</span>\n",
       "</pre>\n"
      ],
      "text/plain": [
       "\u001b[1;33mWarning:\u001b[0m\u001b[33m meshio does not support tags of string type.\u001b[0m\n",
       "\u001b[33m    Surface tag  AIRFOIL will be replaced by \u001b[0m\u001b[1;33m1\u001b[0m\n"
      ]
     },
     "metadata": {},
     "output_type": "display_data"
    },
    {
     "data": {
      "text/html": [
       "<pre style=\"white-space:pre;overflow-x:auto;line-height:normal;font-family:Menlo,'DejaVu Sans Mono',consolas,'Courier New',monospace\"><span style=\"color: #808000; text-decoration-color: #808000; font-weight: bold\">Warning:</span><span style=\"color: #808000; text-decoration-color: #808000\"> meshio does not support tags of string type.</span>\n",
       "<span style=\"color: #808000; text-decoration-color: #808000\">    Surface tag  FARFIELD will be replaced by </span><span style=\"color: #808000; text-decoration-color: #808000; font-weight: bold\">2</span>\n",
       "</pre>\n"
      ],
      "text/plain": [
       "\u001b[1;33mWarning:\u001b[0m\u001b[33m meshio does not support tags of string type.\u001b[0m\n",
       "\u001b[33m    Surface tag  FARFIELD will be replaced by \u001b[0m\u001b[1;33m2\u001b[0m\n"
      ]
     },
     "metadata": {},
     "output_type": "display_data"
    },
    {
     "name": "stdout",
     "output_type": "stream",
     "text": [
      "Reading ../Data/SOBOL_DESIGNS_RANS/DESIGNS/DSN_0113/DIRECT/../config_DSN.cfg\n"
     ]
    },
    {
     "data": {
      "text/html": [
       "<pre style=\"white-space:pre;overflow-x:auto;line-height:normal;font-family:Menlo,'DejaVu Sans Mono',consolas,'Courier New',monospace\"><span style=\"color: #808000; text-decoration-color: #808000; font-weight: bold\">Warning:</span><span style=\"color: #808000; text-decoration-color: #808000\"> meshio does not support tags of string type.</span>\n",
       "<span style=\"color: #808000; text-decoration-color: #808000\">    Surface tag  AIRFOIL will be replaced by </span><span style=\"color: #808000; text-decoration-color: #808000; font-weight: bold\">1</span>\n",
       "</pre>\n"
      ],
      "text/plain": [
       "\u001b[1;33mWarning:\u001b[0m\u001b[33m meshio does not support tags of string type.\u001b[0m\n",
       "\u001b[33m    Surface tag  AIRFOIL will be replaced by \u001b[0m\u001b[1;33m1\u001b[0m\n"
      ]
     },
     "metadata": {},
     "output_type": "display_data"
    },
    {
     "data": {
      "text/html": [
       "<pre style=\"white-space:pre;overflow-x:auto;line-height:normal;font-family:Menlo,'DejaVu Sans Mono',consolas,'Courier New',monospace\"><span style=\"color: #808000; text-decoration-color: #808000; font-weight: bold\">Warning:</span><span style=\"color: #808000; text-decoration-color: #808000\"> meshio does not support tags of string type.</span>\n",
       "<span style=\"color: #808000; text-decoration-color: #808000\">    Surface tag  FARFIELD will be replaced by </span><span style=\"color: #808000; text-decoration-color: #808000; font-weight: bold\">2</span>\n",
       "</pre>\n"
      ],
      "text/plain": [
       "\u001b[1;33mWarning:\u001b[0m\u001b[33m meshio does not support tags of string type.\u001b[0m\n",
       "\u001b[33m    Surface tag  FARFIELD will be replaced by \u001b[0m\u001b[1;33m2\u001b[0m\n"
      ]
     },
     "metadata": {},
     "output_type": "display_data"
    },
    {
     "name": "stdout",
     "output_type": "stream",
     "text": [
      "Reading ../Data/SOBOL_DESIGNS_RANS/DESIGNS/DSN_0114/DIRECT/../config_DSN.cfg\n"
     ]
    },
    {
     "data": {
      "text/html": [
       "<pre style=\"white-space:pre;overflow-x:auto;line-height:normal;font-family:Menlo,'DejaVu Sans Mono',consolas,'Courier New',monospace\"><span style=\"color: #808000; text-decoration-color: #808000; font-weight: bold\">Warning:</span><span style=\"color: #808000; text-decoration-color: #808000\"> meshio does not support tags of string type.</span>\n",
       "<span style=\"color: #808000; text-decoration-color: #808000\">    Surface tag  AIRFOIL will be replaced by </span><span style=\"color: #808000; text-decoration-color: #808000; font-weight: bold\">1</span>\n",
       "</pre>\n"
      ],
      "text/plain": [
       "\u001b[1;33mWarning:\u001b[0m\u001b[33m meshio does not support tags of string type.\u001b[0m\n",
       "\u001b[33m    Surface tag  AIRFOIL will be replaced by \u001b[0m\u001b[1;33m1\u001b[0m\n"
      ]
     },
     "metadata": {},
     "output_type": "display_data"
    },
    {
     "data": {
      "text/html": [
       "<pre style=\"white-space:pre;overflow-x:auto;line-height:normal;font-family:Menlo,'DejaVu Sans Mono',consolas,'Courier New',monospace\"><span style=\"color: #808000; text-decoration-color: #808000; font-weight: bold\">Warning:</span><span style=\"color: #808000; text-decoration-color: #808000\"> meshio does not support tags of string type.</span>\n",
       "<span style=\"color: #808000; text-decoration-color: #808000\">    Surface tag  FARFIELD will be replaced by </span><span style=\"color: #808000; text-decoration-color: #808000; font-weight: bold\">2</span>\n",
       "</pre>\n"
      ],
      "text/plain": [
       "\u001b[1;33mWarning:\u001b[0m\u001b[33m meshio does not support tags of string type.\u001b[0m\n",
       "\u001b[33m    Surface tag  FARFIELD will be replaced by \u001b[0m\u001b[1;33m2\u001b[0m\n"
      ]
     },
     "metadata": {},
     "output_type": "display_data"
    },
    {
     "name": "stdout",
     "output_type": "stream",
     "text": [
      "Reading ../Data/SOBOL_DESIGNS_RANS/DESIGNS/DSN_0115/DIRECT/../config_DSN.cfg\n"
     ]
    },
    {
     "data": {
      "text/html": [
       "<pre style=\"white-space:pre;overflow-x:auto;line-height:normal;font-family:Menlo,'DejaVu Sans Mono',consolas,'Courier New',monospace\"><span style=\"color: #808000; text-decoration-color: #808000; font-weight: bold\">Warning:</span><span style=\"color: #808000; text-decoration-color: #808000\"> meshio does not support tags of string type.</span>\n",
       "<span style=\"color: #808000; text-decoration-color: #808000\">    Surface tag  AIRFOIL will be replaced by </span><span style=\"color: #808000; text-decoration-color: #808000; font-weight: bold\">1</span>\n",
       "</pre>\n"
      ],
      "text/plain": [
       "\u001b[1;33mWarning:\u001b[0m\u001b[33m meshio does not support tags of string type.\u001b[0m\n",
       "\u001b[33m    Surface tag  AIRFOIL will be replaced by \u001b[0m\u001b[1;33m1\u001b[0m\n"
      ]
     },
     "metadata": {},
     "output_type": "display_data"
    },
    {
     "data": {
      "text/html": [
       "<pre style=\"white-space:pre;overflow-x:auto;line-height:normal;font-family:Menlo,'DejaVu Sans Mono',consolas,'Courier New',monospace\"><span style=\"color: #808000; text-decoration-color: #808000; font-weight: bold\">Warning:</span><span style=\"color: #808000; text-decoration-color: #808000\"> meshio does not support tags of string type.</span>\n",
       "<span style=\"color: #808000; text-decoration-color: #808000\">    Surface tag  FARFIELD will be replaced by </span><span style=\"color: #808000; text-decoration-color: #808000; font-weight: bold\">2</span>\n",
       "</pre>\n"
      ],
      "text/plain": [
       "\u001b[1;33mWarning:\u001b[0m\u001b[33m meshio does not support tags of string type.\u001b[0m\n",
       "\u001b[33m    Surface tag  FARFIELD will be replaced by \u001b[0m\u001b[1;33m2\u001b[0m\n"
      ]
     },
     "metadata": {},
     "output_type": "display_data"
    },
    {
     "name": "stdout",
     "output_type": "stream",
     "text": [
      "Reading ../Data/SOBOL_DESIGNS_RANS/DESIGNS/DSN_0116/DIRECT/../config_DSN.cfg\n"
     ]
    },
    {
     "data": {
      "text/html": [
       "<pre style=\"white-space:pre;overflow-x:auto;line-height:normal;font-family:Menlo,'DejaVu Sans Mono',consolas,'Courier New',monospace\"><span style=\"color: #808000; text-decoration-color: #808000; font-weight: bold\">Warning:</span><span style=\"color: #808000; text-decoration-color: #808000\"> meshio does not support tags of string type.</span>\n",
       "<span style=\"color: #808000; text-decoration-color: #808000\">    Surface tag  AIRFOIL will be replaced by </span><span style=\"color: #808000; text-decoration-color: #808000; font-weight: bold\">1</span>\n",
       "</pre>\n"
      ],
      "text/plain": [
       "\u001b[1;33mWarning:\u001b[0m\u001b[33m meshio does not support tags of string type.\u001b[0m\n",
       "\u001b[33m    Surface tag  AIRFOIL will be replaced by \u001b[0m\u001b[1;33m1\u001b[0m\n"
      ]
     },
     "metadata": {},
     "output_type": "display_data"
    },
    {
     "data": {
      "text/html": [
       "<pre style=\"white-space:pre;overflow-x:auto;line-height:normal;font-family:Menlo,'DejaVu Sans Mono',consolas,'Courier New',monospace\"><span style=\"color: #808000; text-decoration-color: #808000; font-weight: bold\">Warning:</span><span style=\"color: #808000; text-decoration-color: #808000\"> meshio does not support tags of string type.</span>\n",
       "<span style=\"color: #808000; text-decoration-color: #808000\">    Surface tag  FARFIELD will be replaced by </span><span style=\"color: #808000; text-decoration-color: #808000; font-weight: bold\">2</span>\n",
       "</pre>\n"
      ],
      "text/plain": [
       "\u001b[1;33mWarning:\u001b[0m\u001b[33m meshio does not support tags of string type.\u001b[0m\n",
       "\u001b[33m    Surface tag  FARFIELD will be replaced by \u001b[0m\u001b[1;33m2\u001b[0m\n"
      ]
     },
     "metadata": {},
     "output_type": "display_data"
    },
    {
     "name": "stdout",
     "output_type": "stream",
     "text": [
      "Reading ../Data/SOBOL_DESIGNS_RANS/DESIGNS/DSN_0117/DIRECT/../config_DSN.cfg\n"
     ]
    },
    {
     "data": {
      "text/html": [
       "<pre style=\"white-space:pre;overflow-x:auto;line-height:normal;font-family:Menlo,'DejaVu Sans Mono',consolas,'Courier New',monospace\"><span style=\"color: #808000; text-decoration-color: #808000; font-weight: bold\">Warning:</span><span style=\"color: #808000; text-decoration-color: #808000\"> meshio does not support tags of string type.</span>\n",
       "<span style=\"color: #808000; text-decoration-color: #808000\">    Surface tag  AIRFOIL will be replaced by </span><span style=\"color: #808000; text-decoration-color: #808000; font-weight: bold\">1</span>\n",
       "</pre>\n"
      ],
      "text/plain": [
       "\u001b[1;33mWarning:\u001b[0m\u001b[33m meshio does not support tags of string type.\u001b[0m\n",
       "\u001b[33m    Surface tag  AIRFOIL will be replaced by \u001b[0m\u001b[1;33m1\u001b[0m\n"
      ]
     },
     "metadata": {},
     "output_type": "display_data"
    },
    {
     "data": {
      "text/html": [
       "<pre style=\"white-space:pre;overflow-x:auto;line-height:normal;font-family:Menlo,'DejaVu Sans Mono',consolas,'Courier New',monospace\"><span style=\"color: #808000; text-decoration-color: #808000; font-weight: bold\">Warning:</span><span style=\"color: #808000; text-decoration-color: #808000\"> meshio does not support tags of string type.</span>\n",
       "<span style=\"color: #808000; text-decoration-color: #808000\">    Surface tag  FARFIELD will be replaced by </span><span style=\"color: #808000; text-decoration-color: #808000; font-weight: bold\">2</span>\n",
       "</pre>\n"
      ],
      "text/plain": [
       "\u001b[1;33mWarning:\u001b[0m\u001b[33m meshio does not support tags of string type.\u001b[0m\n",
       "\u001b[33m    Surface tag  FARFIELD will be replaced by \u001b[0m\u001b[1;33m2\u001b[0m\n"
      ]
     },
     "metadata": {},
     "output_type": "display_data"
    },
    {
     "name": "stdout",
     "output_type": "stream",
     "text": [
      "Reading ../Data/SOBOL_DESIGNS_RANS/DESIGNS/DSN_0118/DIRECT/../config_DSN.cfg\n"
     ]
    },
    {
     "data": {
      "text/html": [
       "<pre style=\"white-space:pre;overflow-x:auto;line-height:normal;font-family:Menlo,'DejaVu Sans Mono',consolas,'Courier New',monospace\"><span style=\"color: #808000; text-decoration-color: #808000; font-weight: bold\">Warning:</span><span style=\"color: #808000; text-decoration-color: #808000\"> meshio does not support tags of string type.</span>\n",
       "<span style=\"color: #808000; text-decoration-color: #808000\">    Surface tag  AIRFOIL will be replaced by </span><span style=\"color: #808000; text-decoration-color: #808000; font-weight: bold\">1</span>\n",
       "</pre>\n"
      ],
      "text/plain": [
       "\u001b[1;33mWarning:\u001b[0m\u001b[33m meshio does not support tags of string type.\u001b[0m\n",
       "\u001b[33m    Surface tag  AIRFOIL will be replaced by \u001b[0m\u001b[1;33m1\u001b[0m\n"
      ]
     },
     "metadata": {},
     "output_type": "display_data"
    },
    {
     "data": {
      "text/html": [
       "<pre style=\"white-space:pre;overflow-x:auto;line-height:normal;font-family:Menlo,'DejaVu Sans Mono',consolas,'Courier New',monospace\"><span style=\"color: #808000; text-decoration-color: #808000; font-weight: bold\">Warning:</span><span style=\"color: #808000; text-decoration-color: #808000\"> meshio does not support tags of string type.</span>\n",
       "<span style=\"color: #808000; text-decoration-color: #808000\">    Surface tag  FARFIELD will be replaced by </span><span style=\"color: #808000; text-decoration-color: #808000; font-weight: bold\">2</span>\n",
       "</pre>\n"
      ],
      "text/plain": [
       "\u001b[1;33mWarning:\u001b[0m\u001b[33m meshio does not support tags of string type.\u001b[0m\n",
       "\u001b[33m    Surface tag  FARFIELD will be replaced by \u001b[0m\u001b[1;33m2\u001b[0m\n"
      ]
     },
     "metadata": {},
     "output_type": "display_data"
    },
    {
     "name": "stdout",
     "output_type": "stream",
     "text": [
      "Reading ../Data/SOBOL_DESIGNS_RANS/DESIGNS/DSN_0119/DIRECT/../config_DSN.cfg\n"
     ]
    },
    {
     "data": {
      "text/html": [
       "<pre style=\"white-space:pre;overflow-x:auto;line-height:normal;font-family:Menlo,'DejaVu Sans Mono',consolas,'Courier New',monospace\"><span style=\"color: #808000; text-decoration-color: #808000; font-weight: bold\">Warning:</span><span style=\"color: #808000; text-decoration-color: #808000\"> meshio does not support tags of string type.</span>\n",
       "<span style=\"color: #808000; text-decoration-color: #808000\">    Surface tag  AIRFOIL will be replaced by </span><span style=\"color: #808000; text-decoration-color: #808000; font-weight: bold\">1</span>\n",
       "</pre>\n"
      ],
      "text/plain": [
       "\u001b[1;33mWarning:\u001b[0m\u001b[33m meshio does not support tags of string type.\u001b[0m\n",
       "\u001b[33m    Surface tag  AIRFOIL will be replaced by \u001b[0m\u001b[1;33m1\u001b[0m\n"
      ]
     },
     "metadata": {},
     "output_type": "display_data"
    },
    {
     "data": {
      "text/html": [
       "<pre style=\"white-space:pre;overflow-x:auto;line-height:normal;font-family:Menlo,'DejaVu Sans Mono',consolas,'Courier New',monospace\"><span style=\"color: #808000; text-decoration-color: #808000; font-weight: bold\">Warning:</span><span style=\"color: #808000; text-decoration-color: #808000\"> meshio does not support tags of string type.</span>\n",
       "<span style=\"color: #808000; text-decoration-color: #808000\">    Surface tag  FARFIELD will be replaced by </span><span style=\"color: #808000; text-decoration-color: #808000; font-weight: bold\">2</span>\n",
       "</pre>\n"
      ],
      "text/plain": [
       "\u001b[1;33mWarning:\u001b[0m\u001b[33m meshio does not support tags of string type.\u001b[0m\n",
       "\u001b[33m    Surface tag  FARFIELD will be replaced by \u001b[0m\u001b[1;33m2\u001b[0m\n"
      ]
     },
     "metadata": {},
     "output_type": "display_data"
    },
    {
     "name": "stdout",
     "output_type": "stream",
     "text": [
      "Reading ../Data/SOBOL_DESIGNS_RANS/DESIGNS/DSN_0120/DIRECT/../config_DSN.cfg\n"
     ]
    },
    {
     "data": {
      "text/html": [
       "<pre style=\"white-space:pre;overflow-x:auto;line-height:normal;font-family:Menlo,'DejaVu Sans Mono',consolas,'Courier New',monospace\"><span style=\"color: #808000; text-decoration-color: #808000; font-weight: bold\">Warning:</span><span style=\"color: #808000; text-decoration-color: #808000\"> meshio does not support tags of string type.</span>\n",
       "<span style=\"color: #808000; text-decoration-color: #808000\">    Surface tag  AIRFOIL will be replaced by </span><span style=\"color: #808000; text-decoration-color: #808000; font-weight: bold\">1</span>\n",
       "</pre>\n"
      ],
      "text/plain": [
       "\u001b[1;33mWarning:\u001b[0m\u001b[33m meshio does not support tags of string type.\u001b[0m\n",
       "\u001b[33m    Surface tag  AIRFOIL will be replaced by \u001b[0m\u001b[1;33m1\u001b[0m\n"
      ]
     },
     "metadata": {},
     "output_type": "display_data"
    },
    {
     "data": {
      "text/html": [
       "<pre style=\"white-space:pre;overflow-x:auto;line-height:normal;font-family:Menlo,'DejaVu Sans Mono',consolas,'Courier New',monospace\"><span style=\"color: #808000; text-decoration-color: #808000; font-weight: bold\">Warning:</span><span style=\"color: #808000; text-decoration-color: #808000\"> meshio does not support tags of string type.</span>\n",
       "<span style=\"color: #808000; text-decoration-color: #808000\">    Surface tag  FARFIELD will be replaced by </span><span style=\"color: #808000; text-decoration-color: #808000; font-weight: bold\">2</span>\n",
       "</pre>\n"
      ],
      "text/plain": [
       "\u001b[1;33mWarning:\u001b[0m\u001b[33m meshio does not support tags of string type.\u001b[0m\n",
       "\u001b[33m    Surface tag  FARFIELD will be replaced by \u001b[0m\u001b[1;33m2\u001b[0m\n"
      ]
     },
     "metadata": {},
     "output_type": "display_data"
    },
    {
     "name": "stdout",
     "output_type": "stream",
     "text": [
      "Reading ../Data/SOBOL_DESIGNS_RANS/DESIGNS/DSN_0121/DIRECT/../config_DSN.cfg\n"
     ]
    },
    {
     "data": {
      "text/html": [
       "<pre style=\"white-space:pre;overflow-x:auto;line-height:normal;font-family:Menlo,'DejaVu Sans Mono',consolas,'Courier New',monospace\"><span style=\"color: #808000; text-decoration-color: #808000; font-weight: bold\">Warning:</span><span style=\"color: #808000; text-decoration-color: #808000\"> meshio does not support tags of string type.</span>\n",
       "<span style=\"color: #808000; text-decoration-color: #808000\">    Surface tag  AIRFOIL will be replaced by </span><span style=\"color: #808000; text-decoration-color: #808000; font-weight: bold\">1</span>\n",
       "</pre>\n"
      ],
      "text/plain": [
       "\u001b[1;33mWarning:\u001b[0m\u001b[33m meshio does not support tags of string type.\u001b[0m\n",
       "\u001b[33m    Surface tag  AIRFOIL will be replaced by \u001b[0m\u001b[1;33m1\u001b[0m\n"
      ]
     },
     "metadata": {},
     "output_type": "display_data"
    },
    {
     "data": {
      "text/html": [
       "<pre style=\"white-space:pre;overflow-x:auto;line-height:normal;font-family:Menlo,'DejaVu Sans Mono',consolas,'Courier New',monospace\"><span style=\"color: #808000; text-decoration-color: #808000; font-weight: bold\">Warning:</span><span style=\"color: #808000; text-decoration-color: #808000\"> meshio does not support tags of string type.</span>\n",
       "<span style=\"color: #808000; text-decoration-color: #808000\">    Surface tag  FARFIELD will be replaced by </span><span style=\"color: #808000; text-decoration-color: #808000; font-weight: bold\">2</span>\n",
       "</pre>\n"
      ],
      "text/plain": [
       "\u001b[1;33mWarning:\u001b[0m\u001b[33m meshio does not support tags of string type.\u001b[0m\n",
       "\u001b[33m    Surface tag  FARFIELD will be replaced by \u001b[0m\u001b[1;33m2\u001b[0m\n"
      ]
     },
     "metadata": {},
     "output_type": "display_data"
    },
    {
     "name": "stdout",
     "output_type": "stream",
     "text": [
      "Reading ../Data/SOBOL_DESIGNS_RANS/DESIGNS/DSN_0122/DIRECT/../config_DSN.cfg\n"
     ]
    },
    {
     "data": {
      "text/html": [
       "<pre style=\"white-space:pre;overflow-x:auto;line-height:normal;font-family:Menlo,'DejaVu Sans Mono',consolas,'Courier New',monospace\"><span style=\"color: #808000; text-decoration-color: #808000; font-weight: bold\">Warning:</span><span style=\"color: #808000; text-decoration-color: #808000\"> meshio does not support tags of string type.</span>\n",
       "<span style=\"color: #808000; text-decoration-color: #808000\">    Surface tag  AIRFOIL will be replaced by </span><span style=\"color: #808000; text-decoration-color: #808000; font-weight: bold\">1</span>\n",
       "</pre>\n"
      ],
      "text/plain": [
       "\u001b[1;33mWarning:\u001b[0m\u001b[33m meshio does not support tags of string type.\u001b[0m\n",
       "\u001b[33m    Surface tag  AIRFOIL will be replaced by \u001b[0m\u001b[1;33m1\u001b[0m\n"
      ]
     },
     "metadata": {},
     "output_type": "display_data"
    },
    {
     "data": {
      "text/html": [
       "<pre style=\"white-space:pre;overflow-x:auto;line-height:normal;font-family:Menlo,'DejaVu Sans Mono',consolas,'Courier New',monospace\"><span style=\"color: #808000; text-decoration-color: #808000; font-weight: bold\">Warning:</span><span style=\"color: #808000; text-decoration-color: #808000\"> meshio does not support tags of string type.</span>\n",
       "<span style=\"color: #808000; text-decoration-color: #808000\">    Surface tag  FARFIELD will be replaced by </span><span style=\"color: #808000; text-decoration-color: #808000; font-weight: bold\">2</span>\n",
       "</pre>\n"
      ],
      "text/plain": [
       "\u001b[1;33mWarning:\u001b[0m\u001b[33m meshio does not support tags of string type.\u001b[0m\n",
       "\u001b[33m    Surface tag  FARFIELD will be replaced by \u001b[0m\u001b[1;33m2\u001b[0m\n"
      ]
     },
     "metadata": {},
     "output_type": "display_data"
    },
    {
     "name": "stdout",
     "output_type": "stream",
     "text": [
      "Reading ../Data/SOBOL_DESIGNS_RANS/DESIGNS/DSN_0123/DIRECT/../config_DSN.cfg\n"
     ]
    },
    {
     "data": {
      "text/html": [
       "<pre style=\"white-space:pre;overflow-x:auto;line-height:normal;font-family:Menlo,'DejaVu Sans Mono',consolas,'Courier New',monospace\"><span style=\"color: #808000; text-decoration-color: #808000; font-weight: bold\">Warning:</span><span style=\"color: #808000; text-decoration-color: #808000\"> meshio does not support tags of string type.</span>\n",
       "<span style=\"color: #808000; text-decoration-color: #808000\">    Surface tag  AIRFOIL will be replaced by </span><span style=\"color: #808000; text-decoration-color: #808000; font-weight: bold\">1</span>\n",
       "</pre>\n"
      ],
      "text/plain": [
       "\u001b[1;33mWarning:\u001b[0m\u001b[33m meshio does not support tags of string type.\u001b[0m\n",
       "\u001b[33m    Surface tag  AIRFOIL will be replaced by \u001b[0m\u001b[1;33m1\u001b[0m\n"
      ]
     },
     "metadata": {},
     "output_type": "display_data"
    },
    {
     "data": {
      "text/html": [
       "<pre style=\"white-space:pre;overflow-x:auto;line-height:normal;font-family:Menlo,'DejaVu Sans Mono',consolas,'Courier New',monospace\"><span style=\"color: #808000; text-decoration-color: #808000; font-weight: bold\">Warning:</span><span style=\"color: #808000; text-decoration-color: #808000\"> meshio does not support tags of string type.</span>\n",
       "<span style=\"color: #808000; text-decoration-color: #808000\">    Surface tag  FARFIELD will be replaced by </span><span style=\"color: #808000; text-decoration-color: #808000; font-weight: bold\">2</span>\n",
       "</pre>\n"
      ],
      "text/plain": [
       "\u001b[1;33mWarning:\u001b[0m\u001b[33m meshio does not support tags of string type.\u001b[0m\n",
       "\u001b[33m    Surface tag  FARFIELD will be replaced by \u001b[0m\u001b[1;33m2\u001b[0m\n"
      ]
     },
     "metadata": {},
     "output_type": "display_data"
    },
    {
     "name": "stdout",
     "output_type": "stream",
     "text": [
      "Reading ../Data/SOBOL_DESIGNS_RANS/DESIGNS/DSN_0124/DIRECT/../config_DSN.cfg\n"
     ]
    },
    {
     "data": {
      "text/html": [
       "<pre style=\"white-space:pre;overflow-x:auto;line-height:normal;font-family:Menlo,'DejaVu Sans Mono',consolas,'Courier New',monospace\"><span style=\"color: #808000; text-decoration-color: #808000; font-weight: bold\">Warning:</span><span style=\"color: #808000; text-decoration-color: #808000\"> meshio does not support tags of string type.</span>\n",
       "<span style=\"color: #808000; text-decoration-color: #808000\">    Surface tag  AIRFOIL will be replaced by </span><span style=\"color: #808000; text-decoration-color: #808000; font-weight: bold\">1</span>\n",
       "</pre>\n"
      ],
      "text/plain": [
       "\u001b[1;33mWarning:\u001b[0m\u001b[33m meshio does not support tags of string type.\u001b[0m\n",
       "\u001b[33m    Surface tag  AIRFOIL will be replaced by \u001b[0m\u001b[1;33m1\u001b[0m\n"
      ]
     },
     "metadata": {},
     "output_type": "display_data"
    },
    {
     "data": {
      "text/html": [
       "<pre style=\"white-space:pre;overflow-x:auto;line-height:normal;font-family:Menlo,'DejaVu Sans Mono',consolas,'Courier New',monospace\"><span style=\"color: #808000; text-decoration-color: #808000; font-weight: bold\">Warning:</span><span style=\"color: #808000; text-decoration-color: #808000\"> meshio does not support tags of string type.</span>\n",
       "<span style=\"color: #808000; text-decoration-color: #808000\">    Surface tag  FARFIELD will be replaced by </span><span style=\"color: #808000; text-decoration-color: #808000; font-weight: bold\">2</span>\n",
       "</pre>\n"
      ],
      "text/plain": [
       "\u001b[1;33mWarning:\u001b[0m\u001b[33m meshio does not support tags of string type.\u001b[0m\n",
       "\u001b[33m    Surface tag  FARFIELD will be replaced by \u001b[0m\u001b[1;33m2\u001b[0m\n"
      ]
     },
     "metadata": {},
     "output_type": "display_data"
    },
    {
     "name": "stdout",
     "output_type": "stream",
     "text": [
      "Reading ../Data/SOBOL_DESIGNS_RANS/DESIGNS/DSN_0125/DIRECT/../config_DSN.cfg\n"
     ]
    },
    {
     "data": {
      "text/html": [
       "<pre style=\"white-space:pre;overflow-x:auto;line-height:normal;font-family:Menlo,'DejaVu Sans Mono',consolas,'Courier New',monospace\"><span style=\"color: #808000; text-decoration-color: #808000; font-weight: bold\">Warning:</span><span style=\"color: #808000; text-decoration-color: #808000\"> meshio does not support tags of string type.</span>\n",
       "<span style=\"color: #808000; text-decoration-color: #808000\">    Surface tag  AIRFOIL will be replaced by </span><span style=\"color: #808000; text-decoration-color: #808000; font-weight: bold\">1</span>\n",
       "</pre>\n"
      ],
      "text/plain": [
       "\u001b[1;33mWarning:\u001b[0m\u001b[33m meshio does not support tags of string type.\u001b[0m\n",
       "\u001b[33m    Surface tag  AIRFOIL will be replaced by \u001b[0m\u001b[1;33m1\u001b[0m\n"
      ]
     },
     "metadata": {},
     "output_type": "display_data"
    },
    {
     "data": {
      "text/html": [
       "<pre style=\"white-space:pre;overflow-x:auto;line-height:normal;font-family:Menlo,'DejaVu Sans Mono',consolas,'Courier New',monospace\"><span style=\"color: #808000; text-decoration-color: #808000; font-weight: bold\">Warning:</span><span style=\"color: #808000; text-decoration-color: #808000\"> meshio does not support tags of string type.</span>\n",
       "<span style=\"color: #808000; text-decoration-color: #808000\">    Surface tag  FARFIELD will be replaced by </span><span style=\"color: #808000; text-decoration-color: #808000; font-weight: bold\">2</span>\n",
       "</pre>\n"
      ],
      "text/plain": [
       "\u001b[1;33mWarning:\u001b[0m\u001b[33m meshio does not support tags of string type.\u001b[0m\n",
       "\u001b[33m    Surface tag  FARFIELD will be replaced by \u001b[0m\u001b[1;33m2\u001b[0m\n"
      ]
     },
     "metadata": {},
     "output_type": "display_data"
    },
    {
     "name": "stdout",
     "output_type": "stream",
     "text": [
      "Reading ../Data/SOBOL_DESIGNS_RANS/DESIGNS/DSN_0126/DIRECT/../config_DSN.cfg\n"
     ]
    },
    {
     "data": {
      "text/html": [
       "<pre style=\"white-space:pre;overflow-x:auto;line-height:normal;font-family:Menlo,'DejaVu Sans Mono',consolas,'Courier New',monospace\"><span style=\"color: #808000; text-decoration-color: #808000; font-weight: bold\">Warning:</span><span style=\"color: #808000; text-decoration-color: #808000\"> meshio does not support tags of string type.</span>\n",
       "<span style=\"color: #808000; text-decoration-color: #808000\">    Surface tag  AIRFOIL will be replaced by </span><span style=\"color: #808000; text-decoration-color: #808000; font-weight: bold\">1</span>\n",
       "</pre>\n"
      ],
      "text/plain": [
       "\u001b[1;33mWarning:\u001b[0m\u001b[33m meshio does not support tags of string type.\u001b[0m\n",
       "\u001b[33m    Surface tag  AIRFOIL will be replaced by \u001b[0m\u001b[1;33m1\u001b[0m\n"
      ]
     },
     "metadata": {},
     "output_type": "display_data"
    },
    {
     "data": {
      "text/html": [
       "<pre style=\"white-space:pre;overflow-x:auto;line-height:normal;font-family:Menlo,'DejaVu Sans Mono',consolas,'Courier New',monospace\"><span style=\"color: #808000; text-decoration-color: #808000; font-weight: bold\">Warning:</span><span style=\"color: #808000; text-decoration-color: #808000\"> meshio does not support tags of string type.</span>\n",
       "<span style=\"color: #808000; text-decoration-color: #808000\">    Surface tag  FARFIELD will be replaced by </span><span style=\"color: #808000; text-decoration-color: #808000; font-weight: bold\">2</span>\n",
       "</pre>\n"
      ],
      "text/plain": [
       "\u001b[1;33mWarning:\u001b[0m\u001b[33m meshio does not support tags of string type.\u001b[0m\n",
       "\u001b[33m    Surface tag  FARFIELD will be replaced by \u001b[0m\u001b[1;33m2\u001b[0m\n"
      ]
     },
     "metadata": {},
     "output_type": "display_data"
    },
    {
     "name": "stdout",
     "output_type": "stream",
     "text": [
      "Reading ../Data/SOBOL_DESIGNS_RANS/DESIGNS/DSN_0127/DIRECT/../config_DSN.cfg\n"
     ]
    },
    {
     "data": {
      "text/html": [
       "<pre style=\"white-space:pre;overflow-x:auto;line-height:normal;font-family:Menlo,'DejaVu Sans Mono',consolas,'Courier New',monospace\"><span style=\"color: #808000; text-decoration-color: #808000; font-weight: bold\">Warning:</span><span style=\"color: #808000; text-decoration-color: #808000\"> meshio does not support tags of string type.</span>\n",
       "<span style=\"color: #808000; text-decoration-color: #808000\">    Surface tag  AIRFOIL will be replaced by </span><span style=\"color: #808000; text-decoration-color: #808000; font-weight: bold\">1</span>\n",
       "</pre>\n"
      ],
      "text/plain": [
       "\u001b[1;33mWarning:\u001b[0m\u001b[33m meshio does not support tags of string type.\u001b[0m\n",
       "\u001b[33m    Surface tag  AIRFOIL will be replaced by \u001b[0m\u001b[1;33m1\u001b[0m\n"
      ]
     },
     "metadata": {},
     "output_type": "display_data"
    },
    {
     "data": {
      "text/html": [
       "<pre style=\"white-space:pre;overflow-x:auto;line-height:normal;font-family:Menlo,'DejaVu Sans Mono',consolas,'Courier New',monospace\"><span style=\"color: #808000; text-decoration-color: #808000; font-weight: bold\">Warning:</span><span style=\"color: #808000; text-decoration-color: #808000\"> meshio does not support tags of string type.</span>\n",
       "<span style=\"color: #808000; text-decoration-color: #808000\">    Surface tag  FARFIELD will be replaced by </span><span style=\"color: #808000; text-decoration-color: #808000; font-weight: bold\">2</span>\n",
       "</pre>\n"
      ],
      "text/plain": [
       "\u001b[1;33mWarning:\u001b[0m\u001b[33m meshio does not support tags of string type.\u001b[0m\n",
       "\u001b[33m    Surface tag  FARFIELD will be replaced by \u001b[0m\u001b[1;33m2\u001b[0m\n"
      ]
     },
     "metadata": {},
     "output_type": "display_data"
    },
    {
     "name": "stdout",
     "output_type": "stream",
     "text": [
      "Reading ../Data/SOBOL_DESIGNS_RANS/DESIGNS/DSN_0128/DIRECT/../config_DSN.cfg\n"
     ]
    },
    {
     "data": {
      "text/html": [
       "<pre style=\"white-space:pre;overflow-x:auto;line-height:normal;font-family:Menlo,'DejaVu Sans Mono',consolas,'Courier New',monospace\"><span style=\"color: #808000; text-decoration-color: #808000; font-weight: bold\">Warning:</span><span style=\"color: #808000; text-decoration-color: #808000\"> meshio does not support tags of string type.</span>\n",
       "<span style=\"color: #808000; text-decoration-color: #808000\">    Surface tag  AIRFOIL will be replaced by </span><span style=\"color: #808000; text-decoration-color: #808000; font-weight: bold\">1</span>\n",
       "</pre>\n"
      ],
      "text/plain": [
       "\u001b[1;33mWarning:\u001b[0m\u001b[33m meshio does not support tags of string type.\u001b[0m\n",
       "\u001b[33m    Surface tag  AIRFOIL will be replaced by \u001b[0m\u001b[1;33m1\u001b[0m\n"
      ]
     },
     "metadata": {},
     "output_type": "display_data"
    },
    {
     "data": {
      "text/html": [
       "<pre style=\"white-space:pre;overflow-x:auto;line-height:normal;font-family:Menlo,'DejaVu Sans Mono',consolas,'Courier New',monospace\"><span style=\"color: #808000; text-decoration-color: #808000; font-weight: bold\">Warning:</span><span style=\"color: #808000; text-decoration-color: #808000\"> meshio does not support tags of string type.</span>\n",
       "<span style=\"color: #808000; text-decoration-color: #808000\">    Surface tag  FARFIELD will be replaced by </span><span style=\"color: #808000; text-decoration-color: #808000; font-weight: bold\">2</span>\n",
       "</pre>\n"
      ],
      "text/plain": [
       "\u001b[1;33mWarning:\u001b[0m\u001b[33m meshio does not support tags of string type.\u001b[0m\n",
       "\u001b[33m    Surface tag  FARFIELD will be replaced by \u001b[0m\u001b[1;33m2\u001b[0m\n"
      ]
     },
     "metadata": {},
     "output_type": "display_data"
    },
    {
     "name": "stdout",
     "output_type": "stream",
     "text": [
      "Reading ../Data/SOBOL_DESIGNS_RANS/DESIGNS/DSN_0129/DIRECT/../config_DSN.cfg\n"
     ]
    },
    {
     "data": {
      "text/html": [
       "<pre style=\"white-space:pre;overflow-x:auto;line-height:normal;font-family:Menlo,'DejaVu Sans Mono',consolas,'Courier New',monospace\"><span style=\"color: #808000; text-decoration-color: #808000; font-weight: bold\">Warning:</span><span style=\"color: #808000; text-decoration-color: #808000\"> meshio does not support tags of string type.</span>\n",
       "<span style=\"color: #808000; text-decoration-color: #808000\">    Surface tag  AIRFOIL will be replaced by </span><span style=\"color: #808000; text-decoration-color: #808000; font-weight: bold\">1</span>\n",
       "</pre>\n"
      ],
      "text/plain": [
       "\u001b[1;33mWarning:\u001b[0m\u001b[33m meshio does not support tags of string type.\u001b[0m\n",
       "\u001b[33m    Surface tag  AIRFOIL will be replaced by \u001b[0m\u001b[1;33m1\u001b[0m\n"
      ]
     },
     "metadata": {},
     "output_type": "display_data"
    },
    {
     "data": {
      "text/html": [
       "<pre style=\"white-space:pre;overflow-x:auto;line-height:normal;font-family:Menlo,'DejaVu Sans Mono',consolas,'Courier New',monospace\"><span style=\"color: #808000; text-decoration-color: #808000; font-weight: bold\">Warning:</span><span style=\"color: #808000; text-decoration-color: #808000\"> meshio does not support tags of string type.</span>\n",
       "<span style=\"color: #808000; text-decoration-color: #808000\">    Surface tag  FARFIELD will be replaced by </span><span style=\"color: #808000; text-decoration-color: #808000; font-weight: bold\">2</span>\n",
       "</pre>\n"
      ],
      "text/plain": [
       "\u001b[1;33mWarning:\u001b[0m\u001b[33m meshio does not support tags of string type.\u001b[0m\n",
       "\u001b[33m    Surface tag  FARFIELD will be replaced by \u001b[0m\u001b[1;33m2\u001b[0m\n"
      ]
     },
     "metadata": {},
     "output_type": "display_data"
    },
    {
     "name": "stdout",
     "output_type": "stream",
     "text": [
      "Reading ../Data/SOBOL_DESIGNS_RANS/DESIGNS/DSN_0130/DIRECT/../config_DSN.cfg\n"
     ]
    },
    {
     "data": {
      "text/html": [
       "<pre style=\"white-space:pre;overflow-x:auto;line-height:normal;font-family:Menlo,'DejaVu Sans Mono',consolas,'Courier New',monospace\"><span style=\"color: #808000; text-decoration-color: #808000; font-weight: bold\">Warning:</span><span style=\"color: #808000; text-decoration-color: #808000\"> meshio does not support tags of string type.</span>\n",
       "<span style=\"color: #808000; text-decoration-color: #808000\">    Surface tag  AIRFOIL will be replaced by </span><span style=\"color: #808000; text-decoration-color: #808000; font-weight: bold\">1</span>\n",
       "</pre>\n"
      ],
      "text/plain": [
       "\u001b[1;33mWarning:\u001b[0m\u001b[33m meshio does not support tags of string type.\u001b[0m\n",
       "\u001b[33m    Surface tag  AIRFOIL will be replaced by \u001b[0m\u001b[1;33m1\u001b[0m\n"
      ]
     },
     "metadata": {},
     "output_type": "display_data"
    },
    {
     "data": {
      "text/html": [
       "<pre style=\"white-space:pre;overflow-x:auto;line-height:normal;font-family:Menlo,'DejaVu Sans Mono',consolas,'Courier New',monospace\"><span style=\"color: #808000; text-decoration-color: #808000; font-weight: bold\">Warning:</span><span style=\"color: #808000; text-decoration-color: #808000\"> meshio does not support tags of string type.</span>\n",
       "<span style=\"color: #808000; text-decoration-color: #808000\">    Surface tag  FARFIELD will be replaced by </span><span style=\"color: #808000; text-decoration-color: #808000; font-weight: bold\">2</span>\n",
       "</pre>\n"
      ],
      "text/plain": [
       "\u001b[1;33mWarning:\u001b[0m\u001b[33m meshio does not support tags of string type.\u001b[0m\n",
       "\u001b[33m    Surface tag  FARFIELD will be replaced by \u001b[0m\u001b[1;33m2\u001b[0m\n"
      ]
     },
     "metadata": {},
     "output_type": "display_data"
    },
    {
     "name": "stdout",
     "output_type": "stream",
     "text": [
      "Reading ../Data/SOBOL_DESIGNS_RANS/DESIGNS/DSN_0131/DIRECT/../config_DSN.cfg\n"
     ]
    },
    {
     "data": {
      "text/html": [
       "<pre style=\"white-space:pre;overflow-x:auto;line-height:normal;font-family:Menlo,'DejaVu Sans Mono',consolas,'Courier New',monospace\"><span style=\"color: #808000; text-decoration-color: #808000; font-weight: bold\">Warning:</span><span style=\"color: #808000; text-decoration-color: #808000\"> meshio does not support tags of string type.</span>\n",
       "<span style=\"color: #808000; text-decoration-color: #808000\">    Surface tag  AIRFOIL will be replaced by </span><span style=\"color: #808000; text-decoration-color: #808000; font-weight: bold\">1</span>\n",
       "</pre>\n"
      ],
      "text/plain": [
       "\u001b[1;33mWarning:\u001b[0m\u001b[33m meshio does not support tags of string type.\u001b[0m\n",
       "\u001b[33m    Surface tag  AIRFOIL will be replaced by \u001b[0m\u001b[1;33m1\u001b[0m\n"
      ]
     },
     "metadata": {},
     "output_type": "display_data"
    },
    {
     "data": {
      "text/html": [
       "<pre style=\"white-space:pre;overflow-x:auto;line-height:normal;font-family:Menlo,'DejaVu Sans Mono',consolas,'Courier New',monospace\"><span style=\"color: #808000; text-decoration-color: #808000; font-weight: bold\">Warning:</span><span style=\"color: #808000; text-decoration-color: #808000\"> meshio does not support tags of string type.</span>\n",
       "<span style=\"color: #808000; text-decoration-color: #808000\">    Surface tag  FARFIELD will be replaced by </span><span style=\"color: #808000; text-decoration-color: #808000; font-weight: bold\">2</span>\n",
       "</pre>\n"
      ],
      "text/plain": [
       "\u001b[1;33mWarning:\u001b[0m\u001b[33m meshio does not support tags of string type.\u001b[0m\n",
       "\u001b[33m    Surface tag  FARFIELD will be replaced by \u001b[0m\u001b[1;33m2\u001b[0m\n"
      ]
     },
     "metadata": {},
     "output_type": "display_data"
    },
    {
     "name": "stdout",
     "output_type": "stream",
     "text": [
      "Reading ../Data/SOBOL_DESIGNS_RANS/DESIGNS/DSN_0132/DIRECT/../config_DSN.cfg\n"
     ]
    },
    {
     "data": {
      "text/html": [
       "<pre style=\"white-space:pre;overflow-x:auto;line-height:normal;font-family:Menlo,'DejaVu Sans Mono',consolas,'Courier New',monospace\"><span style=\"color: #808000; text-decoration-color: #808000; font-weight: bold\">Warning:</span><span style=\"color: #808000; text-decoration-color: #808000\"> meshio does not support tags of string type.</span>\n",
       "<span style=\"color: #808000; text-decoration-color: #808000\">    Surface tag  AIRFOIL will be replaced by </span><span style=\"color: #808000; text-decoration-color: #808000; font-weight: bold\">1</span>\n",
       "</pre>\n"
      ],
      "text/plain": [
       "\u001b[1;33mWarning:\u001b[0m\u001b[33m meshio does not support tags of string type.\u001b[0m\n",
       "\u001b[33m    Surface tag  AIRFOIL will be replaced by \u001b[0m\u001b[1;33m1\u001b[0m\n"
      ]
     },
     "metadata": {},
     "output_type": "display_data"
    },
    {
     "data": {
      "text/html": [
       "<pre style=\"white-space:pre;overflow-x:auto;line-height:normal;font-family:Menlo,'DejaVu Sans Mono',consolas,'Courier New',monospace\"><span style=\"color: #808000; text-decoration-color: #808000; font-weight: bold\">Warning:</span><span style=\"color: #808000; text-decoration-color: #808000\"> meshio does not support tags of string type.</span>\n",
       "<span style=\"color: #808000; text-decoration-color: #808000\">    Surface tag  FARFIELD will be replaced by </span><span style=\"color: #808000; text-decoration-color: #808000; font-weight: bold\">2</span>\n",
       "</pre>\n"
      ],
      "text/plain": [
       "\u001b[1;33mWarning:\u001b[0m\u001b[33m meshio does not support tags of string type.\u001b[0m\n",
       "\u001b[33m    Surface tag  FARFIELD will be replaced by \u001b[0m\u001b[1;33m2\u001b[0m\n"
      ]
     },
     "metadata": {},
     "output_type": "display_data"
    },
    {
     "name": "stdout",
     "output_type": "stream",
     "text": [
      "Reading ../Data/SOBOL_DESIGNS_RANS/DESIGNS/DSN_0133/DIRECT/../config_DSN.cfg\n"
     ]
    },
    {
     "data": {
      "text/html": [
       "<pre style=\"white-space:pre;overflow-x:auto;line-height:normal;font-family:Menlo,'DejaVu Sans Mono',consolas,'Courier New',monospace\"><span style=\"color: #808000; text-decoration-color: #808000; font-weight: bold\">Warning:</span><span style=\"color: #808000; text-decoration-color: #808000\"> meshio does not support tags of string type.</span>\n",
       "<span style=\"color: #808000; text-decoration-color: #808000\">    Surface tag  AIRFOIL will be replaced by </span><span style=\"color: #808000; text-decoration-color: #808000; font-weight: bold\">1</span>\n",
       "</pre>\n"
      ],
      "text/plain": [
       "\u001b[1;33mWarning:\u001b[0m\u001b[33m meshio does not support tags of string type.\u001b[0m\n",
       "\u001b[33m    Surface tag  AIRFOIL will be replaced by \u001b[0m\u001b[1;33m1\u001b[0m\n"
      ]
     },
     "metadata": {},
     "output_type": "display_data"
    },
    {
     "data": {
      "text/html": [
       "<pre style=\"white-space:pre;overflow-x:auto;line-height:normal;font-family:Menlo,'DejaVu Sans Mono',consolas,'Courier New',monospace\"><span style=\"color: #808000; text-decoration-color: #808000; font-weight: bold\">Warning:</span><span style=\"color: #808000; text-decoration-color: #808000\"> meshio does not support tags of string type.</span>\n",
       "<span style=\"color: #808000; text-decoration-color: #808000\">    Surface tag  FARFIELD will be replaced by </span><span style=\"color: #808000; text-decoration-color: #808000; font-weight: bold\">2</span>\n",
       "</pre>\n"
      ],
      "text/plain": [
       "\u001b[1;33mWarning:\u001b[0m\u001b[33m meshio does not support tags of string type.\u001b[0m\n",
       "\u001b[33m    Surface tag  FARFIELD will be replaced by \u001b[0m\u001b[1;33m2\u001b[0m\n"
      ]
     },
     "metadata": {},
     "output_type": "display_data"
    },
    {
     "name": "stdout",
     "output_type": "stream",
     "text": [
      "Reading ../Data/SOBOL_DESIGNS_RANS/DESIGNS/DSN_0134/DIRECT/../config_DSN.cfg\n"
     ]
    },
    {
     "data": {
      "text/html": [
       "<pre style=\"white-space:pre;overflow-x:auto;line-height:normal;font-family:Menlo,'DejaVu Sans Mono',consolas,'Courier New',monospace\"><span style=\"color: #808000; text-decoration-color: #808000; font-weight: bold\">Warning:</span><span style=\"color: #808000; text-decoration-color: #808000\"> meshio does not support tags of string type.</span>\n",
       "<span style=\"color: #808000; text-decoration-color: #808000\">    Surface tag  AIRFOIL will be replaced by </span><span style=\"color: #808000; text-decoration-color: #808000; font-weight: bold\">1</span>\n",
       "</pre>\n"
      ],
      "text/plain": [
       "\u001b[1;33mWarning:\u001b[0m\u001b[33m meshio does not support tags of string type.\u001b[0m\n",
       "\u001b[33m    Surface tag  AIRFOIL will be replaced by \u001b[0m\u001b[1;33m1\u001b[0m\n"
      ]
     },
     "metadata": {},
     "output_type": "display_data"
    },
    {
     "data": {
      "text/html": [
       "<pre style=\"white-space:pre;overflow-x:auto;line-height:normal;font-family:Menlo,'DejaVu Sans Mono',consolas,'Courier New',monospace\"><span style=\"color: #808000; text-decoration-color: #808000; font-weight: bold\">Warning:</span><span style=\"color: #808000; text-decoration-color: #808000\"> meshio does not support tags of string type.</span>\n",
       "<span style=\"color: #808000; text-decoration-color: #808000\">    Surface tag  FARFIELD will be replaced by </span><span style=\"color: #808000; text-decoration-color: #808000; font-weight: bold\">2</span>\n",
       "</pre>\n"
      ],
      "text/plain": [
       "\u001b[1;33mWarning:\u001b[0m\u001b[33m meshio does not support tags of string type.\u001b[0m\n",
       "\u001b[33m    Surface tag  FARFIELD will be replaced by \u001b[0m\u001b[1;33m2\u001b[0m\n"
      ]
     },
     "metadata": {},
     "output_type": "display_data"
    },
    {
     "name": "stdout",
     "output_type": "stream",
     "text": [
      "Reading ../Data/SOBOL_DESIGNS_RANS/DESIGNS/DSN_0135/DIRECT/../config_DSN.cfg\n"
     ]
    },
    {
     "data": {
      "text/html": [
       "<pre style=\"white-space:pre;overflow-x:auto;line-height:normal;font-family:Menlo,'DejaVu Sans Mono',consolas,'Courier New',monospace\"><span style=\"color: #808000; text-decoration-color: #808000; font-weight: bold\">Warning:</span><span style=\"color: #808000; text-decoration-color: #808000\"> meshio does not support tags of string type.</span>\n",
       "<span style=\"color: #808000; text-decoration-color: #808000\">    Surface tag  AIRFOIL will be replaced by </span><span style=\"color: #808000; text-decoration-color: #808000; font-weight: bold\">1</span>\n",
       "</pre>\n"
      ],
      "text/plain": [
       "\u001b[1;33mWarning:\u001b[0m\u001b[33m meshio does not support tags of string type.\u001b[0m\n",
       "\u001b[33m    Surface tag  AIRFOIL will be replaced by \u001b[0m\u001b[1;33m1\u001b[0m\n"
      ]
     },
     "metadata": {},
     "output_type": "display_data"
    },
    {
     "data": {
      "text/html": [
       "<pre style=\"white-space:pre;overflow-x:auto;line-height:normal;font-family:Menlo,'DejaVu Sans Mono',consolas,'Courier New',monospace\"><span style=\"color: #808000; text-decoration-color: #808000; font-weight: bold\">Warning:</span><span style=\"color: #808000; text-decoration-color: #808000\"> meshio does not support tags of string type.</span>\n",
       "<span style=\"color: #808000; text-decoration-color: #808000\">    Surface tag  FARFIELD will be replaced by </span><span style=\"color: #808000; text-decoration-color: #808000; font-weight: bold\">2</span>\n",
       "</pre>\n"
      ],
      "text/plain": [
       "\u001b[1;33mWarning:\u001b[0m\u001b[33m meshio does not support tags of string type.\u001b[0m\n",
       "\u001b[33m    Surface tag  FARFIELD will be replaced by \u001b[0m\u001b[1;33m2\u001b[0m\n"
      ]
     },
     "metadata": {},
     "output_type": "display_data"
    },
    {
     "name": "stdout",
     "output_type": "stream",
     "text": [
      "Reading ../Data/SOBOL_DESIGNS_RANS/DESIGNS/DSN_0136/DIRECT/../config_DSN.cfg\n"
     ]
    },
    {
     "data": {
      "text/html": [
       "<pre style=\"white-space:pre;overflow-x:auto;line-height:normal;font-family:Menlo,'DejaVu Sans Mono',consolas,'Courier New',monospace\"><span style=\"color: #808000; text-decoration-color: #808000; font-weight: bold\">Warning:</span><span style=\"color: #808000; text-decoration-color: #808000\"> meshio does not support tags of string type.</span>\n",
       "<span style=\"color: #808000; text-decoration-color: #808000\">    Surface tag  AIRFOIL will be replaced by </span><span style=\"color: #808000; text-decoration-color: #808000; font-weight: bold\">1</span>\n",
       "</pre>\n"
      ],
      "text/plain": [
       "\u001b[1;33mWarning:\u001b[0m\u001b[33m meshio does not support tags of string type.\u001b[0m\n",
       "\u001b[33m    Surface tag  AIRFOIL will be replaced by \u001b[0m\u001b[1;33m1\u001b[0m\n"
      ]
     },
     "metadata": {},
     "output_type": "display_data"
    },
    {
     "data": {
      "text/html": [
       "<pre style=\"white-space:pre;overflow-x:auto;line-height:normal;font-family:Menlo,'DejaVu Sans Mono',consolas,'Courier New',monospace\"><span style=\"color: #808000; text-decoration-color: #808000; font-weight: bold\">Warning:</span><span style=\"color: #808000; text-decoration-color: #808000\"> meshio does not support tags of string type.</span>\n",
       "<span style=\"color: #808000; text-decoration-color: #808000\">    Surface tag  FARFIELD will be replaced by </span><span style=\"color: #808000; text-decoration-color: #808000; font-weight: bold\">2</span>\n",
       "</pre>\n"
      ],
      "text/plain": [
       "\u001b[1;33mWarning:\u001b[0m\u001b[33m meshio does not support tags of string type.\u001b[0m\n",
       "\u001b[33m    Surface tag  FARFIELD will be replaced by \u001b[0m\u001b[1;33m2\u001b[0m\n"
      ]
     },
     "metadata": {},
     "output_type": "display_data"
    },
    {
     "name": "stdout",
     "output_type": "stream",
     "text": [
      "Reading ../Data/SOBOL_DESIGNS_RANS/DESIGNS/DSN_0137/DIRECT/../config_DSN.cfg\n"
     ]
    },
    {
     "data": {
      "text/html": [
       "<pre style=\"white-space:pre;overflow-x:auto;line-height:normal;font-family:Menlo,'DejaVu Sans Mono',consolas,'Courier New',monospace\"><span style=\"color: #808000; text-decoration-color: #808000; font-weight: bold\">Warning:</span><span style=\"color: #808000; text-decoration-color: #808000\"> meshio does not support tags of string type.</span>\n",
       "<span style=\"color: #808000; text-decoration-color: #808000\">    Surface tag  AIRFOIL will be replaced by </span><span style=\"color: #808000; text-decoration-color: #808000; font-weight: bold\">1</span>\n",
       "</pre>\n"
      ],
      "text/plain": [
       "\u001b[1;33mWarning:\u001b[0m\u001b[33m meshio does not support tags of string type.\u001b[0m\n",
       "\u001b[33m    Surface tag  AIRFOIL will be replaced by \u001b[0m\u001b[1;33m1\u001b[0m\n"
      ]
     },
     "metadata": {},
     "output_type": "display_data"
    },
    {
     "data": {
      "text/html": [
       "<pre style=\"white-space:pre;overflow-x:auto;line-height:normal;font-family:Menlo,'DejaVu Sans Mono',consolas,'Courier New',monospace\"><span style=\"color: #808000; text-decoration-color: #808000; font-weight: bold\">Warning:</span><span style=\"color: #808000; text-decoration-color: #808000\"> meshio does not support tags of string type.</span>\n",
       "<span style=\"color: #808000; text-decoration-color: #808000\">    Surface tag  FARFIELD will be replaced by </span><span style=\"color: #808000; text-decoration-color: #808000; font-weight: bold\">2</span>\n",
       "</pre>\n"
      ],
      "text/plain": [
       "\u001b[1;33mWarning:\u001b[0m\u001b[33m meshio does not support tags of string type.\u001b[0m\n",
       "\u001b[33m    Surface tag  FARFIELD will be replaced by \u001b[0m\u001b[1;33m2\u001b[0m\n"
      ]
     },
     "metadata": {},
     "output_type": "display_data"
    },
    {
     "name": "stdout",
     "output_type": "stream",
     "text": [
      "Reading ../Data/SOBOL_DESIGNS_RANS/DESIGNS/DSN_0138/DIRECT/../config_DSN.cfg\n"
     ]
    },
    {
     "data": {
      "text/html": [
       "<pre style=\"white-space:pre;overflow-x:auto;line-height:normal;font-family:Menlo,'DejaVu Sans Mono',consolas,'Courier New',monospace\"><span style=\"color: #808000; text-decoration-color: #808000; font-weight: bold\">Warning:</span><span style=\"color: #808000; text-decoration-color: #808000\"> meshio does not support tags of string type.</span>\n",
       "<span style=\"color: #808000; text-decoration-color: #808000\">    Surface tag  AIRFOIL will be replaced by </span><span style=\"color: #808000; text-decoration-color: #808000; font-weight: bold\">1</span>\n",
       "</pre>\n"
      ],
      "text/plain": [
       "\u001b[1;33mWarning:\u001b[0m\u001b[33m meshio does not support tags of string type.\u001b[0m\n",
       "\u001b[33m    Surface tag  AIRFOIL will be replaced by \u001b[0m\u001b[1;33m1\u001b[0m\n"
      ]
     },
     "metadata": {},
     "output_type": "display_data"
    },
    {
     "data": {
      "text/html": [
       "<pre style=\"white-space:pre;overflow-x:auto;line-height:normal;font-family:Menlo,'DejaVu Sans Mono',consolas,'Courier New',monospace\"><span style=\"color: #808000; text-decoration-color: #808000; font-weight: bold\">Warning:</span><span style=\"color: #808000; text-decoration-color: #808000\"> meshio does not support tags of string type.</span>\n",
       "<span style=\"color: #808000; text-decoration-color: #808000\">    Surface tag  FARFIELD will be replaced by </span><span style=\"color: #808000; text-decoration-color: #808000; font-weight: bold\">2</span>\n",
       "</pre>\n"
      ],
      "text/plain": [
       "\u001b[1;33mWarning:\u001b[0m\u001b[33m meshio does not support tags of string type.\u001b[0m\n",
       "\u001b[33m    Surface tag  FARFIELD will be replaced by \u001b[0m\u001b[1;33m2\u001b[0m\n"
      ]
     },
     "metadata": {},
     "output_type": "display_data"
    },
    {
     "name": "stdout",
     "output_type": "stream",
     "text": [
      "Reading ../Data/SOBOL_DESIGNS_RANS/DESIGNS/DSN_0139/DIRECT/../config_DSN.cfg\n",
      "qois_mean: tensor([4.5575e-01, 3.8102e+04, 6.4968e-01, 8.9150e+01, 1.5018e+01, 1.0695e+05,\n",
      "        2.8982e+02, 1.7957e-05, 9.6940e-03, 2.4849e-02, 2.6587e-02],\n",
      "       device='cuda:0')\n",
      "qois_std: tensor([7.4623e-02, 6.8451e+03, 2.8307e-01, 4.1007e+01, 1.7074e+01, 1.7749e+04,\n",
      "        1.7391e+01, 8.5673e-07, 3.6685e-02, 9.4218e-02, 2.4277e-01],\n",
      "       device='cuda:0')\n"
     ]
    }
   ],
   "source": [
    "NO_LEVELS = 8\n",
    "NO_UPDATES = 12\n",
    "\n",
    "device = torch.device(\"cuda\" if torch.cuda.is_available() else \"cpu\")\n",
    "# device = torch.device('cpu')\n",
    "print(\"Device:\", device)\n",
    "\n",
    "dsn_ids = [i + 12 for i in range(128)]\n",
    "dataset = get_dataset(dsn_ids, NO_LEVELS, device, 0.05, 2)\n",
    "\n",
    "model = PIGNN_RANS(\n",
    "    device=device,\n",
    "    num_residual_latent_updates=NO_UPDATES,\n",
    "    num_lvls=NO_LEVELS,\n",
    "    num_nodes=0,\n",
    ").to(device)\n",
    "\n",
    "start_epoch = 0\n"
   ]
  },
  {
   "cell_type": "code",
   "execution_count": 4,
   "metadata": {},
   "outputs": [],
   "source": [
    "torch.save(dataset, \"dataset_chk.pt\")"
   ]
  },
  {
   "cell_type": "code",
   "execution_count": 5,
   "metadata": {},
   "outputs": [
    {
     "name": "stdout",
     "output_type": "stream",
     "text": [
      "Starting Training\n",
      "0 loss: 1.941195 l_data: 1.000000 loss_data: 1.818232 l_res: 0.000000 loss_res: 6491.336765 l_bc: 0.100000 loss_bc: 1.229634 val_loss: 1.814173 lr: [0.0005]\n"
     ]
    }
   ],
   "source": [
    "train_model(model, dataset, device, NO_LEVELS, NO_UPDATES, 2_001)"
   ]
  },
  {
   "cell_type": "code",
   "execution_count": null,
   "metadata": {},
   "outputs": [],
   "source": [
    "train_model(model, dataset, device, NO_LEVELS, NO_UPDATES, 10_001, start_epoch=2000)"
   ]
  },
  {
   "cell_type": "code",
   "execution_count": null,
   "metadata": {},
   "outputs": [],
   "source": [
    "model.state_dict()"
   ]
  },
  {
   "cell_type": "code",
   "execution_count": null,
   "metadata": {},
   "outputs": [],
   "source": [
    "# dataset = torch.load(\"dataset.pt\")"
   ]
  },
  {
   "cell_type": "code",
   "execution_count": null,
   "metadata": {},
   "outputs": [],
   "source": [
    "model = PIGNN_RANS(device=device, num_residual_latent_updates=NO_UPDATES, num_lvls=NO_LEVELS, num_nodes=0).to(device)\n",
    "model.load_state_dict(torch.load(\"model_checkpoint_600.pt\"))\n",
    "model.eval()"
   ]
  },
  {
   "cell_type": "code",
   "execution_count": null,
   "metadata": {},
   "outputs": [],
   "source": [
    "qoi_names = [\n",
    "        \"Density\",\n",
    "        \"Pressure\",\n",
    "        # \"Velocity_x\",\n",
    "        # \"Velocity_y\",\n",
    "        \"Mach\",\n",
    "        \"Momentum_x\",\n",
    "        \"Momentum_y\",\n",
    "        \"Energy\",\n",
    "        \"Temperature\",\n",
    "        \"Laminar_Viscosity\",\n",
    "        \"Eddy_Viscosity\",\n",
    "        \"Nu_Tilde\",\n",
    "        \"Y_Plus\",\n",
    "    ]"
   ]
  },
  {
   "cell_type": "code",
   "execution_count": null,
   "metadata": {},
   "outputs": [],
   "source": [
    "data = dataset[0].clone()\n",
    "\n",
    "# u_pred_scaled = model(data, normalized=True)\n",
    "###\n",
    "\n",
    "model.eval()\n",
    "\n",
    "print(\"val_loss:\", model.compute_validation_loss(data))\n",
    "\n",
    "qoi_i = 1\n",
    "print(qoi_names)\n",
    "print(\"Selected:\", qoi_names[qoi_i])\n",
    "\n",
    "# u_pred = model(train_data).detach()\n",
    "# u_pred_scaled = (u_pred - data.qois_mean.to(device)) / data.qois_std.to(device)\n",
    "\n",
    "u_pred_scaled = model(data, normalized=True, h_noise=0)\n",
    "u_pred_scaled = u_pred_scaled.detach().cpu()\n",
    "\n",
    "h = model.compute_graph_latents(data, h_noise=0)\n",
    "r1, r2, r3, sample_inds = model.compute_residuals(data, h, 1.0)\n",
    "r1 = r1.detach().cpu()\n",
    "r2 = r2.detach().cpu()\n",
    "r3 = r3.detach().cpu()\n",
    "\n",
    "\n",
    "data = data.cpu()\n",
    "u_out_validation_scaled = (data.u_out_validation - data.qois_mean) / data.qois_std\n",
    "u_data_scaled = (data.u_data - data.qois_mean) / data.qois_std\n",
    "# u_out_validation = qois_scaled[data.inds_validation]\n",
    "d_pred = u_pred_scaled.detach()[:,qoi_i] - u_out_validation_scaled[:,qoi_i]\n",
    "print(d_pred.min(), d_pred.max(), d_pred.mean(), d_pred.median(), d_pred.std())\n",
    "\n",
    "# inds_res_bc = data.node_new_ids[data.u_res_bc_mask[:, qoi_i].abs() > 0]\n",
    "# u_res_bc_scaled = (data.u_res_bc[inds_res_bc] - data.qois_mean) / data.qois_std\n",
    "# x_res_bc = data.x_res_bc[inds_res_bc]\n",
    "\n",
    "zooms = [250, 100, 1]\n",
    "\n",
    "fig_width = 0.7 * 10\n",
    "fig_height = 0.7 * 6\n",
    "center = [0.5, 0.0]\n",
    "data_max = [100, 100]\n",
    "data_min = [-100, -100]\n",
    "data_width = data_max[0] - data_min[0]\n",
    "data_hwidth = data_max[1] - data_min[1]\n",
    "\n",
    "# airfoil_points = mesh.points[mesh.cells[2].data[mesh.cell_data[\"su2:tag\"][2] == 1]]\n",
    "# airfoil_points.shape\n",
    "\n",
    "# airfoil_points = data.x[data.node_type_ids == 1]\n",
    "\n",
    "\n",
    "fig, axes = plt.subplots(\n",
    "    4, len(zooms), figsize=(fig_width * len(zooms), fig_height * 4)\n",
    ")\n",
    "\n",
    "# for i, lvl in enumerate(lvls):\n",
    "for j, zoom in enumerate(zooms):\n",
    "\n",
    "    xmin = center[0] - data_hwidth / zoom\n",
    "    xmax = center[0] + data_hwidth / zoom\n",
    "    ymin = center[1] - data_hwidth / zoom * fig_height / fig_width\n",
    "    ymax = center[1] + data_hwidth / zoom * fig_height / fig_width\n",
    "    \n",
    "    sc0 = axes[0,j].scatter(data.x_out[:,0], data.x_out[:,1], c=u_pred_scaled[:,qoi_i], vmin=-2, vmax=2)\n",
    "    \n",
    "    # axes[0, j].plot(airfoil_points[:, 0], airfoil_points[:, 1], linestyle=\"-\", alpha=0.2)  # type: ignore\n",
    "\n",
    "    axes[0,j].set_xlim([xmin, xmax])  # type: ignore\n",
    "    axes[0,j].set_ylim([ymin, ymax])  # type: ignore\n",
    "\n",
    "    \n",
    "    axes[1,j].scatter(data.x_out[:,0], data.x_out[:,1], c=u_out_validation_scaled[:,qoi_i], vmin=-2, vmax=2)\n",
    "    axes[1,j].scatter(data.x_data[:,0], data.x_data[:,1], c=u_data_scaled[:,qoi_i], marker=\"d\", vmin=-2, vmax=2)\n",
    "    # axes[1,j].scatter(x_res_bc[:,0], x_res_bc[:,1], c=u_res_bc_scaled[:,qoi_i], marker=\"o\", vmin=-2, vmax=2)\n",
    "\n",
    "    # axes[1, j].plot(airfoil_points[:, :, 0], airfoil_points[:, :, 1], linestyle=\"-\", alpha=0.2)  # type: ignore\n",
    "\n",
    "    axes[1,j].set_xlim([xmin, xmax])  # type: ignore\n",
    "    axes[1,j].set_ylim([ymin, ymax])  # type: ignore\n",
    "\n",
    "    # d_pred = u_pred_scaled.detach().clone().cpu()[:,0] - u_out_validation[:,0]\n",
    "    axes[2,j].scatter(data.x_out[:,0], data.x_out[:,1], c=d_pred, vmin=-2, vmax=2)\n",
    "    # print(d_pred.min(), d_pred.max(), d_pred.mean(), d_pred.median())\n",
    "\n",
    "    # axes[2, j].plot(airfoil_points[:, :, 0], airfoil_points[:, :, 1], linestyle=\"-\", alpha=0.2)  # type: ignore\n",
    "\n",
    "    axes[2,j].set_xlim([xmin, xmax])  # type: ignore\n",
    "    axes[2,j].set_ylim([ymin, ymax])  # type: ignore\n",
    "\n",
    "    # r = np.log(r1.abs() + r2.abs() + r3.abs() + 1)\n",
    "    r = np.log(r1.pow(2) + r2.pow(2) + r3.pow(2) + 1)\n",
    "    # axes[3,j].scatter(data.x_res[sample_inds,0], data.x_res[sample_inds,1], c=np.log(r1**2 + 1), marker=\"d\", s=10, alpha=0.5)\n",
    "    axes[3,j].scatter(data.x_res[sample_inds,0], data.x_res[sample_inds,1], c=r, marker=\"d\", s=10, alpha=0.5)\n",
    "\n",
    "    # axes[3, j].plot(airfoil_points[:, :, 0], airfoil_points[:, :, 1], linestyle=\"-\", alpha=0.2)  # type: ignore\n",
    "\n",
    "    axes[3,j].set_xlim([xmin, xmax])  # type: ignore\n",
    "    axes[3,j].set_ylim([ymin, ymax])  # type: ignore"
   ]
  },
  {
   "cell_type": "code",
   "execution_count": null,
   "metadata": {},
   "outputs": [],
   "source": [
    "data = dataset[0].clone()\n",
    "\n",
    "# u_pred_scaled = model(data, normalized=True)\n",
    "###\n",
    "\n",
    "model.eval()\n",
    "\n",
    "# print(\"val_loss:\", model.compute_validation_loss(data))\n",
    "\n",
    "# qoi_i = 1\n",
    "# print(qoi_names)\n",
    "# print(\"Selected:\", qoi_names[qoi_i])\n",
    "\n",
    "# u_pred = model(train_data).detach()\n",
    "# u_pred_scaled = (u_pred - data.qois_mean.to(device)) / data.qois_std.to(device)\n",
    "\n",
    "u_pred_scaled = model(data, normalized=True, h_noise=0)\n",
    "u_pred_scaled = u_pred_scaled.detach().cpu()\n",
    "\n",
    "h = model.compute_graph_latents(data, h_noise=0)\n",
    "r1, r2, r3, sample_inds = model.compute_residuals(data, h, 1.0)\n",
    "r1 = r1.detach().cpu()\n",
    "r2 = r2.detach().cpu()\n",
    "r3 = r3.detach().cpu()\n",
    "\n",
    "\n",
    "data = data.cpu()\n",
    "u_out_validation_scaled = (data.u_out_validation - data.qois_mean) / data.qois_std\n",
    "u_data_scaled = (data.u_data - data.qois_mean) / data.qois_std\n",
    "\n",
    "x_out = np.zeros((data.x_out.size(0), 3))\n",
    "x_out[:, :2] = data.x_out.numpy()\n",
    "\n",
    "mesh_prediction = pyvista.PolyData(x_out)\n",
    "mesh_prediction.point_data[\"u_pred_scaled\"] = u_pred_scaled.numpy()\n",
    "mesh_prediction.point_data[\"u_out_validation_scaled\"] = u_out_validation_scaled.numpy()\n",
    "mesh_prediction.point_data[\"u_diff_scaled\"] = u_pred_scaled.numpy() - u_out_validation_scaled.numpy()\n",
    "# mesh_prediction.point_data[\"u_pred_scaled\"] = u_pred_scaled.numpy()\n",
    "# mesh_prediction.point_data[\"u_pred_scaled\"] = u_pred_scaled.numpy()\n",
    "# mesh_prediction.point_data[\"u_pred_scaled\"] = u_pred_scaled.numpy()"
   ]
  },
  {
   "cell_type": "code",
   "execution_count": null,
   "metadata": {},
   "outputs": [],
   "source": [
    "mesh_prediction.save(\"mesh_prediction.vtk\")"
   ]
  },
  {
   "cell_type": "code",
   "execution_count": null,
   "metadata": {},
   "outputs": [],
   "source": [
    "mesh_prediction.plot()"
   ]
  },
  {
   "cell_type": "code",
   "execution_count": null,
   "metadata": {},
   "outputs": [],
   "source": [
    "x_ = np.zeros((data.x_res.size(0), 3))\n",
    "x_res[:, :2] = data.x_res.numpy()\n",
    "\n",
    "mesh_res = pyvista.PolyData(x_res)\n",
    "mesh_res.point_data[\"r1\"] = r1.numpy()\n",
    "\n"
   ]
  },
  {
   "cell_type": "code",
   "execution_count": null,
   "metadata": {},
   "outputs": [],
   "source": [
    "mesh_res.save(\"mesh_res.vtu\")"
   ]
  },
  {
   "cell_type": "code",
   "execution_count": null,
   "metadata": {},
   "outputs": [],
   "source": [
    "mesh_res.plot()"
   ]
  }
 ],
 "metadata": {
  "kernelspec": {
   "display_name": "Python 3.8.13 ('ma_gnn_test')",
   "language": "python",
   "name": "python3"
  },
  "language_info": {
   "codemirror_mode": {
    "name": "ipython",
    "version": 3
   },
   "file_extension": ".py",
   "mimetype": "text/x-python",
   "name": "python",
   "nbconvert_exporter": "python",
   "pygments_lexer": "ipython3",
   "version": "3.8.13"
  },
  "orig_nbformat": 4,
  "vscode": {
   "interpreter": {
    "hash": "35b0fafcae1d6104164c2c900b4bc0738b55a81edd50cb65c0203d783da0749a"
   }
  }
 },
 "nbformat": 4,
 "nbformat_minor": 2
}
