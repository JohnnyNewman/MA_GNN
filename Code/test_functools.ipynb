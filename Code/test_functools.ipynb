{
 "cells": [
  {
   "cell_type": "code",
   "execution_count": 2,
   "metadata": {},
   "outputs": [],
   "source": [
    "import numpy as np\n",
    "import scipy\n",
    "import scipy.optimize\n",
    "import functools"
   ]
  },
  {
   "cell_type": "code",
   "execution_count": 41,
   "metadata": {},
   "outputs": [
    {
     "data": {
      "text/plain": [
       "           constr: [array([0.]), array([0.])]\n",
       " constr_violation: 0.0\n",
       "              fun: -0.6249600882254682\n",
       "              jac: [array([[-0.60643411]]), array([[12.56634546]]), array([[1.]])]\n",
       "            maxcv: 0.0\n",
       "          message: 'Optimization terminated successfully.'\n",
       "             nfev: 79\n",
       "              nit: 10\n",
       "          success: True\n",
       "                x: array([0.50015919])"
      ]
     },
     "execution_count": 41,
     "metadata": {},
     "output_type": "execute_result"
    }
   ],
   "source": [
    "def cfd(x, a=5, b=2):\n",
    "    f = a*x**3 - b*x\n",
    "    g1 = np.exp(-x)\n",
    "    g2 = np.sin(4*np.pi * x)\n",
    "\n",
    "    return np.hstack((f, g1, g2))\n",
    "\n",
    "\n",
    "class Functions:\n",
    "\n",
    "    def __init__(self, cfd_cb, M):\n",
    "        #self.costFunction = None\n",
    "        #self.constraints = []\n",
    "        self.cfd_cb = cfd_cb\n",
    "        self.M = M\n",
    "        self.cfd_result = None\n",
    "        self.cfd_updated = False\n",
    "        self.last_x = None\n",
    "\n",
    "    def check_if_updated(self, x):\n",
    "        if self.last_x == x:\n",
    "            self.cfd_updated = True\n",
    "        else:\n",
    "            self.cfd_updated = False\n",
    "        \n",
    "        return self.cfd_updated\n",
    "    \n",
    "    def calculate(self, x):        \n",
    "        self.cfd_result = self.cfd_cb(x)\n",
    "        self.cfd_updated = True\n",
    "        self.last_x = x\n",
    "    \n",
    "    def costFunction(self, x):\n",
    "        self.check_if_updated(x)\n",
    "        if self.cfd_updated == False:\n",
    "            self.calculate(x)\n",
    "        \n",
    "        return self.cfd_result[0]\n",
    "    \n",
    "    def constraintFunction(self, x, i):\n",
    "        if i >= self.M:\n",
    "            raise IndexError    \n",
    "\n",
    "        self.check_if_updated(x)\n",
    "        if self.cfd_updated == False:\n",
    "            self.calculate(x)\n",
    "        \n",
    "        return self.cfd_result[i+1]\n",
    "\n",
    "\n",
    "\n",
    "#func = Functions(cfd, 2)\n",
    "cfd_with_params = functools.partial(cfd, a=3, b=2)\n",
    "func = Functions(cfd_with_params, 2)\n",
    "\n",
    "#cfd()\n",
    "#cfd\n",
    "\n",
    "xbounds = [[0, 1]]\n",
    "gbounds = [[-1, 1], [0, 0.75]]\n",
    "\n",
    "# f = lambda x: 5*x**2\n",
    "# g1 = lambda x: np.exp(-x)\n",
    "\n",
    "#func.costFunction = f\n",
    "#func.constraints.append(g1)\n",
    "#g_list = [g1, g2]\n",
    "nlc_list = []\n",
    "\n",
    "for i in range(func.M):\n",
    "    nlc_list.append(\n",
    "        scipy.optimize.NonlinearConstraint(\n",
    "            functools.partial(func.constraintFunction, i=i), gbounds[i][0], gbounds[i][1]\n",
    "        )\n",
    "    )\n",
    "\n",
    "res = scipy.optimize.differential_evolution(func.costFunction, constraints=nlc_list, bounds=xbounds)\n",
    "res\n"
   ]
  },
  {
   "cell_type": "code",
   "execution_count": 19,
   "metadata": {},
   "outputs": [
    {
     "data": {
      "text/plain": [
       "array([-0.09690399,  0.95242731,  0.57491772])"
      ]
     },
     "execution_count": 19,
     "metadata": {},
     "output_type": "execute_result"
    }
   ],
   "source": [
    "cfd(res.x)"
   ]
  },
  {
   "cell_type": "code",
   "execution_count": 40,
   "metadata": {},
   "outputs": [
    {
     "data": {
      "text/plain": [
       "(None, array([-0.42171245,  0.77891988,  0.0019215 ]))"
      ]
     },
     "execution_count": 40,
     "metadata": {},
     "output_type": "execute_result"
    }
   ],
   "source": [
    "func.last_x, func.cfd_result"
   ]
  },
  {
   "cell_type": "code",
   "execution_count": 38,
   "metadata": {},
   "outputs": [
    {
     "data": {
      "text/plain": [
       "<matplotlib.legend.Legend at 0x2447d575670>"
      ]
     },
     "execution_count": 38,
     "metadata": {},
     "output_type": "execute_result"
    },
    {
     "data": {
      "image/png": "[encoded data removed]",
      "text/plain": [
       "<Figure size 432x288 with 1 Axes>"
      ]
     },
     "metadata": {
      "needs_background": "light"
     },
     "output_type": "display_data"
    }
   ],
   "source": [
    "import matplotlib.pyplot as plt\n",
    "\n",
    "x = np.linspace(xbounds[0][0], xbounds[0][1], 100)\n",
    "y = cfd(x)\n",
    "y = y.reshape((3, 100))\n",
    "\n",
    "plt.plot(x, y[0], label=\"f\")\n",
    "plt.plot(x, y[1], label=\"g1\")\n",
    "plt.fill_between(x, gbounds[0][0], gbounds[0][1], alpha=0.2)\n",
    "plt.plot(x, y[2], label=\"g2\")\n",
    "plt.fill_between(x, gbounds[1][0], gbounds[1][1], alpha=0.2)\n",
    "plt.plot([res.x], [cfd(res.x)[0]], \"o\")\n",
    "plt.legend()"
   ]
  },
  {
   "cell_type": "code",
   "execution_count": 21,
   "metadata": {},
   "outputs": [
    {
     "data": {
      "text/plain": [
       "(300,)"
      ]
     },
     "execution_count": 21,
     "metadata": {},
     "output_type": "execute_result"
    }
   ],
   "source": [
    "y.shape"
   ]
  },
  {
   "cell_type": "code",
   "execution_count": null,
   "metadata": {},
   "outputs": [],
   "source": []
  }
 ],
 "metadata": {
  "interpreter": {
   "hash": "65e7f54a0a2b2236af6bfc633e61fb902e27b1563f453e91f6ea096ea70b0ef9"
  },
  "kernelspec": {
   "display_name": "Python 3.8.12 ('MA_GNN')",
   "language": "python",
   "name": "python3"
  },
  "language_info": {
   "codemirror_mode": {
    "name": "ipython",
    "version": 3
   },
   "file_extension": ".py",
   "mimetype": "text/x-python",
   "name": "python",
   "nbconvert_exporter": "python",
   "pygments_lexer": "ipython3",
   "version": "3.8.12"
  },
  "orig_nbformat": 4
 },
 "nbformat": 4,
 "nbformat_minor": 2
}
