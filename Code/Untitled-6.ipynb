{
 "cells": [
  {
   "cell_type": "code",
   "execution_count": null,
   "metadata": {},
   "outputs": [],
   "source": [
    "from PIGNN_Model_v1 import *\n",
    "from prepare_data import *"
   ]
  }
 ],
 "metadata": {
  "kernelspec": {
   "display_name": "Python 3.8.13 ('ma_gnn_test')",
   "language": "python",
   "name": "python3"
  },
  "language_info": {
   "name": "python",
   "version": "3.8.13"
  },
  "orig_nbformat": 4,
  "vscode": {
   "interpreter": {
    "hash": "35b0fafcae1d6104164c2c900b4bc0738b55a81edd50cb65c0203d783da0749a"
   }
  }
 },
 "nbformat": 4,
 "nbformat_minor": 2
}
