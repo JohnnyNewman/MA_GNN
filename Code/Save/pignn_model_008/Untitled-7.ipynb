{
 "cells": [
  {
   "cell_type": "code",
   "execution_count": 1,
   "metadata": {},
   "outputs": [],
   "source": [
    "%load_ext autoreload\n",
    "%autoreload 2"
   ]
  },
  {
   "cell_type": "code",
   "execution_count": 2,
   "metadata": {},
   "outputs": [],
   "source": [
    "from PIGNN_Model_v2 import *\n",
    "from prepare_data_v2 import *"
   ]
  },
  {
   "cell_type": "code",
   "execution_count": 3,
   "metadata": {},
   "outputs": [],
   "source": [
    "plt.style.use('ggplot')"
   ]
  },
  {
   "cell_type": "code",
   "execution_count": 4,
   "metadata": {},
   "outputs": [],
   "source": [
    "NO_LEVELS = 8"
   ]
  },
  {
   "cell_type": "code",
   "execution_count": null,
   "metadata": {},
   "outputs": [],
   "source": []
  },
  {
   "cell_type": "code",
   "execution_count": 5,
   "metadata": {},
   "outputs": [
    {
     "data": {
      "text/html": [
       "<pre style=\"white-space:pre;overflow-x:auto;line-height:normal;font-family:Menlo,'DejaVu Sans Mono',consolas,'Courier New',monospace\"><span style=\"color: #808000; text-decoration-color: #808000; font-weight: bold\">Warning:</span><span style=\"color: #808000; text-decoration-color: #808000\"> meshio does not support tags of string type.</span>\n",
       "<span style=\"color: #808000; text-decoration-color: #808000\">    Surface tag  AIRFOIL will be replaced by </span><span style=\"color: #808000; text-decoration-color: #808000; font-weight: bold\">1</span>\n",
       "</pre>\n"
      ],
      "text/plain": [
       "\u001b[1;33mWarning:\u001b[0m\u001b[33m meshio does not support tags of string type.\u001b[0m\n",
       "\u001b[33m    Surface tag  AIRFOIL will be replaced by \u001b[0m\u001b[1;33m1\u001b[0m\n"
      ]
     },
     "metadata": {},
     "output_type": "display_data"
    },
    {
     "data": {
      "text/html": [
       "<pre style=\"white-space:pre;overflow-x:auto;line-height:normal;font-family:Menlo,'DejaVu Sans Mono',consolas,'Courier New',monospace\"><span style=\"color: #808000; text-decoration-color: #808000; font-weight: bold\">Warning:</span><span style=\"color: #808000; text-decoration-color: #808000\"> meshio does not support tags of string type.</span>\n",
       "<span style=\"color: #808000; text-decoration-color: #808000\">    Surface tag  FARFIELD will be replaced by </span><span style=\"color: #808000; text-decoration-color: #808000; font-weight: bold\">2</span>\n",
       "</pre>\n"
      ],
      "text/plain": [
       "\u001b[1;33mWarning:\u001b[0m\u001b[33m meshio does not support tags of string type.\u001b[0m\n",
       "\u001b[33m    Surface tag  FARFIELD will be replaced by \u001b[0m\u001b[1;33m2\u001b[0m\n"
      ]
     },
     "metadata": {},
     "output_type": "display_data"
    }
   ],
   "source": [
    "data_dir = \"../Data/SOBOL_DESIGNS_RANS/DESIGNS/DSN_0013/DIRECT\"\n",
    "mesh_filename = \"mesh_RAE2822_turb_deform.su2\"\n",
    "sim_file_name = \"flow.vtu\"\n",
    "\n",
    "mesh, _ = load_mesh(data_dir, mesh_filename)"
   ]
  },
  {
   "cell_type": "code",
   "execution_count": 6,
   "metadata": {},
   "outputs": [
    {
     "name": "stdout",
     "output_type": "stream",
     "text": [
      "cuda\n"
     ]
    }
   ],
   "source": [
    "device = torch.device('cuda' if torch.cuda.is_available() else 'cpu')\n",
    "# device = torch.device('cpu')\n",
    "print(device)"
   ]
  },
  {
   "cell_type": "code",
   "execution_count": 7,
   "metadata": {},
   "outputs": [
    {
     "name": "stdout",
     "output_type": "stream",
     "text": [
      "Reading ../Data/SOBOL_DESIGNS_RANS/DESIGNS/DSN_0013/config_DSN.cfg\n"
     ]
    }
   ],
   "source": [
    "config = process_config(\"../Data/SOBOL_DESIGNS_RANS/DESIGNS/DSN_0013\", \"config_DSN.cfg\")"
   ]
  },
  {
   "cell_type": "code",
   "execution_count": 8,
   "metadata": {},
   "outputs": [
    {
     "data": {
      "text/plain": [
       "{'SOLVER': 'RANS',\n",
       " 'KIND_TURB_MODEL': 'SA',\n",
       " 'MATH_PROBLEM': 'DIRECT',\n",
       " 'RESTART_SOL': 'YES',\n",
       " 'MACH_NUMBER': '0.7045042',\n",
       " 'AOA': '5.9733586',\n",
       " 'FREESTREAM_TEMPERATURE': '288.15',\n",
       " 'REYNOLDS_NUMBER': '6.5E6',\n",
       " 'REYNOLDS_LENGTH': '1.0',\n",
       " 'FIXED_CL_MODE': 'NO',\n",
       " 'TARGET_CL': '0.724',\n",
       " 'DCL_DALPHA': '0.2',\n",
       " 'UPDATE_AOA_ITER_LIMIT': '100',\n",
       " 'ITER_DCL_DALPHA': '500',\n",
       " 'EVAL_DOF_DCX': 'NO',\n",
       " 'REF_ORIGIN_MOMENT_X': '0.25',\n",
       " 'REF_ORIGIN_MOMENT_Y': '0.00',\n",
       " 'REF_ORIGIN_MOMENT_Z': '0.00',\n",
       " 'REF_LENGTH': '1.0',\n",
       " 'REF_AREA': '1.0',\n",
       " 'MARKER_HEATFLUX': '( AIRFOIL, 0.0 )',\n",
       " 'MARKER_FAR': '( FARFIELD )',\n",
       " 'MARKER_PLOTTING': '( AIRFOIL )',\n",
       " 'MARKER_MONITORING': '( AIRFOIL )',\n",
       " 'NUM_METHOD_GRAD': 'WEIGHTED_LEAST_SQUARES',\n",
       " 'CFL_NUMBER': '10.0',\n",
       " 'ITER': '10000',\n",
       " 'OBJECTIVE_FUNCTION': 'DRAG',\n",
       " 'MUSCL_FLOW': 'YES',\n",
       " 'SLOPE_LIMITER_FLOW': 'VENKATAKRISHNAN',\n",
       " 'MUSCL_TURB': 'NO',\n",
       " 'SLOPE_LIMITER_TURB': 'VENKATAKRISHNAN',\n",
       " 'MUSCL_ADJFLOW': 'YES',\n",
       " 'SLOPE_LIMITER_ADJFLOW': 'VENKATAKRISHNAN',\n",
       " 'MUSCL_ADJTURB': 'NO',\n",
       " 'SLOPE_LIMITER_ADJTURB': 'VENKATAKRISHNAN',\n",
       " 'VENKAT_LIMITER_COEFF': '0.05',\n",
       " 'ADJ_SHARP_LIMITER_COEFF': '3.0',\n",
       " 'LIMITER_ITER': '999999',\n",
       " 'LAX_SENSOR_COEFF': '0.15',\n",
       " 'JST_SENSOR_COEFF': '( 0.5, 0.02 )',\n",
       " 'ADJ_LAX_SENSOR_COEFF': '0.15',\n",
       " 'ADJ_JST_SENSOR_COEFF': '( 0.5, 0.02 )',\n",
       " 'CONV_NUM_METHOD_FLOW': 'JST',\n",
       " 'ENTROPY_FIX_COEFF': '0.001',\n",
       " 'TIME_DISCRE_FLOW': 'EULER_IMPLICIT',\n",
       " 'CONV_NUM_METHOD_TURB': 'SCALAR_UPWIND',\n",
       " 'TIME_DISCRE_TURB': 'EULER_IMPLICIT',\n",
       " 'CFL_REDUCTION_TURB': '1.0',\n",
       " 'CONV_NUM_METHOD_ADJFLOW': 'JST',\n",
       " 'TIME_DISCRE_ADJFLOW': 'EULER_IMPLICIT',\n",
       " 'RELAXATION_FACTOR_ADJOINT': '1.0',\n",
       " 'CFL_REDUCTION_ADJFLOW': '0.8',\n",
       " 'LIMIT_ADJFLOW': '1E6',\n",
       " 'GEO_MARKER': '( AIRFOIL )',\n",
       " 'GEO_DESCRIPTION': 'AIRFOIL',\n",
       " 'GEO_MODE': 'FUNCTION',\n",
       " 'CONV_CRITERIA': 'RESIDUAL',\n",
       " 'CONV_RESIDUAL_MINVAL': '-7',\n",
       " 'CONV_STARTITER': '10',\n",
       " 'CONV_CAUCHY_ELEMS': '100',\n",
       " 'CONV_CAUCHY_EPS': '1E-6',\n",
       " 'MESH_FILENAME': 'mesh_RAE2822_turb.su2',\n",
       " 'MESH_FORMAT': 'SU2',\n",
       " 'MESH_OUT_FILENAME': 'mesh_out.su2',\n",
       " 'SOLUTION_FILENAME': 'solution_flow.dat',\n",
       " 'SOLUTION_ADJ_FILENAME': 'solution_adj.dat',\n",
       " 'TABULAR_FORMAT': 'CSV',\n",
       " 'CONV_FILENAME': 'history',\n",
       " 'RESTART_FILENAME': 'restart_flow.dat',\n",
       " 'RESTART_ADJ_FILENAME': 'restart_adj.dat',\n",
       " 'VOLUME_FILENAME': 'flow',\n",
       " 'VOLUME_ADJ_FILENAME': 'adjoint',\n",
       " 'GRAD_OBJFUNC_FILENAME': 'of_grad.dat',\n",
       " 'SURFACE_FILENAME': 'surface_flow',\n",
       " 'SURFACE_ADJ_FILENAME': 'surface_adjoint',\n",
       " 'OUTPUT_WRT_FREQ': '10000',\n",
       " 'SCREEN_OUTPUT': '(INNER_ITER, RMS_DENSITY, RMS_NU_TILDE, LIFT, DRAG)',\n",
       " 'OUTPUT_FILES': '(RESTART, PARAVIEW, SURFACE_PARAVIEW, SURFACE_CSV)',\n",
       " 'DV_KIND': 'HICKS_HENNE',\n",
       " 'DV_MARKER': '( ( AIRFOIL ) )',\n",
       " 'DV_PARAM': '( 1.0, 0.5)',\n",
       " 'DV_VALUE': '0',\n",
       " 'OPT_OBJECTIVE': 'DRAG * 1.0',\n",
       " 'OPT_GRADIENT_FACTOR': '1E-6',\n",
       " 'OPT_RELAX_FACTOR': '1E2',\n",
       " 'OPT_ITERATIONS': '100',\n",
       " 'OPT_ACCURACY': '1E-10',\n",
       " 'OPT_LINE_SEARCH_BOUND': '1E6',\n",
       " 'OPT_BOUND_UPPER': '1E10',\n",
       " 'OPT_BOUND_LOWER': '-1E10',\n",
       " 'DEFINITION_DV': '( 30 , 1.0 | AIRFOIL  | 0.0 , 0.05  ); ( 30 , 1.0 | AIRFOIL  | 0.0 , 0.1  ); ( 30 , 1.0 | AIRFOIL  | 0.0 , 0.15  ); ( 30 , 1.0 | AIRFOIL  | 0.0 , 0.2  ); ( 30 , 1.0 | AIRFOIL  | 0.0 , 0.25  ); ( 30 , 1.0 | AIRFOIL  | 0.0 , 0.3  ); ( 30 , 1.0 | AIRFOIL  | 0.0 , 0.35  ); ( 30 , 1.0 | AIRFOIL  | 0.0 , 0.4  ); ( 30 , 1.0 | AIRFOIL  | 0.0 , 0.45  ); ( 30 , 1.0 | AIRFOIL  | 0.0 , 0.5  ); ( 30 , 1.0 | AIRFOIL  | 0.0 , 0.55  ); ( 30 , 1.0 | AIRFOIL  | 0.0 , 0.6  ); ( 30 , 1.0 | AIRFOIL  | 0.0 , 0.65  ); ( 30 , 1.0 | AIRFOIL  | 0.0 , 0.7  ); ( 30 , 1.0 | AIRFOIL  | 0.0 , 0.75  ); ( 30 , 1.0 | AIRFOIL  | 0.0 , 0.8  ); ( 30 , 1.0 | AIRFOIL  | 0.0 , 0.85  ); ( 30 , 1.0 | AIRFOIL  | 0.0 , 0.9  ); ( 30 , 1.0 | AIRFOIL  | 0.0 , 0.95  ); ( 30 , 1.0 | AIRFOIL  | 1.0 , 0.05  ); ( 30 , 1.0 | AIRFOIL  | 1.0 , 0.1  ); ( 30 , 1.0 | AIRFOIL  | 1.0 , 0.15  ); ( 30 , 1.0 | AIRFOIL  | 1.0 , 0.2  ); ( 30 , 1.0 | AIRFOIL  | 1.0 , 0.25  ); ( 30 , 1.0 | AIRFOIL  | 1.0 , 0.3  ); ( 30 , 1.0 | AIRFOIL  | 1.0 , 0.35  ); ( 30 , 1.0 | AIRFOIL  | 1.0 , 0.4  ); ( 30 , 1.0 | AIRFOIL  | 1.0 , 0.45  ); ( 30 , 1.0 | AIRFOIL  | 1.0 , 0.5  ); ( 30 , 1.0 | AIRFOIL  | 1.0 , 0.55  ); ( 30 , 1.0 | AIRFOIL  | 1.0 , 0.6  ); ( 30 , 1.0 | AIRFOIL  | 1.0 , 0.65  ); ( 30 , 1.0 | AIRFOIL  | 1.0 , 0.7  ); ( 30 , 1.0 | AIRFOIL  | 1.0 , 0.75  ); ( 30 , 1.0 | AIRFOIL  | 1.0 , 0.8  ); ( 30 , 1.0 | AIRFOIL  | 1.0 , 0.85  ); ( 30 , 1.0 | AIRFOIL  | 1.0 , 0.9  ); ( 30 , 1.0 | AIRFOIL  | 1.0 , 0.95  )',\n",
       " 'FIN_DIFF_STEP': '1e-07',\n",
       " 'DV_VALUE_NEW': '0',\n",
       " 'DV_VALUE_OLD': '0',\n",
       " 'OPT_COMBINE_OBJECTIVE': 'NO',\n",
       " 'OPT_CONSTRAINT': 'NONE',\n",
       " 'VALUE_OBJFUNC_FILENAME': 'of_eval.dat',\n",
       " 'SIDESLIP_ANGLE': '0.0',\n",
       " 'FREESTREAM_PRESSURE': '101325.0',\n",
       " 'MARKER_OUTLET': '(NONE)',\n",
       " 'MULTIPOINT_WEIGHT': '(1.0)',\n",
       " 'MULTIPOINT_MACH_NUMBER': '(0.729)',\n",
       " 'MULTIPOINT_AOA': '(2.31)',\n",
       " 'MULTIPOINT_SIDESLIP_ANGLE': '(0.0)',\n",
       " 'MULTIPOINT_REYNOLDS_NUMBER': '(6.5E6)',\n",
       " 'MULTIPOINT_TARGET_CL': '(0.724)',\n",
       " 'MULTIPOINT_FREESTREAM_PRESSURE': '(101325.0)',\n",
       " 'MULTIPOINT_FREESTREAM_TEMPERATURE': '(288.15)',\n",
       " 'MULTIPOINT_OUTLET_VALUE': '(0.0)',\n",
       " 'MULTIPOINT_MESH_FILENAME': '(mesh_RAE2822_turb.su2)',\n",
       " 'HISTORY_OUTPUT': 'ITER, RMS_RES, AERO_COEFF',\n",
       " 'NUMBER_PART': '1',\n",
       " 'NZONES': '1',\n",
       " 'CONSOLE': 'CONCISE',\n",
       " 'GRADIENT_METHOD': 'CONTINUOUS_ADJOINT'}"
      ]
     },
     "execution_count": 8,
     "metadata": {},
     "output_type": "execute_result"
    }
   ],
   "source": [
    "config"
   ]
  },
  {
   "cell_type": "code",
   "execution_count": 9,
   "metadata": {},
   "outputs": [],
   "source": [
    "# load_sim_data_RANS(data_dir, file_name, config_fname, node_type_ids, D=2)"
   ]
  },
  {
   "cell_type": "code",
   "execution_count": null,
   "metadata": {},
   "outputs": [],
   "source": []
  },
  {
   "cell_type": "code",
   "execution_count": 10,
   "metadata": {},
   "outputs": [
    {
     "data": {
      "text/plain": [
       "array([[-120,  120],\n",
       "       [-120,   40],\n",
       "       [-120,  -40],\n",
       "       [-120, -120],\n",
       "       [ -40,  120],\n",
       "       [  40,  120],\n",
       "       [ -40, -120],\n",
       "       [  40, -120],\n",
       "       [ 120,  120],\n",
       "       [ 120,   40],\n",
       "       [ 120,  -40],\n",
       "       [ 120, -120]])"
      ]
     },
     "execution_count": 10,
     "metadata": {},
     "output_type": "execute_result"
    }
   ],
   "source": [
    "np.array([\n",
    "    [-120, 120], [-120, 40], [-120, -40], [-120, -120],\n",
    "    [-40, 120], [40, 120], [-40, -120], [40, -120], \n",
    "    [120, 120], [120, 40], [120, -40], [120, -120]\n",
    "])"
   ]
  },
  {
   "cell_type": "code",
   "execution_count": 11,
   "metadata": {},
   "outputs": [
    {
     "data": {
      "text/plain": [
       "'0013'"
      ]
     },
     "execution_count": 11,
     "metadata": {},
     "output_type": "execute_result"
    }
   ],
   "source": [
    "\"{:04d}\".format(13)"
   ]
  },
  {
   "cell_type": "code",
   "execution_count": 12,
   "metadata": {},
   "outputs": [
    {
     "data": {
      "text/plain": [
       "'../Data/SOBOL_DESIGNS_RANS/DESIGNS/DSN_0013/DIRECT'"
      ]
     },
     "execution_count": 12,
     "metadata": {},
     "output_type": "execute_result"
    }
   ],
   "source": [
    "\"../Data/SOBOL_DESIGNS_RANS/DESIGNS/DSN_0013/DIRECT\""
   ]
  },
  {
   "cell_type": "code",
   "execution_count": 13,
   "metadata": {},
   "outputs": [
    {
     "data": {
      "text/html": [
       "<pre style=\"white-space:pre;overflow-x:auto;line-height:normal;font-family:Menlo,'DejaVu Sans Mono',consolas,'Courier New',monospace\"><span style=\"color: #808000; text-decoration-color: #808000; font-weight: bold\">Warning:</span><span style=\"color: #808000; text-decoration-color: #808000\"> meshio does not support tags of string type.</span>\n",
       "<span style=\"color: #808000; text-decoration-color: #808000\">    Surface tag  AIRFOIL will be replaced by </span><span style=\"color: #808000; text-decoration-color: #808000; font-weight: bold\">1</span>\n",
       "</pre>\n"
      ],
      "text/plain": [
       "\u001b[1;33mWarning:\u001b[0m\u001b[33m meshio does not support tags of string type.\u001b[0m\n",
       "\u001b[33m    Surface tag  AIRFOIL will be replaced by \u001b[0m\u001b[1;33m1\u001b[0m\n"
      ]
     },
     "metadata": {},
     "output_type": "display_data"
    },
    {
     "data": {
      "text/html": [
       "<pre style=\"white-space:pre;overflow-x:auto;line-height:normal;font-family:Menlo,'DejaVu Sans Mono',consolas,'Courier New',monospace\"><span style=\"color: #808000; text-decoration-color: #808000; font-weight: bold\">Warning:</span><span style=\"color: #808000; text-decoration-color: #808000\"> meshio does not support tags of string type.</span>\n",
       "<span style=\"color: #808000; text-decoration-color: #808000\">    Surface tag  FARFIELD will be replaced by </span><span style=\"color: #808000; text-decoration-color: #808000; font-weight: bold\">2</span>\n",
       "</pre>\n"
      ],
      "text/plain": [
       "\u001b[1;33mWarning:\u001b[0m\u001b[33m meshio does not support tags of string type.\u001b[0m\n",
       "\u001b[33m    Surface tag  FARFIELD will be replaced by \u001b[0m\u001b[1;33m2\u001b[0m\n"
      ]
     },
     "metadata": {},
     "output_type": "display_data"
    },
    {
     "name": "stdout",
     "output_type": "stream",
     "text": [
      "Reading ../Data/SOBOL_DESIGNS_RANS/DESIGNS/DSN_0012/DIRECT/../config_DSN.cfg\n"
     ]
    },
    {
     "name": "stderr",
     "output_type": "stream",
     "text": [
      "/home/nils/workspace/MA_GNN/Code/prepare_data_v2.py:1022: UserWarning: To copy construct from a tensor, it is recommended to use sourceTensor.clone().detach() or sourceTensor.clone().detach().requires_grad_(True), rather than torch.tensor(sourceTensor).\n",
      "  u_nodes=torch.tensor(u_nodes),\n",
      "/home/nils/workspace/MA_GNN/Code/prepare_data_v2.py:1033: UserWarning: To copy construct from a tensor, it is recommended to use sourceTensor.clone().detach() or sourceTensor.clone().detach().requires_grad_(True), rather than torch.tensor(sourceTensor).\n",
      "  x_res_simplex_indices=torch.tensor(x_res_simplex_indices),\n",
      "/home/nils/workspace/MA_GNN/Code/prepare_data_v2.py:1038: UserWarning: To copy construct from a tensor, it is recommended to use sourceTensor.clone().detach() or sourceTensor.clone().detach().requires_grad_(True), rather than torch.tensor(sourceTensor).\n",
      "  u_data=torch.tensor(u_data),\n",
      "/home/nils/workspace/MA_GNN/Code/prepare_data_v2.py:1041: UserWarning: To copy construct from a tensor, it is recommended to use sourceTensor.clone().detach() or sourceTensor.clone().detach().requires_grad_(True), rather than torch.tensor(sourceTensor).\n",
      "  x_data_simplex_indices=torch.tensor(x_data_simplex_indices),\n",
      "/home/nils/workspace/MA_GNN/Code/prepare_data_v2.py:1045: UserWarning: To copy construct from a tensor, it is recommended to use sourceTensor.clone().detach() or sourceTensor.clone().detach().requires_grad_(True), rather than torch.tensor(sourceTensor).\n",
      "  x_out_simplex_indices=torch.tensor(x_out_simplex_indices),\n",
      "/home/nils/workspace/MA_GNN/Code/prepare_data_v2.py:1050: UserWarning: To copy construct from a tensor, it is recommended to use sourceTensor.clone().detach() or sourceTensor.clone().detach().requires_grad_(True), rather than torch.tensor(sourceTensor).\n",
      "  u_out_validation=torch.tensor(u_out_validation),\n",
      "/home/nils/workspace/MA_GNN/Code/prepare_data_v2.py:1051: UserWarning: To copy construct from a tensor, it is recommended to use sourceTensor.clone().detach() or sourceTensor.clone().detach().requires_grad_(True), rather than torch.tensor(sourceTensor).\n",
      "  qois_mean=torch.tensor(qois_mean),\n",
      "/home/nils/workspace/MA_GNN/Code/prepare_data_v2.py:1052: UserWarning: To copy construct from a tensor, it is recommended to use sourceTensor.clone().detach() or sourceTensor.clone().detach().requires_grad_(True), rather than torch.tensor(sourceTensor).\n",
      "  qois_std=torch.tensor(qois_std),\n",
      "/home/nils/workspace/MA_GNN/Code/prepare_data_v2.py:1057: UserWarning: To copy construct from a tensor, it is recommended to use sourceTensor.clone().detach() or sourceTensor.clone().detach().requires_grad_(True), rather than torch.tensor(sourceTensor).\n",
      "  x_res_bc_simplex_indices=torch.tensor(x_res_bc_simplex_indices),\n"
     ]
    },
    {
     "data": {
      "text/html": [
       "<pre style=\"white-space:pre;overflow-x:auto;line-height:normal;font-family:Menlo,'DejaVu Sans Mono',consolas,'Courier New',monospace\"><span style=\"color: #808000; text-decoration-color: #808000; font-weight: bold\">Warning:</span><span style=\"color: #808000; text-decoration-color: #808000\"> meshio does not support tags of string type.</span>\n",
       "<span style=\"color: #808000; text-decoration-color: #808000\">    Surface tag  AIRFOIL will be replaced by </span><span style=\"color: #808000; text-decoration-color: #808000; font-weight: bold\">1</span>\n",
       "</pre>\n"
      ],
      "text/plain": [
       "\u001b[1;33mWarning:\u001b[0m\u001b[33m meshio does not support tags of string type.\u001b[0m\n",
       "\u001b[33m    Surface tag  AIRFOIL will be replaced by \u001b[0m\u001b[1;33m1\u001b[0m\n"
      ]
     },
     "metadata": {},
     "output_type": "display_data"
    },
    {
     "data": {
      "text/html": [
       "<pre style=\"white-space:pre;overflow-x:auto;line-height:normal;font-family:Menlo,'DejaVu Sans Mono',consolas,'Courier New',monospace\"><span style=\"color: #808000; text-decoration-color: #808000; font-weight: bold\">Warning:</span><span style=\"color: #808000; text-decoration-color: #808000\"> meshio does not support tags of string type.</span>\n",
       "<span style=\"color: #808000; text-decoration-color: #808000\">    Surface tag  FARFIELD will be replaced by </span><span style=\"color: #808000; text-decoration-color: #808000; font-weight: bold\">2</span>\n",
       "</pre>\n"
      ],
      "text/plain": [
       "\u001b[1;33mWarning:\u001b[0m\u001b[33m meshio does not support tags of string type.\u001b[0m\n",
       "\u001b[33m    Surface tag  FARFIELD will be replaced by \u001b[0m\u001b[1;33m2\u001b[0m\n"
      ]
     },
     "metadata": {},
     "output_type": "display_data"
    },
    {
     "name": "stdout",
     "output_type": "stream",
     "text": [
      "Reading ../Data/SOBOL_DESIGNS_RANS/DESIGNS/DSN_0013/DIRECT/../config_DSN.cfg\n"
     ]
    },
    {
     "data": {
      "text/html": [
       "<pre style=\"white-space:pre;overflow-x:auto;line-height:normal;font-family:Menlo,'DejaVu Sans Mono',consolas,'Courier New',monospace\"><span style=\"color: #808000; text-decoration-color: #808000; font-weight: bold\">Warning:</span><span style=\"color: #808000; text-decoration-color: #808000\"> meshio does not support tags of string type.</span>\n",
       "<span style=\"color: #808000; text-decoration-color: #808000\">    Surface tag  AIRFOIL will be replaced by </span><span style=\"color: #808000; text-decoration-color: #808000; font-weight: bold\">1</span>\n",
       "</pre>\n"
      ],
      "text/plain": [
       "\u001b[1;33mWarning:\u001b[0m\u001b[33m meshio does not support tags of string type.\u001b[0m\n",
       "\u001b[33m    Surface tag  AIRFOIL will be replaced by \u001b[0m\u001b[1;33m1\u001b[0m\n"
      ]
     },
     "metadata": {},
     "output_type": "display_data"
    },
    {
     "data": {
      "text/html": [
       "<pre style=\"white-space:pre;overflow-x:auto;line-height:normal;font-family:Menlo,'DejaVu Sans Mono',consolas,'Courier New',monospace\"><span style=\"color: #808000; text-decoration-color: #808000; font-weight: bold\">Warning:</span><span style=\"color: #808000; text-decoration-color: #808000\"> meshio does not support tags of string type.</span>\n",
       "<span style=\"color: #808000; text-decoration-color: #808000\">    Surface tag  FARFIELD will be replaced by </span><span style=\"color: #808000; text-decoration-color: #808000; font-weight: bold\">2</span>\n",
       "</pre>\n"
      ],
      "text/plain": [
       "\u001b[1;33mWarning:\u001b[0m\u001b[33m meshio does not support tags of string type.\u001b[0m\n",
       "\u001b[33m    Surface tag  FARFIELD will be replaced by \u001b[0m\u001b[1;33m2\u001b[0m\n"
      ]
     },
     "metadata": {},
     "output_type": "display_data"
    },
    {
     "name": "stdout",
     "output_type": "stream",
     "text": [
      "Reading ../Data/SOBOL_DESIGNS_RANS/DESIGNS/DSN_0014/DIRECT/../config_DSN.cfg\n"
     ]
    },
    {
     "data": {
      "text/html": [
       "<pre style=\"white-space:pre;overflow-x:auto;line-height:normal;font-family:Menlo,'DejaVu Sans Mono',consolas,'Courier New',monospace\"><span style=\"color: #808000; text-decoration-color: #808000; font-weight: bold\">Warning:</span><span style=\"color: #808000; text-decoration-color: #808000\"> meshio does not support tags of string type.</span>\n",
       "<span style=\"color: #808000; text-decoration-color: #808000\">    Surface tag  AIRFOIL will be replaced by </span><span style=\"color: #808000; text-decoration-color: #808000; font-weight: bold\">1</span>\n",
       "</pre>\n"
      ],
      "text/plain": [
       "\u001b[1;33mWarning:\u001b[0m\u001b[33m meshio does not support tags of string type.\u001b[0m\n",
       "\u001b[33m    Surface tag  AIRFOIL will be replaced by \u001b[0m\u001b[1;33m1\u001b[0m\n"
      ]
     },
     "metadata": {},
     "output_type": "display_data"
    },
    {
     "data": {
      "text/html": [
       "<pre style=\"white-space:pre;overflow-x:auto;line-height:normal;font-family:Menlo,'DejaVu Sans Mono',consolas,'Courier New',monospace\"><span style=\"color: #808000; text-decoration-color: #808000; font-weight: bold\">Warning:</span><span style=\"color: #808000; text-decoration-color: #808000\"> meshio does not support tags of string type.</span>\n",
       "<span style=\"color: #808000; text-decoration-color: #808000\">    Surface tag  FARFIELD will be replaced by </span><span style=\"color: #808000; text-decoration-color: #808000; font-weight: bold\">2</span>\n",
       "</pre>\n"
      ],
      "text/plain": [
       "\u001b[1;33mWarning:\u001b[0m\u001b[33m meshio does not support tags of string type.\u001b[0m\n",
       "\u001b[33m    Surface tag  FARFIELD will be replaced by \u001b[0m\u001b[1;33m2\u001b[0m\n"
      ]
     },
     "metadata": {},
     "output_type": "display_data"
    },
    {
     "name": "stdout",
     "output_type": "stream",
     "text": [
      "Reading ../Data/SOBOL_DESIGNS_RANS/DESIGNS/DSN_0015/DIRECT/../config_DSN.cfg\n"
     ]
    },
    {
     "data": {
      "text/html": [
       "<pre style=\"white-space:pre;overflow-x:auto;line-height:normal;font-family:Menlo,'DejaVu Sans Mono',consolas,'Courier New',monospace\"><span style=\"color: #808000; text-decoration-color: #808000; font-weight: bold\">Warning:</span><span style=\"color: #808000; text-decoration-color: #808000\"> meshio does not support tags of string type.</span>\n",
       "<span style=\"color: #808000; text-decoration-color: #808000\">    Surface tag  AIRFOIL will be replaced by </span><span style=\"color: #808000; text-decoration-color: #808000; font-weight: bold\">1</span>\n",
       "</pre>\n"
      ],
      "text/plain": [
       "\u001b[1;33mWarning:\u001b[0m\u001b[33m meshio does not support tags of string type.\u001b[0m\n",
       "\u001b[33m    Surface tag  AIRFOIL will be replaced by \u001b[0m\u001b[1;33m1\u001b[0m\n"
      ]
     },
     "metadata": {},
     "output_type": "display_data"
    },
    {
     "data": {
      "text/html": [
       "<pre style=\"white-space:pre;overflow-x:auto;line-height:normal;font-family:Menlo,'DejaVu Sans Mono',consolas,'Courier New',monospace\"><span style=\"color: #808000; text-decoration-color: #808000; font-weight: bold\">Warning:</span><span style=\"color: #808000; text-decoration-color: #808000\"> meshio does not support tags of string type.</span>\n",
       "<span style=\"color: #808000; text-decoration-color: #808000\">    Surface tag  FARFIELD will be replaced by </span><span style=\"color: #808000; text-decoration-color: #808000; font-weight: bold\">2</span>\n",
       "</pre>\n"
      ],
      "text/plain": [
       "\u001b[1;33mWarning:\u001b[0m\u001b[33m meshio does not support tags of string type.\u001b[0m\n",
       "\u001b[33m    Surface tag  FARFIELD will be replaced by \u001b[0m\u001b[1;33m2\u001b[0m\n"
      ]
     },
     "metadata": {},
     "output_type": "display_data"
    },
    {
     "name": "stdout",
     "output_type": "stream",
     "text": [
      "Reading ../Data/SOBOL_DESIGNS_RANS/DESIGNS/DSN_0016/DIRECT/../config_DSN.cfg\n"
     ]
    },
    {
     "data": {
      "text/html": [
       "<pre style=\"white-space:pre;overflow-x:auto;line-height:normal;font-family:Menlo,'DejaVu Sans Mono',consolas,'Courier New',monospace\"><span style=\"color: #808000; text-decoration-color: #808000; font-weight: bold\">Warning:</span><span style=\"color: #808000; text-decoration-color: #808000\"> meshio does not support tags of string type.</span>\n",
       "<span style=\"color: #808000; text-decoration-color: #808000\">    Surface tag  AIRFOIL will be replaced by </span><span style=\"color: #808000; text-decoration-color: #808000; font-weight: bold\">1</span>\n",
       "</pre>\n"
      ],
      "text/plain": [
       "\u001b[1;33mWarning:\u001b[0m\u001b[33m meshio does not support tags of string type.\u001b[0m\n",
       "\u001b[33m    Surface tag  AIRFOIL will be replaced by \u001b[0m\u001b[1;33m1\u001b[0m\n"
      ]
     },
     "metadata": {},
     "output_type": "display_data"
    },
    {
     "data": {
      "text/html": [
       "<pre style=\"white-space:pre;overflow-x:auto;line-height:normal;font-family:Menlo,'DejaVu Sans Mono',consolas,'Courier New',monospace\"><span style=\"color: #808000; text-decoration-color: #808000; font-weight: bold\">Warning:</span><span style=\"color: #808000; text-decoration-color: #808000\"> meshio does not support tags of string type.</span>\n",
       "<span style=\"color: #808000; text-decoration-color: #808000\">    Surface tag  FARFIELD will be replaced by </span><span style=\"color: #808000; text-decoration-color: #808000; font-weight: bold\">2</span>\n",
       "</pre>\n"
      ],
      "text/plain": [
       "\u001b[1;33mWarning:\u001b[0m\u001b[33m meshio does not support tags of string type.\u001b[0m\n",
       "\u001b[33m    Surface tag  FARFIELD will be replaced by \u001b[0m\u001b[1;33m2\u001b[0m\n"
      ]
     },
     "metadata": {},
     "output_type": "display_data"
    },
    {
     "name": "stdout",
     "output_type": "stream",
     "text": [
      "Reading ../Data/SOBOL_DESIGNS_RANS/DESIGNS/DSN_0017/DIRECT/../config_DSN.cfg\n"
     ]
    },
    {
     "data": {
      "text/html": [
       "<pre style=\"white-space:pre;overflow-x:auto;line-height:normal;font-family:Menlo,'DejaVu Sans Mono',consolas,'Courier New',monospace\"><span style=\"color: #808000; text-decoration-color: #808000; font-weight: bold\">Warning:</span><span style=\"color: #808000; text-decoration-color: #808000\"> meshio does not support tags of string type.</span>\n",
       "<span style=\"color: #808000; text-decoration-color: #808000\">    Surface tag  AIRFOIL will be replaced by </span><span style=\"color: #808000; text-decoration-color: #808000; font-weight: bold\">1</span>\n",
       "</pre>\n"
      ],
      "text/plain": [
       "\u001b[1;33mWarning:\u001b[0m\u001b[33m meshio does not support tags of string type.\u001b[0m\n",
       "\u001b[33m    Surface tag  AIRFOIL will be replaced by \u001b[0m\u001b[1;33m1\u001b[0m\n"
      ]
     },
     "metadata": {},
     "output_type": "display_data"
    },
    {
     "data": {
      "text/html": [
       "<pre style=\"white-space:pre;overflow-x:auto;line-height:normal;font-family:Menlo,'DejaVu Sans Mono',consolas,'Courier New',monospace\"><span style=\"color: #808000; text-decoration-color: #808000; font-weight: bold\">Warning:</span><span style=\"color: #808000; text-decoration-color: #808000\"> meshio does not support tags of string type.</span>\n",
       "<span style=\"color: #808000; text-decoration-color: #808000\">    Surface tag  FARFIELD will be replaced by </span><span style=\"color: #808000; text-decoration-color: #808000; font-weight: bold\">2</span>\n",
       "</pre>\n"
      ],
      "text/plain": [
       "\u001b[1;33mWarning:\u001b[0m\u001b[33m meshio does not support tags of string type.\u001b[0m\n",
       "\u001b[33m    Surface tag  FARFIELD will be replaced by \u001b[0m\u001b[1;33m2\u001b[0m\n"
      ]
     },
     "metadata": {},
     "output_type": "display_data"
    },
    {
     "name": "stdout",
     "output_type": "stream",
     "text": [
      "Reading ../Data/SOBOL_DESIGNS_RANS/DESIGNS/DSN_0018/DIRECT/../config_DSN.cfg\n"
     ]
    },
    {
     "data": {
      "text/html": [
       "<pre style=\"white-space:pre;overflow-x:auto;line-height:normal;font-family:Menlo,'DejaVu Sans Mono',consolas,'Courier New',monospace\"><span style=\"color: #808000; text-decoration-color: #808000; font-weight: bold\">Warning:</span><span style=\"color: #808000; text-decoration-color: #808000\"> meshio does not support tags of string type.</span>\n",
       "<span style=\"color: #808000; text-decoration-color: #808000\">    Surface tag  AIRFOIL will be replaced by </span><span style=\"color: #808000; text-decoration-color: #808000; font-weight: bold\">1</span>\n",
       "</pre>\n"
      ],
      "text/plain": [
       "\u001b[1;33mWarning:\u001b[0m\u001b[33m meshio does not support tags of string type.\u001b[0m\n",
       "\u001b[33m    Surface tag  AIRFOIL will be replaced by \u001b[0m\u001b[1;33m1\u001b[0m\n"
      ]
     },
     "metadata": {},
     "output_type": "display_data"
    },
    {
     "data": {
      "text/html": [
       "<pre style=\"white-space:pre;overflow-x:auto;line-height:normal;font-family:Menlo,'DejaVu Sans Mono',consolas,'Courier New',monospace\"><span style=\"color: #808000; text-decoration-color: #808000; font-weight: bold\">Warning:</span><span style=\"color: #808000; text-decoration-color: #808000\"> meshio does not support tags of string type.</span>\n",
       "<span style=\"color: #808000; text-decoration-color: #808000\">    Surface tag  FARFIELD will be replaced by </span><span style=\"color: #808000; text-decoration-color: #808000; font-weight: bold\">2</span>\n",
       "</pre>\n"
      ],
      "text/plain": [
       "\u001b[1;33mWarning:\u001b[0m\u001b[33m meshio does not support tags of string type.\u001b[0m\n",
       "\u001b[33m    Surface tag  FARFIELD will be replaced by \u001b[0m\u001b[1;33m2\u001b[0m\n"
      ]
     },
     "metadata": {},
     "output_type": "display_data"
    },
    {
     "name": "stdout",
     "output_type": "stream",
     "text": [
      "Reading ../Data/SOBOL_DESIGNS_RANS/DESIGNS/DSN_0019/DIRECT/../config_DSN.cfg\n"
     ]
    },
    {
     "data": {
      "text/html": [
       "<pre style=\"white-space:pre;overflow-x:auto;line-height:normal;font-family:Menlo,'DejaVu Sans Mono',consolas,'Courier New',monospace\"><span style=\"color: #808000; text-decoration-color: #808000; font-weight: bold\">Warning:</span><span style=\"color: #808000; text-decoration-color: #808000\"> meshio does not support tags of string type.</span>\n",
       "<span style=\"color: #808000; text-decoration-color: #808000\">    Surface tag  AIRFOIL will be replaced by </span><span style=\"color: #808000; text-decoration-color: #808000; font-weight: bold\">1</span>\n",
       "</pre>\n"
      ],
      "text/plain": [
       "\u001b[1;33mWarning:\u001b[0m\u001b[33m meshio does not support tags of string type.\u001b[0m\n",
       "\u001b[33m    Surface tag  AIRFOIL will be replaced by \u001b[0m\u001b[1;33m1\u001b[0m\n"
      ]
     },
     "metadata": {},
     "output_type": "display_data"
    },
    {
     "data": {
      "text/html": [
       "<pre style=\"white-space:pre;overflow-x:auto;line-height:normal;font-family:Menlo,'DejaVu Sans Mono',consolas,'Courier New',monospace\"><span style=\"color: #808000; text-decoration-color: #808000; font-weight: bold\">Warning:</span><span style=\"color: #808000; text-decoration-color: #808000\"> meshio does not support tags of string type.</span>\n",
       "<span style=\"color: #808000; text-decoration-color: #808000\">    Surface tag  FARFIELD will be replaced by </span><span style=\"color: #808000; text-decoration-color: #808000; font-weight: bold\">2</span>\n",
       "</pre>\n"
      ],
      "text/plain": [
       "\u001b[1;33mWarning:\u001b[0m\u001b[33m meshio does not support tags of string type.\u001b[0m\n",
       "\u001b[33m    Surface tag  FARFIELD will be replaced by \u001b[0m\u001b[1;33m2\u001b[0m\n"
      ]
     },
     "metadata": {},
     "output_type": "display_data"
    },
    {
     "name": "stdout",
     "output_type": "stream",
     "text": [
      "Reading ../Data/SOBOL_DESIGNS_RANS/DESIGNS/DSN_0020/DIRECT/../config_DSN.cfg\n"
     ]
    },
    {
     "data": {
      "text/html": [
       "<pre style=\"white-space:pre;overflow-x:auto;line-height:normal;font-family:Menlo,'DejaVu Sans Mono',consolas,'Courier New',monospace\"><span style=\"color: #808000; text-decoration-color: #808000; font-weight: bold\">Warning:</span><span style=\"color: #808000; text-decoration-color: #808000\"> meshio does not support tags of string type.</span>\n",
       "<span style=\"color: #808000; text-decoration-color: #808000\">    Surface tag  AIRFOIL will be replaced by </span><span style=\"color: #808000; text-decoration-color: #808000; font-weight: bold\">1</span>\n",
       "</pre>\n"
      ],
      "text/plain": [
       "\u001b[1;33mWarning:\u001b[0m\u001b[33m meshio does not support tags of string type.\u001b[0m\n",
       "\u001b[33m    Surface tag  AIRFOIL will be replaced by \u001b[0m\u001b[1;33m1\u001b[0m\n"
      ]
     },
     "metadata": {},
     "output_type": "display_data"
    },
    {
     "data": {
      "text/html": [
       "<pre style=\"white-space:pre;overflow-x:auto;line-height:normal;font-family:Menlo,'DejaVu Sans Mono',consolas,'Courier New',monospace\"><span style=\"color: #808000; text-decoration-color: #808000; font-weight: bold\">Warning:</span><span style=\"color: #808000; text-decoration-color: #808000\"> meshio does not support tags of string type.</span>\n",
       "<span style=\"color: #808000; text-decoration-color: #808000\">    Surface tag  FARFIELD will be replaced by </span><span style=\"color: #808000; text-decoration-color: #808000; font-weight: bold\">2</span>\n",
       "</pre>\n"
      ],
      "text/plain": [
       "\u001b[1;33mWarning:\u001b[0m\u001b[33m meshio does not support tags of string type.\u001b[0m\n",
       "\u001b[33m    Surface tag  FARFIELD will be replaced by \u001b[0m\u001b[1;33m2\u001b[0m\n"
      ]
     },
     "metadata": {},
     "output_type": "display_data"
    },
    {
     "name": "stdout",
     "output_type": "stream",
     "text": [
      "Reading ../Data/SOBOL_DESIGNS_RANS/DESIGNS/DSN_0021/DIRECT/../config_DSN.cfg\n"
     ]
    },
    {
     "data": {
      "text/html": [
       "<pre style=\"white-space:pre;overflow-x:auto;line-height:normal;font-family:Menlo,'DejaVu Sans Mono',consolas,'Courier New',monospace\"><span style=\"color: #808000; text-decoration-color: #808000; font-weight: bold\">Warning:</span><span style=\"color: #808000; text-decoration-color: #808000\"> meshio does not support tags of string type.</span>\n",
       "<span style=\"color: #808000; text-decoration-color: #808000\">    Surface tag  AIRFOIL will be replaced by </span><span style=\"color: #808000; text-decoration-color: #808000; font-weight: bold\">1</span>\n",
       "</pre>\n"
      ],
      "text/plain": [
       "\u001b[1;33mWarning:\u001b[0m\u001b[33m meshio does not support tags of string type.\u001b[0m\n",
       "\u001b[33m    Surface tag  AIRFOIL will be replaced by \u001b[0m\u001b[1;33m1\u001b[0m\n"
      ]
     },
     "metadata": {},
     "output_type": "display_data"
    },
    {
     "data": {
      "text/html": [
       "<pre style=\"white-space:pre;overflow-x:auto;line-height:normal;font-family:Menlo,'DejaVu Sans Mono',consolas,'Courier New',monospace\"><span style=\"color: #808000; text-decoration-color: #808000; font-weight: bold\">Warning:</span><span style=\"color: #808000; text-decoration-color: #808000\"> meshio does not support tags of string type.</span>\n",
       "<span style=\"color: #808000; text-decoration-color: #808000\">    Surface tag  FARFIELD will be replaced by </span><span style=\"color: #808000; text-decoration-color: #808000; font-weight: bold\">2</span>\n",
       "</pre>\n"
      ],
      "text/plain": [
       "\u001b[1;33mWarning:\u001b[0m\u001b[33m meshio does not support tags of string type.\u001b[0m\n",
       "\u001b[33m    Surface tag  FARFIELD will be replaced by \u001b[0m\u001b[1;33m2\u001b[0m\n"
      ]
     },
     "metadata": {},
     "output_type": "display_data"
    },
    {
     "name": "stdout",
     "output_type": "stream",
     "text": [
      "Reading ../Data/SOBOL_DESIGNS_RANS/DESIGNS/DSN_0022/DIRECT/../config_DSN.cfg\n"
     ]
    },
    {
     "data": {
      "text/html": [
       "<pre style=\"white-space:pre;overflow-x:auto;line-height:normal;font-family:Menlo,'DejaVu Sans Mono',consolas,'Courier New',monospace\"><span style=\"color: #808000; text-decoration-color: #808000; font-weight: bold\">Warning:</span><span style=\"color: #808000; text-decoration-color: #808000\"> meshio does not support tags of string type.</span>\n",
       "<span style=\"color: #808000; text-decoration-color: #808000\">    Surface tag  AIRFOIL will be replaced by </span><span style=\"color: #808000; text-decoration-color: #808000; font-weight: bold\">1</span>\n",
       "</pre>\n"
      ],
      "text/plain": [
       "\u001b[1;33mWarning:\u001b[0m\u001b[33m meshio does not support tags of string type.\u001b[0m\n",
       "\u001b[33m    Surface tag  AIRFOIL will be replaced by \u001b[0m\u001b[1;33m1\u001b[0m\n"
      ]
     },
     "metadata": {},
     "output_type": "display_data"
    },
    {
     "data": {
      "text/html": [
       "<pre style=\"white-space:pre;overflow-x:auto;line-height:normal;font-family:Menlo,'DejaVu Sans Mono',consolas,'Courier New',monospace\"><span style=\"color: #808000; text-decoration-color: #808000; font-weight: bold\">Warning:</span><span style=\"color: #808000; text-decoration-color: #808000\"> meshio does not support tags of string type.</span>\n",
       "<span style=\"color: #808000; text-decoration-color: #808000\">    Surface tag  FARFIELD will be replaced by </span><span style=\"color: #808000; text-decoration-color: #808000; font-weight: bold\">2</span>\n",
       "</pre>\n"
      ],
      "text/plain": [
       "\u001b[1;33mWarning:\u001b[0m\u001b[33m meshio does not support tags of string type.\u001b[0m\n",
       "\u001b[33m    Surface tag  FARFIELD will be replaced by \u001b[0m\u001b[1;33m2\u001b[0m\n"
      ]
     },
     "metadata": {},
     "output_type": "display_data"
    },
    {
     "name": "stdout",
     "output_type": "stream",
     "text": [
      "Reading ../Data/SOBOL_DESIGNS_RANS/DESIGNS/DSN_0023/DIRECT/../config_DSN.cfg\n"
     ]
    },
    {
     "data": {
      "text/html": [
       "<pre style=\"white-space:pre;overflow-x:auto;line-height:normal;font-family:Menlo,'DejaVu Sans Mono',consolas,'Courier New',monospace\"><span style=\"color: #808000; text-decoration-color: #808000; font-weight: bold\">Warning:</span><span style=\"color: #808000; text-decoration-color: #808000\"> meshio does not support tags of string type.</span>\n",
       "<span style=\"color: #808000; text-decoration-color: #808000\">    Surface tag  AIRFOIL will be replaced by </span><span style=\"color: #808000; text-decoration-color: #808000; font-weight: bold\">1</span>\n",
       "</pre>\n"
      ],
      "text/plain": [
       "\u001b[1;33mWarning:\u001b[0m\u001b[33m meshio does not support tags of string type.\u001b[0m\n",
       "\u001b[33m    Surface tag  AIRFOIL will be replaced by \u001b[0m\u001b[1;33m1\u001b[0m\n"
      ]
     },
     "metadata": {},
     "output_type": "display_data"
    },
    {
     "data": {
      "text/html": [
       "<pre style=\"white-space:pre;overflow-x:auto;line-height:normal;font-family:Menlo,'DejaVu Sans Mono',consolas,'Courier New',monospace\"><span style=\"color: #808000; text-decoration-color: #808000; font-weight: bold\">Warning:</span><span style=\"color: #808000; text-decoration-color: #808000\"> meshio does not support tags of string type.</span>\n",
       "<span style=\"color: #808000; text-decoration-color: #808000\">    Surface tag  FARFIELD will be replaced by </span><span style=\"color: #808000; text-decoration-color: #808000; font-weight: bold\">2</span>\n",
       "</pre>\n"
      ],
      "text/plain": [
       "\u001b[1;33mWarning:\u001b[0m\u001b[33m meshio does not support tags of string type.\u001b[0m\n",
       "\u001b[33m    Surface tag  FARFIELD will be replaced by \u001b[0m\u001b[1;33m2\u001b[0m\n"
      ]
     },
     "metadata": {},
     "output_type": "display_data"
    },
    {
     "name": "stdout",
     "output_type": "stream",
     "text": [
      "Reading ../Data/SOBOL_DESIGNS_RANS/DESIGNS/DSN_0024/DIRECT/../config_DSN.cfg\n"
     ]
    },
    {
     "data": {
      "text/html": [
       "<pre style=\"white-space:pre;overflow-x:auto;line-height:normal;font-family:Menlo,'DejaVu Sans Mono',consolas,'Courier New',monospace\"><span style=\"color: #808000; text-decoration-color: #808000; font-weight: bold\">Warning:</span><span style=\"color: #808000; text-decoration-color: #808000\"> meshio does not support tags of string type.</span>\n",
       "<span style=\"color: #808000; text-decoration-color: #808000\">    Surface tag  AIRFOIL will be replaced by </span><span style=\"color: #808000; text-decoration-color: #808000; font-weight: bold\">1</span>\n",
       "</pre>\n"
      ],
      "text/plain": [
       "\u001b[1;33mWarning:\u001b[0m\u001b[33m meshio does not support tags of string type.\u001b[0m\n",
       "\u001b[33m    Surface tag  AIRFOIL will be replaced by \u001b[0m\u001b[1;33m1\u001b[0m\n"
      ]
     },
     "metadata": {},
     "output_type": "display_data"
    },
    {
     "data": {
      "text/html": [
       "<pre style=\"white-space:pre;overflow-x:auto;line-height:normal;font-family:Menlo,'DejaVu Sans Mono',consolas,'Courier New',monospace\"><span style=\"color: #808000; text-decoration-color: #808000; font-weight: bold\">Warning:</span><span style=\"color: #808000; text-decoration-color: #808000\"> meshio does not support tags of string type.</span>\n",
       "<span style=\"color: #808000; text-decoration-color: #808000\">    Surface tag  FARFIELD will be replaced by </span><span style=\"color: #808000; text-decoration-color: #808000; font-weight: bold\">2</span>\n",
       "</pre>\n"
      ],
      "text/plain": [
       "\u001b[1;33mWarning:\u001b[0m\u001b[33m meshio does not support tags of string type.\u001b[0m\n",
       "\u001b[33m    Surface tag  FARFIELD will be replaced by \u001b[0m\u001b[1;33m2\u001b[0m\n"
      ]
     },
     "metadata": {},
     "output_type": "display_data"
    },
    {
     "name": "stdout",
     "output_type": "stream",
     "text": [
      "Reading ../Data/SOBOL_DESIGNS_RANS/DESIGNS/DSN_0025/DIRECT/../config_DSN.cfg\n"
     ]
    },
    {
     "data": {
      "text/html": [
       "<pre style=\"white-space:pre;overflow-x:auto;line-height:normal;font-family:Menlo,'DejaVu Sans Mono',consolas,'Courier New',monospace\"><span style=\"color: #808000; text-decoration-color: #808000; font-weight: bold\">Warning:</span><span style=\"color: #808000; text-decoration-color: #808000\"> meshio does not support tags of string type.</span>\n",
       "<span style=\"color: #808000; text-decoration-color: #808000\">    Surface tag  AIRFOIL will be replaced by </span><span style=\"color: #808000; text-decoration-color: #808000; font-weight: bold\">1</span>\n",
       "</pre>\n"
      ],
      "text/plain": [
       "\u001b[1;33mWarning:\u001b[0m\u001b[33m meshio does not support tags of string type.\u001b[0m\n",
       "\u001b[33m    Surface tag  AIRFOIL will be replaced by \u001b[0m\u001b[1;33m1\u001b[0m\n"
      ]
     },
     "metadata": {},
     "output_type": "display_data"
    },
    {
     "data": {
      "text/html": [
       "<pre style=\"white-space:pre;overflow-x:auto;line-height:normal;font-family:Menlo,'DejaVu Sans Mono',consolas,'Courier New',monospace\"><span style=\"color: #808000; text-decoration-color: #808000; font-weight: bold\">Warning:</span><span style=\"color: #808000; text-decoration-color: #808000\"> meshio does not support tags of string type.</span>\n",
       "<span style=\"color: #808000; text-decoration-color: #808000\">    Surface tag  FARFIELD will be replaced by </span><span style=\"color: #808000; text-decoration-color: #808000; font-weight: bold\">2</span>\n",
       "</pre>\n"
      ],
      "text/plain": [
       "\u001b[1;33mWarning:\u001b[0m\u001b[33m meshio does not support tags of string type.\u001b[0m\n",
       "\u001b[33m    Surface tag  FARFIELD will be replaced by \u001b[0m\u001b[1;33m2\u001b[0m\n"
      ]
     },
     "metadata": {},
     "output_type": "display_data"
    },
    {
     "name": "stdout",
     "output_type": "stream",
     "text": [
      "Reading ../Data/SOBOL_DESIGNS_RANS/DESIGNS/DSN_0026/DIRECT/../config_DSN.cfg\n"
     ]
    },
    {
     "data": {
      "text/html": [
       "<pre style=\"white-space:pre;overflow-x:auto;line-height:normal;font-family:Menlo,'DejaVu Sans Mono',consolas,'Courier New',monospace\"><span style=\"color: #808000; text-decoration-color: #808000; font-weight: bold\">Warning:</span><span style=\"color: #808000; text-decoration-color: #808000\"> meshio does not support tags of string type.</span>\n",
       "<span style=\"color: #808000; text-decoration-color: #808000\">    Surface tag  AIRFOIL will be replaced by </span><span style=\"color: #808000; text-decoration-color: #808000; font-weight: bold\">1</span>\n",
       "</pre>\n"
      ],
      "text/plain": [
       "\u001b[1;33mWarning:\u001b[0m\u001b[33m meshio does not support tags of string type.\u001b[0m\n",
       "\u001b[33m    Surface tag  AIRFOIL will be replaced by \u001b[0m\u001b[1;33m1\u001b[0m\n"
      ]
     },
     "metadata": {},
     "output_type": "display_data"
    },
    {
     "data": {
      "text/html": [
       "<pre style=\"white-space:pre;overflow-x:auto;line-height:normal;font-family:Menlo,'DejaVu Sans Mono',consolas,'Courier New',monospace\"><span style=\"color: #808000; text-decoration-color: #808000; font-weight: bold\">Warning:</span><span style=\"color: #808000; text-decoration-color: #808000\"> meshio does not support tags of string type.</span>\n",
       "<span style=\"color: #808000; text-decoration-color: #808000\">    Surface tag  FARFIELD will be replaced by </span><span style=\"color: #808000; text-decoration-color: #808000; font-weight: bold\">2</span>\n",
       "</pre>\n"
      ],
      "text/plain": [
       "\u001b[1;33mWarning:\u001b[0m\u001b[33m meshio does not support tags of string type.\u001b[0m\n",
       "\u001b[33m    Surface tag  FARFIELD will be replaced by \u001b[0m\u001b[1;33m2\u001b[0m\n"
      ]
     },
     "metadata": {},
     "output_type": "display_data"
    },
    {
     "name": "stdout",
     "output_type": "stream",
     "text": [
      "Reading ../Data/SOBOL_DESIGNS_RANS/DESIGNS/DSN_0027/DIRECT/../config_DSN.cfg\n"
     ]
    },
    {
     "data": {
      "text/html": [
       "<pre style=\"white-space:pre;overflow-x:auto;line-height:normal;font-family:Menlo,'DejaVu Sans Mono',consolas,'Courier New',monospace\"><span style=\"color: #808000; text-decoration-color: #808000; font-weight: bold\">Warning:</span><span style=\"color: #808000; text-decoration-color: #808000\"> meshio does not support tags of string type.</span>\n",
       "<span style=\"color: #808000; text-decoration-color: #808000\">    Surface tag  AIRFOIL will be replaced by </span><span style=\"color: #808000; text-decoration-color: #808000; font-weight: bold\">1</span>\n",
       "</pre>\n"
      ],
      "text/plain": [
       "\u001b[1;33mWarning:\u001b[0m\u001b[33m meshio does not support tags of string type.\u001b[0m\n",
       "\u001b[33m    Surface tag  AIRFOIL will be replaced by \u001b[0m\u001b[1;33m1\u001b[0m\n"
      ]
     },
     "metadata": {},
     "output_type": "display_data"
    },
    {
     "data": {
      "text/html": [
       "<pre style=\"white-space:pre;overflow-x:auto;line-height:normal;font-family:Menlo,'DejaVu Sans Mono',consolas,'Courier New',monospace\"><span style=\"color: #808000; text-decoration-color: #808000; font-weight: bold\">Warning:</span><span style=\"color: #808000; text-decoration-color: #808000\"> meshio does not support tags of string type.</span>\n",
       "<span style=\"color: #808000; text-decoration-color: #808000\">    Surface tag  FARFIELD will be replaced by </span><span style=\"color: #808000; text-decoration-color: #808000; font-weight: bold\">2</span>\n",
       "</pre>\n"
      ],
      "text/plain": [
       "\u001b[1;33mWarning:\u001b[0m\u001b[33m meshio does not support tags of string type.\u001b[0m\n",
       "\u001b[33m    Surface tag  FARFIELD will be replaced by \u001b[0m\u001b[1;33m2\u001b[0m\n"
      ]
     },
     "metadata": {},
     "output_type": "display_data"
    },
    {
     "name": "stdout",
     "output_type": "stream",
     "text": [
      "Reading ../Data/SOBOL_DESIGNS_RANS/DESIGNS/DSN_0028/DIRECT/../config_DSN.cfg\n"
     ]
    },
    {
     "data": {
      "text/html": [
       "<pre style=\"white-space:pre;overflow-x:auto;line-height:normal;font-family:Menlo,'DejaVu Sans Mono',consolas,'Courier New',monospace\"><span style=\"color: #808000; text-decoration-color: #808000; font-weight: bold\">Warning:</span><span style=\"color: #808000; text-decoration-color: #808000\"> meshio does not support tags of string type.</span>\n",
       "<span style=\"color: #808000; text-decoration-color: #808000\">    Surface tag  AIRFOIL will be replaced by </span><span style=\"color: #808000; text-decoration-color: #808000; font-weight: bold\">1</span>\n",
       "</pre>\n"
      ],
      "text/plain": [
       "\u001b[1;33mWarning:\u001b[0m\u001b[33m meshio does not support tags of string type.\u001b[0m\n",
       "\u001b[33m    Surface tag  AIRFOIL will be replaced by \u001b[0m\u001b[1;33m1\u001b[0m\n"
      ]
     },
     "metadata": {},
     "output_type": "display_data"
    },
    {
     "data": {
      "text/html": [
       "<pre style=\"white-space:pre;overflow-x:auto;line-height:normal;font-family:Menlo,'DejaVu Sans Mono',consolas,'Courier New',monospace\"><span style=\"color: #808000; text-decoration-color: #808000; font-weight: bold\">Warning:</span><span style=\"color: #808000; text-decoration-color: #808000\"> meshio does not support tags of string type.</span>\n",
       "<span style=\"color: #808000; text-decoration-color: #808000\">    Surface tag  FARFIELD will be replaced by </span><span style=\"color: #808000; text-decoration-color: #808000; font-weight: bold\">2</span>\n",
       "</pre>\n"
      ],
      "text/plain": [
       "\u001b[1;33mWarning:\u001b[0m\u001b[33m meshio does not support tags of string type.\u001b[0m\n",
       "\u001b[33m    Surface tag  FARFIELD will be replaced by \u001b[0m\u001b[1;33m2\u001b[0m\n"
      ]
     },
     "metadata": {},
     "output_type": "display_data"
    },
    {
     "name": "stdout",
     "output_type": "stream",
     "text": [
      "Reading ../Data/SOBOL_DESIGNS_RANS/DESIGNS/DSN_0029/DIRECT/../config_DSN.cfg\n"
     ]
    },
    {
     "data": {
      "text/html": [
       "<pre style=\"white-space:pre;overflow-x:auto;line-height:normal;font-family:Menlo,'DejaVu Sans Mono',consolas,'Courier New',monospace\"><span style=\"color: #808000; text-decoration-color: #808000; font-weight: bold\">Warning:</span><span style=\"color: #808000; text-decoration-color: #808000\"> meshio does not support tags of string type.</span>\n",
       "<span style=\"color: #808000; text-decoration-color: #808000\">    Surface tag  AIRFOIL will be replaced by </span><span style=\"color: #808000; text-decoration-color: #808000; font-weight: bold\">1</span>\n",
       "</pre>\n"
      ],
      "text/plain": [
       "\u001b[1;33mWarning:\u001b[0m\u001b[33m meshio does not support tags of string type.\u001b[0m\n",
       "\u001b[33m    Surface tag  AIRFOIL will be replaced by \u001b[0m\u001b[1;33m1\u001b[0m\n"
      ]
     },
     "metadata": {},
     "output_type": "display_data"
    },
    {
     "data": {
      "text/html": [
       "<pre style=\"white-space:pre;overflow-x:auto;line-height:normal;font-family:Menlo,'DejaVu Sans Mono',consolas,'Courier New',monospace\"><span style=\"color: #808000; text-decoration-color: #808000; font-weight: bold\">Warning:</span><span style=\"color: #808000; text-decoration-color: #808000\"> meshio does not support tags of string type.</span>\n",
       "<span style=\"color: #808000; text-decoration-color: #808000\">    Surface tag  FARFIELD will be replaced by </span><span style=\"color: #808000; text-decoration-color: #808000; font-weight: bold\">2</span>\n",
       "</pre>\n"
      ],
      "text/plain": [
       "\u001b[1;33mWarning:\u001b[0m\u001b[33m meshio does not support tags of string type.\u001b[0m\n",
       "\u001b[33m    Surface tag  FARFIELD will be replaced by \u001b[0m\u001b[1;33m2\u001b[0m\n"
      ]
     },
     "metadata": {},
     "output_type": "display_data"
    },
    {
     "name": "stdout",
     "output_type": "stream",
     "text": [
      "Reading ../Data/SOBOL_DESIGNS_RANS/DESIGNS/DSN_0030/DIRECT/../config_DSN.cfg\n"
     ]
    },
    {
     "data": {
      "text/html": [
       "<pre style=\"white-space:pre;overflow-x:auto;line-height:normal;font-family:Menlo,'DejaVu Sans Mono',consolas,'Courier New',monospace\"><span style=\"color: #808000; text-decoration-color: #808000; font-weight: bold\">Warning:</span><span style=\"color: #808000; text-decoration-color: #808000\"> meshio does not support tags of string type.</span>\n",
       "<span style=\"color: #808000; text-decoration-color: #808000\">    Surface tag  AIRFOIL will be replaced by </span><span style=\"color: #808000; text-decoration-color: #808000; font-weight: bold\">1</span>\n",
       "</pre>\n"
      ],
      "text/plain": [
       "\u001b[1;33mWarning:\u001b[0m\u001b[33m meshio does not support tags of string type.\u001b[0m\n",
       "\u001b[33m    Surface tag  AIRFOIL will be replaced by \u001b[0m\u001b[1;33m1\u001b[0m\n"
      ]
     },
     "metadata": {},
     "output_type": "display_data"
    },
    {
     "data": {
      "text/html": [
       "<pre style=\"white-space:pre;overflow-x:auto;line-height:normal;font-family:Menlo,'DejaVu Sans Mono',consolas,'Courier New',monospace\"><span style=\"color: #808000; text-decoration-color: #808000; font-weight: bold\">Warning:</span><span style=\"color: #808000; text-decoration-color: #808000\"> meshio does not support tags of string type.</span>\n",
       "<span style=\"color: #808000; text-decoration-color: #808000\">    Surface tag  FARFIELD will be replaced by </span><span style=\"color: #808000; text-decoration-color: #808000; font-weight: bold\">2</span>\n",
       "</pre>\n"
      ],
      "text/plain": [
       "\u001b[1;33mWarning:\u001b[0m\u001b[33m meshio does not support tags of string type.\u001b[0m\n",
       "\u001b[33m    Surface tag  FARFIELD will be replaced by \u001b[0m\u001b[1;33m2\u001b[0m\n"
      ]
     },
     "metadata": {},
     "output_type": "display_data"
    },
    {
     "name": "stdout",
     "output_type": "stream",
     "text": [
      "Reading ../Data/SOBOL_DESIGNS_RANS/DESIGNS/DSN_0031/DIRECT/../config_DSN.cfg\n"
     ]
    },
    {
     "data": {
      "text/html": [
       "<pre style=\"white-space:pre;overflow-x:auto;line-height:normal;font-family:Menlo,'DejaVu Sans Mono',consolas,'Courier New',monospace\"><span style=\"color: #808000; text-decoration-color: #808000; font-weight: bold\">Warning:</span><span style=\"color: #808000; text-decoration-color: #808000\"> meshio does not support tags of string type.</span>\n",
       "<span style=\"color: #808000; text-decoration-color: #808000\">    Surface tag  AIRFOIL will be replaced by </span><span style=\"color: #808000; text-decoration-color: #808000; font-weight: bold\">1</span>\n",
       "</pre>\n"
      ],
      "text/plain": [
       "\u001b[1;33mWarning:\u001b[0m\u001b[33m meshio does not support tags of string type.\u001b[0m\n",
       "\u001b[33m    Surface tag  AIRFOIL will be replaced by \u001b[0m\u001b[1;33m1\u001b[0m\n"
      ]
     },
     "metadata": {},
     "output_type": "display_data"
    },
    {
     "data": {
      "text/html": [
       "<pre style=\"white-space:pre;overflow-x:auto;line-height:normal;font-family:Menlo,'DejaVu Sans Mono',consolas,'Courier New',monospace\"><span style=\"color: #808000; text-decoration-color: #808000; font-weight: bold\">Warning:</span><span style=\"color: #808000; text-decoration-color: #808000\"> meshio does not support tags of string type.</span>\n",
       "<span style=\"color: #808000; text-decoration-color: #808000\">    Surface tag  FARFIELD will be replaced by </span><span style=\"color: #808000; text-decoration-color: #808000; font-weight: bold\">2</span>\n",
       "</pre>\n"
      ],
      "text/plain": [
       "\u001b[1;33mWarning:\u001b[0m\u001b[33m meshio does not support tags of string type.\u001b[0m\n",
       "\u001b[33m    Surface tag  FARFIELD will be replaced by \u001b[0m\u001b[1;33m2\u001b[0m\n"
      ]
     },
     "metadata": {},
     "output_type": "display_data"
    },
    {
     "name": "stdout",
     "output_type": "stream",
     "text": [
      "Reading ../Data/SOBOL_DESIGNS_RANS/DESIGNS/DSN_0032/DIRECT/../config_DSN.cfg\n"
     ]
    },
    {
     "data": {
      "text/html": [
       "<pre style=\"white-space:pre;overflow-x:auto;line-height:normal;font-family:Menlo,'DejaVu Sans Mono',consolas,'Courier New',monospace\"><span style=\"color: #808000; text-decoration-color: #808000; font-weight: bold\">Warning:</span><span style=\"color: #808000; text-decoration-color: #808000\"> meshio does not support tags of string type.</span>\n",
       "<span style=\"color: #808000; text-decoration-color: #808000\">    Surface tag  AIRFOIL will be replaced by </span><span style=\"color: #808000; text-decoration-color: #808000; font-weight: bold\">1</span>\n",
       "</pre>\n"
      ],
      "text/plain": [
       "\u001b[1;33mWarning:\u001b[0m\u001b[33m meshio does not support tags of string type.\u001b[0m\n",
       "\u001b[33m    Surface tag  AIRFOIL will be replaced by \u001b[0m\u001b[1;33m1\u001b[0m\n"
      ]
     },
     "metadata": {},
     "output_type": "display_data"
    },
    {
     "data": {
      "text/html": [
       "<pre style=\"white-space:pre;overflow-x:auto;line-height:normal;font-family:Menlo,'DejaVu Sans Mono',consolas,'Courier New',monospace\"><span style=\"color: #808000; text-decoration-color: #808000; font-weight: bold\">Warning:</span><span style=\"color: #808000; text-decoration-color: #808000\"> meshio does not support tags of string type.</span>\n",
       "<span style=\"color: #808000; text-decoration-color: #808000\">    Surface tag  FARFIELD will be replaced by </span><span style=\"color: #808000; text-decoration-color: #808000; font-weight: bold\">2</span>\n",
       "</pre>\n"
      ],
      "text/plain": [
       "\u001b[1;33mWarning:\u001b[0m\u001b[33m meshio does not support tags of string type.\u001b[0m\n",
       "\u001b[33m    Surface tag  FARFIELD will be replaced by \u001b[0m\u001b[1;33m2\u001b[0m\n"
      ]
     },
     "metadata": {},
     "output_type": "display_data"
    },
    {
     "name": "stdout",
     "output_type": "stream",
     "text": [
      "Reading ../Data/SOBOL_DESIGNS_RANS/DESIGNS/DSN_0033/DIRECT/../config_DSN.cfg\n"
     ]
    },
    {
     "data": {
      "text/html": [
       "<pre style=\"white-space:pre;overflow-x:auto;line-height:normal;font-family:Menlo,'DejaVu Sans Mono',consolas,'Courier New',monospace\"><span style=\"color: #808000; text-decoration-color: #808000; font-weight: bold\">Warning:</span><span style=\"color: #808000; text-decoration-color: #808000\"> meshio does not support tags of string type.</span>\n",
       "<span style=\"color: #808000; text-decoration-color: #808000\">    Surface tag  AIRFOIL will be replaced by </span><span style=\"color: #808000; text-decoration-color: #808000; font-weight: bold\">1</span>\n",
       "</pre>\n"
      ],
      "text/plain": [
       "\u001b[1;33mWarning:\u001b[0m\u001b[33m meshio does not support tags of string type.\u001b[0m\n",
       "\u001b[33m    Surface tag  AIRFOIL will be replaced by \u001b[0m\u001b[1;33m1\u001b[0m\n"
      ]
     },
     "metadata": {},
     "output_type": "display_data"
    },
    {
     "data": {
      "text/html": [
       "<pre style=\"white-space:pre;overflow-x:auto;line-height:normal;font-family:Menlo,'DejaVu Sans Mono',consolas,'Courier New',monospace\"><span style=\"color: #808000; text-decoration-color: #808000; font-weight: bold\">Warning:</span><span style=\"color: #808000; text-decoration-color: #808000\"> meshio does not support tags of string type.</span>\n",
       "<span style=\"color: #808000; text-decoration-color: #808000\">    Surface tag  FARFIELD will be replaced by </span><span style=\"color: #808000; text-decoration-color: #808000; font-weight: bold\">2</span>\n",
       "</pre>\n"
      ],
      "text/plain": [
       "\u001b[1;33mWarning:\u001b[0m\u001b[33m meshio does not support tags of string type.\u001b[0m\n",
       "\u001b[33m    Surface tag  FARFIELD will be replaced by \u001b[0m\u001b[1;33m2\u001b[0m\n"
      ]
     },
     "metadata": {},
     "output_type": "display_data"
    },
    {
     "name": "stdout",
     "output_type": "stream",
     "text": [
      "Reading ../Data/SOBOL_DESIGNS_RANS/DESIGNS/DSN_0034/DIRECT/../config_DSN.cfg\n"
     ]
    },
    {
     "data": {
      "text/html": [
       "<pre style=\"white-space:pre;overflow-x:auto;line-height:normal;font-family:Menlo,'DejaVu Sans Mono',consolas,'Courier New',monospace\"><span style=\"color: #808000; text-decoration-color: #808000; font-weight: bold\">Warning:</span><span style=\"color: #808000; text-decoration-color: #808000\"> meshio does not support tags of string type.</span>\n",
       "<span style=\"color: #808000; text-decoration-color: #808000\">    Surface tag  AIRFOIL will be replaced by </span><span style=\"color: #808000; text-decoration-color: #808000; font-weight: bold\">1</span>\n",
       "</pre>\n"
      ],
      "text/plain": [
       "\u001b[1;33mWarning:\u001b[0m\u001b[33m meshio does not support tags of string type.\u001b[0m\n",
       "\u001b[33m    Surface tag  AIRFOIL will be replaced by \u001b[0m\u001b[1;33m1\u001b[0m\n"
      ]
     },
     "metadata": {},
     "output_type": "display_data"
    },
    {
     "data": {
      "text/html": [
       "<pre style=\"white-space:pre;overflow-x:auto;line-height:normal;font-family:Menlo,'DejaVu Sans Mono',consolas,'Courier New',monospace\"><span style=\"color: #808000; text-decoration-color: #808000; font-weight: bold\">Warning:</span><span style=\"color: #808000; text-decoration-color: #808000\"> meshio does not support tags of string type.</span>\n",
       "<span style=\"color: #808000; text-decoration-color: #808000\">    Surface tag  FARFIELD will be replaced by </span><span style=\"color: #808000; text-decoration-color: #808000; font-weight: bold\">2</span>\n",
       "</pre>\n"
      ],
      "text/plain": [
       "\u001b[1;33mWarning:\u001b[0m\u001b[33m meshio does not support tags of string type.\u001b[0m\n",
       "\u001b[33m    Surface tag  FARFIELD will be replaced by \u001b[0m\u001b[1;33m2\u001b[0m\n"
      ]
     },
     "metadata": {},
     "output_type": "display_data"
    },
    {
     "name": "stdout",
     "output_type": "stream",
     "text": [
      "Reading ../Data/SOBOL_DESIGNS_RANS/DESIGNS/DSN_0035/DIRECT/../config_DSN.cfg\n"
     ]
    },
    {
     "data": {
      "text/html": [
       "<pre style=\"white-space:pre;overflow-x:auto;line-height:normal;font-family:Menlo,'DejaVu Sans Mono',consolas,'Courier New',monospace\"><span style=\"color: #808000; text-decoration-color: #808000; font-weight: bold\">Warning:</span><span style=\"color: #808000; text-decoration-color: #808000\"> meshio does not support tags of string type.</span>\n",
       "<span style=\"color: #808000; text-decoration-color: #808000\">    Surface tag  AIRFOIL will be replaced by </span><span style=\"color: #808000; text-decoration-color: #808000; font-weight: bold\">1</span>\n",
       "</pre>\n"
      ],
      "text/plain": [
       "\u001b[1;33mWarning:\u001b[0m\u001b[33m meshio does not support tags of string type.\u001b[0m\n",
       "\u001b[33m    Surface tag  AIRFOIL will be replaced by \u001b[0m\u001b[1;33m1\u001b[0m\n"
      ]
     },
     "metadata": {},
     "output_type": "display_data"
    },
    {
     "data": {
      "text/html": [
       "<pre style=\"white-space:pre;overflow-x:auto;line-height:normal;font-family:Menlo,'DejaVu Sans Mono',consolas,'Courier New',monospace\"><span style=\"color: #808000; text-decoration-color: #808000; font-weight: bold\">Warning:</span><span style=\"color: #808000; text-decoration-color: #808000\"> meshio does not support tags of string type.</span>\n",
       "<span style=\"color: #808000; text-decoration-color: #808000\">    Surface tag  FARFIELD will be replaced by </span><span style=\"color: #808000; text-decoration-color: #808000; font-weight: bold\">2</span>\n",
       "</pre>\n"
      ],
      "text/plain": [
       "\u001b[1;33mWarning:\u001b[0m\u001b[33m meshio does not support tags of string type.\u001b[0m\n",
       "\u001b[33m    Surface tag  FARFIELD will be replaced by \u001b[0m\u001b[1;33m2\u001b[0m\n"
      ]
     },
     "metadata": {},
     "output_type": "display_data"
    },
    {
     "name": "stdout",
     "output_type": "stream",
     "text": [
      "Reading ../Data/SOBOL_DESIGNS_RANS/DESIGNS/DSN_0036/DIRECT/../config_DSN.cfg\n"
     ]
    },
    {
     "data": {
      "text/html": [
       "<pre style=\"white-space:pre;overflow-x:auto;line-height:normal;font-family:Menlo,'DejaVu Sans Mono',consolas,'Courier New',monospace\"><span style=\"color: #808000; text-decoration-color: #808000; font-weight: bold\">Warning:</span><span style=\"color: #808000; text-decoration-color: #808000\"> meshio does not support tags of string type.</span>\n",
       "<span style=\"color: #808000; text-decoration-color: #808000\">    Surface tag  AIRFOIL will be replaced by </span><span style=\"color: #808000; text-decoration-color: #808000; font-weight: bold\">1</span>\n",
       "</pre>\n"
      ],
      "text/plain": [
       "\u001b[1;33mWarning:\u001b[0m\u001b[33m meshio does not support tags of string type.\u001b[0m\n",
       "\u001b[33m    Surface tag  AIRFOIL will be replaced by \u001b[0m\u001b[1;33m1\u001b[0m\n"
      ]
     },
     "metadata": {},
     "output_type": "display_data"
    },
    {
     "data": {
      "text/html": [
       "<pre style=\"white-space:pre;overflow-x:auto;line-height:normal;font-family:Menlo,'DejaVu Sans Mono',consolas,'Courier New',monospace\"><span style=\"color: #808000; text-decoration-color: #808000; font-weight: bold\">Warning:</span><span style=\"color: #808000; text-decoration-color: #808000\"> meshio does not support tags of string type.</span>\n",
       "<span style=\"color: #808000; text-decoration-color: #808000\">    Surface tag  FARFIELD will be replaced by </span><span style=\"color: #808000; text-decoration-color: #808000; font-weight: bold\">2</span>\n",
       "</pre>\n"
      ],
      "text/plain": [
       "\u001b[1;33mWarning:\u001b[0m\u001b[33m meshio does not support tags of string type.\u001b[0m\n",
       "\u001b[33m    Surface tag  FARFIELD will be replaced by \u001b[0m\u001b[1;33m2\u001b[0m\n"
      ]
     },
     "metadata": {},
     "output_type": "display_data"
    },
    {
     "name": "stdout",
     "output_type": "stream",
     "text": [
      "Reading ../Data/SOBOL_DESIGNS_RANS/DESIGNS/DSN_0037/DIRECT/../config_DSN.cfg\n"
     ]
    },
    {
     "data": {
      "text/html": [
       "<pre style=\"white-space:pre;overflow-x:auto;line-height:normal;font-family:Menlo,'DejaVu Sans Mono',consolas,'Courier New',monospace\"><span style=\"color: #808000; text-decoration-color: #808000; font-weight: bold\">Warning:</span><span style=\"color: #808000; text-decoration-color: #808000\"> meshio does not support tags of string type.</span>\n",
       "<span style=\"color: #808000; text-decoration-color: #808000\">    Surface tag  AIRFOIL will be replaced by </span><span style=\"color: #808000; text-decoration-color: #808000; font-weight: bold\">1</span>\n",
       "</pre>\n"
      ],
      "text/plain": [
       "\u001b[1;33mWarning:\u001b[0m\u001b[33m meshio does not support tags of string type.\u001b[0m\n",
       "\u001b[33m    Surface tag  AIRFOIL will be replaced by \u001b[0m\u001b[1;33m1\u001b[0m\n"
      ]
     },
     "metadata": {},
     "output_type": "display_data"
    },
    {
     "data": {
      "text/html": [
       "<pre style=\"white-space:pre;overflow-x:auto;line-height:normal;font-family:Menlo,'DejaVu Sans Mono',consolas,'Courier New',monospace\"><span style=\"color: #808000; text-decoration-color: #808000; font-weight: bold\">Warning:</span><span style=\"color: #808000; text-decoration-color: #808000\"> meshio does not support tags of string type.</span>\n",
       "<span style=\"color: #808000; text-decoration-color: #808000\">    Surface tag  FARFIELD will be replaced by </span><span style=\"color: #808000; text-decoration-color: #808000; font-weight: bold\">2</span>\n",
       "</pre>\n"
      ],
      "text/plain": [
       "\u001b[1;33mWarning:\u001b[0m\u001b[33m meshio does not support tags of string type.\u001b[0m\n",
       "\u001b[33m    Surface tag  FARFIELD will be replaced by \u001b[0m\u001b[1;33m2\u001b[0m\n"
      ]
     },
     "metadata": {},
     "output_type": "display_data"
    },
    {
     "name": "stdout",
     "output_type": "stream",
     "text": [
      "Reading ../Data/SOBOL_DESIGNS_RANS/DESIGNS/DSN_0038/DIRECT/../config_DSN.cfg\n"
     ]
    },
    {
     "data": {
      "text/html": [
       "<pre style=\"white-space:pre;overflow-x:auto;line-height:normal;font-family:Menlo,'DejaVu Sans Mono',consolas,'Courier New',monospace\"><span style=\"color: #808000; text-decoration-color: #808000; font-weight: bold\">Warning:</span><span style=\"color: #808000; text-decoration-color: #808000\"> meshio does not support tags of string type.</span>\n",
       "<span style=\"color: #808000; text-decoration-color: #808000\">    Surface tag  AIRFOIL will be replaced by </span><span style=\"color: #808000; text-decoration-color: #808000; font-weight: bold\">1</span>\n",
       "</pre>\n"
      ],
      "text/plain": [
       "\u001b[1;33mWarning:\u001b[0m\u001b[33m meshio does not support tags of string type.\u001b[0m\n",
       "\u001b[33m    Surface tag  AIRFOIL will be replaced by \u001b[0m\u001b[1;33m1\u001b[0m\n"
      ]
     },
     "metadata": {},
     "output_type": "display_data"
    },
    {
     "data": {
      "text/html": [
       "<pre style=\"white-space:pre;overflow-x:auto;line-height:normal;font-family:Menlo,'DejaVu Sans Mono',consolas,'Courier New',monospace\"><span style=\"color: #808000; text-decoration-color: #808000; font-weight: bold\">Warning:</span><span style=\"color: #808000; text-decoration-color: #808000\"> meshio does not support tags of string type.</span>\n",
       "<span style=\"color: #808000; text-decoration-color: #808000\">    Surface tag  FARFIELD will be replaced by </span><span style=\"color: #808000; text-decoration-color: #808000; font-weight: bold\">2</span>\n",
       "</pre>\n"
      ],
      "text/plain": [
       "\u001b[1;33mWarning:\u001b[0m\u001b[33m meshio does not support tags of string type.\u001b[0m\n",
       "\u001b[33m    Surface tag  FARFIELD will be replaced by \u001b[0m\u001b[1;33m2\u001b[0m\n"
      ]
     },
     "metadata": {},
     "output_type": "display_data"
    },
    {
     "name": "stdout",
     "output_type": "stream",
     "text": [
      "Reading ../Data/SOBOL_DESIGNS_RANS/DESIGNS/DSN_0039/DIRECT/../config_DSN.cfg\n"
     ]
    },
    {
     "data": {
      "text/html": [
       "<pre style=\"white-space:pre;overflow-x:auto;line-height:normal;font-family:Menlo,'DejaVu Sans Mono',consolas,'Courier New',monospace\"><span style=\"color: #808000; text-decoration-color: #808000; font-weight: bold\">Warning:</span><span style=\"color: #808000; text-decoration-color: #808000\"> meshio does not support tags of string type.</span>\n",
       "<span style=\"color: #808000; text-decoration-color: #808000\">    Surface tag  AIRFOIL will be replaced by </span><span style=\"color: #808000; text-decoration-color: #808000; font-weight: bold\">1</span>\n",
       "</pre>\n"
      ],
      "text/plain": [
       "\u001b[1;33mWarning:\u001b[0m\u001b[33m meshio does not support tags of string type.\u001b[0m\n",
       "\u001b[33m    Surface tag  AIRFOIL will be replaced by \u001b[0m\u001b[1;33m1\u001b[0m\n"
      ]
     },
     "metadata": {},
     "output_type": "display_data"
    },
    {
     "data": {
      "text/html": [
       "<pre style=\"white-space:pre;overflow-x:auto;line-height:normal;font-family:Menlo,'DejaVu Sans Mono',consolas,'Courier New',monospace\"><span style=\"color: #808000; text-decoration-color: #808000; font-weight: bold\">Warning:</span><span style=\"color: #808000; text-decoration-color: #808000\"> meshio does not support tags of string type.</span>\n",
       "<span style=\"color: #808000; text-decoration-color: #808000\">    Surface tag  FARFIELD will be replaced by </span><span style=\"color: #808000; text-decoration-color: #808000; font-weight: bold\">2</span>\n",
       "</pre>\n"
      ],
      "text/plain": [
       "\u001b[1;33mWarning:\u001b[0m\u001b[33m meshio does not support tags of string type.\u001b[0m\n",
       "\u001b[33m    Surface tag  FARFIELD will be replaced by \u001b[0m\u001b[1;33m2\u001b[0m\n"
      ]
     },
     "metadata": {},
     "output_type": "display_data"
    },
    {
     "name": "stdout",
     "output_type": "stream",
     "text": [
      "Reading ../Data/SOBOL_DESIGNS_RANS/DESIGNS/DSN_0040/DIRECT/../config_DSN.cfg\n"
     ]
    },
    {
     "data": {
      "text/html": [
       "<pre style=\"white-space:pre;overflow-x:auto;line-height:normal;font-family:Menlo,'DejaVu Sans Mono',consolas,'Courier New',monospace\"><span style=\"color: #808000; text-decoration-color: #808000; font-weight: bold\">Warning:</span><span style=\"color: #808000; text-decoration-color: #808000\"> meshio does not support tags of string type.</span>\n",
       "<span style=\"color: #808000; text-decoration-color: #808000\">    Surface tag  AIRFOIL will be replaced by </span><span style=\"color: #808000; text-decoration-color: #808000; font-weight: bold\">1</span>\n",
       "</pre>\n"
      ],
      "text/plain": [
       "\u001b[1;33mWarning:\u001b[0m\u001b[33m meshio does not support tags of string type.\u001b[0m\n",
       "\u001b[33m    Surface tag  AIRFOIL will be replaced by \u001b[0m\u001b[1;33m1\u001b[0m\n"
      ]
     },
     "metadata": {},
     "output_type": "display_data"
    },
    {
     "data": {
      "text/html": [
       "<pre style=\"white-space:pre;overflow-x:auto;line-height:normal;font-family:Menlo,'DejaVu Sans Mono',consolas,'Courier New',monospace\"><span style=\"color: #808000; text-decoration-color: #808000; font-weight: bold\">Warning:</span><span style=\"color: #808000; text-decoration-color: #808000\"> meshio does not support tags of string type.</span>\n",
       "<span style=\"color: #808000; text-decoration-color: #808000\">    Surface tag  FARFIELD will be replaced by </span><span style=\"color: #808000; text-decoration-color: #808000; font-weight: bold\">2</span>\n",
       "</pre>\n"
      ],
      "text/plain": [
       "\u001b[1;33mWarning:\u001b[0m\u001b[33m meshio does not support tags of string type.\u001b[0m\n",
       "\u001b[33m    Surface tag  FARFIELD will be replaced by \u001b[0m\u001b[1;33m2\u001b[0m\n"
      ]
     },
     "metadata": {},
     "output_type": "display_data"
    },
    {
     "name": "stdout",
     "output_type": "stream",
     "text": [
      "Reading ../Data/SOBOL_DESIGNS_RANS/DESIGNS/DSN_0041/DIRECT/../config_DSN.cfg\n"
     ]
    },
    {
     "data": {
      "text/html": [
       "<pre style=\"white-space:pre;overflow-x:auto;line-height:normal;font-family:Menlo,'DejaVu Sans Mono',consolas,'Courier New',monospace\"><span style=\"color: #808000; text-decoration-color: #808000; font-weight: bold\">Warning:</span><span style=\"color: #808000; text-decoration-color: #808000\"> meshio does not support tags of string type.</span>\n",
       "<span style=\"color: #808000; text-decoration-color: #808000\">    Surface tag  AIRFOIL will be replaced by </span><span style=\"color: #808000; text-decoration-color: #808000; font-weight: bold\">1</span>\n",
       "</pre>\n"
      ],
      "text/plain": [
       "\u001b[1;33mWarning:\u001b[0m\u001b[33m meshio does not support tags of string type.\u001b[0m\n",
       "\u001b[33m    Surface tag  AIRFOIL will be replaced by \u001b[0m\u001b[1;33m1\u001b[0m\n"
      ]
     },
     "metadata": {},
     "output_type": "display_data"
    },
    {
     "data": {
      "text/html": [
       "<pre style=\"white-space:pre;overflow-x:auto;line-height:normal;font-family:Menlo,'DejaVu Sans Mono',consolas,'Courier New',monospace\"><span style=\"color: #808000; text-decoration-color: #808000; font-weight: bold\">Warning:</span><span style=\"color: #808000; text-decoration-color: #808000\"> meshio does not support tags of string type.</span>\n",
       "<span style=\"color: #808000; text-decoration-color: #808000\">    Surface tag  FARFIELD will be replaced by </span><span style=\"color: #808000; text-decoration-color: #808000; font-weight: bold\">2</span>\n",
       "</pre>\n"
      ],
      "text/plain": [
       "\u001b[1;33mWarning:\u001b[0m\u001b[33m meshio does not support tags of string type.\u001b[0m\n",
       "\u001b[33m    Surface tag  FARFIELD will be replaced by \u001b[0m\u001b[1;33m2\u001b[0m\n"
      ]
     },
     "metadata": {},
     "output_type": "display_data"
    },
    {
     "name": "stdout",
     "output_type": "stream",
     "text": [
      "Reading ../Data/SOBOL_DESIGNS_RANS/DESIGNS/DSN_0042/DIRECT/../config_DSN.cfg\n"
     ]
    },
    {
     "data": {
      "text/html": [
       "<pre style=\"white-space:pre;overflow-x:auto;line-height:normal;font-family:Menlo,'DejaVu Sans Mono',consolas,'Courier New',monospace\"><span style=\"color: #808000; text-decoration-color: #808000; font-weight: bold\">Warning:</span><span style=\"color: #808000; text-decoration-color: #808000\"> meshio does not support tags of string type.</span>\n",
       "<span style=\"color: #808000; text-decoration-color: #808000\">    Surface tag  AIRFOIL will be replaced by </span><span style=\"color: #808000; text-decoration-color: #808000; font-weight: bold\">1</span>\n",
       "</pre>\n"
      ],
      "text/plain": [
       "\u001b[1;33mWarning:\u001b[0m\u001b[33m meshio does not support tags of string type.\u001b[0m\n",
       "\u001b[33m    Surface tag  AIRFOIL will be replaced by \u001b[0m\u001b[1;33m1\u001b[0m\n"
      ]
     },
     "metadata": {},
     "output_type": "display_data"
    },
    {
     "data": {
      "text/html": [
       "<pre style=\"white-space:pre;overflow-x:auto;line-height:normal;font-family:Menlo,'DejaVu Sans Mono',consolas,'Courier New',monospace\"><span style=\"color: #808000; text-decoration-color: #808000; font-weight: bold\">Warning:</span><span style=\"color: #808000; text-decoration-color: #808000\"> meshio does not support tags of string type.</span>\n",
       "<span style=\"color: #808000; text-decoration-color: #808000\">    Surface tag  FARFIELD will be replaced by </span><span style=\"color: #808000; text-decoration-color: #808000; font-weight: bold\">2</span>\n",
       "</pre>\n"
      ],
      "text/plain": [
       "\u001b[1;33mWarning:\u001b[0m\u001b[33m meshio does not support tags of string type.\u001b[0m\n",
       "\u001b[33m    Surface tag  FARFIELD will be replaced by \u001b[0m\u001b[1;33m2\u001b[0m\n"
      ]
     },
     "metadata": {},
     "output_type": "display_data"
    },
    {
     "name": "stdout",
     "output_type": "stream",
     "text": [
      "Reading ../Data/SOBOL_DESIGNS_RANS/DESIGNS/DSN_0043/DIRECT/../config_DSN.cfg\n"
     ]
    },
    {
     "data": {
      "text/html": [
       "<pre style=\"white-space:pre;overflow-x:auto;line-height:normal;font-family:Menlo,'DejaVu Sans Mono',consolas,'Courier New',monospace\"><span style=\"color: #808000; text-decoration-color: #808000; font-weight: bold\">Warning:</span><span style=\"color: #808000; text-decoration-color: #808000\"> meshio does not support tags of string type.</span>\n",
       "<span style=\"color: #808000; text-decoration-color: #808000\">    Surface tag  AIRFOIL will be replaced by </span><span style=\"color: #808000; text-decoration-color: #808000; font-weight: bold\">1</span>\n",
       "</pre>\n"
      ],
      "text/plain": [
       "\u001b[1;33mWarning:\u001b[0m\u001b[33m meshio does not support tags of string type.\u001b[0m\n",
       "\u001b[33m    Surface tag  AIRFOIL will be replaced by \u001b[0m\u001b[1;33m1\u001b[0m\n"
      ]
     },
     "metadata": {},
     "output_type": "display_data"
    },
    {
     "data": {
      "text/html": [
       "<pre style=\"white-space:pre;overflow-x:auto;line-height:normal;font-family:Menlo,'DejaVu Sans Mono',consolas,'Courier New',monospace\"><span style=\"color: #808000; text-decoration-color: #808000; font-weight: bold\">Warning:</span><span style=\"color: #808000; text-decoration-color: #808000\"> meshio does not support tags of string type.</span>\n",
       "<span style=\"color: #808000; text-decoration-color: #808000\">    Surface tag  FARFIELD will be replaced by </span><span style=\"color: #808000; text-decoration-color: #808000; font-weight: bold\">2</span>\n",
       "</pre>\n"
      ],
      "text/plain": [
       "\u001b[1;33mWarning:\u001b[0m\u001b[33m meshio does not support tags of string type.\u001b[0m\n",
       "\u001b[33m    Surface tag  FARFIELD will be replaced by \u001b[0m\u001b[1;33m2\u001b[0m\n"
      ]
     },
     "metadata": {},
     "output_type": "display_data"
    },
    {
     "name": "stdout",
     "output_type": "stream",
     "text": [
      "Reading ../Data/SOBOL_DESIGNS_RANS/DESIGNS/DSN_0044/DIRECT/../config_DSN.cfg\n"
     ]
    },
    {
     "data": {
      "text/html": [
       "<pre style=\"white-space:pre;overflow-x:auto;line-height:normal;font-family:Menlo,'DejaVu Sans Mono',consolas,'Courier New',monospace\"><span style=\"color: #808000; text-decoration-color: #808000; font-weight: bold\">Warning:</span><span style=\"color: #808000; text-decoration-color: #808000\"> meshio does not support tags of string type.</span>\n",
       "<span style=\"color: #808000; text-decoration-color: #808000\">    Surface tag  AIRFOIL will be replaced by </span><span style=\"color: #808000; text-decoration-color: #808000; font-weight: bold\">1</span>\n",
       "</pre>\n"
      ],
      "text/plain": [
       "\u001b[1;33mWarning:\u001b[0m\u001b[33m meshio does not support tags of string type.\u001b[0m\n",
       "\u001b[33m    Surface tag  AIRFOIL will be replaced by \u001b[0m\u001b[1;33m1\u001b[0m\n"
      ]
     },
     "metadata": {},
     "output_type": "display_data"
    },
    {
     "data": {
      "text/html": [
       "<pre style=\"white-space:pre;overflow-x:auto;line-height:normal;font-family:Menlo,'DejaVu Sans Mono',consolas,'Courier New',monospace\"><span style=\"color: #808000; text-decoration-color: #808000; font-weight: bold\">Warning:</span><span style=\"color: #808000; text-decoration-color: #808000\"> meshio does not support tags of string type.</span>\n",
       "<span style=\"color: #808000; text-decoration-color: #808000\">    Surface tag  FARFIELD will be replaced by </span><span style=\"color: #808000; text-decoration-color: #808000; font-weight: bold\">2</span>\n",
       "</pre>\n"
      ],
      "text/plain": [
       "\u001b[1;33mWarning:\u001b[0m\u001b[33m meshio does not support tags of string type.\u001b[0m\n",
       "\u001b[33m    Surface tag  FARFIELD will be replaced by \u001b[0m\u001b[1;33m2\u001b[0m\n"
      ]
     },
     "metadata": {},
     "output_type": "display_data"
    },
    {
     "name": "stdout",
     "output_type": "stream",
     "text": [
      "Reading ../Data/SOBOL_DESIGNS_RANS/DESIGNS/DSN_0045/DIRECT/../config_DSN.cfg\n"
     ]
    },
    {
     "data": {
      "text/html": [
       "<pre style=\"white-space:pre;overflow-x:auto;line-height:normal;font-family:Menlo,'DejaVu Sans Mono',consolas,'Courier New',monospace\"><span style=\"color: #808000; text-decoration-color: #808000; font-weight: bold\">Warning:</span><span style=\"color: #808000; text-decoration-color: #808000\"> meshio does not support tags of string type.</span>\n",
       "<span style=\"color: #808000; text-decoration-color: #808000\">    Surface tag  AIRFOIL will be replaced by </span><span style=\"color: #808000; text-decoration-color: #808000; font-weight: bold\">1</span>\n",
       "</pre>\n"
      ],
      "text/plain": [
       "\u001b[1;33mWarning:\u001b[0m\u001b[33m meshio does not support tags of string type.\u001b[0m\n",
       "\u001b[33m    Surface tag  AIRFOIL will be replaced by \u001b[0m\u001b[1;33m1\u001b[0m\n"
      ]
     },
     "metadata": {},
     "output_type": "display_data"
    },
    {
     "data": {
      "text/html": [
       "<pre style=\"white-space:pre;overflow-x:auto;line-height:normal;font-family:Menlo,'DejaVu Sans Mono',consolas,'Courier New',monospace\"><span style=\"color: #808000; text-decoration-color: #808000; font-weight: bold\">Warning:</span><span style=\"color: #808000; text-decoration-color: #808000\"> meshio does not support tags of string type.</span>\n",
       "<span style=\"color: #808000; text-decoration-color: #808000\">    Surface tag  FARFIELD will be replaced by </span><span style=\"color: #808000; text-decoration-color: #808000; font-weight: bold\">2</span>\n",
       "</pre>\n"
      ],
      "text/plain": [
       "\u001b[1;33mWarning:\u001b[0m\u001b[33m meshio does not support tags of string type.\u001b[0m\n",
       "\u001b[33m    Surface tag  FARFIELD will be replaced by \u001b[0m\u001b[1;33m2\u001b[0m\n"
      ]
     },
     "metadata": {},
     "output_type": "display_data"
    },
    {
     "name": "stdout",
     "output_type": "stream",
     "text": [
      "Reading ../Data/SOBOL_DESIGNS_RANS/DESIGNS/DSN_0046/DIRECT/../config_DSN.cfg\n"
     ]
    },
    {
     "data": {
      "text/html": [
       "<pre style=\"white-space:pre;overflow-x:auto;line-height:normal;font-family:Menlo,'DejaVu Sans Mono',consolas,'Courier New',monospace\"><span style=\"color: #808000; text-decoration-color: #808000; font-weight: bold\">Warning:</span><span style=\"color: #808000; text-decoration-color: #808000\"> meshio does not support tags of string type.</span>\n",
       "<span style=\"color: #808000; text-decoration-color: #808000\">    Surface tag  AIRFOIL will be replaced by </span><span style=\"color: #808000; text-decoration-color: #808000; font-weight: bold\">1</span>\n",
       "</pre>\n"
      ],
      "text/plain": [
       "\u001b[1;33mWarning:\u001b[0m\u001b[33m meshio does not support tags of string type.\u001b[0m\n",
       "\u001b[33m    Surface tag  AIRFOIL will be replaced by \u001b[0m\u001b[1;33m1\u001b[0m\n"
      ]
     },
     "metadata": {},
     "output_type": "display_data"
    },
    {
     "data": {
      "text/html": [
       "<pre style=\"white-space:pre;overflow-x:auto;line-height:normal;font-family:Menlo,'DejaVu Sans Mono',consolas,'Courier New',monospace\"><span style=\"color: #808000; text-decoration-color: #808000; font-weight: bold\">Warning:</span><span style=\"color: #808000; text-decoration-color: #808000\"> meshio does not support tags of string type.</span>\n",
       "<span style=\"color: #808000; text-decoration-color: #808000\">    Surface tag  FARFIELD will be replaced by </span><span style=\"color: #808000; text-decoration-color: #808000; font-weight: bold\">2</span>\n",
       "</pre>\n"
      ],
      "text/plain": [
       "\u001b[1;33mWarning:\u001b[0m\u001b[33m meshio does not support tags of string type.\u001b[0m\n",
       "\u001b[33m    Surface tag  FARFIELD will be replaced by \u001b[0m\u001b[1;33m2\u001b[0m\n"
      ]
     },
     "metadata": {},
     "output_type": "display_data"
    },
    {
     "name": "stdout",
     "output_type": "stream",
     "text": [
      "Reading ../Data/SOBOL_DESIGNS_RANS/DESIGNS/DSN_0047/DIRECT/../config_DSN.cfg\n"
     ]
    },
    {
     "data": {
      "text/html": [
       "<pre style=\"white-space:pre;overflow-x:auto;line-height:normal;font-family:Menlo,'DejaVu Sans Mono',consolas,'Courier New',monospace\"><span style=\"color: #808000; text-decoration-color: #808000; font-weight: bold\">Warning:</span><span style=\"color: #808000; text-decoration-color: #808000\"> meshio does not support tags of string type.</span>\n",
       "<span style=\"color: #808000; text-decoration-color: #808000\">    Surface tag  AIRFOIL will be replaced by </span><span style=\"color: #808000; text-decoration-color: #808000; font-weight: bold\">1</span>\n",
       "</pre>\n"
      ],
      "text/plain": [
       "\u001b[1;33mWarning:\u001b[0m\u001b[33m meshio does not support tags of string type.\u001b[0m\n",
       "\u001b[33m    Surface tag  AIRFOIL will be replaced by \u001b[0m\u001b[1;33m1\u001b[0m\n"
      ]
     },
     "metadata": {},
     "output_type": "display_data"
    },
    {
     "data": {
      "text/html": [
       "<pre style=\"white-space:pre;overflow-x:auto;line-height:normal;font-family:Menlo,'DejaVu Sans Mono',consolas,'Courier New',monospace\"><span style=\"color: #808000; text-decoration-color: #808000; font-weight: bold\">Warning:</span><span style=\"color: #808000; text-decoration-color: #808000\"> meshio does not support tags of string type.</span>\n",
       "<span style=\"color: #808000; text-decoration-color: #808000\">    Surface tag  FARFIELD will be replaced by </span><span style=\"color: #808000; text-decoration-color: #808000; font-weight: bold\">2</span>\n",
       "</pre>\n"
      ],
      "text/plain": [
       "\u001b[1;33mWarning:\u001b[0m\u001b[33m meshio does not support tags of string type.\u001b[0m\n",
       "\u001b[33m    Surface tag  FARFIELD will be replaced by \u001b[0m\u001b[1;33m2\u001b[0m\n"
      ]
     },
     "metadata": {},
     "output_type": "display_data"
    },
    {
     "name": "stdout",
     "output_type": "stream",
     "text": [
      "Reading ../Data/SOBOL_DESIGNS_RANS/DESIGNS/DSN_0048/DIRECT/../config_DSN.cfg\n"
     ]
    },
    {
     "data": {
      "text/html": [
       "<pre style=\"white-space:pre;overflow-x:auto;line-height:normal;font-family:Menlo,'DejaVu Sans Mono',consolas,'Courier New',monospace\"><span style=\"color: #808000; text-decoration-color: #808000; font-weight: bold\">Warning:</span><span style=\"color: #808000; text-decoration-color: #808000\"> meshio does not support tags of string type.</span>\n",
       "<span style=\"color: #808000; text-decoration-color: #808000\">    Surface tag  AIRFOIL will be replaced by </span><span style=\"color: #808000; text-decoration-color: #808000; font-weight: bold\">1</span>\n",
       "</pre>\n"
      ],
      "text/plain": [
       "\u001b[1;33mWarning:\u001b[0m\u001b[33m meshio does not support tags of string type.\u001b[0m\n",
       "\u001b[33m    Surface tag  AIRFOIL will be replaced by \u001b[0m\u001b[1;33m1\u001b[0m\n"
      ]
     },
     "metadata": {},
     "output_type": "display_data"
    },
    {
     "data": {
      "text/html": [
       "<pre style=\"white-space:pre;overflow-x:auto;line-height:normal;font-family:Menlo,'DejaVu Sans Mono',consolas,'Courier New',monospace\"><span style=\"color: #808000; text-decoration-color: #808000; font-weight: bold\">Warning:</span><span style=\"color: #808000; text-decoration-color: #808000\"> meshio does not support tags of string type.</span>\n",
       "<span style=\"color: #808000; text-decoration-color: #808000\">    Surface tag  FARFIELD will be replaced by </span><span style=\"color: #808000; text-decoration-color: #808000; font-weight: bold\">2</span>\n",
       "</pre>\n"
      ],
      "text/plain": [
       "\u001b[1;33mWarning:\u001b[0m\u001b[33m meshio does not support tags of string type.\u001b[0m\n",
       "\u001b[33m    Surface tag  FARFIELD will be replaced by \u001b[0m\u001b[1;33m2\u001b[0m\n"
      ]
     },
     "metadata": {},
     "output_type": "display_data"
    },
    {
     "name": "stdout",
     "output_type": "stream",
     "text": [
      "Reading ../Data/SOBOL_DESIGNS_RANS/DESIGNS/DSN_0049/DIRECT/../config_DSN.cfg\n"
     ]
    },
    {
     "data": {
      "text/html": [
       "<pre style=\"white-space:pre;overflow-x:auto;line-height:normal;font-family:Menlo,'DejaVu Sans Mono',consolas,'Courier New',monospace\"><span style=\"color: #808000; text-decoration-color: #808000; font-weight: bold\">Warning:</span><span style=\"color: #808000; text-decoration-color: #808000\"> meshio does not support tags of string type.</span>\n",
       "<span style=\"color: #808000; text-decoration-color: #808000\">    Surface tag  AIRFOIL will be replaced by </span><span style=\"color: #808000; text-decoration-color: #808000; font-weight: bold\">1</span>\n",
       "</pre>\n"
      ],
      "text/plain": [
       "\u001b[1;33mWarning:\u001b[0m\u001b[33m meshio does not support tags of string type.\u001b[0m\n",
       "\u001b[33m    Surface tag  AIRFOIL will be replaced by \u001b[0m\u001b[1;33m1\u001b[0m\n"
      ]
     },
     "metadata": {},
     "output_type": "display_data"
    },
    {
     "data": {
      "text/html": [
       "<pre style=\"white-space:pre;overflow-x:auto;line-height:normal;font-family:Menlo,'DejaVu Sans Mono',consolas,'Courier New',monospace\"><span style=\"color: #808000; text-decoration-color: #808000; font-weight: bold\">Warning:</span><span style=\"color: #808000; text-decoration-color: #808000\"> meshio does not support tags of string type.</span>\n",
       "<span style=\"color: #808000; text-decoration-color: #808000\">    Surface tag  FARFIELD will be replaced by </span><span style=\"color: #808000; text-decoration-color: #808000; font-weight: bold\">2</span>\n",
       "</pre>\n"
      ],
      "text/plain": [
       "\u001b[1;33mWarning:\u001b[0m\u001b[33m meshio does not support tags of string type.\u001b[0m\n",
       "\u001b[33m    Surface tag  FARFIELD will be replaced by \u001b[0m\u001b[1;33m2\u001b[0m\n"
      ]
     },
     "metadata": {},
     "output_type": "display_data"
    },
    {
     "name": "stdout",
     "output_type": "stream",
     "text": [
      "Reading ../Data/SOBOL_DESIGNS_RANS/DESIGNS/DSN_0050/DIRECT/../config_DSN.cfg\n"
     ]
    },
    {
     "data": {
      "text/html": [
       "<pre style=\"white-space:pre;overflow-x:auto;line-height:normal;font-family:Menlo,'DejaVu Sans Mono',consolas,'Courier New',monospace\"><span style=\"color: #808000; text-decoration-color: #808000; font-weight: bold\">Warning:</span><span style=\"color: #808000; text-decoration-color: #808000\"> meshio does not support tags of string type.</span>\n",
       "<span style=\"color: #808000; text-decoration-color: #808000\">    Surface tag  AIRFOIL will be replaced by </span><span style=\"color: #808000; text-decoration-color: #808000; font-weight: bold\">1</span>\n",
       "</pre>\n"
      ],
      "text/plain": [
       "\u001b[1;33mWarning:\u001b[0m\u001b[33m meshio does not support tags of string type.\u001b[0m\n",
       "\u001b[33m    Surface tag  AIRFOIL will be replaced by \u001b[0m\u001b[1;33m1\u001b[0m\n"
      ]
     },
     "metadata": {},
     "output_type": "display_data"
    },
    {
     "data": {
      "text/html": [
       "<pre style=\"white-space:pre;overflow-x:auto;line-height:normal;font-family:Menlo,'DejaVu Sans Mono',consolas,'Courier New',monospace\"><span style=\"color: #808000; text-decoration-color: #808000; font-weight: bold\">Warning:</span><span style=\"color: #808000; text-decoration-color: #808000\"> meshio does not support tags of string type.</span>\n",
       "<span style=\"color: #808000; text-decoration-color: #808000\">    Surface tag  FARFIELD will be replaced by </span><span style=\"color: #808000; text-decoration-color: #808000; font-weight: bold\">2</span>\n",
       "</pre>\n"
      ],
      "text/plain": [
       "\u001b[1;33mWarning:\u001b[0m\u001b[33m meshio does not support tags of string type.\u001b[0m\n",
       "\u001b[33m    Surface tag  FARFIELD will be replaced by \u001b[0m\u001b[1;33m2\u001b[0m\n"
      ]
     },
     "metadata": {},
     "output_type": "display_data"
    },
    {
     "name": "stdout",
     "output_type": "stream",
     "text": [
      "Reading ../Data/SOBOL_DESIGNS_RANS/DESIGNS/DSN_0051/DIRECT/../config_DSN.cfg\n"
     ]
    },
    {
     "data": {
      "text/html": [
       "<pre style=\"white-space:pre;overflow-x:auto;line-height:normal;font-family:Menlo,'DejaVu Sans Mono',consolas,'Courier New',monospace\"><span style=\"color: #808000; text-decoration-color: #808000; font-weight: bold\">Warning:</span><span style=\"color: #808000; text-decoration-color: #808000\"> meshio does not support tags of string type.</span>\n",
       "<span style=\"color: #808000; text-decoration-color: #808000\">    Surface tag  AIRFOIL will be replaced by </span><span style=\"color: #808000; text-decoration-color: #808000; font-weight: bold\">1</span>\n",
       "</pre>\n"
      ],
      "text/plain": [
       "\u001b[1;33mWarning:\u001b[0m\u001b[33m meshio does not support tags of string type.\u001b[0m\n",
       "\u001b[33m    Surface tag  AIRFOIL will be replaced by \u001b[0m\u001b[1;33m1\u001b[0m\n"
      ]
     },
     "metadata": {},
     "output_type": "display_data"
    },
    {
     "data": {
      "text/html": [
       "<pre style=\"white-space:pre;overflow-x:auto;line-height:normal;font-family:Menlo,'DejaVu Sans Mono',consolas,'Courier New',monospace\"><span style=\"color: #808000; text-decoration-color: #808000; font-weight: bold\">Warning:</span><span style=\"color: #808000; text-decoration-color: #808000\"> meshio does not support tags of string type.</span>\n",
       "<span style=\"color: #808000; text-decoration-color: #808000\">    Surface tag  FARFIELD will be replaced by </span><span style=\"color: #808000; text-decoration-color: #808000; font-weight: bold\">2</span>\n",
       "</pre>\n"
      ],
      "text/plain": [
       "\u001b[1;33mWarning:\u001b[0m\u001b[33m meshio does not support tags of string type.\u001b[0m\n",
       "\u001b[33m    Surface tag  FARFIELD will be replaced by \u001b[0m\u001b[1;33m2\u001b[0m\n"
      ]
     },
     "metadata": {},
     "output_type": "display_data"
    },
    {
     "name": "stdout",
     "output_type": "stream",
     "text": [
      "Reading ../Data/SOBOL_DESIGNS_RANS/DESIGNS/DSN_0052/DIRECT/../config_DSN.cfg\n"
     ]
    },
    {
     "data": {
      "text/html": [
       "<pre style=\"white-space:pre;overflow-x:auto;line-height:normal;font-family:Menlo,'DejaVu Sans Mono',consolas,'Courier New',monospace\"><span style=\"color: #808000; text-decoration-color: #808000; font-weight: bold\">Warning:</span><span style=\"color: #808000; text-decoration-color: #808000\"> meshio does not support tags of string type.</span>\n",
       "<span style=\"color: #808000; text-decoration-color: #808000\">    Surface tag  AIRFOIL will be replaced by </span><span style=\"color: #808000; text-decoration-color: #808000; font-weight: bold\">1</span>\n",
       "</pre>\n"
      ],
      "text/plain": [
       "\u001b[1;33mWarning:\u001b[0m\u001b[33m meshio does not support tags of string type.\u001b[0m\n",
       "\u001b[33m    Surface tag  AIRFOIL will be replaced by \u001b[0m\u001b[1;33m1\u001b[0m\n"
      ]
     },
     "metadata": {},
     "output_type": "display_data"
    },
    {
     "data": {
      "text/html": [
       "<pre style=\"white-space:pre;overflow-x:auto;line-height:normal;font-family:Menlo,'DejaVu Sans Mono',consolas,'Courier New',monospace\"><span style=\"color: #808000; text-decoration-color: #808000; font-weight: bold\">Warning:</span><span style=\"color: #808000; text-decoration-color: #808000\"> meshio does not support tags of string type.</span>\n",
       "<span style=\"color: #808000; text-decoration-color: #808000\">    Surface tag  FARFIELD will be replaced by </span><span style=\"color: #808000; text-decoration-color: #808000; font-weight: bold\">2</span>\n",
       "</pre>\n"
      ],
      "text/plain": [
       "\u001b[1;33mWarning:\u001b[0m\u001b[33m meshio does not support tags of string type.\u001b[0m\n",
       "\u001b[33m    Surface tag  FARFIELD will be replaced by \u001b[0m\u001b[1;33m2\u001b[0m\n"
      ]
     },
     "metadata": {},
     "output_type": "display_data"
    },
    {
     "name": "stdout",
     "output_type": "stream",
     "text": [
      "Reading ../Data/SOBOL_DESIGNS_RANS/DESIGNS/DSN_0053/DIRECT/../config_DSN.cfg\n"
     ]
    },
    {
     "data": {
      "text/html": [
       "<pre style=\"white-space:pre;overflow-x:auto;line-height:normal;font-family:Menlo,'DejaVu Sans Mono',consolas,'Courier New',monospace\"><span style=\"color: #808000; text-decoration-color: #808000; font-weight: bold\">Warning:</span><span style=\"color: #808000; text-decoration-color: #808000\"> meshio does not support tags of string type.</span>\n",
       "<span style=\"color: #808000; text-decoration-color: #808000\">    Surface tag  AIRFOIL will be replaced by </span><span style=\"color: #808000; text-decoration-color: #808000; font-weight: bold\">1</span>\n",
       "</pre>\n"
      ],
      "text/plain": [
       "\u001b[1;33mWarning:\u001b[0m\u001b[33m meshio does not support tags of string type.\u001b[0m\n",
       "\u001b[33m    Surface tag  AIRFOIL will be replaced by \u001b[0m\u001b[1;33m1\u001b[0m\n"
      ]
     },
     "metadata": {},
     "output_type": "display_data"
    },
    {
     "data": {
      "text/html": [
       "<pre style=\"white-space:pre;overflow-x:auto;line-height:normal;font-family:Menlo,'DejaVu Sans Mono',consolas,'Courier New',monospace\"><span style=\"color: #808000; text-decoration-color: #808000; font-weight: bold\">Warning:</span><span style=\"color: #808000; text-decoration-color: #808000\"> meshio does not support tags of string type.</span>\n",
       "<span style=\"color: #808000; text-decoration-color: #808000\">    Surface tag  FARFIELD will be replaced by </span><span style=\"color: #808000; text-decoration-color: #808000; font-weight: bold\">2</span>\n",
       "</pre>\n"
      ],
      "text/plain": [
       "\u001b[1;33mWarning:\u001b[0m\u001b[33m meshio does not support tags of string type.\u001b[0m\n",
       "\u001b[33m    Surface tag  FARFIELD will be replaced by \u001b[0m\u001b[1;33m2\u001b[0m\n"
      ]
     },
     "metadata": {},
     "output_type": "display_data"
    },
    {
     "name": "stdout",
     "output_type": "stream",
     "text": [
      "Reading ../Data/SOBOL_DESIGNS_RANS/DESIGNS/DSN_0054/DIRECT/../config_DSN.cfg\n"
     ]
    },
    {
     "data": {
      "text/html": [
       "<pre style=\"white-space:pre;overflow-x:auto;line-height:normal;font-family:Menlo,'DejaVu Sans Mono',consolas,'Courier New',monospace\"><span style=\"color: #808000; text-decoration-color: #808000; font-weight: bold\">Warning:</span><span style=\"color: #808000; text-decoration-color: #808000\"> meshio does not support tags of string type.</span>\n",
       "<span style=\"color: #808000; text-decoration-color: #808000\">    Surface tag  AIRFOIL will be replaced by </span><span style=\"color: #808000; text-decoration-color: #808000; font-weight: bold\">1</span>\n",
       "</pre>\n"
      ],
      "text/plain": [
       "\u001b[1;33mWarning:\u001b[0m\u001b[33m meshio does not support tags of string type.\u001b[0m\n",
       "\u001b[33m    Surface tag  AIRFOIL will be replaced by \u001b[0m\u001b[1;33m1\u001b[0m\n"
      ]
     },
     "metadata": {},
     "output_type": "display_data"
    },
    {
     "data": {
      "text/html": [
       "<pre style=\"white-space:pre;overflow-x:auto;line-height:normal;font-family:Menlo,'DejaVu Sans Mono',consolas,'Courier New',monospace\"><span style=\"color: #808000; text-decoration-color: #808000; font-weight: bold\">Warning:</span><span style=\"color: #808000; text-decoration-color: #808000\"> meshio does not support tags of string type.</span>\n",
       "<span style=\"color: #808000; text-decoration-color: #808000\">    Surface tag  FARFIELD will be replaced by </span><span style=\"color: #808000; text-decoration-color: #808000; font-weight: bold\">2</span>\n",
       "</pre>\n"
      ],
      "text/plain": [
       "\u001b[1;33mWarning:\u001b[0m\u001b[33m meshio does not support tags of string type.\u001b[0m\n",
       "\u001b[33m    Surface tag  FARFIELD will be replaced by \u001b[0m\u001b[1;33m2\u001b[0m\n"
      ]
     },
     "metadata": {},
     "output_type": "display_data"
    },
    {
     "name": "stdout",
     "output_type": "stream",
     "text": [
      "Reading ../Data/SOBOL_DESIGNS_RANS/DESIGNS/DSN_0055/DIRECT/../config_DSN.cfg\n"
     ]
    },
    {
     "data": {
      "text/html": [
       "<pre style=\"white-space:pre;overflow-x:auto;line-height:normal;font-family:Menlo,'DejaVu Sans Mono',consolas,'Courier New',monospace\"><span style=\"color: #808000; text-decoration-color: #808000; font-weight: bold\">Warning:</span><span style=\"color: #808000; text-decoration-color: #808000\"> meshio does not support tags of string type.</span>\n",
       "<span style=\"color: #808000; text-decoration-color: #808000\">    Surface tag  AIRFOIL will be replaced by </span><span style=\"color: #808000; text-decoration-color: #808000; font-weight: bold\">1</span>\n",
       "</pre>\n"
      ],
      "text/plain": [
       "\u001b[1;33mWarning:\u001b[0m\u001b[33m meshio does not support tags of string type.\u001b[0m\n",
       "\u001b[33m    Surface tag  AIRFOIL will be replaced by \u001b[0m\u001b[1;33m1\u001b[0m\n"
      ]
     },
     "metadata": {},
     "output_type": "display_data"
    },
    {
     "data": {
      "text/html": [
       "<pre style=\"white-space:pre;overflow-x:auto;line-height:normal;font-family:Menlo,'DejaVu Sans Mono',consolas,'Courier New',monospace\"><span style=\"color: #808000; text-decoration-color: #808000; font-weight: bold\">Warning:</span><span style=\"color: #808000; text-decoration-color: #808000\"> meshio does not support tags of string type.</span>\n",
       "<span style=\"color: #808000; text-decoration-color: #808000\">    Surface tag  FARFIELD will be replaced by </span><span style=\"color: #808000; text-decoration-color: #808000; font-weight: bold\">2</span>\n",
       "</pre>\n"
      ],
      "text/plain": [
       "\u001b[1;33mWarning:\u001b[0m\u001b[33m meshio does not support tags of string type.\u001b[0m\n",
       "\u001b[33m    Surface tag  FARFIELD will be replaced by \u001b[0m\u001b[1;33m2\u001b[0m\n"
      ]
     },
     "metadata": {},
     "output_type": "display_data"
    },
    {
     "name": "stdout",
     "output_type": "stream",
     "text": [
      "Reading ../Data/SOBOL_DESIGNS_RANS/DESIGNS/DSN_0056/DIRECT/../config_DSN.cfg\n"
     ]
    },
    {
     "data": {
      "text/html": [
       "<pre style=\"white-space:pre;overflow-x:auto;line-height:normal;font-family:Menlo,'DejaVu Sans Mono',consolas,'Courier New',monospace\"><span style=\"color: #808000; text-decoration-color: #808000; font-weight: bold\">Warning:</span><span style=\"color: #808000; text-decoration-color: #808000\"> meshio does not support tags of string type.</span>\n",
       "<span style=\"color: #808000; text-decoration-color: #808000\">    Surface tag  AIRFOIL will be replaced by </span><span style=\"color: #808000; text-decoration-color: #808000; font-weight: bold\">1</span>\n",
       "</pre>\n"
      ],
      "text/plain": [
       "\u001b[1;33mWarning:\u001b[0m\u001b[33m meshio does not support tags of string type.\u001b[0m\n",
       "\u001b[33m    Surface tag  AIRFOIL will be replaced by \u001b[0m\u001b[1;33m1\u001b[0m\n"
      ]
     },
     "metadata": {},
     "output_type": "display_data"
    },
    {
     "data": {
      "text/html": [
       "<pre style=\"white-space:pre;overflow-x:auto;line-height:normal;font-family:Menlo,'DejaVu Sans Mono',consolas,'Courier New',monospace\"><span style=\"color: #808000; text-decoration-color: #808000; font-weight: bold\">Warning:</span><span style=\"color: #808000; text-decoration-color: #808000\"> meshio does not support tags of string type.</span>\n",
       "<span style=\"color: #808000; text-decoration-color: #808000\">    Surface tag  FARFIELD will be replaced by </span><span style=\"color: #808000; text-decoration-color: #808000; font-weight: bold\">2</span>\n",
       "</pre>\n"
      ],
      "text/plain": [
       "\u001b[1;33mWarning:\u001b[0m\u001b[33m meshio does not support tags of string type.\u001b[0m\n",
       "\u001b[33m    Surface tag  FARFIELD will be replaced by \u001b[0m\u001b[1;33m2\u001b[0m\n"
      ]
     },
     "metadata": {},
     "output_type": "display_data"
    },
    {
     "name": "stdout",
     "output_type": "stream",
     "text": [
      "Reading ../Data/SOBOL_DESIGNS_RANS/DESIGNS/DSN_0057/DIRECT/../config_DSN.cfg\n"
     ]
    },
    {
     "data": {
      "text/html": [
       "<pre style=\"white-space:pre;overflow-x:auto;line-height:normal;font-family:Menlo,'DejaVu Sans Mono',consolas,'Courier New',monospace\"><span style=\"color: #808000; text-decoration-color: #808000; font-weight: bold\">Warning:</span><span style=\"color: #808000; text-decoration-color: #808000\"> meshio does not support tags of string type.</span>\n",
       "<span style=\"color: #808000; text-decoration-color: #808000\">    Surface tag  AIRFOIL will be replaced by </span><span style=\"color: #808000; text-decoration-color: #808000; font-weight: bold\">1</span>\n",
       "</pre>\n"
      ],
      "text/plain": [
       "\u001b[1;33mWarning:\u001b[0m\u001b[33m meshio does not support tags of string type.\u001b[0m\n",
       "\u001b[33m    Surface tag  AIRFOIL will be replaced by \u001b[0m\u001b[1;33m1\u001b[0m\n"
      ]
     },
     "metadata": {},
     "output_type": "display_data"
    },
    {
     "data": {
      "text/html": [
       "<pre style=\"white-space:pre;overflow-x:auto;line-height:normal;font-family:Menlo,'DejaVu Sans Mono',consolas,'Courier New',monospace\"><span style=\"color: #808000; text-decoration-color: #808000; font-weight: bold\">Warning:</span><span style=\"color: #808000; text-decoration-color: #808000\"> meshio does not support tags of string type.</span>\n",
       "<span style=\"color: #808000; text-decoration-color: #808000\">    Surface tag  FARFIELD will be replaced by </span><span style=\"color: #808000; text-decoration-color: #808000; font-weight: bold\">2</span>\n",
       "</pre>\n"
      ],
      "text/plain": [
       "\u001b[1;33mWarning:\u001b[0m\u001b[33m meshio does not support tags of string type.\u001b[0m\n",
       "\u001b[33m    Surface tag  FARFIELD will be replaced by \u001b[0m\u001b[1;33m2\u001b[0m\n"
      ]
     },
     "metadata": {},
     "output_type": "display_data"
    },
    {
     "name": "stdout",
     "output_type": "stream",
     "text": [
      "Reading ../Data/SOBOL_DESIGNS_RANS/DESIGNS/DSN_0058/DIRECT/../config_DSN.cfg\n"
     ]
    },
    {
     "data": {
      "text/html": [
       "<pre style=\"white-space:pre;overflow-x:auto;line-height:normal;font-family:Menlo,'DejaVu Sans Mono',consolas,'Courier New',monospace\"><span style=\"color: #808000; text-decoration-color: #808000; font-weight: bold\">Warning:</span><span style=\"color: #808000; text-decoration-color: #808000\"> meshio does not support tags of string type.</span>\n",
       "<span style=\"color: #808000; text-decoration-color: #808000\">    Surface tag  AIRFOIL will be replaced by </span><span style=\"color: #808000; text-decoration-color: #808000; font-weight: bold\">1</span>\n",
       "</pre>\n"
      ],
      "text/plain": [
       "\u001b[1;33mWarning:\u001b[0m\u001b[33m meshio does not support tags of string type.\u001b[0m\n",
       "\u001b[33m    Surface tag  AIRFOIL will be replaced by \u001b[0m\u001b[1;33m1\u001b[0m\n"
      ]
     },
     "metadata": {},
     "output_type": "display_data"
    },
    {
     "data": {
      "text/html": [
       "<pre style=\"white-space:pre;overflow-x:auto;line-height:normal;font-family:Menlo,'DejaVu Sans Mono',consolas,'Courier New',monospace\"><span style=\"color: #808000; text-decoration-color: #808000; font-weight: bold\">Warning:</span><span style=\"color: #808000; text-decoration-color: #808000\"> meshio does not support tags of string type.</span>\n",
       "<span style=\"color: #808000; text-decoration-color: #808000\">    Surface tag  FARFIELD will be replaced by </span><span style=\"color: #808000; text-decoration-color: #808000; font-weight: bold\">2</span>\n",
       "</pre>\n"
      ],
      "text/plain": [
       "\u001b[1;33mWarning:\u001b[0m\u001b[33m meshio does not support tags of string type.\u001b[0m\n",
       "\u001b[33m    Surface tag  FARFIELD will be replaced by \u001b[0m\u001b[1;33m2\u001b[0m\n"
      ]
     },
     "metadata": {},
     "output_type": "display_data"
    },
    {
     "name": "stdout",
     "output_type": "stream",
     "text": [
      "Reading ../Data/SOBOL_DESIGNS_RANS/DESIGNS/DSN_0059/DIRECT/../config_DSN.cfg\n"
     ]
    },
    {
     "data": {
      "text/html": [
       "<pre style=\"white-space:pre;overflow-x:auto;line-height:normal;font-family:Menlo,'DejaVu Sans Mono',consolas,'Courier New',monospace\"><span style=\"color: #808000; text-decoration-color: #808000; font-weight: bold\">Warning:</span><span style=\"color: #808000; text-decoration-color: #808000\"> meshio does not support tags of string type.</span>\n",
       "<span style=\"color: #808000; text-decoration-color: #808000\">    Surface tag  AIRFOIL will be replaced by </span><span style=\"color: #808000; text-decoration-color: #808000; font-weight: bold\">1</span>\n",
       "</pre>\n"
      ],
      "text/plain": [
       "\u001b[1;33mWarning:\u001b[0m\u001b[33m meshio does not support tags of string type.\u001b[0m\n",
       "\u001b[33m    Surface tag  AIRFOIL will be replaced by \u001b[0m\u001b[1;33m1\u001b[0m\n"
      ]
     },
     "metadata": {},
     "output_type": "display_data"
    },
    {
     "data": {
      "text/html": [
       "<pre style=\"white-space:pre;overflow-x:auto;line-height:normal;font-family:Menlo,'DejaVu Sans Mono',consolas,'Courier New',monospace\"><span style=\"color: #808000; text-decoration-color: #808000; font-weight: bold\">Warning:</span><span style=\"color: #808000; text-decoration-color: #808000\"> meshio does not support tags of string type.</span>\n",
       "<span style=\"color: #808000; text-decoration-color: #808000\">    Surface tag  FARFIELD will be replaced by </span><span style=\"color: #808000; text-decoration-color: #808000; font-weight: bold\">2</span>\n",
       "</pre>\n"
      ],
      "text/plain": [
       "\u001b[1;33mWarning:\u001b[0m\u001b[33m meshio does not support tags of string type.\u001b[0m\n",
       "\u001b[33m    Surface tag  FARFIELD will be replaced by \u001b[0m\u001b[1;33m2\u001b[0m\n"
      ]
     },
     "metadata": {},
     "output_type": "display_data"
    },
    {
     "name": "stdout",
     "output_type": "stream",
     "text": [
      "Reading ../Data/SOBOL_DESIGNS_RANS/DESIGNS/DSN_0060/DIRECT/../config_DSN.cfg\n"
     ]
    },
    {
     "data": {
      "text/html": [
       "<pre style=\"white-space:pre;overflow-x:auto;line-height:normal;font-family:Menlo,'DejaVu Sans Mono',consolas,'Courier New',monospace\"><span style=\"color: #808000; text-decoration-color: #808000; font-weight: bold\">Warning:</span><span style=\"color: #808000; text-decoration-color: #808000\"> meshio does not support tags of string type.</span>\n",
       "<span style=\"color: #808000; text-decoration-color: #808000\">    Surface tag  AIRFOIL will be replaced by </span><span style=\"color: #808000; text-decoration-color: #808000; font-weight: bold\">1</span>\n",
       "</pre>\n"
      ],
      "text/plain": [
       "\u001b[1;33mWarning:\u001b[0m\u001b[33m meshio does not support tags of string type.\u001b[0m\n",
       "\u001b[33m    Surface tag  AIRFOIL will be replaced by \u001b[0m\u001b[1;33m1\u001b[0m\n"
      ]
     },
     "metadata": {},
     "output_type": "display_data"
    },
    {
     "data": {
      "text/html": [
       "<pre style=\"white-space:pre;overflow-x:auto;line-height:normal;font-family:Menlo,'DejaVu Sans Mono',consolas,'Courier New',monospace\"><span style=\"color: #808000; text-decoration-color: #808000; font-weight: bold\">Warning:</span><span style=\"color: #808000; text-decoration-color: #808000\"> meshio does not support tags of string type.</span>\n",
       "<span style=\"color: #808000; text-decoration-color: #808000\">    Surface tag  FARFIELD will be replaced by </span><span style=\"color: #808000; text-decoration-color: #808000; font-weight: bold\">2</span>\n",
       "</pre>\n"
      ],
      "text/plain": [
       "\u001b[1;33mWarning:\u001b[0m\u001b[33m meshio does not support tags of string type.\u001b[0m\n",
       "\u001b[33m    Surface tag  FARFIELD will be replaced by \u001b[0m\u001b[1;33m2\u001b[0m\n"
      ]
     },
     "metadata": {},
     "output_type": "display_data"
    },
    {
     "name": "stdout",
     "output_type": "stream",
     "text": [
      "Reading ../Data/SOBOL_DESIGNS_RANS/DESIGNS/DSN_0061/DIRECT/../config_DSN.cfg\n"
     ]
    },
    {
     "data": {
      "text/html": [
       "<pre style=\"white-space:pre;overflow-x:auto;line-height:normal;font-family:Menlo,'DejaVu Sans Mono',consolas,'Courier New',monospace\"><span style=\"color: #808000; text-decoration-color: #808000; font-weight: bold\">Warning:</span><span style=\"color: #808000; text-decoration-color: #808000\"> meshio does not support tags of string type.</span>\n",
       "<span style=\"color: #808000; text-decoration-color: #808000\">    Surface tag  AIRFOIL will be replaced by </span><span style=\"color: #808000; text-decoration-color: #808000; font-weight: bold\">1</span>\n",
       "</pre>\n"
      ],
      "text/plain": [
       "\u001b[1;33mWarning:\u001b[0m\u001b[33m meshio does not support tags of string type.\u001b[0m\n",
       "\u001b[33m    Surface tag  AIRFOIL will be replaced by \u001b[0m\u001b[1;33m1\u001b[0m\n"
      ]
     },
     "metadata": {},
     "output_type": "display_data"
    },
    {
     "data": {
      "text/html": [
       "<pre style=\"white-space:pre;overflow-x:auto;line-height:normal;font-family:Menlo,'DejaVu Sans Mono',consolas,'Courier New',monospace\"><span style=\"color: #808000; text-decoration-color: #808000; font-weight: bold\">Warning:</span><span style=\"color: #808000; text-decoration-color: #808000\"> meshio does not support tags of string type.</span>\n",
       "<span style=\"color: #808000; text-decoration-color: #808000\">    Surface tag  FARFIELD will be replaced by </span><span style=\"color: #808000; text-decoration-color: #808000; font-weight: bold\">2</span>\n",
       "</pre>\n"
      ],
      "text/plain": [
       "\u001b[1;33mWarning:\u001b[0m\u001b[33m meshio does not support tags of string type.\u001b[0m\n",
       "\u001b[33m    Surface tag  FARFIELD will be replaced by \u001b[0m\u001b[1;33m2\u001b[0m\n"
      ]
     },
     "metadata": {},
     "output_type": "display_data"
    },
    {
     "name": "stdout",
     "output_type": "stream",
     "text": [
      "Reading ../Data/SOBOL_DESIGNS_RANS/DESIGNS/DSN_0062/DIRECT/../config_DSN.cfg\n"
     ]
    },
    {
     "data": {
      "text/html": [
       "<pre style=\"white-space:pre;overflow-x:auto;line-height:normal;font-family:Menlo,'DejaVu Sans Mono',consolas,'Courier New',monospace\"><span style=\"color: #808000; text-decoration-color: #808000; font-weight: bold\">Warning:</span><span style=\"color: #808000; text-decoration-color: #808000\"> meshio does not support tags of string type.</span>\n",
       "<span style=\"color: #808000; text-decoration-color: #808000\">    Surface tag  AIRFOIL will be replaced by </span><span style=\"color: #808000; text-decoration-color: #808000; font-weight: bold\">1</span>\n",
       "</pre>\n"
      ],
      "text/plain": [
       "\u001b[1;33mWarning:\u001b[0m\u001b[33m meshio does not support tags of string type.\u001b[0m\n",
       "\u001b[33m    Surface tag  AIRFOIL will be replaced by \u001b[0m\u001b[1;33m1\u001b[0m\n"
      ]
     },
     "metadata": {},
     "output_type": "display_data"
    },
    {
     "data": {
      "text/html": [
       "<pre style=\"white-space:pre;overflow-x:auto;line-height:normal;font-family:Menlo,'DejaVu Sans Mono',consolas,'Courier New',monospace\"><span style=\"color: #808000; text-decoration-color: #808000; font-weight: bold\">Warning:</span><span style=\"color: #808000; text-decoration-color: #808000\"> meshio does not support tags of string type.</span>\n",
       "<span style=\"color: #808000; text-decoration-color: #808000\">    Surface tag  FARFIELD will be replaced by </span><span style=\"color: #808000; text-decoration-color: #808000; font-weight: bold\">2</span>\n",
       "</pre>\n"
      ],
      "text/plain": [
       "\u001b[1;33mWarning:\u001b[0m\u001b[33m meshio does not support tags of string type.\u001b[0m\n",
       "\u001b[33m    Surface tag  FARFIELD will be replaced by \u001b[0m\u001b[1;33m2\u001b[0m\n"
      ]
     },
     "metadata": {},
     "output_type": "display_data"
    },
    {
     "name": "stdout",
     "output_type": "stream",
     "text": [
      "Reading ../Data/SOBOL_DESIGNS_RANS/DESIGNS/DSN_0063/DIRECT/../config_DSN.cfg\n"
     ]
    },
    {
     "data": {
      "text/html": [
       "<pre style=\"white-space:pre;overflow-x:auto;line-height:normal;font-family:Menlo,'DejaVu Sans Mono',consolas,'Courier New',monospace\"><span style=\"color: #808000; text-decoration-color: #808000; font-weight: bold\">Warning:</span><span style=\"color: #808000; text-decoration-color: #808000\"> meshio does not support tags of string type.</span>\n",
       "<span style=\"color: #808000; text-decoration-color: #808000\">    Surface tag  AIRFOIL will be replaced by </span><span style=\"color: #808000; text-decoration-color: #808000; font-weight: bold\">1</span>\n",
       "</pre>\n"
      ],
      "text/plain": [
       "\u001b[1;33mWarning:\u001b[0m\u001b[33m meshio does not support tags of string type.\u001b[0m\n",
       "\u001b[33m    Surface tag  AIRFOIL will be replaced by \u001b[0m\u001b[1;33m1\u001b[0m\n"
      ]
     },
     "metadata": {},
     "output_type": "display_data"
    },
    {
     "data": {
      "text/html": [
       "<pre style=\"white-space:pre;overflow-x:auto;line-height:normal;font-family:Menlo,'DejaVu Sans Mono',consolas,'Courier New',monospace\"><span style=\"color: #808000; text-decoration-color: #808000; font-weight: bold\">Warning:</span><span style=\"color: #808000; text-decoration-color: #808000\"> meshio does not support tags of string type.</span>\n",
       "<span style=\"color: #808000; text-decoration-color: #808000\">    Surface tag  FARFIELD will be replaced by </span><span style=\"color: #808000; text-decoration-color: #808000; font-weight: bold\">2</span>\n",
       "</pre>\n"
      ],
      "text/plain": [
       "\u001b[1;33mWarning:\u001b[0m\u001b[33m meshio does not support tags of string type.\u001b[0m\n",
       "\u001b[33m    Surface tag  FARFIELD will be replaced by \u001b[0m\u001b[1;33m2\u001b[0m\n"
      ]
     },
     "metadata": {},
     "output_type": "display_data"
    },
    {
     "name": "stdout",
     "output_type": "stream",
     "text": [
      "Reading ../Data/SOBOL_DESIGNS_RANS/DESIGNS/DSN_0064/DIRECT/../config_DSN.cfg\n"
     ]
    },
    {
     "data": {
      "text/html": [
       "<pre style=\"white-space:pre;overflow-x:auto;line-height:normal;font-family:Menlo,'DejaVu Sans Mono',consolas,'Courier New',monospace\"><span style=\"color: #808000; text-decoration-color: #808000; font-weight: bold\">Warning:</span><span style=\"color: #808000; text-decoration-color: #808000\"> meshio does not support tags of string type.</span>\n",
       "<span style=\"color: #808000; text-decoration-color: #808000\">    Surface tag  AIRFOIL will be replaced by </span><span style=\"color: #808000; text-decoration-color: #808000; font-weight: bold\">1</span>\n",
       "</pre>\n"
      ],
      "text/plain": [
       "\u001b[1;33mWarning:\u001b[0m\u001b[33m meshio does not support tags of string type.\u001b[0m\n",
       "\u001b[33m    Surface tag  AIRFOIL will be replaced by \u001b[0m\u001b[1;33m1\u001b[0m\n"
      ]
     },
     "metadata": {},
     "output_type": "display_data"
    },
    {
     "data": {
      "text/html": [
       "<pre style=\"white-space:pre;overflow-x:auto;line-height:normal;font-family:Menlo,'DejaVu Sans Mono',consolas,'Courier New',monospace\"><span style=\"color: #808000; text-decoration-color: #808000; font-weight: bold\">Warning:</span><span style=\"color: #808000; text-decoration-color: #808000\"> meshio does not support tags of string type.</span>\n",
       "<span style=\"color: #808000; text-decoration-color: #808000\">    Surface tag  FARFIELD will be replaced by </span><span style=\"color: #808000; text-decoration-color: #808000; font-weight: bold\">2</span>\n",
       "</pre>\n"
      ],
      "text/plain": [
       "\u001b[1;33mWarning:\u001b[0m\u001b[33m meshio does not support tags of string type.\u001b[0m\n",
       "\u001b[33m    Surface tag  FARFIELD will be replaced by \u001b[0m\u001b[1;33m2\u001b[0m\n"
      ]
     },
     "metadata": {},
     "output_type": "display_data"
    },
    {
     "name": "stdout",
     "output_type": "stream",
     "text": [
      "Reading ../Data/SOBOL_DESIGNS_RANS/DESIGNS/DSN_0065/DIRECT/../config_DSN.cfg\n"
     ]
    },
    {
     "data": {
      "text/html": [
       "<pre style=\"white-space:pre;overflow-x:auto;line-height:normal;font-family:Menlo,'DejaVu Sans Mono',consolas,'Courier New',monospace\"><span style=\"color: #808000; text-decoration-color: #808000; font-weight: bold\">Warning:</span><span style=\"color: #808000; text-decoration-color: #808000\"> meshio does not support tags of string type.</span>\n",
       "<span style=\"color: #808000; text-decoration-color: #808000\">    Surface tag  AIRFOIL will be replaced by </span><span style=\"color: #808000; text-decoration-color: #808000; font-weight: bold\">1</span>\n",
       "</pre>\n"
      ],
      "text/plain": [
       "\u001b[1;33mWarning:\u001b[0m\u001b[33m meshio does not support tags of string type.\u001b[0m\n",
       "\u001b[33m    Surface tag  AIRFOIL will be replaced by \u001b[0m\u001b[1;33m1\u001b[0m\n"
      ]
     },
     "metadata": {},
     "output_type": "display_data"
    },
    {
     "data": {
      "text/html": [
       "<pre style=\"white-space:pre;overflow-x:auto;line-height:normal;font-family:Menlo,'DejaVu Sans Mono',consolas,'Courier New',monospace\"><span style=\"color: #808000; text-decoration-color: #808000; font-weight: bold\">Warning:</span><span style=\"color: #808000; text-decoration-color: #808000\"> meshio does not support tags of string type.</span>\n",
       "<span style=\"color: #808000; text-decoration-color: #808000\">    Surface tag  FARFIELD will be replaced by </span><span style=\"color: #808000; text-decoration-color: #808000; font-weight: bold\">2</span>\n",
       "</pre>\n"
      ],
      "text/plain": [
       "\u001b[1;33mWarning:\u001b[0m\u001b[33m meshio does not support tags of string type.\u001b[0m\n",
       "\u001b[33m    Surface tag  FARFIELD will be replaced by \u001b[0m\u001b[1;33m2\u001b[0m\n"
      ]
     },
     "metadata": {},
     "output_type": "display_data"
    },
    {
     "name": "stdout",
     "output_type": "stream",
     "text": [
      "Reading ../Data/SOBOL_DESIGNS_RANS/DESIGNS/DSN_0066/DIRECT/../config_DSN.cfg\n"
     ]
    },
    {
     "data": {
      "text/html": [
       "<pre style=\"white-space:pre;overflow-x:auto;line-height:normal;font-family:Menlo,'DejaVu Sans Mono',consolas,'Courier New',monospace\"><span style=\"color: #808000; text-decoration-color: #808000; font-weight: bold\">Warning:</span><span style=\"color: #808000; text-decoration-color: #808000\"> meshio does not support tags of string type.</span>\n",
       "<span style=\"color: #808000; text-decoration-color: #808000\">    Surface tag  AIRFOIL will be replaced by </span><span style=\"color: #808000; text-decoration-color: #808000; font-weight: bold\">1</span>\n",
       "</pre>\n"
      ],
      "text/plain": [
       "\u001b[1;33mWarning:\u001b[0m\u001b[33m meshio does not support tags of string type.\u001b[0m\n",
       "\u001b[33m    Surface tag  AIRFOIL will be replaced by \u001b[0m\u001b[1;33m1\u001b[0m\n"
      ]
     },
     "metadata": {},
     "output_type": "display_data"
    },
    {
     "data": {
      "text/html": [
       "<pre style=\"white-space:pre;overflow-x:auto;line-height:normal;font-family:Menlo,'DejaVu Sans Mono',consolas,'Courier New',monospace\"><span style=\"color: #808000; text-decoration-color: #808000; font-weight: bold\">Warning:</span><span style=\"color: #808000; text-decoration-color: #808000\"> meshio does not support tags of string type.</span>\n",
       "<span style=\"color: #808000; text-decoration-color: #808000\">    Surface tag  FARFIELD will be replaced by </span><span style=\"color: #808000; text-decoration-color: #808000; font-weight: bold\">2</span>\n",
       "</pre>\n"
      ],
      "text/plain": [
       "\u001b[1;33mWarning:\u001b[0m\u001b[33m meshio does not support tags of string type.\u001b[0m\n",
       "\u001b[33m    Surface tag  FARFIELD will be replaced by \u001b[0m\u001b[1;33m2\u001b[0m\n"
      ]
     },
     "metadata": {},
     "output_type": "display_data"
    },
    {
     "name": "stdout",
     "output_type": "stream",
     "text": [
      "Reading ../Data/SOBOL_DESIGNS_RANS/DESIGNS/DSN_0067/DIRECT/../config_DSN.cfg\n"
     ]
    },
    {
     "data": {
      "text/html": [
       "<pre style=\"white-space:pre;overflow-x:auto;line-height:normal;font-family:Menlo,'DejaVu Sans Mono',consolas,'Courier New',monospace\"><span style=\"color: #808000; text-decoration-color: #808000; font-weight: bold\">Warning:</span><span style=\"color: #808000; text-decoration-color: #808000\"> meshio does not support tags of string type.</span>\n",
       "<span style=\"color: #808000; text-decoration-color: #808000\">    Surface tag  AIRFOIL will be replaced by </span><span style=\"color: #808000; text-decoration-color: #808000; font-weight: bold\">1</span>\n",
       "</pre>\n"
      ],
      "text/plain": [
       "\u001b[1;33mWarning:\u001b[0m\u001b[33m meshio does not support tags of string type.\u001b[0m\n",
       "\u001b[33m    Surface tag  AIRFOIL will be replaced by \u001b[0m\u001b[1;33m1\u001b[0m\n"
      ]
     },
     "metadata": {},
     "output_type": "display_data"
    },
    {
     "data": {
      "text/html": [
       "<pre style=\"white-space:pre;overflow-x:auto;line-height:normal;font-family:Menlo,'DejaVu Sans Mono',consolas,'Courier New',monospace\"><span style=\"color: #808000; text-decoration-color: #808000; font-weight: bold\">Warning:</span><span style=\"color: #808000; text-decoration-color: #808000\"> meshio does not support tags of string type.</span>\n",
       "<span style=\"color: #808000; text-decoration-color: #808000\">    Surface tag  FARFIELD will be replaced by </span><span style=\"color: #808000; text-decoration-color: #808000; font-weight: bold\">2</span>\n",
       "</pre>\n"
      ],
      "text/plain": [
       "\u001b[1;33mWarning:\u001b[0m\u001b[33m meshio does not support tags of string type.\u001b[0m\n",
       "\u001b[33m    Surface tag  FARFIELD will be replaced by \u001b[0m\u001b[1;33m2\u001b[0m\n"
      ]
     },
     "metadata": {},
     "output_type": "display_data"
    },
    {
     "name": "stdout",
     "output_type": "stream",
     "text": [
      "Reading ../Data/SOBOL_DESIGNS_RANS/DESIGNS/DSN_0068/DIRECT/../config_DSN.cfg\n"
     ]
    },
    {
     "data": {
      "text/html": [
       "<pre style=\"white-space:pre;overflow-x:auto;line-height:normal;font-family:Menlo,'DejaVu Sans Mono',consolas,'Courier New',monospace\"><span style=\"color: #808000; text-decoration-color: #808000; font-weight: bold\">Warning:</span><span style=\"color: #808000; text-decoration-color: #808000\"> meshio does not support tags of string type.</span>\n",
       "<span style=\"color: #808000; text-decoration-color: #808000\">    Surface tag  AIRFOIL will be replaced by </span><span style=\"color: #808000; text-decoration-color: #808000; font-weight: bold\">1</span>\n",
       "</pre>\n"
      ],
      "text/plain": [
       "\u001b[1;33mWarning:\u001b[0m\u001b[33m meshio does not support tags of string type.\u001b[0m\n",
       "\u001b[33m    Surface tag  AIRFOIL will be replaced by \u001b[0m\u001b[1;33m1\u001b[0m\n"
      ]
     },
     "metadata": {},
     "output_type": "display_data"
    },
    {
     "data": {
      "text/html": [
       "<pre style=\"white-space:pre;overflow-x:auto;line-height:normal;font-family:Menlo,'DejaVu Sans Mono',consolas,'Courier New',monospace\"><span style=\"color: #808000; text-decoration-color: #808000; font-weight: bold\">Warning:</span><span style=\"color: #808000; text-decoration-color: #808000\"> meshio does not support tags of string type.</span>\n",
       "<span style=\"color: #808000; text-decoration-color: #808000\">    Surface tag  FARFIELD will be replaced by </span><span style=\"color: #808000; text-decoration-color: #808000; font-weight: bold\">2</span>\n",
       "</pre>\n"
      ],
      "text/plain": [
       "\u001b[1;33mWarning:\u001b[0m\u001b[33m meshio does not support tags of string type.\u001b[0m\n",
       "\u001b[33m    Surface tag  FARFIELD will be replaced by \u001b[0m\u001b[1;33m2\u001b[0m\n"
      ]
     },
     "metadata": {},
     "output_type": "display_data"
    },
    {
     "name": "stdout",
     "output_type": "stream",
     "text": [
      "Reading ../Data/SOBOL_DESIGNS_RANS/DESIGNS/DSN_0069/DIRECT/../config_DSN.cfg\n"
     ]
    },
    {
     "data": {
      "text/html": [
       "<pre style=\"white-space:pre;overflow-x:auto;line-height:normal;font-family:Menlo,'DejaVu Sans Mono',consolas,'Courier New',monospace\"><span style=\"color: #808000; text-decoration-color: #808000; font-weight: bold\">Warning:</span><span style=\"color: #808000; text-decoration-color: #808000\"> meshio does not support tags of string type.</span>\n",
       "<span style=\"color: #808000; text-decoration-color: #808000\">    Surface tag  AIRFOIL will be replaced by </span><span style=\"color: #808000; text-decoration-color: #808000; font-weight: bold\">1</span>\n",
       "</pre>\n"
      ],
      "text/plain": [
       "\u001b[1;33mWarning:\u001b[0m\u001b[33m meshio does not support tags of string type.\u001b[0m\n",
       "\u001b[33m    Surface tag  AIRFOIL will be replaced by \u001b[0m\u001b[1;33m1\u001b[0m\n"
      ]
     },
     "metadata": {},
     "output_type": "display_data"
    },
    {
     "data": {
      "text/html": [
       "<pre style=\"white-space:pre;overflow-x:auto;line-height:normal;font-family:Menlo,'DejaVu Sans Mono',consolas,'Courier New',monospace\"><span style=\"color: #808000; text-decoration-color: #808000; font-weight: bold\">Warning:</span><span style=\"color: #808000; text-decoration-color: #808000\"> meshio does not support tags of string type.</span>\n",
       "<span style=\"color: #808000; text-decoration-color: #808000\">    Surface tag  FARFIELD will be replaced by </span><span style=\"color: #808000; text-decoration-color: #808000; font-weight: bold\">2</span>\n",
       "</pre>\n"
      ],
      "text/plain": [
       "\u001b[1;33mWarning:\u001b[0m\u001b[33m meshio does not support tags of string type.\u001b[0m\n",
       "\u001b[33m    Surface tag  FARFIELD will be replaced by \u001b[0m\u001b[1;33m2\u001b[0m\n"
      ]
     },
     "metadata": {},
     "output_type": "display_data"
    },
    {
     "name": "stdout",
     "output_type": "stream",
     "text": [
      "Reading ../Data/SOBOL_DESIGNS_RANS/DESIGNS/DSN_0070/DIRECT/../config_DSN.cfg\n"
     ]
    },
    {
     "data": {
      "text/html": [
       "<pre style=\"white-space:pre;overflow-x:auto;line-height:normal;font-family:Menlo,'DejaVu Sans Mono',consolas,'Courier New',monospace\"><span style=\"color: #808000; text-decoration-color: #808000; font-weight: bold\">Warning:</span><span style=\"color: #808000; text-decoration-color: #808000\"> meshio does not support tags of string type.</span>\n",
       "<span style=\"color: #808000; text-decoration-color: #808000\">    Surface tag  AIRFOIL will be replaced by </span><span style=\"color: #808000; text-decoration-color: #808000; font-weight: bold\">1</span>\n",
       "</pre>\n"
      ],
      "text/plain": [
       "\u001b[1;33mWarning:\u001b[0m\u001b[33m meshio does not support tags of string type.\u001b[0m\n",
       "\u001b[33m    Surface tag  AIRFOIL will be replaced by \u001b[0m\u001b[1;33m1\u001b[0m\n"
      ]
     },
     "metadata": {},
     "output_type": "display_data"
    },
    {
     "data": {
      "text/html": [
       "<pre style=\"white-space:pre;overflow-x:auto;line-height:normal;font-family:Menlo,'DejaVu Sans Mono',consolas,'Courier New',monospace\"><span style=\"color: #808000; text-decoration-color: #808000; font-weight: bold\">Warning:</span><span style=\"color: #808000; text-decoration-color: #808000\"> meshio does not support tags of string type.</span>\n",
       "<span style=\"color: #808000; text-decoration-color: #808000\">    Surface tag  FARFIELD will be replaced by </span><span style=\"color: #808000; text-decoration-color: #808000; font-weight: bold\">2</span>\n",
       "</pre>\n"
      ],
      "text/plain": [
       "\u001b[1;33mWarning:\u001b[0m\u001b[33m meshio does not support tags of string type.\u001b[0m\n",
       "\u001b[33m    Surface tag  FARFIELD will be replaced by \u001b[0m\u001b[1;33m2\u001b[0m\n"
      ]
     },
     "metadata": {},
     "output_type": "display_data"
    },
    {
     "name": "stdout",
     "output_type": "stream",
     "text": [
      "Reading ../Data/SOBOL_DESIGNS_RANS/DESIGNS/DSN_0071/DIRECT/../config_DSN.cfg\n"
     ]
    },
    {
     "data": {
      "text/html": [
       "<pre style=\"white-space:pre;overflow-x:auto;line-height:normal;font-family:Menlo,'DejaVu Sans Mono',consolas,'Courier New',monospace\"><span style=\"color: #808000; text-decoration-color: #808000; font-weight: bold\">Warning:</span><span style=\"color: #808000; text-decoration-color: #808000\"> meshio does not support tags of string type.</span>\n",
       "<span style=\"color: #808000; text-decoration-color: #808000\">    Surface tag  AIRFOIL will be replaced by </span><span style=\"color: #808000; text-decoration-color: #808000; font-weight: bold\">1</span>\n",
       "</pre>\n"
      ],
      "text/plain": [
       "\u001b[1;33mWarning:\u001b[0m\u001b[33m meshio does not support tags of string type.\u001b[0m\n",
       "\u001b[33m    Surface tag  AIRFOIL will be replaced by \u001b[0m\u001b[1;33m1\u001b[0m\n"
      ]
     },
     "metadata": {},
     "output_type": "display_data"
    },
    {
     "data": {
      "text/html": [
       "<pre style=\"white-space:pre;overflow-x:auto;line-height:normal;font-family:Menlo,'DejaVu Sans Mono',consolas,'Courier New',monospace\"><span style=\"color: #808000; text-decoration-color: #808000; font-weight: bold\">Warning:</span><span style=\"color: #808000; text-decoration-color: #808000\"> meshio does not support tags of string type.</span>\n",
       "<span style=\"color: #808000; text-decoration-color: #808000\">    Surface tag  FARFIELD will be replaced by </span><span style=\"color: #808000; text-decoration-color: #808000; font-weight: bold\">2</span>\n",
       "</pre>\n"
      ],
      "text/plain": [
       "\u001b[1;33mWarning:\u001b[0m\u001b[33m meshio does not support tags of string type.\u001b[0m\n",
       "\u001b[33m    Surface tag  FARFIELD will be replaced by \u001b[0m\u001b[1;33m2\u001b[0m\n"
      ]
     },
     "metadata": {},
     "output_type": "display_data"
    },
    {
     "name": "stdout",
     "output_type": "stream",
     "text": [
      "Reading ../Data/SOBOL_DESIGNS_RANS/DESIGNS/DSN_0072/DIRECT/../config_DSN.cfg\n"
     ]
    },
    {
     "data": {
      "text/html": [
       "<pre style=\"white-space:pre;overflow-x:auto;line-height:normal;font-family:Menlo,'DejaVu Sans Mono',consolas,'Courier New',monospace\"><span style=\"color: #808000; text-decoration-color: #808000; font-weight: bold\">Warning:</span><span style=\"color: #808000; text-decoration-color: #808000\"> meshio does not support tags of string type.</span>\n",
       "<span style=\"color: #808000; text-decoration-color: #808000\">    Surface tag  AIRFOIL will be replaced by </span><span style=\"color: #808000; text-decoration-color: #808000; font-weight: bold\">1</span>\n",
       "</pre>\n"
      ],
      "text/plain": [
       "\u001b[1;33mWarning:\u001b[0m\u001b[33m meshio does not support tags of string type.\u001b[0m\n",
       "\u001b[33m    Surface tag  AIRFOIL will be replaced by \u001b[0m\u001b[1;33m1\u001b[0m\n"
      ]
     },
     "metadata": {},
     "output_type": "display_data"
    },
    {
     "data": {
      "text/html": [
       "<pre style=\"white-space:pre;overflow-x:auto;line-height:normal;font-family:Menlo,'DejaVu Sans Mono',consolas,'Courier New',monospace\"><span style=\"color: #808000; text-decoration-color: #808000; font-weight: bold\">Warning:</span><span style=\"color: #808000; text-decoration-color: #808000\"> meshio does not support tags of string type.</span>\n",
       "<span style=\"color: #808000; text-decoration-color: #808000\">    Surface tag  FARFIELD will be replaced by </span><span style=\"color: #808000; text-decoration-color: #808000; font-weight: bold\">2</span>\n",
       "</pre>\n"
      ],
      "text/plain": [
       "\u001b[1;33mWarning:\u001b[0m\u001b[33m meshio does not support tags of string type.\u001b[0m\n",
       "\u001b[33m    Surface tag  FARFIELD will be replaced by \u001b[0m\u001b[1;33m2\u001b[0m\n"
      ]
     },
     "metadata": {},
     "output_type": "display_data"
    },
    {
     "name": "stdout",
     "output_type": "stream",
     "text": [
      "Reading ../Data/SOBOL_DESIGNS_RANS/DESIGNS/DSN_0073/DIRECT/../config_DSN.cfg\n"
     ]
    },
    {
     "data": {
      "text/html": [
       "<pre style=\"white-space:pre;overflow-x:auto;line-height:normal;font-family:Menlo,'DejaVu Sans Mono',consolas,'Courier New',monospace\"><span style=\"color: #808000; text-decoration-color: #808000; font-weight: bold\">Warning:</span><span style=\"color: #808000; text-decoration-color: #808000\"> meshio does not support tags of string type.</span>\n",
       "<span style=\"color: #808000; text-decoration-color: #808000\">    Surface tag  AIRFOIL will be replaced by </span><span style=\"color: #808000; text-decoration-color: #808000; font-weight: bold\">1</span>\n",
       "</pre>\n"
      ],
      "text/plain": [
       "\u001b[1;33mWarning:\u001b[0m\u001b[33m meshio does not support tags of string type.\u001b[0m\n",
       "\u001b[33m    Surface tag  AIRFOIL will be replaced by \u001b[0m\u001b[1;33m1\u001b[0m\n"
      ]
     },
     "metadata": {},
     "output_type": "display_data"
    },
    {
     "data": {
      "text/html": [
       "<pre style=\"white-space:pre;overflow-x:auto;line-height:normal;font-family:Menlo,'DejaVu Sans Mono',consolas,'Courier New',monospace\"><span style=\"color: #808000; text-decoration-color: #808000; font-weight: bold\">Warning:</span><span style=\"color: #808000; text-decoration-color: #808000\"> meshio does not support tags of string type.</span>\n",
       "<span style=\"color: #808000; text-decoration-color: #808000\">    Surface tag  FARFIELD will be replaced by </span><span style=\"color: #808000; text-decoration-color: #808000; font-weight: bold\">2</span>\n",
       "</pre>\n"
      ],
      "text/plain": [
       "\u001b[1;33mWarning:\u001b[0m\u001b[33m meshio does not support tags of string type.\u001b[0m\n",
       "\u001b[33m    Surface tag  FARFIELD will be replaced by \u001b[0m\u001b[1;33m2\u001b[0m\n"
      ]
     },
     "metadata": {},
     "output_type": "display_data"
    },
    {
     "name": "stdout",
     "output_type": "stream",
     "text": [
      "Reading ../Data/SOBOL_DESIGNS_RANS/DESIGNS/DSN_0074/DIRECT/../config_DSN.cfg\n"
     ]
    },
    {
     "data": {
      "text/html": [
       "<pre style=\"white-space:pre;overflow-x:auto;line-height:normal;font-family:Menlo,'DejaVu Sans Mono',consolas,'Courier New',monospace\"><span style=\"color: #808000; text-decoration-color: #808000; font-weight: bold\">Warning:</span><span style=\"color: #808000; text-decoration-color: #808000\"> meshio does not support tags of string type.</span>\n",
       "<span style=\"color: #808000; text-decoration-color: #808000\">    Surface tag  AIRFOIL will be replaced by </span><span style=\"color: #808000; text-decoration-color: #808000; font-weight: bold\">1</span>\n",
       "</pre>\n"
      ],
      "text/plain": [
       "\u001b[1;33mWarning:\u001b[0m\u001b[33m meshio does not support tags of string type.\u001b[0m\n",
       "\u001b[33m    Surface tag  AIRFOIL will be replaced by \u001b[0m\u001b[1;33m1\u001b[0m\n"
      ]
     },
     "metadata": {},
     "output_type": "display_data"
    },
    {
     "data": {
      "text/html": [
       "<pre style=\"white-space:pre;overflow-x:auto;line-height:normal;font-family:Menlo,'DejaVu Sans Mono',consolas,'Courier New',monospace\"><span style=\"color: #808000; text-decoration-color: #808000; font-weight: bold\">Warning:</span><span style=\"color: #808000; text-decoration-color: #808000\"> meshio does not support tags of string type.</span>\n",
       "<span style=\"color: #808000; text-decoration-color: #808000\">    Surface tag  FARFIELD will be replaced by </span><span style=\"color: #808000; text-decoration-color: #808000; font-weight: bold\">2</span>\n",
       "</pre>\n"
      ],
      "text/plain": [
       "\u001b[1;33mWarning:\u001b[0m\u001b[33m meshio does not support tags of string type.\u001b[0m\n",
       "\u001b[33m    Surface tag  FARFIELD will be replaced by \u001b[0m\u001b[1;33m2\u001b[0m\n"
      ]
     },
     "metadata": {},
     "output_type": "display_data"
    },
    {
     "name": "stdout",
     "output_type": "stream",
     "text": [
      "Reading ../Data/SOBOL_DESIGNS_RANS/DESIGNS/DSN_0075/DIRECT/../config_DSN.cfg\n"
     ]
    },
    {
     "data": {
      "text/html": [
       "<pre style=\"white-space:pre;overflow-x:auto;line-height:normal;font-family:Menlo,'DejaVu Sans Mono',consolas,'Courier New',monospace\"><span style=\"color: #808000; text-decoration-color: #808000; font-weight: bold\">Warning:</span><span style=\"color: #808000; text-decoration-color: #808000\"> meshio does not support tags of string type.</span>\n",
       "<span style=\"color: #808000; text-decoration-color: #808000\">    Surface tag  AIRFOIL will be replaced by </span><span style=\"color: #808000; text-decoration-color: #808000; font-weight: bold\">1</span>\n",
       "</pre>\n"
      ],
      "text/plain": [
       "\u001b[1;33mWarning:\u001b[0m\u001b[33m meshio does not support tags of string type.\u001b[0m\n",
       "\u001b[33m    Surface tag  AIRFOIL will be replaced by \u001b[0m\u001b[1;33m1\u001b[0m\n"
      ]
     },
     "metadata": {},
     "output_type": "display_data"
    },
    {
     "data": {
      "text/html": [
       "<pre style=\"white-space:pre;overflow-x:auto;line-height:normal;font-family:Menlo,'DejaVu Sans Mono',consolas,'Courier New',monospace\"><span style=\"color: #808000; text-decoration-color: #808000; font-weight: bold\">Warning:</span><span style=\"color: #808000; text-decoration-color: #808000\"> meshio does not support tags of string type.</span>\n",
       "<span style=\"color: #808000; text-decoration-color: #808000\">    Surface tag  FARFIELD will be replaced by </span><span style=\"color: #808000; text-decoration-color: #808000; font-weight: bold\">2</span>\n",
       "</pre>\n"
      ],
      "text/plain": [
       "\u001b[1;33mWarning:\u001b[0m\u001b[33m meshio does not support tags of string type.\u001b[0m\n",
       "\u001b[33m    Surface tag  FARFIELD will be replaced by \u001b[0m\u001b[1;33m2\u001b[0m\n"
      ]
     },
     "metadata": {},
     "output_type": "display_data"
    },
    {
     "name": "stdout",
     "output_type": "stream",
     "text": [
      "Reading ../Data/SOBOL_DESIGNS_RANS/DESIGNS/DSN_0076/DIRECT/../config_DSN.cfg\n"
     ]
    },
    {
     "data": {
      "text/html": [
       "<pre style=\"white-space:pre;overflow-x:auto;line-height:normal;font-family:Menlo,'DejaVu Sans Mono',consolas,'Courier New',monospace\"><span style=\"color: #808000; text-decoration-color: #808000; font-weight: bold\">Warning:</span><span style=\"color: #808000; text-decoration-color: #808000\"> meshio does not support tags of string type.</span>\n",
       "<span style=\"color: #808000; text-decoration-color: #808000\">    Surface tag  AIRFOIL will be replaced by </span><span style=\"color: #808000; text-decoration-color: #808000; font-weight: bold\">1</span>\n",
       "</pre>\n"
      ],
      "text/plain": [
       "\u001b[1;33mWarning:\u001b[0m\u001b[33m meshio does not support tags of string type.\u001b[0m\n",
       "\u001b[33m    Surface tag  AIRFOIL will be replaced by \u001b[0m\u001b[1;33m1\u001b[0m\n"
      ]
     },
     "metadata": {},
     "output_type": "display_data"
    },
    {
     "data": {
      "text/html": [
       "<pre style=\"white-space:pre;overflow-x:auto;line-height:normal;font-family:Menlo,'DejaVu Sans Mono',consolas,'Courier New',monospace\"><span style=\"color: #808000; text-decoration-color: #808000; font-weight: bold\">Warning:</span><span style=\"color: #808000; text-decoration-color: #808000\"> meshio does not support tags of string type.</span>\n",
       "<span style=\"color: #808000; text-decoration-color: #808000\">    Surface tag  FARFIELD will be replaced by </span><span style=\"color: #808000; text-decoration-color: #808000; font-weight: bold\">2</span>\n",
       "</pre>\n"
      ],
      "text/plain": [
       "\u001b[1;33mWarning:\u001b[0m\u001b[33m meshio does not support tags of string type.\u001b[0m\n",
       "\u001b[33m    Surface tag  FARFIELD will be replaced by \u001b[0m\u001b[1;33m2\u001b[0m\n"
      ]
     },
     "metadata": {},
     "output_type": "display_data"
    },
    {
     "name": "stdout",
     "output_type": "stream",
     "text": [
      "Reading ../Data/SOBOL_DESIGNS_RANS/DESIGNS/DSN_0077/DIRECT/../config_DSN.cfg\n"
     ]
    },
    {
     "data": {
      "text/html": [
       "<pre style=\"white-space:pre;overflow-x:auto;line-height:normal;font-family:Menlo,'DejaVu Sans Mono',consolas,'Courier New',monospace\"><span style=\"color: #808000; text-decoration-color: #808000; font-weight: bold\">Warning:</span><span style=\"color: #808000; text-decoration-color: #808000\"> meshio does not support tags of string type.</span>\n",
       "<span style=\"color: #808000; text-decoration-color: #808000\">    Surface tag  AIRFOIL will be replaced by </span><span style=\"color: #808000; text-decoration-color: #808000; font-weight: bold\">1</span>\n",
       "</pre>\n"
      ],
      "text/plain": [
       "\u001b[1;33mWarning:\u001b[0m\u001b[33m meshio does not support tags of string type.\u001b[0m\n",
       "\u001b[33m    Surface tag  AIRFOIL will be replaced by \u001b[0m\u001b[1;33m1\u001b[0m\n"
      ]
     },
     "metadata": {},
     "output_type": "display_data"
    },
    {
     "data": {
      "text/html": [
       "<pre style=\"white-space:pre;overflow-x:auto;line-height:normal;font-family:Menlo,'DejaVu Sans Mono',consolas,'Courier New',monospace\"><span style=\"color: #808000; text-decoration-color: #808000; font-weight: bold\">Warning:</span><span style=\"color: #808000; text-decoration-color: #808000\"> meshio does not support tags of string type.</span>\n",
       "<span style=\"color: #808000; text-decoration-color: #808000\">    Surface tag  FARFIELD will be replaced by </span><span style=\"color: #808000; text-decoration-color: #808000; font-weight: bold\">2</span>\n",
       "</pre>\n"
      ],
      "text/plain": [
       "\u001b[1;33mWarning:\u001b[0m\u001b[33m meshio does not support tags of string type.\u001b[0m\n",
       "\u001b[33m    Surface tag  FARFIELD will be replaced by \u001b[0m\u001b[1;33m2\u001b[0m\n"
      ]
     },
     "metadata": {},
     "output_type": "display_data"
    },
    {
     "name": "stdout",
     "output_type": "stream",
     "text": [
      "Reading ../Data/SOBOL_DESIGNS_RANS/DESIGNS/DSN_0078/DIRECT/../config_DSN.cfg\n"
     ]
    },
    {
     "data": {
      "text/html": [
       "<pre style=\"white-space:pre;overflow-x:auto;line-height:normal;font-family:Menlo,'DejaVu Sans Mono',consolas,'Courier New',monospace\"><span style=\"color: #808000; text-decoration-color: #808000; font-weight: bold\">Warning:</span><span style=\"color: #808000; text-decoration-color: #808000\"> meshio does not support tags of string type.</span>\n",
       "<span style=\"color: #808000; text-decoration-color: #808000\">    Surface tag  AIRFOIL will be replaced by </span><span style=\"color: #808000; text-decoration-color: #808000; font-weight: bold\">1</span>\n",
       "</pre>\n"
      ],
      "text/plain": [
       "\u001b[1;33mWarning:\u001b[0m\u001b[33m meshio does not support tags of string type.\u001b[0m\n",
       "\u001b[33m    Surface tag  AIRFOIL will be replaced by \u001b[0m\u001b[1;33m1\u001b[0m\n"
      ]
     },
     "metadata": {},
     "output_type": "display_data"
    },
    {
     "data": {
      "text/html": [
       "<pre style=\"white-space:pre;overflow-x:auto;line-height:normal;font-family:Menlo,'DejaVu Sans Mono',consolas,'Courier New',monospace\"><span style=\"color: #808000; text-decoration-color: #808000; font-weight: bold\">Warning:</span><span style=\"color: #808000; text-decoration-color: #808000\"> meshio does not support tags of string type.</span>\n",
       "<span style=\"color: #808000; text-decoration-color: #808000\">    Surface tag  FARFIELD will be replaced by </span><span style=\"color: #808000; text-decoration-color: #808000; font-weight: bold\">2</span>\n",
       "</pre>\n"
      ],
      "text/plain": [
       "\u001b[1;33mWarning:\u001b[0m\u001b[33m meshio does not support tags of string type.\u001b[0m\n",
       "\u001b[33m    Surface tag  FARFIELD will be replaced by \u001b[0m\u001b[1;33m2\u001b[0m\n"
      ]
     },
     "metadata": {},
     "output_type": "display_data"
    },
    {
     "name": "stdout",
     "output_type": "stream",
     "text": [
      "Reading ../Data/SOBOL_DESIGNS_RANS/DESIGNS/DSN_0079/DIRECT/../config_DSN.cfg\n"
     ]
    },
    {
     "data": {
      "text/html": [
       "<pre style=\"white-space:pre;overflow-x:auto;line-height:normal;font-family:Menlo,'DejaVu Sans Mono',consolas,'Courier New',monospace\"><span style=\"color: #808000; text-decoration-color: #808000; font-weight: bold\">Warning:</span><span style=\"color: #808000; text-decoration-color: #808000\"> meshio does not support tags of string type.</span>\n",
       "<span style=\"color: #808000; text-decoration-color: #808000\">    Surface tag  AIRFOIL will be replaced by </span><span style=\"color: #808000; text-decoration-color: #808000; font-weight: bold\">1</span>\n",
       "</pre>\n"
      ],
      "text/plain": [
       "\u001b[1;33mWarning:\u001b[0m\u001b[33m meshio does not support tags of string type.\u001b[0m\n",
       "\u001b[33m    Surface tag  AIRFOIL will be replaced by \u001b[0m\u001b[1;33m1\u001b[0m\n"
      ]
     },
     "metadata": {},
     "output_type": "display_data"
    },
    {
     "data": {
      "text/html": [
       "<pre style=\"white-space:pre;overflow-x:auto;line-height:normal;font-family:Menlo,'DejaVu Sans Mono',consolas,'Courier New',monospace\"><span style=\"color: #808000; text-decoration-color: #808000; font-weight: bold\">Warning:</span><span style=\"color: #808000; text-decoration-color: #808000\"> meshio does not support tags of string type.</span>\n",
       "<span style=\"color: #808000; text-decoration-color: #808000\">    Surface tag  FARFIELD will be replaced by </span><span style=\"color: #808000; text-decoration-color: #808000; font-weight: bold\">2</span>\n",
       "</pre>\n"
      ],
      "text/plain": [
       "\u001b[1;33mWarning:\u001b[0m\u001b[33m meshio does not support tags of string type.\u001b[0m\n",
       "\u001b[33m    Surface tag  FARFIELD will be replaced by \u001b[0m\u001b[1;33m2\u001b[0m\n"
      ]
     },
     "metadata": {},
     "output_type": "display_data"
    },
    {
     "name": "stdout",
     "output_type": "stream",
     "text": [
      "Reading ../Data/SOBOL_DESIGNS_RANS/DESIGNS/DSN_0080/DIRECT/../config_DSN.cfg\n"
     ]
    },
    {
     "data": {
      "text/html": [
       "<pre style=\"white-space:pre;overflow-x:auto;line-height:normal;font-family:Menlo,'DejaVu Sans Mono',consolas,'Courier New',monospace\"><span style=\"color: #808000; text-decoration-color: #808000; font-weight: bold\">Warning:</span><span style=\"color: #808000; text-decoration-color: #808000\"> meshio does not support tags of string type.</span>\n",
       "<span style=\"color: #808000; text-decoration-color: #808000\">    Surface tag  AIRFOIL will be replaced by </span><span style=\"color: #808000; text-decoration-color: #808000; font-weight: bold\">1</span>\n",
       "</pre>\n"
      ],
      "text/plain": [
       "\u001b[1;33mWarning:\u001b[0m\u001b[33m meshio does not support tags of string type.\u001b[0m\n",
       "\u001b[33m    Surface tag  AIRFOIL will be replaced by \u001b[0m\u001b[1;33m1\u001b[0m\n"
      ]
     },
     "metadata": {},
     "output_type": "display_data"
    },
    {
     "data": {
      "text/html": [
       "<pre style=\"white-space:pre;overflow-x:auto;line-height:normal;font-family:Menlo,'DejaVu Sans Mono',consolas,'Courier New',monospace\"><span style=\"color: #808000; text-decoration-color: #808000; font-weight: bold\">Warning:</span><span style=\"color: #808000; text-decoration-color: #808000\"> meshio does not support tags of string type.</span>\n",
       "<span style=\"color: #808000; text-decoration-color: #808000\">    Surface tag  FARFIELD will be replaced by </span><span style=\"color: #808000; text-decoration-color: #808000; font-weight: bold\">2</span>\n",
       "</pre>\n"
      ],
      "text/plain": [
       "\u001b[1;33mWarning:\u001b[0m\u001b[33m meshio does not support tags of string type.\u001b[0m\n",
       "\u001b[33m    Surface tag  FARFIELD will be replaced by \u001b[0m\u001b[1;33m2\u001b[0m\n"
      ]
     },
     "metadata": {},
     "output_type": "display_data"
    },
    {
     "name": "stdout",
     "output_type": "stream",
     "text": [
      "Reading ../Data/SOBOL_DESIGNS_RANS/DESIGNS/DSN_0081/DIRECT/../config_DSN.cfg\n"
     ]
    },
    {
     "data": {
      "text/html": [
       "<pre style=\"white-space:pre;overflow-x:auto;line-height:normal;font-family:Menlo,'DejaVu Sans Mono',consolas,'Courier New',monospace\"><span style=\"color: #808000; text-decoration-color: #808000; font-weight: bold\">Warning:</span><span style=\"color: #808000; text-decoration-color: #808000\"> meshio does not support tags of string type.</span>\n",
       "<span style=\"color: #808000; text-decoration-color: #808000\">    Surface tag  AIRFOIL will be replaced by </span><span style=\"color: #808000; text-decoration-color: #808000; font-weight: bold\">1</span>\n",
       "</pre>\n"
      ],
      "text/plain": [
       "\u001b[1;33mWarning:\u001b[0m\u001b[33m meshio does not support tags of string type.\u001b[0m\n",
       "\u001b[33m    Surface tag  AIRFOIL will be replaced by \u001b[0m\u001b[1;33m1\u001b[0m\n"
      ]
     },
     "metadata": {},
     "output_type": "display_data"
    },
    {
     "data": {
      "text/html": [
       "<pre style=\"white-space:pre;overflow-x:auto;line-height:normal;font-family:Menlo,'DejaVu Sans Mono',consolas,'Courier New',monospace\"><span style=\"color: #808000; text-decoration-color: #808000; font-weight: bold\">Warning:</span><span style=\"color: #808000; text-decoration-color: #808000\"> meshio does not support tags of string type.</span>\n",
       "<span style=\"color: #808000; text-decoration-color: #808000\">    Surface tag  FARFIELD will be replaced by </span><span style=\"color: #808000; text-decoration-color: #808000; font-weight: bold\">2</span>\n",
       "</pre>\n"
      ],
      "text/plain": [
       "\u001b[1;33mWarning:\u001b[0m\u001b[33m meshio does not support tags of string type.\u001b[0m\n",
       "\u001b[33m    Surface tag  FARFIELD will be replaced by \u001b[0m\u001b[1;33m2\u001b[0m\n"
      ]
     },
     "metadata": {},
     "output_type": "display_data"
    },
    {
     "name": "stdout",
     "output_type": "stream",
     "text": [
      "Reading ../Data/SOBOL_DESIGNS_RANS/DESIGNS/DSN_0082/DIRECT/../config_DSN.cfg\n"
     ]
    },
    {
     "data": {
      "text/html": [
       "<pre style=\"white-space:pre;overflow-x:auto;line-height:normal;font-family:Menlo,'DejaVu Sans Mono',consolas,'Courier New',monospace\"><span style=\"color: #808000; text-decoration-color: #808000; font-weight: bold\">Warning:</span><span style=\"color: #808000; text-decoration-color: #808000\"> meshio does not support tags of string type.</span>\n",
       "<span style=\"color: #808000; text-decoration-color: #808000\">    Surface tag  AIRFOIL will be replaced by </span><span style=\"color: #808000; text-decoration-color: #808000; font-weight: bold\">1</span>\n",
       "</pre>\n"
      ],
      "text/plain": [
       "\u001b[1;33mWarning:\u001b[0m\u001b[33m meshio does not support tags of string type.\u001b[0m\n",
       "\u001b[33m    Surface tag  AIRFOIL will be replaced by \u001b[0m\u001b[1;33m1\u001b[0m\n"
      ]
     },
     "metadata": {},
     "output_type": "display_data"
    },
    {
     "data": {
      "text/html": [
       "<pre style=\"white-space:pre;overflow-x:auto;line-height:normal;font-family:Menlo,'DejaVu Sans Mono',consolas,'Courier New',monospace\"><span style=\"color: #808000; text-decoration-color: #808000; font-weight: bold\">Warning:</span><span style=\"color: #808000; text-decoration-color: #808000\"> meshio does not support tags of string type.</span>\n",
       "<span style=\"color: #808000; text-decoration-color: #808000\">    Surface tag  FARFIELD will be replaced by </span><span style=\"color: #808000; text-decoration-color: #808000; font-weight: bold\">2</span>\n",
       "</pre>\n"
      ],
      "text/plain": [
       "\u001b[1;33mWarning:\u001b[0m\u001b[33m meshio does not support tags of string type.\u001b[0m\n",
       "\u001b[33m    Surface tag  FARFIELD will be replaced by \u001b[0m\u001b[1;33m2\u001b[0m\n"
      ]
     },
     "metadata": {},
     "output_type": "display_data"
    },
    {
     "name": "stdout",
     "output_type": "stream",
     "text": [
      "Reading ../Data/SOBOL_DESIGNS_RANS/DESIGNS/DSN_0083/DIRECT/../config_DSN.cfg\n"
     ]
    },
    {
     "data": {
      "text/html": [
       "<pre style=\"white-space:pre;overflow-x:auto;line-height:normal;font-family:Menlo,'DejaVu Sans Mono',consolas,'Courier New',monospace\"><span style=\"color: #808000; text-decoration-color: #808000; font-weight: bold\">Warning:</span><span style=\"color: #808000; text-decoration-color: #808000\"> meshio does not support tags of string type.</span>\n",
       "<span style=\"color: #808000; text-decoration-color: #808000\">    Surface tag  AIRFOIL will be replaced by </span><span style=\"color: #808000; text-decoration-color: #808000; font-weight: bold\">1</span>\n",
       "</pre>\n"
      ],
      "text/plain": [
       "\u001b[1;33mWarning:\u001b[0m\u001b[33m meshio does not support tags of string type.\u001b[0m\n",
       "\u001b[33m    Surface tag  AIRFOIL will be replaced by \u001b[0m\u001b[1;33m1\u001b[0m\n"
      ]
     },
     "metadata": {},
     "output_type": "display_data"
    },
    {
     "data": {
      "text/html": [
       "<pre style=\"white-space:pre;overflow-x:auto;line-height:normal;font-family:Menlo,'DejaVu Sans Mono',consolas,'Courier New',monospace\"><span style=\"color: #808000; text-decoration-color: #808000; font-weight: bold\">Warning:</span><span style=\"color: #808000; text-decoration-color: #808000\"> meshio does not support tags of string type.</span>\n",
       "<span style=\"color: #808000; text-decoration-color: #808000\">    Surface tag  FARFIELD will be replaced by </span><span style=\"color: #808000; text-decoration-color: #808000; font-weight: bold\">2</span>\n",
       "</pre>\n"
      ],
      "text/plain": [
       "\u001b[1;33mWarning:\u001b[0m\u001b[33m meshio does not support tags of string type.\u001b[0m\n",
       "\u001b[33m    Surface tag  FARFIELD will be replaced by \u001b[0m\u001b[1;33m2\u001b[0m\n"
      ]
     },
     "metadata": {},
     "output_type": "display_data"
    },
    {
     "name": "stdout",
     "output_type": "stream",
     "text": [
      "Reading ../Data/SOBOL_DESIGNS_RANS/DESIGNS/DSN_0084/DIRECT/../config_DSN.cfg\n"
     ]
    },
    {
     "data": {
      "text/html": [
       "<pre style=\"white-space:pre;overflow-x:auto;line-height:normal;font-family:Menlo,'DejaVu Sans Mono',consolas,'Courier New',monospace\"><span style=\"color: #808000; text-decoration-color: #808000; font-weight: bold\">Warning:</span><span style=\"color: #808000; text-decoration-color: #808000\"> meshio does not support tags of string type.</span>\n",
       "<span style=\"color: #808000; text-decoration-color: #808000\">    Surface tag  AIRFOIL will be replaced by </span><span style=\"color: #808000; text-decoration-color: #808000; font-weight: bold\">1</span>\n",
       "</pre>\n"
      ],
      "text/plain": [
       "\u001b[1;33mWarning:\u001b[0m\u001b[33m meshio does not support tags of string type.\u001b[0m\n",
       "\u001b[33m    Surface tag  AIRFOIL will be replaced by \u001b[0m\u001b[1;33m1\u001b[0m\n"
      ]
     },
     "metadata": {},
     "output_type": "display_data"
    },
    {
     "data": {
      "text/html": [
       "<pre style=\"white-space:pre;overflow-x:auto;line-height:normal;font-family:Menlo,'DejaVu Sans Mono',consolas,'Courier New',monospace\"><span style=\"color: #808000; text-decoration-color: #808000; font-weight: bold\">Warning:</span><span style=\"color: #808000; text-decoration-color: #808000\"> meshio does not support tags of string type.</span>\n",
       "<span style=\"color: #808000; text-decoration-color: #808000\">    Surface tag  FARFIELD will be replaced by </span><span style=\"color: #808000; text-decoration-color: #808000; font-weight: bold\">2</span>\n",
       "</pre>\n"
      ],
      "text/plain": [
       "\u001b[1;33mWarning:\u001b[0m\u001b[33m meshio does not support tags of string type.\u001b[0m\n",
       "\u001b[33m    Surface tag  FARFIELD will be replaced by \u001b[0m\u001b[1;33m2\u001b[0m\n"
      ]
     },
     "metadata": {},
     "output_type": "display_data"
    },
    {
     "name": "stdout",
     "output_type": "stream",
     "text": [
      "Reading ../Data/SOBOL_DESIGNS_RANS/DESIGNS/DSN_0085/DIRECT/../config_DSN.cfg\n"
     ]
    },
    {
     "data": {
      "text/html": [
       "<pre style=\"white-space:pre;overflow-x:auto;line-height:normal;font-family:Menlo,'DejaVu Sans Mono',consolas,'Courier New',monospace\"><span style=\"color: #808000; text-decoration-color: #808000; font-weight: bold\">Warning:</span><span style=\"color: #808000; text-decoration-color: #808000\"> meshio does not support tags of string type.</span>\n",
       "<span style=\"color: #808000; text-decoration-color: #808000\">    Surface tag  AIRFOIL will be replaced by </span><span style=\"color: #808000; text-decoration-color: #808000; font-weight: bold\">1</span>\n",
       "</pre>\n"
      ],
      "text/plain": [
       "\u001b[1;33mWarning:\u001b[0m\u001b[33m meshio does not support tags of string type.\u001b[0m\n",
       "\u001b[33m    Surface tag  AIRFOIL will be replaced by \u001b[0m\u001b[1;33m1\u001b[0m\n"
      ]
     },
     "metadata": {},
     "output_type": "display_data"
    },
    {
     "data": {
      "text/html": [
       "<pre style=\"white-space:pre;overflow-x:auto;line-height:normal;font-family:Menlo,'DejaVu Sans Mono',consolas,'Courier New',monospace\"><span style=\"color: #808000; text-decoration-color: #808000; font-weight: bold\">Warning:</span><span style=\"color: #808000; text-decoration-color: #808000\"> meshio does not support tags of string type.</span>\n",
       "<span style=\"color: #808000; text-decoration-color: #808000\">    Surface tag  FARFIELD will be replaced by </span><span style=\"color: #808000; text-decoration-color: #808000; font-weight: bold\">2</span>\n",
       "</pre>\n"
      ],
      "text/plain": [
       "\u001b[1;33mWarning:\u001b[0m\u001b[33m meshio does not support tags of string type.\u001b[0m\n",
       "\u001b[33m    Surface tag  FARFIELD will be replaced by \u001b[0m\u001b[1;33m2\u001b[0m\n"
      ]
     },
     "metadata": {},
     "output_type": "display_data"
    },
    {
     "name": "stdout",
     "output_type": "stream",
     "text": [
      "Reading ../Data/SOBOL_DESIGNS_RANS/DESIGNS/DSN_0086/DIRECT/../config_DSN.cfg\n"
     ]
    },
    {
     "data": {
      "text/html": [
       "<pre style=\"white-space:pre;overflow-x:auto;line-height:normal;font-family:Menlo,'DejaVu Sans Mono',consolas,'Courier New',monospace\"><span style=\"color: #808000; text-decoration-color: #808000; font-weight: bold\">Warning:</span><span style=\"color: #808000; text-decoration-color: #808000\"> meshio does not support tags of string type.</span>\n",
       "<span style=\"color: #808000; text-decoration-color: #808000\">    Surface tag  AIRFOIL will be replaced by </span><span style=\"color: #808000; text-decoration-color: #808000; font-weight: bold\">1</span>\n",
       "</pre>\n"
      ],
      "text/plain": [
       "\u001b[1;33mWarning:\u001b[0m\u001b[33m meshio does not support tags of string type.\u001b[0m\n",
       "\u001b[33m    Surface tag  AIRFOIL will be replaced by \u001b[0m\u001b[1;33m1\u001b[0m\n"
      ]
     },
     "metadata": {},
     "output_type": "display_data"
    },
    {
     "data": {
      "text/html": [
       "<pre style=\"white-space:pre;overflow-x:auto;line-height:normal;font-family:Menlo,'DejaVu Sans Mono',consolas,'Courier New',monospace\"><span style=\"color: #808000; text-decoration-color: #808000; font-weight: bold\">Warning:</span><span style=\"color: #808000; text-decoration-color: #808000\"> meshio does not support tags of string type.</span>\n",
       "<span style=\"color: #808000; text-decoration-color: #808000\">    Surface tag  FARFIELD will be replaced by </span><span style=\"color: #808000; text-decoration-color: #808000; font-weight: bold\">2</span>\n",
       "</pre>\n"
      ],
      "text/plain": [
       "\u001b[1;33mWarning:\u001b[0m\u001b[33m meshio does not support tags of string type.\u001b[0m\n",
       "\u001b[33m    Surface tag  FARFIELD will be replaced by \u001b[0m\u001b[1;33m2\u001b[0m\n"
      ]
     },
     "metadata": {},
     "output_type": "display_data"
    },
    {
     "name": "stdout",
     "output_type": "stream",
     "text": [
      "Reading ../Data/SOBOL_DESIGNS_RANS/DESIGNS/DSN_0087/DIRECT/../config_DSN.cfg\n"
     ]
    },
    {
     "data": {
      "text/html": [
       "<pre style=\"white-space:pre;overflow-x:auto;line-height:normal;font-family:Menlo,'DejaVu Sans Mono',consolas,'Courier New',monospace\"><span style=\"color: #808000; text-decoration-color: #808000; font-weight: bold\">Warning:</span><span style=\"color: #808000; text-decoration-color: #808000\"> meshio does not support tags of string type.</span>\n",
       "<span style=\"color: #808000; text-decoration-color: #808000\">    Surface tag  AIRFOIL will be replaced by </span><span style=\"color: #808000; text-decoration-color: #808000; font-weight: bold\">1</span>\n",
       "</pre>\n"
      ],
      "text/plain": [
       "\u001b[1;33mWarning:\u001b[0m\u001b[33m meshio does not support tags of string type.\u001b[0m\n",
       "\u001b[33m    Surface tag  AIRFOIL will be replaced by \u001b[0m\u001b[1;33m1\u001b[0m\n"
      ]
     },
     "metadata": {},
     "output_type": "display_data"
    },
    {
     "data": {
      "text/html": [
       "<pre style=\"white-space:pre;overflow-x:auto;line-height:normal;font-family:Menlo,'DejaVu Sans Mono',consolas,'Courier New',monospace\"><span style=\"color: #808000; text-decoration-color: #808000; font-weight: bold\">Warning:</span><span style=\"color: #808000; text-decoration-color: #808000\"> meshio does not support tags of string type.</span>\n",
       "<span style=\"color: #808000; text-decoration-color: #808000\">    Surface tag  FARFIELD will be replaced by </span><span style=\"color: #808000; text-decoration-color: #808000; font-weight: bold\">2</span>\n",
       "</pre>\n"
      ],
      "text/plain": [
       "\u001b[1;33mWarning:\u001b[0m\u001b[33m meshio does not support tags of string type.\u001b[0m\n",
       "\u001b[33m    Surface tag  FARFIELD will be replaced by \u001b[0m\u001b[1;33m2\u001b[0m\n"
      ]
     },
     "metadata": {},
     "output_type": "display_data"
    },
    {
     "name": "stdout",
     "output_type": "stream",
     "text": [
      "Reading ../Data/SOBOL_DESIGNS_RANS/DESIGNS/DSN_0088/DIRECT/../config_DSN.cfg\n"
     ]
    },
    {
     "data": {
      "text/html": [
       "<pre style=\"white-space:pre;overflow-x:auto;line-height:normal;font-family:Menlo,'DejaVu Sans Mono',consolas,'Courier New',monospace\"><span style=\"color: #808000; text-decoration-color: #808000; font-weight: bold\">Warning:</span><span style=\"color: #808000; text-decoration-color: #808000\"> meshio does not support tags of string type.</span>\n",
       "<span style=\"color: #808000; text-decoration-color: #808000\">    Surface tag  AIRFOIL will be replaced by </span><span style=\"color: #808000; text-decoration-color: #808000; font-weight: bold\">1</span>\n",
       "</pre>\n"
      ],
      "text/plain": [
       "\u001b[1;33mWarning:\u001b[0m\u001b[33m meshio does not support tags of string type.\u001b[0m\n",
       "\u001b[33m    Surface tag  AIRFOIL will be replaced by \u001b[0m\u001b[1;33m1\u001b[0m\n"
      ]
     },
     "metadata": {},
     "output_type": "display_data"
    },
    {
     "data": {
      "text/html": [
       "<pre style=\"white-space:pre;overflow-x:auto;line-height:normal;font-family:Menlo,'DejaVu Sans Mono',consolas,'Courier New',monospace\"><span style=\"color: #808000; text-decoration-color: #808000; font-weight: bold\">Warning:</span><span style=\"color: #808000; text-decoration-color: #808000\"> meshio does not support tags of string type.</span>\n",
       "<span style=\"color: #808000; text-decoration-color: #808000\">    Surface tag  FARFIELD will be replaced by </span><span style=\"color: #808000; text-decoration-color: #808000; font-weight: bold\">2</span>\n",
       "</pre>\n"
      ],
      "text/plain": [
       "\u001b[1;33mWarning:\u001b[0m\u001b[33m meshio does not support tags of string type.\u001b[0m\n",
       "\u001b[33m    Surface tag  FARFIELD will be replaced by \u001b[0m\u001b[1;33m2\u001b[0m\n"
      ]
     },
     "metadata": {},
     "output_type": "display_data"
    },
    {
     "name": "stdout",
     "output_type": "stream",
     "text": [
      "Reading ../Data/SOBOL_DESIGNS_RANS/DESIGNS/DSN_0089/DIRECT/../config_DSN.cfg\n"
     ]
    },
    {
     "data": {
      "text/html": [
       "<pre style=\"white-space:pre;overflow-x:auto;line-height:normal;font-family:Menlo,'DejaVu Sans Mono',consolas,'Courier New',monospace\"><span style=\"color: #808000; text-decoration-color: #808000; font-weight: bold\">Warning:</span><span style=\"color: #808000; text-decoration-color: #808000\"> meshio does not support tags of string type.</span>\n",
       "<span style=\"color: #808000; text-decoration-color: #808000\">    Surface tag  AIRFOIL will be replaced by </span><span style=\"color: #808000; text-decoration-color: #808000; font-weight: bold\">1</span>\n",
       "</pre>\n"
      ],
      "text/plain": [
       "\u001b[1;33mWarning:\u001b[0m\u001b[33m meshio does not support tags of string type.\u001b[0m\n",
       "\u001b[33m    Surface tag  AIRFOIL will be replaced by \u001b[0m\u001b[1;33m1\u001b[0m\n"
      ]
     },
     "metadata": {},
     "output_type": "display_data"
    },
    {
     "data": {
      "text/html": [
       "<pre style=\"white-space:pre;overflow-x:auto;line-height:normal;font-family:Menlo,'DejaVu Sans Mono',consolas,'Courier New',monospace\"><span style=\"color: #808000; text-decoration-color: #808000; font-weight: bold\">Warning:</span><span style=\"color: #808000; text-decoration-color: #808000\"> meshio does not support tags of string type.</span>\n",
       "<span style=\"color: #808000; text-decoration-color: #808000\">    Surface tag  FARFIELD will be replaced by </span><span style=\"color: #808000; text-decoration-color: #808000; font-weight: bold\">2</span>\n",
       "</pre>\n"
      ],
      "text/plain": [
       "\u001b[1;33mWarning:\u001b[0m\u001b[33m meshio does not support tags of string type.\u001b[0m\n",
       "\u001b[33m    Surface tag  FARFIELD will be replaced by \u001b[0m\u001b[1;33m2\u001b[0m\n"
      ]
     },
     "metadata": {},
     "output_type": "display_data"
    },
    {
     "name": "stdout",
     "output_type": "stream",
     "text": [
      "Reading ../Data/SOBOL_DESIGNS_RANS/DESIGNS/DSN_0090/DIRECT/../config_DSN.cfg\n"
     ]
    },
    {
     "data": {
      "text/html": [
       "<pre style=\"white-space:pre;overflow-x:auto;line-height:normal;font-family:Menlo,'DejaVu Sans Mono',consolas,'Courier New',monospace\"><span style=\"color: #808000; text-decoration-color: #808000; font-weight: bold\">Warning:</span><span style=\"color: #808000; text-decoration-color: #808000\"> meshio does not support tags of string type.</span>\n",
       "<span style=\"color: #808000; text-decoration-color: #808000\">    Surface tag  AIRFOIL will be replaced by </span><span style=\"color: #808000; text-decoration-color: #808000; font-weight: bold\">1</span>\n",
       "</pre>\n"
      ],
      "text/plain": [
       "\u001b[1;33mWarning:\u001b[0m\u001b[33m meshio does not support tags of string type.\u001b[0m\n",
       "\u001b[33m    Surface tag  AIRFOIL will be replaced by \u001b[0m\u001b[1;33m1\u001b[0m\n"
      ]
     },
     "metadata": {},
     "output_type": "display_data"
    },
    {
     "data": {
      "text/html": [
       "<pre style=\"white-space:pre;overflow-x:auto;line-height:normal;font-family:Menlo,'DejaVu Sans Mono',consolas,'Courier New',monospace\"><span style=\"color: #808000; text-decoration-color: #808000; font-weight: bold\">Warning:</span><span style=\"color: #808000; text-decoration-color: #808000\"> meshio does not support tags of string type.</span>\n",
       "<span style=\"color: #808000; text-decoration-color: #808000\">    Surface tag  FARFIELD will be replaced by </span><span style=\"color: #808000; text-decoration-color: #808000; font-weight: bold\">2</span>\n",
       "</pre>\n"
      ],
      "text/plain": [
       "\u001b[1;33mWarning:\u001b[0m\u001b[33m meshio does not support tags of string type.\u001b[0m\n",
       "\u001b[33m    Surface tag  FARFIELD will be replaced by \u001b[0m\u001b[1;33m2\u001b[0m\n"
      ]
     },
     "metadata": {},
     "output_type": "display_data"
    },
    {
     "name": "stdout",
     "output_type": "stream",
     "text": [
      "Reading ../Data/SOBOL_DESIGNS_RANS/DESIGNS/DSN_0091/DIRECT/../config_DSN.cfg\n"
     ]
    },
    {
     "data": {
      "text/html": [
       "<pre style=\"white-space:pre;overflow-x:auto;line-height:normal;font-family:Menlo,'DejaVu Sans Mono',consolas,'Courier New',monospace\"><span style=\"color: #808000; text-decoration-color: #808000; font-weight: bold\">Warning:</span><span style=\"color: #808000; text-decoration-color: #808000\"> meshio does not support tags of string type.</span>\n",
       "<span style=\"color: #808000; text-decoration-color: #808000\">    Surface tag  AIRFOIL will be replaced by </span><span style=\"color: #808000; text-decoration-color: #808000; font-weight: bold\">1</span>\n",
       "</pre>\n"
      ],
      "text/plain": [
       "\u001b[1;33mWarning:\u001b[0m\u001b[33m meshio does not support tags of string type.\u001b[0m\n",
       "\u001b[33m    Surface tag  AIRFOIL will be replaced by \u001b[0m\u001b[1;33m1\u001b[0m\n"
      ]
     },
     "metadata": {},
     "output_type": "display_data"
    },
    {
     "data": {
      "text/html": [
       "<pre style=\"white-space:pre;overflow-x:auto;line-height:normal;font-family:Menlo,'DejaVu Sans Mono',consolas,'Courier New',monospace\"><span style=\"color: #808000; text-decoration-color: #808000; font-weight: bold\">Warning:</span><span style=\"color: #808000; text-decoration-color: #808000\"> meshio does not support tags of string type.</span>\n",
       "<span style=\"color: #808000; text-decoration-color: #808000\">    Surface tag  FARFIELD will be replaced by </span><span style=\"color: #808000; text-decoration-color: #808000; font-weight: bold\">2</span>\n",
       "</pre>\n"
      ],
      "text/plain": [
       "\u001b[1;33mWarning:\u001b[0m\u001b[33m meshio does not support tags of string type.\u001b[0m\n",
       "\u001b[33m    Surface tag  FARFIELD will be replaced by \u001b[0m\u001b[1;33m2\u001b[0m\n"
      ]
     },
     "metadata": {},
     "output_type": "display_data"
    },
    {
     "name": "stdout",
     "output_type": "stream",
     "text": [
      "Reading ../Data/SOBOL_DESIGNS_RANS/DESIGNS/DSN_0092/DIRECT/../config_DSN.cfg\n"
     ]
    },
    {
     "data": {
      "text/html": [
       "<pre style=\"white-space:pre;overflow-x:auto;line-height:normal;font-family:Menlo,'DejaVu Sans Mono',consolas,'Courier New',monospace\"><span style=\"color: #808000; text-decoration-color: #808000; font-weight: bold\">Warning:</span><span style=\"color: #808000; text-decoration-color: #808000\"> meshio does not support tags of string type.</span>\n",
       "<span style=\"color: #808000; text-decoration-color: #808000\">    Surface tag  AIRFOIL will be replaced by </span><span style=\"color: #808000; text-decoration-color: #808000; font-weight: bold\">1</span>\n",
       "</pre>\n"
      ],
      "text/plain": [
       "\u001b[1;33mWarning:\u001b[0m\u001b[33m meshio does not support tags of string type.\u001b[0m\n",
       "\u001b[33m    Surface tag  AIRFOIL will be replaced by \u001b[0m\u001b[1;33m1\u001b[0m\n"
      ]
     },
     "metadata": {},
     "output_type": "display_data"
    },
    {
     "data": {
      "text/html": [
       "<pre style=\"white-space:pre;overflow-x:auto;line-height:normal;font-family:Menlo,'DejaVu Sans Mono',consolas,'Courier New',monospace\"><span style=\"color: #808000; text-decoration-color: #808000; font-weight: bold\">Warning:</span><span style=\"color: #808000; text-decoration-color: #808000\"> meshio does not support tags of string type.</span>\n",
       "<span style=\"color: #808000; text-decoration-color: #808000\">    Surface tag  FARFIELD will be replaced by </span><span style=\"color: #808000; text-decoration-color: #808000; font-weight: bold\">2</span>\n",
       "</pre>\n"
      ],
      "text/plain": [
       "\u001b[1;33mWarning:\u001b[0m\u001b[33m meshio does not support tags of string type.\u001b[0m\n",
       "\u001b[33m    Surface tag  FARFIELD will be replaced by \u001b[0m\u001b[1;33m2\u001b[0m\n"
      ]
     },
     "metadata": {},
     "output_type": "display_data"
    },
    {
     "name": "stdout",
     "output_type": "stream",
     "text": [
      "Reading ../Data/SOBOL_DESIGNS_RANS/DESIGNS/DSN_0093/DIRECT/../config_DSN.cfg\n"
     ]
    },
    {
     "data": {
      "text/html": [
       "<pre style=\"white-space:pre;overflow-x:auto;line-height:normal;font-family:Menlo,'DejaVu Sans Mono',consolas,'Courier New',monospace\"><span style=\"color: #808000; text-decoration-color: #808000; font-weight: bold\">Warning:</span><span style=\"color: #808000; text-decoration-color: #808000\"> meshio does not support tags of string type.</span>\n",
       "<span style=\"color: #808000; text-decoration-color: #808000\">    Surface tag  AIRFOIL will be replaced by </span><span style=\"color: #808000; text-decoration-color: #808000; font-weight: bold\">1</span>\n",
       "</pre>\n"
      ],
      "text/plain": [
       "\u001b[1;33mWarning:\u001b[0m\u001b[33m meshio does not support tags of string type.\u001b[0m\n",
       "\u001b[33m    Surface tag  AIRFOIL will be replaced by \u001b[0m\u001b[1;33m1\u001b[0m\n"
      ]
     },
     "metadata": {},
     "output_type": "display_data"
    },
    {
     "data": {
      "text/html": [
       "<pre style=\"white-space:pre;overflow-x:auto;line-height:normal;font-family:Menlo,'DejaVu Sans Mono',consolas,'Courier New',monospace\"><span style=\"color: #808000; text-decoration-color: #808000; font-weight: bold\">Warning:</span><span style=\"color: #808000; text-decoration-color: #808000\"> meshio does not support tags of string type.</span>\n",
       "<span style=\"color: #808000; text-decoration-color: #808000\">    Surface tag  FARFIELD will be replaced by </span><span style=\"color: #808000; text-decoration-color: #808000; font-weight: bold\">2</span>\n",
       "</pre>\n"
      ],
      "text/plain": [
       "\u001b[1;33mWarning:\u001b[0m\u001b[33m meshio does not support tags of string type.\u001b[0m\n",
       "\u001b[33m    Surface tag  FARFIELD will be replaced by \u001b[0m\u001b[1;33m2\u001b[0m\n"
      ]
     },
     "metadata": {},
     "output_type": "display_data"
    },
    {
     "name": "stdout",
     "output_type": "stream",
     "text": [
      "Reading ../Data/SOBOL_DESIGNS_RANS/DESIGNS/DSN_0094/DIRECT/../config_DSN.cfg\n"
     ]
    },
    {
     "data": {
      "text/html": [
       "<pre style=\"white-space:pre;overflow-x:auto;line-height:normal;font-family:Menlo,'DejaVu Sans Mono',consolas,'Courier New',monospace\"><span style=\"color: #808000; text-decoration-color: #808000; font-weight: bold\">Warning:</span><span style=\"color: #808000; text-decoration-color: #808000\"> meshio does not support tags of string type.</span>\n",
       "<span style=\"color: #808000; text-decoration-color: #808000\">    Surface tag  AIRFOIL will be replaced by </span><span style=\"color: #808000; text-decoration-color: #808000; font-weight: bold\">1</span>\n",
       "</pre>\n"
      ],
      "text/plain": [
       "\u001b[1;33mWarning:\u001b[0m\u001b[33m meshio does not support tags of string type.\u001b[0m\n",
       "\u001b[33m    Surface tag  AIRFOIL will be replaced by \u001b[0m\u001b[1;33m1\u001b[0m\n"
      ]
     },
     "metadata": {},
     "output_type": "display_data"
    },
    {
     "data": {
      "text/html": [
       "<pre style=\"white-space:pre;overflow-x:auto;line-height:normal;font-family:Menlo,'DejaVu Sans Mono',consolas,'Courier New',monospace\"><span style=\"color: #808000; text-decoration-color: #808000; font-weight: bold\">Warning:</span><span style=\"color: #808000; text-decoration-color: #808000\"> meshio does not support tags of string type.</span>\n",
       "<span style=\"color: #808000; text-decoration-color: #808000\">    Surface tag  FARFIELD will be replaced by </span><span style=\"color: #808000; text-decoration-color: #808000; font-weight: bold\">2</span>\n",
       "</pre>\n"
      ],
      "text/plain": [
       "\u001b[1;33mWarning:\u001b[0m\u001b[33m meshio does not support tags of string type.\u001b[0m\n",
       "\u001b[33m    Surface tag  FARFIELD will be replaced by \u001b[0m\u001b[1;33m2\u001b[0m\n"
      ]
     },
     "metadata": {},
     "output_type": "display_data"
    },
    {
     "name": "stdout",
     "output_type": "stream",
     "text": [
      "Reading ../Data/SOBOL_DESIGNS_RANS/DESIGNS/DSN_0095/DIRECT/../config_DSN.cfg\n"
     ]
    },
    {
     "data": {
      "text/html": [
       "<pre style=\"white-space:pre;overflow-x:auto;line-height:normal;font-family:Menlo,'DejaVu Sans Mono',consolas,'Courier New',monospace\"><span style=\"color: #808000; text-decoration-color: #808000; font-weight: bold\">Warning:</span><span style=\"color: #808000; text-decoration-color: #808000\"> meshio does not support tags of string type.</span>\n",
       "<span style=\"color: #808000; text-decoration-color: #808000\">    Surface tag  AIRFOIL will be replaced by </span><span style=\"color: #808000; text-decoration-color: #808000; font-weight: bold\">1</span>\n",
       "</pre>\n"
      ],
      "text/plain": [
       "\u001b[1;33mWarning:\u001b[0m\u001b[33m meshio does not support tags of string type.\u001b[0m\n",
       "\u001b[33m    Surface tag  AIRFOIL will be replaced by \u001b[0m\u001b[1;33m1\u001b[0m\n"
      ]
     },
     "metadata": {},
     "output_type": "display_data"
    },
    {
     "data": {
      "text/html": [
       "<pre style=\"white-space:pre;overflow-x:auto;line-height:normal;font-family:Menlo,'DejaVu Sans Mono',consolas,'Courier New',monospace\"><span style=\"color: #808000; text-decoration-color: #808000; font-weight: bold\">Warning:</span><span style=\"color: #808000; text-decoration-color: #808000\"> meshio does not support tags of string type.</span>\n",
       "<span style=\"color: #808000; text-decoration-color: #808000\">    Surface tag  FARFIELD will be replaced by </span><span style=\"color: #808000; text-decoration-color: #808000; font-weight: bold\">2</span>\n",
       "</pre>\n"
      ],
      "text/plain": [
       "\u001b[1;33mWarning:\u001b[0m\u001b[33m meshio does not support tags of string type.\u001b[0m\n",
       "\u001b[33m    Surface tag  FARFIELD will be replaced by \u001b[0m\u001b[1;33m2\u001b[0m\n"
      ]
     },
     "metadata": {},
     "output_type": "display_data"
    },
    {
     "name": "stdout",
     "output_type": "stream",
     "text": [
      "Reading ../Data/SOBOL_DESIGNS_RANS/DESIGNS/DSN_0096/DIRECT/../config_DSN.cfg\n"
     ]
    },
    {
     "data": {
      "text/html": [
       "<pre style=\"white-space:pre;overflow-x:auto;line-height:normal;font-family:Menlo,'DejaVu Sans Mono',consolas,'Courier New',monospace\"><span style=\"color: #808000; text-decoration-color: #808000; font-weight: bold\">Warning:</span><span style=\"color: #808000; text-decoration-color: #808000\"> meshio does not support tags of string type.</span>\n",
       "<span style=\"color: #808000; text-decoration-color: #808000\">    Surface tag  AIRFOIL will be replaced by </span><span style=\"color: #808000; text-decoration-color: #808000; font-weight: bold\">1</span>\n",
       "</pre>\n"
      ],
      "text/plain": [
       "\u001b[1;33mWarning:\u001b[0m\u001b[33m meshio does not support tags of string type.\u001b[0m\n",
       "\u001b[33m    Surface tag  AIRFOIL will be replaced by \u001b[0m\u001b[1;33m1\u001b[0m\n"
      ]
     },
     "metadata": {},
     "output_type": "display_data"
    },
    {
     "data": {
      "text/html": [
       "<pre style=\"white-space:pre;overflow-x:auto;line-height:normal;font-family:Menlo,'DejaVu Sans Mono',consolas,'Courier New',monospace\"><span style=\"color: #808000; text-decoration-color: #808000; font-weight: bold\">Warning:</span><span style=\"color: #808000; text-decoration-color: #808000\"> meshio does not support tags of string type.</span>\n",
       "<span style=\"color: #808000; text-decoration-color: #808000\">    Surface tag  FARFIELD will be replaced by </span><span style=\"color: #808000; text-decoration-color: #808000; font-weight: bold\">2</span>\n",
       "</pre>\n"
      ],
      "text/plain": [
       "\u001b[1;33mWarning:\u001b[0m\u001b[33m meshio does not support tags of string type.\u001b[0m\n",
       "\u001b[33m    Surface tag  FARFIELD will be replaced by \u001b[0m\u001b[1;33m2\u001b[0m\n"
      ]
     },
     "metadata": {},
     "output_type": "display_data"
    },
    {
     "name": "stdout",
     "output_type": "stream",
     "text": [
      "Reading ../Data/SOBOL_DESIGNS_RANS/DESIGNS/DSN_0097/DIRECT/../config_DSN.cfg\n"
     ]
    },
    {
     "data": {
      "text/html": [
       "<pre style=\"white-space:pre;overflow-x:auto;line-height:normal;font-family:Menlo,'DejaVu Sans Mono',consolas,'Courier New',monospace\"><span style=\"color: #808000; text-decoration-color: #808000; font-weight: bold\">Warning:</span><span style=\"color: #808000; text-decoration-color: #808000\"> meshio does not support tags of string type.</span>\n",
       "<span style=\"color: #808000; text-decoration-color: #808000\">    Surface tag  AIRFOIL will be replaced by </span><span style=\"color: #808000; text-decoration-color: #808000; font-weight: bold\">1</span>\n",
       "</pre>\n"
      ],
      "text/plain": [
       "\u001b[1;33mWarning:\u001b[0m\u001b[33m meshio does not support tags of string type.\u001b[0m\n",
       "\u001b[33m    Surface tag  AIRFOIL will be replaced by \u001b[0m\u001b[1;33m1\u001b[0m\n"
      ]
     },
     "metadata": {},
     "output_type": "display_data"
    },
    {
     "data": {
      "text/html": [
       "<pre style=\"white-space:pre;overflow-x:auto;line-height:normal;font-family:Menlo,'DejaVu Sans Mono',consolas,'Courier New',monospace\"><span style=\"color: #808000; text-decoration-color: #808000; font-weight: bold\">Warning:</span><span style=\"color: #808000; text-decoration-color: #808000\"> meshio does not support tags of string type.</span>\n",
       "<span style=\"color: #808000; text-decoration-color: #808000\">    Surface tag  FARFIELD will be replaced by </span><span style=\"color: #808000; text-decoration-color: #808000; font-weight: bold\">2</span>\n",
       "</pre>\n"
      ],
      "text/plain": [
       "\u001b[1;33mWarning:\u001b[0m\u001b[33m meshio does not support tags of string type.\u001b[0m\n",
       "\u001b[33m    Surface tag  FARFIELD will be replaced by \u001b[0m\u001b[1;33m2\u001b[0m\n"
      ]
     },
     "metadata": {},
     "output_type": "display_data"
    },
    {
     "name": "stdout",
     "output_type": "stream",
     "text": [
      "Reading ../Data/SOBOL_DESIGNS_RANS/DESIGNS/DSN_0098/DIRECT/../config_DSN.cfg\n"
     ]
    },
    {
     "data": {
      "text/html": [
       "<pre style=\"white-space:pre;overflow-x:auto;line-height:normal;font-family:Menlo,'DejaVu Sans Mono',consolas,'Courier New',monospace\"><span style=\"color: #808000; text-decoration-color: #808000; font-weight: bold\">Warning:</span><span style=\"color: #808000; text-decoration-color: #808000\"> meshio does not support tags of string type.</span>\n",
       "<span style=\"color: #808000; text-decoration-color: #808000\">    Surface tag  AIRFOIL will be replaced by </span><span style=\"color: #808000; text-decoration-color: #808000; font-weight: bold\">1</span>\n",
       "</pre>\n"
      ],
      "text/plain": [
       "\u001b[1;33mWarning:\u001b[0m\u001b[33m meshio does not support tags of string type.\u001b[0m\n",
       "\u001b[33m    Surface tag  AIRFOIL will be replaced by \u001b[0m\u001b[1;33m1\u001b[0m\n"
      ]
     },
     "metadata": {},
     "output_type": "display_data"
    },
    {
     "data": {
      "text/html": [
       "<pre style=\"white-space:pre;overflow-x:auto;line-height:normal;font-family:Menlo,'DejaVu Sans Mono',consolas,'Courier New',monospace\"><span style=\"color: #808000; text-decoration-color: #808000; font-weight: bold\">Warning:</span><span style=\"color: #808000; text-decoration-color: #808000\"> meshio does not support tags of string type.</span>\n",
       "<span style=\"color: #808000; text-decoration-color: #808000\">    Surface tag  FARFIELD will be replaced by </span><span style=\"color: #808000; text-decoration-color: #808000; font-weight: bold\">2</span>\n",
       "</pre>\n"
      ],
      "text/plain": [
       "\u001b[1;33mWarning:\u001b[0m\u001b[33m meshio does not support tags of string type.\u001b[0m\n",
       "\u001b[33m    Surface tag  FARFIELD will be replaced by \u001b[0m\u001b[1;33m2\u001b[0m\n"
      ]
     },
     "metadata": {},
     "output_type": "display_data"
    },
    {
     "name": "stdout",
     "output_type": "stream",
     "text": [
      "Reading ../Data/SOBOL_DESIGNS_RANS/DESIGNS/DSN_0099/DIRECT/../config_DSN.cfg\n"
     ]
    },
    {
     "data": {
      "text/html": [
       "<pre style=\"white-space:pre;overflow-x:auto;line-height:normal;font-family:Menlo,'DejaVu Sans Mono',consolas,'Courier New',monospace\"><span style=\"color: #808000; text-decoration-color: #808000; font-weight: bold\">Warning:</span><span style=\"color: #808000; text-decoration-color: #808000\"> meshio does not support tags of string type.</span>\n",
       "<span style=\"color: #808000; text-decoration-color: #808000\">    Surface tag  AIRFOIL will be replaced by </span><span style=\"color: #808000; text-decoration-color: #808000; font-weight: bold\">1</span>\n",
       "</pre>\n"
      ],
      "text/plain": [
       "\u001b[1;33mWarning:\u001b[0m\u001b[33m meshio does not support tags of string type.\u001b[0m\n",
       "\u001b[33m    Surface tag  AIRFOIL will be replaced by \u001b[0m\u001b[1;33m1\u001b[0m\n"
      ]
     },
     "metadata": {},
     "output_type": "display_data"
    },
    {
     "data": {
      "text/html": [
       "<pre style=\"white-space:pre;overflow-x:auto;line-height:normal;font-family:Menlo,'DejaVu Sans Mono',consolas,'Courier New',monospace\"><span style=\"color: #808000; text-decoration-color: #808000; font-weight: bold\">Warning:</span><span style=\"color: #808000; text-decoration-color: #808000\"> meshio does not support tags of string type.</span>\n",
       "<span style=\"color: #808000; text-decoration-color: #808000\">    Surface tag  FARFIELD will be replaced by </span><span style=\"color: #808000; text-decoration-color: #808000; font-weight: bold\">2</span>\n",
       "</pre>\n"
      ],
      "text/plain": [
       "\u001b[1;33mWarning:\u001b[0m\u001b[33m meshio does not support tags of string type.\u001b[0m\n",
       "\u001b[33m    Surface tag  FARFIELD will be replaced by \u001b[0m\u001b[1;33m2\u001b[0m\n"
      ]
     },
     "metadata": {},
     "output_type": "display_data"
    },
    {
     "name": "stdout",
     "output_type": "stream",
     "text": [
      "Reading ../Data/SOBOL_DESIGNS_RANS/DESIGNS/DSN_0100/DIRECT/../config_DSN.cfg\n"
     ]
    },
    {
     "data": {
      "text/html": [
       "<pre style=\"white-space:pre;overflow-x:auto;line-height:normal;font-family:Menlo,'DejaVu Sans Mono',consolas,'Courier New',monospace\"><span style=\"color: #808000; text-decoration-color: #808000; font-weight: bold\">Warning:</span><span style=\"color: #808000; text-decoration-color: #808000\"> meshio does not support tags of string type.</span>\n",
       "<span style=\"color: #808000; text-decoration-color: #808000\">    Surface tag  AIRFOIL will be replaced by </span><span style=\"color: #808000; text-decoration-color: #808000; font-weight: bold\">1</span>\n",
       "</pre>\n"
      ],
      "text/plain": [
       "\u001b[1;33mWarning:\u001b[0m\u001b[33m meshio does not support tags of string type.\u001b[0m\n",
       "\u001b[33m    Surface tag  AIRFOIL will be replaced by \u001b[0m\u001b[1;33m1\u001b[0m\n"
      ]
     },
     "metadata": {},
     "output_type": "display_data"
    },
    {
     "data": {
      "text/html": [
       "<pre style=\"white-space:pre;overflow-x:auto;line-height:normal;font-family:Menlo,'DejaVu Sans Mono',consolas,'Courier New',monospace\"><span style=\"color: #808000; text-decoration-color: #808000; font-weight: bold\">Warning:</span><span style=\"color: #808000; text-decoration-color: #808000\"> meshio does not support tags of string type.</span>\n",
       "<span style=\"color: #808000; text-decoration-color: #808000\">    Surface tag  FARFIELD will be replaced by </span><span style=\"color: #808000; text-decoration-color: #808000; font-weight: bold\">2</span>\n",
       "</pre>\n"
      ],
      "text/plain": [
       "\u001b[1;33mWarning:\u001b[0m\u001b[33m meshio does not support tags of string type.\u001b[0m\n",
       "\u001b[33m    Surface tag  FARFIELD will be replaced by \u001b[0m\u001b[1;33m2\u001b[0m\n"
      ]
     },
     "metadata": {},
     "output_type": "display_data"
    },
    {
     "name": "stdout",
     "output_type": "stream",
     "text": [
      "Reading ../Data/SOBOL_DESIGNS_RANS/DESIGNS/DSN_0101/DIRECT/../config_DSN.cfg\n"
     ]
    },
    {
     "data": {
      "text/html": [
       "<pre style=\"white-space:pre;overflow-x:auto;line-height:normal;font-family:Menlo,'DejaVu Sans Mono',consolas,'Courier New',monospace\"><span style=\"color: #808000; text-decoration-color: #808000; font-weight: bold\">Warning:</span><span style=\"color: #808000; text-decoration-color: #808000\"> meshio does not support tags of string type.</span>\n",
       "<span style=\"color: #808000; text-decoration-color: #808000\">    Surface tag  AIRFOIL will be replaced by </span><span style=\"color: #808000; text-decoration-color: #808000; font-weight: bold\">1</span>\n",
       "</pre>\n"
      ],
      "text/plain": [
       "\u001b[1;33mWarning:\u001b[0m\u001b[33m meshio does not support tags of string type.\u001b[0m\n",
       "\u001b[33m    Surface tag  AIRFOIL will be replaced by \u001b[0m\u001b[1;33m1\u001b[0m\n"
      ]
     },
     "metadata": {},
     "output_type": "display_data"
    },
    {
     "data": {
      "text/html": [
       "<pre style=\"white-space:pre;overflow-x:auto;line-height:normal;font-family:Menlo,'DejaVu Sans Mono',consolas,'Courier New',monospace\"><span style=\"color: #808000; text-decoration-color: #808000; font-weight: bold\">Warning:</span><span style=\"color: #808000; text-decoration-color: #808000\"> meshio does not support tags of string type.</span>\n",
       "<span style=\"color: #808000; text-decoration-color: #808000\">    Surface tag  FARFIELD will be replaced by </span><span style=\"color: #808000; text-decoration-color: #808000; font-weight: bold\">2</span>\n",
       "</pre>\n"
      ],
      "text/plain": [
       "\u001b[1;33mWarning:\u001b[0m\u001b[33m meshio does not support tags of string type.\u001b[0m\n",
       "\u001b[33m    Surface tag  FARFIELD will be replaced by \u001b[0m\u001b[1;33m2\u001b[0m\n"
      ]
     },
     "metadata": {},
     "output_type": "display_data"
    },
    {
     "name": "stdout",
     "output_type": "stream",
     "text": [
      "Reading ../Data/SOBOL_DESIGNS_RANS/DESIGNS/DSN_0102/DIRECT/../config_DSN.cfg\n"
     ]
    },
    {
     "data": {
      "text/html": [
       "<pre style=\"white-space:pre;overflow-x:auto;line-height:normal;font-family:Menlo,'DejaVu Sans Mono',consolas,'Courier New',monospace\"><span style=\"color: #808000; text-decoration-color: #808000; font-weight: bold\">Warning:</span><span style=\"color: #808000; text-decoration-color: #808000\"> meshio does not support tags of string type.</span>\n",
       "<span style=\"color: #808000; text-decoration-color: #808000\">    Surface tag  AIRFOIL will be replaced by </span><span style=\"color: #808000; text-decoration-color: #808000; font-weight: bold\">1</span>\n",
       "</pre>\n"
      ],
      "text/plain": [
       "\u001b[1;33mWarning:\u001b[0m\u001b[33m meshio does not support tags of string type.\u001b[0m\n",
       "\u001b[33m    Surface tag  AIRFOIL will be replaced by \u001b[0m\u001b[1;33m1\u001b[0m\n"
      ]
     },
     "metadata": {},
     "output_type": "display_data"
    },
    {
     "data": {
      "text/html": [
       "<pre style=\"white-space:pre;overflow-x:auto;line-height:normal;font-family:Menlo,'DejaVu Sans Mono',consolas,'Courier New',monospace\"><span style=\"color: #808000; text-decoration-color: #808000; font-weight: bold\">Warning:</span><span style=\"color: #808000; text-decoration-color: #808000\"> meshio does not support tags of string type.</span>\n",
       "<span style=\"color: #808000; text-decoration-color: #808000\">    Surface tag  FARFIELD will be replaced by </span><span style=\"color: #808000; text-decoration-color: #808000; font-weight: bold\">2</span>\n",
       "</pre>\n"
      ],
      "text/plain": [
       "\u001b[1;33mWarning:\u001b[0m\u001b[33m meshio does not support tags of string type.\u001b[0m\n",
       "\u001b[33m    Surface tag  FARFIELD will be replaced by \u001b[0m\u001b[1;33m2\u001b[0m\n"
      ]
     },
     "metadata": {},
     "output_type": "display_data"
    },
    {
     "name": "stdout",
     "output_type": "stream",
     "text": [
      "Reading ../Data/SOBOL_DESIGNS_RANS/DESIGNS/DSN_0103/DIRECT/../config_DSN.cfg\n"
     ]
    },
    {
     "data": {
      "text/html": [
       "<pre style=\"white-space:pre;overflow-x:auto;line-height:normal;font-family:Menlo,'DejaVu Sans Mono',consolas,'Courier New',monospace\"><span style=\"color: #808000; text-decoration-color: #808000; font-weight: bold\">Warning:</span><span style=\"color: #808000; text-decoration-color: #808000\"> meshio does not support tags of string type.</span>\n",
       "<span style=\"color: #808000; text-decoration-color: #808000\">    Surface tag  AIRFOIL will be replaced by </span><span style=\"color: #808000; text-decoration-color: #808000; font-weight: bold\">1</span>\n",
       "</pre>\n"
      ],
      "text/plain": [
       "\u001b[1;33mWarning:\u001b[0m\u001b[33m meshio does not support tags of string type.\u001b[0m\n",
       "\u001b[33m    Surface tag  AIRFOIL will be replaced by \u001b[0m\u001b[1;33m1\u001b[0m\n"
      ]
     },
     "metadata": {},
     "output_type": "display_data"
    },
    {
     "data": {
      "text/html": [
       "<pre style=\"white-space:pre;overflow-x:auto;line-height:normal;font-family:Menlo,'DejaVu Sans Mono',consolas,'Courier New',monospace\"><span style=\"color: #808000; text-decoration-color: #808000; font-weight: bold\">Warning:</span><span style=\"color: #808000; text-decoration-color: #808000\"> meshio does not support tags of string type.</span>\n",
       "<span style=\"color: #808000; text-decoration-color: #808000\">    Surface tag  FARFIELD will be replaced by </span><span style=\"color: #808000; text-decoration-color: #808000; font-weight: bold\">2</span>\n",
       "</pre>\n"
      ],
      "text/plain": [
       "\u001b[1;33mWarning:\u001b[0m\u001b[33m meshio does not support tags of string type.\u001b[0m\n",
       "\u001b[33m    Surface tag  FARFIELD will be replaced by \u001b[0m\u001b[1;33m2\u001b[0m\n"
      ]
     },
     "metadata": {},
     "output_type": "display_data"
    },
    {
     "name": "stdout",
     "output_type": "stream",
     "text": [
      "Reading ../Data/SOBOL_DESIGNS_RANS/DESIGNS/DSN_0104/DIRECT/../config_DSN.cfg\n"
     ]
    },
    {
     "data": {
      "text/html": [
       "<pre style=\"white-space:pre;overflow-x:auto;line-height:normal;font-family:Menlo,'DejaVu Sans Mono',consolas,'Courier New',monospace\"><span style=\"color: #808000; text-decoration-color: #808000; font-weight: bold\">Warning:</span><span style=\"color: #808000; text-decoration-color: #808000\"> meshio does not support tags of string type.</span>\n",
       "<span style=\"color: #808000; text-decoration-color: #808000\">    Surface tag  AIRFOIL will be replaced by </span><span style=\"color: #808000; text-decoration-color: #808000; font-weight: bold\">1</span>\n",
       "</pre>\n"
      ],
      "text/plain": [
       "\u001b[1;33mWarning:\u001b[0m\u001b[33m meshio does not support tags of string type.\u001b[0m\n",
       "\u001b[33m    Surface tag  AIRFOIL will be replaced by \u001b[0m\u001b[1;33m1\u001b[0m\n"
      ]
     },
     "metadata": {},
     "output_type": "display_data"
    },
    {
     "data": {
      "text/html": [
       "<pre style=\"white-space:pre;overflow-x:auto;line-height:normal;font-family:Menlo,'DejaVu Sans Mono',consolas,'Courier New',monospace\"><span style=\"color: #808000; text-decoration-color: #808000; font-weight: bold\">Warning:</span><span style=\"color: #808000; text-decoration-color: #808000\"> meshio does not support tags of string type.</span>\n",
       "<span style=\"color: #808000; text-decoration-color: #808000\">    Surface tag  FARFIELD will be replaced by </span><span style=\"color: #808000; text-decoration-color: #808000; font-weight: bold\">2</span>\n",
       "</pre>\n"
      ],
      "text/plain": [
       "\u001b[1;33mWarning:\u001b[0m\u001b[33m meshio does not support tags of string type.\u001b[0m\n",
       "\u001b[33m    Surface tag  FARFIELD will be replaced by \u001b[0m\u001b[1;33m2\u001b[0m\n"
      ]
     },
     "metadata": {},
     "output_type": "display_data"
    },
    {
     "name": "stdout",
     "output_type": "stream",
     "text": [
      "Reading ../Data/SOBOL_DESIGNS_RANS/DESIGNS/DSN_0105/DIRECT/../config_DSN.cfg\n"
     ]
    },
    {
     "data": {
      "text/html": [
       "<pre style=\"white-space:pre;overflow-x:auto;line-height:normal;font-family:Menlo,'DejaVu Sans Mono',consolas,'Courier New',monospace\"><span style=\"color: #808000; text-decoration-color: #808000; font-weight: bold\">Warning:</span><span style=\"color: #808000; text-decoration-color: #808000\"> meshio does not support tags of string type.</span>\n",
       "<span style=\"color: #808000; text-decoration-color: #808000\">    Surface tag  AIRFOIL will be replaced by </span><span style=\"color: #808000; text-decoration-color: #808000; font-weight: bold\">1</span>\n",
       "</pre>\n"
      ],
      "text/plain": [
       "\u001b[1;33mWarning:\u001b[0m\u001b[33m meshio does not support tags of string type.\u001b[0m\n",
       "\u001b[33m    Surface tag  AIRFOIL will be replaced by \u001b[0m\u001b[1;33m1\u001b[0m\n"
      ]
     },
     "metadata": {},
     "output_type": "display_data"
    },
    {
     "data": {
      "text/html": [
       "<pre style=\"white-space:pre;overflow-x:auto;line-height:normal;font-family:Menlo,'DejaVu Sans Mono',consolas,'Courier New',monospace\"><span style=\"color: #808000; text-decoration-color: #808000; font-weight: bold\">Warning:</span><span style=\"color: #808000; text-decoration-color: #808000\"> meshio does not support tags of string type.</span>\n",
       "<span style=\"color: #808000; text-decoration-color: #808000\">    Surface tag  FARFIELD will be replaced by </span><span style=\"color: #808000; text-decoration-color: #808000; font-weight: bold\">2</span>\n",
       "</pre>\n"
      ],
      "text/plain": [
       "\u001b[1;33mWarning:\u001b[0m\u001b[33m meshio does not support tags of string type.\u001b[0m\n",
       "\u001b[33m    Surface tag  FARFIELD will be replaced by \u001b[0m\u001b[1;33m2\u001b[0m\n"
      ]
     },
     "metadata": {},
     "output_type": "display_data"
    },
    {
     "name": "stdout",
     "output_type": "stream",
     "text": [
      "Reading ../Data/SOBOL_DESIGNS_RANS/DESIGNS/DSN_0106/DIRECT/../config_DSN.cfg\n"
     ]
    },
    {
     "data": {
      "text/html": [
       "<pre style=\"white-space:pre;overflow-x:auto;line-height:normal;font-family:Menlo,'DejaVu Sans Mono',consolas,'Courier New',monospace\"><span style=\"color: #808000; text-decoration-color: #808000; font-weight: bold\">Warning:</span><span style=\"color: #808000; text-decoration-color: #808000\"> meshio does not support tags of string type.</span>\n",
       "<span style=\"color: #808000; text-decoration-color: #808000\">    Surface tag  AIRFOIL will be replaced by </span><span style=\"color: #808000; text-decoration-color: #808000; font-weight: bold\">1</span>\n",
       "</pre>\n"
      ],
      "text/plain": [
       "\u001b[1;33mWarning:\u001b[0m\u001b[33m meshio does not support tags of string type.\u001b[0m\n",
       "\u001b[33m    Surface tag  AIRFOIL will be replaced by \u001b[0m\u001b[1;33m1\u001b[0m\n"
      ]
     },
     "metadata": {},
     "output_type": "display_data"
    },
    {
     "data": {
      "text/html": [
       "<pre style=\"white-space:pre;overflow-x:auto;line-height:normal;font-family:Menlo,'DejaVu Sans Mono',consolas,'Courier New',monospace\"><span style=\"color: #808000; text-decoration-color: #808000; font-weight: bold\">Warning:</span><span style=\"color: #808000; text-decoration-color: #808000\"> meshio does not support tags of string type.</span>\n",
       "<span style=\"color: #808000; text-decoration-color: #808000\">    Surface tag  FARFIELD will be replaced by </span><span style=\"color: #808000; text-decoration-color: #808000; font-weight: bold\">2</span>\n",
       "</pre>\n"
      ],
      "text/plain": [
       "\u001b[1;33mWarning:\u001b[0m\u001b[33m meshio does not support tags of string type.\u001b[0m\n",
       "\u001b[33m    Surface tag  FARFIELD will be replaced by \u001b[0m\u001b[1;33m2\u001b[0m\n"
      ]
     },
     "metadata": {},
     "output_type": "display_data"
    },
    {
     "name": "stdout",
     "output_type": "stream",
     "text": [
      "Reading ../Data/SOBOL_DESIGNS_RANS/DESIGNS/DSN_0107/DIRECT/../config_DSN.cfg\n"
     ]
    },
    {
     "data": {
      "text/html": [
       "<pre style=\"white-space:pre;overflow-x:auto;line-height:normal;font-family:Menlo,'DejaVu Sans Mono',consolas,'Courier New',monospace\"><span style=\"color: #808000; text-decoration-color: #808000; font-weight: bold\">Warning:</span><span style=\"color: #808000; text-decoration-color: #808000\"> meshio does not support tags of string type.</span>\n",
       "<span style=\"color: #808000; text-decoration-color: #808000\">    Surface tag  AIRFOIL will be replaced by </span><span style=\"color: #808000; text-decoration-color: #808000; font-weight: bold\">1</span>\n",
       "</pre>\n"
      ],
      "text/plain": [
       "\u001b[1;33mWarning:\u001b[0m\u001b[33m meshio does not support tags of string type.\u001b[0m\n",
       "\u001b[33m    Surface tag  AIRFOIL will be replaced by \u001b[0m\u001b[1;33m1\u001b[0m\n"
      ]
     },
     "metadata": {},
     "output_type": "display_data"
    },
    {
     "data": {
      "text/html": [
       "<pre style=\"white-space:pre;overflow-x:auto;line-height:normal;font-family:Menlo,'DejaVu Sans Mono',consolas,'Courier New',monospace\"><span style=\"color: #808000; text-decoration-color: #808000; font-weight: bold\">Warning:</span><span style=\"color: #808000; text-decoration-color: #808000\"> meshio does not support tags of string type.</span>\n",
       "<span style=\"color: #808000; text-decoration-color: #808000\">    Surface tag  FARFIELD will be replaced by </span><span style=\"color: #808000; text-decoration-color: #808000; font-weight: bold\">2</span>\n",
       "</pre>\n"
      ],
      "text/plain": [
       "\u001b[1;33mWarning:\u001b[0m\u001b[33m meshio does not support tags of string type.\u001b[0m\n",
       "\u001b[33m    Surface tag  FARFIELD will be replaced by \u001b[0m\u001b[1;33m2\u001b[0m\n"
      ]
     },
     "metadata": {},
     "output_type": "display_data"
    },
    {
     "name": "stdout",
     "output_type": "stream",
     "text": [
      "Reading ../Data/SOBOL_DESIGNS_RANS/DESIGNS/DSN_0108/DIRECT/../config_DSN.cfg\n"
     ]
    },
    {
     "data": {
      "text/html": [
       "<pre style=\"white-space:pre;overflow-x:auto;line-height:normal;font-family:Menlo,'DejaVu Sans Mono',consolas,'Courier New',monospace\"><span style=\"color: #808000; text-decoration-color: #808000; font-weight: bold\">Warning:</span><span style=\"color: #808000; text-decoration-color: #808000\"> meshio does not support tags of string type.</span>\n",
       "<span style=\"color: #808000; text-decoration-color: #808000\">    Surface tag  AIRFOIL will be replaced by </span><span style=\"color: #808000; text-decoration-color: #808000; font-weight: bold\">1</span>\n",
       "</pre>\n"
      ],
      "text/plain": [
       "\u001b[1;33mWarning:\u001b[0m\u001b[33m meshio does not support tags of string type.\u001b[0m\n",
       "\u001b[33m    Surface tag  AIRFOIL will be replaced by \u001b[0m\u001b[1;33m1\u001b[0m\n"
      ]
     },
     "metadata": {},
     "output_type": "display_data"
    },
    {
     "data": {
      "text/html": [
       "<pre style=\"white-space:pre;overflow-x:auto;line-height:normal;font-family:Menlo,'DejaVu Sans Mono',consolas,'Courier New',monospace\"><span style=\"color: #808000; text-decoration-color: #808000; font-weight: bold\">Warning:</span><span style=\"color: #808000; text-decoration-color: #808000\"> meshio does not support tags of string type.</span>\n",
       "<span style=\"color: #808000; text-decoration-color: #808000\">    Surface tag  FARFIELD will be replaced by </span><span style=\"color: #808000; text-decoration-color: #808000; font-weight: bold\">2</span>\n",
       "</pre>\n"
      ],
      "text/plain": [
       "\u001b[1;33mWarning:\u001b[0m\u001b[33m meshio does not support tags of string type.\u001b[0m\n",
       "\u001b[33m    Surface tag  FARFIELD will be replaced by \u001b[0m\u001b[1;33m2\u001b[0m\n"
      ]
     },
     "metadata": {},
     "output_type": "display_data"
    },
    {
     "name": "stdout",
     "output_type": "stream",
     "text": [
      "Reading ../Data/SOBOL_DESIGNS_RANS/DESIGNS/DSN_0109/DIRECT/../config_DSN.cfg\n"
     ]
    },
    {
     "data": {
      "text/html": [
       "<pre style=\"white-space:pre;overflow-x:auto;line-height:normal;font-family:Menlo,'DejaVu Sans Mono',consolas,'Courier New',monospace\"><span style=\"color: #808000; text-decoration-color: #808000; font-weight: bold\">Warning:</span><span style=\"color: #808000; text-decoration-color: #808000\"> meshio does not support tags of string type.</span>\n",
       "<span style=\"color: #808000; text-decoration-color: #808000\">    Surface tag  AIRFOIL will be replaced by </span><span style=\"color: #808000; text-decoration-color: #808000; font-weight: bold\">1</span>\n",
       "</pre>\n"
      ],
      "text/plain": [
       "\u001b[1;33mWarning:\u001b[0m\u001b[33m meshio does not support tags of string type.\u001b[0m\n",
       "\u001b[33m    Surface tag  AIRFOIL will be replaced by \u001b[0m\u001b[1;33m1\u001b[0m\n"
      ]
     },
     "metadata": {},
     "output_type": "display_data"
    },
    {
     "data": {
      "text/html": [
       "<pre style=\"white-space:pre;overflow-x:auto;line-height:normal;font-family:Menlo,'DejaVu Sans Mono',consolas,'Courier New',monospace\"><span style=\"color: #808000; text-decoration-color: #808000; font-weight: bold\">Warning:</span><span style=\"color: #808000; text-decoration-color: #808000\"> meshio does not support tags of string type.</span>\n",
       "<span style=\"color: #808000; text-decoration-color: #808000\">    Surface tag  FARFIELD will be replaced by </span><span style=\"color: #808000; text-decoration-color: #808000; font-weight: bold\">2</span>\n",
       "</pre>\n"
      ],
      "text/plain": [
       "\u001b[1;33mWarning:\u001b[0m\u001b[33m meshio does not support tags of string type.\u001b[0m\n",
       "\u001b[33m    Surface tag  FARFIELD will be replaced by \u001b[0m\u001b[1;33m2\u001b[0m\n"
      ]
     },
     "metadata": {},
     "output_type": "display_data"
    },
    {
     "name": "stdout",
     "output_type": "stream",
     "text": [
      "Reading ../Data/SOBOL_DESIGNS_RANS/DESIGNS/DSN_0110/DIRECT/../config_DSN.cfg\n"
     ]
    },
    {
     "data": {
      "text/html": [
       "<pre style=\"white-space:pre;overflow-x:auto;line-height:normal;font-family:Menlo,'DejaVu Sans Mono',consolas,'Courier New',monospace\"><span style=\"color: #808000; text-decoration-color: #808000; font-weight: bold\">Warning:</span><span style=\"color: #808000; text-decoration-color: #808000\"> meshio does not support tags of string type.</span>\n",
       "<span style=\"color: #808000; text-decoration-color: #808000\">    Surface tag  AIRFOIL will be replaced by </span><span style=\"color: #808000; text-decoration-color: #808000; font-weight: bold\">1</span>\n",
       "</pre>\n"
      ],
      "text/plain": [
       "\u001b[1;33mWarning:\u001b[0m\u001b[33m meshio does not support tags of string type.\u001b[0m\n",
       "\u001b[33m    Surface tag  AIRFOIL will be replaced by \u001b[0m\u001b[1;33m1\u001b[0m\n"
      ]
     },
     "metadata": {},
     "output_type": "display_data"
    },
    {
     "data": {
      "text/html": [
       "<pre style=\"white-space:pre;overflow-x:auto;line-height:normal;font-family:Menlo,'DejaVu Sans Mono',consolas,'Courier New',monospace\"><span style=\"color: #808000; text-decoration-color: #808000; font-weight: bold\">Warning:</span><span style=\"color: #808000; text-decoration-color: #808000\"> meshio does not support tags of string type.</span>\n",
       "<span style=\"color: #808000; text-decoration-color: #808000\">    Surface tag  FARFIELD will be replaced by </span><span style=\"color: #808000; text-decoration-color: #808000; font-weight: bold\">2</span>\n",
       "</pre>\n"
      ],
      "text/plain": [
       "\u001b[1;33mWarning:\u001b[0m\u001b[33m meshio does not support tags of string type.\u001b[0m\n",
       "\u001b[33m    Surface tag  FARFIELD will be replaced by \u001b[0m\u001b[1;33m2\u001b[0m\n"
      ]
     },
     "metadata": {},
     "output_type": "display_data"
    },
    {
     "name": "stdout",
     "output_type": "stream",
     "text": [
      "Reading ../Data/SOBOL_DESIGNS_RANS/DESIGNS/DSN_0111/DIRECT/../config_DSN.cfg\n"
     ]
    },
    {
     "data": {
      "text/html": [
       "<pre style=\"white-space:pre;overflow-x:auto;line-height:normal;font-family:Menlo,'DejaVu Sans Mono',consolas,'Courier New',monospace\"><span style=\"color: #808000; text-decoration-color: #808000; font-weight: bold\">Warning:</span><span style=\"color: #808000; text-decoration-color: #808000\"> meshio does not support tags of string type.</span>\n",
       "<span style=\"color: #808000; text-decoration-color: #808000\">    Surface tag  AIRFOIL will be replaced by </span><span style=\"color: #808000; text-decoration-color: #808000; font-weight: bold\">1</span>\n",
       "</pre>\n"
      ],
      "text/plain": [
       "\u001b[1;33mWarning:\u001b[0m\u001b[33m meshio does not support tags of string type.\u001b[0m\n",
       "\u001b[33m    Surface tag  AIRFOIL will be replaced by \u001b[0m\u001b[1;33m1\u001b[0m\n"
      ]
     },
     "metadata": {},
     "output_type": "display_data"
    },
    {
     "data": {
      "text/html": [
       "<pre style=\"white-space:pre;overflow-x:auto;line-height:normal;font-family:Menlo,'DejaVu Sans Mono',consolas,'Courier New',monospace\"><span style=\"color: #808000; text-decoration-color: #808000; font-weight: bold\">Warning:</span><span style=\"color: #808000; text-decoration-color: #808000\"> meshio does not support tags of string type.</span>\n",
       "<span style=\"color: #808000; text-decoration-color: #808000\">    Surface tag  FARFIELD will be replaced by </span><span style=\"color: #808000; text-decoration-color: #808000; font-weight: bold\">2</span>\n",
       "</pre>\n"
      ],
      "text/plain": [
       "\u001b[1;33mWarning:\u001b[0m\u001b[33m meshio does not support tags of string type.\u001b[0m\n",
       "\u001b[33m    Surface tag  FARFIELD will be replaced by \u001b[0m\u001b[1;33m2\u001b[0m\n"
      ]
     },
     "metadata": {},
     "output_type": "display_data"
    },
    {
     "name": "stdout",
     "output_type": "stream",
     "text": [
      "Reading ../Data/SOBOL_DESIGNS_RANS/DESIGNS/DSN_0112/DIRECT/../config_DSN.cfg\n"
     ]
    },
    {
     "data": {
      "text/html": [
       "<pre style=\"white-space:pre;overflow-x:auto;line-height:normal;font-family:Menlo,'DejaVu Sans Mono',consolas,'Courier New',monospace\"><span style=\"color: #808000; text-decoration-color: #808000; font-weight: bold\">Warning:</span><span style=\"color: #808000; text-decoration-color: #808000\"> meshio does not support tags of string type.</span>\n",
       "<span style=\"color: #808000; text-decoration-color: #808000\">    Surface tag  AIRFOIL will be replaced by </span><span style=\"color: #808000; text-decoration-color: #808000; font-weight: bold\">1</span>\n",
       "</pre>\n"
      ],
      "text/plain": [
       "\u001b[1;33mWarning:\u001b[0m\u001b[33m meshio does not support tags of string type.\u001b[0m\n",
       "\u001b[33m    Surface tag  AIRFOIL will be replaced by \u001b[0m\u001b[1;33m1\u001b[0m\n"
      ]
     },
     "metadata": {},
     "output_type": "display_data"
    },
    {
     "data": {
      "text/html": [
       "<pre style=\"white-space:pre;overflow-x:auto;line-height:normal;font-family:Menlo,'DejaVu Sans Mono',consolas,'Courier New',monospace\"><span style=\"color: #808000; text-decoration-color: #808000; font-weight: bold\">Warning:</span><span style=\"color: #808000; text-decoration-color: #808000\"> meshio does not support tags of string type.</span>\n",
       "<span style=\"color: #808000; text-decoration-color: #808000\">    Surface tag  FARFIELD will be replaced by </span><span style=\"color: #808000; text-decoration-color: #808000; font-weight: bold\">2</span>\n",
       "</pre>\n"
      ],
      "text/plain": [
       "\u001b[1;33mWarning:\u001b[0m\u001b[33m meshio does not support tags of string type.\u001b[0m\n",
       "\u001b[33m    Surface tag  FARFIELD will be replaced by \u001b[0m\u001b[1;33m2\u001b[0m\n"
      ]
     },
     "metadata": {},
     "output_type": "display_data"
    },
    {
     "name": "stdout",
     "output_type": "stream",
     "text": [
      "Reading ../Data/SOBOL_DESIGNS_RANS/DESIGNS/DSN_0113/DIRECT/../config_DSN.cfg\n"
     ]
    },
    {
     "data": {
      "text/html": [
       "<pre style=\"white-space:pre;overflow-x:auto;line-height:normal;font-family:Menlo,'DejaVu Sans Mono',consolas,'Courier New',monospace\"><span style=\"color: #808000; text-decoration-color: #808000; font-weight: bold\">Warning:</span><span style=\"color: #808000; text-decoration-color: #808000\"> meshio does not support tags of string type.</span>\n",
       "<span style=\"color: #808000; text-decoration-color: #808000\">    Surface tag  AIRFOIL will be replaced by </span><span style=\"color: #808000; text-decoration-color: #808000; font-weight: bold\">1</span>\n",
       "</pre>\n"
      ],
      "text/plain": [
       "\u001b[1;33mWarning:\u001b[0m\u001b[33m meshio does not support tags of string type.\u001b[0m\n",
       "\u001b[33m    Surface tag  AIRFOIL will be replaced by \u001b[0m\u001b[1;33m1\u001b[0m\n"
      ]
     },
     "metadata": {},
     "output_type": "display_data"
    },
    {
     "data": {
      "text/html": [
       "<pre style=\"white-space:pre;overflow-x:auto;line-height:normal;font-family:Menlo,'DejaVu Sans Mono',consolas,'Courier New',monospace\"><span style=\"color: #808000; text-decoration-color: #808000; font-weight: bold\">Warning:</span><span style=\"color: #808000; text-decoration-color: #808000\"> meshio does not support tags of string type.</span>\n",
       "<span style=\"color: #808000; text-decoration-color: #808000\">    Surface tag  FARFIELD will be replaced by </span><span style=\"color: #808000; text-decoration-color: #808000; font-weight: bold\">2</span>\n",
       "</pre>\n"
      ],
      "text/plain": [
       "\u001b[1;33mWarning:\u001b[0m\u001b[33m meshio does not support tags of string type.\u001b[0m\n",
       "\u001b[33m    Surface tag  FARFIELD will be replaced by \u001b[0m\u001b[1;33m2\u001b[0m\n"
      ]
     },
     "metadata": {},
     "output_type": "display_data"
    },
    {
     "name": "stdout",
     "output_type": "stream",
     "text": [
      "Reading ../Data/SOBOL_DESIGNS_RANS/DESIGNS/DSN_0114/DIRECT/../config_DSN.cfg\n"
     ]
    },
    {
     "data": {
      "text/html": [
       "<pre style=\"white-space:pre;overflow-x:auto;line-height:normal;font-family:Menlo,'DejaVu Sans Mono',consolas,'Courier New',monospace\"><span style=\"color: #808000; text-decoration-color: #808000; font-weight: bold\">Warning:</span><span style=\"color: #808000; text-decoration-color: #808000\"> meshio does not support tags of string type.</span>\n",
       "<span style=\"color: #808000; text-decoration-color: #808000\">    Surface tag  AIRFOIL will be replaced by </span><span style=\"color: #808000; text-decoration-color: #808000; font-weight: bold\">1</span>\n",
       "</pre>\n"
      ],
      "text/plain": [
       "\u001b[1;33mWarning:\u001b[0m\u001b[33m meshio does not support tags of string type.\u001b[0m\n",
       "\u001b[33m    Surface tag  AIRFOIL will be replaced by \u001b[0m\u001b[1;33m1\u001b[0m\n"
      ]
     },
     "metadata": {},
     "output_type": "display_data"
    },
    {
     "data": {
      "text/html": [
       "<pre style=\"white-space:pre;overflow-x:auto;line-height:normal;font-family:Menlo,'DejaVu Sans Mono',consolas,'Courier New',monospace\"><span style=\"color: #808000; text-decoration-color: #808000; font-weight: bold\">Warning:</span><span style=\"color: #808000; text-decoration-color: #808000\"> meshio does not support tags of string type.</span>\n",
       "<span style=\"color: #808000; text-decoration-color: #808000\">    Surface tag  FARFIELD will be replaced by </span><span style=\"color: #808000; text-decoration-color: #808000; font-weight: bold\">2</span>\n",
       "</pre>\n"
      ],
      "text/plain": [
       "\u001b[1;33mWarning:\u001b[0m\u001b[33m meshio does not support tags of string type.\u001b[0m\n",
       "\u001b[33m    Surface tag  FARFIELD will be replaced by \u001b[0m\u001b[1;33m2\u001b[0m\n"
      ]
     },
     "metadata": {},
     "output_type": "display_data"
    },
    {
     "name": "stdout",
     "output_type": "stream",
     "text": [
      "Reading ../Data/SOBOL_DESIGNS_RANS/DESIGNS/DSN_0115/DIRECT/../config_DSN.cfg\n"
     ]
    },
    {
     "data": {
      "text/html": [
       "<pre style=\"white-space:pre;overflow-x:auto;line-height:normal;font-family:Menlo,'DejaVu Sans Mono',consolas,'Courier New',monospace\"><span style=\"color: #808000; text-decoration-color: #808000; font-weight: bold\">Warning:</span><span style=\"color: #808000; text-decoration-color: #808000\"> meshio does not support tags of string type.</span>\n",
       "<span style=\"color: #808000; text-decoration-color: #808000\">    Surface tag  AIRFOIL will be replaced by </span><span style=\"color: #808000; text-decoration-color: #808000; font-weight: bold\">1</span>\n",
       "</pre>\n"
      ],
      "text/plain": [
       "\u001b[1;33mWarning:\u001b[0m\u001b[33m meshio does not support tags of string type.\u001b[0m\n",
       "\u001b[33m    Surface tag  AIRFOIL will be replaced by \u001b[0m\u001b[1;33m1\u001b[0m\n"
      ]
     },
     "metadata": {},
     "output_type": "display_data"
    },
    {
     "data": {
      "text/html": [
       "<pre style=\"white-space:pre;overflow-x:auto;line-height:normal;font-family:Menlo,'DejaVu Sans Mono',consolas,'Courier New',monospace\"><span style=\"color: #808000; text-decoration-color: #808000; font-weight: bold\">Warning:</span><span style=\"color: #808000; text-decoration-color: #808000\"> meshio does not support tags of string type.</span>\n",
       "<span style=\"color: #808000; text-decoration-color: #808000\">    Surface tag  FARFIELD will be replaced by </span><span style=\"color: #808000; text-decoration-color: #808000; font-weight: bold\">2</span>\n",
       "</pre>\n"
      ],
      "text/plain": [
       "\u001b[1;33mWarning:\u001b[0m\u001b[33m meshio does not support tags of string type.\u001b[0m\n",
       "\u001b[33m    Surface tag  FARFIELD will be replaced by \u001b[0m\u001b[1;33m2\u001b[0m\n"
      ]
     },
     "metadata": {},
     "output_type": "display_data"
    },
    {
     "name": "stdout",
     "output_type": "stream",
     "text": [
      "Reading ../Data/SOBOL_DESIGNS_RANS/DESIGNS/DSN_0116/DIRECT/../config_DSN.cfg\n"
     ]
    },
    {
     "data": {
      "text/html": [
       "<pre style=\"white-space:pre;overflow-x:auto;line-height:normal;font-family:Menlo,'DejaVu Sans Mono',consolas,'Courier New',monospace\"><span style=\"color: #808000; text-decoration-color: #808000; font-weight: bold\">Warning:</span><span style=\"color: #808000; text-decoration-color: #808000\"> meshio does not support tags of string type.</span>\n",
       "<span style=\"color: #808000; text-decoration-color: #808000\">    Surface tag  AIRFOIL will be replaced by </span><span style=\"color: #808000; text-decoration-color: #808000; font-weight: bold\">1</span>\n",
       "</pre>\n"
      ],
      "text/plain": [
       "\u001b[1;33mWarning:\u001b[0m\u001b[33m meshio does not support tags of string type.\u001b[0m\n",
       "\u001b[33m    Surface tag  AIRFOIL will be replaced by \u001b[0m\u001b[1;33m1\u001b[0m\n"
      ]
     },
     "metadata": {},
     "output_type": "display_data"
    },
    {
     "data": {
      "text/html": [
       "<pre style=\"white-space:pre;overflow-x:auto;line-height:normal;font-family:Menlo,'DejaVu Sans Mono',consolas,'Courier New',monospace\"><span style=\"color: #808000; text-decoration-color: #808000; font-weight: bold\">Warning:</span><span style=\"color: #808000; text-decoration-color: #808000\"> meshio does not support tags of string type.</span>\n",
       "<span style=\"color: #808000; text-decoration-color: #808000\">    Surface tag  FARFIELD will be replaced by </span><span style=\"color: #808000; text-decoration-color: #808000; font-weight: bold\">2</span>\n",
       "</pre>\n"
      ],
      "text/plain": [
       "\u001b[1;33mWarning:\u001b[0m\u001b[33m meshio does not support tags of string type.\u001b[0m\n",
       "\u001b[33m    Surface tag  FARFIELD will be replaced by \u001b[0m\u001b[1;33m2\u001b[0m\n"
      ]
     },
     "metadata": {},
     "output_type": "display_data"
    },
    {
     "name": "stdout",
     "output_type": "stream",
     "text": [
      "Reading ../Data/SOBOL_DESIGNS_RANS/DESIGNS/DSN_0117/DIRECT/../config_DSN.cfg\n"
     ]
    },
    {
     "data": {
      "text/html": [
       "<pre style=\"white-space:pre;overflow-x:auto;line-height:normal;font-family:Menlo,'DejaVu Sans Mono',consolas,'Courier New',monospace\"><span style=\"color: #808000; text-decoration-color: #808000; font-weight: bold\">Warning:</span><span style=\"color: #808000; text-decoration-color: #808000\"> meshio does not support tags of string type.</span>\n",
       "<span style=\"color: #808000; text-decoration-color: #808000\">    Surface tag  AIRFOIL will be replaced by </span><span style=\"color: #808000; text-decoration-color: #808000; font-weight: bold\">1</span>\n",
       "</pre>\n"
      ],
      "text/plain": [
       "\u001b[1;33mWarning:\u001b[0m\u001b[33m meshio does not support tags of string type.\u001b[0m\n",
       "\u001b[33m    Surface tag  AIRFOIL will be replaced by \u001b[0m\u001b[1;33m1\u001b[0m\n"
      ]
     },
     "metadata": {},
     "output_type": "display_data"
    },
    {
     "data": {
      "text/html": [
       "<pre style=\"white-space:pre;overflow-x:auto;line-height:normal;font-family:Menlo,'DejaVu Sans Mono',consolas,'Courier New',monospace\"><span style=\"color: #808000; text-decoration-color: #808000; font-weight: bold\">Warning:</span><span style=\"color: #808000; text-decoration-color: #808000\"> meshio does not support tags of string type.</span>\n",
       "<span style=\"color: #808000; text-decoration-color: #808000\">    Surface tag  FARFIELD will be replaced by </span><span style=\"color: #808000; text-decoration-color: #808000; font-weight: bold\">2</span>\n",
       "</pre>\n"
      ],
      "text/plain": [
       "\u001b[1;33mWarning:\u001b[0m\u001b[33m meshio does not support tags of string type.\u001b[0m\n",
       "\u001b[33m    Surface tag  FARFIELD will be replaced by \u001b[0m\u001b[1;33m2\u001b[0m\n"
      ]
     },
     "metadata": {},
     "output_type": "display_data"
    },
    {
     "name": "stdout",
     "output_type": "stream",
     "text": [
      "Reading ../Data/SOBOL_DESIGNS_RANS/DESIGNS/DSN_0118/DIRECT/../config_DSN.cfg\n"
     ]
    },
    {
     "data": {
      "text/html": [
       "<pre style=\"white-space:pre;overflow-x:auto;line-height:normal;font-family:Menlo,'DejaVu Sans Mono',consolas,'Courier New',monospace\"><span style=\"color: #808000; text-decoration-color: #808000; font-weight: bold\">Warning:</span><span style=\"color: #808000; text-decoration-color: #808000\"> meshio does not support tags of string type.</span>\n",
       "<span style=\"color: #808000; text-decoration-color: #808000\">    Surface tag  AIRFOIL will be replaced by </span><span style=\"color: #808000; text-decoration-color: #808000; font-weight: bold\">1</span>\n",
       "</pre>\n"
      ],
      "text/plain": [
       "\u001b[1;33mWarning:\u001b[0m\u001b[33m meshio does not support tags of string type.\u001b[0m\n",
       "\u001b[33m    Surface tag  AIRFOIL will be replaced by \u001b[0m\u001b[1;33m1\u001b[0m\n"
      ]
     },
     "metadata": {},
     "output_type": "display_data"
    },
    {
     "data": {
      "text/html": [
       "<pre style=\"white-space:pre;overflow-x:auto;line-height:normal;font-family:Menlo,'DejaVu Sans Mono',consolas,'Courier New',monospace\"><span style=\"color: #808000; text-decoration-color: #808000; font-weight: bold\">Warning:</span><span style=\"color: #808000; text-decoration-color: #808000\"> meshio does not support tags of string type.</span>\n",
       "<span style=\"color: #808000; text-decoration-color: #808000\">    Surface tag  FARFIELD will be replaced by </span><span style=\"color: #808000; text-decoration-color: #808000; font-weight: bold\">2</span>\n",
       "</pre>\n"
      ],
      "text/plain": [
       "\u001b[1;33mWarning:\u001b[0m\u001b[33m meshio does not support tags of string type.\u001b[0m\n",
       "\u001b[33m    Surface tag  FARFIELD will be replaced by \u001b[0m\u001b[1;33m2\u001b[0m\n"
      ]
     },
     "metadata": {},
     "output_type": "display_data"
    },
    {
     "name": "stdout",
     "output_type": "stream",
     "text": [
      "Reading ../Data/SOBOL_DESIGNS_RANS/DESIGNS/DSN_0119/DIRECT/../config_DSN.cfg\n"
     ]
    },
    {
     "data": {
      "text/html": [
       "<pre style=\"white-space:pre;overflow-x:auto;line-height:normal;font-family:Menlo,'DejaVu Sans Mono',consolas,'Courier New',monospace\"><span style=\"color: #808000; text-decoration-color: #808000; font-weight: bold\">Warning:</span><span style=\"color: #808000; text-decoration-color: #808000\"> meshio does not support tags of string type.</span>\n",
       "<span style=\"color: #808000; text-decoration-color: #808000\">    Surface tag  AIRFOIL will be replaced by </span><span style=\"color: #808000; text-decoration-color: #808000; font-weight: bold\">1</span>\n",
       "</pre>\n"
      ],
      "text/plain": [
       "\u001b[1;33mWarning:\u001b[0m\u001b[33m meshio does not support tags of string type.\u001b[0m\n",
       "\u001b[33m    Surface tag  AIRFOIL will be replaced by \u001b[0m\u001b[1;33m1\u001b[0m\n"
      ]
     },
     "metadata": {},
     "output_type": "display_data"
    },
    {
     "data": {
      "text/html": [
       "<pre style=\"white-space:pre;overflow-x:auto;line-height:normal;font-family:Menlo,'DejaVu Sans Mono',consolas,'Courier New',monospace\"><span style=\"color: #808000; text-decoration-color: #808000; font-weight: bold\">Warning:</span><span style=\"color: #808000; text-decoration-color: #808000\"> meshio does not support tags of string type.</span>\n",
       "<span style=\"color: #808000; text-decoration-color: #808000\">    Surface tag  FARFIELD will be replaced by </span><span style=\"color: #808000; text-decoration-color: #808000; font-weight: bold\">2</span>\n",
       "</pre>\n"
      ],
      "text/plain": [
       "\u001b[1;33mWarning:\u001b[0m\u001b[33m meshio does not support tags of string type.\u001b[0m\n",
       "\u001b[33m    Surface tag  FARFIELD will be replaced by \u001b[0m\u001b[1;33m2\u001b[0m\n"
      ]
     },
     "metadata": {},
     "output_type": "display_data"
    },
    {
     "name": "stdout",
     "output_type": "stream",
     "text": [
      "Reading ../Data/SOBOL_DESIGNS_RANS/DESIGNS/DSN_0120/DIRECT/../config_DSN.cfg\n"
     ]
    },
    {
     "data": {
      "text/html": [
       "<pre style=\"white-space:pre;overflow-x:auto;line-height:normal;font-family:Menlo,'DejaVu Sans Mono',consolas,'Courier New',monospace\"><span style=\"color: #808000; text-decoration-color: #808000; font-weight: bold\">Warning:</span><span style=\"color: #808000; text-decoration-color: #808000\"> meshio does not support tags of string type.</span>\n",
       "<span style=\"color: #808000; text-decoration-color: #808000\">    Surface tag  AIRFOIL will be replaced by </span><span style=\"color: #808000; text-decoration-color: #808000; font-weight: bold\">1</span>\n",
       "</pre>\n"
      ],
      "text/plain": [
       "\u001b[1;33mWarning:\u001b[0m\u001b[33m meshio does not support tags of string type.\u001b[0m\n",
       "\u001b[33m    Surface tag  AIRFOIL will be replaced by \u001b[0m\u001b[1;33m1\u001b[0m\n"
      ]
     },
     "metadata": {},
     "output_type": "display_data"
    },
    {
     "data": {
      "text/html": [
       "<pre style=\"white-space:pre;overflow-x:auto;line-height:normal;font-family:Menlo,'DejaVu Sans Mono',consolas,'Courier New',monospace\"><span style=\"color: #808000; text-decoration-color: #808000; font-weight: bold\">Warning:</span><span style=\"color: #808000; text-decoration-color: #808000\"> meshio does not support tags of string type.</span>\n",
       "<span style=\"color: #808000; text-decoration-color: #808000\">    Surface tag  FARFIELD will be replaced by </span><span style=\"color: #808000; text-decoration-color: #808000; font-weight: bold\">2</span>\n",
       "</pre>\n"
      ],
      "text/plain": [
       "\u001b[1;33mWarning:\u001b[0m\u001b[33m meshio does not support tags of string type.\u001b[0m\n",
       "\u001b[33m    Surface tag  FARFIELD will be replaced by \u001b[0m\u001b[1;33m2\u001b[0m\n"
      ]
     },
     "metadata": {},
     "output_type": "display_data"
    },
    {
     "name": "stdout",
     "output_type": "stream",
     "text": [
      "Reading ../Data/SOBOL_DESIGNS_RANS/DESIGNS/DSN_0121/DIRECT/../config_DSN.cfg\n"
     ]
    },
    {
     "data": {
      "text/html": [
       "<pre style=\"white-space:pre;overflow-x:auto;line-height:normal;font-family:Menlo,'DejaVu Sans Mono',consolas,'Courier New',monospace\"><span style=\"color: #808000; text-decoration-color: #808000; font-weight: bold\">Warning:</span><span style=\"color: #808000; text-decoration-color: #808000\"> meshio does not support tags of string type.</span>\n",
       "<span style=\"color: #808000; text-decoration-color: #808000\">    Surface tag  AIRFOIL will be replaced by </span><span style=\"color: #808000; text-decoration-color: #808000; font-weight: bold\">1</span>\n",
       "</pre>\n"
      ],
      "text/plain": [
       "\u001b[1;33mWarning:\u001b[0m\u001b[33m meshio does not support tags of string type.\u001b[0m\n",
       "\u001b[33m    Surface tag  AIRFOIL will be replaced by \u001b[0m\u001b[1;33m1\u001b[0m\n"
      ]
     },
     "metadata": {},
     "output_type": "display_data"
    },
    {
     "data": {
      "text/html": [
       "<pre style=\"white-space:pre;overflow-x:auto;line-height:normal;font-family:Menlo,'DejaVu Sans Mono',consolas,'Courier New',monospace\"><span style=\"color: #808000; text-decoration-color: #808000; font-weight: bold\">Warning:</span><span style=\"color: #808000; text-decoration-color: #808000\"> meshio does not support tags of string type.</span>\n",
       "<span style=\"color: #808000; text-decoration-color: #808000\">    Surface tag  FARFIELD will be replaced by </span><span style=\"color: #808000; text-decoration-color: #808000; font-weight: bold\">2</span>\n",
       "</pre>\n"
      ],
      "text/plain": [
       "\u001b[1;33mWarning:\u001b[0m\u001b[33m meshio does not support tags of string type.\u001b[0m\n",
       "\u001b[33m    Surface tag  FARFIELD will be replaced by \u001b[0m\u001b[1;33m2\u001b[0m\n"
      ]
     },
     "metadata": {},
     "output_type": "display_data"
    },
    {
     "name": "stdout",
     "output_type": "stream",
     "text": [
      "Reading ../Data/SOBOL_DESIGNS_RANS/DESIGNS/DSN_0122/DIRECT/../config_DSN.cfg\n"
     ]
    },
    {
     "data": {
      "text/html": [
       "<pre style=\"white-space:pre;overflow-x:auto;line-height:normal;font-family:Menlo,'DejaVu Sans Mono',consolas,'Courier New',monospace\"><span style=\"color: #808000; text-decoration-color: #808000; font-weight: bold\">Warning:</span><span style=\"color: #808000; text-decoration-color: #808000\"> meshio does not support tags of string type.</span>\n",
       "<span style=\"color: #808000; text-decoration-color: #808000\">    Surface tag  AIRFOIL will be replaced by </span><span style=\"color: #808000; text-decoration-color: #808000; font-weight: bold\">1</span>\n",
       "</pre>\n"
      ],
      "text/plain": [
       "\u001b[1;33mWarning:\u001b[0m\u001b[33m meshio does not support tags of string type.\u001b[0m\n",
       "\u001b[33m    Surface tag  AIRFOIL will be replaced by \u001b[0m\u001b[1;33m1\u001b[0m\n"
      ]
     },
     "metadata": {},
     "output_type": "display_data"
    },
    {
     "data": {
      "text/html": [
       "<pre style=\"white-space:pre;overflow-x:auto;line-height:normal;font-family:Menlo,'DejaVu Sans Mono',consolas,'Courier New',monospace\"><span style=\"color: #808000; text-decoration-color: #808000; font-weight: bold\">Warning:</span><span style=\"color: #808000; text-decoration-color: #808000\"> meshio does not support tags of string type.</span>\n",
       "<span style=\"color: #808000; text-decoration-color: #808000\">    Surface tag  FARFIELD will be replaced by </span><span style=\"color: #808000; text-decoration-color: #808000; font-weight: bold\">2</span>\n",
       "</pre>\n"
      ],
      "text/plain": [
       "\u001b[1;33mWarning:\u001b[0m\u001b[33m meshio does not support tags of string type.\u001b[0m\n",
       "\u001b[33m    Surface tag  FARFIELD will be replaced by \u001b[0m\u001b[1;33m2\u001b[0m\n"
      ]
     },
     "metadata": {},
     "output_type": "display_data"
    },
    {
     "name": "stdout",
     "output_type": "stream",
     "text": [
      "Reading ../Data/SOBOL_DESIGNS_RANS/DESIGNS/DSN_0123/DIRECT/../config_DSN.cfg\n"
     ]
    },
    {
     "data": {
      "text/html": [
       "<pre style=\"white-space:pre;overflow-x:auto;line-height:normal;font-family:Menlo,'DejaVu Sans Mono',consolas,'Courier New',monospace\"><span style=\"color: #808000; text-decoration-color: #808000; font-weight: bold\">Warning:</span><span style=\"color: #808000; text-decoration-color: #808000\"> meshio does not support tags of string type.</span>\n",
       "<span style=\"color: #808000; text-decoration-color: #808000\">    Surface tag  AIRFOIL will be replaced by </span><span style=\"color: #808000; text-decoration-color: #808000; font-weight: bold\">1</span>\n",
       "</pre>\n"
      ],
      "text/plain": [
       "\u001b[1;33mWarning:\u001b[0m\u001b[33m meshio does not support tags of string type.\u001b[0m\n",
       "\u001b[33m    Surface tag  AIRFOIL will be replaced by \u001b[0m\u001b[1;33m1\u001b[0m\n"
      ]
     },
     "metadata": {},
     "output_type": "display_data"
    },
    {
     "data": {
      "text/html": [
       "<pre style=\"white-space:pre;overflow-x:auto;line-height:normal;font-family:Menlo,'DejaVu Sans Mono',consolas,'Courier New',monospace\"><span style=\"color: #808000; text-decoration-color: #808000; font-weight: bold\">Warning:</span><span style=\"color: #808000; text-decoration-color: #808000\"> meshio does not support tags of string type.</span>\n",
       "<span style=\"color: #808000; text-decoration-color: #808000\">    Surface tag  FARFIELD will be replaced by </span><span style=\"color: #808000; text-decoration-color: #808000; font-weight: bold\">2</span>\n",
       "</pre>\n"
      ],
      "text/plain": [
       "\u001b[1;33mWarning:\u001b[0m\u001b[33m meshio does not support tags of string type.\u001b[0m\n",
       "\u001b[33m    Surface tag  FARFIELD will be replaced by \u001b[0m\u001b[1;33m2\u001b[0m\n"
      ]
     },
     "metadata": {},
     "output_type": "display_data"
    },
    {
     "name": "stdout",
     "output_type": "stream",
     "text": [
      "Reading ../Data/SOBOL_DESIGNS_RANS/DESIGNS/DSN_0124/DIRECT/../config_DSN.cfg\n"
     ]
    },
    {
     "data": {
      "text/html": [
       "<pre style=\"white-space:pre;overflow-x:auto;line-height:normal;font-family:Menlo,'DejaVu Sans Mono',consolas,'Courier New',monospace\"><span style=\"color: #808000; text-decoration-color: #808000; font-weight: bold\">Warning:</span><span style=\"color: #808000; text-decoration-color: #808000\"> meshio does not support tags of string type.</span>\n",
       "<span style=\"color: #808000; text-decoration-color: #808000\">    Surface tag  AIRFOIL will be replaced by </span><span style=\"color: #808000; text-decoration-color: #808000; font-weight: bold\">1</span>\n",
       "</pre>\n"
      ],
      "text/plain": [
       "\u001b[1;33mWarning:\u001b[0m\u001b[33m meshio does not support tags of string type.\u001b[0m\n",
       "\u001b[33m    Surface tag  AIRFOIL will be replaced by \u001b[0m\u001b[1;33m1\u001b[0m\n"
      ]
     },
     "metadata": {},
     "output_type": "display_data"
    },
    {
     "data": {
      "text/html": [
       "<pre style=\"white-space:pre;overflow-x:auto;line-height:normal;font-family:Menlo,'DejaVu Sans Mono',consolas,'Courier New',monospace\"><span style=\"color: #808000; text-decoration-color: #808000; font-weight: bold\">Warning:</span><span style=\"color: #808000; text-decoration-color: #808000\"> meshio does not support tags of string type.</span>\n",
       "<span style=\"color: #808000; text-decoration-color: #808000\">    Surface tag  FARFIELD will be replaced by </span><span style=\"color: #808000; text-decoration-color: #808000; font-weight: bold\">2</span>\n",
       "</pre>\n"
      ],
      "text/plain": [
       "\u001b[1;33mWarning:\u001b[0m\u001b[33m meshio does not support tags of string type.\u001b[0m\n",
       "\u001b[33m    Surface tag  FARFIELD will be replaced by \u001b[0m\u001b[1;33m2\u001b[0m\n"
      ]
     },
     "metadata": {},
     "output_type": "display_data"
    },
    {
     "name": "stdout",
     "output_type": "stream",
     "text": [
      "Reading ../Data/SOBOL_DESIGNS_RANS/DESIGNS/DSN_0125/DIRECT/../config_DSN.cfg\n"
     ]
    },
    {
     "data": {
      "text/html": [
       "<pre style=\"white-space:pre;overflow-x:auto;line-height:normal;font-family:Menlo,'DejaVu Sans Mono',consolas,'Courier New',monospace\"><span style=\"color: #808000; text-decoration-color: #808000; font-weight: bold\">Warning:</span><span style=\"color: #808000; text-decoration-color: #808000\"> meshio does not support tags of string type.</span>\n",
       "<span style=\"color: #808000; text-decoration-color: #808000\">    Surface tag  AIRFOIL will be replaced by </span><span style=\"color: #808000; text-decoration-color: #808000; font-weight: bold\">1</span>\n",
       "</pre>\n"
      ],
      "text/plain": [
       "\u001b[1;33mWarning:\u001b[0m\u001b[33m meshio does not support tags of string type.\u001b[0m\n",
       "\u001b[33m    Surface tag  AIRFOIL will be replaced by \u001b[0m\u001b[1;33m1\u001b[0m\n"
      ]
     },
     "metadata": {},
     "output_type": "display_data"
    },
    {
     "data": {
      "text/html": [
       "<pre style=\"white-space:pre;overflow-x:auto;line-height:normal;font-family:Menlo,'DejaVu Sans Mono',consolas,'Courier New',monospace\"><span style=\"color: #808000; text-decoration-color: #808000; font-weight: bold\">Warning:</span><span style=\"color: #808000; text-decoration-color: #808000\"> meshio does not support tags of string type.</span>\n",
       "<span style=\"color: #808000; text-decoration-color: #808000\">    Surface tag  FARFIELD will be replaced by </span><span style=\"color: #808000; text-decoration-color: #808000; font-weight: bold\">2</span>\n",
       "</pre>\n"
      ],
      "text/plain": [
       "\u001b[1;33mWarning:\u001b[0m\u001b[33m meshio does not support tags of string type.\u001b[0m\n",
       "\u001b[33m    Surface tag  FARFIELD will be replaced by \u001b[0m\u001b[1;33m2\u001b[0m\n"
      ]
     },
     "metadata": {},
     "output_type": "display_data"
    },
    {
     "name": "stdout",
     "output_type": "stream",
     "text": [
      "Reading ../Data/SOBOL_DESIGNS_RANS/DESIGNS/DSN_0126/DIRECT/../config_DSN.cfg\n"
     ]
    },
    {
     "data": {
      "text/html": [
       "<pre style=\"white-space:pre;overflow-x:auto;line-height:normal;font-family:Menlo,'DejaVu Sans Mono',consolas,'Courier New',monospace\"><span style=\"color: #808000; text-decoration-color: #808000; font-weight: bold\">Warning:</span><span style=\"color: #808000; text-decoration-color: #808000\"> meshio does not support tags of string type.</span>\n",
       "<span style=\"color: #808000; text-decoration-color: #808000\">    Surface tag  AIRFOIL will be replaced by </span><span style=\"color: #808000; text-decoration-color: #808000; font-weight: bold\">1</span>\n",
       "</pre>\n"
      ],
      "text/plain": [
       "\u001b[1;33mWarning:\u001b[0m\u001b[33m meshio does not support tags of string type.\u001b[0m\n",
       "\u001b[33m    Surface tag  AIRFOIL will be replaced by \u001b[0m\u001b[1;33m1\u001b[0m\n"
      ]
     },
     "metadata": {},
     "output_type": "display_data"
    },
    {
     "data": {
      "text/html": [
       "<pre style=\"white-space:pre;overflow-x:auto;line-height:normal;font-family:Menlo,'DejaVu Sans Mono',consolas,'Courier New',monospace\"><span style=\"color: #808000; text-decoration-color: #808000; font-weight: bold\">Warning:</span><span style=\"color: #808000; text-decoration-color: #808000\"> meshio does not support tags of string type.</span>\n",
       "<span style=\"color: #808000; text-decoration-color: #808000\">    Surface tag  FARFIELD will be replaced by </span><span style=\"color: #808000; text-decoration-color: #808000; font-weight: bold\">2</span>\n",
       "</pre>\n"
      ],
      "text/plain": [
       "\u001b[1;33mWarning:\u001b[0m\u001b[33m meshio does not support tags of string type.\u001b[0m\n",
       "\u001b[33m    Surface tag  FARFIELD will be replaced by \u001b[0m\u001b[1;33m2\u001b[0m\n"
      ]
     },
     "metadata": {},
     "output_type": "display_data"
    },
    {
     "name": "stdout",
     "output_type": "stream",
     "text": [
      "Reading ../Data/SOBOL_DESIGNS_RANS/DESIGNS/DSN_0127/DIRECT/../config_DSN.cfg\n"
     ]
    },
    {
     "data": {
      "text/html": [
       "<pre style=\"white-space:pre;overflow-x:auto;line-height:normal;font-family:Menlo,'DejaVu Sans Mono',consolas,'Courier New',monospace\"><span style=\"color: #808000; text-decoration-color: #808000; font-weight: bold\">Warning:</span><span style=\"color: #808000; text-decoration-color: #808000\"> meshio does not support tags of string type.</span>\n",
       "<span style=\"color: #808000; text-decoration-color: #808000\">    Surface tag  AIRFOIL will be replaced by </span><span style=\"color: #808000; text-decoration-color: #808000; font-weight: bold\">1</span>\n",
       "</pre>\n"
      ],
      "text/plain": [
       "\u001b[1;33mWarning:\u001b[0m\u001b[33m meshio does not support tags of string type.\u001b[0m\n",
       "\u001b[33m    Surface tag  AIRFOIL will be replaced by \u001b[0m\u001b[1;33m1\u001b[0m\n"
      ]
     },
     "metadata": {},
     "output_type": "display_data"
    },
    {
     "data": {
      "text/html": [
       "<pre style=\"white-space:pre;overflow-x:auto;line-height:normal;font-family:Menlo,'DejaVu Sans Mono',consolas,'Courier New',monospace\"><span style=\"color: #808000; text-decoration-color: #808000; font-weight: bold\">Warning:</span><span style=\"color: #808000; text-decoration-color: #808000\"> meshio does not support tags of string type.</span>\n",
       "<span style=\"color: #808000; text-decoration-color: #808000\">    Surface tag  FARFIELD will be replaced by </span><span style=\"color: #808000; text-decoration-color: #808000; font-weight: bold\">2</span>\n",
       "</pre>\n"
      ],
      "text/plain": [
       "\u001b[1;33mWarning:\u001b[0m\u001b[33m meshio does not support tags of string type.\u001b[0m\n",
       "\u001b[33m    Surface tag  FARFIELD will be replaced by \u001b[0m\u001b[1;33m2\u001b[0m\n"
      ]
     },
     "metadata": {},
     "output_type": "display_data"
    },
    {
     "name": "stdout",
     "output_type": "stream",
     "text": [
      "Reading ../Data/SOBOL_DESIGNS_RANS/DESIGNS/DSN_0128/DIRECT/../config_DSN.cfg\n"
     ]
    },
    {
     "data": {
      "text/html": [
       "<pre style=\"white-space:pre;overflow-x:auto;line-height:normal;font-family:Menlo,'DejaVu Sans Mono',consolas,'Courier New',monospace\"><span style=\"color: #808000; text-decoration-color: #808000; font-weight: bold\">Warning:</span><span style=\"color: #808000; text-decoration-color: #808000\"> meshio does not support tags of string type.</span>\n",
       "<span style=\"color: #808000; text-decoration-color: #808000\">    Surface tag  AIRFOIL will be replaced by </span><span style=\"color: #808000; text-decoration-color: #808000; font-weight: bold\">1</span>\n",
       "</pre>\n"
      ],
      "text/plain": [
       "\u001b[1;33mWarning:\u001b[0m\u001b[33m meshio does not support tags of string type.\u001b[0m\n",
       "\u001b[33m    Surface tag  AIRFOIL will be replaced by \u001b[0m\u001b[1;33m1\u001b[0m\n"
      ]
     },
     "metadata": {},
     "output_type": "display_data"
    },
    {
     "data": {
      "text/html": [
       "<pre style=\"white-space:pre;overflow-x:auto;line-height:normal;font-family:Menlo,'DejaVu Sans Mono',consolas,'Courier New',monospace\"><span style=\"color: #808000; text-decoration-color: #808000; font-weight: bold\">Warning:</span><span style=\"color: #808000; text-decoration-color: #808000\"> meshio does not support tags of string type.</span>\n",
       "<span style=\"color: #808000; text-decoration-color: #808000\">    Surface tag  FARFIELD will be replaced by </span><span style=\"color: #808000; text-decoration-color: #808000; font-weight: bold\">2</span>\n",
       "</pre>\n"
      ],
      "text/plain": [
       "\u001b[1;33mWarning:\u001b[0m\u001b[33m meshio does not support tags of string type.\u001b[0m\n",
       "\u001b[33m    Surface tag  FARFIELD will be replaced by \u001b[0m\u001b[1;33m2\u001b[0m\n"
      ]
     },
     "metadata": {},
     "output_type": "display_data"
    },
    {
     "name": "stdout",
     "output_type": "stream",
     "text": [
      "Reading ../Data/SOBOL_DESIGNS_RANS/DESIGNS/DSN_0129/DIRECT/../config_DSN.cfg\n"
     ]
    },
    {
     "data": {
      "text/html": [
       "<pre style=\"white-space:pre;overflow-x:auto;line-height:normal;font-family:Menlo,'DejaVu Sans Mono',consolas,'Courier New',monospace\"><span style=\"color: #808000; text-decoration-color: #808000; font-weight: bold\">Warning:</span><span style=\"color: #808000; text-decoration-color: #808000\"> meshio does not support tags of string type.</span>\n",
       "<span style=\"color: #808000; text-decoration-color: #808000\">    Surface tag  AIRFOIL will be replaced by </span><span style=\"color: #808000; text-decoration-color: #808000; font-weight: bold\">1</span>\n",
       "</pre>\n"
      ],
      "text/plain": [
       "\u001b[1;33mWarning:\u001b[0m\u001b[33m meshio does not support tags of string type.\u001b[0m\n",
       "\u001b[33m    Surface tag  AIRFOIL will be replaced by \u001b[0m\u001b[1;33m1\u001b[0m\n"
      ]
     },
     "metadata": {},
     "output_type": "display_data"
    },
    {
     "data": {
      "text/html": [
       "<pre style=\"white-space:pre;overflow-x:auto;line-height:normal;font-family:Menlo,'DejaVu Sans Mono',consolas,'Courier New',monospace\"><span style=\"color: #808000; text-decoration-color: #808000; font-weight: bold\">Warning:</span><span style=\"color: #808000; text-decoration-color: #808000\"> meshio does not support tags of string type.</span>\n",
       "<span style=\"color: #808000; text-decoration-color: #808000\">    Surface tag  FARFIELD will be replaced by </span><span style=\"color: #808000; text-decoration-color: #808000; font-weight: bold\">2</span>\n",
       "</pre>\n"
      ],
      "text/plain": [
       "\u001b[1;33mWarning:\u001b[0m\u001b[33m meshio does not support tags of string type.\u001b[0m\n",
       "\u001b[33m    Surface tag  FARFIELD will be replaced by \u001b[0m\u001b[1;33m2\u001b[0m\n"
      ]
     },
     "metadata": {},
     "output_type": "display_data"
    },
    {
     "name": "stdout",
     "output_type": "stream",
     "text": [
      "Reading ../Data/SOBOL_DESIGNS_RANS/DESIGNS/DSN_0130/DIRECT/../config_DSN.cfg\n"
     ]
    },
    {
     "data": {
      "text/html": [
       "<pre style=\"white-space:pre;overflow-x:auto;line-height:normal;font-family:Menlo,'DejaVu Sans Mono',consolas,'Courier New',monospace\"><span style=\"color: #808000; text-decoration-color: #808000; font-weight: bold\">Warning:</span><span style=\"color: #808000; text-decoration-color: #808000\"> meshio does not support tags of string type.</span>\n",
       "<span style=\"color: #808000; text-decoration-color: #808000\">    Surface tag  AIRFOIL will be replaced by </span><span style=\"color: #808000; text-decoration-color: #808000; font-weight: bold\">1</span>\n",
       "</pre>\n"
      ],
      "text/plain": [
       "\u001b[1;33mWarning:\u001b[0m\u001b[33m meshio does not support tags of string type.\u001b[0m\n",
       "\u001b[33m    Surface tag  AIRFOIL will be replaced by \u001b[0m\u001b[1;33m1\u001b[0m\n"
      ]
     },
     "metadata": {},
     "output_type": "display_data"
    },
    {
     "data": {
      "text/html": [
       "<pre style=\"white-space:pre;overflow-x:auto;line-height:normal;font-family:Menlo,'DejaVu Sans Mono',consolas,'Courier New',monospace\"><span style=\"color: #808000; text-decoration-color: #808000; font-weight: bold\">Warning:</span><span style=\"color: #808000; text-decoration-color: #808000\"> meshio does not support tags of string type.</span>\n",
       "<span style=\"color: #808000; text-decoration-color: #808000\">    Surface tag  FARFIELD will be replaced by </span><span style=\"color: #808000; text-decoration-color: #808000; font-weight: bold\">2</span>\n",
       "</pre>\n"
      ],
      "text/plain": [
       "\u001b[1;33mWarning:\u001b[0m\u001b[33m meshio does not support tags of string type.\u001b[0m\n",
       "\u001b[33m    Surface tag  FARFIELD will be replaced by \u001b[0m\u001b[1;33m2\u001b[0m\n"
      ]
     },
     "metadata": {},
     "output_type": "display_data"
    },
    {
     "name": "stdout",
     "output_type": "stream",
     "text": [
      "Reading ../Data/SOBOL_DESIGNS_RANS/DESIGNS/DSN_0131/DIRECT/../config_DSN.cfg\n"
     ]
    },
    {
     "data": {
      "text/html": [
       "<pre style=\"white-space:pre;overflow-x:auto;line-height:normal;font-family:Menlo,'DejaVu Sans Mono',consolas,'Courier New',monospace\"><span style=\"color: #808000; text-decoration-color: #808000; font-weight: bold\">Warning:</span><span style=\"color: #808000; text-decoration-color: #808000\"> meshio does not support tags of string type.</span>\n",
       "<span style=\"color: #808000; text-decoration-color: #808000\">    Surface tag  AIRFOIL will be replaced by </span><span style=\"color: #808000; text-decoration-color: #808000; font-weight: bold\">1</span>\n",
       "</pre>\n"
      ],
      "text/plain": [
       "\u001b[1;33mWarning:\u001b[0m\u001b[33m meshio does not support tags of string type.\u001b[0m\n",
       "\u001b[33m    Surface tag  AIRFOIL will be replaced by \u001b[0m\u001b[1;33m1\u001b[0m\n"
      ]
     },
     "metadata": {},
     "output_type": "display_data"
    },
    {
     "data": {
      "text/html": [
       "<pre style=\"white-space:pre;overflow-x:auto;line-height:normal;font-family:Menlo,'DejaVu Sans Mono',consolas,'Courier New',monospace\"><span style=\"color: #808000; text-decoration-color: #808000; font-weight: bold\">Warning:</span><span style=\"color: #808000; text-decoration-color: #808000\"> meshio does not support tags of string type.</span>\n",
       "<span style=\"color: #808000; text-decoration-color: #808000\">    Surface tag  FARFIELD will be replaced by </span><span style=\"color: #808000; text-decoration-color: #808000; font-weight: bold\">2</span>\n",
       "</pre>\n"
      ],
      "text/plain": [
       "\u001b[1;33mWarning:\u001b[0m\u001b[33m meshio does not support tags of string type.\u001b[0m\n",
       "\u001b[33m    Surface tag  FARFIELD will be replaced by \u001b[0m\u001b[1;33m2\u001b[0m\n"
      ]
     },
     "metadata": {},
     "output_type": "display_data"
    },
    {
     "name": "stdout",
     "output_type": "stream",
     "text": [
      "Reading ../Data/SOBOL_DESIGNS_RANS/DESIGNS/DSN_0132/DIRECT/../config_DSN.cfg\n"
     ]
    },
    {
     "data": {
      "text/html": [
       "<pre style=\"white-space:pre;overflow-x:auto;line-height:normal;font-family:Menlo,'DejaVu Sans Mono',consolas,'Courier New',monospace\"><span style=\"color: #808000; text-decoration-color: #808000; font-weight: bold\">Warning:</span><span style=\"color: #808000; text-decoration-color: #808000\"> meshio does not support tags of string type.</span>\n",
       "<span style=\"color: #808000; text-decoration-color: #808000\">    Surface tag  AIRFOIL will be replaced by </span><span style=\"color: #808000; text-decoration-color: #808000; font-weight: bold\">1</span>\n",
       "</pre>\n"
      ],
      "text/plain": [
       "\u001b[1;33mWarning:\u001b[0m\u001b[33m meshio does not support tags of string type.\u001b[0m\n",
       "\u001b[33m    Surface tag  AIRFOIL will be replaced by \u001b[0m\u001b[1;33m1\u001b[0m\n"
      ]
     },
     "metadata": {},
     "output_type": "display_data"
    },
    {
     "data": {
      "text/html": [
       "<pre style=\"white-space:pre;overflow-x:auto;line-height:normal;font-family:Menlo,'DejaVu Sans Mono',consolas,'Courier New',monospace\"><span style=\"color: #808000; text-decoration-color: #808000; font-weight: bold\">Warning:</span><span style=\"color: #808000; text-decoration-color: #808000\"> meshio does not support tags of string type.</span>\n",
       "<span style=\"color: #808000; text-decoration-color: #808000\">    Surface tag  FARFIELD will be replaced by </span><span style=\"color: #808000; text-decoration-color: #808000; font-weight: bold\">2</span>\n",
       "</pre>\n"
      ],
      "text/plain": [
       "\u001b[1;33mWarning:\u001b[0m\u001b[33m meshio does not support tags of string type.\u001b[0m\n",
       "\u001b[33m    Surface tag  FARFIELD will be replaced by \u001b[0m\u001b[1;33m2\u001b[0m\n"
      ]
     },
     "metadata": {},
     "output_type": "display_data"
    },
    {
     "name": "stdout",
     "output_type": "stream",
     "text": [
      "Reading ../Data/SOBOL_DESIGNS_RANS/DESIGNS/DSN_0133/DIRECT/../config_DSN.cfg\n"
     ]
    },
    {
     "data": {
      "text/html": [
       "<pre style=\"white-space:pre;overflow-x:auto;line-height:normal;font-family:Menlo,'DejaVu Sans Mono',consolas,'Courier New',monospace\"><span style=\"color: #808000; text-decoration-color: #808000; font-weight: bold\">Warning:</span><span style=\"color: #808000; text-decoration-color: #808000\"> meshio does not support tags of string type.</span>\n",
       "<span style=\"color: #808000; text-decoration-color: #808000\">    Surface tag  AIRFOIL will be replaced by </span><span style=\"color: #808000; text-decoration-color: #808000; font-weight: bold\">1</span>\n",
       "</pre>\n"
      ],
      "text/plain": [
       "\u001b[1;33mWarning:\u001b[0m\u001b[33m meshio does not support tags of string type.\u001b[0m\n",
       "\u001b[33m    Surface tag  AIRFOIL will be replaced by \u001b[0m\u001b[1;33m1\u001b[0m\n"
      ]
     },
     "metadata": {},
     "output_type": "display_data"
    },
    {
     "data": {
      "text/html": [
       "<pre style=\"white-space:pre;overflow-x:auto;line-height:normal;font-family:Menlo,'DejaVu Sans Mono',consolas,'Courier New',monospace\"><span style=\"color: #808000; text-decoration-color: #808000; font-weight: bold\">Warning:</span><span style=\"color: #808000; text-decoration-color: #808000\"> meshio does not support tags of string type.</span>\n",
       "<span style=\"color: #808000; text-decoration-color: #808000\">    Surface tag  FARFIELD will be replaced by </span><span style=\"color: #808000; text-decoration-color: #808000; font-weight: bold\">2</span>\n",
       "</pre>\n"
      ],
      "text/plain": [
       "\u001b[1;33mWarning:\u001b[0m\u001b[33m meshio does not support tags of string type.\u001b[0m\n",
       "\u001b[33m    Surface tag  FARFIELD will be replaced by \u001b[0m\u001b[1;33m2\u001b[0m\n"
      ]
     },
     "metadata": {},
     "output_type": "display_data"
    },
    {
     "name": "stdout",
     "output_type": "stream",
     "text": [
      "Reading ../Data/SOBOL_DESIGNS_RANS/DESIGNS/DSN_0134/DIRECT/../config_DSN.cfg\n"
     ]
    },
    {
     "data": {
      "text/html": [
       "<pre style=\"white-space:pre;overflow-x:auto;line-height:normal;font-family:Menlo,'DejaVu Sans Mono',consolas,'Courier New',monospace\"><span style=\"color: #808000; text-decoration-color: #808000; font-weight: bold\">Warning:</span><span style=\"color: #808000; text-decoration-color: #808000\"> meshio does not support tags of string type.</span>\n",
       "<span style=\"color: #808000; text-decoration-color: #808000\">    Surface tag  AIRFOIL will be replaced by </span><span style=\"color: #808000; text-decoration-color: #808000; font-weight: bold\">1</span>\n",
       "</pre>\n"
      ],
      "text/plain": [
       "\u001b[1;33mWarning:\u001b[0m\u001b[33m meshio does not support tags of string type.\u001b[0m\n",
       "\u001b[33m    Surface tag  AIRFOIL will be replaced by \u001b[0m\u001b[1;33m1\u001b[0m\n"
      ]
     },
     "metadata": {},
     "output_type": "display_data"
    },
    {
     "data": {
      "text/html": [
       "<pre style=\"white-space:pre;overflow-x:auto;line-height:normal;font-family:Menlo,'DejaVu Sans Mono',consolas,'Courier New',monospace\"><span style=\"color: #808000; text-decoration-color: #808000; font-weight: bold\">Warning:</span><span style=\"color: #808000; text-decoration-color: #808000\"> meshio does not support tags of string type.</span>\n",
       "<span style=\"color: #808000; text-decoration-color: #808000\">    Surface tag  FARFIELD will be replaced by </span><span style=\"color: #808000; text-decoration-color: #808000; font-weight: bold\">2</span>\n",
       "</pre>\n"
      ],
      "text/plain": [
       "\u001b[1;33mWarning:\u001b[0m\u001b[33m meshio does not support tags of string type.\u001b[0m\n",
       "\u001b[33m    Surface tag  FARFIELD will be replaced by \u001b[0m\u001b[1;33m2\u001b[0m\n"
      ]
     },
     "metadata": {},
     "output_type": "display_data"
    },
    {
     "name": "stdout",
     "output_type": "stream",
     "text": [
      "Reading ../Data/SOBOL_DESIGNS_RANS/DESIGNS/DSN_0135/DIRECT/../config_DSN.cfg\n"
     ]
    },
    {
     "data": {
      "text/html": [
       "<pre style=\"white-space:pre;overflow-x:auto;line-height:normal;font-family:Menlo,'DejaVu Sans Mono',consolas,'Courier New',monospace\"><span style=\"color: #808000; text-decoration-color: #808000; font-weight: bold\">Warning:</span><span style=\"color: #808000; text-decoration-color: #808000\"> meshio does not support tags of string type.</span>\n",
       "<span style=\"color: #808000; text-decoration-color: #808000\">    Surface tag  AIRFOIL will be replaced by </span><span style=\"color: #808000; text-decoration-color: #808000; font-weight: bold\">1</span>\n",
       "</pre>\n"
      ],
      "text/plain": [
       "\u001b[1;33mWarning:\u001b[0m\u001b[33m meshio does not support tags of string type.\u001b[0m\n",
       "\u001b[33m    Surface tag  AIRFOIL will be replaced by \u001b[0m\u001b[1;33m1\u001b[0m\n"
      ]
     },
     "metadata": {},
     "output_type": "display_data"
    },
    {
     "data": {
      "text/html": [
       "<pre style=\"white-space:pre;overflow-x:auto;line-height:normal;font-family:Menlo,'DejaVu Sans Mono',consolas,'Courier New',monospace\"><span style=\"color: #808000; text-decoration-color: #808000; font-weight: bold\">Warning:</span><span style=\"color: #808000; text-decoration-color: #808000\"> meshio does not support tags of string type.</span>\n",
       "<span style=\"color: #808000; text-decoration-color: #808000\">    Surface tag  FARFIELD will be replaced by </span><span style=\"color: #808000; text-decoration-color: #808000; font-weight: bold\">2</span>\n",
       "</pre>\n"
      ],
      "text/plain": [
       "\u001b[1;33mWarning:\u001b[0m\u001b[33m meshio does not support tags of string type.\u001b[0m\n",
       "\u001b[33m    Surface tag  FARFIELD will be replaced by \u001b[0m\u001b[1;33m2\u001b[0m\n"
      ]
     },
     "metadata": {},
     "output_type": "display_data"
    },
    {
     "name": "stdout",
     "output_type": "stream",
     "text": [
      "Reading ../Data/SOBOL_DESIGNS_RANS/DESIGNS/DSN_0136/DIRECT/../config_DSN.cfg\n"
     ]
    },
    {
     "data": {
      "text/html": [
       "<pre style=\"white-space:pre;overflow-x:auto;line-height:normal;font-family:Menlo,'DejaVu Sans Mono',consolas,'Courier New',monospace\"><span style=\"color: #808000; text-decoration-color: #808000; font-weight: bold\">Warning:</span><span style=\"color: #808000; text-decoration-color: #808000\"> meshio does not support tags of string type.</span>\n",
       "<span style=\"color: #808000; text-decoration-color: #808000\">    Surface tag  AIRFOIL will be replaced by </span><span style=\"color: #808000; text-decoration-color: #808000; font-weight: bold\">1</span>\n",
       "</pre>\n"
      ],
      "text/plain": [
       "\u001b[1;33mWarning:\u001b[0m\u001b[33m meshio does not support tags of string type.\u001b[0m\n",
       "\u001b[33m    Surface tag  AIRFOIL will be replaced by \u001b[0m\u001b[1;33m1\u001b[0m\n"
      ]
     },
     "metadata": {},
     "output_type": "display_data"
    },
    {
     "data": {
      "text/html": [
       "<pre style=\"white-space:pre;overflow-x:auto;line-height:normal;font-family:Menlo,'DejaVu Sans Mono',consolas,'Courier New',monospace\"><span style=\"color: #808000; text-decoration-color: #808000; font-weight: bold\">Warning:</span><span style=\"color: #808000; text-decoration-color: #808000\"> meshio does not support tags of string type.</span>\n",
       "<span style=\"color: #808000; text-decoration-color: #808000\">    Surface tag  FARFIELD will be replaced by </span><span style=\"color: #808000; text-decoration-color: #808000; font-weight: bold\">2</span>\n",
       "</pre>\n"
      ],
      "text/plain": [
       "\u001b[1;33mWarning:\u001b[0m\u001b[33m meshio does not support tags of string type.\u001b[0m\n",
       "\u001b[33m    Surface tag  FARFIELD will be replaced by \u001b[0m\u001b[1;33m2\u001b[0m\n"
      ]
     },
     "metadata": {},
     "output_type": "display_data"
    },
    {
     "name": "stdout",
     "output_type": "stream",
     "text": [
      "Reading ../Data/SOBOL_DESIGNS_RANS/DESIGNS/DSN_0137/DIRECT/../config_DSN.cfg\n"
     ]
    },
    {
     "data": {
      "text/html": [
       "<pre style=\"white-space:pre;overflow-x:auto;line-height:normal;font-family:Menlo,'DejaVu Sans Mono',consolas,'Courier New',monospace\"><span style=\"color: #808000; text-decoration-color: #808000; font-weight: bold\">Warning:</span><span style=\"color: #808000; text-decoration-color: #808000\"> meshio does not support tags of string type.</span>\n",
       "<span style=\"color: #808000; text-decoration-color: #808000\">    Surface tag  AIRFOIL will be replaced by </span><span style=\"color: #808000; text-decoration-color: #808000; font-weight: bold\">1</span>\n",
       "</pre>\n"
      ],
      "text/plain": [
       "\u001b[1;33mWarning:\u001b[0m\u001b[33m meshio does not support tags of string type.\u001b[0m\n",
       "\u001b[33m    Surface tag  AIRFOIL will be replaced by \u001b[0m\u001b[1;33m1\u001b[0m\n"
      ]
     },
     "metadata": {},
     "output_type": "display_data"
    },
    {
     "data": {
      "text/html": [
       "<pre style=\"white-space:pre;overflow-x:auto;line-height:normal;font-family:Menlo,'DejaVu Sans Mono',consolas,'Courier New',monospace\"><span style=\"color: #808000; text-decoration-color: #808000; font-weight: bold\">Warning:</span><span style=\"color: #808000; text-decoration-color: #808000\"> meshio does not support tags of string type.</span>\n",
       "<span style=\"color: #808000; text-decoration-color: #808000\">    Surface tag  FARFIELD will be replaced by </span><span style=\"color: #808000; text-decoration-color: #808000; font-weight: bold\">2</span>\n",
       "</pre>\n"
      ],
      "text/plain": [
       "\u001b[1;33mWarning:\u001b[0m\u001b[33m meshio does not support tags of string type.\u001b[0m\n",
       "\u001b[33m    Surface tag  FARFIELD will be replaced by \u001b[0m\u001b[1;33m2\u001b[0m\n"
      ]
     },
     "metadata": {},
     "output_type": "display_data"
    },
    {
     "name": "stdout",
     "output_type": "stream",
     "text": [
      "Reading ../Data/SOBOL_DESIGNS_RANS/DESIGNS/DSN_0138/DIRECT/../config_DSN.cfg\n"
     ]
    },
    {
     "data": {
      "text/html": [
       "<pre style=\"white-space:pre;overflow-x:auto;line-height:normal;font-family:Menlo,'DejaVu Sans Mono',consolas,'Courier New',monospace\"><span style=\"color: #808000; text-decoration-color: #808000; font-weight: bold\">Warning:</span><span style=\"color: #808000; text-decoration-color: #808000\"> meshio does not support tags of string type.</span>\n",
       "<span style=\"color: #808000; text-decoration-color: #808000\">    Surface tag  AIRFOIL will be replaced by </span><span style=\"color: #808000; text-decoration-color: #808000; font-weight: bold\">1</span>\n",
       "</pre>\n"
      ],
      "text/plain": [
       "\u001b[1;33mWarning:\u001b[0m\u001b[33m meshio does not support tags of string type.\u001b[0m\n",
       "\u001b[33m    Surface tag  AIRFOIL will be replaced by \u001b[0m\u001b[1;33m1\u001b[0m\n"
      ]
     },
     "metadata": {},
     "output_type": "display_data"
    },
    {
     "data": {
      "text/html": [
       "<pre style=\"white-space:pre;overflow-x:auto;line-height:normal;font-family:Menlo,'DejaVu Sans Mono',consolas,'Courier New',monospace\"><span style=\"color: #808000; text-decoration-color: #808000; font-weight: bold\">Warning:</span><span style=\"color: #808000; text-decoration-color: #808000\"> meshio does not support tags of string type.</span>\n",
       "<span style=\"color: #808000; text-decoration-color: #808000\">    Surface tag  FARFIELD will be replaced by </span><span style=\"color: #808000; text-decoration-color: #808000; font-weight: bold\">2</span>\n",
       "</pre>\n"
      ],
      "text/plain": [
       "\u001b[1;33mWarning:\u001b[0m\u001b[33m meshio does not support tags of string type.\u001b[0m\n",
       "\u001b[33m    Surface tag  FARFIELD will be replaced by \u001b[0m\u001b[1;33m2\u001b[0m\n"
      ]
     },
     "metadata": {},
     "output_type": "display_data"
    },
    {
     "name": "stdout",
     "output_type": "stream",
     "text": [
      "Reading ../Data/SOBOL_DESIGNS_RANS/DESIGNS/DSN_0139/DIRECT/../config_DSN.cfg\n"
     ]
    },
    {
     "data": {
      "text/html": [
       "<pre style=\"white-space:pre;overflow-x:auto;line-height:normal;font-family:Menlo,'DejaVu Sans Mono',consolas,'Courier New',monospace\"><span style=\"color: #808000; text-decoration-color: #808000; font-weight: bold\">Warning:</span><span style=\"color: #808000; text-decoration-color: #808000\"> meshio does not support tags of string type.</span>\n",
       "<span style=\"color: #808000; text-decoration-color: #808000\">    Surface tag  AIRFOIL will be replaced by </span><span style=\"color: #808000; text-decoration-color: #808000; font-weight: bold\">1</span>\n",
       "</pre>\n"
      ],
      "text/plain": [
       "\u001b[1;33mWarning:\u001b[0m\u001b[33m meshio does not support tags of string type.\u001b[0m\n",
       "\u001b[33m    Surface tag  AIRFOIL will be replaced by \u001b[0m\u001b[1;33m1\u001b[0m\n"
      ]
     },
     "metadata": {},
     "output_type": "display_data"
    },
    {
     "data": {
      "text/html": [
       "<pre style=\"white-space:pre;overflow-x:auto;line-height:normal;font-family:Menlo,'DejaVu Sans Mono',consolas,'Courier New',monospace\"><span style=\"color: #808000; text-decoration-color: #808000; font-weight: bold\">Warning:</span><span style=\"color: #808000; text-decoration-color: #808000\"> meshio does not support tags of string type.</span>\n",
       "<span style=\"color: #808000; text-decoration-color: #808000\">    Surface tag  FARFIELD will be replaced by </span><span style=\"color: #808000; text-decoration-color: #808000; font-weight: bold\">2</span>\n",
       "</pre>\n"
      ],
      "text/plain": [
       "\u001b[1;33mWarning:\u001b[0m\u001b[33m meshio does not support tags of string type.\u001b[0m\n",
       "\u001b[33m    Surface tag  FARFIELD will be replaced by \u001b[0m\u001b[1;33m2\u001b[0m\n"
      ]
     },
     "metadata": {},
     "output_type": "display_data"
    },
    {
     "name": "stdout",
     "output_type": "stream",
     "text": [
      "Reading ../Data/SOBOL_DESIGNS_RANS/DESIGNS/DSN_0140/DIRECT/../config_DSN.cfg\n"
     ]
    },
    {
     "data": {
      "text/html": [
       "<pre style=\"white-space:pre;overflow-x:auto;line-height:normal;font-family:Menlo,'DejaVu Sans Mono',consolas,'Courier New',monospace\"><span style=\"color: #808000; text-decoration-color: #808000; font-weight: bold\">Warning:</span><span style=\"color: #808000; text-decoration-color: #808000\"> meshio does not support tags of string type.</span>\n",
       "<span style=\"color: #808000; text-decoration-color: #808000\">    Surface tag  AIRFOIL will be replaced by </span><span style=\"color: #808000; text-decoration-color: #808000; font-weight: bold\">1</span>\n",
       "</pre>\n"
      ],
      "text/plain": [
       "\u001b[1;33mWarning:\u001b[0m\u001b[33m meshio does not support tags of string type.\u001b[0m\n",
       "\u001b[33m    Surface tag  AIRFOIL will be replaced by \u001b[0m\u001b[1;33m1\u001b[0m\n"
      ]
     },
     "metadata": {},
     "output_type": "display_data"
    },
    {
     "data": {
      "text/html": [
       "<pre style=\"white-space:pre;overflow-x:auto;line-height:normal;font-family:Menlo,'DejaVu Sans Mono',consolas,'Courier New',monospace\"><span style=\"color: #808000; text-decoration-color: #808000; font-weight: bold\">Warning:</span><span style=\"color: #808000; text-decoration-color: #808000\"> meshio does not support tags of string type.</span>\n",
       "<span style=\"color: #808000; text-decoration-color: #808000\">    Surface tag  FARFIELD will be replaced by </span><span style=\"color: #808000; text-decoration-color: #808000; font-weight: bold\">2</span>\n",
       "</pre>\n"
      ],
      "text/plain": [
       "\u001b[1;33mWarning:\u001b[0m\u001b[33m meshio does not support tags of string type.\u001b[0m\n",
       "\u001b[33m    Surface tag  FARFIELD will be replaced by \u001b[0m\u001b[1;33m2\u001b[0m\n"
      ]
     },
     "metadata": {},
     "output_type": "display_data"
    },
    {
     "name": "stdout",
     "output_type": "stream",
     "text": [
      "Reading ../Data/SOBOL_DESIGNS_RANS/DESIGNS/DSN_0141/DIRECT/../config_DSN.cfg\n"
     ]
    },
    {
     "data": {
      "text/html": [
       "<pre style=\"white-space:pre;overflow-x:auto;line-height:normal;font-family:Menlo,'DejaVu Sans Mono',consolas,'Courier New',monospace\"><span style=\"color: #808000; text-decoration-color: #808000; font-weight: bold\">Warning:</span><span style=\"color: #808000; text-decoration-color: #808000\"> meshio does not support tags of string type.</span>\n",
       "<span style=\"color: #808000; text-decoration-color: #808000\">    Surface tag  AIRFOIL will be replaced by </span><span style=\"color: #808000; text-decoration-color: #808000; font-weight: bold\">1</span>\n",
       "</pre>\n"
      ],
      "text/plain": [
       "\u001b[1;33mWarning:\u001b[0m\u001b[33m meshio does not support tags of string type.\u001b[0m\n",
       "\u001b[33m    Surface tag  AIRFOIL will be replaced by \u001b[0m\u001b[1;33m1\u001b[0m\n"
      ]
     },
     "metadata": {},
     "output_type": "display_data"
    },
    {
     "data": {
      "text/html": [
       "<pre style=\"white-space:pre;overflow-x:auto;line-height:normal;font-family:Menlo,'DejaVu Sans Mono',consolas,'Courier New',monospace\"><span style=\"color: #808000; text-decoration-color: #808000; font-weight: bold\">Warning:</span><span style=\"color: #808000; text-decoration-color: #808000\"> meshio does not support tags of string type.</span>\n",
       "<span style=\"color: #808000; text-decoration-color: #808000\">    Surface tag  FARFIELD will be replaced by </span><span style=\"color: #808000; text-decoration-color: #808000; font-weight: bold\">2</span>\n",
       "</pre>\n"
      ],
      "text/plain": [
       "\u001b[1;33mWarning:\u001b[0m\u001b[33m meshio does not support tags of string type.\u001b[0m\n",
       "\u001b[33m    Surface tag  FARFIELD will be replaced by \u001b[0m\u001b[1;33m2\u001b[0m\n"
      ]
     },
     "metadata": {},
     "output_type": "display_data"
    },
    {
     "name": "stdout",
     "output_type": "stream",
     "text": [
      "Reading ../Data/SOBOL_DESIGNS_RANS/DESIGNS/DSN_0142/DIRECT/../config_DSN.cfg\n"
     ]
    },
    {
     "data": {
      "text/html": [
       "<pre style=\"white-space:pre;overflow-x:auto;line-height:normal;font-family:Menlo,'DejaVu Sans Mono',consolas,'Courier New',monospace\"><span style=\"color: #808000; text-decoration-color: #808000; font-weight: bold\">Warning:</span><span style=\"color: #808000; text-decoration-color: #808000\"> meshio does not support tags of string type.</span>\n",
       "<span style=\"color: #808000; text-decoration-color: #808000\">    Surface tag  AIRFOIL will be replaced by </span><span style=\"color: #808000; text-decoration-color: #808000; font-weight: bold\">1</span>\n",
       "</pre>\n"
      ],
      "text/plain": [
       "\u001b[1;33mWarning:\u001b[0m\u001b[33m meshio does not support tags of string type.\u001b[0m\n",
       "\u001b[33m    Surface tag  AIRFOIL will be replaced by \u001b[0m\u001b[1;33m1\u001b[0m\n"
      ]
     },
     "metadata": {},
     "output_type": "display_data"
    },
    {
     "data": {
      "text/html": [
       "<pre style=\"white-space:pre;overflow-x:auto;line-height:normal;font-family:Menlo,'DejaVu Sans Mono',consolas,'Courier New',monospace\"><span style=\"color: #808000; text-decoration-color: #808000; font-weight: bold\">Warning:</span><span style=\"color: #808000; text-decoration-color: #808000\"> meshio does not support tags of string type.</span>\n",
       "<span style=\"color: #808000; text-decoration-color: #808000\">    Surface tag  FARFIELD will be replaced by </span><span style=\"color: #808000; text-decoration-color: #808000; font-weight: bold\">2</span>\n",
       "</pre>\n"
      ],
      "text/plain": [
       "\u001b[1;33mWarning:\u001b[0m\u001b[33m meshio does not support tags of string type.\u001b[0m\n",
       "\u001b[33m    Surface tag  FARFIELD will be replaced by \u001b[0m\u001b[1;33m2\u001b[0m\n"
      ]
     },
     "metadata": {},
     "output_type": "display_data"
    },
    {
     "name": "stdout",
     "output_type": "stream",
     "text": [
      "Reading ../Data/SOBOL_DESIGNS_RANS/DESIGNS/DSN_0143/DIRECT/../config_DSN.cfg\n"
     ]
    },
    {
     "data": {
      "text/html": [
       "<pre style=\"white-space:pre;overflow-x:auto;line-height:normal;font-family:Menlo,'DejaVu Sans Mono',consolas,'Courier New',monospace\"><span style=\"color: #808000; text-decoration-color: #808000; font-weight: bold\">Warning:</span><span style=\"color: #808000; text-decoration-color: #808000\"> meshio does not support tags of string type.</span>\n",
       "<span style=\"color: #808000; text-decoration-color: #808000\">    Surface tag  AIRFOIL will be replaced by </span><span style=\"color: #808000; text-decoration-color: #808000; font-weight: bold\">1</span>\n",
       "</pre>\n"
      ],
      "text/plain": [
       "\u001b[1;33mWarning:\u001b[0m\u001b[33m meshio does not support tags of string type.\u001b[0m\n",
       "\u001b[33m    Surface tag  AIRFOIL will be replaced by \u001b[0m\u001b[1;33m1\u001b[0m\n"
      ]
     },
     "metadata": {},
     "output_type": "display_data"
    },
    {
     "data": {
      "text/html": [
       "<pre style=\"white-space:pre;overflow-x:auto;line-height:normal;font-family:Menlo,'DejaVu Sans Mono',consolas,'Courier New',monospace\"><span style=\"color: #808000; text-decoration-color: #808000; font-weight: bold\">Warning:</span><span style=\"color: #808000; text-decoration-color: #808000\"> meshio does not support tags of string type.</span>\n",
       "<span style=\"color: #808000; text-decoration-color: #808000\">    Surface tag  FARFIELD will be replaced by </span><span style=\"color: #808000; text-decoration-color: #808000; font-weight: bold\">2</span>\n",
       "</pre>\n"
      ],
      "text/plain": [
       "\u001b[1;33mWarning:\u001b[0m\u001b[33m meshio does not support tags of string type.\u001b[0m\n",
       "\u001b[33m    Surface tag  FARFIELD will be replaced by \u001b[0m\u001b[1;33m2\u001b[0m\n"
      ]
     },
     "metadata": {},
     "output_type": "display_data"
    },
    {
     "name": "stdout",
     "output_type": "stream",
     "text": [
      "Reading ../Data/SOBOL_DESIGNS_RANS/DESIGNS/DSN_0144/DIRECT/../config_DSN.cfg\n"
     ]
    },
    {
     "data": {
      "text/html": [
       "<pre style=\"white-space:pre;overflow-x:auto;line-height:normal;font-family:Menlo,'DejaVu Sans Mono',consolas,'Courier New',monospace\"><span style=\"color: #808000; text-decoration-color: #808000; font-weight: bold\">Warning:</span><span style=\"color: #808000; text-decoration-color: #808000\"> meshio does not support tags of string type.</span>\n",
       "<span style=\"color: #808000; text-decoration-color: #808000\">    Surface tag  AIRFOIL will be replaced by </span><span style=\"color: #808000; text-decoration-color: #808000; font-weight: bold\">1</span>\n",
       "</pre>\n"
      ],
      "text/plain": [
       "\u001b[1;33mWarning:\u001b[0m\u001b[33m meshio does not support tags of string type.\u001b[0m\n",
       "\u001b[33m    Surface tag  AIRFOIL will be replaced by \u001b[0m\u001b[1;33m1\u001b[0m\n"
      ]
     },
     "metadata": {},
     "output_type": "display_data"
    },
    {
     "data": {
      "text/html": [
       "<pre style=\"white-space:pre;overflow-x:auto;line-height:normal;font-family:Menlo,'DejaVu Sans Mono',consolas,'Courier New',monospace\"><span style=\"color: #808000; text-decoration-color: #808000; font-weight: bold\">Warning:</span><span style=\"color: #808000; text-decoration-color: #808000\"> meshio does not support tags of string type.</span>\n",
       "<span style=\"color: #808000; text-decoration-color: #808000\">    Surface tag  FARFIELD will be replaced by </span><span style=\"color: #808000; text-decoration-color: #808000; font-weight: bold\">2</span>\n",
       "</pre>\n"
      ],
      "text/plain": [
       "\u001b[1;33mWarning:\u001b[0m\u001b[33m meshio does not support tags of string type.\u001b[0m\n",
       "\u001b[33m    Surface tag  FARFIELD will be replaced by \u001b[0m\u001b[1;33m2\u001b[0m\n"
      ]
     },
     "metadata": {},
     "output_type": "display_data"
    },
    {
     "name": "stdout",
     "output_type": "stream",
     "text": [
      "Reading ../Data/SOBOL_DESIGNS_RANS/DESIGNS/DSN_0145/DIRECT/../config_DSN.cfg\n"
     ]
    },
    {
     "data": {
      "text/html": [
       "<pre style=\"white-space:pre;overflow-x:auto;line-height:normal;font-family:Menlo,'DejaVu Sans Mono',consolas,'Courier New',monospace\"><span style=\"color: #808000; text-decoration-color: #808000; font-weight: bold\">Warning:</span><span style=\"color: #808000; text-decoration-color: #808000\"> meshio does not support tags of string type.</span>\n",
       "<span style=\"color: #808000; text-decoration-color: #808000\">    Surface tag  AIRFOIL will be replaced by </span><span style=\"color: #808000; text-decoration-color: #808000; font-weight: bold\">1</span>\n",
       "</pre>\n"
      ],
      "text/plain": [
       "\u001b[1;33mWarning:\u001b[0m\u001b[33m meshio does not support tags of string type.\u001b[0m\n",
       "\u001b[33m    Surface tag  AIRFOIL will be replaced by \u001b[0m\u001b[1;33m1\u001b[0m\n"
      ]
     },
     "metadata": {},
     "output_type": "display_data"
    },
    {
     "data": {
      "text/html": [
       "<pre style=\"white-space:pre;overflow-x:auto;line-height:normal;font-family:Menlo,'DejaVu Sans Mono',consolas,'Courier New',monospace\"><span style=\"color: #808000; text-decoration-color: #808000; font-weight: bold\">Warning:</span><span style=\"color: #808000; text-decoration-color: #808000\"> meshio does not support tags of string type.</span>\n",
       "<span style=\"color: #808000; text-decoration-color: #808000\">    Surface tag  FARFIELD will be replaced by </span><span style=\"color: #808000; text-decoration-color: #808000; font-weight: bold\">2</span>\n",
       "</pre>\n"
      ],
      "text/plain": [
       "\u001b[1;33mWarning:\u001b[0m\u001b[33m meshio does not support tags of string type.\u001b[0m\n",
       "\u001b[33m    Surface tag  FARFIELD will be replaced by \u001b[0m\u001b[1;33m2\u001b[0m\n"
      ]
     },
     "metadata": {},
     "output_type": "display_data"
    },
    {
     "name": "stdout",
     "output_type": "stream",
     "text": [
      "Reading ../Data/SOBOL_DESIGNS_RANS/DESIGNS/DSN_0146/DIRECT/../config_DSN.cfg\n"
     ]
    },
    {
     "data": {
      "text/html": [
       "<pre style=\"white-space:pre;overflow-x:auto;line-height:normal;font-family:Menlo,'DejaVu Sans Mono',consolas,'Courier New',monospace\"><span style=\"color: #808000; text-decoration-color: #808000; font-weight: bold\">Warning:</span><span style=\"color: #808000; text-decoration-color: #808000\"> meshio does not support tags of string type.</span>\n",
       "<span style=\"color: #808000; text-decoration-color: #808000\">    Surface tag  AIRFOIL will be replaced by </span><span style=\"color: #808000; text-decoration-color: #808000; font-weight: bold\">1</span>\n",
       "</pre>\n"
      ],
      "text/plain": [
       "\u001b[1;33mWarning:\u001b[0m\u001b[33m meshio does not support tags of string type.\u001b[0m\n",
       "\u001b[33m    Surface tag  AIRFOIL will be replaced by \u001b[0m\u001b[1;33m1\u001b[0m\n"
      ]
     },
     "metadata": {},
     "output_type": "display_data"
    },
    {
     "data": {
      "text/html": [
       "<pre style=\"white-space:pre;overflow-x:auto;line-height:normal;font-family:Menlo,'DejaVu Sans Mono',consolas,'Courier New',monospace\"><span style=\"color: #808000; text-decoration-color: #808000; font-weight: bold\">Warning:</span><span style=\"color: #808000; text-decoration-color: #808000\"> meshio does not support tags of string type.</span>\n",
       "<span style=\"color: #808000; text-decoration-color: #808000\">    Surface tag  FARFIELD will be replaced by </span><span style=\"color: #808000; text-decoration-color: #808000; font-weight: bold\">2</span>\n",
       "</pre>\n"
      ],
      "text/plain": [
       "\u001b[1;33mWarning:\u001b[0m\u001b[33m meshio does not support tags of string type.\u001b[0m\n",
       "\u001b[33m    Surface tag  FARFIELD will be replaced by \u001b[0m\u001b[1;33m2\u001b[0m\n"
      ]
     },
     "metadata": {},
     "output_type": "display_data"
    },
    {
     "name": "stdout",
     "output_type": "stream",
     "text": [
      "Reading ../Data/SOBOL_DESIGNS_RANS/DESIGNS/DSN_0147/DIRECT/../config_DSN.cfg\n"
     ]
    },
    {
     "data": {
      "text/html": [
       "<pre style=\"white-space:pre;overflow-x:auto;line-height:normal;font-family:Menlo,'DejaVu Sans Mono',consolas,'Courier New',monospace\"><span style=\"color: #808000; text-decoration-color: #808000; font-weight: bold\">Warning:</span><span style=\"color: #808000; text-decoration-color: #808000\"> meshio does not support tags of string type.</span>\n",
       "<span style=\"color: #808000; text-decoration-color: #808000\">    Surface tag  AIRFOIL will be replaced by </span><span style=\"color: #808000; text-decoration-color: #808000; font-weight: bold\">1</span>\n",
       "</pre>\n"
      ],
      "text/plain": [
       "\u001b[1;33mWarning:\u001b[0m\u001b[33m meshio does not support tags of string type.\u001b[0m\n",
       "\u001b[33m    Surface tag  AIRFOIL will be replaced by \u001b[0m\u001b[1;33m1\u001b[0m\n"
      ]
     },
     "metadata": {},
     "output_type": "display_data"
    },
    {
     "data": {
      "text/html": [
       "<pre style=\"white-space:pre;overflow-x:auto;line-height:normal;font-family:Menlo,'DejaVu Sans Mono',consolas,'Courier New',monospace\"><span style=\"color: #808000; text-decoration-color: #808000; font-weight: bold\">Warning:</span><span style=\"color: #808000; text-decoration-color: #808000\"> meshio does not support tags of string type.</span>\n",
       "<span style=\"color: #808000; text-decoration-color: #808000\">    Surface tag  FARFIELD will be replaced by </span><span style=\"color: #808000; text-decoration-color: #808000; font-weight: bold\">2</span>\n",
       "</pre>\n"
      ],
      "text/plain": [
       "\u001b[1;33mWarning:\u001b[0m\u001b[33m meshio does not support tags of string type.\u001b[0m\n",
       "\u001b[33m    Surface tag  FARFIELD will be replaced by \u001b[0m\u001b[1;33m2\u001b[0m\n"
      ]
     },
     "metadata": {},
     "output_type": "display_data"
    },
    {
     "name": "stdout",
     "output_type": "stream",
     "text": [
      "Reading ../Data/SOBOL_DESIGNS_RANS/DESIGNS/DSN_0148/DIRECT/../config_DSN.cfg\n"
     ]
    },
    {
     "data": {
      "text/html": [
       "<pre style=\"white-space:pre;overflow-x:auto;line-height:normal;font-family:Menlo,'DejaVu Sans Mono',consolas,'Courier New',monospace\"><span style=\"color: #808000; text-decoration-color: #808000; font-weight: bold\">Warning:</span><span style=\"color: #808000; text-decoration-color: #808000\"> meshio does not support tags of string type.</span>\n",
       "<span style=\"color: #808000; text-decoration-color: #808000\">    Surface tag  AIRFOIL will be replaced by </span><span style=\"color: #808000; text-decoration-color: #808000; font-weight: bold\">1</span>\n",
       "</pre>\n"
      ],
      "text/plain": [
       "\u001b[1;33mWarning:\u001b[0m\u001b[33m meshio does not support tags of string type.\u001b[0m\n",
       "\u001b[33m    Surface tag  AIRFOIL will be replaced by \u001b[0m\u001b[1;33m1\u001b[0m\n"
      ]
     },
     "metadata": {},
     "output_type": "display_data"
    },
    {
     "data": {
      "text/html": [
       "<pre style=\"white-space:pre;overflow-x:auto;line-height:normal;font-family:Menlo,'DejaVu Sans Mono',consolas,'Courier New',monospace\"><span style=\"color: #808000; text-decoration-color: #808000; font-weight: bold\">Warning:</span><span style=\"color: #808000; text-decoration-color: #808000\"> meshio does not support tags of string type.</span>\n",
       "<span style=\"color: #808000; text-decoration-color: #808000\">    Surface tag  FARFIELD will be replaced by </span><span style=\"color: #808000; text-decoration-color: #808000; font-weight: bold\">2</span>\n",
       "</pre>\n"
      ],
      "text/plain": [
       "\u001b[1;33mWarning:\u001b[0m\u001b[33m meshio does not support tags of string type.\u001b[0m\n",
       "\u001b[33m    Surface tag  FARFIELD will be replaced by \u001b[0m\u001b[1;33m2\u001b[0m\n"
      ]
     },
     "metadata": {},
     "output_type": "display_data"
    },
    {
     "name": "stdout",
     "output_type": "stream",
     "text": [
      "Reading ../Data/SOBOL_DESIGNS_RANS/DESIGNS/DSN_0149/DIRECT/../config_DSN.cfg\n"
     ]
    },
    {
     "data": {
      "text/html": [
       "<pre style=\"white-space:pre;overflow-x:auto;line-height:normal;font-family:Menlo,'DejaVu Sans Mono',consolas,'Courier New',monospace\"><span style=\"color: #808000; text-decoration-color: #808000; font-weight: bold\">Warning:</span><span style=\"color: #808000; text-decoration-color: #808000\"> meshio does not support tags of string type.</span>\n",
       "<span style=\"color: #808000; text-decoration-color: #808000\">    Surface tag  AIRFOIL will be replaced by </span><span style=\"color: #808000; text-decoration-color: #808000; font-weight: bold\">1</span>\n",
       "</pre>\n"
      ],
      "text/plain": [
       "\u001b[1;33mWarning:\u001b[0m\u001b[33m meshio does not support tags of string type.\u001b[0m\n",
       "\u001b[33m    Surface tag  AIRFOIL will be replaced by \u001b[0m\u001b[1;33m1\u001b[0m\n"
      ]
     },
     "metadata": {},
     "output_type": "display_data"
    },
    {
     "data": {
      "text/html": [
       "<pre style=\"white-space:pre;overflow-x:auto;line-height:normal;font-family:Menlo,'DejaVu Sans Mono',consolas,'Courier New',monospace\"><span style=\"color: #808000; text-decoration-color: #808000; font-weight: bold\">Warning:</span><span style=\"color: #808000; text-decoration-color: #808000\"> meshio does not support tags of string type.</span>\n",
       "<span style=\"color: #808000; text-decoration-color: #808000\">    Surface tag  FARFIELD will be replaced by </span><span style=\"color: #808000; text-decoration-color: #808000; font-weight: bold\">2</span>\n",
       "</pre>\n"
      ],
      "text/plain": [
       "\u001b[1;33mWarning:\u001b[0m\u001b[33m meshio does not support tags of string type.\u001b[0m\n",
       "\u001b[33m    Surface tag  FARFIELD will be replaced by \u001b[0m\u001b[1;33m2\u001b[0m\n"
      ]
     },
     "metadata": {},
     "output_type": "display_data"
    },
    {
     "name": "stdout",
     "output_type": "stream",
     "text": [
      "Reading ../Data/SOBOL_DESIGNS_RANS/DESIGNS/DSN_0150/DIRECT/../config_DSN.cfg\n"
     ]
    },
    {
     "data": {
      "text/html": [
       "<pre style=\"white-space:pre;overflow-x:auto;line-height:normal;font-family:Menlo,'DejaVu Sans Mono',consolas,'Courier New',monospace\"><span style=\"color: #808000; text-decoration-color: #808000; font-weight: bold\">Warning:</span><span style=\"color: #808000; text-decoration-color: #808000\"> meshio does not support tags of string type.</span>\n",
       "<span style=\"color: #808000; text-decoration-color: #808000\">    Surface tag  AIRFOIL will be replaced by </span><span style=\"color: #808000; text-decoration-color: #808000; font-weight: bold\">1</span>\n",
       "</pre>\n"
      ],
      "text/plain": [
       "\u001b[1;33mWarning:\u001b[0m\u001b[33m meshio does not support tags of string type.\u001b[0m\n",
       "\u001b[33m    Surface tag  AIRFOIL will be replaced by \u001b[0m\u001b[1;33m1\u001b[0m\n"
      ]
     },
     "metadata": {},
     "output_type": "display_data"
    },
    {
     "data": {
      "text/html": [
       "<pre style=\"white-space:pre;overflow-x:auto;line-height:normal;font-family:Menlo,'DejaVu Sans Mono',consolas,'Courier New',monospace\"><span style=\"color: #808000; text-decoration-color: #808000; font-weight: bold\">Warning:</span><span style=\"color: #808000; text-decoration-color: #808000\"> meshio does not support tags of string type.</span>\n",
       "<span style=\"color: #808000; text-decoration-color: #808000\">    Surface tag  FARFIELD will be replaced by </span><span style=\"color: #808000; text-decoration-color: #808000; font-weight: bold\">2</span>\n",
       "</pre>\n"
      ],
      "text/plain": [
       "\u001b[1;33mWarning:\u001b[0m\u001b[33m meshio does not support tags of string type.\u001b[0m\n",
       "\u001b[33m    Surface tag  FARFIELD will be replaced by \u001b[0m\u001b[1;33m2\u001b[0m\n"
      ]
     },
     "metadata": {},
     "output_type": "display_data"
    },
    {
     "name": "stdout",
     "output_type": "stream",
     "text": [
      "Reading ../Data/SOBOL_DESIGNS_RANS/DESIGNS/DSN_0151/DIRECT/../config_DSN.cfg\n"
     ]
    },
    {
     "data": {
      "text/html": [
       "<pre style=\"white-space:pre;overflow-x:auto;line-height:normal;font-family:Menlo,'DejaVu Sans Mono',consolas,'Courier New',monospace\"><span style=\"color: #808000; text-decoration-color: #808000; font-weight: bold\">Warning:</span><span style=\"color: #808000; text-decoration-color: #808000\"> meshio does not support tags of string type.</span>\n",
       "<span style=\"color: #808000; text-decoration-color: #808000\">    Surface tag  AIRFOIL will be replaced by </span><span style=\"color: #808000; text-decoration-color: #808000; font-weight: bold\">1</span>\n",
       "</pre>\n"
      ],
      "text/plain": [
       "\u001b[1;33mWarning:\u001b[0m\u001b[33m meshio does not support tags of string type.\u001b[0m\n",
       "\u001b[33m    Surface tag  AIRFOIL will be replaced by \u001b[0m\u001b[1;33m1\u001b[0m\n"
      ]
     },
     "metadata": {},
     "output_type": "display_data"
    },
    {
     "data": {
      "text/html": [
       "<pre style=\"white-space:pre;overflow-x:auto;line-height:normal;font-family:Menlo,'DejaVu Sans Mono',consolas,'Courier New',monospace\"><span style=\"color: #808000; text-decoration-color: #808000; font-weight: bold\">Warning:</span><span style=\"color: #808000; text-decoration-color: #808000\"> meshio does not support tags of string type.</span>\n",
       "<span style=\"color: #808000; text-decoration-color: #808000\">    Surface tag  FARFIELD will be replaced by </span><span style=\"color: #808000; text-decoration-color: #808000; font-weight: bold\">2</span>\n",
       "</pre>\n"
      ],
      "text/plain": [
       "\u001b[1;33mWarning:\u001b[0m\u001b[33m meshio does not support tags of string type.\u001b[0m\n",
       "\u001b[33m    Surface tag  FARFIELD will be replaced by \u001b[0m\u001b[1;33m2\u001b[0m\n"
      ]
     },
     "metadata": {},
     "output_type": "display_data"
    },
    {
     "name": "stdout",
     "output_type": "stream",
     "text": [
      "Reading ../Data/SOBOL_DESIGNS_RANS/DESIGNS/DSN_0152/DIRECT/../config_DSN.cfg\n"
     ]
    },
    {
     "data": {
      "text/html": [
       "<pre style=\"white-space:pre;overflow-x:auto;line-height:normal;font-family:Menlo,'DejaVu Sans Mono',consolas,'Courier New',monospace\"><span style=\"color: #808000; text-decoration-color: #808000; font-weight: bold\">Warning:</span><span style=\"color: #808000; text-decoration-color: #808000\"> meshio does not support tags of string type.</span>\n",
       "<span style=\"color: #808000; text-decoration-color: #808000\">    Surface tag  AIRFOIL will be replaced by </span><span style=\"color: #808000; text-decoration-color: #808000; font-weight: bold\">1</span>\n",
       "</pre>\n"
      ],
      "text/plain": [
       "\u001b[1;33mWarning:\u001b[0m\u001b[33m meshio does not support tags of string type.\u001b[0m\n",
       "\u001b[33m    Surface tag  AIRFOIL will be replaced by \u001b[0m\u001b[1;33m1\u001b[0m\n"
      ]
     },
     "metadata": {},
     "output_type": "display_data"
    },
    {
     "data": {
      "text/html": [
       "<pre style=\"white-space:pre;overflow-x:auto;line-height:normal;font-family:Menlo,'DejaVu Sans Mono',consolas,'Courier New',monospace\"><span style=\"color: #808000; text-decoration-color: #808000; font-weight: bold\">Warning:</span><span style=\"color: #808000; text-decoration-color: #808000\"> meshio does not support tags of string type.</span>\n",
       "<span style=\"color: #808000; text-decoration-color: #808000\">    Surface tag  FARFIELD will be replaced by </span><span style=\"color: #808000; text-decoration-color: #808000; font-weight: bold\">2</span>\n",
       "</pre>\n"
      ],
      "text/plain": [
       "\u001b[1;33mWarning:\u001b[0m\u001b[33m meshio does not support tags of string type.\u001b[0m\n",
       "\u001b[33m    Surface tag  FARFIELD will be replaced by \u001b[0m\u001b[1;33m2\u001b[0m\n"
      ]
     },
     "metadata": {},
     "output_type": "display_data"
    },
    {
     "name": "stdout",
     "output_type": "stream",
     "text": [
      "Reading ../Data/SOBOL_DESIGNS_RANS/DESIGNS/DSN_0153/DIRECT/../config_DSN.cfg\n"
     ]
    },
    {
     "data": {
      "text/html": [
       "<pre style=\"white-space:pre;overflow-x:auto;line-height:normal;font-family:Menlo,'DejaVu Sans Mono',consolas,'Courier New',monospace\"><span style=\"color: #808000; text-decoration-color: #808000; font-weight: bold\">Warning:</span><span style=\"color: #808000; text-decoration-color: #808000\"> meshio does not support tags of string type.</span>\n",
       "<span style=\"color: #808000; text-decoration-color: #808000\">    Surface tag  AIRFOIL will be replaced by </span><span style=\"color: #808000; text-decoration-color: #808000; font-weight: bold\">1</span>\n",
       "</pre>\n"
      ],
      "text/plain": [
       "\u001b[1;33mWarning:\u001b[0m\u001b[33m meshio does not support tags of string type.\u001b[0m\n",
       "\u001b[33m    Surface tag  AIRFOIL will be replaced by \u001b[0m\u001b[1;33m1\u001b[0m\n"
      ]
     },
     "metadata": {},
     "output_type": "display_data"
    },
    {
     "data": {
      "text/html": [
       "<pre style=\"white-space:pre;overflow-x:auto;line-height:normal;font-family:Menlo,'DejaVu Sans Mono',consolas,'Courier New',monospace\"><span style=\"color: #808000; text-decoration-color: #808000; font-weight: bold\">Warning:</span><span style=\"color: #808000; text-decoration-color: #808000\"> meshio does not support tags of string type.</span>\n",
       "<span style=\"color: #808000; text-decoration-color: #808000\">    Surface tag  FARFIELD will be replaced by </span><span style=\"color: #808000; text-decoration-color: #808000; font-weight: bold\">2</span>\n",
       "</pre>\n"
      ],
      "text/plain": [
       "\u001b[1;33mWarning:\u001b[0m\u001b[33m meshio does not support tags of string type.\u001b[0m\n",
       "\u001b[33m    Surface tag  FARFIELD will be replaced by \u001b[0m\u001b[1;33m2\u001b[0m\n"
      ]
     },
     "metadata": {},
     "output_type": "display_data"
    },
    {
     "name": "stdout",
     "output_type": "stream",
     "text": [
      "Reading ../Data/SOBOL_DESIGNS_RANS/DESIGNS/DSN_0154/DIRECT/../config_DSN.cfg\n"
     ]
    },
    {
     "data": {
      "text/html": [
       "<pre style=\"white-space:pre;overflow-x:auto;line-height:normal;font-family:Menlo,'DejaVu Sans Mono',consolas,'Courier New',monospace\"><span style=\"color: #808000; text-decoration-color: #808000; font-weight: bold\">Warning:</span><span style=\"color: #808000; text-decoration-color: #808000\"> meshio does not support tags of string type.</span>\n",
       "<span style=\"color: #808000; text-decoration-color: #808000\">    Surface tag  AIRFOIL will be replaced by </span><span style=\"color: #808000; text-decoration-color: #808000; font-weight: bold\">1</span>\n",
       "</pre>\n"
      ],
      "text/plain": [
       "\u001b[1;33mWarning:\u001b[0m\u001b[33m meshio does not support tags of string type.\u001b[0m\n",
       "\u001b[33m    Surface tag  AIRFOIL will be replaced by \u001b[0m\u001b[1;33m1\u001b[0m\n"
      ]
     },
     "metadata": {},
     "output_type": "display_data"
    },
    {
     "data": {
      "text/html": [
       "<pre style=\"white-space:pre;overflow-x:auto;line-height:normal;font-family:Menlo,'DejaVu Sans Mono',consolas,'Courier New',monospace\"><span style=\"color: #808000; text-decoration-color: #808000; font-weight: bold\">Warning:</span><span style=\"color: #808000; text-decoration-color: #808000\"> meshio does not support tags of string type.</span>\n",
       "<span style=\"color: #808000; text-decoration-color: #808000\">    Surface tag  FARFIELD will be replaced by </span><span style=\"color: #808000; text-decoration-color: #808000; font-weight: bold\">2</span>\n",
       "</pre>\n"
      ],
      "text/plain": [
       "\u001b[1;33mWarning:\u001b[0m\u001b[33m meshio does not support tags of string type.\u001b[0m\n",
       "\u001b[33m    Surface tag  FARFIELD will be replaced by \u001b[0m\u001b[1;33m2\u001b[0m\n"
      ]
     },
     "metadata": {},
     "output_type": "display_data"
    },
    {
     "name": "stdout",
     "output_type": "stream",
     "text": [
      "Reading ../Data/SOBOL_DESIGNS_RANS/DESIGNS/DSN_0155/DIRECT/../config_DSN.cfg\n"
     ]
    },
    {
     "data": {
      "text/html": [
       "<pre style=\"white-space:pre;overflow-x:auto;line-height:normal;font-family:Menlo,'DejaVu Sans Mono',consolas,'Courier New',monospace\"><span style=\"color: #808000; text-decoration-color: #808000; font-weight: bold\">Warning:</span><span style=\"color: #808000; text-decoration-color: #808000\"> meshio does not support tags of string type.</span>\n",
       "<span style=\"color: #808000; text-decoration-color: #808000\">    Surface tag  AIRFOIL will be replaced by </span><span style=\"color: #808000; text-decoration-color: #808000; font-weight: bold\">1</span>\n",
       "</pre>\n"
      ],
      "text/plain": [
       "\u001b[1;33mWarning:\u001b[0m\u001b[33m meshio does not support tags of string type.\u001b[0m\n",
       "\u001b[33m    Surface tag  AIRFOIL will be replaced by \u001b[0m\u001b[1;33m1\u001b[0m\n"
      ]
     },
     "metadata": {},
     "output_type": "display_data"
    },
    {
     "data": {
      "text/html": [
       "<pre style=\"white-space:pre;overflow-x:auto;line-height:normal;font-family:Menlo,'DejaVu Sans Mono',consolas,'Courier New',monospace\"><span style=\"color: #808000; text-decoration-color: #808000; font-weight: bold\">Warning:</span><span style=\"color: #808000; text-decoration-color: #808000\"> meshio does not support tags of string type.</span>\n",
       "<span style=\"color: #808000; text-decoration-color: #808000\">    Surface tag  FARFIELD will be replaced by </span><span style=\"color: #808000; text-decoration-color: #808000; font-weight: bold\">2</span>\n",
       "</pre>\n"
      ],
      "text/plain": [
       "\u001b[1;33mWarning:\u001b[0m\u001b[33m meshio does not support tags of string type.\u001b[0m\n",
       "\u001b[33m    Surface tag  FARFIELD will be replaced by \u001b[0m\u001b[1;33m2\u001b[0m\n"
      ]
     },
     "metadata": {},
     "output_type": "display_data"
    },
    {
     "name": "stdout",
     "output_type": "stream",
     "text": [
      "Reading ../Data/SOBOL_DESIGNS_RANS/DESIGNS/DSN_0156/DIRECT/../config_DSN.cfg\n"
     ]
    },
    {
     "data": {
      "text/html": [
       "<pre style=\"white-space:pre;overflow-x:auto;line-height:normal;font-family:Menlo,'DejaVu Sans Mono',consolas,'Courier New',monospace\"><span style=\"color: #808000; text-decoration-color: #808000; font-weight: bold\">Warning:</span><span style=\"color: #808000; text-decoration-color: #808000\"> meshio does not support tags of string type.</span>\n",
       "<span style=\"color: #808000; text-decoration-color: #808000\">    Surface tag  AIRFOIL will be replaced by </span><span style=\"color: #808000; text-decoration-color: #808000; font-weight: bold\">1</span>\n",
       "</pre>\n"
      ],
      "text/plain": [
       "\u001b[1;33mWarning:\u001b[0m\u001b[33m meshio does not support tags of string type.\u001b[0m\n",
       "\u001b[33m    Surface tag  AIRFOIL will be replaced by \u001b[0m\u001b[1;33m1\u001b[0m\n"
      ]
     },
     "metadata": {},
     "output_type": "display_data"
    },
    {
     "data": {
      "text/html": [
       "<pre style=\"white-space:pre;overflow-x:auto;line-height:normal;font-family:Menlo,'DejaVu Sans Mono',consolas,'Courier New',monospace\"><span style=\"color: #808000; text-decoration-color: #808000; font-weight: bold\">Warning:</span><span style=\"color: #808000; text-decoration-color: #808000\"> meshio does not support tags of string type.</span>\n",
       "<span style=\"color: #808000; text-decoration-color: #808000\">    Surface tag  FARFIELD will be replaced by </span><span style=\"color: #808000; text-decoration-color: #808000; font-weight: bold\">2</span>\n",
       "</pre>\n"
      ],
      "text/plain": [
       "\u001b[1;33mWarning:\u001b[0m\u001b[33m meshio does not support tags of string type.\u001b[0m\n",
       "\u001b[33m    Surface tag  FARFIELD will be replaced by \u001b[0m\u001b[1;33m2\u001b[0m\n"
      ]
     },
     "metadata": {},
     "output_type": "display_data"
    },
    {
     "name": "stdout",
     "output_type": "stream",
     "text": [
      "Reading ../Data/SOBOL_DESIGNS_RANS/DESIGNS/DSN_0157/DIRECT/../config_DSN.cfg\n"
     ]
    },
    {
     "data": {
      "text/html": [
       "<pre style=\"white-space:pre;overflow-x:auto;line-height:normal;font-family:Menlo,'DejaVu Sans Mono',consolas,'Courier New',monospace\"><span style=\"color: #808000; text-decoration-color: #808000; font-weight: bold\">Warning:</span><span style=\"color: #808000; text-decoration-color: #808000\"> meshio does not support tags of string type.</span>\n",
       "<span style=\"color: #808000; text-decoration-color: #808000\">    Surface tag  AIRFOIL will be replaced by </span><span style=\"color: #808000; text-decoration-color: #808000; font-weight: bold\">1</span>\n",
       "</pre>\n"
      ],
      "text/plain": [
       "\u001b[1;33mWarning:\u001b[0m\u001b[33m meshio does not support tags of string type.\u001b[0m\n",
       "\u001b[33m    Surface tag  AIRFOIL will be replaced by \u001b[0m\u001b[1;33m1\u001b[0m\n"
      ]
     },
     "metadata": {},
     "output_type": "display_data"
    },
    {
     "data": {
      "text/html": [
       "<pre style=\"white-space:pre;overflow-x:auto;line-height:normal;font-family:Menlo,'DejaVu Sans Mono',consolas,'Courier New',monospace\"><span style=\"color: #808000; text-decoration-color: #808000; font-weight: bold\">Warning:</span><span style=\"color: #808000; text-decoration-color: #808000\"> meshio does not support tags of string type.</span>\n",
       "<span style=\"color: #808000; text-decoration-color: #808000\">    Surface tag  FARFIELD will be replaced by </span><span style=\"color: #808000; text-decoration-color: #808000; font-weight: bold\">2</span>\n",
       "</pre>\n"
      ],
      "text/plain": [
       "\u001b[1;33mWarning:\u001b[0m\u001b[33m meshio does not support tags of string type.\u001b[0m\n",
       "\u001b[33m    Surface tag  FARFIELD will be replaced by \u001b[0m\u001b[1;33m2\u001b[0m\n"
      ]
     },
     "metadata": {},
     "output_type": "display_data"
    },
    {
     "name": "stdout",
     "output_type": "stream",
     "text": [
      "Reading ../Data/SOBOL_DESIGNS_RANS/DESIGNS/DSN_0158/DIRECT/../config_DSN.cfg\n"
     ]
    },
    {
     "data": {
      "text/html": [
       "<pre style=\"white-space:pre;overflow-x:auto;line-height:normal;font-family:Menlo,'DejaVu Sans Mono',consolas,'Courier New',monospace\"><span style=\"color: #808000; text-decoration-color: #808000; font-weight: bold\">Warning:</span><span style=\"color: #808000; text-decoration-color: #808000\"> meshio does not support tags of string type.</span>\n",
       "<span style=\"color: #808000; text-decoration-color: #808000\">    Surface tag  AIRFOIL will be replaced by </span><span style=\"color: #808000; text-decoration-color: #808000; font-weight: bold\">1</span>\n",
       "</pre>\n"
      ],
      "text/plain": [
       "\u001b[1;33mWarning:\u001b[0m\u001b[33m meshio does not support tags of string type.\u001b[0m\n",
       "\u001b[33m    Surface tag  AIRFOIL will be replaced by \u001b[0m\u001b[1;33m1\u001b[0m\n"
      ]
     },
     "metadata": {},
     "output_type": "display_data"
    },
    {
     "data": {
      "text/html": [
       "<pre style=\"white-space:pre;overflow-x:auto;line-height:normal;font-family:Menlo,'DejaVu Sans Mono',consolas,'Courier New',monospace\"><span style=\"color: #808000; text-decoration-color: #808000; font-weight: bold\">Warning:</span><span style=\"color: #808000; text-decoration-color: #808000\"> meshio does not support tags of string type.</span>\n",
       "<span style=\"color: #808000; text-decoration-color: #808000\">    Surface tag  FARFIELD will be replaced by </span><span style=\"color: #808000; text-decoration-color: #808000; font-weight: bold\">2</span>\n",
       "</pre>\n"
      ],
      "text/plain": [
       "\u001b[1;33mWarning:\u001b[0m\u001b[33m meshio does not support tags of string type.\u001b[0m\n",
       "\u001b[33m    Surface tag  FARFIELD will be replaced by \u001b[0m\u001b[1;33m2\u001b[0m\n"
      ]
     },
     "metadata": {},
     "output_type": "display_data"
    },
    {
     "name": "stdout",
     "output_type": "stream",
     "text": [
      "Reading ../Data/SOBOL_DESIGNS_RANS/DESIGNS/DSN_0159/DIRECT/../config_DSN.cfg\n"
     ]
    },
    {
     "data": {
      "text/html": [
       "<pre style=\"white-space:pre;overflow-x:auto;line-height:normal;font-family:Menlo,'DejaVu Sans Mono',consolas,'Courier New',monospace\"><span style=\"color: #808000; text-decoration-color: #808000; font-weight: bold\">Warning:</span><span style=\"color: #808000; text-decoration-color: #808000\"> meshio does not support tags of string type.</span>\n",
       "<span style=\"color: #808000; text-decoration-color: #808000\">    Surface tag  AIRFOIL will be replaced by </span><span style=\"color: #808000; text-decoration-color: #808000; font-weight: bold\">1</span>\n",
       "</pre>\n"
      ],
      "text/plain": [
       "\u001b[1;33mWarning:\u001b[0m\u001b[33m meshio does not support tags of string type.\u001b[0m\n",
       "\u001b[33m    Surface tag  AIRFOIL will be replaced by \u001b[0m\u001b[1;33m1\u001b[0m\n"
      ]
     },
     "metadata": {},
     "output_type": "display_data"
    },
    {
     "data": {
      "text/html": [
       "<pre style=\"white-space:pre;overflow-x:auto;line-height:normal;font-family:Menlo,'DejaVu Sans Mono',consolas,'Courier New',monospace\"><span style=\"color: #808000; text-decoration-color: #808000; font-weight: bold\">Warning:</span><span style=\"color: #808000; text-decoration-color: #808000\"> meshio does not support tags of string type.</span>\n",
       "<span style=\"color: #808000; text-decoration-color: #808000\">    Surface tag  FARFIELD will be replaced by </span><span style=\"color: #808000; text-decoration-color: #808000; font-weight: bold\">2</span>\n",
       "</pre>\n"
      ],
      "text/plain": [
       "\u001b[1;33mWarning:\u001b[0m\u001b[33m meshio does not support tags of string type.\u001b[0m\n",
       "\u001b[33m    Surface tag  FARFIELD will be replaced by \u001b[0m\u001b[1;33m2\u001b[0m\n"
      ]
     },
     "metadata": {},
     "output_type": "display_data"
    },
    {
     "name": "stdout",
     "output_type": "stream",
     "text": [
      "Reading ../Data/SOBOL_DESIGNS_RANS/DESIGNS/DSN_0160/DIRECT/../config_DSN.cfg\n"
     ]
    },
    {
     "data": {
      "text/html": [
       "<pre style=\"white-space:pre;overflow-x:auto;line-height:normal;font-family:Menlo,'DejaVu Sans Mono',consolas,'Courier New',monospace\"><span style=\"color: #808000; text-decoration-color: #808000; font-weight: bold\">Warning:</span><span style=\"color: #808000; text-decoration-color: #808000\"> meshio does not support tags of string type.</span>\n",
       "<span style=\"color: #808000; text-decoration-color: #808000\">    Surface tag  AIRFOIL will be replaced by </span><span style=\"color: #808000; text-decoration-color: #808000; font-weight: bold\">1</span>\n",
       "</pre>\n"
      ],
      "text/plain": [
       "\u001b[1;33mWarning:\u001b[0m\u001b[33m meshio does not support tags of string type.\u001b[0m\n",
       "\u001b[33m    Surface tag  AIRFOIL will be replaced by \u001b[0m\u001b[1;33m1\u001b[0m\n"
      ]
     },
     "metadata": {},
     "output_type": "display_data"
    },
    {
     "data": {
      "text/html": [
       "<pre style=\"white-space:pre;overflow-x:auto;line-height:normal;font-family:Menlo,'DejaVu Sans Mono',consolas,'Courier New',monospace\"><span style=\"color: #808000; text-decoration-color: #808000; font-weight: bold\">Warning:</span><span style=\"color: #808000; text-decoration-color: #808000\"> meshio does not support tags of string type.</span>\n",
       "<span style=\"color: #808000; text-decoration-color: #808000\">    Surface tag  FARFIELD will be replaced by </span><span style=\"color: #808000; text-decoration-color: #808000; font-weight: bold\">2</span>\n",
       "</pre>\n"
      ],
      "text/plain": [
       "\u001b[1;33mWarning:\u001b[0m\u001b[33m meshio does not support tags of string type.\u001b[0m\n",
       "\u001b[33m    Surface tag  FARFIELD will be replaced by \u001b[0m\u001b[1;33m2\u001b[0m\n"
      ]
     },
     "metadata": {},
     "output_type": "display_data"
    },
    {
     "name": "stdout",
     "output_type": "stream",
     "text": [
      "Reading ../Data/SOBOL_DESIGNS_RANS/DESIGNS/DSN_0161/DIRECT/../config_DSN.cfg\n"
     ]
    },
    {
     "data": {
      "text/html": [
       "<pre style=\"white-space:pre;overflow-x:auto;line-height:normal;font-family:Menlo,'DejaVu Sans Mono',consolas,'Courier New',monospace\"><span style=\"color: #808000; text-decoration-color: #808000; font-weight: bold\">Warning:</span><span style=\"color: #808000; text-decoration-color: #808000\"> meshio does not support tags of string type.</span>\n",
       "<span style=\"color: #808000; text-decoration-color: #808000\">    Surface tag  AIRFOIL will be replaced by </span><span style=\"color: #808000; text-decoration-color: #808000; font-weight: bold\">1</span>\n",
       "</pre>\n"
      ],
      "text/plain": [
       "\u001b[1;33mWarning:\u001b[0m\u001b[33m meshio does not support tags of string type.\u001b[0m\n",
       "\u001b[33m    Surface tag  AIRFOIL will be replaced by \u001b[0m\u001b[1;33m1\u001b[0m\n"
      ]
     },
     "metadata": {},
     "output_type": "display_data"
    },
    {
     "data": {
      "text/html": [
       "<pre style=\"white-space:pre;overflow-x:auto;line-height:normal;font-family:Menlo,'DejaVu Sans Mono',consolas,'Courier New',monospace\"><span style=\"color: #808000; text-decoration-color: #808000; font-weight: bold\">Warning:</span><span style=\"color: #808000; text-decoration-color: #808000\"> meshio does not support tags of string type.</span>\n",
       "<span style=\"color: #808000; text-decoration-color: #808000\">    Surface tag  FARFIELD will be replaced by </span><span style=\"color: #808000; text-decoration-color: #808000; font-weight: bold\">2</span>\n",
       "</pre>\n"
      ],
      "text/plain": [
       "\u001b[1;33mWarning:\u001b[0m\u001b[33m meshio does not support tags of string type.\u001b[0m\n",
       "\u001b[33m    Surface tag  FARFIELD will be replaced by \u001b[0m\u001b[1;33m2\u001b[0m\n"
      ]
     },
     "metadata": {},
     "output_type": "display_data"
    },
    {
     "name": "stdout",
     "output_type": "stream",
     "text": [
      "Reading ../Data/SOBOL_DESIGNS_RANS/DESIGNS/DSN_0162/DIRECT/../config_DSN.cfg\n"
     ]
    },
    {
     "data": {
      "text/html": [
       "<pre style=\"white-space:pre;overflow-x:auto;line-height:normal;font-family:Menlo,'DejaVu Sans Mono',consolas,'Courier New',monospace\"><span style=\"color: #808000; text-decoration-color: #808000; font-weight: bold\">Warning:</span><span style=\"color: #808000; text-decoration-color: #808000\"> meshio does not support tags of string type.</span>\n",
       "<span style=\"color: #808000; text-decoration-color: #808000\">    Surface tag  AIRFOIL will be replaced by </span><span style=\"color: #808000; text-decoration-color: #808000; font-weight: bold\">1</span>\n",
       "</pre>\n"
      ],
      "text/plain": [
       "\u001b[1;33mWarning:\u001b[0m\u001b[33m meshio does not support tags of string type.\u001b[0m\n",
       "\u001b[33m    Surface tag  AIRFOIL will be replaced by \u001b[0m\u001b[1;33m1\u001b[0m\n"
      ]
     },
     "metadata": {},
     "output_type": "display_data"
    },
    {
     "data": {
      "text/html": [
       "<pre style=\"white-space:pre;overflow-x:auto;line-height:normal;font-family:Menlo,'DejaVu Sans Mono',consolas,'Courier New',monospace\"><span style=\"color: #808000; text-decoration-color: #808000; font-weight: bold\">Warning:</span><span style=\"color: #808000; text-decoration-color: #808000\"> meshio does not support tags of string type.</span>\n",
       "<span style=\"color: #808000; text-decoration-color: #808000\">    Surface tag  FARFIELD will be replaced by </span><span style=\"color: #808000; text-decoration-color: #808000; font-weight: bold\">2</span>\n",
       "</pre>\n"
      ],
      "text/plain": [
       "\u001b[1;33mWarning:\u001b[0m\u001b[33m meshio does not support tags of string type.\u001b[0m\n",
       "\u001b[33m    Surface tag  FARFIELD will be replaced by \u001b[0m\u001b[1;33m2\u001b[0m\n"
      ]
     },
     "metadata": {},
     "output_type": "display_data"
    },
    {
     "name": "stdout",
     "output_type": "stream",
     "text": [
      "Reading ../Data/SOBOL_DESIGNS_RANS/DESIGNS/DSN_0163/DIRECT/../config_DSN.cfg\n"
     ]
    },
    {
     "data": {
      "text/html": [
       "<pre style=\"white-space:pre;overflow-x:auto;line-height:normal;font-family:Menlo,'DejaVu Sans Mono',consolas,'Courier New',monospace\"><span style=\"color: #808000; text-decoration-color: #808000; font-weight: bold\">Warning:</span><span style=\"color: #808000; text-decoration-color: #808000\"> meshio does not support tags of string type.</span>\n",
       "<span style=\"color: #808000; text-decoration-color: #808000\">    Surface tag  AIRFOIL will be replaced by </span><span style=\"color: #808000; text-decoration-color: #808000; font-weight: bold\">1</span>\n",
       "</pre>\n"
      ],
      "text/plain": [
       "\u001b[1;33mWarning:\u001b[0m\u001b[33m meshio does not support tags of string type.\u001b[0m\n",
       "\u001b[33m    Surface tag  AIRFOIL will be replaced by \u001b[0m\u001b[1;33m1\u001b[0m\n"
      ]
     },
     "metadata": {},
     "output_type": "display_data"
    },
    {
     "data": {
      "text/html": [
       "<pre style=\"white-space:pre;overflow-x:auto;line-height:normal;font-family:Menlo,'DejaVu Sans Mono',consolas,'Courier New',monospace\"><span style=\"color: #808000; text-decoration-color: #808000; font-weight: bold\">Warning:</span><span style=\"color: #808000; text-decoration-color: #808000\"> meshio does not support tags of string type.</span>\n",
       "<span style=\"color: #808000; text-decoration-color: #808000\">    Surface tag  FARFIELD will be replaced by </span><span style=\"color: #808000; text-decoration-color: #808000; font-weight: bold\">2</span>\n",
       "</pre>\n"
      ],
      "text/plain": [
       "\u001b[1;33mWarning:\u001b[0m\u001b[33m meshio does not support tags of string type.\u001b[0m\n",
       "\u001b[33m    Surface tag  FARFIELD will be replaced by \u001b[0m\u001b[1;33m2\u001b[0m\n"
      ]
     },
     "metadata": {},
     "output_type": "display_data"
    },
    {
     "name": "stdout",
     "output_type": "stream",
     "text": [
      "Reading ../Data/SOBOL_DESIGNS_RANS/DESIGNS/DSN_0164/DIRECT/../config_DSN.cfg\n"
     ]
    },
    {
     "data": {
      "text/html": [
       "<pre style=\"white-space:pre;overflow-x:auto;line-height:normal;font-family:Menlo,'DejaVu Sans Mono',consolas,'Courier New',monospace\"><span style=\"color: #808000; text-decoration-color: #808000; font-weight: bold\">Warning:</span><span style=\"color: #808000; text-decoration-color: #808000\"> meshio does not support tags of string type.</span>\n",
       "<span style=\"color: #808000; text-decoration-color: #808000\">    Surface tag  AIRFOIL will be replaced by </span><span style=\"color: #808000; text-decoration-color: #808000; font-weight: bold\">1</span>\n",
       "</pre>\n"
      ],
      "text/plain": [
       "\u001b[1;33mWarning:\u001b[0m\u001b[33m meshio does not support tags of string type.\u001b[0m\n",
       "\u001b[33m    Surface tag  AIRFOIL will be replaced by \u001b[0m\u001b[1;33m1\u001b[0m\n"
      ]
     },
     "metadata": {},
     "output_type": "display_data"
    },
    {
     "data": {
      "text/html": [
       "<pre style=\"white-space:pre;overflow-x:auto;line-height:normal;font-family:Menlo,'DejaVu Sans Mono',consolas,'Courier New',monospace\"><span style=\"color: #808000; text-decoration-color: #808000; font-weight: bold\">Warning:</span><span style=\"color: #808000; text-decoration-color: #808000\"> meshio does not support tags of string type.</span>\n",
       "<span style=\"color: #808000; text-decoration-color: #808000\">    Surface tag  FARFIELD will be replaced by </span><span style=\"color: #808000; text-decoration-color: #808000; font-weight: bold\">2</span>\n",
       "</pre>\n"
      ],
      "text/plain": [
       "\u001b[1;33mWarning:\u001b[0m\u001b[33m meshio does not support tags of string type.\u001b[0m\n",
       "\u001b[33m    Surface tag  FARFIELD will be replaced by \u001b[0m\u001b[1;33m2\u001b[0m\n"
      ]
     },
     "metadata": {},
     "output_type": "display_data"
    },
    {
     "name": "stdout",
     "output_type": "stream",
     "text": [
      "Reading ../Data/SOBOL_DESIGNS_RANS/DESIGNS/DSN_0165/DIRECT/../config_DSN.cfg\n"
     ]
    },
    {
     "data": {
      "text/html": [
       "<pre style=\"white-space:pre;overflow-x:auto;line-height:normal;font-family:Menlo,'DejaVu Sans Mono',consolas,'Courier New',monospace\"><span style=\"color: #808000; text-decoration-color: #808000; font-weight: bold\">Warning:</span><span style=\"color: #808000; text-decoration-color: #808000\"> meshio does not support tags of string type.</span>\n",
       "<span style=\"color: #808000; text-decoration-color: #808000\">    Surface tag  AIRFOIL will be replaced by </span><span style=\"color: #808000; text-decoration-color: #808000; font-weight: bold\">1</span>\n",
       "</pre>\n"
      ],
      "text/plain": [
       "\u001b[1;33mWarning:\u001b[0m\u001b[33m meshio does not support tags of string type.\u001b[0m\n",
       "\u001b[33m    Surface tag  AIRFOIL will be replaced by \u001b[0m\u001b[1;33m1\u001b[0m\n"
      ]
     },
     "metadata": {},
     "output_type": "display_data"
    },
    {
     "data": {
      "text/html": [
       "<pre style=\"white-space:pre;overflow-x:auto;line-height:normal;font-family:Menlo,'DejaVu Sans Mono',consolas,'Courier New',monospace\"><span style=\"color: #808000; text-decoration-color: #808000; font-weight: bold\">Warning:</span><span style=\"color: #808000; text-decoration-color: #808000\"> meshio does not support tags of string type.</span>\n",
       "<span style=\"color: #808000; text-decoration-color: #808000\">    Surface tag  FARFIELD will be replaced by </span><span style=\"color: #808000; text-decoration-color: #808000; font-weight: bold\">2</span>\n",
       "</pre>\n"
      ],
      "text/plain": [
       "\u001b[1;33mWarning:\u001b[0m\u001b[33m meshio does not support tags of string type.\u001b[0m\n",
       "\u001b[33m    Surface tag  FARFIELD will be replaced by \u001b[0m\u001b[1;33m2\u001b[0m\n"
      ]
     },
     "metadata": {},
     "output_type": "display_data"
    },
    {
     "name": "stdout",
     "output_type": "stream",
     "text": [
      "Reading ../Data/SOBOL_DESIGNS_RANS/DESIGNS/DSN_0166/DIRECT/../config_DSN.cfg\n"
     ]
    },
    {
     "data": {
      "text/html": [
       "<pre style=\"white-space:pre;overflow-x:auto;line-height:normal;font-family:Menlo,'DejaVu Sans Mono',consolas,'Courier New',monospace\"><span style=\"color: #808000; text-decoration-color: #808000; font-weight: bold\">Warning:</span><span style=\"color: #808000; text-decoration-color: #808000\"> meshio does not support tags of string type.</span>\n",
       "<span style=\"color: #808000; text-decoration-color: #808000\">    Surface tag  AIRFOIL will be replaced by </span><span style=\"color: #808000; text-decoration-color: #808000; font-weight: bold\">1</span>\n",
       "</pre>\n"
      ],
      "text/plain": [
       "\u001b[1;33mWarning:\u001b[0m\u001b[33m meshio does not support tags of string type.\u001b[0m\n",
       "\u001b[33m    Surface tag  AIRFOIL will be replaced by \u001b[0m\u001b[1;33m1\u001b[0m\n"
      ]
     },
     "metadata": {},
     "output_type": "display_data"
    },
    {
     "data": {
      "text/html": [
       "<pre style=\"white-space:pre;overflow-x:auto;line-height:normal;font-family:Menlo,'DejaVu Sans Mono',consolas,'Courier New',monospace\"><span style=\"color: #808000; text-decoration-color: #808000; font-weight: bold\">Warning:</span><span style=\"color: #808000; text-decoration-color: #808000\"> meshio does not support tags of string type.</span>\n",
       "<span style=\"color: #808000; text-decoration-color: #808000\">    Surface tag  FARFIELD will be replaced by </span><span style=\"color: #808000; text-decoration-color: #808000; font-weight: bold\">2</span>\n",
       "</pre>\n"
      ],
      "text/plain": [
       "\u001b[1;33mWarning:\u001b[0m\u001b[33m meshio does not support tags of string type.\u001b[0m\n",
       "\u001b[33m    Surface tag  FARFIELD will be replaced by \u001b[0m\u001b[1;33m2\u001b[0m\n"
      ]
     },
     "metadata": {},
     "output_type": "display_data"
    },
    {
     "name": "stdout",
     "output_type": "stream",
     "text": [
      "Reading ../Data/SOBOL_DESIGNS_RANS/DESIGNS/DSN_0167/DIRECT/../config_DSN.cfg\n"
     ]
    },
    {
     "data": {
      "text/html": [
       "<pre style=\"white-space:pre;overflow-x:auto;line-height:normal;font-family:Menlo,'DejaVu Sans Mono',consolas,'Courier New',monospace\"><span style=\"color: #808000; text-decoration-color: #808000; font-weight: bold\">Warning:</span><span style=\"color: #808000; text-decoration-color: #808000\"> meshio does not support tags of string type.</span>\n",
       "<span style=\"color: #808000; text-decoration-color: #808000\">    Surface tag  AIRFOIL will be replaced by </span><span style=\"color: #808000; text-decoration-color: #808000; font-weight: bold\">1</span>\n",
       "</pre>\n"
      ],
      "text/plain": [
       "\u001b[1;33mWarning:\u001b[0m\u001b[33m meshio does not support tags of string type.\u001b[0m\n",
       "\u001b[33m    Surface tag  AIRFOIL will be replaced by \u001b[0m\u001b[1;33m1\u001b[0m\n"
      ]
     },
     "metadata": {},
     "output_type": "display_data"
    },
    {
     "data": {
      "text/html": [
       "<pre style=\"white-space:pre;overflow-x:auto;line-height:normal;font-family:Menlo,'DejaVu Sans Mono',consolas,'Courier New',monospace\"><span style=\"color: #808000; text-decoration-color: #808000; font-weight: bold\">Warning:</span><span style=\"color: #808000; text-decoration-color: #808000\"> meshio does not support tags of string type.</span>\n",
       "<span style=\"color: #808000; text-decoration-color: #808000\">    Surface tag  FARFIELD will be replaced by </span><span style=\"color: #808000; text-decoration-color: #808000; font-weight: bold\">2</span>\n",
       "</pre>\n"
      ],
      "text/plain": [
       "\u001b[1;33mWarning:\u001b[0m\u001b[33m meshio does not support tags of string type.\u001b[0m\n",
       "\u001b[33m    Surface tag  FARFIELD will be replaced by \u001b[0m\u001b[1;33m2\u001b[0m\n"
      ]
     },
     "metadata": {},
     "output_type": "display_data"
    },
    {
     "name": "stdout",
     "output_type": "stream",
     "text": [
      "Reading ../Data/SOBOL_DESIGNS_RANS/DESIGNS/DSN_0168/DIRECT/../config_DSN.cfg\n"
     ]
    },
    {
     "data": {
      "text/html": [
       "<pre style=\"white-space:pre;overflow-x:auto;line-height:normal;font-family:Menlo,'DejaVu Sans Mono',consolas,'Courier New',monospace\"><span style=\"color: #808000; text-decoration-color: #808000; font-weight: bold\">Warning:</span><span style=\"color: #808000; text-decoration-color: #808000\"> meshio does not support tags of string type.</span>\n",
       "<span style=\"color: #808000; text-decoration-color: #808000\">    Surface tag  AIRFOIL will be replaced by </span><span style=\"color: #808000; text-decoration-color: #808000; font-weight: bold\">1</span>\n",
       "</pre>\n"
      ],
      "text/plain": [
       "\u001b[1;33mWarning:\u001b[0m\u001b[33m meshio does not support tags of string type.\u001b[0m\n",
       "\u001b[33m    Surface tag  AIRFOIL will be replaced by \u001b[0m\u001b[1;33m1\u001b[0m\n"
      ]
     },
     "metadata": {},
     "output_type": "display_data"
    },
    {
     "data": {
      "text/html": [
       "<pre style=\"white-space:pre;overflow-x:auto;line-height:normal;font-family:Menlo,'DejaVu Sans Mono',consolas,'Courier New',monospace\"><span style=\"color: #808000; text-decoration-color: #808000; font-weight: bold\">Warning:</span><span style=\"color: #808000; text-decoration-color: #808000\"> meshio does not support tags of string type.</span>\n",
       "<span style=\"color: #808000; text-decoration-color: #808000\">    Surface tag  FARFIELD will be replaced by </span><span style=\"color: #808000; text-decoration-color: #808000; font-weight: bold\">2</span>\n",
       "</pre>\n"
      ],
      "text/plain": [
       "\u001b[1;33mWarning:\u001b[0m\u001b[33m meshio does not support tags of string type.\u001b[0m\n",
       "\u001b[33m    Surface tag  FARFIELD will be replaced by \u001b[0m\u001b[1;33m2\u001b[0m\n"
      ]
     },
     "metadata": {},
     "output_type": "display_data"
    },
    {
     "name": "stdout",
     "output_type": "stream",
     "text": [
      "Reading ../Data/SOBOL_DESIGNS_RANS/DESIGNS/DSN_0169/DIRECT/../config_DSN.cfg\n"
     ]
    },
    {
     "data": {
      "text/html": [
       "<pre style=\"white-space:pre;overflow-x:auto;line-height:normal;font-family:Menlo,'DejaVu Sans Mono',consolas,'Courier New',monospace\"><span style=\"color: #808000; text-decoration-color: #808000; font-weight: bold\">Warning:</span><span style=\"color: #808000; text-decoration-color: #808000\"> meshio does not support tags of string type.</span>\n",
       "<span style=\"color: #808000; text-decoration-color: #808000\">    Surface tag  AIRFOIL will be replaced by </span><span style=\"color: #808000; text-decoration-color: #808000; font-weight: bold\">1</span>\n",
       "</pre>\n"
      ],
      "text/plain": [
       "\u001b[1;33mWarning:\u001b[0m\u001b[33m meshio does not support tags of string type.\u001b[0m\n",
       "\u001b[33m    Surface tag  AIRFOIL will be replaced by \u001b[0m\u001b[1;33m1\u001b[0m\n"
      ]
     },
     "metadata": {},
     "output_type": "display_data"
    },
    {
     "data": {
      "text/html": [
       "<pre style=\"white-space:pre;overflow-x:auto;line-height:normal;font-family:Menlo,'DejaVu Sans Mono',consolas,'Courier New',monospace\"><span style=\"color: #808000; text-decoration-color: #808000; font-weight: bold\">Warning:</span><span style=\"color: #808000; text-decoration-color: #808000\"> meshio does not support tags of string type.</span>\n",
       "<span style=\"color: #808000; text-decoration-color: #808000\">    Surface tag  FARFIELD will be replaced by </span><span style=\"color: #808000; text-decoration-color: #808000; font-weight: bold\">2</span>\n",
       "</pre>\n"
      ],
      "text/plain": [
       "\u001b[1;33mWarning:\u001b[0m\u001b[33m meshio does not support tags of string type.\u001b[0m\n",
       "\u001b[33m    Surface tag  FARFIELD will be replaced by \u001b[0m\u001b[1;33m2\u001b[0m\n"
      ]
     },
     "metadata": {},
     "output_type": "display_data"
    },
    {
     "name": "stdout",
     "output_type": "stream",
     "text": [
      "Reading ../Data/SOBOL_DESIGNS_RANS/DESIGNS/DSN_0170/DIRECT/../config_DSN.cfg\n"
     ]
    },
    {
     "data": {
      "text/html": [
       "<pre style=\"white-space:pre;overflow-x:auto;line-height:normal;font-family:Menlo,'DejaVu Sans Mono',consolas,'Courier New',monospace\"><span style=\"color: #808000; text-decoration-color: #808000; font-weight: bold\">Warning:</span><span style=\"color: #808000; text-decoration-color: #808000\"> meshio does not support tags of string type.</span>\n",
       "<span style=\"color: #808000; text-decoration-color: #808000\">    Surface tag  AIRFOIL will be replaced by </span><span style=\"color: #808000; text-decoration-color: #808000; font-weight: bold\">1</span>\n",
       "</pre>\n"
      ],
      "text/plain": [
       "\u001b[1;33mWarning:\u001b[0m\u001b[33m meshio does not support tags of string type.\u001b[0m\n",
       "\u001b[33m    Surface tag  AIRFOIL will be replaced by \u001b[0m\u001b[1;33m1\u001b[0m\n"
      ]
     },
     "metadata": {},
     "output_type": "display_data"
    },
    {
     "data": {
      "text/html": [
       "<pre style=\"white-space:pre;overflow-x:auto;line-height:normal;font-family:Menlo,'DejaVu Sans Mono',consolas,'Courier New',monospace\"><span style=\"color: #808000; text-decoration-color: #808000; font-weight: bold\">Warning:</span><span style=\"color: #808000; text-decoration-color: #808000\"> meshio does not support tags of string type.</span>\n",
       "<span style=\"color: #808000; text-decoration-color: #808000\">    Surface tag  FARFIELD will be replaced by </span><span style=\"color: #808000; text-decoration-color: #808000; font-weight: bold\">2</span>\n",
       "</pre>\n"
      ],
      "text/plain": [
       "\u001b[1;33mWarning:\u001b[0m\u001b[33m meshio does not support tags of string type.\u001b[0m\n",
       "\u001b[33m    Surface tag  FARFIELD will be replaced by \u001b[0m\u001b[1;33m2\u001b[0m\n"
      ]
     },
     "metadata": {},
     "output_type": "display_data"
    },
    {
     "name": "stdout",
     "output_type": "stream",
     "text": [
      "Reading ../Data/SOBOL_DESIGNS_RANS/DESIGNS/DSN_0171/DIRECT/../config_DSN.cfg\n"
     ]
    },
    {
     "data": {
      "text/html": [
       "<pre style=\"white-space:pre;overflow-x:auto;line-height:normal;font-family:Menlo,'DejaVu Sans Mono',consolas,'Courier New',monospace\"><span style=\"color: #808000; text-decoration-color: #808000; font-weight: bold\">Warning:</span><span style=\"color: #808000; text-decoration-color: #808000\"> meshio does not support tags of string type.</span>\n",
       "<span style=\"color: #808000; text-decoration-color: #808000\">    Surface tag  AIRFOIL will be replaced by </span><span style=\"color: #808000; text-decoration-color: #808000; font-weight: bold\">1</span>\n",
       "</pre>\n"
      ],
      "text/plain": [
       "\u001b[1;33mWarning:\u001b[0m\u001b[33m meshio does not support tags of string type.\u001b[0m\n",
       "\u001b[33m    Surface tag  AIRFOIL will be replaced by \u001b[0m\u001b[1;33m1\u001b[0m\n"
      ]
     },
     "metadata": {},
     "output_type": "display_data"
    },
    {
     "data": {
      "text/html": [
       "<pre style=\"white-space:pre;overflow-x:auto;line-height:normal;font-family:Menlo,'DejaVu Sans Mono',consolas,'Courier New',monospace\"><span style=\"color: #808000; text-decoration-color: #808000; font-weight: bold\">Warning:</span><span style=\"color: #808000; text-decoration-color: #808000\"> meshio does not support tags of string type.</span>\n",
       "<span style=\"color: #808000; text-decoration-color: #808000\">    Surface tag  FARFIELD will be replaced by </span><span style=\"color: #808000; text-decoration-color: #808000; font-weight: bold\">2</span>\n",
       "</pre>\n"
      ],
      "text/plain": [
       "\u001b[1;33mWarning:\u001b[0m\u001b[33m meshio does not support tags of string type.\u001b[0m\n",
       "\u001b[33m    Surface tag  FARFIELD will be replaced by \u001b[0m\u001b[1;33m2\u001b[0m\n"
      ]
     },
     "metadata": {},
     "output_type": "display_data"
    },
    {
     "name": "stdout",
     "output_type": "stream",
     "text": [
      "Reading ../Data/SOBOL_DESIGNS_RANS/DESIGNS/DSN_0172/DIRECT/../config_DSN.cfg\n"
     ]
    },
    {
     "data": {
      "text/html": [
       "<pre style=\"white-space:pre;overflow-x:auto;line-height:normal;font-family:Menlo,'DejaVu Sans Mono',consolas,'Courier New',monospace\"><span style=\"color: #808000; text-decoration-color: #808000; font-weight: bold\">Warning:</span><span style=\"color: #808000; text-decoration-color: #808000\"> meshio does not support tags of string type.</span>\n",
       "<span style=\"color: #808000; text-decoration-color: #808000\">    Surface tag  AIRFOIL will be replaced by </span><span style=\"color: #808000; text-decoration-color: #808000; font-weight: bold\">1</span>\n",
       "</pre>\n"
      ],
      "text/plain": [
       "\u001b[1;33mWarning:\u001b[0m\u001b[33m meshio does not support tags of string type.\u001b[0m\n",
       "\u001b[33m    Surface tag  AIRFOIL will be replaced by \u001b[0m\u001b[1;33m1\u001b[0m\n"
      ]
     },
     "metadata": {},
     "output_type": "display_data"
    },
    {
     "data": {
      "text/html": [
       "<pre style=\"white-space:pre;overflow-x:auto;line-height:normal;font-family:Menlo,'DejaVu Sans Mono',consolas,'Courier New',monospace\"><span style=\"color: #808000; text-decoration-color: #808000; font-weight: bold\">Warning:</span><span style=\"color: #808000; text-decoration-color: #808000\"> meshio does not support tags of string type.</span>\n",
       "<span style=\"color: #808000; text-decoration-color: #808000\">    Surface tag  FARFIELD will be replaced by </span><span style=\"color: #808000; text-decoration-color: #808000; font-weight: bold\">2</span>\n",
       "</pre>\n"
      ],
      "text/plain": [
       "\u001b[1;33mWarning:\u001b[0m\u001b[33m meshio does not support tags of string type.\u001b[0m\n",
       "\u001b[33m    Surface tag  FARFIELD will be replaced by \u001b[0m\u001b[1;33m2\u001b[0m\n"
      ]
     },
     "metadata": {},
     "output_type": "display_data"
    },
    {
     "name": "stdout",
     "output_type": "stream",
     "text": [
      "Reading ../Data/SOBOL_DESIGNS_RANS/DESIGNS/DSN_0173/DIRECT/../config_DSN.cfg\n"
     ]
    },
    {
     "data": {
      "text/html": [
       "<pre style=\"white-space:pre;overflow-x:auto;line-height:normal;font-family:Menlo,'DejaVu Sans Mono',consolas,'Courier New',monospace\"><span style=\"color: #808000; text-decoration-color: #808000; font-weight: bold\">Warning:</span><span style=\"color: #808000; text-decoration-color: #808000\"> meshio does not support tags of string type.</span>\n",
       "<span style=\"color: #808000; text-decoration-color: #808000\">    Surface tag  AIRFOIL will be replaced by </span><span style=\"color: #808000; text-decoration-color: #808000; font-weight: bold\">1</span>\n",
       "</pre>\n"
      ],
      "text/plain": [
       "\u001b[1;33mWarning:\u001b[0m\u001b[33m meshio does not support tags of string type.\u001b[0m\n",
       "\u001b[33m    Surface tag  AIRFOIL will be replaced by \u001b[0m\u001b[1;33m1\u001b[0m\n"
      ]
     },
     "metadata": {},
     "output_type": "display_data"
    },
    {
     "data": {
      "text/html": [
       "<pre style=\"white-space:pre;overflow-x:auto;line-height:normal;font-family:Menlo,'DejaVu Sans Mono',consolas,'Courier New',monospace\"><span style=\"color: #808000; text-decoration-color: #808000; font-weight: bold\">Warning:</span><span style=\"color: #808000; text-decoration-color: #808000\"> meshio does not support tags of string type.</span>\n",
       "<span style=\"color: #808000; text-decoration-color: #808000\">    Surface tag  FARFIELD will be replaced by </span><span style=\"color: #808000; text-decoration-color: #808000; font-weight: bold\">2</span>\n",
       "</pre>\n"
      ],
      "text/plain": [
       "\u001b[1;33mWarning:\u001b[0m\u001b[33m meshio does not support tags of string type.\u001b[0m\n",
       "\u001b[33m    Surface tag  FARFIELD will be replaced by \u001b[0m\u001b[1;33m2\u001b[0m\n"
      ]
     },
     "metadata": {},
     "output_type": "display_data"
    },
    {
     "name": "stdout",
     "output_type": "stream",
     "text": [
      "Reading ../Data/SOBOL_DESIGNS_RANS/DESIGNS/DSN_0174/DIRECT/../config_DSN.cfg\n"
     ]
    },
    {
     "data": {
      "text/html": [
       "<pre style=\"white-space:pre;overflow-x:auto;line-height:normal;font-family:Menlo,'DejaVu Sans Mono',consolas,'Courier New',monospace\"><span style=\"color: #808000; text-decoration-color: #808000; font-weight: bold\">Warning:</span><span style=\"color: #808000; text-decoration-color: #808000\"> meshio does not support tags of string type.</span>\n",
       "<span style=\"color: #808000; text-decoration-color: #808000\">    Surface tag  AIRFOIL will be replaced by </span><span style=\"color: #808000; text-decoration-color: #808000; font-weight: bold\">1</span>\n",
       "</pre>\n"
      ],
      "text/plain": [
       "\u001b[1;33mWarning:\u001b[0m\u001b[33m meshio does not support tags of string type.\u001b[0m\n",
       "\u001b[33m    Surface tag  AIRFOIL will be replaced by \u001b[0m\u001b[1;33m1\u001b[0m\n"
      ]
     },
     "metadata": {},
     "output_type": "display_data"
    },
    {
     "data": {
      "text/html": [
       "<pre style=\"white-space:pre;overflow-x:auto;line-height:normal;font-family:Menlo,'DejaVu Sans Mono',consolas,'Courier New',monospace\"><span style=\"color: #808000; text-decoration-color: #808000; font-weight: bold\">Warning:</span><span style=\"color: #808000; text-decoration-color: #808000\"> meshio does not support tags of string type.</span>\n",
       "<span style=\"color: #808000; text-decoration-color: #808000\">    Surface tag  FARFIELD will be replaced by </span><span style=\"color: #808000; text-decoration-color: #808000; font-weight: bold\">2</span>\n",
       "</pre>\n"
      ],
      "text/plain": [
       "\u001b[1;33mWarning:\u001b[0m\u001b[33m meshio does not support tags of string type.\u001b[0m\n",
       "\u001b[33m    Surface tag  FARFIELD will be replaced by \u001b[0m\u001b[1;33m2\u001b[0m\n"
      ]
     },
     "metadata": {},
     "output_type": "display_data"
    },
    {
     "name": "stdout",
     "output_type": "stream",
     "text": [
      "Reading ../Data/SOBOL_DESIGNS_RANS/DESIGNS/DSN_0175/DIRECT/../config_DSN.cfg\n"
     ]
    },
    {
     "data": {
      "text/html": [
       "<pre style=\"white-space:pre;overflow-x:auto;line-height:normal;font-family:Menlo,'DejaVu Sans Mono',consolas,'Courier New',monospace\"><span style=\"color: #808000; text-decoration-color: #808000; font-weight: bold\">Warning:</span><span style=\"color: #808000; text-decoration-color: #808000\"> meshio does not support tags of string type.</span>\n",
       "<span style=\"color: #808000; text-decoration-color: #808000\">    Surface tag  AIRFOIL will be replaced by </span><span style=\"color: #808000; text-decoration-color: #808000; font-weight: bold\">1</span>\n",
       "</pre>\n"
      ],
      "text/plain": [
       "\u001b[1;33mWarning:\u001b[0m\u001b[33m meshio does not support tags of string type.\u001b[0m\n",
       "\u001b[33m    Surface tag  AIRFOIL will be replaced by \u001b[0m\u001b[1;33m1\u001b[0m\n"
      ]
     },
     "metadata": {},
     "output_type": "display_data"
    },
    {
     "data": {
      "text/html": [
       "<pre style=\"white-space:pre;overflow-x:auto;line-height:normal;font-family:Menlo,'DejaVu Sans Mono',consolas,'Courier New',monospace\"><span style=\"color: #808000; text-decoration-color: #808000; font-weight: bold\">Warning:</span><span style=\"color: #808000; text-decoration-color: #808000\"> meshio does not support tags of string type.</span>\n",
       "<span style=\"color: #808000; text-decoration-color: #808000\">    Surface tag  FARFIELD will be replaced by </span><span style=\"color: #808000; text-decoration-color: #808000; font-weight: bold\">2</span>\n",
       "</pre>\n"
      ],
      "text/plain": [
       "\u001b[1;33mWarning:\u001b[0m\u001b[33m meshio does not support tags of string type.\u001b[0m\n",
       "\u001b[33m    Surface tag  FARFIELD will be replaced by \u001b[0m\u001b[1;33m2\u001b[0m\n"
      ]
     },
     "metadata": {},
     "output_type": "display_data"
    },
    {
     "name": "stdout",
     "output_type": "stream",
     "text": [
      "Reading ../Data/SOBOL_DESIGNS_RANS/DESIGNS/DSN_0176/DIRECT/../config_DSN.cfg\n"
     ]
    },
    {
     "data": {
      "text/html": [
       "<pre style=\"white-space:pre;overflow-x:auto;line-height:normal;font-family:Menlo,'DejaVu Sans Mono',consolas,'Courier New',monospace\"><span style=\"color: #808000; text-decoration-color: #808000; font-weight: bold\">Warning:</span><span style=\"color: #808000; text-decoration-color: #808000\"> meshio does not support tags of string type.</span>\n",
       "<span style=\"color: #808000; text-decoration-color: #808000\">    Surface tag  AIRFOIL will be replaced by </span><span style=\"color: #808000; text-decoration-color: #808000; font-weight: bold\">1</span>\n",
       "</pre>\n"
      ],
      "text/plain": [
       "\u001b[1;33mWarning:\u001b[0m\u001b[33m meshio does not support tags of string type.\u001b[0m\n",
       "\u001b[33m    Surface tag  AIRFOIL will be replaced by \u001b[0m\u001b[1;33m1\u001b[0m\n"
      ]
     },
     "metadata": {},
     "output_type": "display_data"
    },
    {
     "data": {
      "text/html": [
       "<pre style=\"white-space:pre;overflow-x:auto;line-height:normal;font-family:Menlo,'DejaVu Sans Mono',consolas,'Courier New',monospace\"><span style=\"color: #808000; text-decoration-color: #808000; font-weight: bold\">Warning:</span><span style=\"color: #808000; text-decoration-color: #808000\"> meshio does not support tags of string type.</span>\n",
       "<span style=\"color: #808000; text-decoration-color: #808000\">    Surface tag  FARFIELD will be replaced by </span><span style=\"color: #808000; text-decoration-color: #808000; font-weight: bold\">2</span>\n",
       "</pre>\n"
      ],
      "text/plain": [
       "\u001b[1;33mWarning:\u001b[0m\u001b[33m meshio does not support tags of string type.\u001b[0m\n",
       "\u001b[33m    Surface tag  FARFIELD will be replaced by \u001b[0m\u001b[1;33m2\u001b[0m\n"
      ]
     },
     "metadata": {},
     "output_type": "display_data"
    },
    {
     "name": "stdout",
     "output_type": "stream",
     "text": [
      "Reading ../Data/SOBOL_DESIGNS_RANS/DESIGNS/DSN_0177/DIRECT/../config_DSN.cfg\n"
     ]
    },
    {
     "data": {
      "text/html": [
       "<pre style=\"white-space:pre;overflow-x:auto;line-height:normal;font-family:Menlo,'DejaVu Sans Mono',consolas,'Courier New',monospace\"><span style=\"color: #808000; text-decoration-color: #808000; font-weight: bold\">Warning:</span><span style=\"color: #808000; text-decoration-color: #808000\"> meshio does not support tags of string type.</span>\n",
       "<span style=\"color: #808000; text-decoration-color: #808000\">    Surface tag  AIRFOIL will be replaced by </span><span style=\"color: #808000; text-decoration-color: #808000; font-weight: bold\">1</span>\n",
       "</pre>\n"
      ],
      "text/plain": [
       "\u001b[1;33mWarning:\u001b[0m\u001b[33m meshio does not support tags of string type.\u001b[0m\n",
       "\u001b[33m    Surface tag  AIRFOIL will be replaced by \u001b[0m\u001b[1;33m1\u001b[0m\n"
      ]
     },
     "metadata": {},
     "output_type": "display_data"
    },
    {
     "data": {
      "text/html": [
       "<pre style=\"white-space:pre;overflow-x:auto;line-height:normal;font-family:Menlo,'DejaVu Sans Mono',consolas,'Courier New',monospace\"><span style=\"color: #808000; text-decoration-color: #808000; font-weight: bold\">Warning:</span><span style=\"color: #808000; text-decoration-color: #808000\"> meshio does not support tags of string type.</span>\n",
       "<span style=\"color: #808000; text-decoration-color: #808000\">    Surface tag  FARFIELD will be replaced by </span><span style=\"color: #808000; text-decoration-color: #808000; font-weight: bold\">2</span>\n",
       "</pre>\n"
      ],
      "text/plain": [
       "\u001b[1;33mWarning:\u001b[0m\u001b[33m meshio does not support tags of string type.\u001b[0m\n",
       "\u001b[33m    Surface tag  FARFIELD will be replaced by \u001b[0m\u001b[1;33m2\u001b[0m\n"
      ]
     },
     "metadata": {},
     "output_type": "display_data"
    },
    {
     "name": "stdout",
     "output_type": "stream",
     "text": [
      "Reading ../Data/SOBOL_DESIGNS_RANS/DESIGNS/DSN_0178/DIRECT/../config_DSN.cfg\n"
     ]
    },
    {
     "data": {
      "text/html": [
       "<pre style=\"white-space:pre;overflow-x:auto;line-height:normal;font-family:Menlo,'DejaVu Sans Mono',consolas,'Courier New',monospace\"><span style=\"color: #808000; text-decoration-color: #808000; font-weight: bold\">Warning:</span><span style=\"color: #808000; text-decoration-color: #808000\"> meshio does not support tags of string type.</span>\n",
       "<span style=\"color: #808000; text-decoration-color: #808000\">    Surface tag  AIRFOIL will be replaced by </span><span style=\"color: #808000; text-decoration-color: #808000; font-weight: bold\">1</span>\n",
       "</pre>\n"
      ],
      "text/plain": [
       "\u001b[1;33mWarning:\u001b[0m\u001b[33m meshio does not support tags of string type.\u001b[0m\n",
       "\u001b[33m    Surface tag  AIRFOIL will be replaced by \u001b[0m\u001b[1;33m1\u001b[0m\n"
      ]
     },
     "metadata": {},
     "output_type": "display_data"
    },
    {
     "data": {
      "text/html": [
       "<pre style=\"white-space:pre;overflow-x:auto;line-height:normal;font-family:Menlo,'DejaVu Sans Mono',consolas,'Courier New',monospace\"><span style=\"color: #808000; text-decoration-color: #808000; font-weight: bold\">Warning:</span><span style=\"color: #808000; text-decoration-color: #808000\"> meshio does not support tags of string type.</span>\n",
       "<span style=\"color: #808000; text-decoration-color: #808000\">    Surface tag  FARFIELD will be replaced by </span><span style=\"color: #808000; text-decoration-color: #808000; font-weight: bold\">2</span>\n",
       "</pre>\n"
      ],
      "text/plain": [
       "\u001b[1;33mWarning:\u001b[0m\u001b[33m meshio does not support tags of string type.\u001b[0m\n",
       "\u001b[33m    Surface tag  FARFIELD will be replaced by \u001b[0m\u001b[1;33m2\u001b[0m\n"
      ]
     },
     "metadata": {},
     "output_type": "display_data"
    },
    {
     "name": "stdout",
     "output_type": "stream",
     "text": [
      "Reading ../Data/SOBOL_DESIGNS_RANS/DESIGNS/DSN_0179/DIRECT/../config_DSN.cfg\n"
     ]
    },
    {
     "data": {
      "text/html": [
       "<pre style=\"white-space:pre;overflow-x:auto;line-height:normal;font-family:Menlo,'DejaVu Sans Mono',consolas,'Courier New',monospace\"><span style=\"color: #808000; text-decoration-color: #808000; font-weight: bold\">Warning:</span><span style=\"color: #808000; text-decoration-color: #808000\"> meshio does not support tags of string type.</span>\n",
       "<span style=\"color: #808000; text-decoration-color: #808000\">    Surface tag  AIRFOIL will be replaced by </span><span style=\"color: #808000; text-decoration-color: #808000; font-weight: bold\">1</span>\n",
       "</pre>\n"
      ],
      "text/plain": [
       "\u001b[1;33mWarning:\u001b[0m\u001b[33m meshio does not support tags of string type.\u001b[0m\n",
       "\u001b[33m    Surface tag  AIRFOIL will be replaced by \u001b[0m\u001b[1;33m1\u001b[0m\n"
      ]
     },
     "metadata": {},
     "output_type": "display_data"
    },
    {
     "data": {
      "text/html": [
       "<pre style=\"white-space:pre;overflow-x:auto;line-height:normal;font-family:Menlo,'DejaVu Sans Mono',consolas,'Courier New',monospace\"><span style=\"color: #808000; text-decoration-color: #808000; font-weight: bold\">Warning:</span><span style=\"color: #808000; text-decoration-color: #808000\"> meshio does not support tags of string type.</span>\n",
       "<span style=\"color: #808000; text-decoration-color: #808000\">    Surface tag  FARFIELD will be replaced by </span><span style=\"color: #808000; text-decoration-color: #808000; font-weight: bold\">2</span>\n",
       "</pre>\n"
      ],
      "text/plain": [
       "\u001b[1;33mWarning:\u001b[0m\u001b[33m meshio does not support tags of string type.\u001b[0m\n",
       "\u001b[33m    Surface tag  FARFIELD will be replaced by \u001b[0m\u001b[1;33m2\u001b[0m\n"
      ]
     },
     "metadata": {},
     "output_type": "display_data"
    },
    {
     "name": "stdout",
     "output_type": "stream",
     "text": [
      "Reading ../Data/SOBOL_DESIGNS_RANS/DESIGNS/DSN_0180/DIRECT/../config_DSN.cfg\n"
     ]
    },
    {
     "data": {
      "text/html": [
       "<pre style=\"white-space:pre;overflow-x:auto;line-height:normal;font-family:Menlo,'DejaVu Sans Mono',consolas,'Courier New',monospace\"><span style=\"color: #808000; text-decoration-color: #808000; font-weight: bold\">Warning:</span><span style=\"color: #808000; text-decoration-color: #808000\"> meshio does not support tags of string type.</span>\n",
       "<span style=\"color: #808000; text-decoration-color: #808000\">    Surface tag  AIRFOIL will be replaced by </span><span style=\"color: #808000; text-decoration-color: #808000; font-weight: bold\">1</span>\n",
       "</pre>\n"
      ],
      "text/plain": [
       "\u001b[1;33mWarning:\u001b[0m\u001b[33m meshio does not support tags of string type.\u001b[0m\n",
       "\u001b[33m    Surface tag  AIRFOIL will be replaced by \u001b[0m\u001b[1;33m1\u001b[0m\n"
      ]
     },
     "metadata": {},
     "output_type": "display_data"
    },
    {
     "data": {
      "text/html": [
       "<pre style=\"white-space:pre;overflow-x:auto;line-height:normal;font-family:Menlo,'DejaVu Sans Mono',consolas,'Courier New',monospace\"><span style=\"color: #808000; text-decoration-color: #808000; font-weight: bold\">Warning:</span><span style=\"color: #808000; text-decoration-color: #808000\"> meshio does not support tags of string type.</span>\n",
       "<span style=\"color: #808000; text-decoration-color: #808000\">    Surface tag  FARFIELD will be replaced by </span><span style=\"color: #808000; text-decoration-color: #808000; font-weight: bold\">2</span>\n",
       "</pre>\n"
      ],
      "text/plain": [
       "\u001b[1;33mWarning:\u001b[0m\u001b[33m meshio does not support tags of string type.\u001b[0m\n",
       "\u001b[33m    Surface tag  FARFIELD will be replaced by \u001b[0m\u001b[1;33m2\u001b[0m\n"
      ]
     },
     "metadata": {},
     "output_type": "display_data"
    },
    {
     "name": "stdout",
     "output_type": "stream",
     "text": [
      "Reading ../Data/SOBOL_DESIGNS_RANS/DESIGNS/DSN_0181/DIRECT/../config_DSN.cfg\n"
     ]
    },
    {
     "data": {
      "text/html": [
       "<pre style=\"white-space:pre;overflow-x:auto;line-height:normal;font-family:Menlo,'DejaVu Sans Mono',consolas,'Courier New',monospace\"><span style=\"color: #808000; text-decoration-color: #808000; font-weight: bold\">Warning:</span><span style=\"color: #808000; text-decoration-color: #808000\"> meshio does not support tags of string type.</span>\n",
       "<span style=\"color: #808000; text-decoration-color: #808000\">    Surface tag  AIRFOIL will be replaced by </span><span style=\"color: #808000; text-decoration-color: #808000; font-weight: bold\">1</span>\n",
       "</pre>\n"
      ],
      "text/plain": [
       "\u001b[1;33mWarning:\u001b[0m\u001b[33m meshio does not support tags of string type.\u001b[0m\n",
       "\u001b[33m    Surface tag  AIRFOIL will be replaced by \u001b[0m\u001b[1;33m1\u001b[0m\n"
      ]
     },
     "metadata": {},
     "output_type": "display_data"
    },
    {
     "data": {
      "text/html": [
       "<pre style=\"white-space:pre;overflow-x:auto;line-height:normal;font-family:Menlo,'DejaVu Sans Mono',consolas,'Courier New',monospace\"><span style=\"color: #808000; text-decoration-color: #808000; font-weight: bold\">Warning:</span><span style=\"color: #808000; text-decoration-color: #808000\"> meshio does not support tags of string type.</span>\n",
       "<span style=\"color: #808000; text-decoration-color: #808000\">    Surface tag  FARFIELD will be replaced by </span><span style=\"color: #808000; text-decoration-color: #808000; font-weight: bold\">2</span>\n",
       "</pre>\n"
      ],
      "text/plain": [
       "\u001b[1;33mWarning:\u001b[0m\u001b[33m meshio does not support tags of string type.\u001b[0m\n",
       "\u001b[33m    Surface tag  FARFIELD will be replaced by \u001b[0m\u001b[1;33m2\u001b[0m\n"
      ]
     },
     "metadata": {},
     "output_type": "display_data"
    },
    {
     "name": "stdout",
     "output_type": "stream",
     "text": [
      "Reading ../Data/SOBOL_DESIGNS_RANS/DESIGNS/DSN_0182/DIRECT/../config_DSN.cfg\n"
     ]
    },
    {
     "data": {
      "text/html": [
       "<pre style=\"white-space:pre;overflow-x:auto;line-height:normal;font-family:Menlo,'DejaVu Sans Mono',consolas,'Courier New',monospace\"><span style=\"color: #808000; text-decoration-color: #808000; font-weight: bold\">Warning:</span><span style=\"color: #808000; text-decoration-color: #808000\"> meshio does not support tags of string type.</span>\n",
       "<span style=\"color: #808000; text-decoration-color: #808000\">    Surface tag  AIRFOIL will be replaced by </span><span style=\"color: #808000; text-decoration-color: #808000; font-weight: bold\">1</span>\n",
       "</pre>\n"
      ],
      "text/plain": [
       "\u001b[1;33mWarning:\u001b[0m\u001b[33m meshio does not support tags of string type.\u001b[0m\n",
       "\u001b[33m    Surface tag  AIRFOIL will be replaced by \u001b[0m\u001b[1;33m1\u001b[0m\n"
      ]
     },
     "metadata": {},
     "output_type": "display_data"
    },
    {
     "data": {
      "text/html": [
       "<pre style=\"white-space:pre;overflow-x:auto;line-height:normal;font-family:Menlo,'DejaVu Sans Mono',consolas,'Courier New',monospace\"><span style=\"color: #808000; text-decoration-color: #808000; font-weight: bold\">Warning:</span><span style=\"color: #808000; text-decoration-color: #808000\"> meshio does not support tags of string type.</span>\n",
       "<span style=\"color: #808000; text-decoration-color: #808000\">    Surface tag  FARFIELD will be replaced by </span><span style=\"color: #808000; text-decoration-color: #808000; font-weight: bold\">2</span>\n",
       "</pre>\n"
      ],
      "text/plain": [
       "\u001b[1;33mWarning:\u001b[0m\u001b[33m meshio does not support tags of string type.\u001b[0m\n",
       "\u001b[33m    Surface tag  FARFIELD will be replaced by \u001b[0m\u001b[1;33m2\u001b[0m\n"
      ]
     },
     "metadata": {},
     "output_type": "display_data"
    },
    {
     "name": "stdout",
     "output_type": "stream",
     "text": [
      "Reading ../Data/SOBOL_DESIGNS_RANS/DESIGNS/DSN_0183/DIRECT/../config_DSN.cfg\n"
     ]
    },
    {
     "data": {
      "text/html": [
       "<pre style=\"white-space:pre;overflow-x:auto;line-height:normal;font-family:Menlo,'DejaVu Sans Mono',consolas,'Courier New',monospace\"><span style=\"color: #808000; text-decoration-color: #808000; font-weight: bold\">Warning:</span><span style=\"color: #808000; text-decoration-color: #808000\"> meshio does not support tags of string type.</span>\n",
       "<span style=\"color: #808000; text-decoration-color: #808000\">    Surface tag  AIRFOIL will be replaced by </span><span style=\"color: #808000; text-decoration-color: #808000; font-weight: bold\">1</span>\n",
       "</pre>\n"
      ],
      "text/plain": [
       "\u001b[1;33mWarning:\u001b[0m\u001b[33m meshio does not support tags of string type.\u001b[0m\n",
       "\u001b[33m    Surface tag  AIRFOIL will be replaced by \u001b[0m\u001b[1;33m1\u001b[0m\n"
      ]
     },
     "metadata": {},
     "output_type": "display_data"
    },
    {
     "data": {
      "text/html": [
       "<pre style=\"white-space:pre;overflow-x:auto;line-height:normal;font-family:Menlo,'DejaVu Sans Mono',consolas,'Courier New',monospace\"><span style=\"color: #808000; text-decoration-color: #808000; font-weight: bold\">Warning:</span><span style=\"color: #808000; text-decoration-color: #808000\"> meshio does not support tags of string type.</span>\n",
       "<span style=\"color: #808000; text-decoration-color: #808000\">    Surface tag  FARFIELD will be replaced by </span><span style=\"color: #808000; text-decoration-color: #808000; font-weight: bold\">2</span>\n",
       "</pre>\n"
      ],
      "text/plain": [
       "\u001b[1;33mWarning:\u001b[0m\u001b[33m meshio does not support tags of string type.\u001b[0m\n",
       "\u001b[33m    Surface tag  FARFIELD will be replaced by \u001b[0m\u001b[1;33m2\u001b[0m\n"
      ]
     },
     "metadata": {},
     "output_type": "display_data"
    },
    {
     "name": "stdout",
     "output_type": "stream",
     "text": [
      "Reading ../Data/SOBOL_DESIGNS_RANS/DESIGNS/DSN_0184/DIRECT/../config_DSN.cfg\n"
     ]
    },
    {
     "data": {
      "text/html": [
       "<pre style=\"white-space:pre;overflow-x:auto;line-height:normal;font-family:Menlo,'DejaVu Sans Mono',consolas,'Courier New',monospace\"><span style=\"color: #808000; text-decoration-color: #808000; font-weight: bold\">Warning:</span><span style=\"color: #808000; text-decoration-color: #808000\"> meshio does not support tags of string type.</span>\n",
       "<span style=\"color: #808000; text-decoration-color: #808000\">    Surface tag  AIRFOIL will be replaced by </span><span style=\"color: #808000; text-decoration-color: #808000; font-weight: bold\">1</span>\n",
       "</pre>\n"
      ],
      "text/plain": [
       "\u001b[1;33mWarning:\u001b[0m\u001b[33m meshio does not support tags of string type.\u001b[0m\n",
       "\u001b[33m    Surface tag  AIRFOIL will be replaced by \u001b[0m\u001b[1;33m1\u001b[0m\n"
      ]
     },
     "metadata": {},
     "output_type": "display_data"
    },
    {
     "data": {
      "text/html": [
       "<pre style=\"white-space:pre;overflow-x:auto;line-height:normal;font-family:Menlo,'DejaVu Sans Mono',consolas,'Courier New',monospace\"><span style=\"color: #808000; text-decoration-color: #808000; font-weight: bold\">Warning:</span><span style=\"color: #808000; text-decoration-color: #808000\"> meshio does not support tags of string type.</span>\n",
       "<span style=\"color: #808000; text-decoration-color: #808000\">    Surface tag  FARFIELD will be replaced by </span><span style=\"color: #808000; text-decoration-color: #808000; font-weight: bold\">2</span>\n",
       "</pre>\n"
      ],
      "text/plain": [
       "\u001b[1;33mWarning:\u001b[0m\u001b[33m meshio does not support tags of string type.\u001b[0m\n",
       "\u001b[33m    Surface tag  FARFIELD will be replaced by \u001b[0m\u001b[1;33m2\u001b[0m\n"
      ]
     },
     "metadata": {},
     "output_type": "display_data"
    },
    {
     "name": "stdout",
     "output_type": "stream",
     "text": [
      "Reading ../Data/SOBOL_DESIGNS_RANS/DESIGNS/DSN_0185/DIRECT/../config_DSN.cfg\n"
     ]
    },
    {
     "data": {
      "text/html": [
       "<pre style=\"white-space:pre;overflow-x:auto;line-height:normal;font-family:Menlo,'DejaVu Sans Mono',consolas,'Courier New',monospace\"><span style=\"color: #808000; text-decoration-color: #808000; font-weight: bold\">Warning:</span><span style=\"color: #808000; text-decoration-color: #808000\"> meshio does not support tags of string type.</span>\n",
       "<span style=\"color: #808000; text-decoration-color: #808000\">    Surface tag  AIRFOIL will be replaced by </span><span style=\"color: #808000; text-decoration-color: #808000; font-weight: bold\">1</span>\n",
       "</pre>\n"
      ],
      "text/plain": [
       "\u001b[1;33mWarning:\u001b[0m\u001b[33m meshio does not support tags of string type.\u001b[0m\n",
       "\u001b[33m    Surface tag  AIRFOIL will be replaced by \u001b[0m\u001b[1;33m1\u001b[0m\n"
      ]
     },
     "metadata": {},
     "output_type": "display_data"
    },
    {
     "data": {
      "text/html": [
       "<pre style=\"white-space:pre;overflow-x:auto;line-height:normal;font-family:Menlo,'DejaVu Sans Mono',consolas,'Courier New',monospace\"><span style=\"color: #808000; text-decoration-color: #808000; font-weight: bold\">Warning:</span><span style=\"color: #808000; text-decoration-color: #808000\"> meshio does not support tags of string type.</span>\n",
       "<span style=\"color: #808000; text-decoration-color: #808000\">    Surface tag  FARFIELD will be replaced by </span><span style=\"color: #808000; text-decoration-color: #808000; font-weight: bold\">2</span>\n",
       "</pre>\n"
      ],
      "text/plain": [
       "\u001b[1;33mWarning:\u001b[0m\u001b[33m meshio does not support tags of string type.\u001b[0m\n",
       "\u001b[33m    Surface tag  FARFIELD will be replaced by \u001b[0m\u001b[1;33m2\u001b[0m\n"
      ]
     },
     "metadata": {},
     "output_type": "display_data"
    },
    {
     "name": "stdout",
     "output_type": "stream",
     "text": [
      "Reading ../Data/SOBOL_DESIGNS_RANS/DESIGNS/DSN_0186/DIRECT/../config_DSN.cfg\n"
     ]
    },
    {
     "data": {
      "text/html": [
       "<pre style=\"white-space:pre;overflow-x:auto;line-height:normal;font-family:Menlo,'DejaVu Sans Mono',consolas,'Courier New',monospace\"><span style=\"color: #808000; text-decoration-color: #808000; font-weight: bold\">Warning:</span><span style=\"color: #808000; text-decoration-color: #808000\"> meshio does not support tags of string type.</span>\n",
       "<span style=\"color: #808000; text-decoration-color: #808000\">    Surface tag  AIRFOIL will be replaced by </span><span style=\"color: #808000; text-decoration-color: #808000; font-weight: bold\">1</span>\n",
       "</pre>\n"
      ],
      "text/plain": [
       "\u001b[1;33mWarning:\u001b[0m\u001b[33m meshio does not support tags of string type.\u001b[0m\n",
       "\u001b[33m    Surface tag  AIRFOIL will be replaced by \u001b[0m\u001b[1;33m1\u001b[0m\n"
      ]
     },
     "metadata": {},
     "output_type": "display_data"
    },
    {
     "data": {
      "text/html": [
       "<pre style=\"white-space:pre;overflow-x:auto;line-height:normal;font-family:Menlo,'DejaVu Sans Mono',consolas,'Courier New',monospace\"><span style=\"color: #808000; text-decoration-color: #808000; font-weight: bold\">Warning:</span><span style=\"color: #808000; text-decoration-color: #808000\"> meshio does not support tags of string type.</span>\n",
       "<span style=\"color: #808000; text-decoration-color: #808000\">    Surface tag  FARFIELD will be replaced by </span><span style=\"color: #808000; text-decoration-color: #808000; font-weight: bold\">2</span>\n",
       "</pre>\n"
      ],
      "text/plain": [
       "\u001b[1;33mWarning:\u001b[0m\u001b[33m meshio does not support tags of string type.\u001b[0m\n",
       "\u001b[33m    Surface tag  FARFIELD will be replaced by \u001b[0m\u001b[1;33m2\u001b[0m\n"
      ]
     },
     "metadata": {},
     "output_type": "display_data"
    },
    {
     "name": "stdout",
     "output_type": "stream",
     "text": [
      "Reading ../Data/SOBOL_DESIGNS_RANS/DESIGNS/DSN_0187/DIRECT/../config_DSN.cfg\n"
     ]
    },
    {
     "data": {
      "text/html": [
       "<pre style=\"white-space:pre;overflow-x:auto;line-height:normal;font-family:Menlo,'DejaVu Sans Mono',consolas,'Courier New',monospace\"><span style=\"color: #808000; text-decoration-color: #808000; font-weight: bold\">Warning:</span><span style=\"color: #808000; text-decoration-color: #808000\"> meshio does not support tags of string type.</span>\n",
       "<span style=\"color: #808000; text-decoration-color: #808000\">    Surface tag  AIRFOIL will be replaced by </span><span style=\"color: #808000; text-decoration-color: #808000; font-weight: bold\">1</span>\n",
       "</pre>\n"
      ],
      "text/plain": [
       "\u001b[1;33mWarning:\u001b[0m\u001b[33m meshio does not support tags of string type.\u001b[0m\n",
       "\u001b[33m    Surface tag  AIRFOIL will be replaced by \u001b[0m\u001b[1;33m1\u001b[0m\n"
      ]
     },
     "metadata": {},
     "output_type": "display_data"
    },
    {
     "data": {
      "text/html": [
       "<pre style=\"white-space:pre;overflow-x:auto;line-height:normal;font-family:Menlo,'DejaVu Sans Mono',consolas,'Courier New',monospace\"><span style=\"color: #808000; text-decoration-color: #808000; font-weight: bold\">Warning:</span><span style=\"color: #808000; text-decoration-color: #808000\"> meshio does not support tags of string type.</span>\n",
       "<span style=\"color: #808000; text-decoration-color: #808000\">    Surface tag  FARFIELD will be replaced by </span><span style=\"color: #808000; text-decoration-color: #808000; font-weight: bold\">2</span>\n",
       "</pre>\n"
      ],
      "text/plain": [
       "\u001b[1;33mWarning:\u001b[0m\u001b[33m meshio does not support tags of string type.\u001b[0m\n",
       "\u001b[33m    Surface tag  FARFIELD will be replaced by \u001b[0m\u001b[1;33m2\u001b[0m\n"
      ]
     },
     "metadata": {},
     "output_type": "display_data"
    },
    {
     "name": "stdout",
     "output_type": "stream",
     "text": [
      "Reading ../Data/SOBOL_DESIGNS_RANS/DESIGNS/DSN_0188/DIRECT/../config_DSN.cfg\n"
     ]
    },
    {
     "data": {
      "text/html": [
       "<pre style=\"white-space:pre;overflow-x:auto;line-height:normal;font-family:Menlo,'DejaVu Sans Mono',consolas,'Courier New',monospace\"><span style=\"color: #808000; text-decoration-color: #808000; font-weight: bold\">Warning:</span><span style=\"color: #808000; text-decoration-color: #808000\"> meshio does not support tags of string type.</span>\n",
       "<span style=\"color: #808000; text-decoration-color: #808000\">    Surface tag  AIRFOIL will be replaced by </span><span style=\"color: #808000; text-decoration-color: #808000; font-weight: bold\">1</span>\n",
       "</pre>\n"
      ],
      "text/plain": [
       "\u001b[1;33mWarning:\u001b[0m\u001b[33m meshio does not support tags of string type.\u001b[0m\n",
       "\u001b[33m    Surface tag  AIRFOIL will be replaced by \u001b[0m\u001b[1;33m1\u001b[0m\n"
      ]
     },
     "metadata": {},
     "output_type": "display_data"
    },
    {
     "data": {
      "text/html": [
       "<pre style=\"white-space:pre;overflow-x:auto;line-height:normal;font-family:Menlo,'DejaVu Sans Mono',consolas,'Courier New',monospace\"><span style=\"color: #808000; text-decoration-color: #808000; font-weight: bold\">Warning:</span><span style=\"color: #808000; text-decoration-color: #808000\"> meshio does not support tags of string type.</span>\n",
       "<span style=\"color: #808000; text-decoration-color: #808000\">    Surface tag  FARFIELD will be replaced by </span><span style=\"color: #808000; text-decoration-color: #808000; font-weight: bold\">2</span>\n",
       "</pre>\n"
      ],
      "text/plain": [
       "\u001b[1;33mWarning:\u001b[0m\u001b[33m meshio does not support tags of string type.\u001b[0m\n",
       "\u001b[33m    Surface tag  FARFIELD will be replaced by \u001b[0m\u001b[1;33m2\u001b[0m\n"
      ]
     },
     "metadata": {},
     "output_type": "display_data"
    },
    {
     "name": "stdout",
     "output_type": "stream",
     "text": [
      "Reading ../Data/SOBOL_DESIGNS_RANS/DESIGNS/DSN_0189/DIRECT/../config_DSN.cfg\n"
     ]
    },
    {
     "data": {
      "text/html": [
       "<pre style=\"white-space:pre;overflow-x:auto;line-height:normal;font-family:Menlo,'DejaVu Sans Mono',consolas,'Courier New',monospace\"><span style=\"color: #808000; text-decoration-color: #808000; font-weight: bold\">Warning:</span><span style=\"color: #808000; text-decoration-color: #808000\"> meshio does not support tags of string type.</span>\n",
       "<span style=\"color: #808000; text-decoration-color: #808000\">    Surface tag  AIRFOIL will be replaced by </span><span style=\"color: #808000; text-decoration-color: #808000; font-weight: bold\">1</span>\n",
       "</pre>\n"
      ],
      "text/plain": [
       "\u001b[1;33mWarning:\u001b[0m\u001b[33m meshio does not support tags of string type.\u001b[0m\n",
       "\u001b[33m    Surface tag  AIRFOIL will be replaced by \u001b[0m\u001b[1;33m1\u001b[0m\n"
      ]
     },
     "metadata": {},
     "output_type": "display_data"
    },
    {
     "data": {
      "text/html": [
       "<pre style=\"white-space:pre;overflow-x:auto;line-height:normal;font-family:Menlo,'DejaVu Sans Mono',consolas,'Courier New',monospace\"><span style=\"color: #808000; text-decoration-color: #808000; font-weight: bold\">Warning:</span><span style=\"color: #808000; text-decoration-color: #808000\"> meshio does not support tags of string type.</span>\n",
       "<span style=\"color: #808000; text-decoration-color: #808000\">    Surface tag  FARFIELD will be replaced by </span><span style=\"color: #808000; text-decoration-color: #808000; font-weight: bold\">2</span>\n",
       "</pre>\n"
      ],
      "text/plain": [
       "\u001b[1;33mWarning:\u001b[0m\u001b[33m meshio does not support tags of string type.\u001b[0m\n",
       "\u001b[33m    Surface tag  FARFIELD will be replaced by \u001b[0m\u001b[1;33m2\u001b[0m\n"
      ]
     },
     "metadata": {},
     "output_type": "display_data"
    },
    {
     "name": "stdout",
     "output_type": "stream",
     "text": [
      "Reading ../Data/SOBOL_DESIGNS_RANS/DESIGNS/DSN_0190/DIRECT/../config_DSN.cfg\n"
     ]
    },
    {
     "data": {
      "text/html": [
       "<pre style=\"white-space:pre;overflow-x:auto;line-height:normal;font-family:Menlo,'DejaVu Sans Mono',consolas,'Courier New',monospace\"><span style=\"color: #808000; text-decoration-color: #808000; font-weight: bold\">Warning:</span><span style=\"color: #808000; text-decoration-color: #808000\"> meshio does not support tags of string type.</span>\n",
       "<span style=\"color: #808000; text-decoration-color: #808000\">    Surface tag  AIRFOIL will be replaced by </span><span style=\"color: #808000; text-decoration-color: #808000; font-weight: bold\">1</span>\n",
       "</pre>\n"
      ],
      "text/plain": [
       "\u001b[1;33mWarning:\u001b[0m\u001b[33m meshio does not support tags of string type.\u001b[0m\n",
       "\u001b[33m    Surface tag  AIRFOIL will be replaced by \u001b[0m\u001b[1;33m1\u001b[0m\n"
      ]
     },
     "metadata": {},
     "output_type": "display_data"
    },
    {
     "data": {
      "text/html": [
       "<pre style=\"white-space:pre;overflow-x:auto;line-height:normal;font-family:Menlo,'DejaVu Sans Mono',consolas,'Courier New',monospace\"><span style=\"color: #808000; text-decoration-color: #808000; font-weight: bold\">Warning:</span><span style=\"color: #808000; text-decoration-color: #808000\"> meshio does not support tags of string type.</span>\n",
       "<span style=\"color: #808000; text-decoration-color: #808000\">    Surface tag  FARFIELD will be replaced by </span><span style=\"color: #808000; text-decoration-color: #808000; font-weight: bold\">2</span>\n",
       "</pre>\n"
      ],
      "text/plain": [
       "\u001b[1;33mWarning:\u001b[0m\u001b[33m meshio does not support tags of string type.\u001b[0m\n",
       "\u001b[33m    Surface tag  FARFIELD will be replaced by \u001b[0m\u001b[1;33m2\u001b[0m\n"
      ]
     },
     "metadata": {},
     "output_type": "display_data"
    },
    {
     "name": "stdout",
     "output_type": "stream",
     "text": [
      "Reading ../Data/SOBOL_DESIGNS_RANS/DESIGNS/DSN_0191/DIRECT/../config_DSN.cfg\n"
     ]
    },
    {
     "data": {
      "text/html": [
       "<pre style=\"white-space:pre;overflow-x:auto;line-height:normal;font-family:Menlo,'DejaVu Sans Mono',consolas,'Courier New',monospace\"><span style=\"color: #808000; text-decoration-color: #808000; font-weight: bold\">Warning:</span><span style=\"color: #808000; text-decoration-color: #808000\"> meshio does not support tags of string type.</span>\n",
       "<span style=\"color: #808000; text-decoration-color: #808000\">    Surface tag  AIRFOIL will be replaced by </span><span style=\"color: #808000; text-decoration-color: #808000; font-weight: bold\">1</span>\n",
       "</pre>\n"
      ],
      "text/plain": [
       "\u001b[1;33mWarning:\u001b[0m\u001b[33m meshio does not support tags of string type.\u001b[0m\n",
       "\u001b[33m    Surface tag  AIRFOIL will be replaced by \u001b[0m\u001b[1;33m1\u001b[0m\n"
      ]
     },
     "metadata": {},
     "output_type": "display_data"
    },
    {
     "data": {
      "text/html": [
       "<pre style=\"white-space:pre;overflow-x:auto;line-height:normal;font-family:Menlo,'DejaVu Sans Mono',consolas,'Courier New',monospace\"><span style=\"color: #808000; text-decoration-color: #808000; font-weight: bold\">Warning:</span><span style=\"color: #808000; text-decoration-color: #808000\"> meshio does not support tags of string type.</span>\n",
       "<span style=\"color: #808000; text-decoration-color: #808000\">    Surface tag  FARFIELD will be replaced by </span><span style=\"color: #808000; text-decoration-color: #808000; font-weight: bold\">2</span>\n",
       "</pre>\n"
      ],
      "text/plain": [
       "\u001b[1;33mWarning:\u001b[0m\u001b[33m meshio does not support tags of string type.\u001b[0m\n",
       "\u001b[33m    Surface tag  FARFIELD will be replaced by \u001b[0m\u001b[1;33m2\u001b[0m\n"
      ]
     },
     "metadata": {},
     "output_type": "display_data"
    },
    {
     "name": "stdout",
     "output_type": "stream",
     "text": [
      "Reading ../Data/SOBOL_DESIGNS_RANS/DESIGNS/DSN_0192/DIRECT/../config_DSN.cfg\n"
     ]
    },
    {
     "data": {
      "text/html": [
       "<pre style=\"white-space:pre;overflow-x:auto;line-height:normal;font-family:Menlo,'DejaVu Sans Mono',consolas,'Courier New',monospace\"><span style=\"color: #808000; text-decoration-color: #808000; font-weight: bold\">Warning:</span><span style=\"color: #808000; text-decoration-color: #808000\"> meshio does not support tags of string type.</span>\n",
       "<span style=\"color: #808000; text-decoration-color: #808000\">    Surface tag  AIRFOIL will be replaced by </span><span style=\"color: #808000; text-decoration-color: #808000; font-weight: bold\">1</span>\n",
       "</pre>\n"
      ],
      "text/plain": [
       "\u001b[1;33mWarning:\u001b[0m\u001b[33m meshio does not support tags of string type.\u001b[0m\n",
       "\u001b[33m    Surface tag  AIRFOIL will be replaced by \u001b[0m\u001b[1;33m1\u001b[0m\n"
      ]
     },
     "metadata": {},
     "output_type": "display_data"
    },
    {
     "data": {
      "text/html": [
       "<pre style=\"white-space:pre;overflow-x:auto;line-height:normal;font-family:Menlo,'DejaVu Sans Mono',consolas,'Courier New',monospace\"><span style=\"color: #808000; text-decoration-color: #808000; font-weight: bold\">Warning:</span><span style=\"color: #808000; text-decoration-color: #808000\"> meshio does not support tags of string type.</span>\n",
       "<span style=\"color: #808000; text-decoration-color: #808000\">    Surface tag  FARFIELD will be replaced by </span><span style=\"color: #808000; text-decoration-color: #808000; font-weight: bold\">2</span>\n",
       "</pre>\n"
      ],
      "text/plain": [
       "\u001b[1;33mWarning:\u001b[0m\u001b[33m meshio does not support tags of string type.\u001b[0m\n",
       "\u001b[33m    Surface tag  FARFIELD will be replaced by \u001b[0m\u001b[1;33m2\u001b[0m\n"
      ]
     },
     "metadata": {},
     "output_type": "display_data"
    },
    {
     "name": "stdout",
     "output_type": "stream",
     "text": [
      "Reading ../Data/SOBOL_DESIGNS_RANS/DESIGNS/DSN_0193/DIRECT/../config_DSN.cfg\n"
     ]
    },
    {
     "data": {
      "text/html": [
       "<pre style=\"white-space:pre;overflow-x:auto;line-height:normal;font-family:Menlo,'DejaVu Sans Mono',consolas,'Courier New',monospace\"><span style=\"color: #808000; text-decoration-color: #808000; font-weight: bold\">Warning:</span><span style=\"color: #808000; text-decoration-color: #808000\"> meshio does not support tags of string type.</span>\n",
       "<span style=\"color: #808000; text-decoration-color: #808000\">    Surface tag  AIRFOIL will be replaced by </span><span style=\"color: #808000; text-decoration-color: #808000; font-weight: bold\">1</span>\n",
       "</pre>\n"
      ],
      "text/plain": [
       "\u001b[1;33mWarning:\u001b[0m\u001b[33m meshio does not support tags of string type.\u001b[0m\n",
       "\u001b[33m    Surface tag  AIRFOIL will be replaced by \u001b[0m\u001b[1;33m1\u001b[0m\n"
      ]
     },
     "metadata": {},
     "output_type": "display_data"
    },
    {
     "data": {
      "text/html": [
       "<pre style=\"white-space:pre;overflow-x:auto;line-height:normal;font-family:Menlo,'DejaVu Sans Mono',consolas,'Courier New',monospace\"><span style=\"color: #808000; text-decoration-color: #808000; font-weight: bold\">Warning:</span><span style=\"color: #808000; text-decoration-color: #808000\"> meshio does not support tags of string type.</span>\n",
       "<span style=\"color: #808000; text-decoration-color: #808000\">    Surface tag  FARFIELD will be replaced by </span><span style=\"color: #808000; text-decoration-color: #808000; font-weight: bold\">2</span>\n",
       "</pre>\n"
      ],
      "text/plain": [
       "\u001b[1;33mWarning:\u001b[0m\u001b[33m meshio does not support tags of string type.\u001b[0m\n",
       "\u001b[33m    Surface tag  FARFIELD will be replaced by \u001b[0m\u001b[1;33m2\u001b[0m\n"
      ]
     },
     "metadata": {},
     "output_type": "display_data"
    },
    {
     "name": "stdout",
     "output_type": "stream",
     "text": [
      "Reading ../Data/SOBOL_DESIGNS_RANS/DESIGNS/DSN_0194/DIRECT/../config_DSN.cfg\n"
     ]
    },
    {
     "data": {
      "text/html": [
       "<pre style=\"white-space:pre;overflow-x:auto;line-height:normal;font-family:Menlo,'DejaVu Sans Mono',consolas,'Courier New',monospace\"><span style=\"color: #808000; text-decoration-color: #808000; font-weight: bold\">Warning:</span><span style=\"color: #808000; text-decoration-color: #808000\"> meshio does not support tags of string type.</span>\n",
       "<span style=\"color: #808000; text-decoration-color: #808000\">    Surface tag  AIRFOIL will be replaced by </span><span style=\"color: #808000; text-decoration-color: #808000; font-weight: bold\">1</span>\n",
       "</pre>\n"
      ],
      "text/plain": [
       "\u001b[1;33mWarning:\u001b[0m\u001b[33m meshio does not support tags of string type.\u001b[0m\n",
       "\u001b[33m    Surface tag  AIRFOIL will be replaced by \u001b[0m\u001b[1;33m1\u001b[0m\n"
      ]
     },
     "metadata": {},
     "output_type": "display_data"
    },
    {
     "data": {
      "text/html": [
       "<pre style=\"white-space:pre;overflow-x:auto;line-height:normal;font-family:Menlo,'DejaVu Sans Mono',consolas,'Courier New',monospace\"><span style=\"color: #808000; text-decoration-color: #808000; font-weight: bold\">Warning:</span><span style=\"color: #808000; text-decoration-color: #808000\"> meshio does not support tags of string type.</span>\n",
       "<span style=\"color: #808000; text-decoration-color: #808000\">    Surface tag  FARFIELD will be replaced by </span><span style=\"color: #808000; text-decoration-color: #808000; font-weight: bold\">2</span>\n",
       "</pre>\n"
      ],
      "text/plain": [
       "\u001b[1;33mWarning:\u001b[0m\u001b[33m meshio does not support tags of string type.\u001b[0m\n",
       "\u001b[33m    Surface tag  FARFIELD will be replaced by \u001b[0m\u001b[1;33m2\u001b[0m\n"
      ]
     },
     "metadata": {},
     "output_type": "display_data"
    },
    {
     "name": "stdout",
     "output_type": "stream",
     "text": [
      "Reading ../Data/SOBOL_DESIGNS_RANS/DESIGNS/DSN_0195/DIRECT/../config_DSN.cfg\n"
     ]
    },
    {
     "data": {
      "text/html": [
       "<pre style=\"white-space:pre;overflow-x:auto;line-height:normal;font-family:Menlo,'DejaVu Sans Mono',consolas,'Courier New',monospace\"><span style=\"color: #808000; text-decoration-color: #808000; font-weight: bold\">Warning:</span><span style=\"color: #808000; text-decoration-color: #808000\"> meshio does not support tags of string type.</span>\n",
       "<span style=\"color: #808000; text-decoration-color: #808000\">    Surface tag  AIRFOIL will be replaced by </span><span style=\"color: #808000; text-decoration-color: #808000; font-weight: bold\">1</span>\n",
       "</pre>\n"
      ],
      "text/plain": [
       "\u001b[1;33mWarning:\u001b[0m\u001b[33m meshio does not support tags of string type.\u001b[0m\n",
       "\u001b[33m    Surface tag  AIRFOIL will be replaced by \u001b[0m\u001b[1;33m1\u001b[0m\n"
      ]
     },
     "metadata": {},
     "output_type": "display_data"
    },
    {
     "data": {
      "text/html": [
       "<pre style=\"white-space:pre;overflow-x:auto;line-height:normal;font-family:Menlo,'DejaVu Sans Mono',consolas,'Courier New',monospace\"><span style=\"color: #808000; text-decoration-color: #808000; font-weight: bold\">Warning:</span><span style=\"color: #808000; text-decoration-color: #808000\"> meshio does not support tags of string type.</span>\n",
       "<span style=\"color: #808000; text-decoration-color: #808000\">    Surface tag  FARFIELD will be replaced by </span><span style=\"color: #808000; text-decoration-color: #808000; font-weight: bold\">2</span>\n",
       "</pre>\n"
      ],
      "text/plain": [
       "\u001b[1;33mWarning:\u001b[0m\u001b[33m meshio does not support tags of string type.\u001b[0m\n",
       "\u001b[33m    Surface tag  FARFIELD will be replaced by \u001b[0m\u001b[1;33m2\u001b[0m\n"
      ]
     },
     "metadata": {},
     "output_type": "display_data"
    },
    {
     "name": "stdout",
     "output_type": "stream",
     "text": [
      "Reading ../Data/SOBOL_DESIGNS_RANS/DESIGNS/DSN_0196/DIRECT/../config_DSN.cfg\n"
     ]
    },
    {
     "data": {
      "text/html": [
       "<pre style=\"white-space:pre;overflow-x:auto;line-height:normal;font-family:Menlo,'DejaVu Sans Mono',consolas,'Courier New',monospace\"><span style=\"color: #808000; text-decoration-color: #808000; font-weight: bold\">Warning:</span><span style=\"color: #808000; text-decoration-color: #808000\"> meshio does not support tags of string type.</span>\n",
       "<span style=\"color: #808000; text-decoration-color: #808000\">    Surface tag  AIRFOIL will be replaced by </span><span style=\"color: #808000; text-decoration-color: #808000; font-weight: bold\">1</span>\n",
       "</pre>\n"
      ],
      "text/plain": [
       "\u001b[1;33mWarning:\u001b[0m\u001b[33m meshio does not support tags of string type.\u001b[0m\n",
       "\u001b[33m    Surface tag  AIRFOIL will be replaced by \u001b[0m\u001b[1;33m1\u001b[0m\n"
      ]
     },
     "metadata": {},
     "output_type": "display_data"
    },
    {
     "data": {
      "text/html": [
       "<pre style=\"white-space:pre;overflow-x:auto;line-height:normal;font-family:Menlo,'DejaVu Sans Mono',consolas,'Courier New',monospace\"><span style=\"color: #808000; text-decoration-color: #808000; font-weight: bold\">Warning:</span><span style=\"color: #808000; text-decoration-color: #808000\"> meshio does not support tags of string type.</span>\n",
       "<span style=\"color: #808000; text-decoration-color: #808000\">    Surface tag  FARFIELD will be replaced by </span><span style=\"color: #808000; text-decoration-color: #808000; font-weight: bold\">2</span>\n",
       "</pre>\n"
      ],
      "text/plain": [
       "\u001b[1;33mWarning:\u001b[0m\u001b[33m meshio does not support tags of string type.\u001b[0m\n",
       "\u001b[33m    Surface tag  FARFIELD will be replaced by \u001b[0m\u001b[1;33m2\u001b[0m\n"
      ]
     },
     "metadata": {},
     "output_type": "display_data"
    },
    {
     "name": "stdout",
     "output_type": "stream",
     "text": [
      "Reading ../Data/SOBOL_DESIGNS_RANS/DESIGNS/DSN_0197/DIRECT/../config_DSN.cfg\n"
     ]
    },
    {
     "data": {
      "text/html": [
       "<pre style=\"white-space:pre;overflow-x:auto;line-height:normal;font-family:Menlo,'DejaVu Sans Mono',consolas,'Courier New',monospace\"><span style=\"color: #808000; text-decoration-color: #808000; font-weight: bold\">Warning:</span><span style=\"color: #808000; text-decoration-color: #808000\"> meshio does not support tags of string type.</span>\n",
       "<span style=\"color: #808000; text-decoration-color: #808000\">    Surface tag  AIRFOIL will be replaced by </span><span style=\"color: #808000; text-decoration-color: #808000; font-weight: bold\">1</span>\n",
       "</pre>\n"
      ],
      "text/plain": [
       "\u001b[1;33mWarning:\u001b[0m\u001b[33m meshio does not support tags of string type.\u001b[0m\n",
       "\u001b[33m    Surface tag  AIRFOIL will be replaced by \u001b[0m\u001b[1;33m1\u001b[0m\n"
      ]
     },
     "metadata": {},
     "output_type": "display_data"
    },
    {
     "data": {
      "text/html": [
       "<pre style=\"white-space:pre;overflow-x:auto;line-height:normal;font-family:Menlo,'DejaVu Sans Mono',consolas,'Courier New',monospace\"><span style=\"color: #808000; text-decoration-color: #808000; font-weight: bold\">Warning:</span><span style=\"color: #808000; text-decoration-color: #808000\"> meshio does not support tags of string type.</span>\n",
       "<span style=\"color: #808000; text-decoration-color: #808000\">    Surface tag  FARFIELD will be replaced by </span><span style=\"color: #808000; text-decoration-color: #808000; font-weight: bold\">2</span>\n",
       "</pre>\n"
      ],
      "text/plain": [
       "\u001b[1;33mWarning:\u001b[0m\u001b[33m meshio does not support tags of string type.\u001b[0m\n",
       "\u001b[33m    Surface tag  FARFIELD will be replaced by \u001b[0m\u001b[1;33m2\u001b[0m\n"
      ]
     },
     "metadata": {},
     "output_type": "display_data"
    },
    {
     "name": "stdout",
     "output_type": "stream",
     "text": [
      "Reading ../Data/SOBOL_DESIGNS_RANS/DESIGNS/DSN_0198/DIRECT/../config_DSN.cfg\n"
     ]
    },
    {
     "data": {
      "text/html": [
       "<pre style=\"white-space:pre;overflow-x:auto;line-height:normal;font-family:Menlo,'DejaVu Sans Mono',consolas,'Courier New',monospace\"><span style=\"color: #808000; text-decoration-color: #808000; font-weight: bold\">Warning:</span><span style=\"color: #808000; text-decoration-color: #808000\"> meshio does not support tags of string type.</span>\n",
       "<span style=\"color: #808000; text-decoration-color: #808000\">    Surface tag  AIRFOIL will be replaced by </span><span style=\"color: #808000; text-decoration-color: #808000; font-weight: bold\">1</span>\n",
       "</pre>\n"
      ],
      "text/plain": [
       "\u001b[1;33mWarning:\u001b[0m\u001b[33m meshio does not support tags of string type.\u001b[0m\n",
       "\u001b[33m    Surface tag  AIRFOIL will be replaced by \u001b[0m\u001b[1;33m1\u001b[0m\n"
      ]
     },
     "metadata": {},
     "output_type": "display_data"
    },
    {
     "data": {
      "text/html": [
       "<pre style=\"white-space:pre;overflow-x:auto;line-height:normal;font-family:Menlo,'DejaVu Sans Mono',consolas,'Courier New',monospace\"><span style=\"color: #808000; text-decoration-color: #808000; font-weight: bold\">Warning:</span><span style=\"color: #808000; text-decoration-color: #808000\"> meshio does not support tags of string type.</span>\n",
       "<span style=\"color: #808000; text-decoration-color: #808000\">    Surface tag  FARFIELD will be replaced by </span><span style=\"color: #808000; text-decoration-color: #808000; font-weight: bold\">2</span>\n",
       "</pre>\n"
      ],
      "text/plain": [
       "\u001b[1;33mWarning:\u001b[0m\u001b[33m meshio does not support tags of string type.\u001b[0m\n",
       "\u001b[33m    Surface tag  FARFIELD will be replaced by \u001b[0m\u001b[1;33m2\u001b[0m\n"
      ]
     },
     "metadata": {},
     "output_type": "display_data"
    },
    {
     "name": "stdout",
     "output_type": "stream",
     "text": [
      "Reading ../Data/SOBOL_DESIGNS_RANS/DESIGNS/DSN_0199/DIRECT/../config_DSN.cfg\n"
     ]
    },
    {
     "data": {
      "text/html": [
       "<pre style=\"white-space:pre;overflow-x:auto;line-height:normal;font-family:Menlo,'DejaVu Sans Mono',consolas,'Courier New',monospace\"><span style=\"color: #808000; text-decoration-color: #808000; font-weight: bold\">Warning:</span><span style=\"color: #808000; text-decoration-color: #808000\"> meshio does not support tags of string type.</span>\n",
       "<span style=\"color: #808000; text-decoration-color: #808000\">    Surface tag  AIRFOIL will be replaced by </span><span style=\"color: #808000; text-decoration-color: #808000; font-weight: bold\">1</span>\n",
       "</pre>\n"
      ],
      "text/plain": [
       "\u001b[1;33mWarning:\u001b[0m\u001b[33m meshio does not support tags of string type.\u001b[0m\n",
       "\u001b[33m    Surface tag  AIRFOIL will be replaced by \u001b[0m\u001b[1;33m1\u001b[0m\n"
      ]
     },
     "metadata": {},
     "output_type": "display_data"
    },
    {
     "data": {
      "text/html": [
       "<pre style=\"white-space:pre;overflow-x:auto;line-height:normal;font-family:Menlo,'DejaVu Sans Mono',consolas,'Courier New',monospace\"><span style=\"color: #808000; text-decoration-color: #808000; font-weight: bold\">Warning:</span><span style=\"color: #808000; text-decoration-color: #808000\"> meshio does not support tags of string type.</span>\n",
       "<span style=\"color: #808000; text-decoration-color: #808000\">    Surface tag  FARFIELD will be replaced by </span><span style=\"color: #808000; text-decoration-color: #808000; font-weight: bold\">2</span>\n",
       "</pre>\n"
      ],
      "text/plain": [
       "\u001b[1;33mWarning:\u001b[0m\u001b[33m meshio does not support tags of string type.\u001b[0m\n",
       "\u001b[33m    Surface tag  FARFIELD will be replaced by \u001b[0m\u001b[1;33m2\u001b[0m\n"
      ]
     },
     "metadata": {},
     "output_type": "display_data"
    },
    {
     "name": "stdout",
     "output_type": "stream",
     "text": [
      "Reading ../Data/SOBOL_DESIGNS_RANS/DESIGNS/DSN_0200/DIRECT/../config_DSN.cfg\n"
     ]
    },
    {
     "data": {
      "text/html": [
       "<pre style=\"white-space:pre;overflow-x:auto;line-height:normal;font-family:Menlo,'DejaVu Sans Mono',consolas,'Courier New',monospace\"><span style=\"color: #808000; text-decoration-color: #808000; font-weight: bold\">Warning:</span><span style=\"color: #808000; text-decoration-color: #808000\"> meshio does not support tags of string type.</span>\n",
       "<span style=\"color: #808000; text-decoration-color: #808000\">    Surface tag  AIRFOIL will be replaced by </span><span style=\"color: #808000; text-decoration-color: #808000; font-weight: bold\">1</span>\n",
       "</pre>\n"
      ],
      "text/plain": [
       "\u001b[1;33mWarning:\u001b[0m\u001b[33m meshio does not support tags of string type.\u001b[0m\n",
       "\u001b[33m    Surface tag  AIRFOIL will be replaced by \u001b[0m\u001b[1;33m1\u001b[0m\n"
      ]
     },
     "metadata": {},
     "output_type": "display_data"
    },
    {
     "data": {
      "text/html": [
       "<pre style=\"white-space:pre;overflow-x:auto;line-height:normal;font-family:Menlo,'DejaVu Sans Mono',consolas,'Courier New',monospace\"><span style=\"color: #808000; text-decoration-color: #808000; font-weight: bold\">Warning:</span><span style=\"color: #808000; text-decoration-color: #808000\"> meshio does not support tags of string type.</span>\n",
       "<span style=\"color: #808000; text-decoration-color: #808000\">    Surface tag  FARFIELD will be replaced by </span><span style=\"color: #808000; text-decoration-color: #808000; font-weight: bold\">2</span>\n",
       "</pre>\n"
      ],
      "text/plain": [
       "\u001b[1;33mWarning:\u001b[0m\u001b[33m meshio does not support tags of string type.\u001b[0m\n",
       "\u001b[33m    Surface tag  FARFIELD will be replaced by \u001b[0m\u001b[1;33m2\u001b[0m\n"
      ]
     },
     "metadata": {},
     "output_type": "display_data"
    },
    {
     "name": "stdout",
     "output_type": "stream",
     "text": [
      "Reading ../Data/SOBOL_DESIGNS_RANS/DESIGNS/DSN_0201/DIRECT/../config_DSN.cfg\n"
     ]
    },
    {
     "data": {
      "text/html": [
       "<pre style=\"white-space:pre;overflow-x:auto;line-height:normal;font-family:Menlo,'DejaVu Sans Mono',consolas,'Courier New',monospace\"><span style=\"color: #808000; text-decoration-color: #808000; font-weight: bold\">Warning:</span><span style=\"color: #808000; text-decoration-color: #808000\"> meshio does not support tags of string type.</span>\n",
       "<span style=\"color: #808000; text-decoration-color: #808000\">    Surface tag  AIRFOIL will be replaced by </span><span style=\"color: #808000; text-decoration-color: #808000; font-weight: bold\">1</span>\n",
       "</pre>\n"
      ],
      "text/plain": [
       "\u001b[1;33mWarning:\u001b[0m\u001b[33m meshio does not support tags of string type.\u001b[0m\n",
       "\u001b[33m    Surface tag  AIRFOIL will be replaced by \u001b[0m\u001b[1;33m1\u001b[0m\n"
      ]
     },
     "metadata": {},
     "output_type": "display_data"
    },
    {
     "data": {
      "text/html": [
       "<pre style=\"white-space:pre;overflow-x:auto;line-height:normal;font-family:Menlo,'DejaVu Sans Mono',consolas,'Courier New',monospace\"><span style=\"color: #808000; text-decoration-color: #808000; font-weight: bold\">Warning:</span><span style=\"color: #808000; text-decoration-color: #808000\"> meshio does not support tags of string type.</span>\n",
       "<span style=\"color: #808000; text-decoration-color: #808000\">    Surface tag  FARFIELD will be replaced by </span><span style=\"color: #808000; text-decoration-color: #808000; font-weight: bold\">2</span>\n",
       "</pre>\n"
      ],
      "text/plain": [
       "\u001b[1;33mWarning:\u001b[0m\u001b[33m meshio does not support tags of string type.\u001b[0m\n",
       "\u001b[33m    Surface tag  FARFIELD will be replaced by \u001b[0m\u001b[1;33m2\u001b[0m\n"
      ]
     },
     "metadata": {},
     "output_type": "display_data"
    },
    {
     "name": "stdout",
     "output_type": "stream",
     "text": [
      "Reading ../Data/SOBOL_DESIGNS_RANS/DESIGNS/DSN_0202/DIRECT/../config_DSN.cfg\n"
     ]
    },
    {
     "data": {
      "text/html": [
       "<pre style=\"white-space:pre;overflow-x:auto;line-height:normal;font-family:Menlo,'DejaVu Sans Mono',consolas,'Courier New',monospace\"><span style=\"color: #808000; text-decoration-color: #808000; font-weight: bold\">Warning:</span><span style=\"color: #808000; text-decoration-color: #808000\"> meshio does not support tags of string type.</span>\n",
       "<span style=\"color: #808000; text-decoration-color: #808000\">    Surface tag  AIRFOIL will be replaced by </span><span style=\"color: #808000; text-decoration-color: #808000; font-weight: bold\">1</span>\n",
       "</pre>\n"
      ],
      "text/plain": [
       "\u001b[1;33mWarning:\u001b[0m\u001b[33m meshio does not support tags of string type.\u001b[0m\n",
       "\u001b[33m    Surface tag  AIRFOIL will be replaced by \u001b[0m\u001b[1;33m1\u001b[0m\n"
      ]
     },
     "metadata": {},
     "output_type": "display_data"
    },
    {
     "data": {
      "text/html": [
       "<pre style=\"white-space:pre;overflow-x:auto;line-height:normal;font-family:Menlo,'DejaVu Sans Mono',consolas,'Courier New',monospace\"><span style=\"color: #808000; text-decoration-color: #808000; font-weight: bold\">Warning:</span><span style=\"color: #808000; text-decoration-color: #808000\"> meshio does not support tags of string type.</span>\n",
       "<span style=\"color: #808000; text-decoration-color: #808000\">    Surface tag  FARFIELD will be replaced by </span><span style=\"color: #808000; text-decoration-color: #808000; font-weight: bold\">2</span>\n",
       "</pre>\n"
      ],
      "text/plain": [
       "\u001b[1;33mWarning:\u001b[0m\u001b[33m meshio does not support tags of string type.\u001b[0m\n",
       "\u001b[33m    Surface tag  FARFIELD will be replaced by \u001b[0m\u001b[1;33m2\u001b[0m\n"
      ]
     },
     "metadata": {},
     "output_type": "display_data"
    },
    {
     "name": "stdout",
     "output_type": "stream",
     "text": [
      "Reading ../Data/SOBOL_DESIGNS_RANS/DESIGNS/DSN_0203/DIRECT/../config_DSN.cfg\n"
     ]
    }
   ],
   "source": [
    "# dataset = [get_data_from_simulation(data_dir, mesh_filename, sim_file_name, num_levels=NO_LEVELS, n_vol_sample_multiplier=.05, n_bc_sample_multiplier=.05).to(device) for i in range(1)]\n",
    "data_dir_pattern = \"../Data/SOBOL_DESIGNS_RANS/DESIGNS/DSN_{:04d}/DIRECT\"\n",
    "dataset = [get_data_from_simulation(data_dir_pattern.format(i+12), mesh_filename, sim_file_name, num_levels=NO_LEVELS, n_vol_sample_multiplier=.2, n_bc_sample_multiplier=1).to(device) for i in range(192)]\n",
    "datum = dataset[0]"
   ]
  },
  {
   "cell_type": "code",
   "execution_count": 14,
   "metadata": {},
   "outputs": [],
   "source": [
    "# for k, _ in enumerate(dataset):\n",
    "#     print(k)\n",
    "#     for i in torch.where(dataset[k].node_type_ids == 2)[0]:\n",
    "#         print(i, dataset[k].u_nodes[i])"
   ]
  },
  {
   "cell_type": "code",
   "execution_count": 15,
   "metadata": {},
   "outputs": [],
   "source": [
    "from torch_geometric.loader import DataLoader\n",
    "\n",
    "loader = DataLoader(dataset, batch_size=1, shuffle=True)"
   ]
  },
  {
   "cell_type": "code",
   "execution_count": 16,
   "metadata": {},
   "outputs": [],
   "source": [
    "sim_file_name = \"flow.vtu\"\n",
    "qoi_names, qois, qois_scaled, qois_mean, qois_std, flow_points = load_sim_data_RANS(  # type: ignore\n",
    "    data_dir, sim_file_name, datum.node_type_ids.cpu()\n",
    ")"
   ]
  },
  {
   "cell_type": "code",
   "execution_count": 17,
   "metadata": {},
   "outputs": [],
   "source": [
    "# plt.scatter(datum.x[:,0], datum.x[:,1])\n",
    "# plt.scatter(datum.x_res_bc[:,0], datum.x_res_bc[:,1])"
   ]
  },
  {
   "cell_type": "code",
   "execution_count": 18,
   "metadata": {},
   "outputs": [],
   "source": [
    "import pandas as pd"
   ]
  },
  {
   "cell_type": "code",
   "execution_count": 19,
   "metadata": {},
   "outputs": [],
   "source": [
    "model = PIGNN_RANS(device=device, num_residual_latent_updates=12, num_lvls=NO_LEVELS, num_nodes=len(dataset[0].node_new_ids)).to(device)\n",
    "# optimizer = torch.optim.Adam(model.parameters())\n",
    "optimizer = torch.optim.Adam(model.parameters(), lr=1e-04)\n",
    "\n",
    "columns = [\"epoch\", \"data_dir\", \"loss\", \"l_data\", \"loss_data\", \"l_res\", \"loss_res\", \"l_bc\", \"loss_bc\", \"val_loss\"]\n",
    "results_df = pd.DataFrame(columns=columns)\n"
   ]
  },
  {
   "cell_type": "code",
   "execution_count": 20,
   "metadata": {},
   "outputs": [
    {
     "name": "stdout",
     "output_type": "stream",
     "text": [
      "Starting Training\n",
      "0 loss: 1.094120 l_data: 1.000000 loss_data: 1.094120 l_res: 0.000000 loss_res: 19.039858 l_bc: 0.000000 loss_bc: 2.037635 val_loss: 1.608092\n",
      "10 loss: 0.612925 l_data: 1.000000 loss_data: 0.612925 l_res: 0.000000 loss_res: 33956.602143 l_bc: 0.000000 loss_bc: 1.357396 val_loss: 1.559571\n",
      "20 loss: 0.509781 l_data: 1.000000 loss_data: 0.509781 l_res: 0.000000 loss_res: 46890.042678 l_bc: 0.000000 loss_bc: 1.035889 val_loss: 1.528196\n",
      "30 loss: 0.437873 l_data: 1.000000 loss_data: 0.437873 l_res: 0.000000 loss_res: 86788.750344 l_bc: 0.000000 loss_bc: 0.789147 val_loss: 1.481529\n",
      "40 loss: 0.397819 l_data: 1.000000 loss_data: 0.397819 l_res: 0.000000 loss_res: 75652.729383 l_bc: 0.000000 loss_bc: 0.761080 val_loss: 1.467740\n",
      "50 loss: 0.376639 l_data: 1.000000 loss_data: 0.376639 l_res: 0.000000 loss_res: 77176.446351 l_bc: 0.000000 loss_bc: 0.729436 val_loss: 1.457205\n",
      "60 loss: 0.356898 l_data: 1.000000 loss_data: 0.356898 l_res: 0.000000 loss_res: 81521.501426 l_bc: 0.000000 loss_bc: 0.720165 val_loss: 1.445365\n",
      "70 loss: 0.346549 l_data: 1.000000 loss_data: 0.346549 l_res: 0.000000 loss_res: 79680.803549 l_bc: 0.000000 loss_bc: 0.709729 val_loss: 1.436561\n",
      "80 loss: 0.331844 l_data: 1.000000 loss_data: 0.331844 l_res: 0.000000 loss_res: 87574.760719 l_bc: 0.000000 loss_bc: 0.702581 val_loss: 1.423790\n",
      "90 loss: 0.315409 l_data: 1.000000 loss_data: 0.315409 l_res: 0.000000 loss_res: 84062.489818 l_bc: 0.000000 loss_bc: 0.690365 val_loss: 1.412809\n",
      "100 loss: 0.310331 l_data: 1.000000 loss_data: 0.310331 l_res: 0.000000 loss_res: 102145.528036 l_bc: 0.000000 loss_bc: 0.682662 val_loss: 1.403197\n",
      "110 loss: 0.301073 l_data: 1.000000 loss_data: 0.301073 l_res: 0.000000 loss_res: 94712.526154 l_bc: 0.000000 loss_bc: 0.673459 val_loss: 1.391562\n",
      "120 loss: 0.292755 l_data: 1.000000 loss_data: 0.292755 l_res: 0.000000 loss_res: 90481.093906 l_bc: 0.000000 loss_bc: 0.665236 val_loss: 1.384989\n",
      "130 loss: 0.286694 l_data: 1.000000 loss_data: 0.286694 l_res: 0.000000 loss_res: 96124.279970 l_bc: 0.000000 loss_bc: 0.653063 val_loss: 1.382999\n",
      "140 loss: 0.277390 l_data: 1.000000 loss_data: 0.277390 l_res: 0.000000 loss_res: 95330.664412 l_bc: 0.000000 loss_bc: 0.640534 val_loss: 1.383852\n",
      "150 loss: 0.264039 l_data: 1.000000 loss_data: 0.264039 l_res: 0.000000 loss_res: 87056.871524 l_bc: 0.000000 loss_bc: 0.630939 val_loss: 1.387342\n",
      "160 loss: 0.254040 l_data: 1.000000 loss_data: 0.254040 l_res: 0.000000 loss_res: 97937.169889 l_bc: 0.000000 loss_bc: 0.610194 val_loss: 1.395656\n",
      "170 loss: 0.234852 l_data: 1.000000 loss_data: 0.234852 l_res: 0.000000 loss_res: 95859.217652 l_bc: 0.000000 loss_bc: 0.600631 val_loss: 1.395752\n",
      "180 loss: 0.225461 l_data: 1.000000 loss_data: 0.225461 l_res: 0.000000 loss_res: 93461.278050 l_bc: 0.000000 loss_bc: 0.585636 val_loss: 1.399970\n",
      "190 loss: 0.209032 l_data: 1.000000 loss_data: 0.209032 l_res: 0.000000 loss_res: 97229.878526 l_bc: 0.000000 loss_bc: 0.573718 val_loss: 1.403870\n",
      "200 loss: 0.200166 l_data: 1.000000 loss_data: 0.200166 l_res: 0.000000 loss_res: 100782.433814 l_bc: 0.000000 loss_bc: 0.566080 val_loss: 1.405429\n",
      "210 loss: 0.195130 l_data: 1.000000 loss_data: 0.195130 l_res: 0.000000 loss_res: 101863.458549 l_bc: 0.000000 loss_bc: 0.556784 val_loss: 1.407543\n",
      "220 loss: 0.190392 l_data: 1.000000 loss_data: 0.190392 l_res: 0.000000 loss_res: 99693.142703 l_bc: 0.000000 loss_bc: 0.551299 val_loss: 1.411582\n",
      "230 loss: 0.181285 l_data: 1.000000 loss_data: 0.181285 l_res: 0.000000 loss_res: 104715.550472 l_bc: 0.000000 loss_bc: 0.546135 val_loss: 1.412300\n",
      "240 loss: 0.172642 l_data: 1.000000 loss_data: 0.172642 l_res: 0.000000 loss_res: 104848.763470 l_bc: 0.000000 loss_bc: 0.539519 val_loss: 1.419310\n",
      "250 loss: 0.171218 l_data: 1.000000 loss_data: 0.171218 l_res: 0.000000 loss_res: 107192.261048 l_bc: 0.000000 loss_bc: 0.534595 val_loss: 1.415880\n",
      "260 loss: 0.166333 l_data: 1.000000 loss_data: 0.166333 l_res: 0.000000 loss_res: 103118.822914 l_bc: 0.000000 loss_bc: 0.531971 val_loss: 1.414984\n",
      "270 loss: 0.164097 l_data: 1.000000 loss_data: 0.164097 l_res: 0.000000 loss_res: 105304.837182 l_bc: 0.000000 loss_bc: 0.527223 val_loss: 1.415556\n",
      "280 loss: 0.159395 l_data: 1.000000 loss_data: 0.159395 l_res: 0.000000 loss_res: 105623.653335 l_bc: 0.000000 loss_bc: 0.524054 val_loss: 1.418454\n",
      "290 loss: 0.152818 l_data: 1.000000 loss_data: 0.152818 l_res: 0.000000 loss_res: 104333.061461 l_bc: 0.000000 loss_bc: 0.519682 val_loss: 1.414952\n",
      "300 loss: 0.152742 l_data: 1.000000 loss_data: 0.152742 l_res: 0.000000 loss_res: 106997.808963 l_bc: 0.000000 loss_bc: 0.515357 val_loss: 1.417055\n",
      "310 loss: 0.146256 l_data: 1.000000 loss_data: 0.146256 l_res: 0.000000 loss_res: 106524.864071 l_bc: 0.000000 loss_bc: 0.509534 val_loss: 1.415130\n",
      "320 loss: 0.143231 l_data: 1.000000 loss_data: 0.143231 l_res: 0.000000 loss_res: 111241.468822 l_bc: 0.000000 loss_bc: 0.511075 val_loss: 1.415618\n",
      "330 loss: 0.141803 l_data: 1.000000 loss_data: 0.141803 l_res: 0.000000 loss_res: 106184.163635 l_bc: 0.000000 loss_bc: 0.507383 val_loss: 1.411231\n",
      "340 loss: 0.139293 l_data: 1.000000 loss_data: 0.139293 l_res: 0.000000 loss_res: 108038.486447 l_bc: 0.000000 loss_bc: 0.505387 val_loss: 1.409906\n",
      "350 loss: 0.138737 l_data: 1.000000 loss_data: 0.138737 l_res: 0.000000 loss_res: 110040.359863 l_bc: 0.000000 loss_bc: 0.505290 val_loss: 1.411205\n",
      "360 loss: 0.138444 l_data: 1.000000 loss_data: 0.138444 l_res: 0.000000 loss_res: 107608.597704 l_bc: 0.000000 loss_bc: 0.498222 val_loss: 1.408582\n",
      "370 loss: 0.135947 l_data: 1.000000 loss_data: 0.135947 l_res: 0.000000 loss_res: 110290.921021 l_bc: 0.000000 loss_bc: 0.499764 val_loss: 1.407536\n",
      "380 loss: 0.131611 l_data: 1.000000 loss_data: 0.131611 l_res: 0.000000 loss_res: 111342.126059 l_bc: 0.000000 loss_bc: 0.498700 val_loss: 1.407336\n",
      "390 loss: 0.128088 l_data: 1.000000 loss_data: 0.128088 l_res: 0.000000 loss_res: 116446.563892 l_bc: 0.000000 loss_bc: 0.497538 val_loss: 1.407267\n",
      "400 loss: 0.128161 l_data: 1.000000 loss_data: 0.128161 l_res: 0.000000 loss_res: 119235.667206 l_bc: 0.000000 loss_bc: 0.494886 val_loss: 1.405639\n",
      "410 loss: 0.123751 l_data: 1.000000 loss_data: 0.123751 l_res: 0.000000 loss_res: 110939.328198 l_bc: 0.000000 loss_bc: 0.494453 val_loss: 1.406196\n",
      "420 loss: 0.119007 l_data: 1.000000 loss_data: 0.119007 l_res: 0.000000 loss_res: 111469.361131 l_bc: 0.000000 loss_bc: 0.489635 val_loss: 1.406408\n",
      "430 loss: 0.123840 l_data: 1.000000 loss_data: 0.123840 l_res: 0.000000 loss_res: 117110.622365 l_bc: 0.000000 loss_bc: 0.491067 val_loss: 1.400906\n",
      "440 loss: 0.119401 l_data: 1.000000 loss_data: 0.119401 l_res: 0.000000 loss_res: 112742.102668 l_bc: 0.000000 loss_bc: 0.487443 val_loss: 1.406660\n",
      "450 loss: 0.118428 l_data: 1.000000 loss_data: 0.118428 l_res: 0.000000 loss_res: 111111.430566 l_bc: 0.000000 loss_bc: 0.489333 val_loss: 1.404966\n",
      "460 loss: 0.116104 l_data: 1.000000 loss_data: 0.116104 l_res: 0.000000 loss_res: 110752.316966 l_bc: 0.000000 loss_bc: 0.487717 val_loss: 1.404247\n",
      "470 loss: 0.116993 l_data: 1.000000 loss_data: 0.116993 l_res: 0.000000 loss_res: 111188.404443 l_bc: 0.000000 loss_bc: 0.486052 val_loss: 1.403196\n",
      "480 loss: 0.112875 l_data: 1.000000 loss_data: 0.112875 l_res: 0.000000 loss_res: 108120.728637 l_bc: 0.000000 loss_bc: 0.484189 val_loss: 1.405072\n",
      "490 loss: 0.108975 l_data: 1.000000 loss_data: 0.108975 l_res: 0.000000 loss_res: 108292.976621 l_bc: 0.000000 loss_bc: 0.481962 val_loss: 1.401820\n",
      "500 loss: 0.110304 l_data: 1.000000 loss_data: 0.110304 l_res: 0.000000 loss_res: 114160.889610 l_bc: 0.000000 loss_bc: 0.481710 val_loss: 1.405915\n",
      "510 loss: 0.109220 l_data: 1.000000 loss_data: 0.109220 l_res: 0.000000 loss_res: 112227.937425 l_bc: 0.000000 loss_bc: 0.481705 val_loss: 1.403832\n",
      "520 loss: 0.106103 l_data: 1.000000 loss_data: 0.106103 l_res: 0.000000 loss_res: 111700.690328 l_bc: 0.000000 loss_bc: 0.482709 val_loss: 1.407276\n",
      "530 loss: 0.108257 l_data: 1.000000 loss_data: 0.108257 l_res: 0.000000 loss_res: 116317.764603 l_bc: 0.000000 loss_bc: 0.476248 val_loss: 1.405354\n",
      "540 loss: 0.106527 l_data: 1.000000 loss_data: 0.106527 l_res: 0.000000 loss_res: 111460.166070 l_bc: 0.000000 loss_bc: 0.474786 val_loss: 1.405075\n",
      "550 loss: 0.104591 l_data: 1.000000 loss_data: 0.104591 l_res: 0.000000 loss_res: 113801.707476 l_bc: 0.000000 loss_bc: 0.474209 val_loss: 1.407464\n",
      "560 loss: 0.105583 l_data: 1.000000 loss_data: 0.105583 l_res: 0.000000 loss_res: 113778.202367 l_bc: 0.000000 loss_bc: 0.471330 val_loss: 1.405979\n",
      "570 loss: 0.103147 l_data: 1.000000 loss_data: 0.103147 l_res: 0.000000 loss_res: 110298.667902 l_bc: 0.000000 loss_bc: 0.471343 val_loss: 1.408412\n",
      "580 loss: 0.097838 l_data: 1.000000 loss_data: 0.097838 l_res: 0.000000 loss_res: 113897.367458 l_bc: 0.000000 loss_bc: 0.469030 val_loss: 1.408486\n",
      "590 loss: 0.102277 l_data: 1.000000 loss_data: 0.102277 l_res: 0.000000 loss_res: 113047.162503 l_bc: 0.000000 loss_bc: 0.468107 val_loss: 1.409744\n",
      "600 loss: 0.100838 l_data: 1.000000 loss_data: 0.100838 l_res: 0.000000 loss_res: 114331.616846 l_bc: 0.000000 loss_bc: 0.465931 val_loss: 1.411014\n",
      "610 loss: 0.097097 l_data: 1.000000 loss_data: 0.097097 l_res: 0.000000 loss_res: 114835.976736 l_bc: 0.000000 loss_bc: 0.465164 val_loss: 1.411571\n",
      "620 loss: 0.096927 l_data: 1.000000 loss_data: 0.096927 l_res: 0.000000 loss_res: 109298.640872 l_bc: 0.000000 loss_bc: 0.464799 val_loss: 1.413537\n",
      "630 loss: 0.095603 l_data: 1.000000 loss_data: 0.095603 l_res: 0.000000 loss_res: 110508.307598 l_bc: 0.000000 loss_bc: 0.461931 val_loss: 1.415072\n",
      "640 loss: 0.096880 l_data: 1.000000 loss_data: 0.096880 l_res: 0.000000 loss_res: 110547.531060 l_bc: 0.000000 loss_bc: 0.462247 val_loss: 1.412350\n",
      "650 loss: 0.091118 l_data: 1.000000 loss_data: 0.091118 l_res: 0.000000 loss_res: 109001.771209 l_bc: 0.000000 loss_bc: 0.457542 val_loss: 1.415902\n",
      "660 loss: 0.094614 l_data: 1.000000 loss_data: 0.094614 l_res: 0.000000 loss_res: 116313.727649 l_bc: 0.000000 loss_bc: 0.458449 val_loss: 1.416995\n",
      "670 loss: 0.092499 l_data: 1.000000 loss_data: 0.092499 l_res: 0.000000 loss_res: 113418.813672 l_bc: 0.000000 loss_bc: 0.456584 val_loss: 1.419193\n",
      "680 loss: 0.090796 l_data: 1.000000 loss_data: 0.090796 l_res: 0.000000 loss_res: 116090.801903 l_bc: 0.000000 loss_bc: 0.453436 val_loss: 1.418837\n",
      "690 loss: 0.091208 l_data: 1.000000 loss_data: 0.091208 l_res: 0.000000 loss_res: 108340.996847 l_bc: 0.000000 loss_bc: 0.455015 val_loss: 1.421951\n",
      "700 loss: 0.087719 l_data: 1.000000 loss_data: 0.087719 l_res: 0.000000 loss_res: 109892.798085 l_bc: 0.000000 loss_bc: 0.452768 val_loss: 1.422300\n",
      "710 loss: 0.089945 l_data: 1.000000 loss_data: 0.089945 l_res: 0.000000 loss_res: 114797.496048 l_bc: 0.000000 loss_bc: 0.452998 val_loss: 1.424962\n",
      "720 loss: 0.086706 l_data: 1.000000 loss_data: 0.086706 l_res: 0.000000 loss_res: 109989.019522 l_bc: 0.000000 loss_bc: 0.451741 val_loss: 1.427306\n",
      "730 loss: 0.085354 l_data: 1.000000 loss_data: 0.085354 l_res: 0.000000 loss_res: 114011.788818 l_bc: 0.000000 loss_bc: 0.447644 val_loss: 1.427735\n",
      "740 loss: 0.082768 l_data: 1.000000 loss_data: 0.082768 l_res: 0.000000 loss_res: 113232.145674 l_bc: 0.000000 loss_bc: 0.448308 val_loss: 1.429625\n",
      "750 loss: 0.085199 l_data: 1.000000 loss_data: 0.085199 l_res: 0.000000 loss_res: 112680.579768 l_bc: 0.000000 loss_bc: 0.448147 val_loss: 1.432588\n",
      "760 loss: 0.081960 l_data: 1.000000 loss_data: 0.081960 l_res: 0.000000 loss_res: 110044.805151 l_bc: 0.000000 loss_bc: 0.445265 val_loss: 1.434161\n",
      "770 loss: 0.082619 l_data: 1.000000 loss_data: 0.082619 l_res: 0.000000 loss_res: 109826.416061 l_bc: 0.000000 loss_bc: 0.444475 val_loss: 1.435758\n",
      "780 loss: 0.080678 l_data: 1.000000 loss_data: 0.080678 l_res: 0.000000 loss_res: 113517.683536 l_bc: 0.000000 loss_bc: 0.442361 val_loss: 1.440762\n",
      "790 loss: 0.082049 l_data: 1.000000 loss_data: 0.082049 l_res: 0.000000 loss_res: 112643.975187 l_bc: 0.000000 loss_bc: 0.442791 val_loss: 1.441690\n",
      "800 loss: 0.079370 l_data: 1.000000 loss_data: 0.079370 l_res: 0.000000 loss_res: 112314.185168 l_bc: 0.000000 loss_bc: 0.442070 val_loss: 1.442256\n",
      "810 loss: 0.079316 l_data: 1.000000 loss_data: 0.079316 l_res: 0.000000 loss_res: 116935.963465 l_bc: 0.000000 loss_bc: 0.440025 val_loss: 1.445091\n",
      "820 loss: 0.080259 l_data: 1.000000 loss_data: 0.080259 l_res: 0.000000 loss_res: 114414.167389 l_bc: 0.000000 loss_bc: 0.440766 val_loss: 1.447677\n",
      "830 loss: 0.080620 l_data: 1.000000 loss_data: 0.080620 l_res: 0.000000 loss_res: 114076.849193 l_bc: 0.000000 loss_bc: 0.437398 val_loss: 1.448985\n",
      "840 loss: 0.077234 l_data: 1.000000 loss_data: 0.077234 l_res: 0.000000 loss_res: 106282.909394 l_bc: 0.000000 loss_bc: 0.438994 val_loss: 1.451958\n",
      "850 loss: 0.078033 l_data: 1.000000 loss_data: 0.078033 l_res: 0.000000 loss_res: 115253.754641 l_bc: 0.000000 loss_bc: 0.437564 val_loss: 1.453510\n",
      "860 loss: 0.082462 l_data: 1.000000 loss_data: 0.082462 l_res: 0.000000 loss_res: 113115.052150 l_bc: 0.000000 loss_bc: 0.439362 val_loss: 1.459385\n",
      "870 loss: 0.076250 l_data: 1.000000 loss_data: 0.076250 l_res: 0.000000 loss_res: 114750.534004 l_bc: 0.000000 loss_bc: 0.437745 val_loss: 1.458583\n",
      "880 loss: 0.075600 l_data: 1.000000 loss_data: 0.075600 l_res: 0.000000 loss_res: 113016.609919 l_bc: 0.000000 loss_bc: 0.434558 val_loss: 1.462137\n",
      "890 loss: 0.074495 l_data: 1.000000 loss_data: 0.074495 l_res: 0.000000 loss_res: 111570.022890 l_bc: 0.000000 loss_bc: 0.435784 val_loss: 1.466272\n",
      "900 loss: 0.073749 l_data: 1.000000 loss_data: 0.073749 l_res: 0.000000 loss_res: 111746.934413 l_bc: 0.000000 loss_bc: 0.434382 val_loss: 1.467481\n",
      "910 loss: 0.075557 l_data: 1.000000 loss_data: 0.075557 l_res: 0.000000 loss_res: 112527.290030 l_bc: 0.000000 loss_bc: 0.430163 val_loss: 1.471087\n",
      "920 loss: 0.074242 l_data: 1.000000 loss_data: 0.074242 l_res: 0.000000 loss_res: 118188.859883 l_bc: 0.000000 loss_bc: 0.433154 val_loss: 1.473266\n",
      "930 loss: 0.071517 l_data: 1.000000 loss_data: 0.071517 l_res: 0.000000 loss_res: 113903.243539 l_bc: 0.000000 loss_bc: 0.431218 val_loss: 1.475704\n",
      "940 loss: 0.071579 l_data: 1.000000 loss_data: 0.071579 l_res: 0.000000 loss_res: 112105.104748 l_bc: 0.000000 loss_bc: 0.432244 val_loss: 1.478700\n",
      "950 loss: 0.073543 l_data: 1.000000 loss_data: 0.073543 l_res: 0.000000 loss_res: 111371.620815 l_bc: 0.000000 loss_bc: 0.434419 val_loss: 1.482610\n",
      "960 loss: 0.072361 l_data: 1.000000 loss_data: 0.072361 l_res: 0.000000 loss_res: 110800.384797 l_bc: 0.000000 loss_bc: 0.430971 val_loss: 1.483596\n",
      "970 loss: 0.071610 l_data: 1.000000 loss_data: 0.071610 l_res: 0.000000 loss_res: 114165.640552 l_bc: 0.000000 loss_bc: 0.432926 val_loss: 1.487391\n",
      "980 loss: 0.071424 l_data: 1.000000 loss_data: 0.071424 l_res: 0.000000 loss_res: 109798.511334 l_bc: 0.000000 loss_bc: 0.433025 val_loss: 1.489729\n",
      "990 loss: 0.069883 l_data: 1.000000 loss_data: 0.069883 l_res: 0.000000 loss_res: 114870.867842 l_bc: 0.000000 loss_bc: 0.433908 val_loss: 1.492960\n",
      "1000 loss: 0.072574 l_data: 1.000000 loss_data: 0.072574 l_res: 0.000000 loss_res: 113998.889663 l_bc: 0.000000 loss_bc: 0.432340 val_loss: 1.495937\n",
      "1010 loss: 0.069403 l_data: 1.000000 loss_data: 0.069403 l_res: 0.000000 loss_res: 116417.058791 l_bc: 0.000000 loss_bc: 0.432157 val_loss: 1.499024\n",
      "1020 loss: 0.068344 l_data: 1.000000 loss_data: 0.068344 l_res: 0.000000 loss_res: 113719.973081 l_bc: 0.000000 loss_bc: 0.431533 val_loss: 1.502146\n",
      "1030 loss: 0.072966 l_data: 1.000000 loss_data: 0.072966 l_res: 0.000000 loss_res: 114203.870042 l_bc: 0.000000 loss_bc: 0.432999 val_loss: 1.502216\n",
      "1040 loss: 0.067586 l_data: 1.000000 loss_data: 0.067586 l_res: 0.000000 loss_res: 112556.114875 l_bc: 0.000000 loss_bc: 0.432334 val_loss: 1.506942\n",
      "1050 loss: 0.070631 l_data: 1.000000 loss_data: 0.070631 l_res: 0.000000 loss_res: 115914.510955 l_bc: 0.000000 loss_bc: 0.431396 val_loss: 1.512087\n",
      "1060 loss: 0.065889 l_data: 1.000000 loss_data: 0.065889 l_res: 0.000000 loss_res: 115349.931271 l_bc: 0.000000 loss_bc: 0.432243 val_loss: 1.513859\n",
      "1070 loss: 0.065023 l_data: 1.000000 loss_data: 0.065023 l_res: 0.000000 loss_res: 121023.688791 l_bc: 0.000000 loss_bc: 0.433283 val_loss: 1.515763\n",
      "1080 loss: 0.068949 l_data: 1.000000 loss_data: 0.068949 l_res: 0.000000 loss_res: 112057.684055 l_bc: 0.000000 loss_bc: 0.431431 val_loss: 1.519393\n",
      "1090 loss: 0.066124 l_data: 1.000000 loss_data: 0.066124 l_res: 0.000000 loss_res: 113431.713243 l_bc: 0.000000 loss_bc: 0.433081 val_loss: 1.519925\n",
      "1100 loss: 0.063894 l_data: 1.000000 loss_data: 0.063894 l_res: 0.000000 loss_res: 116261.362151 l_bc: 0.000000 loss_bc: 0.432820 val_loss: 1.523829\n",
      "1110 loss: 0.066716 l_data: 1.000000 loss_data: 0.066716 l_res: 0.000000 loss_res: 115115.218382 l_bc: 0.000000 loss_bc: 0.434651 val_loss: 1.527344\n",
      "1120 loss: 0.065957 l_data: 1.000000 loss_data: 0.065957 l_res: 0.000000 loss_res: 114454.282792 l_bc: 0.000000 loss_bc: 0.432523 val_loss: 1.530301\n",
      "1130 loss: 0.062375 l_data: 1.000000 loss_data: 0.062375 l_res: 0.000000 loss_res: 111025.745796 l_bc: 0.000000 loss_bc: 0.434500 val_loss: 1.533058\n",
      "1140 loss: 0.064937 l_data: 1.000000 loss_data: 0.064937 l_res: 0.000000 loss_res: 111998.464064 l_bc: 0.000000 loss_bc: 0.432282 val_loss: 1.535221\n",
      "1150 loss: 0.062952 l_data: 1.000000 loss_data: 0.062952 l_res: 0.000000 loss_res: 115112.738726 l_bc: 0.000000 loss_bc: 0.434448 val_loss: 1.537952\n",
      "1160 loss: 0.063263 l_data: 1.000000 loss_data: 0.063263 l_res: 0.000000 loss_res: 113825.964385 l_bc: 0.000000 loss_bc: 0.433591 val_loss: 1.540497\n",
      "1170 loss: 0.061562 l_data: 1.000000 loss_data: 0.061562 l_res: 0.000000 loss_res: 114413.896231 l_bc: 0.000000 loss_bc: 0.432269 val_loss: 1.543088\n",
      "1180 loss: 0.061102 l_data: 1.000000 loss_data: 0.061102 l_res: 0.000000 loss_res: 110581.634819 l_bc: 0.000000 loss_bc: 0.433086 val_loss: 1.546317\n",
      "1190 loss: 0.060415 l_data: 1.000000 loss_data: 0.060415 l_res: 0.000000 loss_res: 110531.142880 l_bc: 0.000000 loss_bc: 0.433314 val_loss: 1.548863\n",
      "1200 loss: 0.062015 l_data: 1.000000 loss_data: 0.062015 l_res: 0.000000 loss_res: 107252.452355 l_bc: 0.000000 loss_bc: 0.435261 val_loss: 1.550206\n",
      "1210 loss: 0.059115 l_data: 1.000000 loss_data: 0.059115 l_res: 0.000000 loss_res: 107982.095815 l_bc: 0.000000 loss_bc: 0.433754 val_loss: 1.554541\n",
      "1220 loss: 0.060353 l_data: 1.000000 loss_data: 0.060353 l_res: 0.000000 loss_res: 116597.305415 l_bc: 0.000000 loss_bc: 0.434724 val_loss: 1.557955\n",
      "1230 loss: 0.059720 l_data: 1.000000 loss_data: 0.059720 l_res: 0.000000 loss_res: 115358.412969 l_bc: 0.000000 loss_bc: 0.434607 val_loss: 1.559439\n",
      "1240 loss: 0.060811 l_data: 1.000000 loss_data: 0.060811 l_res: 0.000000 loss_res: 113016.389733 l_bc: 0.000000 loss_bc: 0.435119 val_loss: 1.559827\n",
      "1250 loss: 0.058550 l_data: 1.000000 loss_data: 0.058550 l_res: 0.000000 loss_res: 111066.269093 l_bc: 0.000000 loss_bc: 0.435567 val_loss: 1.565173\n",
      "1260 loss: 0.060340 l_data: 1.000000 loss_data: 0.060340 l_res: 0.000000 loss_res: 113203.672837 l_bc: 0.000000 loss_bc: 0.435748 val_loss: 1.565860\n",
      "1270 loss: 0.057548 l_data: 1.000000 loss_data: 0.057548 l_res: 0.000000 loss_res: 106097.680590 l_bc: 0.000000 loss_bc: 0.436089 val_loss: 1.568519\n"
     ]
    },
    {
     "ename": "KeyboardInterrupt",
     "evalue": "",
     "output_type": "error",
     "traceback": [
      "\u001b[0;31m---------------------------------------------------------------------------\u001b[0m",
      "\u001b[0;31mKeyboardInterrupt\u001b[0m                         Traceback (most recent call last)",
      "\u001b[1;32m/home/nils/workspace/MA_GNN/Code/Untitled-7.ipynb Cell 22\u001b[0m in \u001b[0;36m<cell line: 14>\u001b[0;34m()\u001b[0m\n\u001b[1;32m     <a href='vscode-notebook-cell://wsl%2Bubuntu20.04lts/home/nils/workspace/MA_GNN/Code/Untitled-7.ipynb#ch0000033vscode-remote?line=20'>21</a>\u001b[0m l_bc \u001b[39m=\u001b[39m \u001b[39m0.\u001b[39m\n\u001b[1;32m     <a href='vscode-notebook-cell://wsl%2Bubuntu20.04lts/home/nils/workspace/MA_GNN/Code/Untitled-7.ipynb#ch0000033vscode-remote?line=21'>22</a>\u001b[0m l_data \u001b[39m=\u001b[39m \u001b[39m1\u001b[39m\n\u001b[0;32m---> <a href='vscode-notebook-cell://wsl%2Bubuntu20.04lts/home/nils/workspace/MA_GNN/Code/Untitled-7.ipynb#ch0000033vscode-remote?line=22'>23</a>\u001b[0m loss, loss_data, loss_res, loss_bc \u001b[39m=\u001b[39m model\u001b[39m.\u001b[39;49mcompute_loss(train_data, l_data, l_res\u001b[39m=\u001b[39;49ml_res, l_bc\u001b[39m=\u001b[39;49ml_bc)  \u001b[39m# type: ignore\u001b[39;00m\n\u001b[1;32m     <a href='vscode-notebook-cell://wsl%2Bubuntu20.04lts/home/nils/workspace/MA_GNN/Code/Untitled-7.ipynb#ch0000033vscode-remote?line=23'>24</a>\u001b[0m loss\u001b[39m.\u001b[39mbackward()\n\u001b[1;32m     <a href='vscode-notebook-cell://wsl%2Bubuntu20.04lts/home/nils/workspace/MA_GNN/Code/Untitled-7.ipynb#ch0000033vscode-remote?line=24'>25</a>\u001b[0m optimizer\u001b[39m.\u001b[39mstep()\n",
      "File \u001b[0;32m~/workspace/MA_GNN/Code/PIGNN_Model_v2.py:500\u001b[0m, in \u001b[0;36mPIGNN_RANS.compute_loss\u001b[0;34m(self, data, l_data, l_res, l_bc)\u001b[0m\n\u001b[1;32m    497\u001b[0m \u001b[39mdef\u001b[39;00m \u001b[39mcompute_loss\u001b[39m(\u001b[39mself\u001b[39m, data, l_data\u001b[39m=\u001b[39m\u001b[39m1\u001b[39m, l_res\u001b[39m=\u001b[39m\u001b[39m0.1\u001b[39m, l_bc\u001b[39m=\u001b[39m\u001b[39m0.1\u001b[39m):\n\u001b[1;32m    498\u001b[0m     h_nodes \u001b[39m=\u001b[39m \u001b[39mself\u001b[39m\u001b[39m.\u001b[39mcompute_graph_latents(data)\n\u001b[0;32m--> 500\u001b[0m     h_data \u001b[39m=\u001b[39m \u001b[39mself\u001b[39;49m\u001b[39m.\u001b[39;49minterpolate_latents(\n\u001b[1;32m    501\u001b[0m         data\u001b[39m.\u001b[39;49mx_data,\n\u001b[1;32m    502\u001b[0m         h_nodes,\n\u001b[1;32m    503\u001b[0m         data\u001b[39m.\u001b[39;49mnode_lvls,\n\u001b[1;32m    504\u001b[0m         data\u001b[39m.\u001b[39;49mx_data_simplex_indices,\n\u001b[1;32m    505\u001b[0m         data\u001b[39m.\u001b[39;49msimplex_transforms,\n\u001b[1;32m    506\u001b[0m         data\u001b[39m.\u001b[39;49mx_data_simplex_node_ids,\n\u001b[1;32m    507\u001b[0m     )\n\u001b[1;32m    508\u001b[0m     \u001b[39m# u_data_pred = self.output(h_data)\u001b[39;00m\n\u001b[1;32m    509\u001b[0m     \u001b[39m# loss_data = F.mse_loss(u_data_pred, data.u_data)\u001b[39;00m\n\u001b[1;32m    510\u001b[0m \n\u001b[0;32m   (...)\u001b[0m\n\u001b[1;32m    518\u001b[0m \n\u001b[1;32m    519\u001b[0m     \u001b[39m# u_data_pred = self.output(h_data, mean=data.qois_mean, std=data.qois_std)\u001b[39;00m\n\u001b[1;32m    520\u001b[0m     u_data_pred_scaled \u001b[39m=\u001b[39m \u001b[39mself\u001b[39m\u001b[39m.\u001b[39moutput(h_data)\n",
      "File \u001b[0;32m~/workspace/MA_GNN/Code/PIGNN_Model_v2.py:254\u001b[0m, in \u001b[0;36mPIGNN_RANS.interpolate_latents\u001b[0;34m(self, x_out, h_nodes, node_lvls, simplex_indices, simplex_transforms, simplex_node_ids)\u001b[0m\n\u001b[1;32m    244\u001b[0m \u001b[39mdef\u001b[39;00m \u001b[39minterpolate_latents\u001b[39m(\n\u001b[1;32m    245\u001b[0m     \u001b[39mself\u001b[39m,\n\u001b[1;32m    246\u001b[0m     x_out,\n\u001b[0;32m   (...)\u001b[0m\n\u001b[1;32m    251\u001b[0m     simplex_node_ids,\n\u001b[1;32m    252\u001b[0m ):\n\u001b[0;32m--> 254\u001b[0m     lvls \u001b[39m=\u001b[39m torch\u001b[39m.\u001b[39;49munique(node_lvls)\u001b[39m.\u001b[39mtolist()\n\u001b[1;32m    255\u001b[0m     h_interp \u001b[39m=\u001b[39m torch\u001b[39m.\u001b[39mzeros(\n\u001b[1;32m    256\u001b[0m         (\u001b[39mlen\u001b[39m(x_out), \u001b[39mlen\u001b[39m(lvls), \u001b[39mself\u001b[39m\u001b[39m.\u001b[39mlatent_dim), device\u001b[39m=\u001b[39m\u001b[39mself\u001b[39m\u001b[39m.\u001b[39mdevice\n\u001b[1;32m    257\u001b[0m     )\n\u001b[1;32m    258\u001b[0m     \u001b[39mfor\u001b[39;00m lvl \u001b[39min\u001b[39;00m lvls:\n",
      "File \u001b[0;32m~/.local/lib/python3.8/site-packages/torch/_jit_internal.py:422\u001b[0m, in \u001b[0;36mboolean_dispatch.<locals>.fn\u001b[0;34m(*args, **kwargs)\u001b[0m\n\u001b[1;32m    420\u001b[0m     \u001b[39mreturn\u001b[39;00m if_true(\u001b[39m*\u001b[39margs, \u001b[39m*\u001b[39m\u001b[39m*\u001b[39mkwargs)\n\u001b[1;32m    421\u001b[0m \u001b[39melse\u001b[39;00m:\n\u001b[0;32m--> 422\u001b[0m     \u001b[39mreturn\u001b[39;00m if_false(\u001b[39m*\u001b[39;49margs, \u001b[39m*\u001b[39;49m\u001b[39m*\u001b[39;49mkwargs)\n",
      "File \u001b[0;32m~/.local/lib/python3.8/site-packages/torch/_jit_internal.py:422\u001b[0m, in \u001b[0;36mboolean_dispatch.<locals>.fn\u001b[0;34m(*args, **kwargs)\u001b[0m\n\u001b[1;32m    420\u001b[0m     \u001b[39mreturn\u001b[39;00m if_true(\u001b[39m*\u001b[39margs, \u001b[39m*\u001b[39m\u001b[39m*\u001b[39mkwargs)\n\u001b[1;32m    421\u001b[0m \u001b[39melse\u001b[39;00m:\n\u001b[0;32m--> 422\u001b[0m     \u001b[39mreturn\u001b[39;00m if_false(\u001b[39m*\u001b[39;49margs, \u001b[39m*\u001b[39;49m\u001b[39m*\u001b[39;49mkwargs)\n",
      "File \u001b[0;32m~/.local/lib/python3.8/site-packages/torch/functional.py:946\u001b[0m, in \u001b[0;36m_return_output\u001b[0;34m(input, sorted, return_inverse, return_counts, dim)\u001b[0m\n\u001b[1;32m    943\u001b[0m \u001b[39mif\u001b[39;00m has_torch_function_unary(\u001b[39minput\u001b[39m):\n\u001b[1;32m    944\u001b[0m     \u001b[39mreturn\u001b[39;00m _unique_impl(\u001b[39minput\u001b[39m, \u001b[39msorted\u001b[39m, return_inverse, return_counts, dim)\n\u001b[0;32m--> 946\u001b[0m output, _, _ \u001b[39m=\u001b[39m _unique_impl(\u001b[39minput\u001b[39;49m, \u001b[39msorted\u001b[39;49m, return_inverse, return_counts, dim)\n\u001b[1;32m    947\u001b[0m \u001b[39mreturn\u001b[39;00m output\n",
      "File \u001b[0;32m~/.local/lib/python3.8/site-packages/torch/functional.py:860\u001b[0m, in \u001b[0;36m_unique_impl\u001b[0;34m(input, sorted, return_inverse, return_counts, dim)\u001b[0m\n\u001b[1;32m    852\u001b[0m     output, inverse_indices, counts \u001b[39m=\u001b[39m _VF\u001b[39m.\u001b[39munique_dim(\n\u001b[1;32m    853\u001b[0m         \u001b[39minput\u001b[39m,\n\u001b[1;32m    854\u001b[0m         dim,\n\u001b[0;32m   (...)\u001b[0m\n\u001b[1;32m    857\u001b[0m         return_counts\u001b[39m=\u001b[39mreturn_counts,\n\u001b[1;32m    858\u001b[0m     )\n\u001b[1;32m    859\u001b[0m \u001b[39melse\u001b[39;00m:\n\u001b[0;32m--> 860\u001b[0m     output, inverse_indices, counts \u001b[39m=\u001b[39m torch\u001b[39m.\u001b[39;49m_unique2(\n\u001b[1;32m    861\u001b[0m         \u001b[39minput\u001b[39;49m,\n\u001b[1;32m    862\u001b[0m         \u001b[39msorted\u001b[39;49m\u001b[39m=\u001b[39;49m\u001b[39msorted\u001b[39;49m,\n\u001b[1;32m    863\u001b[0m         return_inverse\u001b[39m=\u001b[39;49mreturn_inverse,\n\u001b[1;32m    864\u001b[0m         return_counts\u001b[39m=\u001b[39;49mreturn_counts,\n\u001b[1;32m    865\u001b[0m     )\n\u001b[1;32m    866\u001b[0m \u001b[39mreturn\u001b[39;00m output, inverse_indices, counts\n",
      "\u001b[0;31mKeyboardInterrupt\u001b[0m: "
     ]
    }
   ],
   "source": [
    "# store = pd.HDFStore('store.h5')\n",
    "\n",
    "loss_hist = []\n",
    "res_history = []\n",
    "\n",
    "# u_out_validation = qois_scaled[data_inds_validation].to(device)[:,:4]\n",
    "# u_out_validation = qois[data_inds_validation].to(device)\n",
    "\n",
    "print(\"Starting Training\")\n",
    "\n",
    "# break\n",
    "\n",
    "model.train()\n",
    "for epoch in range(10_001):\n",
    "    for i, train_data in enumerate(loader):\n",
    "        optimizer.zero_grad()\n",
    "        model.train()\n",
    "        # out = model(data)\n",
    "        # loss = F.mse_loss(out, data.y)\n",
    "        l_res = 0.00\n",
    "        l_bc = 0.\n",
    "        l_data = 1\n",
    "        loss, loss_data, loss_res, loss_bc = model.compute_loss(train_data, l_data, l_res=l_res, l_bc=l_bc)  # type: ignore\n",
    "        loss.backward()\n",
    "        optimizer.step()\n",
    "\n",
    "        model.eval()\n",
    "        u_out_validation = qois_scaled[train_data.inds_validation].to(device)[:,:]\n",
    "\n",
    "        u_pred = model(train_data)\n",
    "        u_pred_scaled = (u_pred - qois_mean.to(device)) / qois_std.to(device)\n",
    "        val_loss = F.mse_loss(u_pred_scaled.detach()[:,:], u_out_validation).detach()\n",
    "        # val_loss = 0\n",
    "\n",
    "        loss_hist.append(loss.detach())\n",
    "\n",
    "        row_df = pd.DataFrame(columns=columns, data=[[\n",
    "            int(epoch),\n",
    "            str(train_data.data_dir),\n",
    "            float(loss.detach().cpu().numpy()),\n",
    "            float(l_data), float(loss_data.detach().cpu().numpy()),\n",
    "            float(l_res), float(loss_res.detach().cpu().numpy()),\n",
    "            float(l_bc), float(loss_bc.detach().cpu().numpy()),\n",
    "            float(val_loss.cpu().numpy(),) \n",
    "        ]])\n",
    "        # store.append('results_df', row_df)\n",
    "\n",
    "        results_df = pd.concat((results_df, row_df))\n",
    "\n",
    "        if epoch % 5 == 0 and i == 0:\n",
    "            loss_hist = torch.tensor(loss_hist)\n",
    "            l_res = 1.\n",
    "            l_bc = 1.\n",
    "            l_data = 1\n",
    "            # print(results_df.groupby(\"epoch\").mean().tail(1))\n",
    "            \n",
    "            # print(epoch, \n",
    "            #         \"val: {:.6f}\".format(val_loss.cpu().numpy()), \n",
    "            #         \"mean: {:.6f}\".format(torch.mean(loss_hist).cpu().numpy()), \n",
    "            #         \"std: {:.6f}\".format(torch.std(loss_hist).cpu().numpy()), \n",
    "            #         \"curr: {:.6f}\".format(loss.detach().cpu().numpy()), \n",
    "            #         \"data: {:.4f}\".format(l_data*loss_data.detach().cpu().numpy()), \n",
    "            #         \"res: {:.4f}\".format(l_res*loss_res.detach().cpu().numpy()), \n",
    "            #         \"bc: {:.4f}\".format(l_bc*loss_bc.detach().cpu().numpy()),\n",
    "            #         # \"r1_l1: {:.4f}\".format(model._r1_l1.detach().cpu().numpy()),\n",
    "            #         # \"r2_l1: {:.4f}\".format(model._r2_l1.detach().cpu().numpy()),\n",
    "            #         # \"r3_l1: {:.4f}\".format(model._r3_l1.detach().cpu().numpy()),\n",
    "            #         # \"r1_l2: {:.4f}\".format(model._r1_l2.detach().cpu().numpy()),\n",
    "            #         # \"r2_l2: {:.4f}\".format(model._r2_l2.detach().cpu().numpy()),\n",
    "            #         # \"r3_l2: {:.4f}\".format(model._r3_l2.detach().cpu().numpy()),\n",
    "            # )\n",
    "            loss_hist = []\n",
    "    if epoch % 10 == 0:\n",
    "        # print(epoch, \" \".join([f\"{k}: {v.values[0]:.6f}\" for k,v in results_df.groupby(\"epoch\").mean().tail(1).items()]))\n",
    "        print(epoch, \" \".join([f\"{k}: {v:.6f}\" for k,v in results_df[results_df[\"epoch\"]==epoch].mean().items()][1:]))\n",
    "    #     results_df.to_excel(f\"training_log/pignn_v2_training_log_epoch{epoch}.xlsx\")\n",
    "    #     results_df.to_csv(f\"training_log/pignn_v2_training_log_epoch{epoch}.csv\")\n",
    "    results_df[results_df[\"epoch\"]==epoch].to_excel(f\"training_log/pignn_v2_training_log_epoch{epoch}.xlsx\")\n",
    "\n",
    "    \n",
    "\n",
    "        "
   ]
  },
  {
   "cell_type": "code",
   "execution_count": 21,
   "metadata": {},
   "outputs": [
    {
     "name": "stdout",
     "output_type": "stream",
     "text": [
      "Saving model as pignn_model_008.pt\n"
     ]
    }
   ],
   "source": [
    "s = \"pignn_model_\"\n",
    "existing_models = [fn[12:15] for fn in os.listdir() if fn.startswith(s)]\n",
    "if existing_models:\n",
    "    new_model_name = s + \"{:03d}\".format(int(sorted(existing_models)[-1]) + 1) + \".pt\"\n",
    "else:\n",
    "    new_model_name = s + \"000\" + \".pt\"\n",
    "\n",
    "print(\"Saving model as\", new_model_name)\n",
    "torch.save(model.state_dict(), new_model_name)\n"
   ]
  },
  {
   "cell_type": "code",
   "execution_count": null,
   "metadata": {},
   "outputs": [],
   "source": [
    "row_df.dtypes"
   ]
  },
  {
   "cell_type": "code",
   "execution_count": null,
   "metadata": {},
   "outputs": [],
   "source": [
    "store.info()"
   ]
  },
  {
   "cell_type": "code",
   "execution_count": null,
   "metadata": {},
   "outputs": [],
   "source": [
    "store.get(\"results_df\")"
   ]
  },
  {
   "cell_type": "code",
   "execution_count": null,
   "metadata": {},
   "outputs": [],
   "source": [
    "[(k,v.values[0]) for k,v in results_df.groupby(\"epoch\").mean().tail(1).items()]"
   ]
  },
  {
   "cell_type": "code",
   "execution_count": null,
   "metadata": {},
   "outputs": [],
   "source": [
    "z_type = model.node_type_emb(train_data.node_type_ids)\n",
    "z_lvl = model.node_lvl_emb(train_data.node_lvls)\n",
    "\n",
    "# print(z_type.shape, z_lvl.shape, u_bc.shape)\n",
    "z0 = torch.cat((z_type, z_lvl, train_data.u_nodes, train_data.Ma.view(-1,1), train_data.Re.view(-1,1), train_data.AOA.view(-1,1)), dim=-1)\n",
    "# print(z0.shape)\n",
    "# z0 = torch.cat((z_type, z_lvl, u_bc, u_x_bc, u_xx_bc))\n",
    "h0 = model.initial_latent_mlp(z0)"
   ]
  },
  {
   "cell_type": "code",
   "execution_count": null,
   "metadata": {},
   "outputs": [],
   "source": [
    "z_type.shape, z_lvl.shape, train_data.u_nodes.shape"
   ]
  },
  {
   "cell_type": "code",
   "execution_count": null,
   "metadata": {},
   "outputs": [],
   "source": [
    "train_data.x_res_simplex_indices.shape"
   ]
  },
  {
   "cell_type": "code",
   "execution_count": null,
   "metadata": {},
   "outputs": [],
   "source": [
    "torch.zeros(2)[np.newaxis, :]"
   ]
  },
  {
   "cell_type": "code",
   "execution_count": null,
   "metadata": {},
   "outputs": [],
   "source": [
    "train_data.AOA.shape"
   ]
  },
  {
   "cell_type": "code",
   "execution_count": null,
   "metadata": {},
   "outputs": [],
   "source": [
    "train_data.node_type_ids.shape"
   ]
  },
  {
   "cell_type": "code",
   "execution_count": null,
   "metadata": {},
   "outputs": [],
   "source": [
    "h_nodes = model.compute_graph_latents(train_data)\n"
   ]
  },
  {
   "cell_type": "code",
   "execution_count": null,
   "metadata": {},
   "outputs": [],
   "source": [
    "train_data.Ma, train_data.Re"
   ]
  },
  {
   "cell_type": "code",
   "execution_count": null,
   "metadata": {},
   "outputs": [],
   "source": [
    "results_df[results_df[\"epoch\"]==3]"
   ]
  },
  {
   "cell_type": "code",
   "execution_count": null,
   "metadata": {},
   "outputs": [],
   "source": [
    "row_df.mean()"
   ]
  },
  {
   "cell_type": "code",
   "execution_count": null,
   "metadata": {},
   "outputs": [],
   "source": [
    "config[\"AOA\"], config[\"MACH_NUMBER\"]"
   ]
  },
  {
   "cell_type": "code",
   "execution_count": null,
   "metadata": {},
   "outputs": [],
   "source": [
    "Ma = float(config[\"MACH_NUMBER\"])\n",
    "AOA = float(config[\"AOA\"])\n",
    "\n",
    "kappa = 1.4\n",
    "R = 287.058\n",
    "T = 288.15\n",
    "\n",
    "v_ref = np.sqrt(kappa*R*T)*Ma\n",
    "v_ref_x = v_ref*np.cos(AOA/180.*np.pi)\n",
    "v_ref_y = v_ref*np.sin(AOA/180.*np.pi)\n",
    "\n",
    "v_ref, v_ref_x, v_ref_y"
   ]
  },
  {
   "cell_type": "code",
   "execution_count": null,
   "metadata": {},
   "outputs": [],
   "source": [
    "mu = 1.7893e-005 # viscosity\n",
    "Re = 6.5e+006\n",
    "\n",
    "rho_ref = Re*mu/v_ref\n",
    "\n",
    "rho_ref"
   ]
  },
  {
   "cell_type": "code",
   "execution_count": null,
   "metadata": {},
   "outputs": [],
   "source": []
  },
  {
   "cell_type": "code",
   "execution_count": null,
   "metadata": {},
   "outputs": [],
   "source": []
  },
  {
   "cell_type": "code",
   "execution_count": null,
   "metadata": {},
   "outputs": [],
   "source": [
    "data = train_data.clone().cpu()\n",
    "\n",
    "qoi_i = 5\n",
    "print(qoi_names)\n",
    "print(\"Selected:\", qoi_names[qoi_i])\n",
    "\n",
    "u_pred = model(train_data).detach()\n",
    "u_pred_scaled = (u_pred - data.qois_mean.to(device)) / data.qois_std.to(device)\n",
    "u_data_scaled = (data.u_data - data.qois_mean) / data.qois_std\n",
    "u_out_validation = qois_scaled[data.inds_validation]\n",
    "d_pred = u_pred_scaled.detach().clone().cpu()[:,qoi_i] - u_out_validation[:,qoi_i]\n",
    "print(d_pred.min(), d_pred.max(), d_pred.mean(), d_pred.median(), d_pred.std())\n",
    "\n",
    "# inds_res_bc = data.node_new_ids[data.u_res_bc_mask[:, qoi_i].abs() > 0]\n",
    "# u_res_bc_scaled = (data.u_res_bc[inds_res_bc] - data.qois_mean) / data.qois_std\n",
    "# x_res_bc = data.x_res_bc[inds_res_bc]\n",
    "\n",
    "h = model.compute_graph_latents(train_data)\n",
    "r1, r2, r3, sample_inds = model.compute_residuals(train_data, h, 1.0)\n",
    "r1 = r1.detach().cpu()\n",
    "r2 = r2.detach().cpu()\n",
    "r3 = r3.detach().cpu()\n",
    "\n",
    "zooms = [250, 100, 1]\n",
    "\n",
    "fig_width = 0.7 * 10\n",
    "fig_height = 0.7 * 6\n",
    "center = [0.5, 0.0]\n",
    "data_max = [100, 100]\n",
    "data_min = [-100, -100]\n",
    "data_width = data_max[0] - data_min[0]\n",
    "data_hwidth = data_max[1] - data_min[1]\n",
    "\n",
    "airfoil_points = mesh.points[mesh.cells[2].data[mesh.cell_data[\"su2:tag\"][2] == 1]]\n",
    "airfoil_points.shape\n",
    "\n",
    "\n",
    "fig, axes = plt.subplots(\n",
    "    4, len(zooms), figsize=(fig_width * len(zooms), fig_height * 4)\n",
    ")\n",
    "\n",
    "# for i, lvl in enumerate(lvls):\n",
    "for j, zoom in enumerate(zooms):\n",
    "\n",
    "    xmin = center[0] - data_hwidth / zoom\n",
    "    xmax = center[0] + data_hwidth / zoom\n",
    "    ymin = center[1] - data_hwidth / zoom * fig_height / fig_width\n",
    "    ymax = center[1] + data_hwidth / zoom * fig_height / fig_width\n",
    "    \n",
    "    sc0 = axes[0,j].scatter(data.x_out[:,0], data.x_out[:,1], c=u_pred_scaled.detach().clone().cpu()[:,qoi_i], vmin=-2, vmax=2)\n",
    "    \n",
    "    axes[0, j].plot(airfoil_points[:, :, 0], airfoil_points[:, :, 1], linestyle=\"-\", alpha=0.2)  # type: ignore\n",
    "\n",
    "    axes[0,j].set_xlim([xmin, xmax])  # type: ignore\n",
    "    axes[0,j].set_ylim([ymin, ymax])  # type: ignore\n",
    "\n",
    "    \n",
    "    axes[1,j].scatter(data.x_out[:,0], data.x_out[:,1], c=u_out_validation[:,qoi_i], vmin=-2, vmax=2)\n",
    "    axes[1,j].scatter(data.x_data[:,0], data.x_data[:,1], c=u_data_scaled[:,qoi_i], marker=\"d\", vmin=-2, vmax=2)\n",
    "    # axes[1,j].scatter(x_res_bc[:,0], x_res_bc[:,1], c=u_res_bc_scaled[:,qoi_i], marker=\"o\", vmin=-2, vmax=2)\n",
    "\n",
    "    axes[1, j].plot(airfoil_points[:, :, 0], airfoil_points[:, :, 1], linestyle=\"-\", alpha=0.2)  # type: ignore\n",
    "\n",
    "    axes[1,j].set_xlim([xmin, xmax])  # type: ignore\n",
    "    axes[1,j].set_ylim([ymin, ymax])  # type: ignore\n",
    "\n",
    "    # d_pred = u_pred_scaled.detach().clone().cpu()[:,0] - u_out_validation[:,0]\n",
    "    axes[2,j].scatter(data.x_out[:,0], data.x_out[:,1], c=d_pred, vmin=-2, vmax=2)\n",
    "    # print(d_pred.min(), d_pred.max(), d_pred.mean(), d_pred.median())\n",
    "\n",
    "    axes[2, j].plot(airfoil_points[:, :, 0], airfoil_points[:, :, 1], linestyle=\"-\", alpha=0.2)  # type: ignore\n",
    "\n",
    "    axes[2,j].set_xlim([xmin, xmax])  # type: ignore\n",
    "    axes[2,j].set_ylim([ymin, ymax])  # type: ignore\n",
    "\n",
    "    # r = np.log(r1.abs() + r2.abs() + r3.abs() + 1)\n",
    "    r = np.log(r1.pow(2) + r2.pow(2) + r3.pow(2) + 1)\n",
    "    # axes[3,j].scatter(data.x_res[sample_inds,0], data.x_res[sample_inds,1], c=np.log(r1**2 + 1), marker=\"d\", s=10, alpha=0.5)\n",
    "    axes[3,j].scatter(data.x_res[sample_inds,0], data.x_res[sample_inds,1], c=r, marker=\"d\", s=10, alpha=0.5)\n",
    "\n",
    "    axes[3, j].plot(airfoil_points[:, :, 0], airfoil_points[:, :, 1], linestyle=\"-\", alpha=0.2)  # type: ignore\n",
    "\n",
    "    axes[3,j].set_xlim([xmin, xmax])  # type: ignore\n",
    "    axes[3,j].set_ylim([ymin, ymax])  # type: ignore\n",
    "\n"
   ]
  }
 ],
 "metadata": {
  "kernelspec": {
   "display_name": "Python 3.8.13 ('ma_gnn_test')",
   "language": "python",
   "name": "python3"
  },
  "language_info": {
   "codemirror_mode": {
    "name": "ipython",
    "version": 3
   },
   "file_extension": ".py",
   "mimetype": "text/x-python",
   "name": "python",
   "nbconvert_exporter": "python",
   "pygments_lexer": "ipython3",
   "version": "3.8.13"
  },
  "orig_nbformat": 4,
  "vscode": {
   "interpreter": {
    "hash": "35b0fafcae1d6104164c2c900b4bc0738b55a81edd50cb65c0203d783da0749a"
   }
  }
 },
 "nbformat": 4,
 "nbformat_minor": 2
}
